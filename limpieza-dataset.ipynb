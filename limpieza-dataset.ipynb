{
 "cells": [
  {
   "cell_type": "code",
   "execution_count": 54,
   "metadata": {
    "collapsed": true,
    "pycharm": {
     "name": "#%%\n"
    }
   },
   "outputs": [],
   "source": [
    "import numpy as np\n",
    "import pandas as pd\n",
    "import seaborn as sns\n",
    "import matplotlib.pyplot as plt\n",
    "\n",
    "% matplotlib inline"
   ]
  },
  {
   "cell_type": "code",
   "execution_count": 5,
   "outputs": [
    {
     "data": {
      "text/plain": "                         id  start_date    end_date  created_on    latitud  \\\n0  XZq2dFGxBiboHY3Bo/tqlw==  2021-09-09  2022-01-27  2021-09-09 -38.957632   \n1  8afoK+yMH/rnnlYiktwgNA==  2021-09-09  2021-10-23  2021-09-09 -34.888878   \n2  iVaG5rBB47dd1Ya4BMXREA==  2021-09-09  2022-03-09  2021-09-09 -32.488717   \n3  QE1QVMWKAHWkd0qT0FtPWA==  2021-09-09  2022-01-27  2021-09-09 -34.900165   \n4  tJ5lSk7IysG/71OGhacNZA==  2021-09-09  2022-01-27  2021-09-09 -38.954528   \n\n    longitud    place_l2 place_l3 place_l4 place_l5  place_l6 operation  \\\n0 -68.105443     Neuquén      NaN      NaN      NaN       NaN     Venta   \n1 -56.092368  Montevideo      NaN      NaN      NaN       NaN     Venta   \n2 -58.257499  Entre Ríos      NaN      NaN      NaN       NaN     Venta   \n3 -54.808453   Maldonado      NaN      NaN      NaN       NaN     Venta   \n4 -68.041862     Neuquén      NaN      NaN      NaN       NaN     Venta   \n\n  property_type  property_rooms  property_bedrooms  property_surface_total  \\\n0          Casa             6.0                NaN                     NaN   \n1          Casa             4.0                3.0                   193.0   \n2          Casa             NaN                NaN                   110.0   \n3          Casa             NaN                3.0                     NaN   \n4            PH             3.0                2.0                     NaN   \n\n   property_surface_covered  property_price property_currency  \\\n0                     206.0             NaN               NaN   \n1                     193.0        390000.0               USD   \n2                      45.0         47000.0               USD   \n3                     180.0        400000.0               USD   \n4                      98.0        102000.0               USD   \n\n       property_title  \n0      Casa - Capital  \n1       Casa - Malvín  \n2      Casa - Uruguay  \n3    Casa - El Chorro  \n4  PH - Villa Farrell  ",
      "text/html": "<div>\n<style scoped>\n    .dataframe tbody tr th:only-of-type {\n        vertical-align: middle;\n    }\n\n    .dataframe tbody tr th {\n        vertical-align: top;\n    }\n\n    .dataframe thead th {\n        text-align: right;\n    }\n</style>\n<table border=\"1\" class=\"dataframe\">\n  <thead>\n    <tr style=\"text-align: right;\">\n      <th></th>\n      <th>id</th>\n      <th>start_date</th>\n      <th>end_date</th>\n      <th>created_on</th>\n      <th>latitud</th>\n      <th>longitud</th>\n      <th>place_l2</th>\n      <th>place_l3</th>\n      <th>place_l4</th>\n      <th>place_l5</th>\n      <th>place_l6</th>\n      <th>operation</th>\n      <th>property_type</th>\n      <th>property_rooms</th>\n      <th>property_bedrooms</th>\n      <th>property_surface_total</th>\n      <th>property_surface_covered</th>\n      <th>property_price</th>\n      <th>property_currency</th>\n      <th>property_title</th>\n    </tr>\n  </thead>\n  <tbody>\n    <tr>\n      <th>0</th>\n      <td>XZq2dFGxBiboHY3Bo/tqlw==</td>\n      <td>2021-09-09</td>\n      <td>2022-01-27</td>\n      <td>2021-09-09</td>\n      <td>-38.957632</td>\n      <td>-68.105443</td>\n      <td>Neuquén</td>\n      <td>NaN</td>\n      <td>NaN</td>\n      <td>NaN</td>\n      <td>NaN</td>\n      <td>Venta</td>\n      <td>Casa</td>\n      <td>6.0</td>\n      <td>NaN</td>\n      <td>NaN</td>\n      <td>206.0</td>\n      <td>NaN</td>\n      <td>NaN</td>\n      <td>Casa - Capital</td>\n    </tr>\n    <tr>\n      <th>1</th>\n      <td>8afoK+yMH/rnnlYiktwgNA==</td>\n      <td>2021-09-09</td>\n      <td>2021-10-23</td>\n      <td>2021-09-09</td>\n      <td>-34.888878</td>\n      <td>-56.092368</td>\n      <td>Montevideo</td>\n      <td>NaN</td>\n      <td>NaN</td>\n      <td>NaN</td>\n      <td>NaN</td>\n      <td>Venta</td>\n      <td>Casa</td>\n      <td>4.0</td>\n      <td>3.0</td>\n      <td>193.0</td>\n      <td>193.0</td>\n      <td>390000.0</td>\n      <td>USD</td>\n      <td>Casa - Malvín</td>\n    </tr>\n    <tr>\n      <th>2</th>\n      <td>iVaG5rBB47dd1Ya4BMXREA==</td>\n      <td>2021-09-09</td>\n      <td>2022-03-09</td>\n      <td>2021-09-09</td>\n      <td>-32.488717</td>\n      <td>-58.257499</td>\n      <td>Entre Ríos</td>\n      <td>NaN</td>\n      <td>NaN</td>\n      <td>NaN</td>\n      <td>NaN</td>\n      <td>Venta</td>\n      <td>Casa</td>\n      <td>NaN</td>\n      <td>NaN</td>\n      <td>110.0</td>\n      <td>45.0</td>\n      <td>47000.0</td>\n      <td>USD</td>\n      <td>Casa - Uruguay</td>\n    </tr>\n    <tr>\n      <th>3</th>\n      <td>QE1QVMWKAHWkd0qT0FtPWA==</td>\n      <td>2021-09-09</td>\n      <td>2022-01-27</td>\n      <td>2021-09-09</td>\n      <td>-34.900165</td>\n      <td>-54.808453</td>\n      <td>Maldonado</td>\n      <td>NaN</td>\n      <td>NaN</td>\n      <td>NaN</td>\n      <td>NaN</td>\n      <td>Venta</td>\n      <td>Casa</td>\n      <td>NaN</td>\n      <td>3.0</td>\n      <td>NaN</td>\n      <td>180.0</td>\n      <td>400000.0</td>\n      <td>USD</td>\n      <td>Casa - El Chorro</td>\n    </tr>\n    <tr>\n      <th>4</th>\n      <td>tJ5lSk7IysG/71OGhacNZA==</td>\n      <td>2021-09-09</td>\n      <td>2022-01-27</td>\n      <td>2021-09-09</td>\n      <td>-38.954528</td>\n      <td>-68.041862</td>\n      <td>Neuquén</td>\n      <td>NaN</td>\n      <td>NaN</td>\n      <td>NaN</td>\n      <td>NaN</td>\n      <td>Venta</td>\n      <td>PH</td>\n      <td>3.0</td>\n      <td>2.0</td>\n      <td>NaN</td>\n      <td>98.0</td>\n      <td>102000.0</td>\n      <td>USD</td>\n      <td>PH - Villa Farrell</td>\n    </tr>\n  </tbody>\n</table>\n</div>"
     },
     "execution_count": 5,
     "metadata": {},
     "output_type": "execute_result"
    }
   ],
   "source": [
    "ds = pd.read_csv('./datasets/properati_argentina_2021.csv')\n",
    "houses = ds.copy()\n",
    "houses.head()"
   ],
   "metadata": {
    "collapsed": false,
    "pycharm": {
     "name": "#%%\n"
    }
   }
  },
  {
   "cell_type": "code",
   "execution_count": 6,
   "outputs": [
    {
     "data": {
      "text/plain": "(460154, 20)"
     },
     "execution_count": 6,
     "metadata": {},
     "output_type": "execute_result"
    }
   ],
   "source": [
    "houses.shape"
   ],
   "metadata": {
    "collapsed": false,
    "pycharm": {
     "name": "#%%\n"
    }
   }
  },
  {
   "cell_type": "code",
   "execution_count": 7,
   "outputs": [
    {
     "data": {
      "text/plain": "             latitud       longitud  place_l6  property_rooms  \\\ncount  419740.000000  419740.000000       0.0   368498.000000   \nmean      -34.228570     -59.557066       NaN        3.278053   \nstd         3.251509       2.905129       NaN        1.870832   \nmin       -54.832057    -103.219258       NaN        1.000000   \n25%       -34.640132     -58.899343       NaN        2.000000   \n50%       -34.585122     -58.488309       NaN        3.000000   \n75%       -34.423414     -58.404876       NaN        4.000000   \nmax        42.557773     -35.044991       NaN       40.000000   \n\n       property_bedrooms  property_surface_total  property_surface_covered  \\\ncount      344113.000000           397813.000000              4.279160e+05   \nmean            2.297960              420.601250              9.605005e+03   \nstd             1.673985             4026.380748              3.440367e+06   \nmin            -3.000000               -1.000000             -3.000000e+00   \n25%             1.000000               50.000000              4.500000e+01   \n50%             2.000000               90.000000              7.800000e+01   \n75%             3.000000              210.000000              1.700000e+02   \nmax           390.000000           200000.000000              2.147484e+09   \n\n       property_price  \ncount    4.421530e+05  \nmean     3.063273e+05  \nstd      4.899613e+06  \nmin      0.000000e+00  \n25%      4.490000e+04  \n50%      9.800000e+04  \n75%      1.990000e+05  \nmax      1.500000e+09  ",
      "text/html": "<div>\n<style scoped>\n    .dataframe tbody tr th:only-of-type {\n        vertical-align: middle;\n    }\n\n    .dataframe tbody tr th {\n        vertical-align: top;\n    }\n\n    .dataframe thead th {\n        text-align: right;\n    }\n</style>\n<table border=\"1\" class=\"dataframe\">\n  <thead>\n    <tr style=\"text-align: right;\">\n      <th></th>\n      <th>latitud</th>\n      <th>longitud</th>\n      <th>place_l6</th>\n      <th>property_rooms</th>\n      <th>property_bedrooms</th>\n      <th>property_surface_total</th>\n      <th>property_surface_covered</th>\n      <th>property_price</th>\n    </tr>\n  </thead>\n  <tbody>\n    <tr>\n      <th>count</th>\n      <td>419740.000000</td>\n      <td>419740.000000</td>\n      <td>0.0</td>\n      <td>368498.000000</td>\n      <td>344113.000000</td>\n      <td>397813.000000</td>\n      <td>4.279160e+05</td>\n      <td>4.421530e+05</td>\n    </tr>\n    <tr>\n      <th>mean</th>\n      <td>-34.228570</td>\n      <td>-59.557066</td>\n      <td>NaN</td>\n      <td>3.278053</td>\n      <td>2.297960</td>\n      <td>420.601250</td>\n      <td>9.605005e+03</td>\n      <td>3.063273e+05</td>\n    </tr>\n    <tr>\n      <th>std</th>\n      <td>3.251509</td>\n      <td>2.905129</td>\n      <td>NaN</td>\n      <td>1.870832</td>\n      <td>1.673985</td>\n      <td>4026.380748</td>\n      <td>3.440367e+06</td>\n      <td>4.899613e+06</td>\n    </tr>\n    <tr>\n      <th>min</th>\n      <td>-54.832057</td>\n      <td>-103.219258</td>\n      <td>NaN</td>\n      <td>1.000000</td>\n      <td>-3.000000</td>\n      <td>-1.000000</td>\n      <td>-3.000000e+00</td>\n      <td>0.000000e+00</td>\n    </tr>\n    <tr>\n      <th>25%</th>\n      <td>-34.640132</td>\n      <td>-58.899343</td>\n      <td>NaN</td>\n      <td>2.000000</td>\n      <td>1.000000</td>\n      <td>50.000000</td>\n      <td>4.500000e+01</td>\n      <td>4.490000e+04</td>\n    </tr>\n    <tr>\n      <th>50%</th>\n      <td>-34.585122</td>\n      <td>-58.488309</td>\n      <td>NaN</td>\n      <td>3.000000</td>\n      <td>2.000000</td>\n      <td>90.000000</td>\n      <td>7.800000e+01</td>\n      <td>9.800000e+04</td>\n    </tr>\n    <tr>\n      <th>75%</th>\n      <td>-34.423414</td>\n      <td>-58.404876</td>\n      <td>NaN</td>\n      <td>4.000000</td>\n      <td>3.000000</td>\n      <td>210.000000</td>\n      <td>1.700000e+02</td>\n      <td>1.990000e+05</td>\n    </tr>\n    <tr>\n      <th>max</th>\n      <td>42.557773</td>\n      <td>-35.044991</td>\n      <td>NaN</td>\n      <td>40.000000</td>\n      <td>390.000000</td>\n      <td>200000.000000</td>\n      <td>2.147484e+09</td>\n      <td>1.500000e+09</td>\n    </tr>\n  </tbody>\n</table>\n</div>"
     },
     "execution_count": 7,
     "metadata": {},
     "output_type": "execute_result"
    }
   ],
   "source": [
    "houses.describe()"
   ],
   "metadata": {
    "collapsed": false,
    "pycharm": {
     "name": "#%%\n"
    }
   }
  },
  {
   "cell_type": "code",
   "execution_count": 21,
   "outputs": [
    {
     "data": {
      "text/plain": "Index(['id', 'start_date', 'end_date', 'created_on', 'latitud', 'longitud',\n       'place_l2', 'place_l3', 'place_l4', 'place_l5', 'place_l6', 'operation',\n       'property_type', 'property_rooms', 'property_bedrooms',\n       'property_surface_total', 'property_surface_covered', 'property_price',\n       'property_currency', 'property_title'],\n      dtype='object')"
     },
     "execution_count": 21,
     "metadata": {},
     "output_type": "execute_result"
    }
   ],
   "source": [
    "houses.columns"
   ],
   "metadata": {
    "collapsed": false,
    "pycharm": {
     "name": "#%%\n"
    }
   }
  },
  {
   "cell_type": "code",
   "execution_count": 8,
   "outputs": [
    {
     "name": "stdout",
     "output_type": "stream",
     "text": [
      "id                            0.000000\n",
      "start_date                    0.000000\n",
      "end_date                      0.000000\n",
      "created_on                    0.000000\n",
      "latitud                       8.782712\n",
      "longitud                      8.782712\n",
      "place_l2                      0.000000\n",
      "place_l3                      4.887277\n",
      "place_l4                     69.788375\n",
      "place_l5                     99.471916\n",
      "place_l6                    100.000000\n",
      "operation                     0.000000\n",
      "property_type                 0.000000\n",
      "property_rooms               19.918549\n",
      "property_bedrooms            25.217862\n",
      "property_surface_total       13.547856\n",
      "property_surface_covered      7.005915\n",
      "property_price                3.911951\n",
      "property_currency             4.034302\n",
      "property_title                0.000000\n",
      "dtype: float64\n"
     ]
    }
   ],
   "source": [
    "filas_totales = houses.shape[0]\n",
    "print(houses.isna().sum() / filas_totales * 100)"
   ],
   "metadata": {
    "collapsed": false,
    "pycharm": {
     "name": "#%%\n"
    }
   }
  },
  {
   "cell_type": "markdown",
   "source": [
    "## Análisis de la variable precio"
   ],
   "metadata": {
    "collapsed": false,
    "pycharm": {
     "name": "#%% md\n"
    }
   }
  },
  {
   "cell_type": "code",
   "execution_count": 13,
   "outputs": [
    {
     "data": {
      "text/plain": "(18001, 20)"
     },
     "execution_count": 13,
     "metadata": {},
     "output_type": "execute_result"
    }
   ],
   "source": [
    "houses[houses.property_price.isna()].shape\n",
    "# 18 mil casas sin precio"
   ],
   "metadata": {
    "collapsed": false,
    "pycharm": {
     "name": "#%%\n"
    }
   }
  },
  {
   "cell_type": "markdown",
   "source": [
    "Hay 18 mil casas sin precio, representan un 3% de los datos, como queremos precedir el precio estas filas no nos sirven."
   ],
   "metadata": {
    "collapsed": false,
    "pycharm": {
     "name": "#%% md\n"
    }
   }
  },
  {
   "cell_type": "code",
   "execution_count": 14,
   "outputs": [],
   "source": [
    "houses.dropna(subset=['property_price'], inplace=True)"
   ],
   "metadata": {
    "collapsed": false,
    "pycharm": {
     "name": "#%%\n"
    }
   }
  },
  {
   "cell_type": "code",
   "execution_count": 15,
   "outputs": [
    {
     "name": "stdout",
     "output_type": "stream",
     "text": [
      "id                            0.000000\n",
      "start_date                    0.000000\n",
      "end_date                      0.000000\n",
      "created_on                    0.000000\n",
      "latitud                       8.836986\n",
      "longitud                      8.836986\n",
      "place_l2                      0.000000\n",
      "place_l3                      4.762379\n",
      "place_l4                     69.351333\n",
      "place_l5                     99.462629\n",
      "place_l6                    100.000000\n",
      "operation                     0.000000\n",
      "property_type                 0.000000\n",
      "property_rooms               19.258040\n",
      "property_bedrooms            24.853840\n",
      "property_surface_total       13.405088\n",
      "property_surface_covered      6.936513\n",
      "property_price                0.000000\n",
      "property_currency             0.127331\n",
      "property_title                0.000000\n",
      "dtype: float64\n"
     ]
    }
   ],
   "source": [
    "# Verifico que haya bajado el porcentaje\n",
    "filas_totales = houses.shape[0]\n",
    "print(houses.isna().sum() / filas_totales * 100)"
   ],
   "metadata": {
    "collapsed": false,
    "pycharm": {
     "name": "#%%\n"
    }
   }
  },
  {
   "cell_type": "code",
   "execution_count": 17,
   "outputs": [
    {
     "data": {
      "text/plain": "(563, 20)"
     },
     "execution_count": 17,
     "metadata": {},
     "output_type": "execute_result"
    }
   ],
   "source": [
    "houses[houses.property_price == 0].shape"
   ],
   "metadata": {
    "collapsed": false,
    "pycharm": {
     "name": "#%%\n"
    }
   }
  },
  {
   "cell_type": "markdown",
   "source": [
    "Además hay 563 filas con el precio en 0, vamos a borrarlas por el mismo motivo. También convierto a numérico el precio por las dudas"
   ],
   "metadata": {
    "collapsed": false,
    "pycharm": {
     "name": "#%% md\n"
    }
   }
  },
  {
   "cell_type": "code",
   "execution_count": 28,
   "outputs": [
    {
     "data": {
      "text/plain": "((0, 18), (0, 18))"
     },
     "execution_count": 28,
     "metadata": {},
     "output_type": "execute_result"
    }
   ],
   "source": [
    "houses.property_price = pd.to_numeric(houses.property_price)\n",
    "houses.drop(houses[houses.property_price == 0].index, inplace=True)\n",
    "houses[houses.property_price.isna()].shape, houses[houses.property_price == 0].shape"
   ],
   "metadata": {
    "collapsed": false,
    "pycharm": {
     "name": "#%%\n"
    }
   }
  },
  {
   "cell_type": "code",
   "execution_count": 36,
   "outputs": [
    {
     "data": {
      "text/plain": "property_currency\nARS    0.201248\nCOP    0.000027\nPEN    0.000224\nUSD    0.790561\nUYU    0.007939\nName: id, dtype: float64"
     },
     "execution_count": 36,
     "metadata": {},
     "output_type": "execute_result"
    }
   ],
   "source": [
    "houses.groupby('property_currency')['id'].count() / houses['id'].count()"
   ],
   "metadata": {
    "collapsed": false,
    "pycharm": {
     "name": "#%%\n"
    }
   }
  },
  {
   "cell_type": "markdown",
   "source": [
    "Las múltiples monedas podrían alterar la escala de los gráficos. Vamos a agrupar y trabajar momentaneamente sobre el grupo en dolares."
   ],
   "metadata": {
    "collapsed": false,
    "pycharm": {
     "name": "#%% md\n"
    }
   }
  },
  {
   "cell_type": "code",
   "execution_count": 39,
   "outputs": [
    {
     "data": {
      "text/plain": "                  property_price                                         \\\n                           count          mean           std        min   \nproperty_currency                                                         \nARS                      88869.0  6.071652e+05  6.561089e+06     4400.0   \nCOP                         12.0  5.914292e+08  4.678378e+08  1150000.0   \nPEN                         99.0  1.725796e+06  4.599244e+06      750.0   \nUSD                     349104.0  2.109385e+05  5.061346e+05       50.0   \nUYU                       3506.0  1.648302e+05  4.926249e+06     3500.0   \n\n                                                                        \n                           25%          50%          75%           max  \nproperty_currency                                                       \nARS                    25000.0      40000.0      80000.0  1.111111e+09  \nCOP                297500000.0  422500000.0  785000000.0  1.500000e+09  \nPEN                   159000.0     389900.0    1242000.0  3.175200e+07  \nUSD                    64000.0     120000.0     225000.0  5.000000e+07  \nUYU                    18000.0      22000.0      26000.0  2.775000e+08  ",
      "text/html": "<div>\n<style scoped>\n    .dataframe tbody tr th:only-of-type {\n        vertical-align: middle;\n    }\n\n    .dataframe tbody tr th {\n        vertical-align: top;\n    }\n\n    .dataframe thead tr th {\n        text-align: left;\n    }\n\n    .dataframe thead tr:last-of-type th {\n        text-align: right;\n    }\n</style>\n<table border=\"1\" class=\"dataframe\">\n  <thead>\n    <tr>\n      <th></th>\n      <th colspan=\"8\" halign=\"left\">property_price</th>\n    </tr>\n    <tr>\n      <th></th>\n      <th>count</th>\n      <th>mean</th>\n      <th>std</th>\n      <th>min</th>\n      <th>25%</th>\n      <th>50%</th>\n      <th>75%</th>\n      <th>max</th>\n    </tr>\n    <tr>\n      <th>property_currency</th>\n      <th></th>\n      <th></th>\n      <th></th>\n      <th></th>\n      <th></th>\n      <th></th>\n      <th></th>\n      <th></th>\n    </tr>\n  </thead>\n  <tbody>\n    <tr>\n      <th>ARS</th>\n      <td>88869.0</td>\n      <td>6.071652e+05</td>\n      <td>6.561089e+06</td>\n      <td>4400.0</td>\n      <td>25000.0</td>\n      <td>40000.0</td>\n      <td>80000.0</td>\n      <td>1.111111e+09</td>\n    </tr>\n    <tr>\n      <th>COP</th>\n      <td>12.0</td>\n      <td>5.914292e+08</td>\n      <td>4.678378e+08</td>\n      <td>1150000.0</td>\n      <td>297500000.0</td>\n      <td>422500000.0</td>\n      <td>785000000.0</td>\n      <td>1.500000e+09</td>\n    </tr>\n    <tr>\n      <th>PEN</th>\n      <td>99.0</td>\n      <td>1.725796e+06</td>\n      <td>4.599244e+06</td>\n      <td>750.0</td>\n      <td>159000.0</td>\n      <td>389900.0</td>\n      <td>1242000.0</td>\n      <td>3.175200e+07</td>\n    </tr>\n    <tr>\n      <th>USD</th>\n      <td>349104.0</td>\n      <td>2.109385e+05</td>\n      <td>5.061346e+05</td>\n      <td>50.0</td>\n      <td>64000.0</td>\n      <td>120000.0</td>\n      <td>225000.0</td>\n      <td>5.000000e+07</td>\n    </tr>\n    <tr>\n      <th>UYU</th>\n      <td>3506.0</td>\n      <td>1.648302e+05</td>\n      <td>4.926249e+06</td>\n      <td>3500.0</td>\n      <td>18000.0</td>\n      <td>22000.0</td>\n      <td>26000.0</td>\n      <td>2.775000e+08</td>\n    </tr>\n  </tbody>\n</table>\n</div>"
     },
     "execution_count": 39,
     "metadata": {},
     "output_type": "execute_result"
    }
   ],
   "source": [
    "houses[['property_currency', 'property_price']].groupby('property_currency').describe()"
   ],
   "metadata": {
    "collapsed": false,
    "pycharm": {
     "name": "#%%\n"
    }
   }
  },
  {
   "cell_type": "markdown",
   "source": [
    "### Analisis de Lugar"
   ],
   "metadata": {
    "collapsed": false,
    "pycharm": {
     "name": "#%% md\n"
    }
   }
  },
  {
   "cell_type": "markdown",
   "source": [
    "lat - Latitud.\n",
    "lon - Longitud.\n",
    "l1 - Nivel administrativo 1: país.\n",
    "l2 - Nivel administrativo 2: usualmente provincia.\n",
    "l3 - Nivel administrativo 3: usualmente ciudad.\n",
    "l4 - Nivel administrativo 4: usualmente barrio."
   ],
   "metadata": {
    "collapsed": false,
    "pycharm": {
     "name": "#%% md\n"
    }
   }
  },
  {
   "cell_type": "code",
   "execution_count": 22,
   "outputs": [
    {
     "data": {
      "text/plain": "place_l2    0.000000\nplace_l3    0.047648\nplace_l4    0.693474\nplace_l5    0.994624\nplace_l6    1.000000\ndtype: float64"
     },
     "execution_count": 22,
     "metadata": {},
     "output_type": "execute_result"
    }
   ],
   "source": [
    "# Cantidad de datos nulos en los datos de ubicacion\n",
    "houses[['place_l2', 'place_l3', 'place_l4', 'place_l5', 'place_l6']].isna().sum() / houses.shape[0]"
   ],
   "metadata": {
    "collapsed": false,
    "pycharm": {
     "name": "#%%\n"
    }
   }
  },
  {
   "cell_type": "markdown",
   "source": [
    "Podemos descartar place_l6 y place_l5 porque tienen practicamente todos los datos nulos"
   ],
   "metadata": {
    "collapsed": false,
    "pycharm": {
     "name": "#%% md\n"
    }
   }
  },
  {
   "cell_type": "code",
   "execution_count": 23,
   "outputs": [],
   "source": [
    "houses.drop(columns=['place_l5', 'place_l6'], inplace=True)"
   ],
   "metadata": {
    "collapsed": false,
    "pycharm": {
     "name": "#%%\n"
    }
   }
  },
  {
   "cell_type": "code",
   "execution_count": 24,
   "outputs": [
    {
     "data": {
      "text/plain": "La Plata                    9676\nNordelta                    8464\nOlivos                      3925\nRamos Mejía                 3351\nPalermo Hollywood           2935\n                            ... \nBosque Real Country Club       1\nJosé C Paz                     1\nComodoro Py                    1\nCachoeira do Bom Jesus         1\nJuan José Paso                 1\nName: place_l4, Length: 785, dtype: int64"
     },
     "execution_count": 24,
     "metadata": {},
     "output_type": "execute_result"
    }
   ],
   "source": [
    "houses.place_l4.value_counts()"
   ],
   "metadata": {
    "collapsed": false,
    "pycharm": {
     "name": "#%%\n"
    }
   }
  },
  {
   "cell_type": "code",
   "execution_count": 25,
   "outputs": [
    {
     "data": {
      "text/plain": "Rosario          32185\nPalermo          25406\nTigre            23853\nLa Plata         19164\nPilar            15432\nBelgrano         14150\nCórdoba          12628\nRecoleta         11624\nEscobar          11269\nVicente López    11074\nName: place_l3, dtype: int64"
     },
     "execution_count": 25,
     "metadata": {},
     "output_type": "execute_result"
    }
   ],
   "source": [
    "houses.place_l3.value_counts().head(10)"
   ],
   "metadata": {
    "collapsed": false,
    "pycharm": {
     "name": "#%%\n"
    }
   }
  },
  {
   "cell_type": "code",
   "execution_count": 26,
   "outputs": [
    {
     "data": {
      "text/plain": "Capital Federal                 154788\nBs.As. G.B.A. Zona Norte         88213\nBs.As. G.B.A. Zona Sur           46168\nSanta Fe                         42877\nBs.As. G.B.A. Zona Oeste         27852\nCórdoba                          21676\nBuenos Aires Costa Atlántica     11338\nNeuquén                           7536\nMontevideo                        7436\nBuenos Aires Interior             5794\nMaldonado                         5235\nRío Negro                         4545\nMendoza                           4457\nTucumán                           3229\nColonia                           2433\nSalta                             1416\nEntre Ríos                        1045\nSan Juan                           845\nCanelones                          738\nSan Luis                           575\nChubut                             560\nLa Pampa                           558\nMisiones                           512\nFlorida                            405\nJujuy                              374\nCorrientes                         280\nMichigan                           251\nChaco                              191\nRocha                               81\nTierra Del Fuego                    64\nSantiago Del Estero                 38\nSanta Catarina                      32\nSanta Cruz                           8\nRio Grande do Norte                  8\nMaryland                             8\nCatamarca                            6\nMiami                                4\nLa Rioja                             4\nRio de Janeiro                       3\nPennsylvania                         3\nFormosa                              2\nSão Paulo                            1\nCalifornia                           1\nName: place_l2, dtype: int64"
     },
     "execution_count": 26,
     "metadata": {},
     "output_type": "execute_result"
    }
   ],
   "source": [
    "houses.place_l2.value_counts()"
   ],
   "metadata": {
    "collapsed": false,
    "pycharm": {
     "name": "#%%\n"
    }
   }
  },
  {
   "cell_type": "code",
   "execution_count": 95,
   "outputs": [
    {
     "data": {
      "text/plain": "place_l2          154788\nplace_l3          153817\nproperty_price    154788\ndtype: int64"
     },
     "execution_count": 95,
     "metadata": {},
     "output_type": "execute_result"
    }
   ],
   "source": [
    "houses[['place_l2', 'place_l3', 'property_price']][houses.place_l2 == 'Capital Federal']\n",
    "\n"
   ],
   "metadata": {
    "collapsed": false,
    "pycharm": {
     "name": "#%%\n"
    }
   }
  },
  {
   "cell_type": "code",
   "execution_count": 71,
   "outputs": [],
   "source": [
    "grouped = houses[['property_currency', 'property_type', 'property_price']].groupby('property_currency')\n"
   ],
   "metadata": {
    "collapsed": false,
    "pycharm": {
     "name": "#%%\n"
    }
   }
  },
  {
   "cell_type": "code",
   "execution_count": 70,
   "outputs": [
    {
     "name": "stdout",
     "output_type": "stream",
     "text": [
      "{'ARS': [15, 18, 20, 22, 23, 24, 30, 40, 45, 46, 47, 48, 50, 52, 54, 72, 73, 82, 84, 85, 118, 127, 133, 153, 168, 169, 214, 219, 224, 230, 237, 257, 263, 271, 280, 284, 287, 290, 296, 300, 302, 307, 310, 311, 313, 314, 321, 336, 350, 391, 392, 393, 394, 397, 398, 399, 401, 406, 413, 419, 420, 421, 422, 423, 427, 428, 429, 430, 433, 435, 437, 440, 443, 444, 445, 452, 453, 455, 458, 460, 461, 465, 470, 471, 473, 474, 477, 492, 494, 496, 497, 506, 517, 519, 525, 528, 534, 547, 548, 567, ...], 'COP': [22257, 63897, 74959, 159878, 217161, 244427, 272170, 283473, 288349, 326013, 332702, 339601], 'PEN': [8032, 16638, 26780, 27224, 27389, 41199, 41200, 41203, 41205, 46052, 49193, 49194, 49197, 49199, 49202, 49203, 49990, 49991, 54414, 77161, 77162, 78909, 78910, 79585, 79588, 84729, 124063, 140118, 162992, 163029, 170714, 173680, 183694, 192881, 197224, 200024, 210597, 217507, 218716, 226097, 226099, 235804, 235806, 235807, 242778, 255306, 269383, 271126, 280612, 280613, 286988, 286989, 286990, 286991, 286992, 286993, 288749, 289772, 293018, 301289, 313814, 313816, 315672, 322076, 322077, 322412, 322413, 322414, 322415, 322416, 322417, 340510, 345369, 364102, 372511, 386013, 386014, 386016, 386017, 386019, 386020, 386456, 386824, 386826, 387260, 387262, 387263, 387264, 387549, 387796, 402238, 406036, 406037, 411813, 418182, 443543, 443544, 443546, 459207], 'USD': [1, 2, 3, 4, 5, 6, 7, 10, 11, 12, 13, 25, 26, 27, 31, 32, 33, 35, 36, 37, 38, 39, 41, 42, 43, 49, 51, 53, 55, 56, 57, 58, 59, 60, 61, 62, 63, 64, 65, 66, 67, 68, 69, 70, 71, 74, 75, 76, 77, 78, 79, 80, 81, 83, 86, 87, 88, 89, 90, 91, 92, 93, 94, 95, 96, 97, 98, 99, 100, 101, 102, 103, 104, 105, 106, 107, 108, 109, 110, 111, 112, 113, 114, 115, 116, 117, 119, 120, 121, 123, 124, 125, 126, 128, 129, 130, 131, 132, 134, 135, ...], 'UYU': [8, 9, 14, 16, 17, 28, 29, 478, 479, 481, 482, 1543, 1548, 1728, 2178, 2182, 2183, 2185, 2187, 2191, 2197, 2198, 2202, 2203, 2417, 2419, 2420, 2421, 2956, 3676, 3677, 3678, 4170, 4670, 4675, 4680, 4683, 4861, 4862, 5813, 5937, 5938, 5940, 5941, 5946, 5957, 5960, 5961, 6140, 6141, 6143, 6144, 6485, 6559, 6706, 6996, 7186, 7196, 7198, 7200, 7398, 7956, 8030, 8058, 8474, 9133, 9134, 9135, 9137, 9138, 9142, 9159, 9160, 9162, 9171, 9174, 9177, 9501, 10488, 10785, 10792, 11429, 11542, 11790, 11982, 11983, 11985, 11986, 11988, 11991, 11994, 11996, 11997, 11998, 11999, 12001, 12002, 12003, 12005, 12006, ...]}\n"
     ]
    },
    {
     "ename": "NameError",
     "evalue": "name 'math' is not defined",
     "output_type": "error",
     "traceback": [
      "\u001B[0;31m---------------------------------------------------------------------------\u001B[0m",
      "\u001B[0;31mNameError\u001B[0m                                 Traceback (most recent call last)",
      "Input \u001B[0;32mIn [70]\u001B[0m, in \u001B[0;36m<cell line: 10>\u001B[0;34m()\u001B[0m\n\u001B[1;32m      7\u001B[0m cmap \u001B[38;5;241m=\u001B[39m \u001B[38;5;28mdict\u001B[39m(\u001B[38;5;28mzip\u001B[39m(unique_cat, colors))  \u001B[38;5;66;03m# zip values to colors\u001B[39;00m\n\u001B[1;32m      9\u001B[0m col_nums \u001B[38;5;241m=\u001B[39m \u001B[38;5;241m3\u001B[39m  \u001B[38;5;66;03m# how many plots per row\u001B[39;00m\n\u001B[0;32m---> 10\u001B[0m row_nums \u001B[38;5;241m=\u001B[39m \u001B[43mmath\u001B[49m\u001B[38;5;241m.\u001B[39mceil(\u001B[38;5;28mlen\u001B[39m(df_dict) \u001B[38;5;241m/\u001B[39m col_nums)  \u001B[38;5;66;03m# how many rows of plots\u001B[39;00m\n\u001B[1;32m     12\u001B[0m \u001B[38;5;66;03m# create the figue and axes\u001B[39;00m\n\u001B[1;32m     13\u001B[0m fig, axes \u001B[38;5;241m=\u001B[39m plt\u001B[38;5;241m.\u001B[39msubplots(row_nums, col_nums, figsize\u001B[38;5;241m=\u001B[39m(\u001B[38;5;241m9\u001B[39m, \u001B[38;5;241m6\u001B[39m), sharex\u001B[38;5;241m=\u001B[39m\u001B[38;5;28;01mTrue\u001B[39;00m, sharey\u001B[38;5;241m=\u001B[39m\u001B[38;5;28;01mTrue\u001B[39;00m)\n",
      "\u001B[0;31mNameError\u001B[0m: name 'math' is not defined"
     ]
    }
   ],
   "source": [
    "\n",
    "\n",
    "# create color mapping based on all unique values of cat\n",
    "unique_cat = grouped.  # get unique cats\n",
    "colors = sns.color_palette('tab10', n_colors=len(unique_cat))  # get a number of colors\n",
    "cmap = dict(zip(unique_cat, colors))  # zip values to colors\n",
    "\n",
    "col_nums = 3  # how many plots per row\n",
    "row_nums = math.ceil(len(df_dict) / col_nums)  # how many rows of plots\n",
    "\n",
    "# create the figue and axes\n",
    "fig, axes = plt.subplots(row_nums, col_nums, figsize=(9, 6), sharex=True, sharey=True)\n",
    "# convert to 1D array for easy iteration\n",
    "axes = axes.flat\n",
    "\n",
    "# iterate through dictionary and plot\n",
    "for ax, (k, v) in zip(axes, df_dict.items()):\n",
    "    sns.scatterplot(data=v, x='x', y='y', hue='cat', palette=cmap, ax=ax)\n",
    "    sns.despine(top=True, right=True)\n",
    "    ax.legend_.remove()  # remove the individual plot legends\n",
    "    ax.set_title(f'dataset = {k}', fontsize=11)\n",
    "\n",
    "fig.tight_layout()\n",
    "\n",
    "# create legend from cmap\n",
    "# patches = [Patch(color=v, label=k) for k, v in cmap.items()]  # square patches\n",
    "patches = [Line2D([0], [0], marker='o', color='w', markerfacecolor=v, label=k, markersize=8) for k, v in\n",
    "           cmap.items()]  # round markers\n",
    "\n",
    "# place legend outside of plot; change the right bbox value to move the legend up or down\n",
    "plt.legend(title='cat', handles=patches, bbox_to_anchor=(1.06, 1.2), loc='center left', borderaxespad=0, frameon=False)\n",
    "plt.show()\n",
    "#    g.plot.box(title='Precio por tipo de propiedad', column='property_price', by='property_type')"
   ],
   "metadata": {
    "collapsed": false,
    "pycharm": {
     "name": "#%%\n"
    }
   }
  }
 ],
 "metadata": {
  "kernelspec": {
   "display_name": "Python 3",
   "language": "python",
   "name": "python3"
  },
  "language_info": {
   "codemirror_mode": {
    "name": "ipython",
    "version": 2
   },
   "file_extension": ".py",
   "mimetype": "text/x-python",
   "name": "python",
   "nbconvert_exporter": "python",
   "pygments_lexer": "ipython2",
   "version": "2.7.6"
  }
 },
 "nbformat": 4,
 "nbformat_minor": 0
}