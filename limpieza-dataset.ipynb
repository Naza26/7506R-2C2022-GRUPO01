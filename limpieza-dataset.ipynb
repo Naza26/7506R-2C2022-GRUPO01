{
 "cells": [
  {
   "cell_type": "code",
   "execution_count": 1,
   "metadata": {
    "collapsed": true,
    "pycharm": {
     "name": "#%%\n"
    }
   },
   "outputs": [],
   "source": [
    "import numpy as np\n",
    "import pandas as pd\n",
    "from docutils.nodes import title"
   ]
  },
  {
   "cell_type": "code",
   "execution_count": 2,
   "outputs": [
    {
     "data": {
      "text/plain": "                         id  start_date    end_date  created_on    latitud  \\\n0  XZq2dFGxBiboHY3Bo/tqlw==  2021-09-09  2022-01-27  2021-09-09 -38.957632   \n1  8afoK+yMH/rnnlYiktwgNA==  2021-09-09  2021-10-23  2021-09-09 -34.888878   \n2  iVaG5rBB47dd1Ya4BMXREA==  2021-09-09  2022-03-09  2021-09-09 -32.488717   \n3  QE1QVMWKAHWkd0qT0FtPWA==  2021-09-09  2022-01-27  2021-09-09 -34.900165   \n4  tJ5lSk7IysG/71OGhacNZA==  2021-09-09  2022-01-27  2021-09-09 -38.954528   \n\n    longitud    place_l2 place_l3 place_l4 place_l5  place_l6 operation  \\\n0 -68.105443     Neuquén      NaN      NaN      NaN       NaN     Venta   \n1 -56.092368  Montevideo      NaN      NaN      NaN       NaN     Venta   \n2 -58.257499  Entre Ríos      NaN      NaN      NaN       NaN     Venta   \n3 -54.808453   Maldonado      NaN      NaN      NaN       NaN     Venta   \n4 -68.041862     Neuquén      NaN      NaN      NaN       NaN     Venta   \n\n  property_type  property_rooms  property_bedrooms  property_surface_total  \\\n0          Casa             6.0                NaN                     NaN   \n1          Casa             4.0                3.0                   193.0   \n2          Casa             NaN                NaN                   110.0   \n3          Casa             NaN                3.0                     NaN   \n4            PH             3.0                2.0                     NaN   \n\n   property_surface_covered  property_price property_currency  \\\n0                     206.0             NaN               NaN   \n1                     193.0        390000.0               USD   \n2                      45.0         47000.0               USD   \n3                     180.0        400000.0               USD   \n4                      98.0        102000.0               USD   \n\n       property_title  \n0      Casa - Capital  \n1       Casa - Malvín  \n2      Casa - Uruguay  \n3    Casa - El Chorro  \n4  PH - Villa Farrell  ",
      "text/html": "<div>\n<style scoped>\n    .dataframe tbody tr th:only-of-type {\n        vertical-align: middle;\n    }\n\n    .dataframe tbody tr th {\n        vertical-align: top;\n    }\n\n    .dataframe thead th {\n        text-align: right;\n    }\n</style>\n<table border=\"1\" class=\"dataframe\">\n  <thead>\n    <tr style=\"text-align: right;\">\n      <th></th>\n      <th>id</th>\n      <th>start_date</th>\n      <th>end_date</th>\n      <th>created_on</th>\n      <th>latitud</th>\n      <th>longitud</th>\n      <th>place_l2</th>\n      <th>place_l3</th>\n      <th>place_l4</th>\n      <th>place_l5</th>\n      <th>place_l6</th>\n      <th>operation</th>\n      <th>property_type</th>\n      <th>property_rooms</th>\n      <th>property_bedrooms</th>\n      <th>property_surface_total</th>\n      <th>property_surface_covered</th>\n      <th>property_price</th>\n      <th>property_currency</th>\n      <th>property_title</th>\n    </tr>\n  </thead>\n  <tbody>\n    <tr>\n      <th>0</th>\n      <td>XZq2dFGxBiboHY3Bo/tqlw==</td>\n      <td>2021-09-09</td>\n      <td>2022-01-27</td>\n      <td>2021-09-09</td>\n      <td>-38.957632</td>\n      <td>-68.105443</td>\n      <td>Neuquén</td>\n      <td>NaN</td>\n      <td>NaN</td>\n      <td>NaN</td>\n      <td>NaN</td>\n      <td>Venta</td>\n      <td>Casa</td>\n      <td>6.0</td>\n      <td>NaN</td>\n      <td>NaN</td>\n      <td>206.0</td>\n      <td>NaN</td>\n      <td>NaN</td>\n      <td>Casa - Capital</td>\n    </tr>\n    <tr>\n      <th>1</th>\n      <td>8afoK+yMH/rnnlYiktwgNA==</td>\n      <td>2021-09-09</td>\n      <td>2021-10-23</td>\n      <td>2021-09-09</td>\n      <td>-34.888878</td>\n      <td>-56.092368</td>\n      <td>Montevideo</td>\n      <td>NaN</td>\n      <td>NaN</td>\n      <td>NaN</td>\n      <td>NaN</td>\n      <td>Venta</td>\n      <td>Casa</td>\n      <td>4.0</td>\n      <td>3.0</td>\n      <td>193.0</td>\n      <td>193.0</td>\n      <td>390000.0</td>\n      <td>USD</td>\n      <td>Casa - Malvín</td>\n    </tr>\n    <tr>\n      <th>2</th>\n      <td>iVaG5rBB47dd1Ya4BMXREA==</td>\n      <td>2021-09-09</td>\n      <td>2022-03-09</td>\n      <td>2021-09-09</td>\n      <td>-32.488717</td>\n      <td>-58.257499</td>\n      <td>Entre Ríos</td>\n      <td>NaN</td>\n      <td>NaN</td>\n      <td>NaN</td>\n      <td>NaN</td>\n      <td>Venta</td>\n      <td>Casa</td>\n      <td>NaN</td>\n      <td>NaN</td>\n      <td>110.0</td>\n      <td>45.0</td>\n      <td>47000.0</td>\n      <td>USD</td>\n      <td>Casa - Uruguay</td>\n    </tr>\n    <tr>\n      <th>3</th>\n      <td>QE1QVMWKAHWkd0qT0FtPWA==</td>\n      <td>2021-09-09</td>\n      <td>2022-01-27</td>\n      <td>2021-09-09</td>\n      <td>-34.900165</td>\n      <td>-54.808453</td>\n      <td>Maldonado</td>\n      <td>NaN</td>\n      <td>NaN</td>\n      <td>NaN</td>\n      <td>NaN</td>\n      <td>Venta</td>\n      <td>Casa</td>\n      <td>NaN</td>\n      <td>3.0</td>\n      <td>NaN</td>\n      <td>180.0</td>\n      <td>400000.0</td>\n      <td>USD</td>\n      <td>Casa - El Chorro</td>\n    </tr>\n    <tr>\n      <th>4</th>\n      <td>tJ5lSk7IysG/71OGhacNZA==</td>\n      <td>2021-09-09</td>\n      <td>2022-01-27</td>\n      <td>2021-09-09</td>\n      <td>-38.954528</td>\n      <td>-68.041862</td>\n      <td>Neuquén</td>\n      <td>NaN</td>\n      <td>NaN</td>\n      <td>NaN</td>\n      <td>NaN</td>\n      <td>Venta</td>\n      <td>PH</td>\n      <td>3.0</td>\n      <td>2.0</td>\n      <td>NaN</td>\n      <td>98.0</td>\n      <td>102000.0</td>\n      <td>USD</td>\n      <td>PH - Villa Farrell</td>\n    </tr>\n  </tbody>\n</table>\n</div>"
     },
     "execution_count": 2,
     "metadata": {},
     "output_type": "execute_result"
    }
   ],
   "source": [
    "ds = pd.read_csv('./datasets/properati_argentina_2021.csv')\n",
    "houses = ds.copy()\n",
    "houses.head()"
   ],
   "metadata": {
    "collapsed": false,
    "pycharm": {
     "name": "#%%\n"
    }
   }
  },
  {
   "cell_type": "code",
   "execution_count": 4,
   "outputs": [
    {
     "data": {
      "text/plain": "(460154, 20)"
     },
     "execution_count": 4,
     "metadata": {},
     "output_type": "execute_result"
    }
   ],
   "source": [
    "houses.shape"
   ],
   "metadata": {
    "collapsed": false,
    "pycharm": {
     "name": "#%%\n"
    }
   }
  },
  {
   "cell_type": "code",
   "execution_count": 5,
   "outputs": [
    {
     "data": {
      "text/plain": "             latitud       longitud  place_l6  property_rooms  \\\ncount  419740.000000  419740.000000       0.0   368498.000000   \nmean      -34.228570     -59.557066       NaN        3.278053   \nstd         3.251509       2.905129       NaN        1.870832   \nmin       -54.832057    -103.219258       NaN        1.000000   \n25%       -34.640132     -58.899343       NaN        2.000000   \n50%       -34.585122     -58.488309       NaN        3.000000   \n75%       -34.423414     -58.404876       NaN        4.000000   \nmax        42.557773     -35.044991       NaN       40.000000   \n\n       property_bedrooms  property_surface_total  property_surface_covered  \\\ncount      344113.000000           397813.000000              4.279160e+05   \nmean            2.297960              420.601250              9.605005e+03   \nstd             1.673985             4026.380748              3.440367e+06   \nmin            -3.000000               -1.000000             -3.000000e+00   \n25%             1.000000               50.000000              4.500000e+01   \n50%             2.000000               90.000000              7.800000e+01   \n75%             3.000000              210.000000              1.700000e+02   \nmax           390.000000           200000.000000              2.147484e+09   \n\n       property_price  \ncount    4.421530e+05  \nmean     3.063273e+05  \nstd      4.899613e+06  \nmin      0.000000e+00  \n25%      4.490000e+04  \n50%      9.800000e+04  \n75%      1.990000e+05  \nmax      1.500000e+09  ",
      "text/html": "<div>\n<style scoped>\n    .dataframe tbody tr th:only-of-type {\n        vertical-align: middle;\n    }\n\n    .dataframe tbody tr th {\n        vertical-align: top;\n    }\n\n    .dataframe thead th {\n        text-align: right;\n    }\n</style>\n<table border=\"1\" class=\"dataframe\">\n  <thead>\n    <tr style=\"text-align: right;\">\n      <th></th>\n      <th>latitud</th>\n      <th>longitud</th>\n      <th>place_l6</th>\n      <th>property_rooms</th>\n      <th>property_bedrooms</th>\n      <th>property_surface_total</th>\n      <th>property_surface_covered</th>\n      <th>property_price</th>\n    </tr>\n  </thead>\n  <tbody>\n    <tr>\n      <th>count</th>\n      <td>419740.000000</td>\n      <td>419740.000000</td>\n      <td>0.0</td>\n      <td>368498.000000</td>\n      <td>344113.000000</td>\n      <td>397813.000000</td>\n      <td>4.279160e+05</td>\n      <td>4.421530e+05</td>\n    </tr>\n    <tr>\n      <th>mean</th>\n      <td>-34.228570</td>\n      <td>-59.557066</td>\n      <td>NaN</td>\n      <td>3.278053</td>\n      <td>2.297960</td>\n      <td>420.601250</td>\n      <td>9.605005e+03</td>\n      <td>3.063273e+05</td>\n    </tr>\n    <tr>\n      <th>std</th>\n      <td>3.251509</td>\n      <td>2.905129</td>\n      <td>NaN</td>\n      <td>1.870832</td>\n      <td>1.673985</td>\n      <td>4026.380748</td>\n      <td>3.440367e+06</td>\n      <td>4.899613e+06</td>\n    </tr>\n    <tr>\n      <th>min</th>\n      <td>-54.832057</td>\n      <td>-103.219258</td>\n      <td>NaN</td>\n      <td>1.000000</td>\n      <td>-3.000000</td>\n      <td>-1.000000</td>\n      <td>-3.000000e+00</td>\n      <td>0.000000e+00</td>\n    </tr>\n    <tr>\n      <th>25%</th>\n      <td>-34.640132</td>\n      <td>-58.899343</td>\n      <td>NaN</td>\n      <td>2.000000</td>\n      <td>1.000000</td>\n      <td>50.000000</td>\n      <td>4.500000e+01</td>\n      <td>4.490000e+04</td>\n    </tr>\n    <tr>\n      <th>50%</th>\n      <td>-34.585122</td>\n      <td>-58.488309</td>\n      <td>NaN</td>\n      <td>3.000000</td>\n      <td>2.000000</td>\n      <td>90.000000</td>\n      <td>7.800000e+01</td>\n      <td>9.800000e+04</td>\n    </tr>\n    <tr>\n      <th>75%</th>\n      <td>-34.423414</td>\n      <td>-58.404876</td>\n      <td>NaN</td>\n      <td>4.000000</td>\n      <td>3.000000</td>\n      <td>210.000000</td>\n      <td>1.700000e+02</td>\n      <td>1.990000e+05</td>\n    </tr>\n    <tr>\n      <th>max</th>\n      <td>42.557773</td>\n      <td>-35.044991</td>\n      <td>NaN</td>\n      <td>40.000000</td>\n      <td>390.000000</td>\n      <td>200000.000000</td>\n      <td>2.147484e+09</td>\n      <td>1.500000e+09</td>\n    </tr>\n  </tbody>\n</table>\n</div>"
     },
     "execution_count": 5,
     "metadata": {},
     "output_type": "execute_result"
    }
   ],
   "source": [
    "houses.describe()"
   ],
   "metadata": {
    "collapsed": false,
    "pycharm": {
     "name": "#%%\n"
    }
   }
  },
  {
   "cell_type": "code",
   "execution_count": 6,
   "outputs": [
    {
     "name": "stdout",
     "output_type": "stream",
     "text": [
      "id                            0.000000\n",
      "start_date                    0.000000\n",
      "end_date                      0.000000\n",
      "created_on                    0.000000\n",
      "latitud                       8.782712\n",
      "longitud                      8.782712\n",
      "place_l2                      0.000000\n",
      "place_l3                      4.887277\n",
      "place_l4                     69.788375\n",
      "place_l5                     99.471916\n",
      "place_l6                    100.000000\n",
      "operation                     0.000000\n",
      "property_type                 0.000000\n",
      "property_rooms               19.918549\n",
      "property_bedrooms            25.217862\n",
      "property_surface_total       13.547856\n",
      "property_surface_covered      7.005915\n",
      "property_price                3.911951\n",
      "property_currency             4.034302\n",
      "property_title                0.000000\n",
      "dtype: float64\n"
     ]
    }
   ],
   "source": [
    "filas_totales = houses.shape[0]\n",
    "print(houses.isna().sum() / filas_totales * 100)"
   ],
   "metadata": {
    "collapsed": false,
    "pycharm": {
     "name": "#%%\n"
    }
   }
  },
  {
   "cell_type": "code",
   "execution_count": 19,
   "outputs": [
    {
     "data": {
      "text/plain": "<AxesSubplot:>"
     },
     "execution_count": 19,
     "metadata": {},
     "output_type": "execute_result"
    },
    {
     "data": {
      "text/plain": "<Figure size 432x288 with 1 Axes>",
      "image/png": "[encoded data removed]"
     },
     "metadata": {
      "needs_background": "light"
     },
     "output_type": "display_data"
    }
   ],
   "source": [
    "# top 10 barrios\n",
    "houses.place_l5.value_counts().head(10).plot.bar()"
   ],
   "metadata": {
    "collapsed": false,
    "pycharm": {
     "name": "#%%\n"
    }
   }
  },
  {
   "cell_type": "code",
   "execution_count": 13,
   "outputs": [
    {
     "data": {
      "text/plain": "<AxesSubplot:>"
     },
     "execution_count": 13,
     "metadata": {},
     "output_type": "execute_result"
    },
    {
     "data": {
      "text/plain": "<Figure size 432x288 with 1 Axes>",
      "image/png": "[encoded data removed]"
     },
     "metadata": {
      "needs_background": "light"
     },
     "output_type": "display_data"
    }
   ],
   "source": [
    "# top 10 ciudades\n",
    "houses.place_l3.value_counts().head(10).plot.bar()"
   ],
   "metadata": {
    "collapsed": false,
    "pycharm": {
     "name": "#%%\n"
    }
   }
  },
  {
   "cell_type": "code",
   "execution_count": 10,
   "outputs": [
    {
     "data": {
      "text/plain": "<AxesSubplot:>"
     },
     "execution_count": 10,
     "metadata": {},
     "output_type": "execute_result"
    },
    {
     "data": {
      "text/plain": "<Figure size 432x288 with 1 Axes>",
      "image/png": "[encoded data removed]"
     },
     "metadata": {
      "needs_background": "light"
     },
     "output_type": "display_data"
    }
   ],
   "source": [
    "houses['property_type'].value_counts().plot.bar()"
   ],
   "metadata": {
    "collapsed": false,
    "pycharm": {
     "name": "#%%\n"
    }
   }
  },
  {
   "cell_type": "markdown",
   "source": [],
   "metadata": {
    "collapsed": false,
    "pycharm": {
     "name": "#%% md\n"
    }
   }
  },
  {
   "cell_type": "code",
   "execution_count": 26,
   "outputs": [
    {
     "data": {
      "text/plain": "(18001, 20)"
     },
     "execution_count": 26,
     "metadata": {},
     "output_type": "execute_result"
    }
   ],
   "source": [
    "houses[houses.property_price.isna()].shape\n",
    "# 18 mil casas sin precio"
   ],
   "metadata": {
    "collapsed": false,
    "pycharm": {
     "name": "#%%\n"
    }
   }
  },
  {
   "cell_type": "markdown",
   "source": [
    "Hay 18 mil casas sin precio, representan un 3% de los datos, como queremos precedir el precio estas filas no nos sirven."
   ],
   "metadata": {
    "collapsed": false,
    "pycharm": {
     "name": "#%% md\n"
    }
   }
  },
  {
   "cell_type": "code",
   "execution_count": 27,
   "outputs": [],
   "source": [
    "houses.dropna(subset=['property_price'], inplace=True)"
   ],
   "metadata": {
    "collapsed": false,
    "pycharm": {
     "name": "#%%\n"
    }
   }
  },
  {
   "cell_type": "code",
   "execution_count": 28,
   "outputs": [
    {
     "name": "stdout",
     "output_type": "stream",
     "text": [
      "id                            0.000000\n",
      "start_date                    0.000000\n",
      "end_date                      0.000000\n",
      "created_on                    0.000000\n",
      "latitud                       8.836986\n",
      "longitud                      8.836986\n",
      "place_l2                      0.000000\n",
      "place_l3                      4.762379\n",
      "place_l4                     69.351333\n",
      "place_l5                     99.462629\n",
      "place_l6                    100.000000\n",
      "operation                     0.000000\n",
      "property_type                 0.000000\n",
      "property_rooms               19.258040\n",
      "property_bedrooms            24.853840\n",
      "property_surface_total       13.405088\n",
      "property_surface_covered      6.936513\n",
      "property_price                0.000000\n",
      "property_currency             0.127331\n",
      "property_title                0.000000\n",
      "dtype: float64\n"
     ]
    }
   ],
   "source": [
    "# Verifico que haya bajado el porcentaje\n",
    "filas_totales = houses.shape[0]\n",
    "print(houses.isna().sum() / filas_totales * 100)"
   ],
   "metadata": {
    "collapsed": false,
    "pycharm": {
     "name": "#%%\n"
    }
   }
  },
  {
   "cell_type": "code",
   "execution_count": 29,
   "outputs": [
    {
     "data": {
      "text/plain": "(0, 20)"
     },
     "execution_count": 29,
     "metadata": {},
     "output_type": "execute_result"
    }
   ],
   "source": [
    "houses[houses.property_price.isna()].shape\n",
    "# 18 mil casas sin precio"
   ],
   "metadata": {
    "collapsed": false,
    "pycharm": {
     "name": "#%%\n"
    }
   }
  },
  {
   "cell_type": "code",
   "execution_count": 37,
   "outputs": [
    {
     "data": {
      "text/plain": "(563, 20)"
     },
     "execution_count": 37,
     "metadata": {},
     "output_type": "execute_result"
    }
   ],
   "source": [
    "houses[houses.property_price == 0].shape"
   ],
   "metadata": {
    "collapsed": false,
    "pycharm": {
     "name": "#%%\n"
    }
   }
  },
  {
   "cell_type": "markdown",
   "source": [
    "Además hay 563 filas con el precio en 0, vamos a borrarlas por el mismo motivo."
   ],
   "metadata": {
    "collapsed": false,
    "pycharm": {
     "name": "#%% md\n"
    }
   }
  },
  {
   "cell_type": "code",
   "execution_count": 38,
   "outputs": [
    {
     "data": {
      "text/plain": "(0, 20)"
     },
     "execution_count": 38,
     "metadata": {},
     "output_type": "execute_result"
    }
   ],
   "source": [
    "houses.drop(houses[houses.property_price == 0].index, inplace=True)\n",
    "houses[houses.property_price == 0].shape"
   ],
   "metadata": {
    "collapsed": false,
    "pycharm": {
     "name": "#%%\n"
    }
   }
  },
  {
   "cell_type": "code",
   "execution_count": 42,
   "outputs": [
    {
     "name": "stdout",
     "output_type": "stream",
     "text": [
      "<class 'pandas.core.frame.DataFrame'>\n",
      "Int64Index: 441590 entries, 1 to 460153\n",
      "Data columns (total 20 columns):\n",
      " #   Column                    Non-Null Count   Dtype  \n",
      "---  ------                    --------------   -----  \n",
      " 0   id                        441590 non-null  object \n",
      " 1   start_date                441590 non-null  object \n",
      " 2   end_date                  441590 non-null  object \n",
      " 3   created_on                441590 non-null  object \n",
      " 4   latitud                   402542 non-null  float64\n",
      " 5   longitud                  402542 non-null  float64\n",
      " 6   place_l2                  441590 non-null  object \n",
      " 7   place_l3                  420549 non-null  object \n",
      " 8   place_l4                  135359 non-null  object \n",
      " 9   place_l5                  2374 non-null    object \n",
      " 10  place_l6                  0 non-null       float64\n",
      " 11  operation                 441590 non-null  object \n",
      " 12  property_type             441590 non-null  object \n",
      " 13  property_rooms            356585 non-null  float64\n",
      " 14  property_bedrooms         331850 non-null  float64\n",
      " 15  property_surface_total    382397 non-null  float64\n",
      " 16  property_surface_covered  410942 non-null  float64\n",
      " 17  property_price            441590 non-null  float64\n",
      " 18  property_currency         441590 non-null  object \n",
      " 19  property_title            441590 non-null  object \n",
      "dtypes: float64(8), object(12)\n",
      "memory usage: 70.8+ MB\n"
     ]
    }
   ],
   "source": [
    "houses.start_date = pd.to_datetime(houses.start_date)\n",
    "houses.end_date = pd.to_datetime(houses.end_date)"
   ],
   "metadata": {
    "collapsed": false,
    "pycharm": {
     "name": "#%%\n"
    }
   }
  },
  {
   "cell_type": "code",
   "execution_count": 54,
   "outputs": [
    {
     "data": {
      "text/plain": "<AxesSubplot:title={'center':'Promedio de precio por tipo de propiedad'}, xlabel='property_type'>"
     },
     "execution_count": 54,
     "metadata": {},
     "output_type": "execute_result"
    },
    {
     "data": {
      "text/plain": "<Figure size 432x288 with 1 Axes>",
      "image/png": "[encoded data removed]"
     },
     "metadata": {
      "needs_background": "light"
     },
     "output_type": "display_data"
    }
   ],
   "source": [
    "houses.groupby('property_type')['property_price'].mean().plot.bar(title='Promedio de precio por tipo de propiedad')"
   ],
   "metadata": {
    "collapsed": false,
    "pycharm": {
     "name": "#%%\n"
    }
   }
  }
 ],
 "metadata": {
  "kernelspec": {
   "display_name": "Python 3",
   "language": "python",
   "name": "python3"
  },
  "language_info": {
   "codemirror_mode": {
    "name": "ipython",
    "version": 2
   },
   "file_extension": ".py",
   "mimetype": "text/x-python",
   "name": "python",
   "nbconvert_exporter": "python",
   "pygments_lexer": "ipython2",
   "version": "2.7.6"
  }
 },
 "nbformat": 4,
 "nbformat_minor": 0
}