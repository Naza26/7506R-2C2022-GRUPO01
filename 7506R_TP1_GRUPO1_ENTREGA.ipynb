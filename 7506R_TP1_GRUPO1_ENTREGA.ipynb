{
  "cells": [
    {
      "cell_type": "markdown",
      "metadata": {
        "id": "2AgtT6A646OQ",
        "pycharm": {
          "name": "#%% md\n"
        }
      },
      "source": [
        "# 7506 - Trabajo práctico 1\n"
      ]
    },
    {
      "cell_type": "markdown",
      "metadata": {
        "id": "JiW5g17D46OU",
        "pycharm": {
          "name": "#%% md\n"
        },
        "tags": []
      },
      "source": [
        "##### Librerías"
      ]
    },
    {
      "cell_type": "code",
      "execution_count": 2650,
      "metadata": {
        "id": "2Rq6z1L_LQOH",
        "jupyter": {
          "outputs_hidden": false
        },
        "pycharm": {
          "name": "#%%\n"
        }
      },
      "outputs": [],
      "source": [
        "import pandas as pd\n",
        "from pandas.plotting import scatter_matrix\n",
        "import numpy as np\n",
        "import matplotlib.pyplot as plt\n",
        "import seaborn as sns\n",
        "import re\n",
        "from sklearn.linear_model import LinearRegression\n",
        "from sklearn.neighbors import LocalOutlierFactor\n",
        "import scipy.stats as st\n",
        "import scipy as sc\n",
        "from sklearn.ensemble import IsolationForest\n",
        "import sklearn as sk\n",
        "import geopandas as gpd\n",
        "\n",
        "import warnings\n",
        "\n",
        "warnings.simplefilter(action='ignore', category=FutureWarning)\n",
        "warnings.simplefilter(action='ignore', category=UserWarning)"
      ]
    },
    {
      "cell_type": "code",
      "execution_count": 2651,
      "metadata": {
        "id": "BW9HZZKHLQOI",
        "jupyter": {
          "outputs_hidden": false
        },
        "pycharm": {
          "name": "#%%\n"
        }
      },
      "outputs": [],
      "source": [
        "from IPython.display import display, HTML\n",
        "\n",
        "\n",
        "def display_side_by_side(dfs: list, captions: list):\n",
        "    \"\"\"Display tables side by side to save vertical space\n",
        "    Input:\n",
        "        dfs: list of pandas.DataFrame\n",
        "        captions: list of table captions\n",
        "    \"\"\"\n",
        "    output = \"\"\n",
        "    combined = dict(zip(captions, dfs))\n",
        "    for caption, df in combined.items():\n",
        "        output += df.style.set_table_attributes(\"style='display:inline'\").set_caption(caption)._repr_html_()\n",
        "        output += \"\\xa0\\xa0\\xa0\"\n",
        "    display(HTML(output))"
      ]
    },
    {
      "cell_type": "code",
      "execution_count": 2652,
      "metadata": {
        "id": "Nd8DsdWGLQOJ",
        "pycharm": {
          "name": "#%%\n"
        }
      },
      "outputs": [],
      "source": [
        "complete_dataset = pd.read_csv(\"./properati_argentina_2021.csv\")\n",
        "df = complete_dataset.copy()"
      ]
    },
    {
      "cell_type": "markdown",
      "metadata": {
        "id": "cFcWcECeLQOK",
        "pycharm": {
          "name": "#%% md\n"
        },
        "tags": []
      },
      "source": [
        "## Análisis Exploratorio y Preprocesamiento de Datos"
      ]
    },
    {
      "cell_type": "markdown",
      "metadata": {
        "id": "g480r3LoLQOK",
        "pycharm": {
          "name": "#%% md\n"
        }
      },
      "source": [
        "Primero, observaremos un poco los datos que tiene el dataset"
      ]
    },
    {
      "cell_type": "markdown",
      "metadata": {
        "id": "_N62ZwwhLQOL",
        "pycharm": {
          "name": "#%% md\n"
        }
      },
      "source": [
        "**Primeras 5 observaciones**"
      ]
    },
    {
      "cell_type": "code",
      "execution_count": 2653,
      "metadata": {
        "colab": {
          "base_uri": "https://localhost:8080/",
          "height": 357
        },
        "id": "s3m_M2GeLQOL",
        "outputId": "8771b6ba-df85-4615-bf9d-e76783777f60",
        "pycharm": {
          "name": "#%%\n"
        }
      },
      "outputs": [
        {
          "output_type": "execute_result",
          "data": {
            "text/plain": [
              "                         id  start_date    end_date  created_on    latitud  \\\n",
              "0  XZq2dFGxBiboHY3Bo/tqlw==  2021-09-09  2022-01-27  2021-09-09 -38.957632   \n",
              "1  8afoK+yMH/rnnlYiktwgNA==  2021-09-09  2021-10-23  2021-09-09 -34.888878   \n",
              "2  iVaG5rBB47dd1Ya4BMXREA==  2021-09-09  2022-03-09  2021-09-09 -32.488717   \n",
              "3  QE1QVMWKAHWkd0qT0FtPWA==  2021-09-09  2022-01-27  2021-09-09 -34.900165   \n",
              "4  tJ5lSk7IysG/71OGhacNZA==  2021-09-09  2022-01-27  2021-09-09 -38.954528   \n",
              "\n",
              "    longitud    place_l2 place_l3 place_l4 place_l5  place_l6 operation  \\\n",
              "0 -68.105443     Neuquén      NaN      NaN      NaN       NaN     Venta   \n",
              "1 -56.092368  Montevideo      NaN      NaN      NaN       NaN     Venta   \n",
              "2 -58.257499  Entre Ríos      NaN      NaN      NaN       NaN     Venta   \n",
              "3 -54.808453   Maldonado      NaN      NaN      NaN       NaN     Venta   \n",
              "4 -68.041862     Neuquén      NaN      NaN      NaN       NaN     Venta   \n",
              "\n",
              "  property_type  property_rooms  property_bedrooms  property_surface_total  \\\n",
              "0          Casa             6.0                NaN                     NaN   \n",
              "1          Casa             4.0                3.0                   193.0   \n",
              "2          Casa             NaN                NaN                   110.0   \n",
              "3          Casa             NaN                3.0                     NaN   \n",
              "4            PH             3.0                2.0                     NaN   \n",
              "\n",
              "   property_surface_covered  property_price property_currency  \\\n",
              "0                     206.0             NaN               NaN   \n",
              "1                     193.0        390000.0               USD   \n",
              "2                      45.0         47000.0               USD   \n",
              "3                     180.0        400000.0               USD   \n",
              "4                      98.0        102000.0               USD   \n",
              "\n",
              "       property_title  \n",
              "0      Casa - Capital  \n",
              "1       Casa - Malvín  \n",
              "2      Casa - Uruguay  \n",
              "3    Casa - El Chorro  \n",
              "4  PH - Villa Farrell  "
            ],
            "text/html": [
              "\n",
              "  <div id=\"df-d5b87845-b12d-49a7-a9bc-153f136f0b79\">\n",
              "    <div class=\"colab-df-container\">\n",
              "      <div>\n",
              "<style scoped>\n",
              "    .dataframe tbody tr th:only-of-type {\n",
              "        vertical-align: middle;\n",
              "    }\n",
              "\n",
              "    .dataframe tbody tr th {\n",
              "        vertical-align: top;\n",
              "    }\n",
              "\n",
              "    .dataframe thead th {\n",
              "        text-align: right;\n",
              "    }\n",
              "</style>\n",
              "<table border=\"1\" class=\"dataframe\">\n",
              "  <thead>\n",
              "    <tr style=\"text-align: right;\">\n",
              "      <th></th>\n",
              "      <th>id</th>\n",
              "      <th>start_date</th>\n",
              "      <th>end_date</th>\n",
              "      <th>created_on</th>\n",
              "      <th>latitud</th>\n",
              "      <th>longitud</th>\n",
              "      <th>place_l2</th>\n",
              "      <th>place_l3</th>\n",
              "      <th>place_l4</th>\n",
              "      <th>place_l5</th>\n",
              "      <th>place_l6</th>\n",
              "      <th>operation</th>\n",
              "      <th>property_type</th>\n",
              "      <th>property_rooms</th>\n",
              "      <th>property_bedrooms</th>\n",
              "      <th>property_surface_total</th>\n",
              "      <th>property_surface_covered</th>\n",
              "      <th>property_price</th>\n",
              "      <th>property_currency</th>\n",
              "      <th>property_title</th>\n",
              "    </tr>\n",
              "  </thead>\n",
              "  <tbody>\n",
              "    <tr>\n",
              "      <th>0</th>\n",
              "      <td>XZq2dFGxBiboHY3Bo/tqlw==</td>\n",
              "      <td>2021-09-09</td>\n",
              "      <td>2022-01-27</td>\n",
              "      <td>2021-09-09</td>\n",
              "      <td>-38.957632</td>\n",
              "      <td>-68.105443</td>\n",
              "      <td>Neuquén</td>\n",
              "      <td>NaN</td>\n",
              "      <td>NaN</td>\n",
              "      <td>NaN</td>\n",
              "      <td>NaN</td>\n",
              "      <td>Venta</td>\n",
              "      <td>Casa</td>\n",
              "      <td>6.0</td>\n",
              "      <td>NaN</td>\n",
              "      <td>NaN</td>\n",
              "      <td>206.0</td>\n",
              "      <td>NaN</td>\n",
              "      <td>NaN</td>\n",
              "      <td>Casa - Capital</td>\n",
              "    </tr>\n",
              "    <tr>\n",
              "      <th>1</th>\n",
              "      <td>8afoK+yMH/rnnlYiktwgNA==</td>\n",
              "      <td>2021-09-09</td>\n",
              "      <td>2021-10-23</td>\n",
              "      <td>2021-09-09</td>\n",
              "      <td>-34.888878</td>\n",
              "      <td>-56.092368</td>\n",
              "      <td>Montevideo</td>\n",
              "      <td>NaN</td>\n",
              "      <td>NaN</td>\n",
              "      <td>NaN</td>\n",
              "      <td>NaN</td>\n",
              "      <td>Venta</td>\n",
              "      <td>Casa</td>\n",
              "      <td>4.0</td>\n",
              "      <td>3.0</td>\n",
              "      <td>193.0</td>\n",
              "      <td>193.0</td>\n",
              "      <td>390000.0</td>\n",
              "      <td>USD</td>\n",
              "      <td>Casa - Malvín</td>\n",
              "    </tr>\n",
              "    <tr>\n",
              "      <th>2</th>\n",
              "      <td>iVaG5rBB47dd1Ya4BMXREA==</td>\n",
              "      <td>2021-09-09</td>\n",
              "      <td>2022-03-09</td>\n",
              "      <td>2021-09-09</td>\n",
              "      <td>-32.488717</td>\n",
              "      <td>-58.257499</td>\n",
              "      <td>Entre Ríos</td>\n",
              "      <td>NaN</td>\n",
              "      <td>NaN</td>\n",
              "      <td>NaN</td>\n",
              "      <td>NaN</td>\n",
              "      <td>Venta</td>\n",
              "      <td>Casa</td>\n",
              "      <td>NaN</td>\n",
              "      <td>NaN</td>\n",
              "      <td>110.0</td>\n",
              "      <td>45.0</td>\n",
              "      <td>47000.0</td>\n",
              "      <td>USD</td>\n",
              "      <td>Casa - Uruguay</td>\n",
              "    </tr>\n",
              "    <tr>\n",
              "      <th>3</th>\n",
              "      <td>QE1QVMWKAHWkd0qT0FtPWA==</td>\n",
              "      <td>2021-09-09</td>\n",
              "      <td>2022-01-27</td>\n",
              "      <td>2021-09-09</td>\n",
              "      <td>-34.900165</td>\n",
              "      <td>-54.808453</td>\n",
              "      <td>Maldonado</td>\n",
              "      <td>NaN</td>\n",
              "      <td>NaN</td>\n",
              "      <td>NaN</td>\n",
              "      <td>NaN</td>\n",
              "      <td>Venta</td>\n",
              "      <td>Casa</td>\n",
              "      <td>NaN</td>\n",
              "      <td>3.0</td>\n",
              "      <td>NaN</td>\n",
              "      <td>180.0</td>\n",
              "      <td>400000.0</td>\n",
              "      <td>USD</td>\n",
              "      <td>Casa - El Chorro</td>\n",
              "    </tr>\n",
              "    <tr>\n",
              "      <th>4</th>\n",
              "      <td>tJ5lSk7IysG/71OGhacNZA==</td>\n",
              "      <td>2021-09-09</td>\n",
              "      <td>2022-01-27</td>\n",
              "      <td>2021-09-09</td>\n",
              "      <td>-38.954528</td>\n",
              "      <td>-68.041862</td>\n",
              "      <td>Neuquén</td>\n",
              "      <td>NaN</td>\n",
              "      <td>NaN</td>\n",
              "      <td>NaN</td>\n",
              "      <td>NaN</td>\n",
              "      <td>Venta</td>\n",
              "      <td>PH</td>\n",
              "      <td>3.0</td>\n",
              "      <td>2.0</td>\n",
              "      <td>NaN</td>\n",
              "      <td>98.0</td>\n",
              "      <td>102000.0</td>\n",
              "      <td>USD</td>\n",
              "      <td>PH - Villa Farrell</td>\n",
              "    </tr>\n",
              "  </tbody>\n",
              "</table>\n",
              "</div>\n",
              "      <button class=\"colab-df-convert\" onclick=\"convertToInteractive('df-d5b87845-b12d-49a7-a9bc-153f136f0b79')\"\n",
              "              title=\"Convert this dataframe to an interactive table.\"\n",
              "              style=\"display:none;\">\n",
              "        \n",
              "  <svg xmlns=\"http://www.w3.org/2000/svg\" height=\"24px\"viewBox=\"0 0 24 24\"\n",
              "       width=\"24px\">\n",
              "    <path d=\"M0 0h24v24H0V0z\" fill=\"none\"/>\n",
              "    <path d=\"M18.56 5.44l.94 2.06.94-2.06 2.06-.94-2.06-.94-.94-2.06-.94 2.06-2.06.94zm-11 1L8.5 8.5l.94-2.06 2.06-.94-2.06-.94L8.5 2.5l-.94 2.06-2.06.94zm10 10l.94 2.06.94-2.06 2.06-.94-2.06-.94-.94-2.06-.94 2.06-2.06.94z\"/><path d=\"M17.41 7.96l-1.37-1.37c-.4-.4-.92-.59-1.43-.59-.52 0-1.04.2-1.43.59L10.3 9.45l-7.72 7.72c-.78.78-.78 2.05 0 2.83L4 21.41c.39.39.9.59 1.41.59.51 0 1.02-.2 1.41-.59l7.78-7.78 2.81-2.81c.8-.78.8-2.07 0-2.86zM5.41 20L4 18.59l7.72-7.72 1.47 1.35L5.41 20z\"/>\n",
              "  </svg>\n",
              "      </button>\n",
              "      \n",
              "  <style>\n",
              "    .colab-df-container {\n",
              "      display:flex;\n",
              "      flex-wrap:wrap;\n",
              "      gap: 12px;\n",
              "    }\n",
              "\n",
              "    .colab-df-convert {\n",
              "      background-color: #E8F0FE;\n",
              "      border: none;\n",
              "      border-radius: 50%;\n",
              "      cursor: pointer;\n",
              "      display: none;\n",
              "      fill: #1967D2;\n",
              "      height: 32px;\n",
              "      padding: 0 0 0 0;\n",
              "      width: 32px;\n",
              "    }\n",
              "\n",
              "    .colab-df-convert:hover {\n",
              "      background-color: #E2EBFA;\n",
              "      box-shadow: 0px 1px 2px rgba(60, 64, 67, 0.3), 0px 1px 3px 1px rgba(60, 64, 67, 0.15);\n",
              "      fill: #174EA6;\n",
              "    }\n",
              "\n",
              "    [theme=dark] .colab-df-convert {\n",
              "      background-color: #3B4455;\n",
              "      fill: #D2E3FC;\n",
              "    }\n",
              "\n",
              "    [theme=dark] .colab-df-convert:hover {\n",
              "      background-color: #434B5C;\n",
              "      box-shadow: 0px 1px 3px 1px rgba(0, 0, 0, 0.15);\n",
              "      filter: drop-shadow(0px 1px 2px rgba(0, 0, 0, 0.3));\n",
              "      fill: #FFFFFF;\n",
              "    }\n",
              "  </style>\n",
              "\n",
              "      <script>\n",
              "        const buttonEl =\n",
              "          document.querySelector('#df-d5b87845-b12d-49a7-a9bc-153f136f0b79 button.colab-df-convert');\n",
              "        buttonEl.style.display =\n",
              "          google.colab.kernel.accessAllowed ? 'block' : 'none';\n",
              "\n",
              "        async function convertToInteractive(key) {\n",
              "          const element = document.querySelector('#df-d5b87845-b12d-49a7-a9bc-153f136f0b79');\n",
              "          const dataTable =\n",
              "            await google.colab.kernel.invokeFunction('convertToInteractive',\n",
              "                                                     [key], {});\n",
              "          if (!dataTable) return;\n",
              "\n",
              "          const docLinkHtml = 'Like what you see? Visit the ' +\n",
              "            '<a target=\"_blank\" href=https://colab.research.google.com/notebooks/data_table.ipynb>data table notebook</a>'\n",
              "            + ' to learn more about interactive tables.';\n",
              "          element.innerHTML = '';\n",
              "          dataTable['output_type'] = 'display_data';\n",
              "          await google.colab.output.renderOutput(dataTable, element);\n",
              "          const docLink = document.createElement('div');\n",
              "          docLink.innerHTML = docLinkHtml;\n",
              "          element.appendChild(docLink);\n",
              "        }\n",
              "      </script>\n",
              "    </div>\n",
              "  </div>\n",
              "  "
            ]
          },
          "metadata": {},
          "execution_count": 2653
        }
      ],
      "source": [
        "df.head()"
      ]
    },
    {
      "cell_type": "markdown",
      "metadata": {
        "id": "5qh28QRYpRwJ",
        "pycharm": {
          "name": "#%% md\n"
        }
      },
      "source": [
        "**Ultimas 5 observaciones**"
      ]
    },
    {
      "cell_type": "code",
      "execution_count": 2654,
      "metadata": {
        "colab": {
          "base_uri": "https://localhost:8080/",
          "height": 496
        },
        "id": "AbFB8gmtpRwJ",
        "outputId": "ebcdb423-c747-4286-a1a3-9cea361cdc10",
        "pycharm": {
          "name": "#%%\n"
        }
      },
      "outputs": [
        {
          "output_type": "execute_result",
          "data": {
            "text/plain": [
              "                              id  start_date    end_date  created_on  \\\n",
              "460149  EWHC/xcODFkeEA0+pPE6Rw==  2021-01-05  2021-01-08  2021-01-05   \n",
              "460150  txKUq0LjMaORjJQeeqTOfw==  2021-01-05  2021-11-01  2021-01-05   \n",
              "460151  E0zwHT18DX8AxhU22hXgng==  2021-01-05  2021-03-01  2021-01-05   \n",
              "460152  Ec4Tvy/WX5f6RgfaJf2FHQ==  2021-01-05  2021-11-28  2021-01-05   \n",
              "460153  Y7KBafQ+e5noGh2Pio0xLg==  2021-01-05  9999-12-31  2021-01-05   \n",
              "\n",
              "          latitud   longitud                  place_l2               place_l3  \\\n",
              "460149 -34.599594 -58.588715  Bs.As. G.B.A. Zona Oeste        Tres de Febrero   \n",
              "460150 -34.582777 -58.545220  Bs.As. G.B.A. Zona Norte     General San Martín   \n",
              "460151        NaN        NaN  Bs.As. G.B.A. Zona Norte     General San Martín   \n",
              "460152 -33.226234 -60.331848                  Santa Fe     Villa Constitución   \n",
              "460153 -26.827938 -65.220708                   Tucumán  San Miguel de Tucumán   \n",
              "\n",
              "           place_l4 place_l5  place_l6 operation    property_type  \\\n",
              "460149          NaN      NaN       NaN     Venta  Local comercial   \n",
              "460150  Villa Lynch      NaN       NaN     Venta  Local comercial   \n",
              "460151          NaN      NaN       NaN     Venta  Local comercial   \n",
              "460152          NaN      NaN       NaN  Alquiler  Local comercial   \n",
              "460153          NaN      NaN       NaN     Venta  Local comercial   \n",
              "\n",
              "        property_rooms  property_bedrooms  property_surface_total  \\\n",
              "460149             NaN                NaN                   113.0   \n",
              "460150             NaN                NaN                 11580.0   \n",
              "460151             NaN                NaN                   915.0   \n",
              "460152             NaN                NaN                     NaN   \n",
              "460153             1.0                NaN                   243.0   \n",
              "\n",
              "        property_surface_covered  property_price property_currency  \\\n",
              "460149                     113.0        190000.0               USD   \n",
              "460150                   11580.0       3500000.0               USD   \n",
              "460151                     915.0        800000.0               USD   \n",
              "460152                      15.0             NaN               NaN   \n",
              "460153                     133.0        160000.0               USD   \n",
              "\n",
              "                                           property_title  \n",
              "460149   LOCAL COMERCIAL MAS DE 100 MTS. - Ciudad jardín-  \n",
              "460150                      Nave Industrial - Villa Lynch  \n",
              "460151  importante edificio comercial en tres plantas ...  \n",
              "460152                         Local - Villa Constitucion  \n",
              "460153                      Local - San Miguel De Tucumán  "
            ],
            "text/html": [
              "\n",
              "  <div id=\"df-cf055dfd-f97b-4521-891b-51d3f44bd932\">\n",
              "    <div class=\"colab-df-container\">\n",
              "      <div>\n",
              "<style scoped>\n",
              "    .dataframe tbody tr th:only-of-type {\n",
              "        vertical-align: middle;\n",
              "    }\n",
              "\n",
              "    .dataframe tbody tr th {\n",
              "        vertical-align: top;\n",
              "    }\n",
              "\n",
              "    .dataframe thead th {\n",
              "        text-align: right;\n",
              "    }\n",
              "</style>\n",
              "<table border=\"1\" class=\"dataframe\">\n",
              "  <thead>\n",
              "    <tr style=\"text-align: right;\">\n",
              "      <th></th>\n",
              "      <th>id</th>\n",
              "      <th>start_date</th>\n",
              "      <th>end_date</th>\n",
              "      <th>created_on</th>\n",
              "      <th>latitud</th>\n",
              "      <th>longitud</th>\n",
              "      <th>place_l2</th>\n",
              "      <th>place_l3</th>\n",
              "      <th>place_l4</th>\n",
              "      <th>place_l5</th>\n",
              "      <th>place_l6</th>\n",
              "      <th>operation</th>\n",
              "      <th>property_type</th>\n",
              "      <th>property_rooms</th>\n",
              "      <th>property_bedrooms</th>\n",
              "      <th>property_surface_total</th>\n",
              "      <th>property_surface_covered</th>\n",
              "      <th>property_price</th>\n",
              "      <th>property_currency</th>\n",
              "      <th>property_title</th>\n",
              "    </tr>\n",
              "  </thead>\n",
              "  <tbody>\n",
              "    <tr>\n",
              "      <th>460149</th>\n",
              "      <td>EWHC/xcODFkeEA0+pPE6Rw==</td>\n",
              "      <td>2021-01-05</td>\n",
              "      <td>2021-01-08</td>\n",
              "      <td>2021-01-05</td>\n",
              "      <td>-34.599594</td>\n",
              "      <td>-58.588715</td>\n",
              "      <td>Bs.As. G.B.A. Zona Oeste</td>\n",
              "      <td>Tres de Febrero</td>\n",
              "      <td>NaN</td>\n",
              "      <td>NaN</td>\n",
              "      <td>NaN</td>\n",
              "      <td>Venta</td>\n",
              "      <td>Local comercial</td>\n",
              "      <td>NaN</td>\n",
              "      <td>NaN</td>\n",
              "      <td>113.0</td>\n",
              "      <td>113.0</td>\n",
              "      <td>190000.0</td>\n",
              "      <td>USD</td>\n",
              "      <td>LOCAL COMERCIAL MAS DE 100 MTS. - Ciudad jardín-</td>\n",
              "    </tr>\n",
              "    <tr>\n",
              "      <th>460150</th>\n",
              "      <td>txKUq0LjMaORjJQeeqTOfw==</td>\n",
              "      <td>2021-01-05</td>\n",
              "      <td>2021-11-01</td>\n",
              "      <td>2021-01-05</td>\n",
              "      <td>-34.582777</td>\n",
              "      <td>-58.545220</td>\n",
              "      <td>Bs.As. G.B.A. Zona Norte</td>\n",
              "      <td>General San Martín</td>\n",
              "      <td>Villa Lynch</td>\n",
              "      <td>NaN</td>\n",
              "      <td>NaN</td>\n",
              "      <td>Venta</td>\n",
              "      <td>Local comercial</td>\n",
              "      <td>NaN</td>\n",
              "      <td>NaN</td>\n",
              "      <td>11580.0</td>\n",
              "      <td>11580.0</td>\n",
              "      <td>3500000.0</td>\n",
              "      <td>USD</td>\n",
              "      <td>Nave Industrial - Villa Lynch</td>\n",
              "    </tr>\n",
              "    <tr>\n",
              "      <th>460151</th>\n",
              "      <td>E0zwHT18DX8AxhU22hXgng==</td>\n",
              "      <td>2021-01-05</td>\n",
              "      <td>2021-03-01</td>\n",
              "      <td>2021-01-05</td>\n",
              "      <td>NaN</td>\n",
              "      <td>NaN</td>\n",
              "      <td>Bs.As. G.B.A. Zona Norte</td>\n",
              "      <td>General San Martín</td>\n",
              "      <td>NaN</td>\n",
              "      <td>NaN</td>\n",
              "      <td>NaN</td>\n",
              "      <td>Venta</td>\n",
              "      <td>Local comercial</td>\n",
              "      <td>NaN</td>\n",
              "      <td>NaN</td>\n",
              "      <td>915.0</td>\n",
              "      <td>915.0</td>\n",
              "      <td>800000.0</td>\n",
              "      <td>USD</td>\n",
              "      <td>importante edificio comercial en tres plantas ...</td>\n",
              "    </tr>\n",
              "    <tr>\n",
              "      <th>460152</th>\n",
              "      <td>Ec4Tvy/WX5f6RgfaJf2FHQ==</td>\n",
              "      <td>2021-01-05</td>\n",
              "      <td>2021-11-28</td>\n",
              "      <td>2021-01-05</td>\n",
              "      <td>-33.226234</td>\n",
              "      <td>-60.331848</td>\n",
              "      <td>Santa Fe</td>\n",
              "      <td>Villa Constitución</td>\n",
              "      <td>NaN</td>\n",
              "      <td>NaN</td>\n",
              "      <td>NaN</td>\n",
              "      <td>Alquiler</td>\n",
              "      <td>Local comercial</td>\n",
              "      <td>NaN</td>\n",
              "      <td>NaN</td>\n",
              "      <td>NaN</td>\n",
              "      <td>15.0</td>\n",
              "      <td>NaN</td>\n",
              "      <td>NaN</td>\n",
              "      <td>Local - Villa Constitucion</td>\n",
              "    </tr>\n",
              "    <tr>\n",
              "      <th>460153</th>\n",
              "      <td>Y7KBafQ+e5noGh2Pio0xLg==</td>\n",
              "      <td>2021-01-05</td>\n",
              "      <td>9999-12-31</td>\n",
              "      <td>2021-01-05</td>\n",
              "      <td>-26.827938</td>\n",
              "      <td>-65.220708</td>\n",
              "      <td>Tucumán</td>\n",
              "      <td>San Miguel de Tucumán</td>\n",
              "      <td>NaN</td>\n",
              "      <td>NaN</td>\n",
              "      <td>NaN</td>\n",
              "      <td>Venta</td>\n",
              "      <td>Local comercial</td>\n",
              "      <td>1.0</td>\n",
              "      <td>NaN</td>\n",
              "      <td>243.0</td>\n",
              "      <td>133.0</td>\n",
              "      <td>160000.0</td>\n",
              "      <td>USD</td>\n",
              "      <td>Local - San Miguel De Tucumán</td>\n",
              "    </tr>\n",
              "  </tbody>\n",
              "</table>\n",
              "</div>\n",
              "      <button class=\"colab-df-convert\" onclick=\"convertToInteractive('df-cf055dfd-f97b-4521-891b-51d3f44bd932')\"\n",
              "              title=\"Convert this dataframe to an interactive table.\"\n",
              "              style=\"display:none;\">\n",
              "        \n",
              "  <svg xmlns=\"http://www.w3.org/2000/svg\" height=\"24px\"viewBox=\"0 0 24 24\"\n",
              "       width=\"24px\">\n",
              "    <path d=\"M0 0h24v24H0V0z\" fill=\"none\"/>\n",
              "    <path d=\"M18.56 5.44l.94 2.06.94-2.06 2.06-.94-2.06-.94-.94-2.06-.94 2.06-2.06.94zm-11 1L8.5 8.5l.94-2.06 2.06-.94-2.06-.94L8.5 2.5l-.94 2.06-2.06.94zm10 10l.94 2.06.94-2.06 2.06-.94-2.06-.94-.94-2.06-.94 2.06-2.06.94z\"/><path d=\"M17.41 7.96l-1.37-1.37c-.4-.4-.92-.59-1.43-.59-.52 0-1.04.2-1.43.59L10.3 9.45l-7.72 7.72c-.78.78-.78 2.05 0 2.83L4 21.41c.39.39.9.59 1.41.59.51 0 1.02-.2 1.41-.59l7.78-7.78 2.81-2.81c.8-.78.8-2.07 0-2.86zM5.41 20L4 18.59l7.72-7.72 1.47 1.35L5.41 20z\"/>\n",
              "  </svg>\n",
              "      </button>\n",
              "      \n",
              "  <style>\n",
              "    .colab-df-container {\n",
              "      display:flex;\n",
              "      flex-wrap:wrap;\n",
              "      gap: 12px;\n",
              "    }\n",
              "\n",
              "    .colab-df-convert {\n",
              "      background-color: #E8F0FE;\n",
              "      border: none;\n",
              "      border-radius: 50%;\n",
              "      cursor: pointer;\n",
              "      display: none;\n",
              "      fill: #1967D2;\n",
              "      height: 32px;\n",
              "      padding: 0 0 0 0;\n",
              "      width: 32px;\n",
              "    }\n",
              "\n",
              "    .colab-df-convert:hover {\n",
              "      background-color: #E2EBFA;\n",
              "      box-shadow: 0px 1px 2px rgba(60, 64, 67, 0.3), 0px 1px 3px 1px rgba(60, 64, 67, 0.15);\n",
              "      fill: #174EA6;\n",
              "    }\n",
              "\n",
              "    [theme=dark] .colab-df-convert {\n",
              "      background-color: #3B4455;\n",
              "      fill: #D2E3FC;\n",
              "    }\n",
              "\n",
              "    [theme=dark] .colab-df-convert:hover {\n",
              "      background-color: #434B5C;\n",
              "      box-shadow: 0px 1px 3px 1px rgba(0, 0, 0, 0.15);\n",
              "      filter: drop-shadow(0px 1px 2px rgba(0, 0, 0, 0.3));\n",
              "      fill: #FFFFFF;\n",
              "    }\n",
              "  </style>\n",
              "\n",
              "      <script>\n",
              "        const buttonEl =\n",
              "          document.querySelector('#df-cf055dfd-f97b-4521-891b-51d3f44bd932 button.colab-df-convert');\n",
              "        buttonEl.style.display =\n",
              "          google.colab.kernel.accessAllowed ? 'block' : 'none';\n",
              "\n",
              "        async function convertToInteractive(key) {\n",
              "          const element = document.querySelector('#df-cf055dfd-f97b-4521-891b-51d3f44bd932');\n",
              "          const dataTable =\n",
              "            await google.colab.kernel.invokeFunction('convertToInteractive',\n",
              "                                                     [key], {});\n",
              "          if (!dataTable) return;\n",
              "\n",
              "          const docLinkHtml = 'Like what you see? Visit the ' +\n",
              "            '<a target=\"_blank\" href=https://colab.research.google.com/notebooks/data_table.ipynb>data table notebook</a>'\n",
              "            + ' to learn more about interactive tables.';\n",
              "          element.innerHTML = '';\n",
              "          dataTable['output_type'] = 'display_data';\n",
              "          await google.colab.output.renderOutput(dataTable, element);\n",
              "          const docLink = document.createElement('div');\n",
              "          docLink.innerHTML = docLinkHtml;\n",
              "          element.appendChild(docLink);\n",
              "        }\n",
              "      </script>\n",
              "    </div>\n",
              "  </div>\n",
              "  "
            ]
          },
          "metadata": {},
          "execution_count": 2654
        }
      ],
      "source": [
        "df.tail()"
      ]
    },
    {
      "cell_type": "code",
      "execution_count": 2655,
      "metadata": {
        "colab": {
          "base_uri": "https://localhost:8080/"
        },
        "id": "s9BmxkQNLQOM",
        "outputId": "45fd4e93-2f5f-4a87-e07a-ab51dbef4235",
        "pycharm": {
          "name": "#%%\n"
        }
      },
      "outputs": [
        {
          "output_type": "stream",
          "name": "stdout",
          "text": [
            "El dataset tiene 460154 filas y 20 columnas\n"
          ]
        }
      ],
      "source": [
        "print(f\"El dataset tiene {df.shape[0]} filas y {df.shape[1]} columnas\")"
      ]
    },
    {
      "cell_type": "code",
      "execution_count": 2656,
      "metadata": {
        "colab": {
          "base_uri": "https://localhost:8080/",
          "height": 300
        },
        "id": "m5dvGyx2LQON",
        "outputId": "b2108798-2b6e-4e13-c147-5a640264c4cc",
        "pycharm": {
          "name": "#%%\n"
        }
      },
      "outputs": [
        {
          "output_type": "execute_result",
          "data": {
            "text/plain": [
              "             latitud       longitud  place_l6  property_rooms  \\\n",
              "count  419740.000000  419740.000000       0.0   368498.000000   \n",
              "mean      -34.228570     -59.557066       NaN        3.278053   \n",
              "std         3.251509       2.905129       NaN        1.870832   \n",
              "min       -54.832057    -103.219258       NaN        1.000000   \n",
              "25%       -34.640132     -58.899343       NaN        2.000000   \n",
              "50%       -34.585122     -58.488309       NaN        3.000000   \n",
              "75%       -34.423414     -58.404876       NaN        4.000000   \n",
              "max        42.557773     -35.044991       NaN       40.000000   \n",
              "\n",
              "       property_bedrooms  property_surface_total  property_surface_covered  \\\n",
              "count      344113.000000           397813.000000              4.279160e+05   \n",
              "mean            2.297960              420.601250              9.605005e+03   \n",
              "std             1.673985             4026.380748              3.440367e+06   \n",
              "min            -3.000000               -1.000000             -3.000000e+00   \n",
              "25%             1.000000               50.000000              4.500000e+01   \n",
              "50%             2.000000               90.000000              7.800000e+01   \n",
              "75%             3.000000              210.000000              1.700000e+02   \n",
              "max           390.000000           200000.000000              2.147484e+09   \n",
              "\n",
              "       property_price  \n",
              "count    4.421530e+05  \n",
              "mean     3.063273e+05  \n",
              "std      4.899613e+06  \n",
              "min      0.000000e+00  \n",
              "25%      4.490000e+04  \n",
              "50%      9.800000e+04  \n",
              "75%      1.990000e+05  \n",
              "max      1.500000e+09  "
            ],
            "text/html": [
              "\n",
              "  <div id=\"df-b6043ae5-d618-4cd0-a686-65a05d47dea6\">\n",
              "    <div class=\"colab-df-container\">\n",
              "      <div>\n",
              "<style scoped>\n",
              "    .dataframe tbody tr th:only-of-type {\n",
              "        vertical-align: middle;\n",
              "    }\n",
              "\n",
              "    .dataframe tbody tr th {\n",
              "        vertical-align: top;\n",
              "    }\n",
              "\n",
              "    .dataframe thead th {\n",
              "        text-align: right;\n",
              "    }\n",
              "</style>\n",
              "<table border=\"1\" class=\"dataframe\">\n",
              "  <thead>\n",
              "    <tr style=\"text-align: right;\">\n",
              "      <th></th>\n",
              "      <th>latitud</th>\n",
              "      <th>longitud</th>\n",
              "      <th>place_l6</th>\n",
              "      <th>property_rooms</th>\n",
              "      <th>property_bedrooms</th>\n",
              "      <th>property_surface_total</th>\n",
              "      <th>property_surface_covered</th>\n",
              "      <th>property_price</th>\n",
              "    </tr>\n",
              "  </thead>\n",
              "  <tbody>\n",
              "    <tr>\n",
              "      <th>count</th>\n",
              "      <td>419740.000000</td>\n",
              "      <td>419740.000000</td>\n",
              "      <td>0.0</td>\n",
              "      <td>368498.000000</td>\n",
              "      <td>344113.000000</td>\n",
              "      <td>397813.000000</td>\n",
              "      <td>4.279160e+05</td>\n",
              "      <td>4.421530e+05</td>\n",
              "    </tr>\n",
              "    <tr>\n",
              "      <th>mean</th>\n",
              "      <td>-34.228570</td>\n",
              "      <td>-59.557066</td>\n",
              "      <td>NaN</td>\n",
              "      <td>3.278053</td>\n",
              "      <td>2.297960</td>\n",
              "      <td>420.601250</td>\n",
              "      <td>9.605005e+03</td>\n",
              "      <td>3.063273e+05</td>\n",
              "    </tr>\n",
              "    <tr>\n",
              "      <th>std</th>\n",
              "      <td>3.251509</td>\n",
              "      <td>2.905129</td>\n",
              "      <td>NaN</td>\n",
              "      <td>1.870832</td>\n",
              "      <td>1.673985</td>\n",
              "      <td>4026.380748</td>\n",
              "      <td>3.440367e+06</td>\n",
              "      <td>4.899613e+06</td>\n",
              "    </tr>\n",
              "    <tr>\n",
              "      <th>min</th>\n",
              "      <td>-54.832057</td>\n",
              "      <td>-103.219258</td>\n",
              "      <td>NaN</td>\n",
              "      <td>1.000000</td>\n",
              "      <td>-3.000000</td>\n",
              "      <td>-1.000000</td>\n",
              "      <td>-3.000000e+00</td>\n",
              "      <td>0.000000e+00</td>\n",
              "    </tr>\n",
              "    <tr>\n",
              "      <th>25%</th>\n",
              "      <td>-34.640132</td>\n",
              "      <td>-58.899343</td>\n",
              "      <td>NaN</td>\n",
              "      <td>2.000000</td>\n",
              "      <td>1.000000</td>\n",
              "      <td>50.000000</td>\n",
              "      <td>4.500000e+01</td>\n",
              "      <td>4.490000e+04</td>\n",
              "    </tr>\n",
              "    <tr>\n",
              "      <th>50%</th>\n",
              "      <td>-34.585122</td>\n",
              "      <td>-58.488309</td>\n",
              "      <td>NaN</td>\n",
              "      <td>3.000000</td>\n",
              "      <td>2.000000</td>\n",
              "      <td>90.000000</td>\n",
              "      <td>7.800000e+01</td>\n",
              "      <td>9.800000e+04</td>\n",
              "    </tr>\n",
              "    <tr>\n",
              "      <th>75%</th>\n",
              "      <td>-34.423414</td>\n",
              "      <td>-58.404876</td>\n",
              "      <td>NaN</td>\n",
              "      <td>4.000000</td>\n",
              "      <td>3.000000</td>\n",
              "      <td>210.000000</td>\n",
              "      <td>1.700000e+02</td>\n",
              "      <td>1.990000e+05</td>\n",
              "    </tr>\n",
              "    <tr>\n",
              "      <th>max</th>\n",
              "      <td>42.557773</td>\n",
              "      <td>-35.044991</td>\n",
              "      <td>NaN</td>\n",
              "      <td>40.000000</td>\n",
              "      <td>390.000000</td>\n",
              "      <td>200000.000000</td>\n",
              "      <td>2.147484e+09</td>\n",
              "      <td>1.500000e+09</td>\n",
              "    </tr>\n",
              "  </tbody>\n",
              "</table>\n",
              "</div>\n",
              "      <button class=\"colab-df-convert\" onclick=\"convertToInteractive('df-b6043ae5-d618-4cd0-a686-65a05d47dea6')\"\n",
              "              title=\"Convert this dataframe to an interactive table.\"\n",
              "              style=\"display:none;\">\n",
              "        \n",
              "  <svg xmlns=\"http://www.w3.org/2000/svg\" height=\"24px\"viewBox=\"0 0 24 24\"\n",
              "       width=\"24px\">\n",
              "    <path d=\"M0 0h24v24H0V0z\" fill=\"none\"/>\n",
              "    <path d=\"M18.56 5.44l.94 2.06.94-2.06 2.06-.94-2.06-.94-.94-2.06-.94 2.06-2.06.94zm-11 1L8.5 8.5l.94-2.06 2.06-.94-2.06-.94L8.5 2.5l-.94 2.06-2.06.94zm10 10l.94 2.06.94-2.06 2.06-.94-2.06-.94-.94-2.06-.94 2.06-2.06.94z\"/><path d=\"M17.41 7.96l-1.37-1.37c-.4-.4-.92-.59-1.43-.59-.52 0-1.04.2-1.43.59L10.3 9.45l-7.72 7.72c-.78.78-.78 2.05 0 2.83L4 21.41c.39.39.9.59 1.41.59.51 0 1.02-.2 1.41-.59l7.78-7.78 2.81-2.81c.8-.78.8-2.07 0-2.86zM5.41 20L4 18.59l7.72-7.72 1.47 1.35L5.41 20z\"/>\n",
              "  </svg>\n",
              "      </button>\n",
              "      \n",
              "  <style>\n",
              "    .colab-df-container {\n",
              "      display:flex;\n",
              "      flex-wrap:wrap;\n",
              "      gap: 12px;\n",
              "    }\n",
              "\n",
              "    .colab-df-convert {\n",
              "      background-color: #E8F0FE;\n",
              "      border: none;\n",
              "      border-radius: 50%;\n",
              "      cursor: pointer;\n",
              "      display: none;\n",
              "      fill: #1967D2;\n",
              "      height: 32px;\n",
              "      padding: 0 0 0 0;\n",
              "      width: 32px;\n",
              "    }\n",
              "\n",
              "    .colab-df-convert:hover {\n",
              "      background-color: #E2EBFA;\n",
              "      box-shadow: 0px 1px 2px rgba(60, 64, 67, 0.3), 0px 1px 3px 1px rgba(60, 64, 67, 0.15);\n",
              "      fill: #174EA6;\n",
              "    }\n",
              "\n",
              "    [theme=dark] .colab-df-convert {\n",
              "      background-color: #3B4455;\n",
              "      fill: #D2E3FC;\n",
              "    }\n",
              "\n",
              "    [theme=dark] .colab-df-convert:hover {\n",
              "      background-color: #434B5C;\n",
              "      box-shadow: 0px 1px 3px 1px rgba(0, 0, 0, 0.15);\n",
              "      filter: drop-shadow(0px 1px 2px rgba(0, 0, 0, 0.3));\n",
              "      fill: #FFFFFF;\n",
              "    }\n",
              "  </style>\n",
              "\n",
              "      <script>\n",
              "        const buttonEl =\n",
              "          document.querySelector('#df-b6043ae5-d618-4cd0-a686-65a05d47dea6 button.colab-df-convert');\n",
              "        buttonEl.style.display =\n",
              "          google.colab.kernel.accessAllowed ? 'block' : 'none';\n",
              "\n",
              "        async function convertToInteractive(key) {\n",
              "          const element = document.querySelector('#df-b6043ae5-d618-4cd0-a686-65a05d47dea6');\n",
              "          const dataTable =\n",
              "            await google.colab.kernel.invokeFunction('convertToInteractive',\n",
              "                                                     [key], {});\n",
              "          if (!dataTable) return;\n",
              "\n",
              "          const docLinkHtml = 'Like what you see? Visit the ' +\n",
              "            '<a target=\"_blank\" href=https://colab.research.google.com/notebooks/data_table.ipynb>data table notebook</a>'\n",
              "            + ' to learn more about interactive tables.';\n",
              "          element.innerHTML = '';\n",
              "          dataTable['output_type'] = 'display_data';\n",
              "          await google.colab.output.renderOutput(dataTable, element);\n",
              "          const docLink = document.createElement('div');\n",
              "          docLink.innerHTML = docLinkHtml;\n",
              "          element.appendChild(docLink);\n",
              "        }\n",
              "      </script>\n",
              "    </div>\n",
              "  </div>\n",
              "  "
            ]
          },
          "metadata": {},
          "execution_count": 2656
        }
      ],
      "source": [
        "df.describe()"
      ]
    },
    {
      "cell_type": "code",
      "execution_count": 2657,
      "metadata": {
        "colab": {
          "base_uri": "https://localhost:8080/"
        },
        "id": "OWjVXHGiLQON",
        "outputId": "e73089c4-28b4-4226-a451-1b06b5e12bcf",
        "pycharm": {
          "name": "#%%\n"
        }
      },
      "outputs": [
        {
          "output_type": "stream",
          "name": "stdout",
          "text": [
            "<class 'pandas.core.frame.DataFrame'>\n",
            "RangeIndex: 460154 entries, 0 to 460153\n",
            "Data columns (total 20 columns):\n",
            " #   Column                    Non-Null Count   Dtype  \n",
            "---  ------                    --------------   -----  \n",
            " 0   id                        460154 non-null  object \n",
            " 1   start_date                460154 non-null  object \n",
            " 2   end_date                  460154 non-null  object \n",
            " 3   created_on                460154 non-null  object \n",
            " 4   latitud                   419740 non-null  float64\n",
            " 5   longitud                  419740 non-null  float64\n",
            " 6   place_l2                  460154 non-null  object \n",
            " 7   place_l3                  437665 non-null  object \n",
            " 8   place_l4                  139020 non-null  object \n",
            " 9   place_l5                  2430 non-null    object \n",
            " 10  place_l6                  0 non-null       float64\n",
            " 11  operation                 460154 non-null  object \n",
            " 12  property_type             460154 non-null  object \n",
            " 13  property_rooms            368498 non-null  float64\n",
            " 14  property_bedrooms         344113 non-null  float64\n",
            " 15  property_surface_total    397813 non-null  float64\n",
            " 16  property_surface_covered  427916 non-null  float64\n",
            " 17  property_price            442153 non-null  float64\n",
            " 18  property_currency         441590 non-null  object \n",
            " 19  property_title            460154 non-null  object \n",
            "dtypes: float64(8), object(12)\n",
            "memory usage: 70.2+ MB\n"
          ]
        }
      ],
      "source": [
        "df.info()"
      ]
    },
    {
      "cell_type": "code",
      "execution_count": 2658,
      "metadata": {
        "colab": {
          "base_uri": "https://localhost:8080/"
        },
        "id": "Nw3ltYSpLQOO",
        "outputId": "884f552d-6659-4dbf-fc14-9fc29996b57d",
        "pycharm": {
          "name": "#%%\n"
        }
      },
      "outputs": [
        {
          "output_type": "execute_result",
          "data": {
            "text/plain": [
              "id                           object\n",
              "start_date                   object\n",
              "end_date                     object\n",
              "created_on                   object\n",
              "latitud                     float64\n",
              "longitud                    float64\n",
              "place_l2                     object\n",
              "place_l3                     object\n",
              "place_l4                     object\n",
              "place_l5                     object\n",
              "place_l6                    float64\n",
              "operation                    object\n",
              "property_type                object\n",
              "property_rooms              float64\n",
              "property_bedrooms           float64\n",
              "property_surface_total      float64\n",
              "property_surface_covered    float64\n",
              "property_price              float64\n",
              "property_currency            object\n",
              "property_title               object\n",
              "dtype: object"
            ]
          },
          "metadata": {},
          "execution_count": 2658
        }
      ],
      "source": [
        "df.dtypes"
      ]
    },
    {
      "cell_type": "markdown",
      "metadata": {
        "id": "jxoknznjLQOO",
        "jp-MarkdownHeadingCollapsed": true,
        "pycharm": {
          "name": "#%% md\n"
        },
        "tags": []
      },
      "source": [
        "## Descripción de las columnas\n",
        "- type - Tipo de aviso (Propiedad, Desarrollo/Proyecto).\n",
        "- country - País en el que está publicado el aviso (Argentina, Uruguay, Colombia, Ecuador, Perú)\n",
        "- id - Identificador del aviso. No es único: si el aviso es actualizado por la inmobiliaria (nueva versión del aviso) se crea un nuevo registro con la misma id pero distintas fechas: de alta y de baja.\n",
        "- start_date - Fecha de alta del aviso.\n",
        "- end_date - Fecha de baja del aviso.\n",
        "- created_on - Fecha de alta de la primera versión del aviso.\n",
        "- place - Campos referidos a la ubicación de la propiedad o del desarrollo.\n",
        "\n",
        "   - lat - Latitud.\n",
        "\n",
        "   - lon - Longitud.\n",
        "\n",
        "   - l1 - Nivel administrativo 1: país.\n",
        "\n",
        "   - l2 - Nivel administrativo 2: usualmente provincia.\n",
        "\n",
        "   - l3 - Nivel administrativo 3: usualmente ciudad.\n",
        "\n",
        "   - l4 - Nivel administrativo 4: usualmente barrio.\n",
        "- property - Campos relativos a la propiedad (vacío si el aviso es de un desarrollo/proyecto).\n",
        "\n",
        "   - operation - Tipo de operación (Venta, Alquiler).\n",
        "\n",
        "   - type - Tipo de propiedad (Casa, Departamento, PH).\n",
        "\n",
        "   - rooms - Cantidad de ambientes (útil en Argentina).\n",
        "\n",
        "   - bedrooms - Cantidad de dormitorios (útil en el resto de los países).\n",
        "\n",
        "   - bathrooms - Cantidad de baños.\n",
        "\n",
        "   - surface_total - Superficie total en m².\n",
        "\n",
        "   - surface_covered - Superficie cubierta en m².\n",
        "\n",
        "   - price - Precio publicado en el anuncio.\n",
        "\n",
        "   - currency - Moneda del precio publicado.\n",
        "\n",
        "   - price_period - Periodo del precio (Diario, Semanal, Mensual)\n",
        "\n",
        "   - title - Título del anuncio.\n",
        "\n",
        "   - description - Descripción del anuncio.\n",
        "- development - Campos relativos al desarrollo inmobiliario (vacío si el aviso es de una propiedad).\n",
        "- status - Estado del desarrollo (Terminado, En construcción, ...)\n",
        "- name - Nombre del desarrollo.\n",
        "- short_description - Descripción corta del anuncio.\n",
        "- description - Descripción del anuncio.\n"
      ]
    },
    {
      "cell_type": "markdown",
      "metadata": {
        "id": "JwgUVMIBLQOP",
        "pycharm": {
          "name": "#%% md\n"
        },
        "tags": []
      },
      "source": [
        "## Filtrado inicial del Dataset\n",
        "Como trabajaremos con un universo acotado de propiedades, haremos una selección inicial de las publicaciones que nos interesa analizar:\n",
        "\n",
        "Como primer paso hay que filtrar las observaciones que su tipo de vivienda sea: Casa, PH o Departamento.\n",
        "\n",
        "Luego filtramos la ubicacion quedandonos unicamente con las propiedades de Capital Federal.\n",
        "\n",
        "A continuación, consideraremos solo las que esten cotizadas en dolares.\n",
        "\n",
        "Y finalmente, tomamos solo las que sean ventas"
      ]
    },
    {
      "cell_type": "code",
      "execution_count": 2659,
      "metadata": {
        "colab": {
          "base_uri": "https://localhost:8080/",
          "height": 0
        },
        "id": "1DujzqFCLQOP",
        "outputId": "f80d9d6a-d599-4577-a4d3-7acd9c3f3c2a",
        "pycharm": {
          "name": "#%%\n"
        }
      },
      "outputs": [
        {
          "output_type": "execute_result",
          "data": {
            "text/plain": [
              "               place_l2              place_l3 property_currency property_type  \\\n",
              "25      Capital Federal                   NaN               USD          Casa   \n",
              "42      Capital Federal                  Boca               USD  Departamento   \n",
              "43      Capital Federal                  Boca               USD  Departamento   \n",
              "49      Capital Federal                  Once               USD  Departamento   \n",
              "51      Capital Federal                 Boedo               USD            PH   \n",
              "...                 ...                   ...               ...           ...   \n",
              "460072  Capital Federal      Villa del Parque               USD  Departamento   \n",
              "460073  Capital Federal      Villa del Parque               USD  Departamento   \n",
              "460074  Capital Federal      Villa del Parque               USD  Departamento   \n",
              "460075  Capital Federal      Villa del Parque               USD  Departamento   \n",
              "460090  Capital Federal  Centro / Microcentro               USD  Departamento   \n",
              "\n",
              "       operation  \n",
              "25         Venta  \n",
              "42         Venta  \n",
              "43         Venta  \n",
              "49         Venta  \n",
              "51         Venta  \n",
              "...          ...  \n",
              "460072     Venta  \n",
              "460073     Venta  \n",
              "460074     Venta  \n",
              "460075     Venta  \n",
              "460090     Venta  \n",
              "\n",
              "[94249 rows x 5 columns]"
            ],
            "text/html": [
              "\n",
              "  <div id=\"df-fc383fce-c04d-4384-bb42-c5a52515939d\">\n",
              "    <div class=\"colab-df-container\">\n",
              "      <div>\n",
              "<style scoped>\n",
              "    .dataframe tbody tr th:only-of-type {\n",
              "        vertical-align: middle;\n",
              "    }\n",
              "\n",
              "    .dataframe tbody tr th {\n",
              "        vertical-align: top;\n",
              "    }\n",
              "\n",
              "    .dataframe thead th {\n",
              "        text-align: right;\n",
              "    }\n",
              "</style>\n",
              "<table border=\"1\" class=\"dataframe\">\n",
              "  <thead>\n",
              "    <tr style=\"text-align: right;\">\n",
              "      <th></th>\n",
              "      <th>place_l2</th>\n",
              "      <th>place_l3</th>\n",
              "      <th>property_currency</th>\n",
              "      <th>property_type</th>\n",
              "      <th>operation</th>\n",
              "    </tr>\n",
              "  </thead>\n",
              "  <tbody>\n",
              "    <tr>\n",
              "      <th>25</th>\n",
              "      <td>Capital Federal</td>\n",
              "      <td>NaN</td>\n",
              "      <td>USD</td>\n",
              "      <td>Casa</td>\n",
              "      <td>Venta</td>\n",
              "    </tr>\n",
              "    <tr>\n",
              "      <th>42</th>\n",
              "      <td>Capital Federal</td>\n",
              "      <td>Boca</td>\n",
              "      <td>USD</td>\n",
              "      <td>Departamento</td>\n",
              "      <td>Venta</td>\n",
              "    </tr>\n",
              "    <tr>\n",
              "      <th>43</th>\n",
              "      <td>Capital Federal</td>\n",
              "      <td>Boca</td>\n",
              "      <td>USD</td>\n",
              "      <td>Departamento</td>\n",
              "      <td>Venta</td>\n",
              "    </tr>\n",
              "    <tr>\n",
              "      <th>49</th>\n",
              "      <td>Capital Federal</td>\n",
              "      <td>Once</td>\n",
              "      <td>USD</td>\n",
              "      <td>Departamento</td>\n",
              "      <td>Venta</td>\n",
              "    </tr>\n",
              "    <tr>\n",
              "      <th>51</th>\n",
              "      <td>Capital Federal</td>\n",
              "      <td>Boedo</td>\n",
              "      <td>USD</td>\n",
              "      <td>PH</td>\n",
              "      <td>Venta</td>\n",
              "    </tr>\n",
              "    <tr>\n",
              "      <th>...</th>\n",
              "      <td>...</td>\n",
              "      <td>...</td>\n",
              "      <td>...</td>\n",
              "      <td>...</td>\n",
              "      <td>...</td>\n",
              "    </tr>\n",
              "    <tr>\n",
              "      <th>460072</th>\n",
              "      <td>Capital Federal</td>\n",
              "      <td>Villa del Parque</td>\n",
              "      <td>USD</td>\n",
              "      <td>Departamento</td>\n",
              "      <td>Venta</td>\n",
              "    </tr>\n",
              "    <tr>\n",
              "      <th>460073</th>\n",
              "      <td>Capital Federal</td>\n",
              "      <td>Villa del Parque</td>\n",
              "      <td>USD</td>\n",
              "      <td>Departamento</td>\n",
              "      <td>Venta</td>\n",
              "    </tr>\n",
              "    <tr>\n",
              "      <th>460074</th>\n",
              "      <td>Capital Federal</td>\n",
              "      <td>Villa del Parque</td>\n",
              "      <td>USD</td>\n",
              "      <td>Departamento</td>\n",
              "      <td>Venta</td>\n",
              "    </tr>\n",
              "    <tr>\n",
              "      <th>460075</th>\n",
              "      <td>Capital Federal</td>\n",
              "      <td>Villa del Parque</td>\n",
              "      <td>USD</td>\n",
              "      <td>Departamento</td>\n",
              "      <td>Venta</td>\n",
              "    </tr>\n",
              "    <tr>\n",
              "      <th>460090</th>\n",
              "      <td>Capital Federal</td>\n",
              "      <td>Centro / Microcentro</td>\n",
              "      <td>USD</td>\n",
              "      <td>Departamento</td>\n",
              "      <td>Venta</td>\n",
              "    </tr>\n",
              "  </tbody>\n",
              "</table>\n",
              "<p>94249 rows × 5 columns</p>\n",
              "</div>\n",
              "      <button class=\"colab-df-convert\" onclick=\"convertToInteractive('df-fc383fce-c04d-4384-bb42-c5a52515939d')\"\n",
              "              title=\"Convert this dataframe to an interactive table.\"\n",
              "              style=\"display:none;\">\n",
              "        \n",
              "  <svg xmlns=\"http://www.w3.org/2000/svg\" height=\"24px\"viewBox=\"0 0 24 24\"\n",
              "       width=\"24px\">\n",
              "    <path d=\"M0 0h24v24H0V0z\" fill=\"none\"/>\n",
              "    <path d=\"M18.56 5.44l.94 2.06.94-2.06 2.06-.94-2.06-.94-.94-2.06-.94 2.06-2.06.94zm-11 1L8.5 8.5l.94-2.06 2.06-.94-2.06-.94L8.5 2.5l-.94 2.06-2.06.94zm10 10l.94 2.06.94-2.06 2.06-.94-2.06-.94-.94-2.06-.94 2.06-2.06.94z\"/><path d=\"M17.41 7.96l-1.37-1.37c-.4-.4-.92-.59-1.43-.59-.52 0-1.04.2-1.43.59L10.3 9.45l-7.72 7.72c-.78.78-.78 2.05 0 2.83L4 21.41c.39.39.9.59 1.41.59.51 0 1.02-.2 1.41-.59l7.78-7.78 2.81-2.81c.8-.78.8-2.07 0-2.86zM5.41 20L4 18.59l7.72-7.72 1.47 1.35L5.41 20z\"/>\n",
              "  </svg>\n",
              "      </button>\n",
              "      \n",
              "  <style>\n",
              "    .colab-df-container {\n",
              "      display:flex;\n",
              "      flex-wrap:wrap;\n",
              "      gap: 12px;\n",
              "    }\n",
              "\n",
              "    .colab-df-convert {\n",
              "      background-color: #E8F0FE;\n",
              "      border: none;\n",
              "      border-radius: 50%;\n",
              "      cursor: pointer;\n",
              "      display: none;\n",
              "      fill: #1967D2;\n",
              "      height: 32px;\n",
              "      padding: 0 0 0 0;\n",
              "      width: 32px;\n",
              "    }\n",
              "\n",
              "    .colab-df-convert:hover {\n",
              "      background-color: #E2EBFA;\n",
              "      box-shadow: 0px 1px 2px rgba(60, 64, 67, 0.3), 0px 1px 3px 1px rgba(60, 64, 67, 0.15);\n",
              "      fill: #174EA6;\n",
              "    }\n",
              "\n",
              "    [theme=dark] .colab-df-convert {\n",
              "      background-color: #3B4455;\n",
              "      fill: #D2E3FC;\n",
              "    }\n",
              "\n",
              "    [theme=dark] .colab-df-convert:hover {\n",
              "      background-color: #434B5C;\n",
              "      box-shadow: 0px 1px 3px 1px rgba(0, 0, 0, 0.15);\n",
              "      filter: drop-shadow(0px 1px 2px rgba(0, 0, 0, 0.3));\n",
              "      fill: #FFFFFF;\n",
              "    }\n",
              "  </style>\n",
              "\n",
              "      <script>\n",
              "        const buttonEl =\n",
              "          document.querySelector('#df-fc383fce-c04d-4384-bb42-c5a52515939d button.colab-df-convert');\n",
              "        buttonEl.style.display =\n",
              "          google.colab.kernel.accessAllowed ? 'block' : 'none';\n",
              "\n",
              "        async function convertToInteractive(key) {\n",
              "          const element = document.querySelector('#df-fc383fce-c04d-4384-bb42-c5a52515939d');\n",
              "          const dataTable =\n",
              "            await google.colab.kernel.invokeFunction('convertToInteractive',\n",
              "                                                     [key], {});\n",
              "          if (!dataTable) return;\n",
              "\n",
              "          const docLinkHtml = 'Like what you see? Visit the ' +\n",
              "            '<a target=\"_blank\" href=https://colab.research.google.com/notebooks/data_table.ipynb>data table notebook</a>'\n",
              "            + ' to learn more about interactive tables.';\n",
              "          element.innerHTML = '';\n",
              "          dataTable['output_type'] = 'display_data';\n",
              "          await google.colab.output.renderOutput(dataTable, element);\n",
              "          const docLink = document.createElement('div');\n",
              "          docLink.innerHTML = docLinkHtml;\n",
              "          element.appendChild(docLink);\n",
              "        }\n",
              "      </script>\n",
              "    </div>\n",
              "  </div>\n",
              "  "
            ]
          },
          "metadata": {},
          "execution_count": 2659
        }
      ],
      "source": [
        "df_tipo_vivienda = df[(df.property_type == \"Casa\") | (df.property_type == \"PH\") | (df.property_type == \"Departamento\")]\n",
        "df_por_ubicacion = df_tipo_vivienda[\n",
        "    (df_tipo_vivienda.place_l2 == \"Capital Federal\") | (df_tipo_vivienda.place_l3 == \"Capital Federal\")]\n",
        "df_cotizacion_usd = df_por_ubicacion[df_por_ubicacion.property_currency == \"USD\"]\n",
        "ds_filtrado = df_cotizacion_usd[df_cotizacion_usd.operation == \"Venta\"]\n",
        "\n",
        "ds_filtrado[[\"place_l2\", \"place_l3\", \"property_currency\", \"property_type\", \"operation\"]]"
      ]
    },
    {
      "cell_type": "markdown",
      "metadata": {
        "id": "xRGSuR5JLQOQ",
        "pycharm": {
          "name": "#%% md\n"
        }
      },
      "source": [
        "A partir de aquí trabajaremos con el dataset filtrado (`ds_filtrado`)\n",
        "\n",
        "Analizando los tipos de dato de los campos:\n",
        "- Hay 3 campos de fecha, evaluaremos más adelante como tratarlos.\n",
        "- Tenemos latitud y longitd en su formato correcto\n",
        "- Hay una variable place_l6 que no debería ser un número, también analizaremos a que se debe.\n",
        "- La cantidad de habitaciones (rooms y bedrooms) quizás debería tener valores enteros.\n",
        "- El precio tiene un tipo correcto"
      ]
    },
    {
      "cell_type": "markdown",
      "metadata": {
        "id": "NhbTz94XLQOQ",
        "pycharm": {
          "name": "#%% md\n"
        },
        "tags": []
      },
      "source": [
        "## Exploración Inicial"
      ]
    },
    {
      "cell_type": "markdown",
      "metadata": {
        "id": "WzgZZ3DvLQOQ",
        "pycharm": {
          "name": "#%% md\n"
        },
        "tags": []
      },
      "source": [
        "### Tipos de variable"
      ]
    },
    {
      "cell_type": "code",
      "execution_count": 2660,
      "metadata": {
        "colab": {
          "base_uri": "https://localhost:8080/",
          "height": 0
        },
        "id": "R5A31s5gLQOR",
        "outputId": "0eeddb40-0bb6-434c-a148-d1cde548729b",
        "pycharm": {
          "name": "#%%\n"
        }
      },
      "outputs": [
        {
          "output_type": "execute_result",
          "data": {
            "text/plain": [
              "          Categoricas Ordinales   Cuantitativas Discretas  \\\n",
              "0          created_on      None            property_rooms   \n",
              "1          start_date      None         property_bedrooms   \n",
              "2            end_date      None    property_surface_total   \n",
              "3            place_l2      None  property_surface_covered   \n",
              "4            place_l3      None                      None   \n",
              "5            place_l4      None                      None   \n",
              "6            place_l5      None                      None   \n",
              "7            place_l6      None                      None   \n",
              "8           operation      None                      None   \n",
              "9       property_type      None                      None   \n",
              "10  property_currency      None                      None   \n",
              "11     property_title      None                      None   \n",
              "\n",
              "     Cuantitativas Continuas  \n",
              "0             property_rooms  \n",
              "1          property_bedrooms  \n",
              "2     property_surface_total  \n",
              "3   property_surface_covered  \n",
              "4                       None  \n",
              "5                       None  \n",
              "6                       None  \n",
              "7                       None  \n",
              "8                       None  \n",
              "9                       None  \n",
              "10                      None  \n",
              "11                      None  "
            ],
            "text/html": [
              "\n",
              "  <div id=\"df-214aeb31-fe82-4f3c-a927-baddb8e21c85\">\n",
              "    <div class=\"colab-df-container\">\n",
              "      <div>\n",
              "<style scoped>\n",
              "    .dataframe tbody tr th:only-of-type {\n",
              "        vertical-align: middle;\n",
              "    }\n",
              "\n",
              "    .dataframe tbody tr th {\n",
              "        vertical-align: top;\n",
              "    }\n",
              "\n",
              "    .dataframe thead th {\n",
              "        text-align: right;\n",
              "    }\n",
              "</style>\n",
              "<table border=\"1\" class=\"dataframe\">\n",
              "  <thead>\n",
              "    <tr style=\"text-align: right;\">\n",
              "      <th></th>\n",
              "      <th>Categoricas</th>\n",
              "      <th>Ordinales</th>\n",
              "      <th>Cuantitativas Discretas</th>\n",
              "      <th>Cuantitativas Continuas</th>\n",
              "    </tr>\n",
              "  </thead>\n",
              "  <tbody>\n",
              "    <tr>\n",
              "      <th>0</th>\n",
              "      <td>created_on</td>\n",
              "      <td>None</td>\n",
              "      <td>property_rooms</td>\n",
              "      <td>property_rooms</td>\n",
              "    </tr>\n",
              "    <tr>\n",
              "      <th>1</th>\n",
              "      <td>start_date</td>\n",
              "      <td>None</td>\n",
              "      <td>property_bedrooms</td>\n",
              "      <td>property_bedrooms</td>\n",
              "    </tr>\n",
              "    <tr>\n",
              "      <th>2</th>\n",
              "      <td>end_date</td>\n",
              "      <td>None</td>\n",
              "      <td>property_surface_total</td>\n",
              "      <td>property_surface_total</td>\n",
              "    </tr>\n",
              "    <tr>\n",
              "      <th>3</th>\n",
              "      <td>place_l2</td>\n",
              "      <td>None</td>\n",
              "      <td>property_surface_covered</td>\n",
              "      <td>property_surface_covered</td>\n",
              "    </tr>\n",
              "    <tr>\n",
              "      <th>4</th>\n",
              "      <td>place_l3</td>\n",
              "      <td>None</td>\n",
              "      <td>None</td>\n",
              "      <td>None</td>\n",
              "    </tr>\n",
              "    <tr>\n",
              "      <th>5</th>\n",
              "      <td>place_l4</td>\n",
              "      <td>None</td>\n",
              "      <td>None</td>\n",
              "      <td>None</td>\n",
              "    </tr>\n",
              "    <tr>\n",
              "      <th>6</th>\n",
              "      <td>place_l5</td>\n",
              "      <td>None</td>\n",
              "      <td>None</td>\n",
              "      <td>None</td>\n",
              "    </tr>\n",
              "    <tr>\n",
              "      <th>7</th>\n",
              "      <td>place_l6</td>\n",
              "      <td>None</td>\n",
              "      <td>None</td>\n",
              "      <td>None</td>\n",
              "    </tr>\n",
              "    <tr>\n",
              "      <th>8</th>\n",
              "      <td>operation</td>\n",
              "      <td>None</td>\n",
              "      <td>None</td>\n",
              "      <td>None</td>\n",
              "    </tr>\n",
              "    <tr>\n",
              "      <th>9</th>\n",
              "      <td>property_type</td>\n",
              "      <td>None</td>\n",
              "      <td>None</td>\n",
              "      <td>None</td>\n",
              "    </tr>\n",
              "    <tr>\n",
              "      <th>10</th>\n",
              "      <td>property_currency</td>\n",
              "      <td>None</td>\n",
              "      <td>None</td>\n",
              "      <td>None</td>\n",
              "    </tr>\n",
              "    <tr>\n",
              "      <th>11</th>\n",
              "      <td>property_title</td>\n",
              "      <td>None</td>\n",
              "      <td>None</td>\n",
              "      <td>None</td>\n",
              "    </tr>\n",
              "  </tbody>\n",
              "</table>\n",
              "</div>\n",
              "      <button class=\"colab-df-convert\" onclick=\"convertToInteractive('df-214aeb31-fe82-4f3c-a927-baddb8e21c85')\"\n",
              "              title=\"Convert this dataframe to an interactive table.\"\n",
              "              style=\"display:none;\">\n",
              "        \n",
              "  <svg xmlns=\"http://www.w3.org/2000/svg\" height=\"24px\"viewBox=\"0 0 24 24\"\n",
              "       width=\"24px\">\n",
              "    <path d=\"M0 0h24v24H0V0z\" fill=\"none\"/>\n",
              "    <path d=\"M18.56 5.44l.94 2.06.94-2.06 2.06-.94-2.06-.94-.94-2.06-.94 2.06-2.06.94zm-11 1L8.5 8.5l.94-2.06 2.06-.94-2.06-.94L8.5 2.5l-.94 2.06-2.06.94zm10 10l.94 2.06.94-2.06 2.06-.94-2.06-.94-.94-2.06-.94 2.06-2.06.94z\"/><path d=\"M17.41 7.96l-1.37-1.37c-.4-.4-.92-.59-1.43-.59-.52 0-1.04.2-1.43.59L10.3 9.45l-7.72 7.72c-.78.78-.78 2.05 0 2.83L4 21.41c.39.39.9.59 1.41.59.51 0 1.02-.2 1.41-.59l7.78-7.78 2.81-2.81c.8-.78.8-2.07 0-2.86zM5.41 20L4 18.59l7.72-7.72 1.47 1.35L5.41 20z\"/>\n",
              "  </svg>\n",
              "      </button>\n",
              "      \n",
              "  <style>\n",
              "    .colab-df-container {\n",
              "      display:flex;\n",
              "      flex-wrap:wrap;\n",
              "      gap: 12px;\n",
              "    }\n",
              "\n",
              "    .colab-df-convert {\n",
              "      background-color: #E8F0FE;\n",
              "      border: none;\n",
              "      border-radius: 50%;\n",
              "      cursor: pointer;\n",
              "      display: none;\n",
              "      fill: #1967D2;\n",
              "      height: 32px;\n",
              "      padding: 0 0 0 0;\n",
              "      width: 32px;\n",
              "    }\n",
              "\n",
              "    .colab-df-convert:hover {\n",
              "      background-color: #E2EBFA;\n",
              "      box-shadow: 0px 1px 2px rgba(60, 64, 67, 0.3), 0px 1px 3px 1px rgba(60, 64, 67, 0.15);\n",
              "      fill: #174EA6;\n",
              "    }\n",
              "\n",
              "    [theme=dark] .colab-df-convert {\n",
              "      background-color: #3B4455;\n",
              "      fill: #D2E3FC;\n",
              "    }\n",
              "\n",
              "    [theme=dark] .colab-df-convert:hover {\n",
              "      background-color: #434B5C;\n",
              "      box-shadow: 0px 1px 3px 1px rgba(0, 0, 0, 0.15);\n",
              "      filter: drop-shadow(0px 1px 2px rgba(0, 0, 0, 0.3));\n",
              "      fill: #FFFFFF;\n",
              "    }\n",
              "  </style>\n",
              "\n",
              "      <script>\n",
              "        const buttonEl =\n",
              "          document.querySelector('#df-214aeb31-fe82-4f3c-a927-baddb8e21c85 button.colab-df-convert');\n",
              "        buttonEl.style.display =\n",
              "          google.colab.kernel.accessAllowed ? 'block' : 'none';\n",
              "\n",
              "        async function convertToInteractive(key) {\n",
              "          const element = document.querySelector('#df-214aeb31-fe82-4f3c-a927-baddb8e21c85');\n",
              "          const dataTable =\n",
              "            await google.colab.kernel.invokeFunction('convertToInteractive',\n",
              "                                                     [key], {});\n",
              "          if (!dataTable) return;\n",
              "\n",
              "          const docLinkHtml = 'Like what you see? Visit the ' +\n",
              "            '<a target=\"_blank\" href=https://colab.research.google.com/notebooks/data_table.ipynb>data table notebook</a>'\n",
              "            + ' to learn more about interactive tables.';\n",
              "          element.innerHTML = '';\n",
              "          dataTable['output_type'] = 'display_data';\n",
              "          await google.colab.output.renderOutput(dataTable, element);\n",
              "          const docLink = document.createElement('div');\n",
              "          docLink.innerHTML = docLinkHtml;\n",
              "          element.appendChild(docLink);\n",
              "        }\n",
              "      </script>\n",
              "    </div>\n",
              "  </div>\n",
              "  "
            ]
          },
          "metadata": {},
          "execution_count": 2660
        }
      ],
      "source": [
        "categoricas = ['created_on', 'start_date', 'end_date', 'place_l2', 'place_l3', 'place_l4', 'place_l5', 'place_l6',\n",
        "               'operation', 'property_type', 'property_currency', 'property_title']\n",
        "cuantitativas_discretas = ['property_rooms', 'property_bedrooms', 'property_surface_total', 'property_surface_covered',\n",
        "                           None, None, None, None, None, None, None, None]\n",
        "cuantitativas_continuas = ['latitud', 'longitud', 'property_price', None, None, None, None, None, None, None, None,\n",
        "                           None]\n",
        "ordinales = [None, None, None, None, None, None, None, None, None, None, None, None]\n",
        "tipos_de_variable = {'Categoricas': categoricas, 'Ordinales': ordinales,\n",
        "                     'Cuantitativas Discretas': cuantitativas_discretas,\n",
        "                     'Cuantitativas Continuas': cuantitativas_discretas}\n",
        "\n",
        "cuantitativas = cuantitativas_discretas + cuantitativas_continuas\n",
        "\n",
        "pd.DataFrame(tipos_de_variable)"
      ]
    },
    {
      "cell_type": "markdown",
      "metadata": {
        "id": "1az7CMHPLQOR",
        "pycharm": {
          "name": "#%% md\n"
        },
        "tags": []
      },
      "source": [
        "### Fechas\n"
      ]
    },
    {
      "cell_type": "code",
      "execution_count": 2661,
      "metadata": {
        "colab": {
          "base_uri": "https://localhost:8080/"
        },
        "id": "sZ2ccgNXLQOR",
        "outputId": "6b2d5459-4f8a-4e4e-a6d3-721b2aa7885f",
        "pycharm": {
          "name": "#%%\n"
        }
      },
      "outputs": [
        {
          "output_type": "execute_result",
          "data": {
            "text/plain": [
              "start_date    0\n",
              "end_date      0\n",
              "created_on    0\n",
              "dtype: int64"
            ]
          },
          "metadata": {},
          "execution_count": 2661
        }
      ],
      "source": [
        "ds_filtrado[[\"start_date\", \"end_date\", \"created_on\"]].isna().sum()"
      ]
    },
    {
      "cell_type": "code",
      "execution_count": 2662,
      "metadata": {
        "colab": {
          "base_uri": "https://localhost:8080/"
        },
        "id": "H3n_AqhzLQOS",
        "outputId": "65287454-0831-413b-f7e3-1083a6df0972",
        "pycharm": {
          "name": "#%%\n"
        }
      },
      "outputs": [
        {
          "output_type": "execute_result",
          "data": {
            "text/plain": [
              "2021-12-16    4674\n",
              "2021-02-13    2121\n",
              "2021-11-03    1016\n",
              "2021-08-03     836\n",
              "2021-04-10     819\n",
              "              ... \n",
              "2021-11-21      18\n",
              "2021-12-19      13\n",
              "2021-01-02      12\n",
              "2021-10-24      10\n",
              "2021-11-27       1\n",
              "Name: start_date, Length: 365, dtype: int64"
            ]
          },
          "metadata": {},
          "execution_count": 2662
        }
      ],
      "source": [
        "ds_filtrado[\"start_date\"].value_counts()"
      ]
    },
    {
      "cell_type": "code",
      "execution_count": 2663,
      "metadata": {
        "colab": {
          "base_uri": "https://localhost:8080/"
        },
        "id": "LKcPiKQKLQOS",
        "outputId": "1bd2aa20-b005-4f1c-ebd8-d40e43fd5279",
        "pycharm": {
          "name": "#%%\n"
        }
      },
      "outputs": [
        {
          "output_type": "execute_result",
          "data": {
            "text/plain": [
              "2021-06-05    12817\n",
              "2022-01-27     9287\n",
              "2022-02-09     7633\n",
              "9999-12-31     5041\n",
              "2021-03-01     1857\n",
              "              ...  \n",
              "2022-08-26        1\n",
              "2022-08-16        1\n",
              "2022-06-14        1\n",
              "2022-08-22        1\n",
              "2022-03-22        1\n",
              "Name: end_date, Length: 607, dtype: int64"
            ]
          },
          "metadata": {},
          "execution_count": 2663
        }
      ],
      "source": [
        "ds_filtrado[\"end_date\"].value_counts()"
      ]
    },
    {
      "cell_type": "code",
      "execution_count": 2664,
      "metadata": {
        "colab": {
          "base_uri": "https://localhost:8080/"
        },
        "id": "zb6z92oNLQOS",
        "outputId": "b2cfaac2-c932-4248-9a87-b86c723915c1",
        "pycharm": {
          "name": "#%%\n"
        }
      },
      "outputs": [
        {
          "output_type": "execute_result",
          "data": {
            "text/plain": [
              "(0, 20)"
            ]
          },
          "metadata": {},
          "execution_count": 2664
        }
      ],
      "source": [
        "ds_filtrado[ds_filtrado.created_on != ds_filtrado.start_date].shape"
      ]
    },
    {
      "cell_type": "markdown",
      "metadata": {
        "id": "KCYl52qNLQOT",
        "pycharm": {
          "name": "#%% md\n"
        }
      },
      "source": [
        "Podemos ver que la columnas created_on y start_date siempre son iguales, descartaremos una de ellas más adelante."
      ]
    },
    {
      "cell_type": "code",
      "execution_count": 2665,
      "metadata": {
        "colab": {
          "base_uri": "https://localhost:8080/"
        },
        "id": "7AOH_EYSLQOT",
        "outputId": "eae5b3f7-0222-4f0d-931e-7e0cb0bf1c65",
        "pycharm": {
          "name": "#%%\n"
        }
      },
      "outputs": [
        {
          "output_type": "execute_result",
          "data": {
            "text/plain": [
              "2021-12-16    4674\n",
              "2021-02-13    2121\n",
              "2021-11-03    1016\n",
              "2021-08-03     836\n",
              "2021-04-10     819\n",
              "              ... \n",
              "2021-11-21      18\n",
              "2021-12-19      13\n",
              "2021-01-02      12\n",
              "2021-10-24      10\n",
              "2021-11-27       1\n",
              "Name: created_on, Length: 365, dtype: int64"
            ]
          },
          "metadata": {},
          "execution_count": 2665
        }
      ],
      "source": [
        "ds_filtrado[\"created_on\"].value_counts()"
      ]
    },
    {
      "cell_type": "markdown",
      "metadata": {
        "id": "Xj7wKTngLQOT",
        "pycharm": {
          "name": "#%% md\n"
        }
      },
      "source": [
        "Hay un valor extraño en end_date, la fecha 9999-12-31, hay 5041 apariciones de esta fecha"
      ]
    },
    {
      "cell_type": "code",
      "execution_count": 2666,
      "metadata": {
        "colab": {
          "base_uri": "https://localhost:8080/"
        },
        "id": "wgJVsBimLQOT",
        "outputId": "0c092d7c-5b66-4923-da54-d5597a95b2df",
        "pycharm": {
          "name": "#%%\n"
        }
      },
      "outputs": [
        {
          "output_type": "execute_result",
          "data": {
            "text/plain": [
              "2021-02-09    132\n",
              "2021-06-24    122\n",
              "2021-06-30     79\n",
              "2021-02-23     74\n",
              "2021-07-21     67\n",
              "             ... \n",
              "2021-12-27      1\n",
              "2021-11-29      1\n",
              "2021-03-09      1\n",
              "2021-05-10      1\n",
              "2021-04-02      1\n",
              "Name: start_date, Length: 296, dtype: int64"
            ]
          },
          "metadata": {},
          "execution_count": 2666
        }
      ],
      "source": [
        "ds_filtrado[ds_filtrado.end_date == '9999-12-31']['start_date'].value_counts()"
      ]
    },
    {
      "cell_type": "markdown",
      "metadata": {
        "id": "zGaQ3WZRLQOT",
        "pycharm": {
          "name": "#%% md\n"
        }
      },
      "source": [
        "Considerando que todas las fechas son de 2021, y que el dato que falta es el del fin de la publicación (es decir, la casa esta publicada) y a fines de preservar estos datos, traeremos a consideración la duración promedio de cada publicación, calcularemos ese promedio dejando fuera los 5041 casos que presentan la fecha inválida.\n",
        "\n",
        "Tomaremos para el cálculo las fechas convertidas a datetime."
      ]
    },
    {
      "cell_type": "code",
      "execution_count": 2667,
      "metadata": {
        "colab": {
          "base_uri": "https://localhost:8080/"
        },
        "id": "LdLL6aw6LQOU",
        "outputId": "930441ac-3dd1-4377-f052-d750ab5fbc5b",
        "pycharm": {
          "name": "#%%\n"
        }
      },
      "outputs": [
        {
          "output_type": "execute_result",
          "data": {
            "text/plain": [
              "count                         89208\n",
              "mean     74 days 10:42:07.845036320\n",
              "std      84 days 04:14:04.193191497\n",
              "min                 0 days 00:00:00\n",
              "25%                16 days 00:00:00\n",
              "50%                51 days 00:00:00\n",
              "75%                99 days 00:00:00\n",
              "max               618 days 00:00:00\n",
              "dtype: object"
            ]
          },
          "metadata": {},
          "execution_count": 2667
        }
      ],
      "source": [
        "dias = pd.to_datetime(ds_filtrado[ds_filtrado.end_date != '9999-12-31']['end_date']) - pd.to_datetime(\n",
        "    ds_filtrado[ds_filtrado.end_date != '9999-12-31']['start_date'])\n",
        "dias.describe()"
      ]
    },
    {
      "cell_type": "markdown",
      "metadata": {
        "id": "MCC3ymMpLQOU",
        "pycharm": {
          "name": "#%% md\n"
        }
      },
      "source": [
        "El promedio de la duración de las publicaciones es casi de 75 días, asumiremos que las publicaciones con la fecha invalida duraron lo mismo que el promedio y tomaremos como fecha final la fecha de inicio + 75 días."
      ]
    },
    {
      "cell_type": "code",
      "execution_count": 2668,
      "metadata": {
        "colab": {
          "base_uri": "https://localhost:8080/"
        },
        "id": "d4xRGen3LQOU",
        "outputId": "2852cb14-de15-4e0f-e75c-a88728c7c77c",
        "pycharm": {
          "name": "#%%\n"
        }
      },
      "outputs": [
        {
          "output_type": "stream",
          "name": "stderr",
          "text": [
            "/usr/local/lib/python3.7/dist-packages/pandas/core/indexing.py:1773: SettingWithCopyWarning: \n",
            "A value is trying to be set on a copy of a slice from a DataFrame.\n",
            "Try using .loc[row_indexer,col_indexer] = value instead\n",
            "\n",
            "See the caveats in the documentation: https://pandas.pydata.org/pandas-docs/stable/user_guide/indexing.html#returning-a-view-versus-a-copy\n",
            "  self._setitem_single_column(ilocs[0], value, pi)\n"
          ]
        },
        {
          "output_type": "execute_result",
          "data": {
            "text/plain": [
              "25        2021-09-26\n",
              "42        2021-09-26\n",
              "43        2021-09-28\n",
              "49        2022-01-05\n",
              "51        2022-03-09\n",
              "             ...    \n",
              "460072    2022-09-02\n",
              "460073    2021-02-17\n",
              "460074    2021-01-27\n",
              "460075    2021-01-27\n",
              "460090    2021-01-08\n",
              "Name: end_date, Length: 94249, dtype: object"
            ]
          },
          "metadata": {},
          "execution_count": 2668
        }
      ],
      "source": [
        "ds_filtrado.loc[ds_filtrado.end_date == '9999-12-31', 'end_date'] = pd.to_datetime(\n",
        "    ds_filtrado[ds_filtrado.end_date == '9999-12-31']['start_date']) + dias.mean()\n",
        "ds_filtrado.end_date"
      ]
    },
    {
      "cell_type": "markdown",
      "metadata": {
        "id": "X64AaYE0LQOU",
        "pycharm": {
          "name": "#%% md\n"
        }
      },
      "source": [
        "Finalmente, como todos los valores son formatos válidos de fecha, podemos convertir sin problemas."
      ]
    },
    {
      "cell_type": "markdown",
      "metadata": {
        "id": "5noSSMY0LQOU",
        "pycharm": {
          "name": "#%% md\n"
        },
        "tags": []
      },
      "source": [
        "### Conversion tipo de dato"
      ]
    },
    {
      "cell_type": "code",
      "execution_count": 2669,
      "metadata": {
        "colab": {
          "base_uri": "https://localhost:8080/"
        },
        "id": "mp8_BRoTLQOV",
        "outputId": "5fa76d78-50b5-4029-8b14-28f10bc8ca20",
        "pycharm": {
          "name": "#%%\n"
        }
      },
      "outputs": [
        {
          "output_type": "execute_result",
          "data": {
            "text/plain": [
              "id                                  object\n",
              "start_date                  datetime64[ns]\n",
              "end_date                    datetime64[ns]\n",
              "created_on                  datetime64[ns]\n",
              "latitud                            float64\n",
              "longitud                           float64\n",
              "place_l2                            object\n",
              "place_l3                            object\n",
              "place_l4                            object\n",
              "place_l5                            object\n",
              "place_l6                           float64\n",
              "operation                           object\n",
              "property_type                       object\n",
              "property_rooms                     float64\n",
              "property_bedrooms                  float64\n",
              "property_surface_total             float64\n",
              "property_surface_covered           float64\n",
              "property_price                     float64\n",
              "property_currency                   object\n",
              "property_title                      object\n",
              "dtype: object"
            ]
          },
          "metadata": {},
          "execution_count": 2669
        }
      ],
      "source": [
        "new_ds = ds_filtrado.copy()\n",
        "new_ds.start_date = pd.to_datetime(new_ds.start_date, infer_datetime_format=True)\n",
        "new_ds.end_date = pd.to_datetime(new_ds.end_date, infer_datetime_format=True)\n",
        "new_ds.created_on = pd.to_datetime(new_ds.created_on, infer_datetime_format=True)\n",
        "ds_filtrado = new_ds.copy()\n",
        "ds_filtrado.dtypes"
      ]
    },
    {
      "cell_type": "markdown",
      "metadata": {
        "id": "1mXl9xLGLQOV",
        "jp-MarkdownHeadingCollapsed": true,
        "pycharm": {
          "name": "#%% md\n"
        },
        "tags": []
      },
      "source": [
        "## Variables Cuantitativas: calcular medidas de resumen: media, mediana, q1, q3, moda"
      ]
    },
    {
      "cell_type": "code",
      "execution_count": 2670,
      "metadata": {
        "colab": {
          "base_uri": "https://localhost:8080/",
          "height": 0
        },
        "id": "DIC-CDrbLQOV",
        "outputId": "270f96f7-92ee-422a-e6f8-5f489813ea8b",
        "pycharm": {
          "name": "#%%\n"
        }
      },
      "outputs": [
        {
          "output_type": "execute_result",
          "data": {
            "text/plain": [
              "            property_rooms  property_bedrooms  property_surface_total  \\\n",
              "count         93205.000000       83262.000000            89405.000000   \n",
              "mean              2.822799           2.014629              109.092970   \n",
              "std               1.426148           1.129767              980.401976   \n",
              "min               1.000000          -1.000000               10.000000   \n",
              "quartile 1        2.000000           1.000000               45.000000   \n",
              "median            3.000000           2.000000               65.000000   \n",
              "quartile 3        4.000000           3.000000              105.000000   \n",
              "max              40.000000          70.000000           137000.000000   \n",
              "mode              3.000000           1.000000               50.000000   \n",
              "\n",
              "            property_surface_covered       latitud      longitud  \\\n",
              "count                   90895.000000  90519.000000  90519.000000   \n",
              "mean                       87.931932    -34.591481    -58.449795   \n",
              "std                       990.927129      0.181719      0.292630   \n",
              "min                         1.000000    -53.788624    -71.471192   \n",
              "quartile 1                 40.000000    -34.615975    -58.466522   \n",
              "median                     58.000000    -34.595790    -58.439000   \n",
              "quartile 3                 88.000000    -34.577413    -58.408862   \n",
              "max                    217000.000000    -24.219827    -54.133330   \n",
              "mode                       40.000000    -34.541250    -58.472966   \n",
              "\n",
              "            property_price  \n",
              "count         9.424900e+04  \n",
              "mean          2.262382e+05  \n",
              "std           3.186035e+05  \n",
              "min           5.000000e+03  \n",
              "quartile 1    9.500000e+04  \n",
              "median        1.439000e+05  \n",
              "quartile 3    2.370000e+05  \n",
              "max           2.140000e+07  \n",
              "mode          1.100000e+05  "
            ],
            "text/html": [
              "\n",
              "  <div id=\"df-b60926c6-6e76-42e4-b726-9572d1465a70\">\n",
              "    <div class=\"colab-df-container\">\n",
              "      <div>\n",
              "<style scoped>\n",
              "    .dataframe tbody tr th:only-of-type {\n",
              "        vertical-align: middle;\n",
              "    }\n",
              "\n",
              "    .dataframe tbody tr th {\n",
              "        vertical-align: top;\n",
              "    }\n",
              "\n",
              "    .dataframe thead th {\n",
              "        text-align: right;\n",
              "    }\n",
              "</style>\n",
              "<table border=\"1\" class=\"dataframe\">\n",
              "  <thead>\n",
              "    <tr style=\"text-align: right;\">\n",
              "      <th></th>\n",
              "      <th>property_rooms</th>\n",
              "      <th>property_bedrooms</th>\n",
              "      <th>property_surface_total</th>\n",
              "      <th>property_surface_covered</th>\n",
              "      <th>latitud</th>\n",
              "      <th>longitud</th>\n",
              "      <th>property_price</th>\n",
              "    </tr>\n",
              "  </thead>\n",
              "  <tbody>\n",
              "    <tr>\n",
              "      <th>count</th>\n",
              "      <td>93205.000000</td>\n",
              "      <td>83262.000000</td>\n",
              "      <td>89405.000000</td>\n",
              "      <td>90895.000000</td>\n",
              "      <td>90519.000000</td>\n",
              "      <td>90519.000000</td>\n",
              "      <td>9.424900e+04</td>\n",
              "    </tr>\n",
              "    <tr>\n",
              "      <th>mean</th>\n",
              "      <td>2.822799</td>\n",
              "      <td>2.014629</td>\n",
              "      <td>109.092970</td>\n",
              "      <td>87.931932</td>\n",
              "      <td>-34.591481</td>\n",
              "      <td>-58.449795</td>\n",
              "      <td>2.262382e+05</td>\n",
              "    </tr>\n",
              "    <tr>\n",
              "      <th>std</th>\n",
              "      <td>1.426148</td>\n",
              "      <td>1.129767</td>\n",
              "      <td>980.401976</td>\n",
              "      <td>990.927129</td>\n",
              "      <td>0.181719</td>\n",
              "      <td>0.292630</td>\n",
              "      <td>3.186035e+05</td>\n",
              "    </tr>\n",
              "    <tr>\n",
              "      <th>min</th>\n",
              "      <td>1.000000</td>\n",
              "      <td>-1.000000</td>\n",
              "      <td>10.000000</td>\n",
              "      <td>1.000000</td>\n",
              "      <td>-53.788624</td>\n",
              "      <td>-71.471192</td>\n",
              "      <td>5.000000e+03</td>\n",
              "    </tr>\n",
              "    <tr>\n",
              "      <th>quartile 1</th>\n",
              "      <td>2.000000</td>\n",
              "      <td>1.000000</td>\n",
              "      <td>45.000000</td>\n",
              "      <td>40.000000</td>\n",
              "      <td>-34.615975</td>\n",
              "      <td>-58.466522</td>\n",
              "      <td>9.500000e+04</td>\n",
              "    </tr>\n",
              "    <tr>\n",
              "      <th>median</th>\n",
              "      <td>3.000000</td>\n",
              "      <td>2.000000</td>\n",
              "      <td>65.000000</td>\n",
              "      <td>58.000000</td>\n",
              "      <td>-34.595790</td>\n",
              "      <td>-58.439000</td>\n",
              "      <td>1.439000e+05</td>\n",
              "    </tr>\n",
              "    <tr>\n",
              "      <th>quartile 3</th>\n",
              "      <td>4.000000</td>\n",
              "      <td>3.000000</td>\n",
              "      <td>105.000000</td>\n",
              "      <td>88.000000</td>\n",
              "      <td>-34.577413</td>\n",
              "      <td>-58.408862</td>\n",
              "      <td>2.370000e+05</td>\n",
              "    </tr>\n",
              "    <tr>\n",
              "      <th>max</th>\n",
              "      <td>40.000000</td>\n",
              "      <td>70.000000</td>\n",
              "      <td>137000.000000</td>\n",
              "      <td>217000.000000</td>\n",
              "      <td>-24.219827</td>\n",
              "      <td>-54.133330</td>\n",
              "      <td>2.140000e+07</td>\n",
              "    </tr>\n",
              "    <tr>\n",
              "      <th>mode</th>\n",
              "      <td>3.000000</td>\n",
              "      <td>1.000000</td>\n",
              "      <td>50.000000</td>\n",
              "      <td>40.000000</td>\n",
              "      <td>-34.541250</td>\n",
              "      <td>-58.472966</td>\n",
              "      <td>1.100000e+05</td>\n",
              "    </tr>\n",
              "  </tbody>\n",
              "</table>\n",
              "</div>\n",
              "      <button class=\"colab-df-convert\" onclick=\"convertToInteractive('df-b60926c6-6e76-42e4-b726-9572d1465a70')\"\n",
              "              title=\"Convert this dataframe to an interactive table.\"\n",
              "              style=\"display:none;\">\n",
              "        \n",
              "  <svg xmlns=\"http://www.w3.org/2000/svg\" height=\"24px\"viewBox=\"0 0 24 24\"\n",
              "       width=\"24px\">\n",
              "    <path d=\"M0 0h24v24H0V0z\" fill=\"none\"/>\n",
              "    <path d=\"M18.56 5.44l.94 2.06.94-2.06 2.06-.94-2.06-.94-.94-2.06-.94 2.06-2.06.94zm-11 1L8.5 8.5l.94-2.06 2.06-.94-2.06-.94L8.5 2.5l-.94 2.06-2.06.94zm10 10l.94 2.06.94-2.06 2.06-.94-2.06-.94-.94-2.06-.94 2.06-2.06.94z\"/><path d=\"M17.41 7.96l-1.37-1.37c-.4-.4-.92-.59-1.43-.59-.52 0-1.04.2-1.43.59L10.3 9.45l-7.72 7.72c-.78.78-.78 2.05 0 2.83L4 21.41c.39.39.9.59 1.41.59.51 0 1.02-.2 1.41-.59l7.78-7.78 2.81-2.81c.8-.78.8-2.07 0-2.86zM5.41 20L4 18.59l7.72-7.72 1.47 1.35L5.41 20z\"/>\n",
              "  </svg>\n",
              "      </button>\n",
              "      \n",
              "  <style>\n",
              "    .colab-df-container {\n",
              "      display:flex;\n",
              "      flex-wrap:wrap;\n",
              "      gap: 12px;\n",
              "    }\n",
              "\n",
              "    .colab-df-convert {\n",
              "      background-color: #E8F0FE;\n",
              "      border: none;\n",
              "      border-radius: 50%;\n",
              "      cursor: pointer;\n",
              "      display: none;\n",
              "      fill: #1967D2;\n",
              "      height: 32px;\n",
              "      padding: 0 0 0 0;\n",
              "      width: 32px;\n",
              "    }\n",
              "\n",
              "    .colab-df-convert:hover {\n",
              "      background-color: #E2EBFA;\n",
              "      box-shadow: 0px 1px 2px rgba(60, 64, 67, 0.3), 0px 1px 3px 1px rgba(60, 64, 67, 0.15);\n",
              "      fill: #174EA6;\n",
              "    }\n",
              "\n",
              "    [theme=dark] .colab-df-convert {\n",
              "      background-color: #3B4455;\n",
              "      fill: #D2E3FC;\n",
              "    }\n",
              "\n",
              "    [theme=dark] .colab-df-convert:hover {\n",
              "      background-color: #434B5C;\n",
              "      box-shadow: 0px 1px 3px 1px rgba(0, 0, 0, 0.15);\n",
              "      filter: drop-shadow(0px 1px 2px rgba(0, 0, 0, 0.3));\n",
              "      fill: #FFFFFF;\n",
              "    }\n",
              "  </style>\n",
              "\n",
              "      <script>\n",
              "        const buttonEl =\n",
              "          document.querySelector('#df-b60926c6-6e76-42e4-b726-9572d1465a70 button.colab-df-convert');\n",
              "        buttonEl.style.display =\n",
              "          google.colab.kernel.accessAllowed ? 'block' : 'none';\n",
              "\n",
              "        async function convertToInteractive(key) {\n",
              "          const element = document.querySelector('#df-b60926c6-6e76-42e4-b726-9572d1465a70');\n",
              "          const dataTable =\n",
              "            await google.colab.kernel.invokeFunction('convertToInteractive',\n",
              "                                                     [key], {});\n",
              "          if (!dataTable) return;\n",
              "\n",
              "          const docLinkHtml = 'Like what you see? Visit the ' +\n",
              "            '<a target=\"_blank\" href=https://colab.research.google.com/notebooks/data_table.ipynb>data table notebook</a>'\n",
              "            + ' to learn more about interactive tables.';\n",
              "          element.innerHTML = '';\n",
              "          dataTable['output_type'] = 'display_data';\n",
              "          await google.colab.output.renderOutput(dataTable, element);\n",
              "          const docLink = document.createElement('div');\n",
              "          docLink.innerHTML = docLinkHtml;\n",
              "          element.appendChild(docLink);\n",
              "        }\n",
              "      </script>\n",
              "    </div>\n",
              "  </div>\n",
              "  "
            ]
          },
          "metadata": {},
          "execution_count": 2670
        }
      ],
      "source": [
        "# Variables Cuantitativas: calcular medidas de resumen: media, mediana, q1, q3, moda\n",
        "cuantitativas_filtradas = list(filter(lambda element: element != None, cuantitativas))\n",
        "description_quantitatives = ds_filtrado[cuantitativas_filtradas].describe()\n",
        "\n",
        "quantitative_mode = ds_filtrado[cuantitativas_filtradas].mode()\n",
        "quantitative_mode.rename(index={0: \"mode\"}, inplace=True)\n",
        "description_quantitatives = description_quantitatives.append(quantitative_mode)\n",
        "\n",
        "description_quantitatives.rename(index={\"25%\": \"quartile 1\", \"50%\": \"median\", \"75%\": \"quartile 3\"}, inplace=True)\n",
        "description_quantitatives"
      ]
    },
    {
      "cell_type": "markdown",
      "metadata": {
        "id": "WoYpoj6SLQOV",
        "pycharm": {
          "name": "#%% md\n"
        },
        "tags": []
      },
      "source": [
        "## Variables Cualitativas mostrar cantidad de valores posibles, y frecuencias de cada uno."
      ]
    },
    {
      "cell_type": "code",
      "execution_count": 2671,
      "metadata": {
        "colab": {
          "base_uri": "https://localhost:8080/",
          "height": 0
        },
        "id": "r6rDs0cBLQOV",
        "outputId": "392df48f-0e8f-4d09-8bed-8ff1e1dab0be",
        "pycharm": {
          "name": "#%%\n"
        }
      },
      "outputs": [
        {
          "output_type": "display_data",
          "data": {
            "text/plain": [
              "<IPython.core.display.HTML object>"
            ],
            "text/html": [
              "<style type=\"text/css\">\n",
              "</style>\n",
              "<table id=\"T_66d0c_\" style='display:inline'>\n",
              "  <caption>created_on</caption>\n",
              "  <thead>\n",
              "    <tr>\n",
              "      <th class=\"blank level0\" >&nbsp;</th>\n",
              "      <th class=\"col_heading level0 col0\" >created_on</th>\n",
              "    </tr>\n",
              "  </thead>\n",
              "  <tbody>\n",
              "    <tr>\n",
              "      <th id=\"T_66d0c_level0_row0\" class=\"row_heading level0 row0\" >2021-12-16 00:00:00</th>\n",
              "      <td id=\"T_66d0c_row0_col0\" class=\"data row0 col0\" >4674</td>\n",
              "    </tr>\n",
              "    <tr>\n",
              "      <th id=\"T_66d0c_level0_row1\" class=\"row_heading level0 row1\" >2021-02-13 00:00:00</th>\n",
              "      <td id=\"T_66d0c_row1_col0\" class=\"data row1 col0\" >2121</td>\n",
              "    </tr>\n",
              "    <tr>\n",
              "      <th id=\"T_66d0c_level0_row2\" class=\"row_heading level0 row2\" >2021-11-03 00:00:00</th>\n",
              "      <td id=\"T_66d0c_row2_col0\" class=\"data row2 col0\" >1016</td>\n",
              "    </tr>\n",
              "    <tr>\n",
              "      <th id=\"T_66d0c_level0_row3\" class=\"row_heading level0 row3\" >2021-08-03 00:00:00</th>\n",
              "      <td id=\"T_66d0c_row3_col0\" class=\"data row3 col0\" >836</td>\n",
              "    </tr>\n",
              "    <tr>\n",
              "      <th id=\"T_66d0c_level0_row4\" class=\"row_heading level0 row4\" >2021-04-10 00:00:00</th>\n",
              "      <td id=\"T_66d0c_row4_col0\" class=\"data row4 col0\" >819</td>\n",
              "    </tr>\n",
              "  </tbody>\n",
              "</table>\n",
              "   <style type=\"text/css\">\n",
              "</style>\n",
              "<table id=\"T_ae24d_\" style='display:inline'>\n",
              "  <caption>start_date</caption>\n",
              "  <thead>\n",
              "    <tr>\n",
              "      <th class=\"blank level0\" >&nbsp;</th>\n",
              "      <th class=\"col_heading level0 col0\" >start_date</th>\n",
              "    </tr>\n",
              "  </thead>\n",
              "  <tbody>\n",
              "    <tr>\n",
              "      <th id=\"T_ae24d_level0_row0\" class=\"row_heading level0 row0\" >2021-12-16 00:00:00</th>\n",
              "      <td id=\"T_ae24d_row0_col0\" class=\"data row0 col0\" >4674</td>\n",
              "    </tr>\n",
              "    <tr>\n",
              "      <th id=\"T_ae24d_level0_row1\" class=\"row_heading level0 row1\" >2021-02-13 00:00:00</th>\n",
              "      <td id=\"T_ae24d_row1_col0\" class=\"data row1 col0\" >2121</td>\n",
              "    </tr>\n",
              "    <tr>\n",
              "      <th id=\"T_ae24d_level0_row2\" class=\"row_heading level0 row2\" >2021-11-03 00:00:00</th>\n",
              "      <td id=\"T_ae24d_row2_col0\" class=\"data row2 col0\" >1016</td>\n",
              "    </tr>\n",
              "    <tr>\n",
              "      <th id=\"T_ae24d_level0_row3\" class=\"row_heading level0 row3\" >2021-08-03 00:00:00</th>\n",
              "      <td id=\"T_ae24d_row3_col0\" class=\"data row3 col0\" >836</td>\n",
              "    </tr>\n",
              "    <tr>\n",
              "      <th id=\"T_ae24d_level0_row4\" class=\"row_heading level0 row4\" >2021-04-10 00:00:00</th>\n",
              "      <td id=\"T_ae24d_row4_col0\" class=\"data row4 col0\" >819</td>\n",
              "    </tr>\n",
              "  </tbody>\n",
              "</table>\n",
              "   <style type=\"text/css\">\n",
              "</style>\n",
              "<table id=\"T_98b95_\" style='display:inline'>\n",
              "  <caption>end_date</caption>\n",
              "  <thead>\n",
              "    <tr>\n",
              "      <th class=\"blank level0\" >&nbsp;</th>\n",
              "      <th class=\"col_heading level0 col0\" >end_date</th>\n",
              "    </tr>\n",
              "  </thead>\n",
              "  <tbody>\n",
              "    <tr>\n",
              "      <th id=\"T_98b95_level0_row0\" class=\"row_heading level0 row0\" >2021-06-05 00:00:00</th>\n",
              "      <td id=\"T_98b95_row0_col0\" class=\"data row0 col0\" >12817</td>\n",
              "    </tr>\n",
              "    <tr>\n",
              "      <th id=\"T_98b95_level0_row1\" class=\"row_heading level0 row1\" >2022-01-27 00:00:00</th>\n",
              "      <td id=\"T_98b95_row1_col0\" class=\"data row1 col0\" >9287</td>\n",
              "    </tr>\n",
              "    <tr>\n",
              "      <th id=\"T_98b95_level0_row2\" class=\"row_heading level0 row2\" >2022-02-09 00:00:00</th>\n",
              "      <td id=\"T_98b95_row2_col0\" class=\"data row2 col0\" >7633</td>\n",
              "    </tr>\n",
              "    <tr>\n",
              "      <th id=\"T_98b95_level0_row3\" class=\"row_heading level0 row3\" >2021-03-01 00:00:00</th>\n",
              "      <td id=\"T_98b95_row3_col0\" class=\"data row3 col0\" >1857</td>\n",
              "    </tr>\n",
              "    <tr>\n",
              "      <th id=\"T_98b95_level0_row4\" class=\"row_heading level0 row4\" >2021-04-15 00:00:00</th>\n",
              "      <td id=\"T_98b95_row4_col0\" class=\"data row4 col0\" >1523</td>\n",
              "    </tr>\n",
              "  </tbody>\n",
              "</table>\n",
              "   <style type=\"text/css\">\n",
              "</style>\n",
              "<table id=\"T_57945_\" style='display:inline'>\n",
              "  <caption>place_l2</caption>\n",
              "  <thead>\n",
              "    <tr>\n",
              "      <th class=\"blank level0\" >&nbsp;</th>\n",
              "      <th class=\"col_heading level0 col0\" >place_l2</th>\n",
              "    </tr>\n",
              "  </thead>\n",
              "  <tbody>\n",
              "    <tr>\n",
              "      <th id=\"T_57945_level0_row0\" class=\"row_heading level0 row0\" >Capital Federal</th>\n",
              "      <td id=\"T_57945_row0_col0\" class=\"data row0 col0\" >94249</td>\n",
              "    </tr>\n",
              "  </tbody>\n",
              "</table>\n",
              "   <style type=\"text/css\">\n",
              "</style>\n",
              "<table id=\"T_efdeb_\" style='display:inline'>\n",
              "  <caption>place_l3</caption>\n",
              "  <thead>\n",
              "    <tr>\n",
              "      <th class=\"blank level0\" >&nbsp;</th>\n",
              "      <th class=\"col_heading level0 col0\" >place_l3</th>\n",
              "    </tr>\n",
              "  </thead>\n",
              "  <tbody>\n",
              "    <tr>\n",
              "      <th id=\"T_efdeb_level0_row0\" class=\"row_heading level0 row0\" >Palermo</th>\n",
              "      <td id=\"T_efdeb_row0_col0\" class=\"data row0 col0\" >14308</td>\n",
              "    </tr>\n",
              "    <tr>\n",
              "      <th id=\"T_efdeb_level0_row1\" class=\"row_heading level0 row1\" >Belgrano</th>\n",
              "      <td id=\"T_efdeb_row1_col0\" class=\"data row1 col0\" >8898</td>\n",
              "    </tr>\n",
              "    <tr>\n",
              "      <th id=\"T_efdeb_level0_row2\" class=\"row_heading level0 row2\" >Caballito</th>\n",
              "      <td id=\"T_efdeb_row2_col0\" class=\"data row2 col0\" >7168</td>\n",
              "    </tr>\n",
              "    <tr>\n",
              "      <th id=\"T_efdeb_level0_row3\" class=\"row_heading level0 row3\" >Recoleta</th>\n",
              "      <td id=\"T_efdeb_row3_col0\" class=\"data row3 col0\" >6282</td>\n",
              "    </tr>\n",
              "    <tr>\n",
              "      <th id=\"T_efdeb_level0_row4\" class=\"row_heading level0 row4\" >Villa Urquiza</th>\n",
              "      <td id=\"T_efdeb_row4_col0\" class=\"data row4 col0\" >4673</td>\n",
              "    </tr>\n",
              "  </tbody>\n",
              "</table>\n",
              "   <style type=\"text/css\">\n",
              "</style>\n",
              "<table id=\"T_86ffb_\" style='display:inline'>\n",
              "  <caption>place_l4</caption>\n",
              "  <thead>\n",
              "    <tr>\n",
              "      <th class=\"blank level0\" >&nbsp;</th>\n",
              "      <th class=\"col_heading level0 col0\" >place_l4</th>\n",
              "    </tr>\n",
              "  </thead>\n",
              "  <tbody>\n",
              "    <tr>\n",
              "      <th id=\"T_86ffb_level0_row0\" class=\"row_heading level0 row0\" >Palermo Hollywood</th>\n",
              "      <td id=\"T_86ffb_row0_col0\" class=\"data row0 col0\" >1576</td>\n",
              "    </tr>\n",
              "    <tr>\n",
              "      <th id=\"T_86ffb_level0_row1\" class=\"row_heading level0 row1\" >Palermo Chico</th>\n",
              "      <td id=\"T_86ffb_row1_col0\" class=\"data row1 col0\" >1092</td>\n",
              "    </tr>\n",
              "    <tr>\n",
              "      <th id=\"T_86ffb_level0_row2\" class=\"row_heading level0 row2\" >Palermo Soho</th>\n",
              "      <td id=\"T_86ffb_row2_col0\" class=\"data row2 col0\" >804</td>\n",
              "    </tr>\n",
              "    <tr>\n",
              "      <th id=\"T_86ffb_level0_row3\" class=\"row_heading level0 row3\" >Palermo Viejo</th>\n",
              "      <td id=\"T_86ffb_row3_col0\" class=\"data row3 col0\" >171</td>\n",
              "    </tr>\n",
              "  </tbody>\n",
              "</table>\n",
              "   <style type=\"text/css\">\n",
              "</style>\n",
              "<table id=\"T_5e929_\" style='display:inline'>\n",
              "  <caption>place_l5</caption>\n",
              "  <thead>\n",
              "    <tr>\n",
              "      <th class=\"blank level0\" >&nbsp;</th>\n",
              "      <th class=\"col_heading level0 col0\" >place_l5</th>\n",
              "    </tr>\n",
              "  </thead>\n",
              "  <tbody>\n",
              "  </tbody>\n",
              "</table>\n",
              "   <style type=\"text/css\">\n",
              "</style>\n",
              "<table id=\"T_522ff_\" style='display:inline'>\n",
              "  <caption>place_l6</caption>\n",
              "  <thead>\n",
              "    <tr>\n",
              "      <th class=\"blank level0\" >&nbsp;</th>\n",
              "      <th class=\"col_heading level0 col0\" >place_l6</th>\n",
              "    </tr>\n",
              "  </thead>\n",
              "  <tbody>\n",
              "  </tbody>\n",
              "</table>\n",
              "   <style type=\"text/css\">\n",
              "</style>\n",
              "<table id=\"T_306c6_\" style='display:inline'>\n",
              "  <caption>operation</caption>\n",
              "  <thead>\n",
              "    <tr>\n",
              "      <th class=\"blank level0\" >&nbsp;</th>\n",
              "      <th class=\"col_heading level0 col0\" >operation</th>\n",
              "    </tr>\n",
              "  </thead>\n",
              "  <tbody>\n",
              "    <tr>\n",
              "      <th id=\"T_306c6_level0_row0\" class=\"row_heading level0 row0\" >Venta</th>\n",
              "      <td id=\"T_306c6_row0_col0\" class=\"data row0 col0\" >94249</td>\n",
              "    </tr>\n",
              "  </tbody>\n",
              "</table>\n",
              "   <style type=\"text/css\">\n",
              "</style>\n",
              "<table id=\"T_bbfc5_\" style='display:inline'>\n",
              "  <caption>property_type</caption>\n",
              "  <thead>\n",
              "    <tr>\n",
              "      <th class=\"blank level0\" >&nbsp;</th>\n",
              "      <th class=\"col_heading level0 col0\" >property_type</th>\n",
              "    </tr>\n",
              "  </thead>\n",
              "  <tbody>\n",
              "    <tr>\n",
              "      <th id=\"T_bbfc5_level0_row0\" class=\"row_heading level0 row0\" >Departamento</th>\n",
              "      <td id=\"T_bbfc5_row0_col0\" class=\"data row0 col0\" >80829</td>\n",
              "    </tr>\n",
              "    <tr>\n",
              "      <th id=\"T_bbfc5_level0_row1\" class=\"row_heading level0 row1\" >PH</th>\n",
              "      <td id=\"T_bbfc5_row1_col0\" class=\"data row1 col0\" >9266</td>\n",
              "    </tr>\n",
              "    <tr>\n",
              "      <th id=\"T_bbfc5_level0_row2\" class=\"row_heading level0 row2\" >Casa</th>\n",
              "      <td id=\"T_bbfc5_row2_col0\" class=\"data row2 col0\" >4154</td>\n",
              "    </tr>\n",
              "  </tbody>\n",
              "</table>\n",
              "   <style type=\"text/css\">\n",
              "</style>\n",
              "<table id=\"T_6223a_\" style='display:inline'>\n",
              "  <caption>property_currency</caption>\n",
              "  <thead>\n",
              "    <tr>\n",
              "      <th class=\"blank level0\" >&nbsp;</th>\n",
              "      <th class=\"col_heading level0 col0\" >property_currency</th>\n",
              "    </tr>\n",
              "  </thead>\n",
              "  <tbody>\n",
              "    <tr>\n",
              "      <th id=\"T_6223a_level0_row0\" class=\"row_heading level0 row0\" >USD</th>\n",
              "      <td id=\"T_6223a_row0_col0\" class=\"data row0 col0\" >94249</td>\n",
              "    </tr>\n",
              "  </tbody>\n",
              "</table>\n",
              "   <style type=\"text/css\">\n",
              "</style>\n",
              "<table id=\"T_bf084_\" style='display:inline'>\n",
              "  <caption>property_title</caption>\n",
              "  <thead>\n",
              "    <tr>\n",
              "      <th class=\"blank level0\" >&nbsp;</th>\n",
              "      <th class=\"col_heading level0 col0\" >property_title</th>\n",
              "    </tr>\n",
              "  </thead>\n",
              "  <tbody>\n",
              "    <tr>\n",
              "      <th id=\"T_bf084_level0_row0\" class=\"row_heading level0 row0\" >Departamento - Palermo</th>\n",
              "      <td id=\"T_bf084_row0_col0\" class=\"data row0 col0\" >1468</td>\n",
              "    </tr>\n",
              "    <tr>\n",
              "      <th id=\"T_bf084_level0_row1\" class=\"row_heading level0 row1\" >Departamento - Recoleta</th>\n",
              "      <td id=\"T_bf084_row1_col0\" class=\"data row1 col0\" >1324</td>\n",
              "    </tr>\n",
              "    <tr>\n",
              "      <th id=\"T_bf084_level0_row2\" class=\"row_heading level0 row2\" >Departamento - Belgrano</th>\n",
              "      <td id=\"T_bf084_row2_col0\" class=\"data row2 col0\" >1113</td>\n",
              "    </tr>\n",
              "    <tr>\n",
              "      <th id=\"T_bf084_level0_row3\" class=\"row_heading level0 row3\" >Departamento - Caballito</th>\n",
              "      <td id=\"T_bf084_row3_col0\" class=\"data row3 col0\" >936</td>\n",
              "    </tr>\n",
              "    <tr>\n",
              "      <th id=\"T_bf084_level0_row4\" class=\"row_heading level0 row4\" >Departamento - Almagro</th>\n",
              "      <td id=\"T_bf084_row4_col0\" class=\"data row4 col0\" >666</td>\n",
              "    </tr>\n",
              "  </tbody>\n",
              "</table>\n",
              "   "
            ]
          },
          "metadata": {}
        }
      ],
      "source": [
        "qualitative_dataset = ds_filtrado[categoricas]\n",
        "\n",
        "dfs = list(\n",
        "    pd.DataFrame(qualitative_dataset[column].value_counts().head()) for column in qualitative_dataset.columns.tolist())\n",
        "display_side_by_side(dfs, qualitative_dataset.columns.tolist())"
      ]
    },
    {
      "cell_type": "markdown",
      "metadata": {
        "id": "1gBeIXrRLQOW",
        "pycharm": {
          "name": "#%% md\n"
        }
      },
      "source": [
        "La tabla muestra varias cosas:\n",
        "- Hay 94249 propiedades habiendo filtrado solo las de Capital Federal, Venta y USD\n",
        "- Hay 80829 departamentos, 9266 PHs y 4154 casas\n",
        "- Hay 14308 propiedades en Palermo\n",
        "- El id de la propiedad es único y no representa nada útil para nuestro procesamiento. Parecería pasar algo similar con el título, lo analizaremos en más detalle más adelante"
      ]
    },
    {
      "cell_type": "markdown",
      "metadata": {
        "id": "ojlfca7BBXAw",
        "tags": [],
        "pycharm": {
          "name": "#%% md\n"
        }
      },
      "source": [
        "## Análisis gráfico de las distribuciones de las variables"
      ]
    },
    {
      "cell_type": "markdown",
      "metadata": {
        "id": "UJXPwgQU6a2Q",
        "tags": [],
        "pycharm": {
          "name": "#%% md\n"
        }
      },
      "source": [
        "#### Distribución de fechas "
      ]
    },
    {
      "cell_type": "code",
      "execution_count": 2672,
      "metadata": {
        "colab": {
          "base_uri": "https://localhost:8080/",
          "height": 0
        },
        "id": "zOdlJeZbCDHW",
        "outputId": "3739890f-63af-490e-c831-24ea78f89330",
        "pycharm": {
          "name": "#%%\n"
        }
      },
      "outputs": [
        {
          "output_type": "execute_result",
          "data": {
            "text/plain": [
              "<matplotlib.legend.Legend at 0x7f8fabf4da10>"
            ]
          },
          "metadata": {},
          "execution_count": 2672
        },
        {
          "output_type": "display_data",
          "data": {
            "text/plain": [
              "<Figure size 720x720 with 1 Axes>"
            ],
            "image/png": "[encoded data removed]"
          },
          "metadata": {
            "needs_background": "light"
          }
        }
      ],
      "source": [
        "\n",
        "plt.figure(figsize=(10, 10))\n",
        "plt.hist(ds_filtrado.start_date, bins=25, alpha=0.5, label=\"start_date\")\n",
        "plt.hist(ds_filtrado.end_date, bins=25, alpha=0.5, label=\"end_date\")\n",
        "plt.hist(ds_filtrado.created_on, bins=25, alpha=0.5, label=\"created_on\")\n",
        "plt.xlabel(\"Fecha\", size=14)\n",
        "plt.ylabel(\"Frecuencia\", size=14)\n",
        "plt.title(\"Frecuencia por fecha de los eventos de los anuncios\", size=18)\n",
        "plt.legend(loc='upper right')\n"
      ]
    },
    {
      "cell_type": "markdown",
      "metadata": {
        "id": "VP1hjsD6yt2o",
        "pycharm": {
          "name": "#%% md\n"
        }
      },
      "source": [
        "En este grafico se puede apreciar la distribución de las variables que hacen referencia a las fechas de creacion, alta y baja de los anuncios. Podemos ver que la distribución de las fechas de creación coincide con la distribución de las fechas de alta del anuncio, lo cual tiene sentido que así sea ya que la fecha de creación del anuncio es la primer versión del anuncio en ser dada de alta. "
      ]
    },
    {
      "cell_type": "markdown",
      "metadata": {
        "id": "UM58cSnX1DMZ",
        "tags": [],
        "pycharm": {
          "name": "#%% md\n"
        }
      },
      "source": [
        "###  Distribución de barrios\n",
        "Primero vemos la cantidad de apariciones de los barrios por anuncio en la siguiente tabla:"
      ]
    },
    {
      "cell_type": "code",
      "execution_count": 2673,
      "metadata": {
        "colab": {
          "base_uri": "https://localhost:8080/"
        },
        "id": "DB8QfV1X0wth",
        "outputId": "83ec13db-1dd1-4327-f9de-55b53e9a8cc7",
        "pycharm": {
          "name": "#%%\n"
        }
      },
      "outputs": [
        {
          "output_type": "execute_result",
          "data": {
            "text/plain": [
              "Palermo                 14308\n",
              "Belgrano                 8898\n",
              "Caballito                7168\n",
              "Recoleta                 6282\n",
              "Villa Urquiza            4673\n",
              "Almagro                  4081\n",
              "Nuñez                    3546\n",
              "Villa Crespo             3189\n",
              "Flores                   3110\n",
              "Barrio Norte             2975\n",
              "Balvanera                2553\n",
              "Colegiales               1951\n",
              "Villa Devoto             1921\n",
              "Villa del Parque         1829\n",
              "Saavedra                 1829\n",
              "Puerto Madero            1493\n",
              "San Telmo                1380\n",
              "San Cristobal            1300\n",
              "San Nicolás              1295\n",
              "Retiro                   1250\n",
              "Barracas                 1246\n",
              "Boedo                    1237\n",
              "Floresta                 1195\n",
              "Monserrat                1115\n",
              "Parque Chacabuco         1073\n",
              "Villa Pueyrredón         1011\n",
              "Coghlan                   984\n",
              "Villa Luro                727\n",
              "Mataderos                 719\n",
              "Chacarita                 697\n",
              "Liniers                   668\n",
              "Villa Ortuzar             662\n",
              "Parque Patricios          639\n",
              "Villa Lugano              612\n",
              "Paternal                  566\n",
              "Congreso                  535\n",
              "Monte Castro              499\n",
              "Constitución              453\n",
              "Villa Santa Rita          438\n",
              "Villa General Mitre       435\n",
              "Once                      407\n",
              "Parque Avellaneda         380\n",
              "Parque Chas               373\n",
              "Boca                      365\n",
              "Versalles                 315\n",
              "Velez Sarsfield           242\n",
              "Agronomía                 235\n",
              "Abasto                    231\n",
              "Pompeya                   216\n",
              "Villa Real                142\n",
              "Tribunales                116\n",
              "Parque Centenario          93\n",
              "Centro / Microcentro       76\n",
              "Villa Soldati              45\n",
              "Villa Riachuelo            35\n",
              "Las Cañitas                12\n",
              "Catalinas                   7\n",
              "Name: place_l3, dtype: int64"
            ]
          },
          "metadata": {},
          "execution_count": 2673
        }
      ],
      "source": [
        "ds_filtrado['place_l3'].value_counts()"
      ]
    },
    {
      "cell_type": "markdown",
      "metadata": {
        "id": "1JsZH1apOsNB",
        "pycharm": {
          "name": "#%% md\n"
        }
      },
      "source": [
        "Como podemos observar, hay demasiados barrios con pocas apariciones, por lo que nos centraremos en visualizar los primeras 10 barrios que mas aparecen. Agrupando al resto en una nueva categoria llamada \"Otras\"."
      ]
    },
    {
      "cell_type": "code",
      "execution_count": 2674,
      "metadata": {
        "id": "hSnGpb5e72sT",
        "pycharm": {
          "name": "#%%\n"
        }
      },
      "outputs": [],
      "source": [
        "top10 = ds_filtrado['place_l3'].value_counts().head(10)"
      ]
    },
    {
      "cell_type": "code",
      "execution_count": 2675,
      "metadata": {
        "colab": {
          "base_uri": "https://localhost:8080/",
          "height": 0
        },
        "id": "ScF0e8uGPNoX",
        "outputId": "5710a93e-b281-4cd0-98fd-9b890d0e73b6",
        "pycharm": {
          "name": "#%%\n"
        }
      },
      "outputs": [
        {
          "output_type": "display_data",
          "data": {
            "text/plain": [
              "<Figure size 720x720 with 1 Axes>"
            ],
            "image/png": "[encoded data removed]"
          },
          "metadata": {
            "needs_background": "light"
          }
        }
      ],
      "source": [
        "ds_otros_barrios = ds_filtrado[~ds_filtrado['place_l3'].isin(\n",
        "    top10.index)]  # tomamos solo con las observaciones que no pertenecen al top 10 de barrios\n",
        "frecuencia_otras = ds_otros_barrios.shape[0]\n",
        "otras = pd.Series(data=[frecuencia_otras], index=[\"Otros\"])\n",
        "distribucion_por_barrios = pd.concat([otras, top10])\n",
        "\n",
        "ax = distribucion_por_barrios.plot.bar(alpha=0.5,\n",
        "                                       title=\"Distribución de los barrios con mas propiedades más publicadas\",\n",
        "                                       xlabel=\"Barrios\", ylabel=\"Cantidad de Anuncios\", figsize=(10, 10))"
      ]
    },
    {
      "cell_type": "markdown",
      "metadata": {
        "id": "0KzTb0j4RClh",
        "pycharm": {
          "name": "#%% md\n"
        }
      },
      "source": [
        "El barrio de Palermo es la que tiene mas propiedades publicadas"
      ]
    },
    {
      "cell_type": "markdown",
      "metadata": {
        "id": "obePjaf2R3Jg",
        "jp-MarkdownHeadingCollapsed": true,
        "tags": [],
        "pycharm": {
          "name": "#%% md\n"
        }
      },
      "source": [
        "### Distribución de tipos de propiedad\n",
        "\n",
        "Para analizar la distribucion de la variable property_type vamos a agrupar las apariciones en un grafico de barras por tipo de propiedad"
      ]
    },
    {
      "cell_type": "code",
      "execution_count": 2676,
      "metadata": {
        "colab": {
          "base_uri": "https://localhost:8080/",
          "height": 0
        },
        "id": "Quam07N7Q3V_",
        "outputId": "988d4282-ceb3-4062-adb2-11951380a17f",
        "pycharm": {
          "name": "#%%\n"
        }
      },
      "outputs": [
        {
          "output_type": "display_data",
          "data": {
            "text/plain": [
              "<Figure size 432x288 with 1 Axes>"
            ],
            "image/png": "[encoded data removed]"
          },
          "metadata": {
            "needs_background": "light"
          }
        }
      ],
      "source": [
        "colores = [(0, 0, 1), (0, 1, 0), (1, 0, 0)]\n",
        "grf = ds_filtrado['property_type'].value_counts().plot.barh(alpha=0.5, color=colores,\n",
        "                                                            title=\"Cantidad de propiedades por tipo\", ylabel=\"Cantidad\")"
      ]
    },
    {
      "cell_type": "markdown",
      "metadata": {
        "id": "L_XQi_RJSJrw",
        "pycharm": {
          "name": "#%% md\n"
        }
      },
      "source": [
        "A simple vista se puede ver que la mayoria de publicaciones son de departamentos por una amplia diferencia"
      ]
    },
    {
      "cell_type": "markdown",
      "metadata": {
        "id": "2oo26Jn3WzsK",
        "tags": [],
        "pycharm": {
          "name": "#%% md\n"
        }
      },
      "source": [
        "### Distribución de latitud y longitud\n",
        "Para analizar la longitud y latitud vamos a utilizar un grafico de a pares ya que nos aporta más información sobre su distribución, pudiendo visualizar la localización de la propiedad. Adicionalmente se distinguirá por el tipo de propiedad."
      ]
    },
    {
      "cell_type": "code",
      "execution_count": null,
      "metadata": {
        "colab": {
          "base_uri": "https://localhost:8080/"
        },
        "id": "jptzUAZzM9XJ",
        "outputId": "ee147f13-ab80-4ed8-a9e7-cb5e2eb5ea76",
        "pycharm": {
          "name": "#%%\n"
        }
      },
      "outputs": [
        {
          "output_type": "execute_result",
          "data": {
            "text/plain": [
              "<seaborn.axisgrid.FacetGrid at 0x7f8fabd5ce10>"
            ]
          },
          "metadata": {},
          "execution_count": 2677
        }
      ],
      "source": [
        "#grf=ds_filtrado.plot.scatter(x=\"latitud\", y=\"longitud\", s=10).set(title=\"Distribucion de observaciones por latitud y longitud\",xlabel='Age',ylabel='Fare') \n",
        "sns.relplot(data=ds_filtrado, x=\"longitud\", y=\"latitud\", hue=\"property_type\").set(title=\"Ubicacion de las propiedades\",\n",
        "                                                                                  xlabel='Longitud', ylabel='Latitud')"
      ]
    },
    {
      "cell_type": "markdown",
      "metadata": {
        "id": "PC6IDU4UXjdY",
        "pycharm": {
          "name": "#%% md\n"
        }
      },
      "source": [
        "Podemos ver que la mayoria de propiedades publicadas se encuentran concentradas en un área en particular, donde mayormente son de tipo Casa. Y al alejarse se ven departamentos distanciados entre sí."
      ]
    },
    {
      "cell_type": "markdown",
      "metadata": {
        "id": "-Ddt6nPw7c_v",
        "tags": [],
        "pycharm": {
          "name": "#%% md\n"
        }
      },
      "source": [
        "### Distribución de habitaciones y baños"
      ]
    },
    {
      "cell_type": "code",
      "execution_count": null,
      "metadata": {
        "id": "UUaSXo4QDkIo",
        "pycharm": {
          "name": "#%%\n"
        }
      },
      "outputs": [],
      "source": [
        "grf = ds_filtrado.property_rooms.plot.box(title=\"Distribucion de la cantidad de habitaciones por propiedad\",\n",
        "                                          ylabel=\"Habitaciones\")"
      ]
    },
    {
      "cell_type": "markdown",
      "metadata": {
        "id": "GN9Q93gEfaaC",
        "pycharm": {
          "name": "#%% md\n"
        }
      },
      "source": [
        "Podemos ver que hay una gran cantidad de outliers, siendo 40 el que mas se aleja, para visualizar mejor la distribucion del boxplot veremos un nuevo grafico sin considerar los outliers."
      ]
    },
    {
      "cell_type": "code",
      "execution_count": null,
      "metadata": {
        "id": "2OPgsq5PqGIU",
        "pycharm": {
          "name": "#%%\n"
        }
      },
      "outputs": [],
      "source": [
        "q1 = ds_filtrado.property_rooms.quantile(q=0.25)\n",
        "q3 = ds_filtrado.property_rooms.quantile(q=0.75)\n",
        "iqr = q3 - q1\n",
        "max = q3 + (iqr * 1.5)\n",
        "\n",
        "property_rooms_filtrado = ds_filtrado[ds_filtrado.property_rooms <= max].property_rooms\n",
        "grf = property_rooms_filtrado.plot.box(title=\"Distribucion de la cantidad de habitaciones por propiedad (Sin outliers)\",\n",
        "                                       ylabel=\"Habitaciones\")"
      ]
    },
    {
      "cell_type": "markdown",
      "metadata": {
        "id": "oU1SeXG0gJ7x",
        "pycharm": {
          "name": "#%% md\n"
        }
      },
      "source": [
        "Ahora si podemos visualizar mejor los valores de la mediana, q3, q1 y los bigotes. Que toman la siguiente cantidad de habitaciones:\n",
        "\n",
        "*   Bigotes: 1 y 7.\n",
        "*   Cuartil 1: 2\n",
        "*   Mediana: 3.\n",
        "*   Cuartil 3: 4.\n",
        "\n",
        "\n",
        "\n"
      ]
    },
    {
      "cell_type": "markdown",
      "metadata": {
        "id": "jkVfudx0hHxp",
        "pycharm": {
          "name": "#%% md\n"
        }
      },
      "source": [
        "Hacemos el mismo procedimiento ver la distribución de la cantidad de baños por propiedad"
      ]
    },
    {
      "cell_type": "code",
      "execution_count": null,
      "metadata": {
        "id": "pTAVKc0rYh78",
        "pycharm": {
          "name": "#%%\n"
        }
      },
      "outputs": [],
      "source": [
        "ds_filtrado.property_bedrooms.plot.box(title=\"Distribucion de la cantidad de baños por propiedad\", ylabel=\"Baños\")"
      ]
    },
    {
      "cell_type": "markdown",
      "metadata": {
        "id": "tHwz6dmbh8xI",
        "pycharm": {
          "name": "#%% md\n"
        }
      },
      "source": [
        "Vemos que esta vez hay mas distancia entre el outlier mas alejado y el resto de outliers."
      ]
    },
    {
      "cell_type": "code",
      "execution_count": null,
      "metadata": {
        "id": "xVtqbQTaqrT2",
        "pycharm": {
          "name": "#%%\n"
        }
      },
      "outputs": [],
      "source": [
        "q1 = ds_filtrado.property_rooms.quantile(q=0.25)\n",
        "q3 = ds_filtrado.property_rooms.quantile(q=0.75)\n",
        "iqr = q3 - q1\n",
        "max = q3 + (iqr * 1.5)\n",
        "\n",
        "property_bedrooms_filtrado = ds_filtrado[ds_filtrado.property_bedrooms <= max].property_bedrooms\n",
        "grf = property_bedrooms_filtrado.plot.box(title=\"Distribucion de la cantidad de baños por propiedad (Sin outliers)\",\n",
        "                                          xlabel=\" \", ylabel=\"Baños\")"
      ]
    },
    {
      "cell_type": "markdown",
      "metadata": {
        "id": "djmWF1F7iK_g",
        "pycharm": {
          "name": "#%% md\n"
        }
      },
      "source": [
        "En este caso toman los siguientes valores:\n",
        "\n",
        "*   Bigotes: -1 y 6.\n",
        "*   Cuartil 1: 1.\n",
        "*   Mediana: 2.\n",
        "*   Cuartil 3: 3.\n"
      ]
    },
    {
      "cell_type": "markdown",
      "metadata": {
        "id": "M4Amhc7lkDC4",
        "tags": [],
        "pycharm": {
          "name": "#%% md\n"
        }
      },
      "source": [
        "### Distribución de precio\n",
        "\n",
        "Para analizar la distribución del precio, como es un tipo de variable continua y cada observación puede tomar un valor en un rango muy grande, optamos por hacer una agrupación por rangos de precios, obteniendo una categoria por cada rango.\n",
        "Vamos a considerar la mediana para establecer los limites entre cada grupo, consideramos que es un buen valor para dividir al conjunto en partes ya que no se ve afectado drasticamente por outliers (como si sucede con la media)."
      ]
    },
    {
      "cell_type": "code",
      "execution_count": null,
      "metadata": {
        "id": "MPilP3s-mFh_",
        "pycharm": {
          "name": "#%%\n"
        }
      },
      "outputs": [],
      "source": [
        "print(f\"La mediana del precio es: {ds_filtrado.property_price.median()}\")"
      ]
    },
    {
      "cell_type": "code",
      "execution_count": null,
      "metadata": {
        "id": "BVQvZd0vsvBE",
        "pycharm": {
          "name": "#%%\n"
        }
      },
      "outputs": [],
      "source": [
        "# Tomamos valores alrededor de la mediana\n",
        "property_price_grouped = pd.cut(ds_filtrado.property_price, bins=[0, 75000, 150000, 225000, float(\"inf\")],\n",
        "                                labels=[\"0-75000\", \"75000-150000\", \"150000-225000\", \"225000-Inf\"], include_lowest=True)\n",
        "property_price_grouped.value_counts().plot.barh(alpha=0.5, color=colores,\n",
        "                                                title=\"Distribucion de los precios de las propiedades\",\n",
        "                                                xlabel=\"Rango de precios\", ylabel=\"Frecuencia\")"
      ]
    },
    {
      "cell_type": "markdown",
      "metadata": {
        "id": "QJOAlZoprGHo",
        "pycharm": {
          "name": "#%% md\n"
        }
      },
      "source": [
        "Podemos ver que la mayoria de propiedades estan dentro del rango de 75000 y 150000 USD."
      ]
    },
    {
      "cell_type": "markdown",
      "metadata": {
        "id": "4d609ZsivVrn",
        "tags": [],
        "pycharm": {
          "name": "#%% md\n"
        }
      },
      "source": [
        "### Distribución de superficie total y cubierta\n",
        "\n",
        "Utilizaremos un violin plot para cada variable. "
      ]
    },
    {
      "cell_type": "code",
      "execution_count": null,
      "metadata": {
        "id": "5nqsGa7Q0k80",
        "pycharm": {
          "name": "#%%\n"
        }
      },
      "outputs": [],
      "source": [
        "sns.violinplot(ds_filtrado.property_surface_total)"
      ]
    },
    {
      "cell_type": "markdown",
      "metadata": {
        "id": "-9Rl83-ewc_f",
        "pycharm": {
          "name": "#%% md\n"
        }
      },
      "source": [
        "A simple vista no esta muy claro el gráfico por la cantidad de outliers que hay, por lo que dejaremos de lado la mayoria de outliers para interpretarlo mas en detalle."
      ]
    },
    {
      "cell_type": "code",
      "execution_count": null,
      "metadata": {
        "id": "LouTyQqWw2TH",
        "pycharm": {
          "name": "#%%\n"
        }
      },
      "outputs": [],
      "source": [
        "ds_surface_sin_outliers = ds_filtrado[ds_filtrado.property_surface_total < 600]\n",
        "sns.violinplot(ds_surface_sin_outliers.property_surface_total)"
      ]
    },
    {
      "cell_type": "markdown",
      "metadata": {
        "id": "ND53nYXgzkCv",
        "pycharm": {
          "name": "#%% md\n"
        }
      },
      "source": [
        "Podemos ver que entre 0 y 100 se encuentra la mayor densidad"
      ]
    },
    {
      "cell_type": "markdown",
      "metadata": {
        "id": "bqF778U6z2g_",
        "pycharm": {
          "name": "#%% md\n"
        }
      },
      "source": [
        "Hacemos el mismo procedimiento para visualizar la distribución de la superficie cubierta de la propiedad"
      ]
    },
    {
      "cell_type": "code",
      "execution_count": null,
      "metadata": {
        "id": "mfQYp9bk0FcX",
        "pycharm": {
          "name": "#%%\n"
        }
      },
      "outputs": [],
      "source": [
        "ds_surface_covered_sin_outliers = ds_filtrado[ds_filtrado.property_surface_covered < 600]\n",
        "sns.violinplot(ds_surface_covered_sin_outliers.property_surface_covered)"
      ]
    },
    {
      "cell_type": "markdown",
      "metadata": {
        "id": "EEqKZ7Cy0Uy3",
        "pycharm": {
          "name": "#%% md\n"
        }
      },
      "source": [
        "Se nota que el grafico de property_surface_total es similar al de property_surface_covered, teniendo el segundo una densidad levemente menor. "
      ]
    },
    {
      "cell_type": "markdown",
      "metadata": {
        "id": "fW8vJOcwtiRu",
        "pycharm": {
          "name": "#%% md\n"
        }
      },
      "source": [
        "## Correlación entre variables"
      ]
    },
    {
      "cell_type": "markdown",
      "metadata": {
        "id": "5e9Lmd6SdIyx",
        "pycharm": {
          "name": "#%% md\n"
        }
      },
      "source": [
        "A continuación analizaremos la correlación entre las variables cuantitativas, primero visualizando la distribución a pares entre estas."
      ]
    },
    {
      "cell_type": "code",
      "execution_count": null,
      "metadata": {
        "id": "v7wt8NlStiRv",
        "pycharm": {
          "name": "#%%\n"
        }
      },
      "outputs": [],
      "source": [
        "quantitative_dataset = ds_filtrado[cuantitativas_filtradas]\n",
        "ax = scatter_matrix(quantitative_dataset, alpha=0.7, figsize=(15, 15), s=100)"
      ]
    },
    {
      "cell_type": "markdown",
      "metadata": {
        "id": "W_YWH43tWKES",
        "pycharm": {
          "name": "#%% md\n"
        }
      },
      "source": [
        "Si bien a simple vista no esta muy claro que variables están correlacionadas entre sí, podemos suponer que puede llegar a haber relación entre property_rooms y property_bedrooms, property_surface_total y property_surface_covered, property_price y property_rooms, property_price y property_bedrooms. Las cuales tiene sentido que pudiesen tener algún tipo de relación.\n",
        "\n",
        "Además podemos considerar en menor medida que haya una relación entre longitud y latitud (cosa que no necesariamente tendría que ser así)\n",
        "\n",
        "\n"
      ]
    },
    {
      "cell_type": "markdown",
      "metadata": {
        "id": "hinCAxYxuM4p",
        "pycharm": {
          "name": "#%% md\n"
        }
      },
      "source": [
        "Analizaremos la correlación lineal entre variables por medio de la medición del coeficiente de Pearson"
      ]
    },
    {
      "cell_type": "code",
      "execution_count": null,
      "metadata": {
        "id": "ip0UrMAVtiRw",
        "pycharm": {
          "name": "#%%\n"
        }
      },
      "outputs": [],
      "source": [
        "correlations = quantitative_dataset.corr()\n",
        "correlations"
      ]
    },
    {
      "cell_type": "markdown",
      "metadata": {
        "id": "UDRu1PrhuZ9R",
        "pycharm": {
          "name": "#%% md\n"
        }
      },
      "source": [
        "Haremos un heatmap que nos permite visualizar mejor la correlación"
      ]
    },
    {
      "cell_type": "code",
      "execution_count": null,
      "metadata": {
        "id": "5Psy0pQTtiRx",
        "pycharm": {
          "name": "#%%\n"
        }
      },
      "outputs": [],
      "source": [
        "plt.figure(figsize=(10, 10))\n",
        "ax = sns.heatmap(quantitative_dataset.corr(), annot=True)"
      ]
    },
    {
      "cell_type": "markdown",
      "metadata": {
        "id": "N2d-_ZHLnRKB",
        "pycharm": {
          "name": "#%% md\n"
        }
      },
      "source": [
        "Luego de calcular el coeficiente de Pearson donde los que resultan cercanos a 1 indican una gran correlación entre sí, los que tienden a 0 tienen poca correlación y los cercanos a -1 presentan una notable correlación negativa.\n",
        "\n",
        "Veremos si las variables que parecían relacionarse anteriormente realmente lo hacen:\n"
      ]
    },
    {
      "cell_type": "code",
      "execution_count": null,
      "metadata": {
        "id": "4QTZTD71sNs5",
        "pycharm": {
          "name": "#%%\n"
        }
      },
      "outputs": [],
      "source": [
        "posible_correlations = [('property_rooms', 'property_bedrooms'), ('property_price', 'property_bedrooms'),\n",
        "                        ('property_price', 'property_rooms'), ('property_surface_total', 'property_surface_covered'),\n",
        "                        ('longitud', 'latitud')]\n",
        "for corr in posible_correlations:\n",
        "    print(f\"Entre {corr[0]} y {corr[1]}:{round(correlations.loc[corr[0], corr[1]], 2)}\")"
      ]
    },
    {
      "cell_type": "markdown",
      "metadata": {
        "id": "_cnFHZ2pvoEh",
        "pycharm": {
          "name": "#%% md\n"
        }
      },
      "source": [
        "Podemos sacar las siguientes conclusiones sobre las variables que parecian relacionarse:\n",
        "\n",
        "\n",
        "*   Hay mucha relación entre la cantidad de habitaciones y ambientes.\n",
        "*   Hay menos relación entre la superficie total y superficie cubierta de la propiedad.\n",
        "*   Casi no hay relación entre el precio y la cantidad de habitaciones.\n",
        "*   Casi no hay relación entre el precio y la cantidad de ambientes.\n",
        "*   No hay relación entre la latitud y la longitud.\n",
        "\n",
        "\n",
        "\n"
      ]
    },
    {
      "cell_type": "markdown",
      "metadata": {
        "id": "yWxX8bRyLQOX",
        "pycharm": {
          "name": "#%% md\n"
        },
        "tags": []
      },
      "source": [
        "## Análisis de valores faltantes"
      ]
    },
    {
      "cell_type": "markdown",
      "metadata": {
        "id": "6qcBvd1oLQOX",
        "pycharm": {
          "name": "#%% md\n"
        }
      },
      "source": [
        "Ahora analizaremos los datos faltantes del dataset."
      ]
    },
    {
      "cell_type": "markdown",
      "metadata": {
        "id": "Pv7hjbTPLQOX",
        "pycharm": {
          "name": "#%% md\n"
        },
        "tags": []
      },
      "source": [
        "### Porcentaje de valores faltantes por columna\n",
        "\n"
      ]
    },
    {
      "cell_type": "code",
      "execution_count": null,
      "metadata": {
        "id": "cgUBM6_7LQOX",
        "pycharm": {
          "name": "#%%\n"
        }
      },
      "outputs": [],
      "source": [
        "percent_missing = ds_filtrado.isna().sum() * 100 / len(ds_filtrado)\n",
        "plt.figure(figsize=(12, 6))\n",
        "percent_missing.plot.bar(x='index', rot=45)\n",
        "plt.xlabel(\"Columns\")\n",
        "plt.ylabel(\"Percentage Missing\")\n",
        "rows = ds_filtrado.shape[0]\n",
        "print(ds_filtrado.isna().sum() / rows * 100)"
      ]
    },
    {
      "cell_type": "markdown",
      "metadata": {
        "id": "9Zc0JgleLQOX",
        "pycharm": {
          "name": "#%% md\n"
        }
      },
      "source": [
        "A simple vista podemos ver que las columnas place_l4,place_l5 y place_l6 practicamente no tienen datos, procederemos a eliminarlas."
      ]
    },
    {
      "cell_type": "markdown",
      "metadata": {
        "id": "o3sc6FA2LQOY",
        "pycharm": {
          "name": "#%% md\n"
        },
        "tags": []
      },
      "source": [
        "### Porcentaje de datos faltantes por fila"
      ]
    },
    {
      "cell_type": "code",
      "execution_count": null,
      "metadata": {
        "id": "J5jAS-EfLQOY",
        "pycharm": {
          "name": "#%%\n"
        }
      },
      "outputs": [],
      "source": [
        "column_count = ds_filtrado.shape[1]\n",
        "ds_plot = ds_filtrado.T.isna().sum() * 100 / column_count\n",
        "\n",
        "plt.axvline(ds_plot.mean())\n",
        "sns.violinplot(ds_plot)"
      ]
    },
    {
      "cell_type": "markdown",
      "metadata": {
        "id": "yFy0ZRL-LQOY",
        "pycharm": {
          "name": "#%% md\n"
        }
      },
      "source": [
        "Analizaremos nuevamente el porcentaje por fila luego de trabajar con las columnas"
      ]
    },
    {
      "cell_type": "markdown",
      "metadata": {
        "id": "2tsXkTlyLQOY",
        "pycharm": {
          "name": "#%% md\n"
        },
        "tags": []
      },
      "source": [
        "### Procesado de columnas"
      ]
    },
    {
      "cell_type": "markdown",
      "metadata": {
        "id": "betRCwnmLQOY",
        "pycharm": {
          "name": "#%% md\n"
        }
      },
      "source": [
        "Descartaremos la columna id debido a que no es relevante para nuestro análisis. No podemos usar un dato uníco porque no representa ninguna característica relevante."
      ]
    },
    {
      "cell_type": "code",
      "execution_count": null,
      "metadata": {
        "id": "ggNmkz3vLQOY",
        "pycharm": {
          "name": "#%%\n"
        }
      },
      "outputs": [],
      "source": [
        "ds_filtrado['id'].head()"
      ]
    },
    {
      "cell_type": "markdown",
      "metadata": {
        "id": "3GBv7sTDLQOZ",
        "pycharm": {
          "name": "#%% md\n"
        }
      },
      "source": [
        "Como mencionamos anteriormente, evaluaremos descartar place_l4 por la cantidad de valores faltantes que hay."
      ]
    },
    {
      "cell_type": "code",
      "execution_count": null,
      "metadata": {
        "id": "nTkQozBzLQOZ",
        "pycharm": {
          "name": "#%%\n"
        }
      },
      "outputs": [],
      "source": [
        "ds_filtrado['place_l4'].value_counts()"
      ]
    },
    {
      "cell_type": "code",
      "execution_count": null,
      "outputs": [],
      "source": [
        "ds_filtrado['place_l2'].value_counts()"
      ],
      "metadata": {
        "pycharm": {
          "name": "#%%\n"
        },
        "id": "MAPo2z4PXmfd"
      }
    },
    {
      "cell_type": "code",
      "execution_count": null,
      "outputs": [],
      "source": [
        "ds_filtrado['property_currency'].value_counts()"
      ],
      "metadata": {
        "pycharm": {
          "name": "#%%\n"
        },
        "id": "0vMM1yHAXmfe"
      }
    },
    {
      "cell_type": "markdown",
      "metadata": {
        "id": "5oKYMKj6LQOZ",
        "pycharm": {
          "name": "#%% md\n"
        }
      },
      "source": [
        "Como son pocas observaciones y todas corresponden al barrio de Palermo, descartaremos esta columna.\n",
        "Además, como mencionamos más arriba, la columna created_on siempre es igual a la columna start_date, por lo que también la descartaremos.\n",
        "Por otro lado, como filtramos solo las propiedades de CABA eliminaremos la columna place_l2 ya que tiene un único valor. Por el mismo motivo eliminaremos la columna property_currency."
      ]
    },
    {
      "cell_type": "code",
      "execution_count": null,
      "metadata": {
        "id": "TCSZOlqELQOZ",
        "pycharm": {
          "name": "#%%\n"
        }
      },
      "outputs": [],
      "source": [
        "# Voy a dejar el id para chequear duplicados más tarde.\n",
        "ds_filtrado.drop(axis=\"columns\",\n",
        "                 columns=[\"created_on\", \"place_l2\", \"place_l4\", \"place_l5\", \"place_l6\", \"property_currency\"],\n",
        "                 inplace=True)\n",
        "print(f\"Nuestras nuevas columnas son:\\n{ds_filtrado.columns.tolist()}\")"
      ]
    },
    {
      "cell_type": "markdown",
      "metadata": {
        "id": "a7Ah9wxfLQOZ",
        "pycharm": {
          "name": "#%% md\n"
        },
        "tags": []
      },
      "source": [
        "### Analisis de faltantes por fila\n",
        "\n",
        "Ahora que nos quedamos solo con las columnas deseadas, analizaremos nuevamente los datos faltantes por fila."
      ]
    },
    {
      "cell_type": "code",
      "execution_count": null,
      "metadata": {
        "id": "c5uJdQlPLQOZ",
        "pycharm": {
          "name": "#%%\n"
        }
      },
      "outputs": [],
      "source": [
        "column_count = ds_filtrado.shape[1]\n",
        "ds_plot = ds_filtrado.T.isna().sum() * 100 / column_count\n",
        "\n",
        "sns.violinplot(ds_plot)\n",
        "plt.axvline(ds_plot.mean())"
      ]
    },
    {
      "cell_type": "markdown",
      "metadata": {
        "id": "dyOork4VLQOa",
        "pycharm": {
          "name": "#%% md\n"
        }
      },
      "source": [
        "Como podemos ver en el gráfico, la cantidad de datos faltantes bajó muchísimo al eliminar las columnas. Tenemos algunos registros con 5 o 10% de datos faltantes, veremos que falta"
      ]
    },
    {
      "cell_type": "code",
      "execution_count": null,
      "metadata": {
        "id": "Q7ld4w0nLQOa",
        "pycharm": {
          "name": "#%%\n"
        }
      },
      "outputs": [],
      "source": [
        "row_missing_data = ds_filtrado.T.isna().sum() * 100 / column_count\n",
        "row_missing_data.value_counts()"
      ]
    },
    {
      "cell_type": "code",
      "execution_count": null,
      "metadata": {
        "id": "5kruhx1uLQOa",
        "pycharm": {
          "name": "#%%\n"
        }
      },
      "outputs": [],
      "source": [
        "dataset_perc = row_missing_data.value_counts() * 100 / ds_filtrado.shape[0]\n",
        "print(f\"La cantidad de faltantes segun porcentaje representan\\n{dataset_perc}\")"
      ]
    },
    {
      "cell_type": "markdown",
      "metadata": {
        "id": "mFYI5IysLQOb",
        "pycharm": {
          "name": "#%% md\n"
        }
      },
      "source": [
        "Ahora que elegimos las columnas deseadas, veremos nuevamente los porcentajes por columna para preparar algunas imputaciones"
      ]
    },
    {
      "cell_type": "code",
      "execution_count": null,
      "metadata": {
        "id": "9Ylwt6FaLQOb",
        "pycharm": {
          "name": "#%%\n"
        }
      },
      "outputs": [],
      "source": [
        "def plot_missing_by_column(dataset):\n",
        "    percent_missing = dataset.isna().sum() * 100 / len(dataset)\n",
        "    plt.figure(figsize=(12, 6))\n",
        "    percent_missing.plot.bar(x='index', rot=45)\n",
        "    plt.xlabel(\"Columns\")\n",
        "    plt.ylabel(\"Percentage Missing\")\n",
        "    rows = dataset.shape[0]\n",
        "    print(dataset.isna().sum() / rows * 100)"
      ]
    },
    {
      "cell_type": "code",
      "execution_count": null,
      "metadata": {
        "id": "xUaMfaHoLQOb",
        "pycharm": {
          "name": "#%%\n"
        }
      },
      "outputs": [],
      "source": [
        "plot_missing_by_column(ds_filtrado)"
      ]
    },
    {
      "cell_type": "markdown",
      "metadata": {
        "id": "L8VG6ey2LQOd",
        "pycharm": {
          "name": "#%% md\n"
        }
      },
      "source": [
        "Para los que tienen el dato del barrio podríamos tomar como latitud/longitud el centro geográfico del barrio"
      ]
    },
    {
      "cell_type": "markdown",
      "metadata": {
        "id": "beuLIPxMpRxQ",
        "jp-MarkdownHeadingCollapsed": true,
        "tags": [],
        "pycharm": {
          "name": "#%% md\n"
        }
      },
      "source": [
        "## Reparacion de datos faltantes"
      ]
    },
    {
      "cell_type": "markdown",
      "source": [
        "Ahora analizaremos columna a columna como podemos reparar esos datos."
      ],
      "metadata": {
        "collapsed": false,
        "pycharm": {
          "name": "#%% md\n"
        },
        "id": "1zn-Sh4fXmfg"
      }
    },
    {
      "cell_type": "markdown",
      "source": [
        "#### Latitud y Longitud"
      ],
      "metadata": {
        "collapsed": false,
        "pycharm": {
          "name": "#%% md\n"
        },
        "id": "Y7_mAh-nXmfg"
      }
    },
    {
      "cell_type": "code",
      "execution_count": null,
      "outputs": [],
      "source": [
        "len(ds_filtrado[ds_filtrado.latitud.isna()]), ds_filtrado[\n",
        "    ds_filtrado.latitud.isna()].longitud.isna().sum()"
      ],
      "metadata": {
        "pycharm": {
          "name": "#%%\n"
        },
        "id": "jg38V2UpXmfg"
      }
    },
    {
      "cell_type": "markdown",
      "source": [
        "Como vemos, en esos 3730 los registros faltan ambos datos, veremos que datos sí están presentes en esos registros"
      ],
      "metadata": {
        "collapsed": false,
        "pycharm": {
          "name": "#%% md\n"
        },
        "id": "wrf6Qak9Xmfg"
      }
    },
    {
      "cell_type": "code",
      "execution_count": null,
      "outputs": [],
      "source": [
        "plot_missing_by_column(ds_filtrado[ds_filtrado.latitud.isna()])"
      ],
      "metadata": {
        "pycharm": {
          "name": "#%%\n"
        },
        "id": "h2nGaCRcXmfh"
      }
    },
    {
      "cell_type": "code",
      "execution_count": null,
      "outputs": [],
      "source": [
        "ds_filtrado[ds_filtrado.latitud.isna()]['place_l3'].value_counts()"
      ],
      "metadata": {
        "pycharm": {
          "name": "#%%\n"
        },
        "id": "_5vgS4gvXmfh"
      }
    },
    {
      "cell_type": "code",
      "execution_count": null,
      "outputs": [],
      "source": [
        "percentage = ds_filtrado[ds_filtrado.latitud.isna()]['place_l3'].isna().sum() / len(\n",
        "    ds_filtrado[ds_filtrado.latitud.isna()]['place_l3']) * 100\n",
        "print(f\"Los datos faltantes en la columna place_l3 representan el {round(percentage, 3)}%\")"
      ],
      "metadata": {
        "pycharm": {
          "name": "#%%\n"
        },
        "id": "cZBGIpbTXmfh"
      }
    },
    {
      "cell_type": "markdown",
      "metadata": {
        "id": "XFRLYQbepRxQ",
        "jp-MarkdownHeadingCollapsed": true,
        "tags": [],
        "pycharm": {
          "name": "#%% md\n"
        }
      },
      "source": [
        "### Pre Imputacion de ambientes"
      ]
    },
    {
      "cell_type": "code",
      "execution_count": null,
      "metadata": {
        "id": "5uw9s5b7pRxR",
        "pycharm": {
          "name": "#%%\n"
        }
      },
      "outputs": [],
      "source": [
        "plot_missing_by_column(ds_filtrado[['property_rooms']])"
      ]
    },
    {
      "cell_type": "markdown",
      "metadata": {
        "id": "O16IM9sGpRxR",
        "jp-MarkdownHeadingCollapsed": true,
        "tags": [],
        "pycharm": {
          "name": "#%% md\n"
        }
      },
      "source": [
        "#### Reparacion de ambientes faltantes en base al titulo de la propiedad"
      ]
    },
    {
      "cell_type": "code",
      "execution_count": null,
      "metadata": {
        "id": "pLaQDgDKpRxR",
        "pycharm": {
          "name": "#%%\n"
        }
      },
      "outputs": [],
      "source": [
        "datos_a_reparar = ds_filtrado[['property_title', 'property_rooms']].reset_index()\n",
        "ambientes_faltantes = datos_a_reparar[datos_a_reparar['property_rooms'].isna()]\n",
        "\n",
        "print(f\"cantidad inicial de ambientes a reparar: {len(ds_filtrado[ds_filtrado['property_rooms'].isna()])}\")\n",
        "\n",
        "regex = re.compile(r\"(\\d+ \\bambientes?\\b)\")\n",
        "regex2 = re.compile(r\"(\\d+\\ \\b\\bamb\\b *)\")\n",
        "\n",
        "a = {}\n",
        "for titulo in ambientes_faltantes.property_title:\n",
        "    if (len(re.findall(regex, titulo.lower())) > 0):\n",
        "        a[titulo] = re.findall(regex, titulo.lower())\n",
        "    if (len(re.findall(regex2, titulo.lower())) > 0):\n",
        "        a[titulo] = re.findall(regex2, titulo.lower())\n",
        "\n",
        "for i in ds_filtrado.index:\n",
        "    if ds_filtrado.loc[i, 'property_title'] in a:\n",
        "        if len(a[ds_filtrado.loc[i, 'property_title']]) > 0:\n",
        "            ds_filtrado.loc[i, 'property_rooms'] = float(\"\".join(a[ds_filtrado.loc[i, 'property_title']]).split(\" \")[0])\n",
        "        if (\"monoambiente\" or \"un ambiente\" or \"mono\" or \"mono ambiente\") in str(\n",
        "                ds_filtrado.loc[i, 'property_title']).lower():\n",
        "            ds_filtrado.loc[i, 'property_rooms'] = float(1)\n",
        "        if \"dos ambientes\" in str(ds_filtrado.loc[i, 'property_title']).lower():\n",
        "            ds_filtrado.loc[i, 'property_rooms'] = float(2)\n",
        "        if \"tres ambientes\" in str(ds_filtrado.loc[i, 'property_title']).lower():\n",
        "            ds_filtrado.loc[i, 'property_rooms'] = float(3)\n",
        "        if \"cuatro ambientes\" in str(ds_filtrado.loc[i, 'property_title']).lower():\n",
        "            ds_filtrado.loc[i, 'property_rooms'] = float(4)\n",
        "        if \"cinco ambientes\" in str(ds_filtrado.loc[i, 'property_title']).lower():\n",
        "            ds_filtrado.loc[i, 'property_rooms'] = float(5)\n",
        "        if \"seis ambientes\" in str(ds_filtrado.loc[i, 'property_title']).lower():\n",
        "            ds_filtrado.loc[i, 'property_rooms'] = float(6)\n",
        "\n",
        "print(f\"cantidad de ambientes faltantes post reparacion: {len(ds_filtrado[ds_filtrado['property_rooms'].isna()])}\")"
      ]
    },
    {
      "cell_type": "markdown",
      "metadata": {
        "id": "v_uSlLCapRxR",
        "jp-MarkdownHeadingCollapsed": true,
        "tags": [],
        "pycharm": {
          "name": "#%% md\n"
        }
      },
      "source": [
        "### Post Imputacion de ambientes"
      ]
    },
    {
      "cell_type": "code",
      "execution_count": null,
      "metadata": {
        "id": "E2hq3gqTpRxS",
        "pycharm": {
          "name": "#%%\n"
        }
      },
      "outputs": [],
      "source": [
        "plot_missing_by_column(ds_filtrado[['property_rooms']])"
      ]
    },
    {
      "cell_type": "markdown",
      "source": [],
      "metadata": {
        "collapsed": false,
        "pycharm": {
          "name": "#%% md\n"
        },
        "id": "R9DjzIWbXmfi"
      }
    },
    {
      "cell_type": "markdown",
      "source": [
        "Como las que quedan sin datos son pocas observaciones, las eliminaremos"
      ],
      "metadata": {
        "collapsed": false,
        "pycharm": {
          "name": "#%% md\n"
        },
        "id": "LXx-RSLAXmfi"
      }
    },
    {
      "cell_type": "code",
      "execution_count": null,
      "outputs": [],
      "source": [
        "ds_filtrado.dropna(axis='index', subset=['property_rooms'], inplace=True)\n",
        "ds_filtrado[ds_filtrado.property_rooms.isna()]"
      ],
      "metadata": {
        "pycharm": {
          "name": "#%%\n"
        },
        "id": "xKcJHghZXmfi"
      }
    },
    {
      "cell_type": "code",
      "execution_count": null,
      "outputs": [],
      "source": [
        "plot_missing_by_column(ds_filtrado[['property_rooms']])"
      ],
      "metadata": {
        "pycharm": {
          "name": "#%%\n"
        },
        "id": "46Clavc9Xmfi"
      }
    },
    {
      "cell_type": "markdown",
      "metadata": {
        "id": "hER0KXXapRxS",
        "jp-MarkdownHeadingCollapsed": true,
        "tags": [],
        "pycharm": {
          "name": "#%% md\n"
        }
      },
      "source": [
        "### Pre Imputacion de Habitaciones"
      ]
    },
    {
      "cell_type": "code",
      "execution_count": null,
      "metadata": {
        "id": "8rUObWR3pRxS",
        "pycharm": {
          "name": "#%%\n"
        }
      },
      "outputs": [],
      "source": [
        "plot_missing_by_column(ds_filtrado[['property_bedrooms']])"
      ]
    },
    {
      "cell_type": "markdown",
      "metadata": {
        "tags": [],
        "pycharm": {
          "name": "#%% md\n"
        },
        "id": "4ABXSHcHXmfj"
      },
      "source": [
        "#### Reparacion de habitaciones faltantes en base a los ambientes"
      ]
    },
    {
      "cell_type": "code",
      "execution_count": null,
      "metadata": {
        "id": "W_jdwgfDpRxS",
        "pycharm": {
          "name": "#%%\n"
        }
      },
      "outputs": [],
      "source": [
        "print(f\"El total de habitaciones es: {len(ds_filtrado.property_bedrooms)}\")\n",
        "habitaciones_invalidas = ds_filtrado.loc[(ds_filtrado['property_bedrooms'] > ds_filtrado['property_rooms'])]\n",
        "print(\n",
        "    f\"El total de habitaciones invalidas es: {len(habitaciones_invalidas)}. Constituye al {(len(habitaciones_invalidas) * 100) // len(ds_filtrado.property_bedrooms)}% de los datos del ds\")\n",
        "habitaciones_invalidas"
      ]
    },
    {
      "cell_type": "markdown",
      "metadata": {
        "id": "lO_vNo3EpRxS",
        "pycharm": {
          "name": "#%% md\n"
        }
      },
      "source": [
        "Si tomamos en cuenta que el 2% de los valores tienen mas habitaciones que ambientes, podriamos pensar en imputar los datos faltantes elimanando estas filas y haciendo que los valores que sean NAN, ahora sean habitaciones = ambientes-1"
      ]
    },
    {
      "cell_type": "code",
      "execution_count": null,
      "metadata": {
        "id": "f4NURG5vpRxT",
        "pycharm": {
          "name": "#%%\n"
        }
      },
      "outputs": [],
      "source": [
        "habitaciones_con_amb_menos_1 = ds_filtrado[ds_filtrado.property_rooms == (ds_filtrado.property_bedrooms + 1)]\n",
        "print(\n",
        "    f\"Las habitaciones que son Ambientes - 1 son: {len(habitaciones_con_amb_menos_1)}. Constituyen al {(len(habitaciones_con_amb_menos_1) * 100) // len(ds_filtrado.property_bedrooms)}% de los datos\")\n",
        "habitaciones_con_amb_menos_1"
      ]
    },
    {
      "cell_type": "markdown",
      "metadata": {
        "id": "YPxW2ANwpRxT",
        "pycharm": {
          "name": "#%% md\n"
        }
      },
      "source": [
        "Como notamos que las habitaciones que son ambientes - 1 en el dataset son: 4255 y constituyen al 4% de los datos, optamos por hacer una regresion lineal para que se pueda predecir el valor de las habitaciones en base a los ambientes que tenemos, ya que el 4% no es un valor representativo"
      ]
    },
    {
      "cell_type": "code",
      "execution_count": null,
      "metadata": {
        "id": "exgkW8mrpRxT",
        "pycharm": {
          "name": "#%%\n"
        }
      },
      "outputs": [],
      "source": [
        "print(f\"Valor inicial de habitaciones faltantes en el ds: {ds_filtrado.property_bedrooms.isna().sum()}\")"
      ]
    },
    {
      "cell_type": "code",
      "execution_count": null,
      "metadata": {
        "id": "M4lKK6RIpRxT",
        "pycharm": {
          "name": "#%%\n"
        }
      },
      "outputs": [],
      "source": [
        "## Approach de Regresion para imputar los valores faltantes en las habitaciones\n",
        "\n",
        "lr = LinearRegression()\n",
        "\n",
        "ds_sin_rooms_vacios = ds_filtrado[~(ds_filtrado.property_rooms.isna())]\n",
        "\n",
        "habitaciones_completas = ds_sin_rooms_vacios[~(ds_sin_rooms_vacios.property_bedrooms.isna())]\n",
        "habitaciones_faltantes = ds_sin_rooms_vacios[ds_sin_rooms_vacios.property_bedrooms.isna()]\n",
        "train_bedrooms = habitaciones_completas.property_bedrooms.values\n",
        "train_rooms = habitaciones_completas.property_rooms.values\n",
        "\n",
        "train_bedrooms = train_bedrooms.reshape(-1, 1)\n",
        "train_rooms = train_rooms.reshape(-1, 1)\n",
        "\n",
        "lr.fit(train_rooms, train_bedrooms)\n",
        "\n",
        "test_rooms = habitaciones_faltantes.property_rooms.values.reshape(-1, 1)\n",
        "\n",
        "predicted_bedrooms = lr.predict(test_rooms)\n",
        "\n",
        "habitaciones_faltantes_copy = habitaciones_faltantes.copy()\n",
        "habitaciones_faltantes_copy['result'] = np.round(predicted_bedrooms)\n",
        "\n",
        "print(\n",
        "    f\"Proseguimos en verificar que podemos usar el metodo de regresion lineal ya que la variable que vamos a imputar esta entre un rango de 0 - 5\")\n",
        "print(\n",
        "    f\"Notemos que las habitaciones mayores a cinco son: {len(habitaciones_faltantes_copy[habitaciones_faltantes_copy.result > 5])}\")\n",
        "\n",
        "for i in ds_filtrado.index:\n",
        "    if i in habitaciones_faltantes_copy.index:\n",
        "        ds_filtrado.loc[i, 'property_bedrooms'] = habitaciones_faltantes_copy.loc[i, 'result']\n",
        "\n",
        "print(ds_filtrado.property_bedrooms.isna().sum())"
      ]
    },
    {
      "cell_type": "markdown",
      "metadata": {
        "jp-MarkdownHeadingCollapsed": true,
        "tags": [],
        "pycharm": {
          "name": "#%% md\n"
        },
        "id": "vAwP_k0xXmfk"
      },
      "source": [
        "### Post Imputacion de habitaciones"
      ]
    },
    {
      "cell_type": "code",
      "execution_count": null,
      "metadata": {
        "pycharm": {
          "name": "#%%\n"
        },
        "id": "mVoFi5SUXmfk"
      },
      "outputs": [],
      "source": [
        "plot_missing_by_column(ds_filtrado[['property_bedrooms']])"
      ]
    },
    {
      "cell_type": "markdown",
      "source": [
        "### Pre Imputación de Superficie total"
      ],
      "metadata": {
        "collapsed": false,
        "pycharm": {
          "name": "#%% md\n"
        },
        "id": "CHRdmwf4Xmfk"
      }
    },
    {
      "cell_type": "code",
      "execution_count": null,
      "outputs": [],
      "source": [
        "plot_missing_by_column(ds_filtrado[['property_surface_total']])"
      ],
      "metadata": {
        "pycharm": {
          "name": "#%%\n"
        },
        "id": "iEdzQ6IBXmfk"
      }
    },
    {
      "cell_type": "markdown",
      "source": [
        "Como a simple vista muchos registros tienen superficie cubierta, veremos en cuantos faltan ambos datos"
      ],
      "metadata": {
        "collapsed": false,
        "pycharm": {
          "name": "#%% md\n"
        },
        "id": "L6yV6z0SXmfl"
      }
    },
    {
      "cell_type": "code",
      "execution_count": null,
      "outputs": [],
      "source": [
        "ds_filtrado[ds_filtrado.property_surface_total.isna()][ds_filtrado.property_surface_covered.isna()]"
      ],
      "metadata": {
        "pycharm": {
          "name": "#%%\n"
        },
        "id": "oVJ7NoSDXmfl"
      }
    },
    {
      "cell_type": "markdown",
      "source": [
        "#### Reparación de datos faltantes en superficie cubierta"
      ],
      "metadata": {
        "collapsed": false,
        "pycharm": {
          "name": "#%% md\n"
        },
        "id": "YRdo0GQTXmfl"
      }
    },
    {
      "cell_type": "markdown",
      "source": [
        "Como todos los datos tienen la superficie cubierta, repararemos estos datos tomando ese valor como superficie total"
      ],
      "metadata": {
        "collapsed": false,
        "pycharm": {
          "name": "#%% md\n"
        },
        "id": "TSY59rmdXmfl"
      }
    },
    {
      "cell_type": "code",
      "execution_count": null,
      "outputs": [],
      "source": [
        "ds_filtrado.loc[ds_filtrado.property_surface_total.isna(), 'property_surface_total'] = ds_filtrado.loc[\n",
        "    ds_filtrado.property_surface_total.isna(), 'property_surface_covered']\n",
        "len(ds_filtrado.loc[ds_filtrado.property_surface_total.isna()])"
      ],
      "metadata": {
        "pycharm": {
          "name": "#%%\n"
        },
        "id": "2Z5QYw6YXmfl"
      }
    },
    {
      "cell_type": "markdown",
      "source": [
        "### Post Imputación de Superficie total"
      ],
      "metadata": {
        "collapsed": false,
        "pycharm": {
          "name": "#%% md\n"
        },
        "id": "OiM8gnSXXmfm"
      }
    },
    {
      "cell_type": "code",
      "execution_count": null,
      "outputs": [],
      "source": [
        "plot_missing_by_column(ds_filtrado[['property_surface_total']])"
      ],
      "metadata": {
        "pycharm": {
          "name": "#%%\n"
        },
        "id": "-siqU0jnXmfm"
      }
    },
    {
      "cell_type": "markdown",
      "source": [
        "### Pre Imputación de superficie cubierta"
      ],
      "metadata": {
        "collapsed": false,
        "pycharm": {
          "name": "#%% md\n"
        },
        "id": "acndjTzeXmfm"
      }
    },
    {
      "cell_type": "code",
      "execution_count": null,
      "outputs": [],
      "source": [
        "ds_filtrado[ds_filtrado.property_surface_covered.isna()]"
      ],
      "metadata": {
        "pycharm": {
          "name": "#%%\n"
        },
        "id": "W7Pg3c2_Xmfm"
      }
    },
    {
      "cell_type": "code",
      "execution_count": null,
      "outputs": [],
      "source": [
        "plot_missing_by_column(ds_filtrado[['property_surface_covered']])"
      ],
      "metadata": {
        "pycharm": {
          "name": "#%%\n"
        },
        "id": "31Gllz0tXmfm"
      }
    },
    {
      "cell_type": "markdown",
      "source": [
        "##### Reparación de datos faltantes en Superficie cubierta"
      ],
      "metadata": {
        "collapsed": false,
        "pycharm": {
          "name": "#%% md\n"
        },
        "id": "P1wKwpPuXmfm"
      }
    },
    {
      "cell_type": "markdown",
      "source": [
        "Como tenemos 3231 registros nulos para la superficie cubierta, imputaremos de la misma forma los registros que son Departamentos porque su superficie total suele ser muy cercana a la cubierta"
      ],
      "metadata": {
        "collapsed": false,
        "pycharm": {
          "name": "#%% md\n"
        },
        "id": "24ArznwkXmfm"
      }
    },
    {
      "cell_type": "code",
      "execution_count": null,
      "outputs": [],
      "source": [
        "ds_filtrado[ds_filtrado.property_surface_covered.isna()].property_type.value_counts()"
      ],
      "metadata": {
        "pycharm": {
          "name": "#%%\n"
        },
        "id": "5b8gp_pGXmfn"
      }
    },
    {
      "cell_type": "code",
      "execution_count": null,
      "outputs": [],
      "source": [
        "ds_filtrado.loc[(ds_filtrado.property_surface_covered.isna()) & (\n",
        "        ds_filtrado.property_type == 'Departamento'), 'property_surface_covered'] = ds_filtrado.loc[\n",
        "    (ds_filtrado.property_surface_covered.isna()) & (\n",
        "            ds_filtrado.property_type == 'Departamento'), 'property_surface_total']\n",
        "\n",
        "len(ds_filtrado.loc[(ds_filtrado.property_surface_covered.isna()) & (ds_filtrado.property_type == 'Departamento')])"
      ],
      "metadata": {
        "pycharm": {
          "name": "#%%\n"
        },
        "id": "r6LMzP31Xmfn"
      }
    },
    {
      "cell_type": "markdown",
      "source": [
        "Los 310 registros restantes los eliminaremos porque representan un porcentaje muy bajo y repararlos de esta forma puede ser impreciso."
      ],
      "metadata": {
        "collapsed": false,
        "pycharm": {
          "name": "#%% md\n"
        },
        "id": "vt88_kpOXmfn"
      }
    },
    {
      "cell_type": "code",
      "execution_count": null,
      "outputs": [],
      "source": [
        "ds_filtrado.dropna(axis='index', subset=['property_surface_covered'], inplace=True)\n",
        "ds_filtrado[ds_filtrado.property_surface_covered.isna()]"
      ],
      "metadata": {
        "pycharm": {
          "name": "#%%\n"
        },
        "id": "oH09UtUjXmfn"
      }
    },
    {
      "cell_type": "markdown",
      "source": [
        "Volvemos a evaluar el porcentaje de datos faltantes"
      ],
      "metadata": {
        "collapsed": false,
        "pycharm": {
          "name": "#%% md\n"
        },
        "id": "1lYzeCcVXmfn"
      }
    },
    {
      "cell_type": "code",
      "execution_count": null,
      "outputs": [],
      "source": [
        "percent_missing = ds_filtrado.isna().sum() * 100 / len(ds_filtrado)\n",
        "plt.figure(figsize=(12, 6))\n",
        "percent_missing.plot.bar(x='index', rot=45)\n",
        "plt.xlabel(\"Columns\")\n",
        "plt.ylabel(\"Percentage Missing\")\n",
        "rows = ds_filtrado.shape[0]\n",
        "print(ds_filtrado.isna().sum() / rows * 100)"
      ],
      "metadata": {
        "pycharm": {
          "name": "#%%\n"
        },
        "id": "g539J1i0Xmfo"
      }
    },
    {
      "cell_type": "markdown",
      "source": [
        "### Pre imputación de latitud y longitud"
      ],
      "metadata": {
        "collapsed": false,
        "pycharm": {
          "name": "#%% md\n"
        },
        "id": "mojpKce7Xmfo"
      }
    },
    {
      "cell_type": "code",
      "execution_count": null,
      "outputs": [],
      "source": [
        "len(ds_filtrado[(ds_filtrado.latitud.isna())])"
      ],
      "metadata": {
        "pycharm": {
          "name": "#%%\n"
        },
        "id": "l82Y7p49Xmfo"
      }
    },
    {
      "cell_type": "code",
      "execution_count": null,
      "outputs": [],
      "source": [
        "ds_filtrado[(ds_filtrado.latitud.isna()) & (ds_filtrado.longitud.isna())]"
      ],
      "metadata": {
        "pycharm": {
          "name": "#%%\n"
        },
        "id": "OEPgk13TXmfo"
      }
    },
    {
      "cell_type": "markdown",
      "source": [
        "Podemos ver que faltan ambos datos en todos los casos. Para repararlos tomaremos el centro geográfico del barrio en el que encuentran usando el dataset de barrios."
      ],
      "metadata": {
        "collapsed": false,
        "pycharm": {
          "name": "#%% md\n"
        },
        "id": "JBRGtfs9Xmfo"
      }
    },
    {
      "cell_type": "code",
      "execution_count": null,
      "outputs": [],
      "source": [
        "## TODO: Reparar lat/long"
      ],
      "metadata": {
        "pycharm": {
          "name": "#%%\n"
        },
        "id": "9Zh0dcD6Xmfo"
      }
    },
    {
      "cell_type": "markdown",
      "source": [],
      "metadata": {
        "collapsed": false,
        "pycharm": {
          "name": "#%% md\n"
        },
        "id": "CyHmvbiNXmfp"
      }
    },
    {
      "cell_type": "code",
      "execution_count": null,
      "outputs": [],
      "source": [
        "ds_filtrado[(ds_filtrado.latitud.isna()) & (ds_filtrado.longitud.isna()) & (ds_filtrado.place_l3.isna())]"
      ],
      "metadata": {
        "pycharm": {
          "name": "#%%\n"
        },
        "id": "8oPrmoFaXmfp"
      }
    },
    {
      "cell_type": "code",
      "execution_count": null,
      "outputs": [],
      "source": [
        "ds_filtrado[(ds_filtrado.latitud.isna()) & (ds_filtrado.longitud.isna()) & (ds_filtrado.place_l3.isna())].index\n"
      ],
      "metadata": {
        "pycharm": {
          "name": "#%%\n"
        },
        "id": "sAe6N9yiXmfp"
      }
    },
    {
      "cell_type": "markdown",
      "source": [
        "Tenemos 142 casos irreparables, los eliminaremos"
      ],
      "metadata": {
        "collapsed": false,
        "pycharm": {
          "name": "#%% md\n"
        },
        "id": "azn5W6ueXmfp"
      }
    },
    {
      "cell_type": "markdown",
      "metadata": {
        "id": "4oxzuTe_Yghi",
        "jp-MarkdownHeadingCollapsed": true,
        "pycharm": {
          "name": "#%% md\n"
        },
        "tags": []
      },
      "source": [
        "## Grafico de los barrios de CABA"
      ]
    },
    {
      "cell_type": "code",
      "execution_count": null,
      "metadata": {
        "id": "QLx0sBMQX6ZW",
        "pycharm": {
          "name": "#%%\n"
        }
      },
      "outputs": [],
      "source": [
        "# Proceso el archivo de los barrios de CABA\n",
        "barrios = gpd.read_file('./barrios.geojson')\n",
        "barrios.head()"
      ]
    },
    {
      "cell_type": "code",
      "execution_count": null,
      "metadata": {
        "id": "_Z_WD5YiX6ZW",
        "pycharm": {
          "name": "#%%\n"
        }
      },
      "outputs": [],
      "source": [
        "# Realizo el grafico de los barrios de CABA\n",
        "fig, ax = plt.subplots(figsize=(8, 10))\n",
        "barrios.plot(column='BARRIO', categorical=True, legend=True, ax=ax, cmap='tab20b')\n",
        "\n",
        "leg = ax.get_legend()\n",
        "leg.set_bbox_to_anchor((1.4, 1.2))\n",
        "\n",
        "ax.set(title='Barrios CABA')\n",
        "plt.show()"
      ]
    },
    {
      "cell_type": "markdown",
      "metadata": {
        "id": "GDii828cAxuk",
        "pycharm": {
          "name": "#%% md\n"
        }
      },
      "source": [
        "## Analisis de Valores Atipicos"
      ]
    },
    {
      "cell_type": "markdown",
      "metadata": {
        "id": "nQ5ndyGcAxuk",
        "tags": [],
        "pycharm": {
          "name": "#%% md\n"
        }
      },
      "source": [
        "### Univariados"
      ]
    },
    {
      "cell_type": "markdown",
      "metadata": {
        "id": "mSQXzuOLAxuk",
        "tags": [],
        "pycharm": {
          "name": "#%% md\n"
        }
      },
      "source": [
        "#### Metodo IQR"
      ]
    },
    {
      "cell_type": "code",
      "execution_count": null,
      "metadata": {
        "id": "iynUjIucAxuk",
        "pycharm": {
          "name": "#%%\n"
        }
      },
      "outputs": [],
      "source": [
        "def calculate_univariate_iqr(column, dataset):\n",
        "    print(f\"cantidad de datos del ds: {len(dataset)}\")\n",
        "\n",
        "    # 1er cuartil para property_rooms\n",
        "    q1 = column.quantile(0.25)\n",
        "\n",
        "    # 3er cuartil para property_rooms\n",
        "    q3 = column.quantile(0.75)\n",
        "    med = column.median()\n",
        "\n",
        "    # region IQR\n",
        "    iqr = q3 - q1\n",
        "\n",
        "    # Bigotes altos y bajos\n",
        "    limite_superior = q3 + (1.5 * iqr)\n",
        "    limite_inferior = q1 - (1.5 * iqr)\n",
        "\n",
        "    outliers = dataset[(column <= limite_inferior) | (column >= limite_superior)]\n",
        "    print(f\"outliers encontrados para los {column.name}: {len(outliers)}\")\n",
        "    print(f\"hay {len(outliers) * 100 // len(dataset)}% de outliers de {column.name} sobre el ds\")\n",
        "    print(f\"limit sup: {limite_superior}, limite inf: {limite_inferior}\")\n",
        "\n",
        "    outliers_grafico = dataset[(column >= limite_inferior) & (column <= limite_superior)][column.name]\n",
        "\n",
        "    plt.figure(figsize=(5, 5))\n",
        "    plt.boxplot(outliers_grafico)\n",
        "    plt.show()\n"
      ]
    },
    {
      "cell_type": "code",
      "execution_count": null,
      "outputs": [],
      "source": [
        "def boxplot_outliers_edges(series, moderated_outliers=True):\n",
        "    q1 = series.quantile(0.25)\n",
        "    q3 = series.quantile(0.75)\n",
        "    iqr = q3 - q1\n",
        "\n",
        "    if moderated_outliers:\n",
        "        value = 1.5\n",
        "    else:\n",
        "        value = 3\n",
        "\n",
        "    max = q3 + (value * iqr)\n",
        "    min = q1 - (value * iqr)\n",
        "\n",
        "    return min, max"
      ],
      "metadata": {
        "pycharm": {
          "name": "#%%\n"
        },
        "id": "aWlkWidcXmfq"
      }
    },
    {
      "cell_type": "code",
      "execution_count": null,
      "outputs": [],
      "source": [
        "def boxplot_with_outliers(dataset, column_name):\n",
        "    column = dataset[column_name]\n",
        "    moderated_min, moderated_max = boxplot_outliers_edges(column)\n",
        "    severe_min, severe_max = boxplot_outliers_edges(column, moderated_outliers=False)\n",
        "\n",
        "    print(f\"Moderated outliers limits [min: {moderated_min},max: {moderated_max}]\")\n",
        "    print(f\"Severe outliers limits [min: {severe_min},max: {severe_max}]\")\n",
        "\n",
        "    plt.figure(figsize=(5, 10))\n",
        "    column.plot.box()\n",
        "\n",
        "    plt.axhline(moderated_min, label=\"Moderated\")\n",
        "    plt.axhline(moderated_max)\n",
        "    plt.axhline(severe_min, color=\"r\", label=\"Severe\")\n",
        "    plt.axhline(severe_max, color=\"r\")\n",
        "    #plt.legend(bbox_to_anchor =(0.75, 1.15), ncol = 2)\n",
        "    plt.legend(title=\"Limites\")"
      ],
      "metadata": {
        "pycharm": {
          "name": "#%%\n"
        },
        "id": "RVuoFQZ1Xmfq"
      }
    },
    {
      "cell_type": "markdown",
      "source": [
        "##### Ambientes"
      ],
      "metadata": {
        "collapsed": false,
        "pycharm": {
          "name": "#%% md\n"
        },
        "id": "8uVtEXwkXmfr"
      }
    },
    {
      "cell_type": "code",
      "execution_count": null,
      "outputs": [],
      "source": [
        "calculate_univariate_iqr(ds_filtrado.property_rooms, ds_filtrado)"
      ],
      "metadata": {
        "pycharm": {
          "name": "#%%\n"
        },
        "id": "Ba1FJIo0Xmfr"
      }
    },
    {
      "cell_type": "markdown",
      "source": [
        "Tomaremos 7 como límite superior y 0 como límite inferior ya que no tiene sentido que haya cantidad de habitaciones negativas."
      ],
      "metadata": {
        "collapsed": false,
        "pycharm": {
          "name": "#%% md\n"
        },
        "id": "8UtY2feqXmfr"
      }
    },
    {
      "cell_type": "code",
      "execution_count": null,
      "outputs": [],
      "source": [
        "outlier_inf_rooms_iqr = ds_filtrado[ds_filtrado['property_rooms'] < 0]\n",
        "outlier_sup_rooms_iqr = ds_filtrado[ds_filtrado['property_rooms'] > 7]\n",
        "print(\n",
        "    f\"Los outliers inf de rooms son: {len(ds_filtrado[ds_filtrado['property_rooms'] < 0])}. Constituyen al {(len(ds_filtrado[ds_filtrado['property_rooms'] < 0]) * 100) // len(ds_filtrado.property_rooms)}% de los datos\")\n",
        "print(\n",
        "    f\"Los outliers sup de rooms son: {len(ds_filtrado[ds_filtrado['property_rooms'] > 7])}. Constituyen al {(len(ds_filtrado[ds_filtrado['property_rooms'] > 7]) * 100) // len(ds_filtrado.property_rooms)}% de los datos\")"
      ],
      "metadata": {
        "pycharm": {
          "name": "#%%\n"
        },
        "id": "8fpFcgKFXmfr"
      }
    },
    {
      "cell_type": "code",
      "execution_count": null,
      "metadata": {
        "pycharm": {
          "name": "#%%\n"
        },
        "id": "yPBAFNLZXmfr"
      },
      "outputs": [],
      "source": [
        "sns.boxplot(y=ds_filtrado.property_rooms)\n",
        "plt.show()"
      ]
    },
    {
      "cell_type": "markdown",
      "source": [
        "Vemos ahora que todos los datos están dentro del rango intercuartil permitido"
      ],
      "metadata": {
        "collapsed": false,
        "pycharm": {
          "name": "#%% md\n"
        },
        "id": "iC7cDYizXmfr"
      }
    },
    {
      "cell_type": "markdown",
      "source": [
        "##### Habitaciones"
      ],
      "metadata": {
        "collapsed": false,
        "pycharm": {
          "name": "#%% md\n"
        },
        "id": "vIAvGFXJXmfr"
      }
    },
    {
      "cell_type": "code",
      "execution_count": null,
      "outputs": [],
      "source": [
        "boxplot_with_outliers(ds_filtrado, 'property_bedrooms')"
      ],
      "metadata": {
        "pycharm": {
          "name": "#%%\n"
        },
        "id": "ZYw1RV2AXmfs"
      }
    },
    {
      "cell_type": "code",
      "execution_count": null,
      "outputs": [],
      "source": [
        "calculate_univariate_iqr(ds_filtrado.property_bedrooms, ds_filtrado)"
      ],
      "metadata": {
        "pycharm": {
          "name": "#%%\n"
        },
        "id": "W1tve6l8Xmfs"
      }
    },
    {
      "cell_type": "code",
      "execution_count": null,
      "metadata": {
        "id": "Obrh4Pr1Axul",
        "pycharm": {
          "name": "#%%\n"
        }
      },
      "outputs": [],
      "source": [
        "outlier_inf_bedrooms_iqr = ds_filtrado[ds_filtrado['property_bedrooms'] < 0]\n",
        "outlier_sup_bedrooms_iqr = ds_filtrado[ds_filtrado['property_bedrooms'] > 6]\n",
        "print(\n",
        "    f\"Los outliers inf de bedrooms son: {len(ds_filtrado[ds_filtrado['property_bedrooms'] < 0])}. Constituyen al {(len(ds_filtrado[ds_filtrado['property_bedrooms'] < 0]) * 100) // len(ds_filtrado.property_bedrooms)}% de los datos\")\n",
        "print(\n",
        "    f\"Los outliers sup de bedrooms son: {len(ds_filtrado[ds_filtrado['property_bedrooms'] > 6])}. Constituyen al {(len(ds_filtrado[ds_filtrado['property_bedrooms'] > 195]) * 100) // len(ds_filtrado.property_bedrooms)}% de los datos\")"
      ]
    },
    {
      "cell_type": "code",
      "execution_count": null,
      "metadata": {
        "pycharm": {
          "name": "#%%\n"
        },
        "id": "VBNcIQ-SXmfs"
      },
      "outputs": [],
      "source": [
        "sns.boxplot(y=ds_filtrado.property_bedrooms)\n",
        "plt.show()"
      ]
    },
    {
      "cell_type": "markdown",
      "metadata": {
        "tags": [],
        "pycharm": {
          "name": "#%% md\n"
        },
        "id": "qUlzc8_BXmfs"
      },
      "source": [
        "Eliminaremos una observacion en particular que fue detectada como outlier ya que dice tener -1 habitaciones. Este valor no tiene ningun sentido logico en nuestro domino de problema"
      ]
    },
    {
      "cell_type": "code",
      "execution_count": null,
      "metadata": {
        "pycharm": {
          "name": "#%%\n"
        },
        "id": "S260Du0ZXmft"
      },
      "outputs": [],
      "source": [
        "print(f\"fila a eliminar: {ds_filtrado[ds_filtrado['property_bedrooms'] < 0]}\")\n",
        "indice_outlier = outlier_inf_bedrooms_iqr.index\n",
        "ds_filtrado.drop(indice_outlier, inplace=True)\n",
        "print(f\"Se han eliminado: {len(indice_outlier)} registros\")"
      ]
    },
    {
      "cell_type": "code",
      "execution_count": null,
      "metadata": {
        "pycharm": {
          "name": "#%%\n"
        },
        "id": "iYprabmTXmft"
      },
      "outputs": [],
      "source": [
        "sns.boxplot(y=ds_filtrado.property_bedrooms)\n",
        "plt.show()"
      ]
    },
    {
      "cell_type": "markdown",
      "source": [
        "##### Superficie Total"
      ],
      "metadata": {
        "collapsed": false,
        "pycharm": {
          "name": "#%% md\n"
        },
        "id": "KVTlN3z9Xmft"
      }
    },
    {
      "cell_type": "code",
      "execution_count": null,
      "metadata": {
        "id": "Pk-kEYr-Axul",
        "pycharm": {
          "name": "#%%\n"
        }
      },
      "outputs": [],
      "source": [
        "calculate_univariate_iqr(ds_filtrado.property_surface_total, ds_filtrado)"
      ]
    },
    {
      "cell_type": "markdown",
      "source": [
        "Elegimos tomar como outlier a viviendas que tengan una superifice menor a 18 ya que, en base a los documentos que leimos, este es el minimo necesario para que una persona viva en una vivienda. 18 m2 minimo. Observar los links adjuntos:\n",
        "\n",
        "https://observatoriociudad.org/microdepartamentos-y-codigo-de-edificacion/\n",
        "\n",
        "http://ssplan.buenosaires.gob.ar/webfiles/100_preguntas/ce_art_3_8_1_1_1_areas_y_lados_minimos_de_locales_de_vivienda_individual_y_colectiva.pdf"
      ],
      "metadata": {
        "collapsed": false,
        "pycharm": {
          "name": "#%% md\n"
        },
        "id": "e9ZDOl2eXmft"
      }
    },
    {
      "cell_type": "markdown",
      "source": [
        "Eliminaremos las viviendas que tienen menos de 18 m2 de superficie"
      ],
      "metadata": {
        "collapsed": false,
        "pycharm": {
          "name": "#%% md\n"
        },
        "id": "KAg0KFJGXmft"
      }
    },
    {
      "cell_type": "code",
      "execution_count": null,
      "outputs": [],
      "source": [
        "indices = ds_filtrado[ds_filtrado.property_surface_total < 18]\n",
        "#ds_filtrado.drop(indices, inplace=True)"
      ],
      "metadata": {
        "pycharm": {
          "name": "#%%\n"
        },
        "id": "KSd-Yf5hXmfu"
      }
    },
    {
      "cell_type": "code",
      "execution_count": null,
      "outputs": [],
      "source": [
        "inf, sup = boxplot_outliers_edges(ds_filtrado.property_surface_total, False)\n",
        "print(f\"Nuestro rango intercuartil está comprendido entre: {inf}, {sup}\")"
      ],
      "metadata": {
        "pycharm": {
          "name": "#%%\n"
        },
        "id": "S6y11iW9Xmfu"
      }
    },
    {
      "cell_type": "code",
      "execution_count": null,
      "outputs": [],
      "source": [
        "outlier_inf_total_iqr = ds_filtrado[ds_filtrado['property_surface_total'] < 18]\n",
        "outlier_sup_total_iqr = ds_filtrado[ds_filtrado['property_surface_total'] > 272]\n",
        "print(\n",
        "    f\"Los outliers inf de sup total son: {len(ds_filtrado[ds_filtrado['property_surface_total'] < 18])}. Constituyen al {(len(ds_filtrado[ds_filtrado['property_surface_total'] < 18]) * 100) // len(ds_filtrado.property_surface_total)}% de los datos\")\n",
        "print(\n",
        "    f\"Los outliers sup de sup total son: {len(ds_filtrado[ds_filtrado['property_surface_total'] > 277])}. Constituyen al {(len(ds_filtrado[ds_filtrado['property_surface_total'] > 277]) * 100) // len(ds_filtrado.property_surface_total)}% de los datos\")"
      ],
      "metadata": {
        "pycharm": {
          "name": "#%%\n"
        },
        "id": "pZFWP4KUXmfu"
      }
    },
    {
      "cell_type": "markdown",
      "metadata": {
        "pycharm": {
          "name": "#%% md\n"
        },
        "id": "EiSZpTv4Xmfu"
      },
      "source": [
        "Visualizamos nuevamente el box-plot para entender que valores tienen las nuevas observaciones atipicas y ver si debemos seguir eliminando"
      ]
    },
    {
      "cell_type": "code",
      "execution_count": null,
      "outputs": [],
      "source": [
        "boxplot_with_outliers(ds_filtrado, ds_filtrado.property_surface_total.name)"
      ],
      "metadata": {
        "pycharm": {
          "name": "#%%\n"
        },
        "id": "uwhwdJ-aXmfu"
      }
    },
    {
      "cell_type": "markdown",
      "source": [
        "Como tenemos outliers muy altos, el boxplot no se aprecia. Tomaremos solo los outliers severos para un primer análisis"
      ],
      "metadata": {
        "collapsed": false,
        "pycharm": {
          "name": "#%% md\n"
        },
        "id": "7xS13RAUXmfu"
      }
    },
    {
      "cell_type": "code",
      "execution_count": null,
      "outputs": [],
      "source": [
        "property_price_grouped = pd.cut(outlier_sup_total_iqr.property_surface_total,\n",
        "                                bins=[0, 272, 500, 750, 1000, float(\"inf\")],\n",
        "                                labels=[\"0-272\", \"272-500\", \"500-750\", \"750-1000\", \"1000-inf\"], include_lowest=True)\n",
        "print(property_price_grouped.value_counts())\n",
        "ax = property_price_grouped.value_counts().plot.barh(alpha=0.5, color=colores,\n",
        "                                                     title=\"Distribucion de los outliers superiores de la superficie total\",\n",
        "                                                     xlabel=\"Rango de superficie\", ylabel=\"Frecuencia\")"
      ],
      "metadata": {
        "pycharm": {
          "name": "#%%\n"
        },
        "id": "6jFQ_IKBXmfu"
      }
    },
    {
      "cell_type": "code",
      "execution_count": null,
      "outputs": [],
      "source": [
        "surface_median = ds_filtrado[ds_filtrado.property_type == 'Casa'].property_surface_total.median()\n",
        "print(\n",
        "    f\"Si bien la mediana de la superficite total es {surface_median} y limite superior de outliers severos es 272, consideramos que sigue siendo un valor válido, por lo tanto, descartaremos los valores mayores a 500\")"
      ],
      "metadata": {
        "pycharm": {
          "name": "#%%\n"
        },
        "id": "DiFDk0aRXmfv"
      }
    },
    {
      "cell_type": "code",
      "execution_count": null,
      "outputs": [],
      "source": [
        "outlier_sup_total_500 = ds_filtrado[ds_filtrado['property_surface_total'] > 500]\n",
        "print(\n",
        "    f\"Los outliers superiores de sup total son: {len(ds_filtrado[ds_filtrado['property_surface_total'] > 500])}. Constituyen al {(len(ds_filtrado[ds_filtrado['property_surface_total'] > 500]) * 100) // len(ds_filtrado.property_surface_total)}% de los datos\")"
      ],
      "metadata": {
        "pycharm": {
          "name": "#%%\n"
        },
        "id": "tfxRL7gBXmfv"
      }
    },
    {
      "cell_type": "code",
      "execution_count": null,
      "outputs": [],
      "source": [
        "boxplot_with_outliers(ds_filtrado, 'property_surface_total')"
      ],
      "metadata": {
        "pycharm": {
          "name": "#%%\n"
        },
        "id": "Alc-za0rXmfv"
      }
    },
    {
      "cell_type": "markdown",
      "source": [
        "##### Superficie cubierta"
      ],
      "metadata": {
        "collapsed": false,
        "pycharm": {
          "name": "#%% md\n"
        },
        "id": "SgdYTbEKXmfv"
      }
    },
    {
      "cell_type": "code",
      "execution_count": null,
      "metadata": {
        "id": "U0p_XYm2Axul",
        "pycharm": {
          "name": "#%%\n"
        }
      },
      "outputs": [],
      "source": [
        "calculate_univariate_iqr(ds_filtrado.property_surface_covered, ds_filtrado)"
      ]
    },
    {
      "cell_type": "code",
      "execution_count": null,
      "outputs": [],
      "source": [
        "outlier_inf_covered_iqr = ds_filtrado[ds_filtrado['property_surface_covered'] < 0]\n",
        "outlier_sup_covered_iqr = ds_filtrado[ds_filtrado['property_surface_covered'] > 155]\n",
        "print(\n",
        "    f\"Los outliers inf de sup cubierta son: {len(ds_filtrado[ds_filtrado['property_surface_covered'] < 0])}. Constituyen al {(len(ds_filtrado[ds_filtrado['property_surface_covered'] < 18]) * 100) // len(ds_filtrado.property_surface_covered)}% de los datos\")\n",
        "print(\n",
        "    f\"Los outliers sup de sup cubierta son: {len(ds_filtrado[ds_filtrado['property_surface_covered'] > 155])}. Constituyen al {(len(ds_filtrado[ds_filtrado['property_surface_covered'] > 155]) * 100) // len(ds_filtrado.property_surface_covered)}% de los datos\")"
      ],
      "metadata": {
        "pycharm": {
          "name": "#%%\n"
        },
        "id": "JK4GuyKMXmfv"
      }
    },
    {
      "cell_type": "code",
      "execution_count": null,
      "outputs": [],
      "source": [
        "boxplot_with_outliers(ds_filtrado, 'property_surface_covered')"
      ],
      "metadata": {
        "pycharm": {
          "name": "#%%\n"
        },
        "id": "46ebkn--Xmfw"
      }
    },
    {
      "cell_type": "markdown",
      "source": [
        "Como hay 1 observacion demasiado anómala, repeteriremos el análisis después de borrarla"
      ],
      "metadata": {
        "collapsed": false,
        "pycharm": {
          "name": "#%% md\n"
        },
        "id": "H-reF-aRXmfw"
      }
    },
    {
      "cell_type": "code",
      "execution_count": null,
      "outputs": [],
      "source": [
        "indice_outlier = ds_filtrado[ds_filtrado.property_surface_covered > 50000].index\n",
        "ds_filtrado.drop(indice_outlier, inplace=True)\n",
        "print(f\"Se han eliminado {len(indice_outlier)} registros\")"
      ],
      "metadata": {
        "pycharm": {
          "name": "#%%\n"
        },
        "id": "mBczRLnlXmfw"
      }
    },
    {
      "cell_type": "code",
      "execution_count": null,
      "outputs": [],
      "source": [
        "boxplot_with_outliers(ds_filtrado, 'property_surface_covered')"
      ],
      "metadata": {
        "pycharm": {
          "name": "#%%\n"
        },
        "id": "MAf6l5JOXmfw"
      }
    },
    {
      "cell_type": "code",
      "execution_count": null,
      "metadata": {
        "pycharm": {
          "name": "#%%\n"
        },
        "id": "Y-z0YRmMXmfw"
      },
      "outputs": [],
      "source": [
        "surface_total_grouped = pd.cut(outlier_sup_total_iqr.property_surface_covered,\n",
        "                                bins=[0, 224, 500, 750, 1000, float(\"inf\")],\n",
        "                                labels=[\"0-224\", \"224-500\", \"500-750\", \"750-1000\", \"1000-inf\"], include_lowest=True)\n",
        "print(surface_total_grouped.value_counts())\n",
        "ax = surface_total_grouped.value_counts().plot.barh(alpha=0.5, color=colores,\n",
        "                                                     title=\"Distribucion de los outliers superiores de la superficie cubierta\",\n",
        "                                                     xlabel=\"Rango de superficie\", ylabel=\"Frecuencia\")"
      ]
    },
    {
      "cell_type": "markdown",
      "source": [
        "Inspeccionaremos los datos que se encuentran entre 224 y 500 $m^2$ de superficie cubierta"
      ],
      "metadata": {
        "collapsed": false,
        "pycharm": {
          "name": "#%% md\n"
        },
        "id": "jxRtRQA_Xmfw"
      }
    },
    {
      "cell_type": "code",
      "execution_count": null,
      "outputs": [],
      "source": [
        "ds_filtrado[(ds_filtrado.property_surface_covered < 500) & (ds_filtrado.property_surface_covered > 224)]"
      ],
      "metadata": {
        "pycharm": {
          "name": "#%%\n"
        },
        "id": "IFL1jcCeXmfx"
      }
    },
    {
      "cell_type": "markdown",
      "source": [
        "##### Latitud y longitud"
      ],
      "metadata": {
        "collapsed": false,
        "pycharm": {
          "name": "#%% md\n"
        },
        "id": "eCXxSIjdXmfx"
      }
    },
    {
      "cell_type": "code",
      "execution_count": null,
      "outputs": [],
      "source": [
        "calculate_univariate_iqr(ds_filtrado.latitud, ds_filtrado)"
      ],
      "metadata": {
        "pycharm": {
          "name": "#%%\n"
        },
        "id": "UFoUYQd8Xmfx"
      }
    },
    {
      "cell_type": "code",
      "execution_count": null,
      "outputs": [],
      "source": [
        "calculate_univariate_iqr(ds_filtrado.longitud, ds_filtrado)"
      ],
      "metadata": {
        "pycharm": {
          "name": "#%%\n"
        },
        "id": "ebQhQ61MXmfx"
      }
    },
    {
      "cell_type": "markdown",
      "source": [
        "Los datos de latitud y longitud son dificiles de analizar por medio del rango intercuartil dado que los datos representan variaciones muy pequeñas y no son faciles de imaginar sin una ubicación en el mapa. Haremos este análisis más adelante."
      ],
      "metadata": {
        "collapsed": false,
        "pycharm": {
          "name": "#%% md\n"
        },
        "id": "pDJ4ZGcsXmfx"
      }
    },
    {
      "cell_type": "code",
      "execution_count": null,
      "metadata": {
        "id": "RZDcOR_QAxul",
        "pycharm": {
          "name": "#%%\n"
        }
      },
      "outputs": [],
      "source": [
        "outlier_inf_latitud_iqr = ds_filtrado[ds_filtrado['latitud'] < -34]\n",
        "outlier_sup_latitud_iqr = ds_filtrado[ds_filtrado['latitud'] > -34]\n",
        "print(\n",
        "    f\"Los outliers inf de latitud son: {len(ds_filtrado[ds_filtrado['latitud'] < -34])}. Constituyen al {(len(quantitative_dataset[quantitative_dataset['latitud'] < -34]) * 100) // len(ds_filtrado.latitud)}% de los datos\")\n",
        "print(\n",
        "    f\"Los outliers sup de latitud son: {len(quantitative_dataset[quantitative_dataset['latitud'] > -34])}. Constituyen al {(len(quantitative_dataset[quantitative_dataset['latitud'] > -34]) * 100) // len(ds_filtrado.latitud)}% de los datos\")"
      ]
    },
    {
      "cell_type": "markdown",
      "metadata": {
        "id": "kQrpFdl2Axul",
        "tags": [],
        "pycharm": {
          "name": "#%% md\n"
        }
      },
      "source": [
        "#### Metodo Z score"
      ]
    },
    {
      "cell_type": "code",
      "execution_count": null,
      "metadata": {
        "id": "GSgeb1fIAxul",
        "pycharm": {
          "name": "#%%\n"
        }
      },
      "outputs": [],
      "source": [
        "def calculate_zscore_st(dataset, column):\n",
        "    dataset_copy = dataset.copy()\n",
        "    media = np.mean(column)\n",
        "    std = np.std(column)\n",
        "    dataset_copy[f'z_{column.name}'] = (column - media) / std\n",
        "    return dataset_copy"
      ]
    },
    {
      "cell_type": "markdown",
      "metadata": {
        "id": "qCW49N1UAxul",
        "pycharm": {
          "name": "#%% md\n"
        }
      },
      "source": [
        "Analisis de outliers con el metodo zscore para los ambientes"
      ]
    },
    {
      "cell_type": "markdown",
      "source": [
        "##### Ambientes"
      ],
      "metadata": {
        "collapsed": false,
        "pycharm": {
          "name": "#%% md\n"
        },
        "id": "sRjsZoqzXmfy"
      }
    },
    {
      "cell_type": "code",
      "execution_count": null,
      "metadata": {
        "id": "kfiOqu9yAxul",
        "pycharm": {
          "name": "#%%\n"
        }
      },
      "outputs": [],
      "source": [
        "z_rooms_ds = calculate_zscore_st(ds_filtrado, ds_filtrado.property_rooms)\n",
        "z_rooms_ds.head()"
      ]
    },
    {
      "cell_type": "markdown",
      "metadata": {
        "id": "MOsLjDi4Axul",
        "pycharm": {
          "name": "#%% md\n"
        }
      },
      "source": [
        "Verificamos si se cumple la regla de oro para el caso de la variable Rooms"
      ]
    },
    {
      "cell_type": "code",
      "execution_count": null,
      "metadata": {
        "id": "mzPFZeQfAxul",
        "pycharm": {
          "name": "#%%\n"
        }
      },
      "outputs": [],
      "source": [
        "print(\n",
        "    f\"Los outliers sup de rooms son: {len(z_rooms_ds[z_rooms_ds['z_property_rooms'] > 3])}. Constituyen al {(len(z_rooms_ds[z_rooms_ds['z_property_rooms'] > 3]) * 100) // len(ds_filtrado.property_rooms)}% de los datos\")\n",
        "print(\n",
        "    f\"Los outliers inf de rooms son: {len(z_rooms_ds[z_rooms_ds['z_property_rooms'] < -3])}. Constituyen al {(len(z_rooms_ds[z_rooms_ds['z_property_rooms'] < -3]) * 100) // len(ds_filtrado.property_rooms)}% de los datos\")"
      ]
    },
    {
      "cell_type": "code",
      "execution_count": null,
      "metadata": {
        "id": "aYDvfQA5Axul",
        "pycharm": {
          "name": "#%%\n"
        }
      },
      "outputs": [],
      "source": [
        "plt.hist(z_rooms_ds.z_property_rooms)\n",
        "plt.title('Histograma Z-Score Rooms')\n",
        "plt.xlabel('Z-Score Rooms')\n",
        "plt.show()"
      ]
    },
    {
      "cell_type": "markdown",
      "metadata": {
        "id": "KD-aGG1gAxul",
        "pycharm": {
          "name": "#%% md\n"
        }
      },
      "source": [
        "##### Habitaciones"
      ]
    },
    {
      "cell_type": "code",
      "execution_count": null,
      "metadata": {
        "id": "FDsQFnsSAxul",
        "pycharm": {
          "name": "#%%\n"
        }
      },
      "outputs": [],
      "source": [
        "z_bedrooms_ds = calculate_zscore_st(ds_filtrado, ds_filtrado.property_bedrooms)\n",
        "z_bedrooms_ds.head()"
      ]
    },
    {
      "cell_type": "code",
      "execution_count": null,
      "metadata": {
        "id": "0yRWuKJPAxum",
        "pycharm": {
          "name": "#%%\n"
        }
      },
      "outputs": [],
      "source": [
        "print(\n",
        "    f\"Los outliers sup de bedrooms son: {len(z_bedrooms_ds[z_bedrooms_ds['z_property_bedrooms'] > 3])}.Constituyen al {(len(z_bedrooms_ds[z_bedrooms_ds['z_property_bedrooms'] > 3]) * 100) // len(ds_filtrado.property_bedrooms)}% de los datos\")\n",
        "z_bedrooms_ds[z_bedrooms_ds['z_property_bedrooms'] > 3]"
      ]
    },
    {
      "cell_type": "code",
      "execution_count": null,
      "outputs": [],
      "source": [
        "print(\n",
        "    f\"Los outliers inf de bedrooms son: {len(z_bedrooms_ds[z_bedrooms_ds['z_property_bedrooms'] < -3])}.Constituyen al {(len(z_bedrooms_ds[z_bedrooms_ds['z_property_bedrooms'] < -3]) * 100) // len(ds_filtrado.property_bedrooms)}% de los datos\")\n",
        "z_bedrooms_ds[z_bedrooms_ds['z_property_bedrooms'] < -3]"
      ],
      "metadata": {
        "pycharm": {
          "name": "#%%\n"
        },
        "id": "8jtPNRsfXmfz"
      }
    },
    {
      "cell_type": "code",
      "execution_count": null,
      "metadata": {
        "id": "BqLUlCOCAxum",
        "pycharm": {
          "name": "#%%\n"
        }
      },
      "outputs": [],
      "source": [
        "plt.hist(z_bedrooms_ds.z_property_bedrooms)\n",
        "plt.title('Histograma Z-Score Bedrooms')\n",
        "plt.xlabel('Z-Score Bedrooms')\n",
        "plt.show()"
      ]
    },
    {
      "cell_type": "markdown",
      "metadata": {
        "id": "ZRJ_83qvAxum",
        "pycharm": {
          "name": "#%% md\n"
        }
      },
      "source": [
        "##### Superficie Total"
      ]
    },
    {
      "cell_type": "code",
      "execution_count": null,
      "metadata": {
        "id": "XN9weo3pAxum",
        "pycharm": {
          "name": "#%%\n"
        }
      },
      "outputs": [],
      "source": [
        "z_total_ds = calculate_zscore_st(ds_filtrado, ds_filtrado.property_surface_total)"
      ]
    },
    {
      "cell_type": "code",
      "execution_count": null,
      "metadata": {
        "id": "EuDw2RIHAxum",
        "pycharm": {
          "name": "#%%\n"
        }
      },
      "outputs": [],
      "source": [
        "print(\n",
        "    f\"Los outliers superiores de sup total son: {len(z_total_ds[z_total_ds['z_property_surface_total'] > 3])}. Constituyen al {(len(z_total_ds[z_total_ds['z_property_surface_total'] > 3]) * 100) // len(ds_filtrado.property_surface_total)}% de los datos\")\n",
        "z_total_ds[z_total_ds['z_property_surface_total'] > 3]"
      ]
    },
    {
      "cell_type": "code",
      "execution_count": null,
      "metadata": {
        "id": "lMas_Ck-Axum",
        "pycharm": {
          "name": "#%%\n"
        }
      },
      "outputs": [],
      "source": [
        "print(\n",
        "    f\"Los outliers inf de sup total son: {len(z_total_ds[z_total_ds['z_property_surface_total'] < -3])}. Constituyen al {(len(z_total_ds[z_total_ds['z_property_surface_total'] < -3]) * 100) // len(ds_filtrado.property_surface_total)}% de los datos\")\n",
        "z_total_ds[z_total_ds['z_property_surface_total'] < -3]"
      ]
    },
    {
      "cell_type": "code",
      "execution_count": null,
      "metadata": {
        "id": "vIg8mJd5Axum",
        "pycharm": {
          "name": "#%%\n"
        }
      },
      "outputs": [],
      "source": [
        "plt.hist(z_total_ds.z_property_surface_total)\n",
        "plt.title('Histograma Z-Score Surface Total')\n",
        "plt.xlabel('Z-Score Surface Total')\n",
        "plt.show()"
      ]
    },
    {
      "cell_type": "markdown",
      "metadata": {
        "id": "ZlhTxeqSAxum",
        "pycharm": {
          "name": "#%% md\n"
        }
      },
      "source": [
        "##### Superficie Cubierta"
      ]
    },
    {
      "cell_type": "code",
      "execution_count": null,
      "metadata": {
        "id": "4vFsrx1nAxum",
        "pycharm": {
          "name": "#%%\n"
        }
      },
      "outputs": [],
      "source": [
        "z_covered_ds = calculate_zscore_st(ds_filtrado, ds_filtrado.property_surface_covered)"
      ]
    },
    {
      "cell_type": "code",
      "execution_count": null,
      "metadata": {
        "id": "Oo_FuL4aAxum",
        "pycharm": {
          "name": "#%%\n"
        }
      },
      "outputs": [],
      "source": [
        "print(\n",
        "    f\"Los outliers superiores de sup cubierta son: {len(z_covered_ds[z_covered_ds['z_property_surface_covered'] > 3])}. Constituyen al {(len(z_covered_ds[z_covered_ds['z_property_surface_covered'] > 3]) * 100) // len(ds_filtrado.property_surface_covered)}% de los datos\")\n",
        "z_covered_ds[z_covered_ds['z_property_surface_covered'] > 3]"
      ]
    },
    {
      "cell_type": "code",
      "execution_count": null,
      "metadata": {
        "id": "5nNC33zvAxum",
        "pycharm": {
          "name": "#%%\n"
        }
      },
      "outputs": [],
      "source": [
        "print(\n",
        "    f\"Los outliers inferiores de sup cubierta son: {len(z_covered_ds[z_covered_ds['z_property_surface_covered'] < -3])}. Constituyen al {(len(z_covered_ds[z_covered_ds['z_property_surface_covered'] < -3]) * 100) // len(ds_filtrado.property_surface_covered)}% de los datos\")\n",
        "z_covered_ds[z_covered_ds['z_property_surface_covered'] < -3]"
      ]
    },
    {
      "cell_type": "code",
      "execution_count": null,
      "metadata": {
        "id": "fOi9gCcuAxum",
        "pycharm": {
          "name": "#%%\n"
        }
      },
      "outputs": [],
      "source": [
        "plt.hist(z_covered_ds.z_property_surface_covered)\n",
        "plt.title('Histograma Z-Score Surface Covered')\n",
        "plt.xlabel('Z-Score Surface Covered')\n",
        "plt.show()"
      ]
    },
    {
      "cell_type": "markdown",
      "metadata": {
        "id": "M2fa7Lz0Axum",
        "pycharm": {
          "name": "#%% md\n"
        }
      },
      "source": [
        "##### Latitud y Longitud"
      ]
    },
    {
      "cell_type": "code",
      "execution_count": null,
      "metadata": {
        "id": "jXULOTI2Axum",
        "pycharm": {
          "name": "#%%\n"
        }
      },
      "outputs": [],
      "source": [
        "z_latitud_ds = calculate_zscore_st(ds_filtrado, ds_filtrado.latitud)"
      ]
    },
    {
      "cell_type": "code",
      "execution_count": null,
      "metadata": {
        "id": "DA3Zj4QLAxum",
        "pycharm": {
          "name": "#%%\n"
        }
      },
      "outputs": [],
      "source": [
        "print(\n",
        "    f\"Los outliers superiores de latitud son: {len(z_latitud_ds[z_latitud_ds['z_latitud'] > 3])}. Constituyen al {(len(z_latitud_ds[z_latitud_ds['z_latitud'] > 3]) * 100) // len(ds_filtrado.latitud)}% de los datos\")\n",
        "z_latitud_ds[z_latitud_ds['z_latitud'] > 3]"
      ]
    },
    {
      "cell_type": "code",
      "execution_count": null,
      "metadata": {
        "id": "CE2sY7x1Axum",
        "pycharm": {
          "name": "#%%\n"
        }
      },
      "outputs": [],
      "source": [
        "print(\n",
        "    f\"Los outliers inferiores de latitud son: {len(z_latitud_ds[z_latitud_ds['z_latitud'] < -3])}. Constituyen al {(len(z_latitud_ds[z_latitud_ds['z_latitud'] < -3]) * 100) // len(ds_filtrado.latitud)}% de los datos\")\n",
        "z_latitud_ds[z_latitud_ds['z_latitud'] < -3]"
      ]
    },
    {
      "cell_type": "markdown",
      "source": [
        "Comprarandolo con los valores de lat/long del gráfico de CABA, podemos ver que los datos corresponden a valores que no están dentro del rango. Procederemos a eliminarlos en base al zscore."
      ],
      "metadata": {
        "collapsed": false,
        "pycharm": {
          "name": "#%% md\n"
        },
        "id": "FLHqGdn3Xmf4"
      }
    },
    {
      "cell_type": "code",
      "execution_count": null,
      "metadata": {
        "id": "EHRhyechAxum",
        "pycharm": {
          "name": "#%%\n"
        }
      },
      "outputs": [],
      "source": [
        "plt.hist(z_latitud_ds.z_latitud)\n",
        "plt.title('Histograma Z-Score Latitud')\n",
        "plt.xlabel('Z-Score Latitud')\n",
        "plt.show()"
      ]
    },
    {
      "cell_type": "code",
      "execution_count": null,
      "metadata": {
        "id": "Jh4mnkIDAxum",
        "pycharm": {
          "name": "#%%\n"
        }
      },
      "outputs": [],
      "source": [
        "z_longitud_ds = calculate_zscore_st(ds_filtrado, ds_filtrado.longitud)\n",
        "z_latitud_ds.head()"
      ]
    },
    {
      "cell_type": "code",
      "execution_count": null,
      "metadata": {
        "id": "Jbkpl5AJAxum",
        "pycharm": {
          "name": "#%%\n"
        }
      },
      "outputs": [],
      "source": [
        "print(\n",
        "    f\"Los outliers superiores de longitud son: {len(z_longitud_ds[z_longitud_ds['z_longitud'] > 3])}. Constituyen al {(len(z_longitud_ds[z_longitud_ds['z_longitud'] > 3]) * 100) // len(ds_filtrado.longitud)}% de los datos\")\n",
        "z_longitud_ds[z_longitud_ds['z_longitud'] > 3]"
      ]
    },
    {
      "cell_type": "code",
      "execution_count": null,
      "metadata": {
        "id": "Be5iQmYIAxun",
        "pycharm": {
          "name": "#%%\n"
        }
      },
      "outputs": [],
      "source": [
        "print(\n",
        "    f\"Los outliers inferiores de longitud son: {len(z_longitud_ds[z_longitud_ds['z_longitud'] < -3])}. Constituyen al {(len(z_longitud_ds[z_longitud_ds['z_longitud'] < -3]) * 100) // len(ds_filtrado.longitud)}% de los datos\")\n",
        "z_longitud_ds[z_longitud_ds['z_longitud'] < -3]"
      ]
    },
    {
      "cell_type": "code",
      "execution_count": null,
      "metadata": {
        "id": "wSgiLcLoAxun",
        "pycharm": {
          "name": "#%%\n"
        }
      },
      "outputs": [],
      "source": [
        "plt.hist(z_longitud_ds.z_longitud)\n",
        "plt.title('Histograma Z-Score Longitud')\n",
        "plt.xlabel('Z-Score Longitud')\n",
        "plt.show()"
      ]
    },
    {
      "cell_type": "markdown",
      "metadata": {
        "id": "vQ6fv-FGAxun",
        "tags": [],
        "pycharm": {
          "name": "#%% md\n"
        }
      },
      "source": [
        "#### Metodo Z Score modificado"
      ]
    },
    {
      "cell_type": "code",
      "execution_count": null,
      "metadata": {
        "id": "QZkjY5_EAxun",
        "pycharm": {
          "name": "#%%\n"
        }
      },
      "outputs": [],
      "source": [
        "def calculate_modified_zscore_st(dataset, column):\n",
        "    new_df = dataset.copy()\n",
        "    mediana = column.median()\n",
        "    MAD = np.absolute(column - mediana).median()\n",
        "\n",
        "    new_df[f'zm_{column.name}'] = (column - mediana) * 0.6745 / MAD\n",
        "    return new_df"
      ]
    },
    {
      "cell_type": "markdown",
      "metadata": {
        "id": "8nbUGK3kAxun",
        "pycharm": {
          "name": "#%% md\n"
        }
      },
      "source": [
        "##### Ambientes"
      ]
    },
    {
      "cell_type": "code",
      "execution_count": null,
      "metadata": {
        "id": "W9boOmstAxun",
        "pycharm": {
          "name": "#%%\n"
        }
      },
      "outputs": [],
      "source": [
        "zm_rooms_ds = calculate_modified_zscore_st(ds_filtrado, ds_filtrado.property_rooms)"
      ]
    },
    {
      "cell_type": "markdown",
      "metadata": {
        "id": "CjH1PiddAxun",
        "pycharm": {
          "name": "#%% md\n"
        }
      },
      "source": [
        "Verificamos si se cumple la regla de oro para la variable Rooms en el zscore modificado"
      ]
    },
    {
      "cell_type": "code",
      "execution_count": null,
      "metadata": {
        "id": "VFZ6gIUWAxun",
        "pycharm": {
          "name": "#%%\n"
        }
      },
      "outputs": [],
      "source": [
        "print(\n",
        "    f\"Los outliers superiores de rooms son: {len(zm_rooms_ds[zm_rooms_ds['zm_property_rooms'] > 3.5])}. Constituyen al {(len(zm_rooms_ds[zm_rooms_ds['zm_property_rooms'] > 3.5]) * 100) // len(ds_filtrado.property_rooms)}% de los datos\")\n",
        "zm_rooms_ds[zm_rooms_ds['zm_property_rooms'] > 3.5]"
      ]
    },
    {
      "cell_type": "code",
      "execution_count": null,
      "metadata": {
        "id": "0HVogb38Axun",
        "pycharm": {
          "name": "#%%\n"
        }
      },
      "outputs": [],
      "source": [
        "print(\n",
        "    f\"Los outliers inferiores de rooms son: {len(zm_rooms_ds[zm_rooms_ds['zm_property_rooms'] < -3.5])}. Constituyen al {(len(zm_rooms_ds[zm_rooms_ds['zm_property_rooms'] < -3.5]) * 100) // len(ds_filtrado.property_rooms)}% de los datos\")\n",
        "zm_rooms_ds[zm_rooms_ds['zm_property_rooms'] < -3.5]"
      ]
    },
    {
      "cell_type": "code",
      "execution_count": null,
      "metadata": {
        "id": "5hdir61cAxun",
        "pycharm": {
          "name": "#%%\n"
        }
      },
      "outputs": [],
      "source": [
        "plt.hist(zm_rooms_ds.zm_property_rooms)\n",
        "plt.title('Histograma Z-Score Modificado Rooms')\n",
        "plt.xlabel('ZM-Score Rooms')\n",
        "plt.show()"
      ]
    },
    {
      "cell_type": "markdown",
      "metadata": {
        "id": "5_sPct2HAxun",
        "pycharm": {
          "name": "#%% md\n"
        }
      },
      "source": [
        "##### Habitaciones"
      ]
    },
    {
      "cell_type": "code",
      "execution_count": null,
      "metadata": {
        "id": "SoIPP92TAxun",
        "pycharm": {
          "name": "#%%\n"
        }
      },
      "outputs": [],
      "source": [
        "zm_bedrooms_ds = calculate_modified_zscore_st(ds_filtrado, ds_filtrado.property_bedrooms)\n",
        "zm_bedrooms_ds.head()"
      ]
    },
    {
      "cell_type": "code",
      "execution_count": null,
      "metadata": {
        "id": "mbRHsjBXAxun",
        "pycharm": {
          "name": "#%%\n"
        }
      },
      "outputs": [],
      "source": [
        "print(\n",
        "    f\"Los outliers superiores de bedrooms son: {len(zm_bedrooms_ds[zm_bedrooms_ds['zm_property_bedrooms'] > 3.5])}. Constituyen al {(len(zm_bedrooms_ds[zm_bedrooms_ds['zm_property_bedrooms'] > 3.5]) * 100) // len(ds_filtrado.property_bedrooms)}% de los datos\")\n",
        "zm_bedrooms_ds[zm_bedrooms_ds['zm_property_bedrooms'] > 3.5]"
      ]
    },
    {
      "cell_type": "code",
      "execution_count": null,
      "metadata": {
        "id": "yfcxjCQtAxun",
        "pycharm": {
          "name": "#%%\n"
        }
      },
      "outputs": [],
      "source": [
        "print(\n",
        "    f\"Los outliers inferiores de bedrooms son: {len(zm_bedrooms_ds[zm_bedrooms_ds['zm_property_bedrooms'] < -3.5])}. Constituyen al {(len(zm_bedrooms_ds[zm_bedrooms_ds['zm_property_bedrooms'] < -3.5]) * 100) // len(ds_filtrado.property_bedrooms)}% de los datos\")\n",
        "zm_bedrooms_ds[zm_bedrooms_ds['zm_property_bedrooms'] < -3.5]"
      ]
    },
    {
      "cell_type": "code",
      "execution_count": null,
      "metadata": {
        "pycharm": {
          "name": "#%%\n"
        },
        "id": "q-3zcHy-Xmf6"
      },
      "outputs": [],
      "source": [
        "plt.hist(zm_bedrooms_ds.zm_property_bedrooms)\n",
        "plt.title('Histograma Z-Score Modificado Bedrooms')\n",
        "plt.xlabel('ZM-Score Bedrooms')\n",
        "plt.show()"
      ]
    },
    {
      "cell_type": "markdown",
      "metadata": {
        "pycharm": {
          "name": "#%% md\n"
        },
        "id": "a6nAFebXXmf6"
      },
      "source": [
        "##### Superficie Total"
      ]
    },
    {
      "cell_type": "code",
      "execution_count": null,
      "metadata": {
        "pycharm": {
          "name": "#%%\n"
        },
        "id": "fmJGZAeqXmf6"
      },
      "outputs": [],
      "source": [
        "zm_total_ds = calculate_modified_zscore_st(ds_filtrado, ds_filtrado.property_surface_total)\n",
        "zm_total_ds.head()"
      ]
    },
    {
      "cell_type": "markdown",
      "metadata": {
        "pycharm": {
          "name": "#%% md\n"
        },
        "id": "xCwzWDCuXmf7"
      },
      "source": [
        "Verificamos si se cumple la regla de oro para la variable sup total en el zscore modificado"
      ]
    },
    {
      "cell_type": "code",
      "execution_count": null,
      "metadata": {
        "pycharm": {
          "name": "#%%\n"
        },
        "id": "-G_twXmZXmf7"
      },
      "outputs": [],
      "source": [
        "print(\n",
        "    f\"Los outliers superiores de sup total son: {len(zm_total_ds[zm_total_ds['zm_property_surface_total'] > 3.5])}. Constituyen al {(len(zm_total_ds[zm_total_ds['zm_property_surface_total'] > 3.5]) * 100) // len(ds_filtrado.property_surface_total)}% de los datos\")\n",
        "zm_total_ds[zm_total_ds['zm_property_surface_total'] > 3.5]"
      ]
    },
    {
      "cell_type": "code",
      "execution_count": null,
      "metadata": {
        "pycharm": {
          "name": "#%%\n"
        },
        "id": "LF9dez9VXmf7"
      },
      "outputs": [],
      "source": [
        "print(\n",
        "    f\"Los outliers inferiores de sup total son: {len(zm_total_ds[zm_total_ds['zm_property_surface_total'] < -3.5])}. Constituyen al {(len(zm_total_ds[zm_total_ds['zm_property_surface_total'] < -3.5]) * 100) // len(ds_filtrado.property_surface_total)}% de los datos\")\n",
        "zm_total_ds[zm_total_ds['zm_property_surface_total'] < -3.5]"
      ]
    },
    {
      "cell_type": "code",
      "execution_count": null,
      "metadata": {
        "pycharm": {
          "name": "#%%\n"
        },
        "id": "Rg-mjTxcXmf7"
      },
      "outputs": [],
      "source": [
        "plt.hist(zm_total_ds.zm_property_surface_total)\n",
        "plt.title('Histograma Z-Score Modificado Sup Total')\n",
        "plt.xlabel('ZM-Score Sup Total')\n",
        "plt.show()"
      ]
    },
    {
      "cell_type": "markdown",
      "metadata": {
        "pycharm": {
          "name": "#%% md\n"
        },
        "id": "_qbQthT-Xmf7"
      },
      "source": [
        "##### Superficie Cubierta"
      ]
    },
    {
      "cell_type": "code",
      "execution_count": null,
      "metadata": {
        "pycharm": {
          "name": "#%%\n"
        },
        "id": "0DJjMgiTXmf7"
      },
      "outputs": [],
      "source": [
        "zm_covered_ds = calculate_modified_zscore_st(ds_filtrado, ds_filtrado.property_surface_covered)"
      ]
    },
    {
      "cell_type": "markdown",
      "metadata": {
        "pycharm": {
          "name": "#%% md\n"
        },
        "id": "Jr3fueTDXmf7"
      },
      "source": [
        "Verificamos si se cumple la regla de oro para la variable sup cubierta en el zscore modificado"
      ]
    },
    {
      "cell_type": "code",
      "execution_count": null,
      "metadata": {
        "pycharm": {
          "name": "#%%\n"
        },
        "id": "XHaFWaceXmf8"
      },
      "outputs": [],
      "source": [
        "print(\n",
        "    f\"Los outliers superiores de sup cubierta son: {(len(zm_covered_ds[zm_covered_ds['zm_property_surface_covered'] > 3.5]) * 100) // len(ds_filtrado.property_surface_covered)}% de los datos\")\n",
        "zm_covered_ds[zm_covered_ds['zm_property_surface_covered'] > 3.5]"
      ]
    },
    {
      "cell_type": "code",
      "execution_count": null,
      "metadata": {
        "pycharm": {
          "name": "#%%\n"
        },
        "id": "CAPBpNUJXmf8"
      },
      "outputs": [],
      "source": [
        "print(\n",
        "    f\"Los outliers inferiores de sup cubierta son: {len(zm_covered_ds[zm_covered_ds['zm_property_surface_covered'] < -3.5])}. Constituyen al {(len(zm_covered_ds[zm_covered_ds['zm_property_surface_covered'] < -3.5]) * 100) // len(ds_filtrado.property_surface_covered)}% de los datos\")\n",
        "zm_covered_ds[zm_covered_ds['zm_property_surface_covered'] < -3.5]"
      ]
    },
    {
      "cell_type": "code",
      "execution_count": null,
      "metadata": {
        "pycharm": {
          "name": "#%%\n"
        },
        "id": "wIa9JAYlXmf8"
      },
      "outputs": [],
      "source": [
        "plt.hist(zm_covered_ds.zm_property_surface_covered)\n",
        "plt.title('Histograma Z-Score Modificado Sup Cubierta')\n",
        "plt.xlabel('ZM-Score Sup Cubierta')\n",
        "plt.show()"
      ]
    },
    {
      "cell_type": "markdown",
      "metadata": {
        "pycharm": {
          "name": "#%% md\n"
        },
        "id": "R--ep_88Xmf8"
      },
      "source": [
        "##### Latitud y longitud"
      ]
    },
    {
      "cell_type": "code",
      "execution_count": null,
      "metadata": {
        "pycharm": {
          "name": "#%%\n"
        },
        "id": "hmjFe-iKXmf8"
      },
      "outputs": [],
      "source": [
        "zm_latitud_ds = calculate_modified_zscore_st(ds_filtrado, ds_filtrado.latitud)"
      ]
    },
    {
      "cell_type": "markdown",
      "metadata": {
        "pycharm": {
          "name": "#%% md\n"
        },
        "id": "RrIJpCXdXmf8"
      },
      "source": [
        "Verificamos si se cumple la regla de oro para la variable latitud en el zscore modificado"
      ]
    },
    {
      "cell_type": "code",
      "execution_count": null,
      "metadata": {
        "pycharm": {
          "name": "#%%\n"
        },
        "id": "uCk95jkVXmf8"
      },
      "outputs": [],
      "source": [
        "print(\n",
        "    f\"Los outliers superiores de latitud son: {(len(zm_latitud_ds[zm_latitud_ds['zm_latitud'] > 3.5]) * 100) // len(ds_filtrado.latitud)}% de los datos\")\n",
        "zm_latitud_ds[zm_latitud_ds['zm_latitud'] > 3.5]"
      ]
    },
    {
      "cell_type": "code",
      "execution_count": null,
      "metadata": {
        "pycharm": {
          "name": "#%%\n"
        },
        "id": "492T-E4LXmf8"
      },
      "outputs": [],
      "source": [
        "print(\n",
        "    f\"Los outliers inferiores de sup cubierta son: {len(zm_latitud_ds[zm_latitud_ds['zm_latitud'] < -3.5])}. Constituyen al {(len(zm_latitud_ds[zm_latitud_ds['zm_latitud'] < -3.5]) * 100) // len(ds_filtrado.latitud)}% de los datos\")\n",
        "zm_latitud_ds[zm_latitud_ds['zm_latitud'] < -3.5]"
      ]
    },
    {
      "cell_type": "code",
      "execution_count": null,
      "metadata": {
        "pycharm": {
          "name": "#%%\n"
        },
        "id": "Umcxs7DZXmf9"
      },
      "outputs": [],
      "source": [
        "plt.hist(zm_latitud_ds.zm_latitud)\n",
        "plt.title('Histograma Z-Score Modificado Latitud')\n",
        "plt.xlabel('ZM-Score Latitud')\n",
        "plt.show()"
      ]
    },
    {
      "cell_type": "code",
      "execution_count": null,
      "metadata": {
        "pycharm": {
          "name": "#%%\n"
        },
        "id": "QvtzOmlHXmf9"
      },
      "outputs": [],
      "source": [
        "zm_longitud_ds = calculate_modified_zscore_st(ds_filtrado, ds_filtrado.longitud)"
      ]
    },
    {
      "cell_type": "markdown",
      "metadata": {
        "pycharm": {
          "name": "#%% md\n"
        },
        "id": "YoNnySOwXmf9"
      },
      "source": [
        "Verificamos si se cumple la regla de oro para la variable longitud en el zscore modificado"
      ]
    },
    {
      "cell_type": "code",
      "execution_count": null,
      "metadata": {
        "pycharm": {
          "name": "#%%\n"
        },
        "id": "m-WDiEQcXmf9"
      },
      "outputs": [],
      "source": [
        "print(\n",
        "    f\"Los outliers superiores de longitud son: {(len(zm_longitud_ds[zm_longitud_ds['zm_longitud'] > 3.5]) * 100) // len(zm_longitud_ds.longitud)}% de los datos\")\n",
        "zm_longitud_ds[zm_longitud_ds['zm_longitud'] > 3.5]"
      ]
    },
    {
      "cell_type": "code",
      "execution_count": null,
      "metadata": {
        "pycharm": {
          "name": "#%%\n"
        },
        "id": "IUXlvHIjXmf9"
      },
      "outputs": [],
      "source": [
        "print(\n",
        "    f\"Los outliers inferiores de longitud son: {len(zm_longitud_ds[zm_longitud_ds['zm_longitud'] < -3.5])}. Constituyen al {(len(zm_longitud_ds[zm_longitud_ds['zm_longitud'] < -3.5]) * 100) // len(ds_filtrado.longitud)}% de los datos\")\n",
        "zm_longitud_ds[zm_longitud_ds['zm_longitud'] < -3.5]"
      ]
    },
    {
      "cell_type": "code",
      "execution_count": null,
      "metadata": {
        "pycharm": {
          "name": "#%%\n"
        },
        "id": "yLp0eo4nXmf9"
      },
      "outputs": [],
      "source": [
        "plt.hist(zm_longitud_ds.longitud)\n",
        "plt.title('Histograma Z-Score Modificado Longitud')\n",
        "plt.xlabel('ZM-Score Longitud')\n",
        "plt.show()"
      ]
    },
    {
      "cell_type": "markdown",
      "metadata": {
        "tags": [],
        "pycharm": {
          "name": "#%% md\n"
        },
        "id": "ay44E0h1Xmf-"
      },
      "source": [
        "### Analisis para eliminacion de outliers"
      ]
    },
    {
      "cell_type": "markdown",
      "source": [
        "##### Ambientes"
      ],
      "metadata": {
        "collapsed": false,
        "pycharm": {
          "name": "#%% md\n"
        },
        "id": "s_LZhgDbXmf-"
      }
    },
    {
      "cell_type": "markdown",
      "source": [
        "Compararemos los outliers IQR vs Z-Score"
      ],
      "metadata": {
        "collapsed": false,
        "pycharm": {
          "name": "#%% md\n"
        },
        "id": "IwevIQ69Xmf-"
      }
    },
    {
      "cell_type": "code",
      "execution_count": null,
      "outputs": [],
      "source": [
        "pd.Index([1,2,3])"
      ],
      "metadata": {
        "pycharm": {
          "name": "#%%\n"
        },
        "id": "duFsglf9Xmf-"
      }
    },
    {
      "cell_type": "code",
      "execution_count": null,
      "metadata": {
        "pycharm": {
          "name": "#%%\n"
        },
        "id": "yWrjc68ZXmf-"
      },
      "outputs": [],
      "source": [
        "def compare_outliers(iqr, z_score_ds, zm_score_ds, column_name):\n",
        "    print(\"Comparación IQR - Zscore - Zscore Modificado\")\n",
        "    print(f\"largo de outlier iqr: {len(iqr)}\")\n",
        "    z_score = z_score_ds[(z_score_ds[column_name] > 3) | (z_score_ds[column_name] < -3)]\n",
        "    print(f\"largo de outlier z: {len(z_score)}\")\n",
        "    outlier_sup_zm = zm_score_ds[(zm_score_ds[column_name] > 3.5) | (z_score_ds[column_name] < -3.5)]\n",
        "    print(f\"largo de outlier zm: {len(outlier_sup_zm)}\")\n",
        "    df_iqr_z = pd.merge(iqr, z_score, on='id')\n",
        "    df_intersection = pd.merge(df_iqr_z, outlier_sup_zm, on='id')\n",
        "    print(\n",
        "        f\"Suma total de outliers para metodo IQR + Zscore + Zscore Modificado: {len(iqr) + len(z_score) + len(outlier_sup_zm)}\")\n",
        "    print(\n",
        "        f\"Los outliers compartidos son: {len(df_intersection)}. Constituyen al {(len(df_intersection) * 100) // len(ds_filtrado)}% de los datos\")\n",
        "\n",
        "\n",
        "def current_univariate_outliers(dataset,iqr_ds,z_score_ds,zm_score_ds):\n",
        "  \"\"\"Filtra los outliers de cada metodo teniendo en cuenta el dataset actual\"\"\"\n",
        "  current_iqr_outliers=iqr_ds.merge(dataset,left_index=True,right_index=True)\n",
        "  updated_iqr_ds=iqr_ds.loc[current_iqr_outliers.index]\n",
        "\n",
        "  current_zscore_outliers=z_score_ds.merge(dataset,left_index=True,right_index=True)\n",
        "  updated_z_bedrooms_ds=z_score_ds.loc[current_zscore_outliers.index]\n",
        "\n",
        "  current_zmscore_outliers=zm_score_ds.merge(dataset,left_index=True,right_index=True)\n",
        "  updated_zm_bedrooms_ds=zm_score_ds.loc[current_zmscore_outliers.index]\n",
        "\n",
        "  return updated_iqr_ds,updated_z_bedrooms_ds,updated_zm_bedrooms_ds"
      ]
    },
    {
      "cell_type": "code",
      "execution_count": null,
      "outputs": [],
      "source": [
        "compare_outliers(outlier_sup_rooms_iqr, z_rooms_ds, zm_rooms_ds, 'property_rooms')"
      ],
      "metadata": {
        "pycharm": {
          "name": "#%%\n"
        },
        "id": "IsNAJkGaXmf-"
      }
    },
    {
      "cell_type": "markdown",
      "source": [
        "Los outliers de Zscore modificado están presentes en los otros 2 métodos, mientras que, tanto iqr como zscore comparten los mismos outliers. Procederemos a eliminar los 732."
      ],
      "metadata": {
        "collapsed": false,
        "pycharm": {
          "name": "#%% md\n"
        },
        "id": "tkpNikToXmf-"
      }
    },
    {
      "cell_type": "code",
      "execution_count": null,
      "outputs": [],
      "source": [
        "ds_filtrado.drop(outlier_sup_rooms_iqr.index, inplace=True)\n",
        "print(f\"Se eliminaron {len(outlier_sup_rooms_iqr)} registros\")"
      ],
      "metadata": {
        "pycharm": {
          "name": "#%%\n"
        },
        "id": "gEXCZDLlXmf_"
      }
    },
    {
      "cell_type": "markdown",
      "source": [
        "##### Habitaciones"
      ],
      "metadata": {
        "id": "WRZJnTAjfmSM"
      }
    },
    {
      "cell_type": "code",
      "source": [
        "outlier_sup_bedrooms_iqr,z_bedrooms_ds,zm_bedrooms_ds = current_univariate_outliers(ds_filtrado,outlier_sup_bedrooms_iqr,z_bedrooms_ds,zm_bedrooms_ds)\n",
        "\n",
        "compare_outliers(outlier_sup_bedrooms_iqr, z_bedrooms_ds, zm_bedrooms_ds,\"property_bedrooms\")"
      ],
      "metadata": {
        "id": "sJrrLyPken9q"
      },
      "execution_count": null,
      "outputs": []
    },
    {
      "cell_type": "markdown",
      "source": [
        "Nuevamente como podemos observar, estos valores atipicos fueron detectados por los 3 métodos, por lo que procederemos a eliminar las 34 observaciones."
      ],
      "metadata": {
        "id": "hA8sxN1lfGiK"
      }
    },
    {
      "cell_type": "code",
      "source": [
        "ds_filtrado.drop(outlier_sup_bedrooms_iqr.index, inplace=True)\n",
        "print(f\"Se eliminaron {len(outlier_sup_bedrooms_iqr)} registros\")"
      ],
      "metadata": {
        "id": "gz5U5qVjmXqu"
      },
      "execution_count": null,
      "outputs": []
    },
    {
      "cell_type": "markdown",
      "source": [
        "##### Superficie Total"
      ],
      "metadata": {
        "id": "X34MU15nyL4G"
      }
    },
    {
      "cell_type": "markdown",
      "source": [
        "Como indicamos anteriormente, optaremos por eliminar los registros que presenten una superficie total mayor a 500. Pero primero corroboraremos que los outliers sean identificados por los 3 métodos"
      ],
      "metadata": {
        "id": "U4H4yuD0-Lk9"
      }
    },
    {
      "cell_type": "code",
      "source": [
        "outlier_sup_total_500,z_total_ds,zm_total_ds = current_univariate_outliers(ds_filtrado,outlier_sup_total_500,z_total_ds,zm_total_ds)\n",
        "\n",
        "compare_outliers(outlier_sup_total_500, z_total_ds, zm_total_ds, \"property_surface_total\")"
      ],
      "metadata": {
        "id": "00xFmpRNyL4G"
      },
      "execution_count": null,
      "outputs": []
    },
    {
      "cell_type": "markdown",
      "source": [
        "Como vemos que fueron identificados procedemos a borrarlos."
      ],
      "metadata": {
        "id": "0ehOtoua-qxm"
      }
    },
    {
      "cell_type": "code",
      "source": [
        "ds_filtrado.drop(outlier_sup_total_500.index, inplace=True)\n",
        "print(f\"Se eliminaron {len(outlier_sup_total_500)} registros\")"
      ],
      "metadata": {
        "id": "mlpc5QorzP32"
      },
      "execution_count": null,
      "outputs": []
    },
    {
      "cell_type": "markdown",
      "source": [
        "##### Superficie Cubierta"
      ],
      "metadata": {
        "id": "z-9bF5MD9KGJ"
      }
    },
    {
      "cell_type": "code",
      "source": [
        "outliers_surface_covered_iqr = ds_filtrado[ds_filtrado.property_surface_covered > 500]"
      ],
      "metadata": {
        "id": "5Lr5KLuXAXwu"
      },
      "execution_count": null,
      "outputs": []
    },
    {
      "cell_type": "markdown",
      "source": [
        "Como podemos ver, luego de haber borrado los outliers de superficie total reducimos notablemente la cantidad de outliers que se encontraban en superficie cubierta en el rango que habiamos decidido borrar. Vemos si los restantes son detectados por los métodos"
      ],
      "metadata": {
        "id": "JcCXJ8ntBOVe"
      }
    },
    {
      "cell_type": "code",
      "source": [
        "outliers_surface_covered_iqr,z_covered_ds,zm_covered_ds = current_univariate_outliers(ds_filtrado,outliers_surface_covered_iqr,z_covered_ds,zm_covered_ds)\n",
        "\n",
        "compare_outliers(outliers_surface_covered_iqr, z_covered_ds, zm_covered_ds, \"property_surface_total\")"
      ],
      "metadata": {
        "id": "oxg1zdeGAq8m"
      },
      "execution_count": null,
      "outputs": []
    },
    {
      "cell_type": "code",
      "source": [
        "ds_filtrado.drop(outliers_surface_covered_iqr.index, inplace=True)\n",
        "print(f\"Se eliminaron {len(outliers_surface_covered_iqr)} registros\")"
      ],
      "metadata": {
        "id": "elnO3r3KAv42"
      },
      "execution_count": null,
      "outputs": []
    },
    {
      "cell_type": "markdown",
      "metadata": {
        "id": "4Vjw9UM9Axun",
        "tags": [],
        "pycharm": {
          "name": "#%% md\n"
        }
      },
      "source": [
        "### Multivariados"
      ]
    },
    {
      "cell_type": "markdown",
      "metadata": {
        "id": "wSiyWi1FAxun",
        "tags": [],
        "pycharm": {
          "name": "#%% md\n"
        }
      },
      "source": [
        "#### Clustering - Mahalanobis"
      ]
    },
    {
      "cell_type": "code",
      "execution_count": null,
      "metadata": {
        "id": "4oFvD79uAxun",
        "pycharm": {
          "name": "#%%\n"
        }
      },
      "outputs": [],
      "source": [
        "def calculate_mahalanobis_distance(dataset, col1, col2):\n",
        "    X = dataset[[f'{col1}', f'{col2}']]\n",
        "    sample_X = X.sample(frac=0.1)\n",
        "\n",
        "    mu = sample_X.mean()\n",
        "    X_diff = X - mu\n",
        "    X_diff = X_diff.values.T\n",
        "\n",
        "    cov = np.cov(sample_X.values.T)\n",
        "    inv_cov = np.linalg.inv(cov)\n",
        "    W = sc.linalg.sqrtm(inv_cov)\n",
        "\n",
        "    Wx = np.matmul(W, X_diff)\n",
        "\n",
        "    mahal_dists = np.array([np.dot(Wx[:, i], Wx[:, i]) for i in range(Wx.shape[1])])\n",
        "    dataset['mahalanobis'] = mahal_dists\n",
        "    return dataset"
      ]
    },
    {
      "cell_type": "code",
      "execution_count": null,
      "metadata": {
        "id": "b3QkwXSrAxun",
        "pycharm": {
          "name": "#%%\n"
        }
      },
      "outputs": [],
      "source": [
        "def create_scatter_plot(dataset, col1, col2):\n",
        "    #Scatter Plot\n",
        "    plt.scatter(dataset[col1], dataset[col2])\n",
        "    plt.title(f'Dispersograma {col1} vs {col2}')\n",
        "    plt.xlabel(f'{col1}')\n",
        "    plt.ylabel(f'{col2}')\n",
        "    plt.show()"
      ]
    },
    {
      "cell_type": "code",
      "execution_count": null,
      "metadata": {
        "id": "AT3-EbdHAxun",
        "pycharm": {
          "name": "#%%\n"
        }
      },
      "outputs": [],
      "source": [
        "def create_scattergram(dataset, col1, col2):\n",
        "    #Grafico scatter\n",
        "    es_outlier = (dataset['mahalanobis'] > umbral)\n",
        "\n",
        "    sns.scatterplot(x=dataset[col1], y=dataset[col2], hue=es_outlier)\n",
        "    plt.legend(bbox_to_anchor=(1.05, 1), loc='upper left', borderaxespad=0, title=\"Outlier\")\n",
        "    plt.title(f'Dispersograma {col1} vs {col2}')\n",
        "    plt.show()"
      ]
    },
    {
      "cell_type": "markdown",
      "metadata": {
        "id": "es-_IC7hAxun",
        "pycharm": {
          "name": "#%% md\n"
        }
      },
      "source": [
        "Analisis entre ambientes y habitaciones de valores atipicos por el metodo de mahalanobis - multivariado"
      ]
    },
    {
      "cell_type": "code",
      "execution_count": null,
      "metadata": {
        "id": "oHdHLwQbAxun",
        "pycharm": {
          "name": "#%%\n"
        }
      },
      "outputs": [],
      "source": [
        "create_scatter_plot(ds_filtrado, 'property_rooms', 'property_bedrooms')"
      ]
    },
    {
      "cell_type": "markdown",
      "metadata": {
        "id": "VVAbH_xFAxun",
        "pycharm": {
          "name": "#%% md\n"
        }
      },
      "source": [
        "Parecerían exisitir algunas observaciones anómalas. Vamos a calcular la distancia de mahalanobis para cada observación."
      ]
    },
    {
      "cell_type": "code",
      "execution_count": null,
      "metadata": {
        "id": "8FVttpjpAxuo",
        "pycharm": {
          "name": "#%%\n"
        }
      },
      "outputs": [],
      "source": [
        "ds_filtrado = ds_filtrado[~(ds_filtrado['property_rooms'].isna())]\n",
        "ds_filtrado = ds_filtrado[~(ds_filtrado['property_bedrooms'].isna())]\n",
        "calculate_mahalanobis_distance(ds_filtrado, 'property_rooms', 'property_bedrooms')"
      ]
    },
    {
      "cell_type": "markdown",
      "metadata": {
        "id": "gBcoIEkEAxuo",
        "pycharm": {
          "name": "#%% md\n"
        }
      },
      "source": [
        "Tenemos que seleccionar un valor umbral para definir qué observaciones podrían ser anómalas según la distancia de mahalanobis."
      ]
    },
    {
      "cell_type": "code",
      "execution_count": null,
      "metadata": {
        "id": "QiT5wBJKAxuo",
        "pycharm": {
          "name": "#%%\n"
        }
      },
      "outputs": [],
      "source": [
        "sns.boxplot(y=ds_filtrado.mahalanobis)"
      ]
    },
    {
      "cell_type": "code",
      "execution_count": null,
      "metadata": {
        "id": "IcItLHHuAxuo",
        "pycharm": {
          "name": "#%%\n"
        }
      },
      "outputs": [],
      "source": [
        "# Ordeno las distancias de menor a mayor\n",
        "np.sort(ds_filtrado[~(ds_filtrado.mahalanobis.isna())])"
      ]
    },
    {
      "cell_type": "code",
      "execution_count": null,
      "metadata": {
        "id": "jOJSUADzAxuo",
        "pycharm": {
          "name": "#%%\n"
        }
      },
      "outputs": [],
      "source": [
        "# mahalanobis contiene nans, esto es posible? es correcto sacarlos para proseguir con el analisis?\n",
        "ds_filtrado[~(ds_filtrado.mahalanobis.isna())].mahalanobis.max()\n",
        "ds_filtrado[~(ds_filtrado.mahalanobis.isna())].mahalanobis.min()\n",
        "# como elijo un umbral? bajo que criterio?"
      ]
    },
    {
      "cell_type": "markdown",
      "metadata": {
        "id": "5H-OSShHAxuo",
        "pycharm": {
          "name": "#%% md\n"
        }
      },
      "source": [
        "Seleccionamos 1000 como valor umbral"
      ]
    },
    {
      "cell_type": "code",
      "execution_count": null,
      "metadata": {
        "id": "ZgpzFQEaAxuo",
        "pycharm": {
          "name": "#%%\n"
        }
      },
      "outputs": [],
      "source": [
        "#Defino umbral\n",
        "umbral = 60  # elegimos este umbral de varias pruebas hasta llegar a un grafico de dispersion razonable\n",
        "\n",
        "#Observacione anómalas\n",
        "ds_filtrado[ds_filtrado['mahalanobis'] > umbral]\n",
        "print(\n",
        "    f\"Los outliers correlacionados entre ambientes y habitaciones son: {len(ds_filtrado[ds_filtrado['mahalanobis'] > umbral])}. Constituyen al {(len(ds_filtrado[ds_filtrado['mahalanobis'] > umbral]) * 100) // len(ds_filtrado)}% de los datos\")"
      ]
    },
    {
      "cell_type": "code",
      "execution_count": null,
      "metadata": {
        "id": "UQ3rh0TqAxuo",
        "pycharm": {
          "name": "#%%\n"
        }
      },
      "outputs": [],
      "source": [
        "create_scattergram(ds_filtrado, 'property_rooms', 'property_bedrooms')"
      ]
    },
    {
      "cell_type": "code",
      "execution_count": null,
      "metadata": {
        "pycharm": {
          "name": "#%%\n"
        },
        "id": "QtSXbiCbXmgB"
      },
      "outputs": [],
      "source": [
        "ds_filtrado[ds_filtrado['mahalanobis'] > umbral]"
      ]
    },
    {
      "cell_type": "markdown",
      "metadata": {
        "id": "Ngh7t6K_Axuo",
        "pycharm": {
          "name": "#%% md\n"
        }
      },
      "source": [
        "Como podemos observar en el scatter plot, quedan bien marcados los outliers que en nuestro dominio de problema no tienen ningun sentido.\n",
        "Por ejempl, tenemos viviendas con 20 ó 30 ambientes que solo tienen 2 y 3 habitaciones cada una."
      ]
    },
    {
      "cell_type": "code",
      "execution_count": null,
      "metadata": {
        "pycharm": {
          "name": "#%%\n"
        },
        "id": "-Q_hwwEDXmgB"
      },
      "outputs": [],
      "source": [
        "#Eliminación de outlier por ínidce de fila\n",
        "indice_outlier = ds_filtrado[ds_filtrado['mahalanobis'] > umbral].index\n",
        "ds_filtrado.drop(indice_outlier, inplace=True)\n",
        "print(\n",
        "    f\"Los outliers de bedrooms post eliminacion son: {len(ds_filtrado[ds_filtrado['mahalanobis'] > umbral])}\")"
      ]
    },
    {
      "cell_type": "code",
      "execution_count": null,
      "metadata": {
        "pycharm": {
          "name": "#%%\n"
        },
        "id": "-Saq-z2rXmgB"
      },
      "outputs": [],
      "source": [
        "print(f\"Dispersograma post eliminacion de outliers\")\n",
        "create_scattergram(ds_filtrado, 'property_rooms', 'property_bedrooms')"
      ]
    },
    {
      "cell_type": "markdown",
      "metadata": {
        "id": "N7BqD1f5Axuo",
        "pycharm": {
          "name": "#%% md\n"
        }
      },
      "source": [
        "Analisis entre superficie total y superificie cubierta de valores atipicos por el metodo de mahalanobis - multivariado"
      ]
    },
    {
      "cell_type": "code",
      "execution_count": null,
      "metadata": {
        "id": "9uGc8EEAAxuo",
        "pycharm": {
          "name": "#%%\n"
        }
      },
      "outputs": [],
      "source": [
        "create_scatter_plot(ds_filtrado, 'property_surface_total', 'property_surface_covered')"
      ]
    },
    {
      "cell_type": "code",
      "execution_count": null,
      "metadata": {
        "id": "Ru-LnmK9Axuo",
        "pycharm": {
          "name": "#%%\n"
        }
      },
      "outputs": [],
      "source": [
        "ds_filtrado = ds_filtrado[~(ds_filtrado['property_surface_total'].isna())]\n",
        "ds_filtrado = ds_filtrado[~(ds_filtrado['property_surface_covered'].isna())]\n",
        "calculate_mahalanobis_distance(ds_filtrado, 'property_surface_total', 'property_surface_covered')"
      ]
    },
    {
      "cell_type": "code",
      "execution_count": null,
      "metadata": {
        "id": "UARE2d16Axuo",
        "pycharm": {
          "name": "#%%\n"
        }
      },
      "outputs": [],
      "source": [
        "sns.boxplot(y=ds_filtrado.mahalanobis)"
      ]
    },
    {
      "cell_type": "code",
      "execution_count": null,
      "metadata": {
        "id": "8VBOClOQAxuo",
        "pycharm": {
          "name": "#%%\n"
        }
      },
      "outputs": [],
      "source": [
        "# Ordeno las distancias de menor a mayor\n",
        "np.sort(ds_filtrado[~(ds_filtrado.mahalanobis.isna())])"
      ]
    },
    {
      "cell_type": "code",
      "execution_count": null,
      "metadata": {
        "id": "PD_XHZ9AAxuo",
        "pycharm": {
          "name": "#%%\n"
        }
      },
      "outputs": [],
      "source": [
        "# mahalanobis contiene nans, esto es posible? es correcto sacarlos para proseguir con el analisis?\n",
        "ds_filtrado[~(ds_filtrado.mahalanobis.isna())].mahalanobis.max()\n",
        "ds_filtrado[~(ds_filtrado.mahalanobis.isna())].mahalanobis.min()\n",
        "# como elijo un umbral? bajo que criterio?"
      ]
    },
    {
      "cell_type": "code",
      "execution_count": null,
      "metadata": {
        "id": "3WFEt2hDAxuo",
        "pycharm": {
          "name": "#%%\n"
        }
      },
      "outputs": [],
      "source": [
        "#Defino umbral\n",
        "umbral = 1  # elegimos este umbral de varias pruebas hasta llegar a un grafico de dispersion razonable\n",
        "\n",
        "#Observacione anómalas\n",
        "ds_filtrado[ds_filtrado['mahalanobis'] > umbral]"
      ]
    },
    {
      "cell_type": "code",
      "execution_count": null,
      "metadata": {
        "id": "xGrmY5wQAxuo",
        "pycharm": {
          "name": "#%%\n"
        }
      },
      "outputs": [],
      "source": [
        "create_scattergram(ds_filtrado, 'property_surface_total', 'property_surface_covered')"
      ]
    },
    {
      "cell_type": "markdown",
      "source": [
        "Analisis entre latitud y logitud de valores atipicos por el metodo de mahalanobis - multivariado"
      ],
      "metadata": {
        "collapsed": false,
        "pycharm": {
          "name": "#%% md\n"
        },
        "id": "U7XMyX_JXmgC"
      }
    },
    {
      "cell_type": "code",
      "execution_count": null,
      "metadata": {
        "id": "qdeqvOnOAxuo",
        "pycharm": {
          "name": "#%%\n"
        }
      },
      "outputs": [],
      "source": []
    },
    {
      "cell_type": "markdown",
      "metadata": {
        "id": "bzjGO22mAxuo",
        "tags": [],
        "pycharm": {
          "name": "#%% md\n"
        }
      },
      "source": [
        "#### LOF"
      ]
    },
    {
      "cell_type": "markdown",
      "metadata": {
        "id": "URgHeN-OAxuo",
        "pycharm": {
          "name": "#%% md\n"
        }
      },
      "source": [
        "Analisis de outliers con el metodo LOF - Multivariados para ambientes y habitaciones"
      ]
    },
    {
      "cell_type": "code",
      "execution_count": null,
      "metadata": {
        "id": "cbsv_OILAxup",
        "pycharm": {
          "name": "#%%\n"
        }
      },
      "outputs": [],
      "source": [
        "def create_scores_based_on_training(dataset, col1, col2):\n",
        "    #Conjunto de entrenamiento\n",
        "    dataset = dataset[~(dataset[f'{col1}'].isna())]  # que hago con los NAN? Para la preddicion necesito sacarlos.\n",
        "    dataset = dataset[~(dataset[f'{col2}'].isna())]\n",
        "\n",
        "    X = dataset[[f'{col1}', f'{col2}']].values\n",
        "\n",
        "    #Creo el clasificador\n",
        "    clf = LocalOutlierFactor(n_neighbors=20)\n",
        "\n",
        "    #Genero prediccion\n",
        "    y_pred = clf.fit_predict(X)\n",
        "\n",
        "    #Guardo los scores\n",
        "    dataset['scores'] = clf.negative_outlier_factor_\n",
        "\n",
        "    return dataset.copy()"
      ]
    },
    {
      "cell_type": "code",
      "execution_count": null,
      "metadata": {
        "id": "RJXWXpFjAxup",
        "pycharm": {
          "name": "#%%\n"
        }
      },
      "outputs": [],
      "source": [
        "def create_dispersion_diagram(dataset, col1, col2):\n",
        "    new_lof_ds = dataset.copy()\n",
        "    new_lof_ds['target'] = 0\n",
        "    new_col_ds = new_lof_ds\n",
        "    new_col_ds[[f'{col1}', f'{col2}', 'target']]\n",
        "\n",
        "    sns.scatterplot(new_col_ds[f'{col1}'], new_col_ds[f'{col2}'], hue=new_col_ds['target'])\n",
        "    plt.title(f'Diagrama de Dispersión {col1} vs {col2}')\n",
        "    plt.show()\n",
        "    return new_lof_ds"
      ]
    },
    {
      "cell_type": "code",
      "execution_count": null,
      "metadata": {
        "id": "QdmHbCfwAxup",
        "pycharm": {
          "name": "#%%\n"
        }
      },
      "outputs": [],
      "source": [
        "def create_lof_graph(dataset, col1, col2):\n",
        "    #Calculo radio para plotear score\n",
        "    radius = (dataset.scores.max() - dataset.scores) / (dataset.scores.max() - dataset.scores.min())\n",
        "\n",
        "    #Grafico LOF\n",
        "    plt.figure(figsize=(10, 10))\n",
        "    plt.title(\"Local Outlier Factor (LOF)\")\n",
        "    plt.scatter(dataset[f'{col1}'].values, dataset[f'{col2}'].values, edgecolor='grey', s=30, label='Datos',\n",
        "                facecolors='none')\n",
        "    plt.scatter(dataset[f'{col1}'].values, dataset[f'{col2}'].values, s=1300 * radius, edgecolors='red',\n",
        "                facecolors='none', label='Outlier scores')\n",
        "    legend = plt.legend(loc='upper left')\n",
        "    legend.legendHandles[0]._sizes = [10]\n",
        "    legend.legendHandles[1]._sizes = [20]\n",
        "    plt.show()"
      ]
    },
    {
      "cell_type": "code",
      "execution_count": null,
      "metadata": {
        "id": "XOdBGEWUAxup",
        "pycharm": {
          "name": "#%%\n"
        }
      },
      "outputs": [],
      "source": [
        "rooms_bedrooms_lof_df = create_dispersion_diagram(ds_filtrado, 'property_rooms', 'property_bedrooms')"
      ]
    },
    {
      "cell_type": "code",
      "execution_count": null,
      "metadata": {
        "id": "R9TjNHWLAxup",
        "pycharm": {
          "name": "#%%\n"
        }
      },
      "outputs": [],
      "source": [
        "new_rooms_bedrooms_lof_df = create_scores_based_on_training(rooms_bedrooms_lof_df, 'property_rooms',\n",
        "                                                            'property_bedrooms')\n",
        "new_rooms_bedrooms_lof_df"
      ]
    },
    {
      "cell_type": "code",
      "execution_count": null,
      "metadata": {
        "id": "MXkHSVcQAxup",
        "pycharm": {
          "name": "#%%\n"
        }
      },
      "outputs": [],
      "source": [
        "create_lof_graph(new_rooms_bedrooms_lof_df, 'property_rooms', 'property_bedrooms')"
      ]
    },
    {
      "cell_type": "markdown",
      "metadata": {
        "id": "YxoZ3ynaAxup",
        "pycharm": {
          "name": "#%% md\n"
        }
      },
      "source": [
        "Analisis de outliers con el metodo LOF - Multivariados para superficie total y superficie cubierta"
      ]
    },
    {
      "cell_type": "code",
      "execution_count": null,
      "metadata": {
        "id": "avJW3slCAxup",
        "pycharm": {
          "name": "#%%\n"
        }
      },
      "outputs": [],
      "source": [
        "total_covered_lof_df = create_dispersion_diagram(ds_filtrado, 'property_surface_total',\n",
        "                                                 'property_surface_covered')"
      ]
    },
    {
      "cell_type": "code",
      "execution_count": null,
      "metadata": {
        "id": "UlH751k8Axup",
        "pycharm": {
          "name": "#%%\n"
        }
      },
      "outputs": [],
      "source": [
        "new_total_covered_lof_df = create_scores_based_on_training(total_covered_lof_df, 'property_surface_total',\n",
        "                                                           'property_surface_covered')\n",
        "new_total_covered_lof_df"
      ]
    },
    {
      "cell_type": "code",
      "execution_count": null,
      "metadata": {
        "id": "5eJCc_9sAxup",
        "pycharm": {
          "name": "#%%\n"
        }
      },
      "outputs": [],
      "source": [
        "create_lof_graph(new_total_covered_lof_df, 'property_surface_total', 'property_surface_covered')"
      ]
    },
    {
      "cell_type": "markdown",
      "metadata": {
        "id": "RyT4SO_WAxup",
        "pycharm": {
          "name": "#%% md\n"
        }
      },
      "source": [
        "Analisis de outliers con el metodo LOF - Multivariados para latitud y longitud"
      ]
    },
    {
      "cell_type": "code",
      "execution_count": null,
      "metadata": {
        "id": "v66qHXTCAxup",
        "pycharm": {
          "name": "#%%\n"
        }
      },
      "outputs": [],
      "source": [
        "latitud_longitud_df = create_dispersion_diagram(ds_filtrado, 'latitud', 'longitud')"
      ]
    },
    {
      "cell_type": "code",
      "execution_count": null,
      "metadata": {
        "id": "XjiJ-f2cAxup",
        "pycharm": {
          "name": "#%%\n"
        }
      },
      "outputs": [],
      "source": [
        "new_latitud_longitud_df = create_scores_based_on_training(latitud_longitud_df, 'latitud', 'longitud')\n",
        "new_latitud_longitud_df"
      ]
    },
    {
      "cell_type": "code",
      "execution_count": null,
      "metadata": {
        "id": "Uu846liHAxup",
        "pycharm": {
          "name": "#%%\n"
        }
      },
      "outputs": [],
      "source": [
        "create_lof_graph(new_latitud_longitud_df, 'latitud', 'longitud')"
      ]
    },
    {
      "cell_type": "markdown",
      "metadata": {
        "id": "wax67VvcAxup",
        "tags": [],
        "pycharm": {
          "name": "#%% md\n"
        }
      },
      "source": [
        "#### Isolation Forest"
      ]
    },
    {
      "cell_type": "markdown",
      "metadata": {
        "id": "03vv4fmXAxup",
        "pycharm": {
          "name": "#%% md\n"
        }
      },
      "source": [
        "Analisis de outliers con el metodo de Isolation Forest - Multivariados para ambientes y habitaciones"
      ]
    },
    {
      "cell_type": "code",
      "execution_count": null,
      "metadata": {
        "id": "VEplGatAAxup",
        "pycharm": {
          "name": "#%%\n"
        }
      },
      "outputs": [],
      "source": [
        "rooms_bedrooms_iforest = ds_filtrado[['property_rooms', 'property_bedrooms']]\n",
        "rooms_bedrooms_iforest = rooms_bedrooms_iforest[~(rooms_bedrooms_iforest['property_rooms'].isna())]\n",
        "rooms_bedrooms_iforest = rooms_bedrooms_iforest[~(rooms_bedrooms_iforest['property_bedrooms'].isna())]\n",
        "\n",
        "iforest = IsolationForest(n_estimators=100, max_samples='auto',\n",
        "                          contamination=0.05, max_features=2,\n",
        "                          bootstrap=False, n_jobs=-1, random_state=1)\n",
        "\n",
        "pred = iforest.fit_predict(rooms_bedrooms_iforest)\n",
        "#Almaceno scores y etiquetas\n",
        "rooms_bedrooms_iforest['scores'] = iforest.decision_function(rooms_bedrooms_iforest)\n",
        "rooms_bedrooms_iforest['outlier_label'] = pred\n",
        "\n",
        "#Observaciones anómalas\n",
        "rooms_bedrooms_iforest[rooms_bedrooms_iforest.outlier_label == -1]"
      ]
    },
    {
      "cell_type": "code",
      "execution_count": null,
      "metadata": {
        "id": "ZmC9maDQAxup",
        "pycharm": {
          "name": "#%%\n"
        }
      },
      "outputs": [],
      "source": [
        "rooms_bedrooms_iforest.outlier_label.value_counts()"
      ]
    },
    {
      "cell_type": "code",
      "execution_count": null,
      "metadata": {
        "id": "hcXwUxK7Axup",
        "pycharm": {
          "name": "#%%\n"
        }
      },
      "outputs": [],
      "source": [
        "#Grafico dispersograma\n",
        "color = [f\"C{n + 1}\" for n in (rooms_bedrooms_iforest['outlier_label'].values)]\n",
        "\n",
        "sns.scatterplot(rooms_bedrooms_iforest['property_rooms'], rooms_bedrooms_iforest['property_bedrooms'], hue=color)\n",
        "plt.title('Diagrama de Dispersión property_rooms vs property_bedrooms')\n",
        "plt.show()"
      ]
    },
    {
      "cell_type": "code",
      "execution_count": null,
      "metadata": {
        "id": "-oJfQyeyAxup",
        "pycharm": {
          "name": "#%%\n"
        }
      },
      "outputs": [],
      "source": [
        "#Selecciono el árbol\n",
        "#estimator = iforest.estimators_[5]\n",
        "\n",
        "#Grafico\n",
        "#plt.figure(figsize=(10,10))\n",
        "#sk.tree.plot_tree(estimator,feature_names = rooms_bedrooms_iforest.feature_names, filled=True, max_depth=1)\n",
        "#plt.show()"
      ]
    },
    {
      "cell_type": "markdown",
      "metadata": {
        "id": "kQm8FTM3Axup",
        "pycharm": {
          "name": "#%% md\n"
        }
      },
      "source": [
        "Analisis de outliers con el metodo de Isolation Forest - Multivariados para superficie total y superficie cubierta"
      ]
    },
    {
      "cell_type": "code",
      "execution_count": null,
      "metadata": {
        "id": "xcLdMo87Axup",
        "pycharm": {
          "name": "#%%\n"
        }
      },
      "outputs": [],
      "source": [
        "total_covered_iforest = ds_filtrado[['property_surface_total', 'property_surface_covered']]\n",
        "total_covered_iforest = total_covered_iforest[~(total_covered_iforest['property_surface_total'].isna())]\n",
        "total_covered_iforest = total_covered_iforest[~(total_covered_iforest['property_surface_covered'].isna())]\n",
        "\n",
        "iforest = IsolationForest(n_estimators=100, max_samples='auto',\n",
        "                          contamination=0.05, max_features=2,\n",
        "                          bootstrap=False, n_jobs=-1, random_state=1)\n",
        "\n",
        "pred = iforest.fit_predict(total_covered_iforest)\n",
        "#Almaceno scores y etiquetas\n",
        "total_covered_iforest['scores'] = iforest.decision_function(total_covered_iforest)\n",
        "total_covered_iforest['outlier_label'] = pred\n",
        "\n",
        "#Observaciones anómalas\n",
        "total_covered_iforest[total_covered_iforest.outlier_label == -1]"
      ]
    },
    {
      "cell_type": "code",
      "execution_count": null,
      "metadata": {
        "id": "tgvxUgx2Axuq",
        "pycharm": {
          "name": "#%%\n"
        }
      },
      "outputs": [],
      "source": [
        "total_covered_iforest.outlier_label.value_counts()"
      ]
    },
    {
      "cell_type": "code",
      "execution_count": null,
      "metadata": {
        "id": "vv4yshufAxuq",
        "pycharm": {
          "name": "#%%\n"
        }
      },
      "outputs": [],
      "source": [
        "#Grafico dispersograma\n",
        "color = [f\"C{n + 1}\" for n in (total_covered_iforest['outlier_label'].values)]\n",
        "\n",
        "sns.scatterplot(total_covered_iforest['property_surface_total'], total_covered_iforest['property_surface_covered'],\n",
        "                hue=color)\n",
        "plt.title('Diagrama de Dispersión property_surface_total vs property_surface_covered')\n",
        "plt.show()"
      ]
    },
    {
      "cell_type": "code",
      "execution_count": null,
      "metadata": {
        "id": "EymgQjnhAxuq",
        "pycharm": {
          "name": "#%%\n"
        }
      },
      "outputs": [],
      "source": [
        "#Selecciono el árbol\n",
        "#estimator = iforest.estimators_[5]\n",
        "\n",
        "#Grafico\n",
        "#plt.figure(figsize=(10,10))\n",
        "#sk.tree.plot_tree(estimator,feature_names = total_covered_iforest.feature_names, filled=True, max_depth=1)\n",
        "#plt.show()"
      ]
    },
    {
      "cell_type": "markdown",
      "metadata": {
        "id": "dUjFBTj8Axuq",
        "pycharm": {
          "name": "#%% md\n"
        }
      },
      "source": [
        "Analisis de outliers con el metodo de Isolation Forest - Multivariados para latitud y longitud"
      ]
    },
    {
      "cell_type": "code",
      "execution_count": null,
      "metadata": {
        "id": "_aR-rEWgAxuq",
        "pycharm": {
          "name": "#%%\n"
        }
      },
      "outputs": [],
      "source": [
        "latitud_longitud_iforest = ds_filtrado[['latitud', 'longitud']]\n",
        "latitud_longitud_iforest = latitud_longitud_iforest[~(latitud_longitud_iforest['latitud'].isna())]\n",
        "latitud_longitud_iforest = latitud_longitud_iforest[~(latitud_longitud_iforest['longitud'].isna())]\n",
        "\n",
        "iforest = IsolationForest(n_estimators=100, max_samples='auto',\n",
        "                          contamination=0.05, max_features=2,\n",
        "                          bootstrap=False, n_jobs=-1, random_state=1)\n",
        "\n",
        "pred = iforest.fit_predict(latitud_longitud_iforest)\n",
        "#Almaceno scores y etiquetas\n",
        "latitud_longitud_iforest['scores'] = iforest.decision_function(latitud_longitud_iforest)\n",
        "latitud_longitud_iforest['outlier_label'] = pred\n",
        "\n",
        "#Observaciones anómalas\n",
        "latitud_longitud_iforest[latitud_longitud_iforest.outlier_label == -1]"
      ]
    },
    {
      "cell_type": "code",
      "execution_count": null,
      "metadata": {
        "id": "8rWXsaqGAxuq",
        "pycharm": {
          "name": "#%%\n"
        }
      },
      "outputs": [],
      "source": [
        "latitud_longitud_iforest.outlier_label.value_counts()"
      ]
    },
    {
      "cell_type": "code",
      "execution_count": null,
      "metadata": {
        "id": "c_s43EfPAxuq",
        "pycharm": {
          "name": "#%%\n"
        }
      },
      "outputs": [],
      "source": [
        "#Grafico dispersograma\n",
        "color = [f\"C{n + 1}\" for n in (latitud_longitud_iforest['outlier_label'].values)]\n",
        "\n",
        "sns.scatterplot(latitud_longitud_iforest['latitud'], latitud_longitud_iforest['longitud'], hue=color)\n",
        "plt.title('Diagrama de Dispersión latitud vs longitud')\n",
        "plt.show()"
      ]
    },
    {
      "cell_type": "code",
      "execution_count": null,
      "metadata": {
        "id": "RFSYmXE5Axuq",
        "pycharm": {
          "name": "#%%\n"
        }
      },
      "outputs": [],
      "source": [
        "#Selecciono el árbol\n",
        "#estimator = iforest.estimators_[5]\n",
        "\n",
        "#Grafico\n",
        "#plt.figure(figsize=(10,10))\n",
        "#sk.tree.plot_tree(estimator,feature_names = latitud_longitud_iforest.feature_names, filled=True, max_depth=1)\n",
        "#plt.show()"
      ]
    },
    {
      "cell_type": "code",
      "execution_count": null,
      "metadata": {
        "pycharm": {
          "name": "#%%\n"
        },
        "id": "Zx9aa9hHXmgG"
      },
      "outputs": [],
      "source": []
    }
  ],
  "metadata": {
    "colab": {
      "collapsed_sections": [
        "jxoknznjLQOO",
        "JwgUVMIBLQOP",
        "NhbTz94XLQOQ",
        "WzgZZ3DvLQOQ",
        "1az7CMHPLQOR",
        "5noSSMY0LQOU",
        "1mXl9xLGLQOV",
        "WoYpoj6SLQOV",
        "ojlfca7BBXAw",
        "UJXPwgQU6a2Q",
        "UM58cSnX1DMZ",
        "obePjaf2R3Jg",
        "2oo26Jn3WzsK",
        "-Ddt6nPw7c_v",
        "M4Amhc7lkDC4",
        "4d609ZsivVrn",
        "fW8vJOcwtiRu",
        "yWxX8bRyLQOX",
        "Pv7hjbTPLQOX",
        "o3sc6FA2LQOY",
        "2tsXkTlyLQOY",
        "a7Ah9wxfLQOZ",
        "vtLlDvAZLQOb",
        "7QMM5CZALQOb",
        "beuLIPxMpRxQ",
        "XFRLYQbepRxQ",
        "v_uSlLCapRxR",
        "hER0KXXapRxS",
        "4oxzuTe_Yghi",
        "nQ5ndyGcAxuk",
        "mSQXzuOLAxuk",
        "kQrpFdl2Axul",
        "vQ6fv-FGAxun",
        "4Vjw9UM9Axun",
        "wSiyWi1FAxun",
        "bzjGO22mAxuo",
        "wax67VvcAxup"
      ],
      "provenance": []
    },
    "kernelspec": {
      "display_name": "Python 3 (ipykernel)",
      "language": "python",
      "name": "python3"
    },
    "language_info": {
      "codemirror_mode": {
        "name": "ipython",
        "version": 3
      },
      "file_extension": ".py",
      "mimetype": "text/x-python",
      "name": "python",
      "nbconvert_exporter": "python",
      "pygments_lexer": "ipython3",
      "version": "3.10.4"
    }
  },
  "nbformat": 4,
  "nbformat_minor": 0
}