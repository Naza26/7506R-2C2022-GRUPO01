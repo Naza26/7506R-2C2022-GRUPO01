{
 "cells": [
  {
   "cell_type": "markdown",
   "source": [
    "# 7506 - Trabajo práctico 1\n"
   ],
   "metadata": {
    "collapsed": false,
    "pycharm": {
     "name": "#%% md\n"
    }
   }
  },
  {
   "cell_type": "markdown",
   "source": [
    "##### Librerías"
   ],
   "metadata": {
    "collapsed": false,
    "pycharm": {
     "name": "#%% md\n"
    }
   }
  },
  {
   "cell_type": "code",
   "execution_count": 2,
   "metadata": {
    "collapsed": true,
    "pycharm": {
     "name": "#%%\n"
    }
   },
   "outputs": [],
   "source": [
    "import pandas as pd\n",
    "import numpy as np\n",
    "import matplotlib.pyplot as plt\n",
    "import seaborn as sns\n",
    "import geopandas as gpd\n",
    "\n",
    "import warnings\n",
    "\n",
    "warnings.simplefilter(action='ignore', category=FutureWarning)\n",
    "warnings.simplefilter(action='ignore', category=UserWarning)"
   ]
  },
  {
   "cell_type": "code",
   "execution_count": 3,
   "outputs": [],
   "source": [
    "complete_dataset = pd.read_csv(\"./datasets/properati_argentina_2021.csv\")\n",
    "df = complete_dataset.copy()"
   ],
   "metadata": {
    "collapsed": false,
    "pycharm": {
     "name": "#%%\n"
    }
   }
  },
  {
   "cell_type": "markdown",
   "source": [
    "# Analisis Exploratorio del Dataset"
   ],
   "metadata": {
    "collapsed": false,
    "pycharm": {
     "name": "#%% md\n"
    }
   }
  },
  {
   "cell_type": "markdown",
   "source": [
    "**Primeras 5 observaciones**"
   ],
   "metadata": {
    "collapsed": false,
    "pycharm": {
     "name": "#%% md\n"
    }
   }
  },
  {
   "cell_type": "code",
   "execution_count": 4,
   "outputs": [
    {
     "data": {
      "text/plain": "                         id  start_date    end_date  created_on    latitud  \\\n0  XZq2dFGxBiboHY3Bo/tqlw==  2021-09-09  2022-01-27  2021-09-09 -38.957632   \n1  8afoK+yMH/rnnlYiktwgNA==  2021-09-09  2021-10-23  2021-09-09 -34.888878   \n2  iVaG5rBB47dd1Ya4BMXREA==  2021-09-09  2022-03-09  2021-09-09 -32.488717   \n3  QE1QVMWKAHWkd0qT0FtPWA==  2021-09-09  2022-01-27  2021-09-09 -34.900165   \n4  tJ5lSk7IysG/71OGhacNZA==  2021-09-09  2022-01-27  2021-09-09 -38.954528   \n\n    longitud    place_l2 place_l3 place_l4 place_l5  place_l6 operation  \\\n0 -68.105443     Neuquén      NaN      NaN      NaN       NaN     Venta   \n1 -56.092368  Montevideo      NaN      NaN      NaN       NaN     Venta   \n2 -58.257499  Entre Ríos      NaN      NaN      NaN       NaN     Venta   \n3 -54.808453   Maldonado      NaN      NaN      NaN       NaN     Venta   \n4 -68.041862     Neuquén      NaN      NaN      NaN       NaN     Venta   \n\n  property_type  property_rooms  property_bedrooms  property_surface_total  \\\n0          Casa             6.0                NaN                     NaN   \n1          Casa             4.0                3.0                   193.0   \n2          Casa             NaN                NaN                   110.0   \n3          Casa             NaN                3.0                     NaN   \n4            PH             3.0                2.0                     NaN   \n\n   property_surface_covered  property_price property_currency  \\\n0                     206.0             NaN               NaN   \n1                     193.0        390000.0               USD   \n2                      45.0         47000.0               USD   \n3                     180.0        400000.0               USD   \n4                      98.0        102000.0               USD   \n\n       property_title  \n0      Casa - Capital  \n1       Casa - Malvín  \n2      Casa - Uruguay  \n3    Casa - El Chorro  \n4  PH - Villa Farrell  ",
      "text/html": "<div>\n<style scoped>\n    .dataframe tbody tr th:only-of-type {\n        vertical-align: middle;\n    }\n\n    .dataframe tbody tr th {\n        vertical-align: top;\n    }\n\n    .dataframe thead th {\n        text-align: right;\n    }\n</style>\n<table border=\"1\" class=\"dataframe\">\n  <thead>\n    <tr style=\"text-align: right;\">\n      <th></th>\n      <th>id</th>\n      <th>start_date</th>\n      <th>end_date</th>\n      <th>created_on</th>\n      <th>latitud</th>\n      <th>longitud</th>\n      <th>place_l2</th>\n      <th>place_l3</th>\n      <th>place_l4</th>\n      <th>place_l5</th>\n      <th>place_l6</th>\n      <th>operation</th>\n      <th>property_type</th>\n      <th>property_rooms</th>\n      <th>property_bedrooms</th>\n      <th>property_surface_total</th>\n      <th>property_surface_covered</th>\n      <th>property_price</th>\n      <th>property_currency</th>\n      <th>property_title</th>\n    </tr>\n  </thead>\n  <tbody>\n    <tr>\n      <th>0</th>\n      <td>XZq2dFGxBiboHY3Bo/tqlw==</td>\n      <td>2021-09-09</td>\n      <td>2022-01-27</td>\n      <td>2021-09-09</td>\n      <td>-38.957632</td>\n      <td>-68.105443</td>\n      <td>Neuquén</td>\n      <td>NaN</td>\n      <td>NaN</td>\n      <td>NaN</td>\n      <td>NaN</td>\n      <td>Venta</td>\n      <td>Casa</td>\n      <td>6.0</td>\n      <td>NaN</td>\n      <td>NaN</td>\n      <td>206.0</td>\n      <td>NaN</td>\n      <td>NaN</td>\n      <td>Casa - Capital</td>\n    </tr>\n    <tr>\n      <th>1</th>\n      <td>8afoK+yMH/rnnlYiktwgNA==</td>\n      <td>2021-09-09</td>\n      <td>2021-10-23</td>\n      <td>2021-09-09</td>\n      <td>-34.888878</td>\n      <td>-56.092368</td>\n      <td>Montevideo</td>\n      <td>NaN</td>\n      <td>NaN</td>\n      <td>NaN</td>\n      <td>NaN</td>\n      <td>Venta</td>\n      <td>Casa</td>\n      <td>4.0</td>\n      <td>3.0</td>\n      <td>193.0</td>\n      <td>193.0</td>\n      <td>390000.0</td>\n      <td>USD</td>\n      <td>Casa - Malvín</td>\n    </tr>\n    <tr>\n      <th>2</th>\n      <td>iVaG5rBB47dd1Ya4BMXREA==</td>\n      <td>2021-09-09</td>\n      <td>2022-03-09</td>\n      <td>2021-09-09</td>\n      <td>-32.488717</td>\n      <td>-58.257499</td>\n      <td>Entre Ríos</td>\n      <td>NaN</td>\n      <td>NaN</td>\n      <td>NaN</td>\n      <td>NaN</td>\n      <td>Venta</td>\n      <td>Casa</td>\n      <td>NaN</td>\n      <td>NaN</td>\n      <td>110.0</td>\n      <td>45.0</td>\n      <td>47000.0</td>\n      <td>USD</td>\n      <td>Casa - Uruguay</td>\n    </tr>\n    <tr>\n      <th>3</th>\n      <td>QE1QVMWKAHWkd0qT0FtPWA==</td>\n      <td>2021-09-09</td>\n      <td>2022-01-27</td>\n      <td>2021-09-09</td>\n      <td>-34.900165</td>\n      <td>-54.808453</td>\n      <td>Maldonado</td>\n      <td>NaN</td>\n      <td>NaN</td>\n      <td>NaN</td>\n      <td>NaN</td>\n      <td>Venta</td>\n      <td>Casa</td>\n      <td>NaN</td>\n      <td>3.0</td>\n      <td>NaN</td>\n      <td>180.0</td>\n      <td>400000.0</td>\n      <td>USD</td>\n      <td>Casa - El Chorro</td>\n    </tr>\n    <tr>\n      <th>4</th>\n      <td>tJ5lSk7IysG/71OGhacNZA==</td>\n      <td>2021-09-09</td>\n      <td>2022-01-27</td>\n      <td>2021-09-09</td>\n      <td>-38.954528</td>\n      <td>-68.041862</td>\n      <td>Neuquén</td>\n      <td>NaN</td>\n      <td>NaN</td>\n      <td>NaN</td>\n      <td>NaN</td>\n      <td>Venta</td>\n      <td>PH</td>\n      <td>3.0</td>\n      <td>2.0</td>\n      <td>NaN</td>\n      <td>98.0</td>\n      <td>102000.0</td>\n      <td>USD</td>\n      <td>PH - Villa Farrell</td>\n    </tr>\n  </tbody>\n</table>\n</div>"
     },
     "execution_count": 4,
     "metadata": {},
     "output_type": "execute_result"
    }
   ],
   "source": [
    "df.head()"
   ],
   "metadata": {
    "collapsed": false,
    "pycharm": {
     "name": "#%%\n"
    }
   }
  },
  {
   "cell_type": "markdown",
   "source": [
    "**Ultimas 5 observaciones**"
   ],
   "metadata": {
    "collapsed": false,
    "pycharm": {
     "name": "#%% md\n"
    }
   }
  },
  {
   "cell_type": "code",
   "execution_count": 5,
   "outputs": [
    {
     "data": {
      "text/plain": "                              id  start_date    end_date  created_on  \\\n460149  EWHC/xcODFkeEA0+pPE6Rw==  2021-01-05  2021-01-08  2021-01-05   \n460150  txKUq0LjMaORjJQeeqTOfw==  2021-01-05  2021-11-01  2021-01-05   \n460151  E0zwHT18DX8AxhU22hXgng==  2021-01-05  2021-03-01  2021-01-05   \n460152  Ec4Tvy/WX5f6RgfaJf2FHQ==  2021-01-05  2021-11-28  2021-01-05   \n460153  Y7KBafQ+e5noGh2Pio0xLg==  2021-01-05  9999-12-31  2021-01-05   \n\n          latitud   longitud                  place_l2               place_l3  \\\n460149 -34.599594 -58.588715  Bs.As. G.B.A. Zona Oeste        Tres de Febrero   \n460150 -34.582777 -58.545220  Bs.As. G.B.A. Zona Norte     General San Martín   \n460151        NaN        NaN  Bs.As. G.B.A. Zona Norte     General San Martín   \n460152 -33.226234 -60.331848                  Santa Fe     Villa Constitución   \n460153 -26.827938 -65.220708                   Tucumán  San Miguel de Tucumán   \n\n           place_l4 place_l5  place_l6 operation    property_type  \\\n460149          NaN      NaN       NaN     Venta  Local comercial   \n460150  Villa Lynch      NaN       NaN     Venta  Local comercial   \n460151          NaN      NaN       NaN     Venta  Local comercial   \n460152          NaN      NaN       NaN  Alquiler  Local comercial   \n460153          NaN      NaN       NaN     Venta  Local comercial   \n\n        property_rooms  property_bedrooms  property_surface_total  \\\n460149             NaN                NaN                   113.0   \n460150             NaN                NaN                 11580.0   \n460151             NaN                NaN                   915.0   \n460152             NaN                NaN                     NaN   \n460153             1.0                NaN                   243.0   \n\n        property_surface_covered  property_price property_currency  \\\n460149                     113.0        190000.0               USD   \n460150                   11580.0       3500000.0               USD   \n460151                     915.0        800000.0               USD   \n460152                      15.0             NaN               NaN   \n460153                     133.0        160000.0               USD   \n\n                                           property_title  \n460149   LOCAL COMERCIAL MAS DE 100 MTS. - Ciudad jardín-  \n460150                      Nave Industrial - Villa Lynch  \n460151  importante edificio comercial en tres plantas ...  \n460152                         Local - Villa Constitucion  \n460153                      Local - San Miguel De Tucumán  ",
      "text/html": "<div>\n<style scoped>\n    .dataframe tbody tr th:only-of-type {\n        vertical-align: middle;\n    }\n\n    .dataframe tbody tr th {\n        vertical-align: top;\n    }\n\n    .dataframe thead th {\n        text-align: right;\n    }\n</style>\n<table border=\"1\" class=\"dataframe\">\n  <thead>\n    <tr style=\"text-align: right;\">\n      <th></th>\n      <th>id</th>\n      <th>start_date</th>\n      <th>end_date</th>\n      <th>created_on</th>\n      <th>latitud</th>\n      <th>longitud</th>\n      <th>place_l2</th>\n      <th>place_l3</th>\n      <th>place_l4</th>\n      <th>place_l5</th>\n      <th>place_l6</th>\n      <th>operation</th>\n      <th>property_type</th>\n      <th>property_rooms</th>\n      <th>property_bedrooms</th>\n      <th>property_surface_total</th>\n      <th>property_surface_covered</th>\n      <th>property_price</th>\n      <th>property_currency</th>\n      <th>property_title</th>\n    </tr>\n  </thead>\n  <tbody>\n    <tr>\n      <th>460149</th>\n      <td>EWHC/xcODFkeEA0+pPE6Rw==</td>\n      <td>2021-01-05</td>\n      <td>2021-01-08</td>\n      <td>2021-01-05</td>\n      <td>-34.599594</td>\n      <td>-58.588715</td>\n      <td>Bs.As. G.B.A. Zona Oeste</td>\n      <td>Tres de Febrero</td>\n      <td>NaN</td>\n      <td>NaN</td>\n      <td>NaN</td>\n      <td>Venta</td>\n      <td>Local comercial</td>\n      <td>NaN</td>\n      <td>NaN</td>\n      <td>113.0</td>\n      <td>113.0</td>\n      <td>190000.0</td>\n      <td>USD</td>\n      <td>LOCAL COMERCIAL MAS DE 100 MTS. - Ciudad jardín-</td>\n    </tr>\n    <tr>\n      <th>460150</th>\n      <td>txKUq0LjMaORjJQeeqTOfw==</td>\n      <td>2021-01-05</td>\n      <td>2021-11-01</td>\n      <td>2021-01-05</td>\n      <td>-34.582777</td>\n      <td>-58.545220</td>\n      <td>Bs.As. G.B.A. Zona Norte</td>\n      <td>General San Martín</td>\n      <td>Villa Lynch</td>\n      <td>NaN</td>\n      <td>NaN</td>\n      <td>Venta</td>\n      <td>Local comercial</td>\n      <td>NaN</td>\n      <td>NaN</td>\n      <td>11580.0</td>\n      <td>11580.0</td>\n      <td>3500000.0</td>\n      <td>USD</td>\n      <td>Nave Industrial - Villa Lynch</td>\n    </tr>\n    <tr>\n      <th>460151</th>\n      <td>E0zwHT18DX8AxhU22hXgng==</td>\n      <td>2021-01-05</td>\n      <td>2021-03-01</td>\n      <td>2021-01-05</td>\n      <td>NaN</td>\n      <td>NaN</td>\n      <td>Bs.As. G.B.A. Zona Norte</td>\n      <td>General San Martín</td>\n      <td>NaN</td>\n      <td>NaN</td>\n      <td>NaN</td>\n      <td>Venta</td>\n      <td>Local comercial</td>\n      <td>NaN</td>\n      <td>NaN</td>\n      <td>915.0</td>\n      <td>915.0</td>\n      <td>800000.0</td>\n      <td>USD</td>\n      <td>importante edificio comercial en tres plantas ...</td>\n    </tr>\n    <tr>\n      <th>460152</th>\n      <td>Ec4Tvy/WX5f6RgfaJf2FHQ==</td>\n      <td>2021-01-05</td>\n      <td>2021-11-28</td>\n      <td>2021-01-05</td>\n      <td>-33.226234</td>\n      <td>-60.331848</td>\n      <td>Santa Fe</td>\n      <td>Villa Constitución</td>\n      <td>NaN</td>\n      <td>NaN</td>\n      <td>NaN</td>\n      <td>Alquiler</td>\n      <td>Local comercial</td>\n      <td>NaN</td>\n      <td>NaN</td>\n      <td>NaN</td>\n      <td>15.0</td>\n      <td>NaN</td>\n      <td>NaN</td>\n      <td>Local - Villa Constitucion</td>\n    </tr>\n    <tr>\n      <th>460153</th>\n      <td>Y7KBafQ+e5noGh2Pio0xLg==</td>\n      <td>2021-01-05</td>\n      <td>9999-12-31</td>\n      <td>2021-01-05</td>\n      <td>-26.827938</td>\n      <td>-65.220708</td>\n      <td>Tucumán</td>\n      <td>San Miguel de Tucumán</td>\n      <td>NaN</td>\n      <td>NaN</td>\n      <td>NaN</td>\n      <td>Venta</td>\n      <td>Local comercial</td>\n      <td>1.0</td>\n      <td>NaN</td>\n      <td>243.0</td>\n      <td>133.0</td>\n      <td>160000.0</td>\n      <td>USD</td>\n      <td>Local - San Miguel De Tucumán</td>\n    </tr>\n  </tbody>\n</table>\n</div>"
     },
     "execution_count": 5,
     "metadata": {},
     "output_type": "execute_result"
    }
   ],
   "source": [
    "df.tail()"
   ],
   "metadata": {
    "collapsed": false,
    "pycharm": {
     "name": "#%%\n"
    }
   }
  },
  {
   "cell_type": "code",
   "execution_count": 10,
   "outputs": [
    {
     "name": "stdout",
     "output_type": "stream",
     "text": [
      "Las variables de nuestro dataset actual son: \n",
      "id                                  object\n",
      "start_date                  datetime64[ns]\n",
      "end_date                    datetime64[ns]\n",
      "created_on                  datetime64[ns]\n",
      "latitud                            float64\n",
      "longitud                           float64\n",
      "place_l2                            object\n",
      "place_l3                            object\n",
      "place_l4                            object\n",
      "place_l5                            object\n",
      "place_l6                           float64\n",
      "operation                           object\n",
      "property_type                       object\n",
      "property_rooms                     float64\n",
      "property_bedrooms                  float64\n",
      "property_surface_total             float64\n",
      "property_surface_covered           float64\n",
      "property_price                     float64\n",
      "property_currency                   object\n",
      "property_title                      object\n",
      "dtype: object\n"
     ]
    }
   ],
   "source": [],
   "metadata": {
    "collapsed": false,
    "pycharm": {
     "name": "#%%\n"
    }
   }
  },
  {
   "cell_type": "markdown",
   "source": [
    "#### Filtrado de Dataset\n",
    "Como primer paso hay que filtrar las observaciones que su tipo de vivienda sea: Casa, PH o Departamento\n",
    "Luego filtramos la ubicacion quedandonos unicamente con las propiedades de Capital Federal.\n",
    "Luego consideraremos solo las que esten cotizadas en dolares\n",
    "Por último tomamos solo las que sean ventas"
   ],
   "metadata": {
    "collapsed": false,
    "pycharm": {
     "name": "#%% md\n"
    }
   }
  },
  {
   "cell_type": "code",
   "execution_count": 12,
   "outputs": [
    {
     "data": {
      "text/plain": "               place_l2              place_l3 property_currency property_type\n25      Capital Federal                   NaN               USD          Casa\n42      Capital Federal                  Boca               USD  Departamento\n43      Capital Federal                  Boca               USD  Departamento\n49      Capital Federal                  Once               USD  Departamento\n51      Capital Federal                 Boedo               USD            PH\n...                 ...                   ...               ...           ...\n460072  Capital Federal      Villa del Parque               USD  Departamento\n460073  Capital Federal      Villa del Parque               USD  Departamento\n460074  Capital Federal      Villa del Parque               USD  Departamento\n460075  Capital Federal      Villa del Parque               USD  Departamento\n460090  Capital Federal  Centro / Microcentro               USD  Departamento\n\n[94249 rows x 4 columns]",
      "text/html": "<div>\n<style scoped>\n    .dataframe tbody tr th:only-of-type {\n        vertical-align: middle;\n    }\n\n    .dataframe tbody tr th {\n        vertical-align: top;\n    }\n\n    .dataframe thead th {\n        text-align: right;\n    }\n</style>\n<table border=\"1\" class=\"dataframe\">\n  <thead>\n    <tr style=\"text-align: right;\">\n      <th></th>\n      <th>place_l2</th>\n      <th>place_l3</th>\n      <th>property_currency</th>\n      <th>property_type</th>\n    </tr>\n  </thead>\n  <tbody>\n    <tr>\n      <th>25</th>\n      <td>Capital Federal</td>\n      <td>NaN</td>\n      <td>USD</td>\n      <td>Casa</td>\n    </tr>\n    <tr>\n      <th>42</th>\n      <td>Capital Federal</td>\n      <td>Boca</td>\n      <td>USD</td>\n      <td>Departamento</td>\n    </tr>\n    <tr>\n      <th>43</th>\n      <td>Capital Federal</td>\n      <td>Boca</td>\n      <td>USD</td>\n      <td>Departamento</td>\n    </tr>\n    <tr>\n      <th>49</th>\n      <td>Capital Federal</td>\n      <td>Once</td>\n      <td>USD</td>\n      <td>Departamento</td>\n    </tr>\n    <tr>\n      <th>51</th>\n      <td>Capital Federal</td>\n      <td>Boedo</td>\n      <td>USD</td>\n      <td>PH</td>\n    </tr>\n    <tr>\n      <th>...</th>\n      <td>...</td>\n      <td>...</td>\n      <td>...</td>\n      <td>...</td>\n    </tr>\n    <tr>\n      <th>460072</th>\n      <td>Capital Federal</td>\n      <td>Villa del Parque</td>\n      <td>USD</td>\n      <td>Departamento</td>\n    </tr>\n    <tr>\n      <th>460073</th>\n      <td>Capital Federal</td>\n      <td>Villa del Parque</td>\n      <td>USD</td>\n      <td>Departamento</td>\n    </tr>\n    <tr>\n      <th>460074</th>\n      <td>Capital Federal</td>\n      <td>Villa del Parque</td>\n      <td>USD</td>\n      <td>Departamento</td>\n    </tr>\n    <tr>\n      <th>460075</th>\n      <td>Capital Federal</td>\n      <td>Villa del Parque</td>\n      <td>USD</td>\n      <td>Departamento</td>\n    </tr>\n    <tr>\n      <th>460090</th>\n      <td>Capital Federal</td>\n      <td>Centro / Microcentro</td>\n      <td>USD</td>\n      <td>Departamento</td>\n    </tr>\n  </tbody>\n</table>\n<p>94249 rows × 4 columns</p>\n</div>"
     },
     "execution_count": 12,
     "metadata": {},
     "output_type": "execute_result"
    }
   ],
   "source": [
    "df = df[(df.property_type == \"Casa\") | (df.property_type == \"PH\") | (df.property_type == \"Departamento\")]\n",
    "df = df[(df.place_l2 == \"Capital Federal\") | (df.place_l3 == \"Capital Federal\")]\n",
    "df = df[df.property_currency == \"USD\"]\n",
    "df = df[df.operation == \"Venta\"]\n",
    "df[[\"place_l2\", \"place_l3\", \"property_currency\", \"property_type\"]]"
   ],
   "metadata": {
    "collapsed": false,
    "pycharm": {
     "name": "#%%\n"
    }
   }
  },
  {
   "cell_type": "markdown",
   "source": [
    "## Análisis de variables"
   ],
   "metadata": {
    "collapsed": false,
    "pycharm": {
     "name": "#%% md\n"
    }
   }
  },
  {
   "cell_type": "markdown",
   "source": [
    "### Tipos de variabes"
   ],
   "metadata": {
    "collapsed": false,
    "pycharm": {
     "name": "#%% md\n"
    }
   }
  },
  {
   "cell_type": "code",
   "execution_count": 20,
   "outputs": [
    {
     "name": "stdout",
     "output_type": "stream",
     "text": [
      "Las variables de nuestro dataset actual son: \n",
      "id                                  object\n",
      "start_date                  datetime64[ns]\n",
      "end_date                    datetime64[ns]\n",
      "created_on                  datetime64[ns]\n",
      "latitud                            float64\n",
      "longitud                           float64\n",
      "place_l2                            object\n",
      "place_l3                            object\n",
      "place_l4                            object\n",
      "place_l5                            object\n",
      "place_l6                           float64\n",
      "operation                           object\n",
      "property_type                       object\n",
      "property_rooms                     float64\n",
      "property_bedrooms                  float64\n",
      "property_surface_total             float64\n",
      "property_surface_covered           float64\n",
      "property_price                     float64\n",
      "property_currency                   object\n",
      "property_title                      object\n",
      "dtype: object\n"
     ]
    }
   ],
   "source": [
    "print(f\"Las variables de nuestro dataset actual son: \\n{df.dtypes}\")\n"
   ],
   "metadata": {
    "collapsed": false,
    "pycharm": {
     "name": "#%%\n"
    }
   }
  },
  {
   "cell_type": "markdown",
   "source": [
    "### Conversion de tipo en las fechas\n"
   ],
   "metadata": {
    "collapsed": false,
    "pycharm": {
     "name": "#%% md\n"
    }
   }
  },
  {
   "cell_type": "markdown",
   "source": [
    "## TODO: Evitar el coerce y graficar % de NaN"
   ],
   "metadata": {
    "collapsed": false,
    "pycharm": {
     "name": "#%% md\n"
    }
   }
  },
  {
   "cell_type": "code",
   "execution_count": 19,
   "outputs": [
    {
     "data": {
      "text/plain": "id                                  object\nstart_date                  datetime64[ns]\nend_date                    datetime64[ns]\ncreated_on                  datetime64[ns]\nlatitud                            float64\nlongitud                           float64\nplace_l2                            object\nplace_l3                            object\nplace_l4                            object\nplace_l5                            object\nplace_l6                           float64\noperation                           object\nproperty_type                       object\nproperty_rooms                     float64\nproperty_bedrooms                  float64\nproperty_surface_total             float64\nproperty_surface_covered           float64\nproperty_price                     float64\nproperty_currency                   object\nproperty_title                      object\ndtype: object"
     },
     "execution_count": 19,
     "metadata": {},
     "output_type": "execute_result"
    }
   ],
   "source": [
    "df[[\"start_date\", \"end_date\", \"created_on\"]] = df[[\"start_date\", \"end_date\", \"created_on\"]].apply(pd.to_datetime,\n",
    "                                                                                                  errors=\"coerce\")\n",
    "df.dtypes"
   ],
   "metadata": {
    "collapsed": false,
    "pycharm": {
     "name": "#%%\n"
    }
   }
  },
  {
   "cell_type": "markdown",
   "source": [
    "### Analisis de variables cuantitativas"
   ],
   "metadata": {
    "collapsed": false,
    "pycharm": {
     "name": "#%% md\n"
    }
   }
  },
  {
   "cell_type": "code",
   "execution_count": 18,
   "outputs": [
    {
     "data": {
      "text/plain": "             latitud      longitud  place_l6  property_rooms  \\\ncount   90519.000000  90519.000000       0.0    93205.000000   \nmean      -34.591481    -58.449795       NaN        2.822799   \nstd         0.181719      0.292630       NaN        1.426148   \nmin       -53.788624    -71.471192       NaN        1.000000   \n25%       -34.615975    -58.466522       NaN        2.000000   \n50%       -34.595790    -58.439000       NaN        3.000000   \n75%       -34.577413    -58.408862       NaN        4.000000   \nmax       -24.219827    -54.133330       NaN       40.000000   \nmode      -34.541250    -58.472966       NaN        3.000000   \nmedian    -34.595790    -58.439000       NaN        3.000000   \n\n        property_bedrooms  property_surface_total  property_surface_covered  \\\ncount        83262.000000            89405.000000              90895.000000   \nmean             2.014629              109.092970                 87.931932   \nstd              1.129767              980.401976                990.927129   \nmin             -1.000000               10.000000                  1.000000   \n25%              1.000000               45.000000                 40.000000   \n50%              2.000000               65.000000                 58.000000   \n75%              3.000000              105.000000                 88.000000   \nmax             70.000000           137000.000000             217000.000000   \nmode             1.000000               50.000000                 40.000000   \nmedian           2.000000               65.000000                 58.000000   \n\n        property_price  place_l5  \ncount     9.424900e+04       NaN  \nmean      2.262382e+05       NaN  \nstd       3.186035e+05       NaN  \nmin       5.000000e+03       NaN  \n25%       9.500000e+04       NaN  \n50%       1.439000e+05       NaN  \n75%       2.370000e+05       NaN  \nmax       2.140000e+07       NaN  \nmode      1.100000e+05       NaN  \nmedian    1.439000e+05       NaN  ",
      "text/html": "<div>\n<style scoped>\n    .dataframe tbody tr th:only-of-type {\n        vertical-align: middle;\n    }\n\n    .dataframe tbody tr th {\n        vertical-align: top;\n    }\n\n    .dataframe thead th {\n        text-align: right;\n    }\n</style>\n<table border=\"1\" class=\"dataframe\">\n  <thead>\n    <tr style=\"text-align: right;\">\n      <th></th>\n      <th>latitud</th>\n      <th>longitud</th>\n      <th>place_l6</th>\n      <th>property_rooms</th>\n      <th>property_bedrooms</th>\n      <th>property_surface_total</th>\n      <th>property_surface_covered</th>\n      <th>property_price</th>\n      <th>place_l5</th>\n    </tr>\n  </thead>\n  <tbody>\n    <tr>\n      <th>count</th>\n      <td>90519.000000</td>\n      <td>90519.000000</td>\n      <td>0.0</td>\n      <td>93205.000000</td>\n      <td>83262.000000</td>\n      <td>89405.000000</td>\n      <td>90895.000000</td>\n      <td>9.424900e+04</td>\n      <td>NaN</td>\n    </tr>\n    <tr>\n      <th>mean</th>\n      <td>-34.591481</td>\n      <td>-58.449795</td>\n      <td>NaN</td>\n      <td>2.822799</td>\n      <td>2.014629</td>\n      <td>109.092970</td>\n      <td>87.931932</td>\n      <td>2.262382e+05</td>\n      <td>NaN</td>\n    </tr>\n    <tr>\n      <th>std</th>\n      <td>0.181719</td>\n      <td>0.292630</td>\n      <td>NaN</td>\n      <td>1.426148</td>\n      <td>1.129767</td>\n      <td>980.401976</td>\n      <td>990.927129</td>\n      <td>3.186035e+05</td>\n      <td>NaN</td>\n    </tr>\n    <tr>\n      <th>min</th>\n      <td>-53.788624</td>\n      <td>-71.471192</td>\n      <td>NaN</td>\n      <td>1.000000</td>\n      <td>-1.000000</td>\n      <td>10.000000</td>\n      <td>1.000000</td>\n      <td>5.000000e+03</td>\n      <td>NaN</td>\n    </tr>\n    <tr>\n      <th>25%</th>\n      <td>-34.615975</td>\n      <td>-58.466522</td>\n      <td>NaN</td>\n      <td>2.000000</td>\n      <td>1.000000</td>\n      <td>45.000000</td>\n      <td>40.000000</td>\n      <td>9.500000e+04</td>\n      <td>NaN</td>\n    </tr>\n    <tr>\n      <th>50%</th>\n      <td>-34.595790</td>\n      <td>-58.439000</td>\n      <td>NaN</td>\n      <td>3.000000</td>\n      <td>2.000000</td>\n      <td>65.000000</td>\n      <td>58.000000</td>\n      <td>1.439000e+05</td>\n      <td>NaN</td>\n    </tr>\n    <tr>\n      <th>75%</th>\n      <td>-34.577413</td>\n      <td>-58.408862</td>\n      <td>NaN</td>\n      <td>4.000000</td>\n      <td>3.000000</td>\n      <td>105.000000</td>\n      <td>88.000000</td>\n      <td>2.370000e+05</td>\n      <td>NaN</td>\n    </tr>\n    <tr>\n      <th>max</th>\n      <td>-24.219827</td>\n      <td>-54.133330</td>\n      <td>NaN</td>\n      <td>40.000000</td>\n      <td>70.000000</td>\n      <td>137000.000000</td>\n      <td>217000.000000</td>\n      <td>2.140000e+07</td>\n      <td>NaN</td>\n    </tr>\n    <tr>\n      <th>mode</th>\n      <td>-34.541250</td>\n      <td>-58.472966</td>\n      <td>NaN</td>\n      <td>3.000000</td>\n      <td>1.000000</td>\n      <td>50.000000</td>\n      <td>40.000000</td>\n      <td>1.100000e+05</td>\n      <td>NaN</td>\n    </tr>\n    <tr>\n      <th>median</th>\n      <td>-34.595790</td>\n      <td>-58.439000</td>\n      <td>NaN</td>\n      <td>3.000000</td>\n      <td>2.000000</td>\n      <td>65.000000</td>\n      <td>58.000000</td>\n      <td>1.439000e+05</td>\n      <td>NaN</td>\n    </tr>\n  </tbody>\n</table>\n</div>"
     },
     "execution_count": 18,
     "metadata": {},
     "output_type": "execute_result"
    }
   ],
   "source": [
    "description_quantitatives = df.describe()\n",
    "quantitative_mode = df[description_quantitatives.columns].mode()\n",
    "quantitative_mode.rename(index={0: \"mode\"}, inplace=True)\n",
    "description_quantitatives = description_quantitatives.append(quantitative_mode)\n",
    "description_quantitatives = description_quantitatives.append(df.median().rename(\"median\"),\n",
    "                                                             ignore_index=False)\n",
    "description_quantitatives"
   ],
   "metadata": {
    "collapsed": false,
    "pycharm": {
     "name": "#%%\n"
    }
   }
  },
  {
   "cell_type": "markdown",
   "source": [
    "## Análisis de valores faltantes"
   ],
   "metadata": {
    "collapsed": false,
    "pycharm": {
     "name": "#%% md\n"
    }
   }
  },
  {
   "cell_type": "markdown",
   "source": [
    "### Porcentaje de valores faltantes\n",
    "\n"
   ],
   "metadata": {
    "collapsed": false,
    "pycharm": {
     "name": "#%% md\n"
    }
   }
  },
  {
   "cell_type": "code",
   "execution_count": 13,
   "outputs": [
    {
     "name": "stdout",
     "output_type": "stream",
     "text": [
      "id                            0.000000\n",
      "start_date                    0.000000\n",
      "end_date                      5.348598\n",
      "created_on                    0.000000\n",
      "latitud                       3.957602\n",
      "longitud                      3.957602\n",
      "place_l2                      0.000000\n",
      "place_l3                      0.442445\n",
      "place_l4                     96.134707\n",
      "place_l5                    100.000000\n",
      "place_l6                    100.000000\n",
      "operation                     0.000000\n",
      "property_type                 0.000000\n",
      "property_rooms                1.107704\n",
      "property_bedrooms            11.657418\n",
      "property_surface_total        5.139577\n",
      "property_surface_covered      3.558658\n",
      "property_price                0.000000\n",
      "property_currency             0.000000\n",
      "property_title                0.000000\n",
      "dtype: float64\n"
     ]
    }
   ],
   "source": [
    "rows = df.shape[0]\n",
    "print(df.isna().sum() / rows * 100)"
   ],
   "metadata": {
    "collapsed": false,
    "pycharm": {
     "name": "#%%\n"
    }
   }
  },
  {
   "cell_type": "markdown",
   "source": [
    "Como podemos observar, las columnas place_l4,place_l5 y place_l6 tienen un porcentaje demasiado alto de valores faltantes (aun solo considerando que sean NaNs) por lo que se descartaran dichas columnas. Por otro lado se descartara la columna id ya que en nuestro caso no sera de utilidad"
   ],
   "metadata": {
    "collapsed": false,
    "pycharm": {
     "name": "#%% md\n"
    }
   }
  },
  {
   "cell_type": "code",
   "execution_count": 14,
   "outputs": [
    {
     "data": {
      "text/plain": "['start_date',\n 'end_date',\n 'created_on',\n 'latitud',\n 'longitud',\n 'place_l2',\n 'place_l3',\n 'operation',\n 'property_type',\n 'property_rooms',\n 'property_bedrooms',\n 'property_surface_total',\n 'property_surface_covered',\n 'property_price',\n 'property_currency',\n 'property_title']"
     },
     "execution_count": 14,
     "metadata": {},
     "output_type": "execute_result"
    }
   ],
   "source": [
    "properties_dataset = df.drop(axis=\"columns\", columns=[\"id\", \"place_l4\", \"place_l5\", \"place_l6\"])\n",
    "properties_dataset.columns.tolist()"
   ],
   "metadata": {
    "collapsed": false,
    "pycharm": {
     "name": "#%%\n"
    }
   }
  },
  {
   "cell_type": "code",
   "execution_count": 15,
   "outputs": [
    {
     "name": "stdout",
     "output_type": "stream",
     "text": [
      "Hay una cantidad de 94249 observaciones y 16 variables\n"
     ]
    }
   ],
   "source": [
    "rows, columns = properties_dataset.shape\n",
    "print(f\"Hay una cantidad de {rows} observaciones y {columns} variables\")"
   ],
   "metadata": {
    "collapsed": false,
    "pycharm": {
     "name": "#%%\n"
    }
   }
  },
  {
   "cell_type": "markdown",
   "source": [
    "## Limpieza"
   ],
   "metadata": {
    "collapsed": false,
    "pycharm": {
     "name": "#%% md\n"
    }
   }
  },
  {
   "cell_type": "markdown",
   "source": [
    "## Graficos\n"
   ],
   "metadata": {
    "collapsed": false,
    "pycharm": {
     "name": "#%% md\n"
    }
   }
  }
 ],
 "metadata": {
  "kernelspec": {
   "display_name": "Python 3",
   "language": "python",
   "name": "python3"
  },
  "language_info": {
   "codemirror_mode": {
    "name": "ipython",
    "version": 2
   },
   "file_extension": ".py",
   "mimetype": "text/x-python",
   "name": "python",
   "nbconvert_exporter": "python",
   "pygments_lexer": "ipython2",
   "version": "2.7.6"
  }
 },
 "nbformat": 4,
 "nbformat_minor": 0
}