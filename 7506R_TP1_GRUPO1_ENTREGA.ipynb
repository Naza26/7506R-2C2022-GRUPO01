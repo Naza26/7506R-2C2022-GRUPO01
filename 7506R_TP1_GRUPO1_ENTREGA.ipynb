{
  "cells": [
    {
      "cell_type": "markdown",
      "metadata": {
        "id": "2AgtT6A646OQ",
        "pycharm": {
          "name": "#%% md\n"
        }
      },
      "source": [
        "# 7506 - Trabajo práctico 1\n"
      ]
    },
    {
      "cell_type": "markdown",
      "metadata": {
        "id": "JiW5g17D46OU",
        "pycharm": {
          "name": "#%% md\n"
        },
        "tags": []
      },
      "source": [
        "##### Librerías"
      ]
    },
    {
      "cell_type": "code",
      "execution_count": 95,
      "metadata": {
        "jupyter": {
          "outputs_hidden": false
        },
        "pycharm": {
          "name": "#%%\n"
        },
        "id": "xztvC-Wz7GRD"
      },
      "outputs": [],
      "source": [
        "import pandas as pd\n",
        "from pandas.plotting import scatter_matrix\n",
        "import numpy as np\n",
        "import matplotlib.pyplot as plt\n",
        "import seaborn as sns\n",
        "#import geopandas as gpd\n",
        "\n",
        "import warnings\n",
        "\n",
        "warnings.simplefilter(action='ignore', category=FutureWarning)\n",
        "warnings.simplefilter(action='ignore', category=UserWarning)"
      ]
    },
    {
      "cell_type": "code",
      "execution_count": 96,
      "metadata": {
        "jupyter": {
          "outputs_hidden": false
        },
        "pycharm": {
          "name": "#%%\n"
        },
        "id": "ussrso6U7GRE"
      },
      "outputs": [],
      "source": [
        "from IPython.display import display, HTML\n",
        "\n",
        "\n",
        "def display_side_by_side(dfs: list, captions: list):\n",
        "    \"\"\"Display tables side by side to save vertical space\n",
        "    Input:\n",
        "        dfs: list of pandas.DataFrame\n",
        "        captions: list of table captions\n",
        "    \"\"\"\n",
        "    output = \"\"\n",
        "    combined = dict(zip(captions, dfs))\n",
        "    for caption, df in combined.items():\n",
        "        output += df.style.set_table_attributes(\"style='display:inline'\").set_caption(caption)._repr_html_()\n",
        "        output += \"\\xa0\\xa0\\xa0\"\n",
        "    display(HTML(output))"
      ]
    },
    {
      "cell_type": "code",
      "execution_count": 97,
      "metadata": {
        "jupyter": {
          "outputs_hidden": false
        },
        "pycharm": {
          "name": "#%%\n"
        },
        "id": "w2PO-zOV7GRE"
      },
      "outputs": [],
      "source": [
        "complete_dataset = pd.read_csv(\"./properati_argentina_2021.csv\")\n",
        "df = complete_dataset.copy()"
      ]
    },
    {
      "cell_type": "markdown",
      "metadata": {
        "pycharm": {
          "name": "#%% md\n"
        },
        "tags": [],
        "id": "9GZWQDps7GRF"
      },
      "source": [
        "## Análisis Exploratorio y Preprocesamiento de Datos"
      ]
    },
    {
      "cell_type": "markdown",
      "metadata": {
        "pycharm": {
          "name": "#%% md\n"
        },
        "id": "eEL5nVrK7GRF"
      },
      "source": [
        "Primero, observaremos un poco los datos que tiene el dataset"
      ]
    },
    {
      "cell_type": "markdown",
      "metadata": {
        "pycharm": {
          "name": "#%% md\n"
        },
        "id": "vpKwtAO67GRF"
      },
      "source": [
        "**Primeras 5 observaciones**"
      ]
    },
    {
      "cell_type": "code",
      "execution_count": 98,
      "metadata": {
        "jupyter": {
          "outputs_hidden": false
        },
        "pycharm": {
          "name": "#%%\n"
        },
        "colab": {
          "base_uri": "https://localhost:8080/",
          "height": 357
        },
        "id": "ERHexmCZ7GRF",
        "outputId": "01299f3c-db19-43d8-9808-7ba9622b731e"
      },
      "outputs": [
        {
          "output_type": "execute_result",
          "data": {
            "text/plain": [
              "                         id  start_date    end_date  created_on    latitud  \\\n",
              "0  XZq2dFGxBiboHY3Bo/tqlw==  2021-09-09  2022-01-27  2021-09-09 -38.957632   \n",
              "1  8afoK+yMH/rnnlYiktwgNA==  2021-09-09  2021-10-23  2021-09-09 -34.888878   \n",
              "2  iVaG5rBB47dd1Ya4BMXREA==  2021-09-09  2022-03-09  2021-09-09 -32.488717   \n",
              "3  QE1QVMWKAHWkd0qT0FtPWA==  2021-09-09  2022-01-27  2021-09-09 -34.900165   \n",
              "4  tJ5lSk7IysG/71OGhacNZA==  2021-09-09  2022-01-27  2021-09-09 -38.954528   \n",
              "\n",
              "    longitud    place_l2 place_l3 place_l4 place_l5  place_l6 operation  \\\n",
              "0 -68.105443     Neuquén      NaN      NaN      NaN       NaN     Venta   \n",
              "1 -56.092368  Montevideo      NaN      NaN      NaN       NaN     Venta   \n",
              "2 -58.257499  Entre Ríos      NaN      NaN      NaN       NaN     Venta   \n",
              "3 -54.808453   Maldonado      NaN      NaN      NaN       NaN     Venta   \n",
              "4 -68.041862     Neuquén      NaN      NaN      NaN       NaN     Venta   \n",
              "\n",
              "  property_type  property_rooms  property_bedrooms  property_surface_total  \\\n",
              "0          Casa             6.0                NaN                     NaN   \n",
              "1          Casa             4.0                3.0                   193.0   \n",
              "2          Casa             NaN                NaN                   110.0   \n",
              "3          Casa             NaN                3.0                     NaN   \n",
              "4            PH             3.0                2.0                     NaN   \n",
              "\n",
              "   property_surface_covered  property_price property_currency  \\\n",
              "0                     206.0             NaN               NaN   \n",
              "1                     193.0        390000.0               USD   \n",
              "2                      45.0         47000.0               USD   \n",
              "3                     180.0        400000.0               USD   \n",
              "4                      98.0        102000.0               USD   \n",
              "\n",
              "       property_title  \n",
              "0      Casa - Capital  \n",
              "1       Casa - Malvín  \n",
              "2      Casa - Uruguay  \n",
              "3    Casa - El Chorro  \n",
              "4  PH - Villa Farrell  "
            ],
            "text/html": [
              "\n",
              "  <div id=\"df-92fe465b-66bd-4eaa-bc78-3d2ec8118d56\">\n",
              "    <div class=\"colab-df-container\">\n",
              "      <div>\n",
              "<style scoped>\n",
              "    .dataframe tbody tr th:only-of-type {\n",
              "        vertical-align: middle;\n",
              "    }\n",
              "\n",
              "    .dataframe tbody tr th {\n",
              "        vertical-align: top;\n",
              "    }\n",
              "\n",
              "    .dataframe thead th {\n",
              "        text-align: right;\n",
              "    }\n",
              "</style>\n",
              "<table border=\"1\" class=\"dataframe\">\n",
              "  <thead>\n",
              "    <tr style=\"text-align: right;\">\n",
              "      <th></th>\n",
              "      <th>id</th>\n",
              "      <th>start_date</th>\n",
              "      <th>end_date</th>\n",
              "      <th>created_on</th>\n",
              "      <th>latitud</th>\n",
              "      <th>longitud</th>\n",
              "      <th>place_l2</th>\n",
              "      <th>place_l3</th>\n",
              "      <th>place_l4</th>\n",
              "      <th>place_l5</th>\n",
              "      <th>place_l6</th>\n",
              "      <th>operation</th>\n",
              "      <th>property_type</th>\n",
              "      <th>property_rooms</th>\n",
              "      <th>property_bedrooms</th>\n",
              "      <th>property_surface_total</th>\n",
              "      <th>property_surface_covered</th>\n",
              "      <th>property_price</th>\n",
              "      <th>property_currency</th>\n",
              "      <th>property_title</th>\n",
              "    </tr>\n",
              "  </thead>\n",
              "  <tbody>\n",
              "    <tr>\n",
              "      <th>0</th>\n",
              "      <td>XZq2dFGxBiboHY3Bo/tqlw==</td>\n",
              "      <td>2021-09-09</td>\n",
              "      <td>2022-01-27</td>\n",
              "      <td>2021-09-09</td>\n",
              "      <td>-38.957632</td>\n",
              "      <td>-68.105443</td>\n",
              "      <td>Neuquén</td>\n",
              "      <td>NaN</td>\n",
              "      <td>NaN</td>\n",
              "      <td>NaN</td>\n",
              "      <td>NaN</td>\n",
              "      <td>Venta</td>\n",
              "      <td>Casa</td>\n",
              "      <td>6.0</td>\n",
              "      <td>NaN</td>\n",
              "      <td>NaN</td>\n",
              "      <td>206.0</td>\n",
              "      <td>NaN</td>\n",
              "      <td>NaN</td>\n",
              "      <td>Casa - Capital</td>\n",
              "    </tr>\n",
              "    <tr>\n",
              "      <th>1</th>\n",
              "      <td>8afoK+yMH/rnnlYiktwgNA==</td>\n",
              "      <td>2021-09-09</td>\n",
              "      <td>2021-10-23</td>\n",
              "      <td>2021-09-09</td>\n",
              "      <td>-34.888878</td>\n",
              "      <td>-56.092368</td>\n",
              "      <td>Montevideo</td>\n",
              "      <td>NaN</td>\n",
              "      <td>NaN</td>\n",
              "      <td>NaN</td>\n",
              "      <td>NaN</td>\n",
              "      <td>Venta</td>\n",
              "      <td>Casa</td>\n",
              "      <td>4.0</td>\n",
              "      <td>3.0</td>\n",
              "      <td>193.0</td>\n",
              "      <td>193.0</td>\n",
              "      <td>390000.0</td>\n",
              "      <td>USD</td>\n",
              "      <td>Casa - Malvín</td>\n",
              "    </tr>\n",
              "    <tr>\n",
              "      <th>2</th>\n",
              "      <td>iVaG5rBB47dd1Ya4BMXREA==</td>\n",
              "      <td>2021-09-09</td>\n",
              "      <td>2022-03-09</td>\n",
              "      <td>2021-09-09</td>\n",
              "      <td>-32.488717</td>\n",
              "      <td>-58.257499</td>\n",
              "      <td>Entre Ríos</td>\n",
              "      <td>NaN</td>\n",
              "      <td>NaN</td>\n",
              "      <td>NaN</td>\n",
              "      <td>NaN</td>\n",
              "      <td>Venta</td>\n",
              "      <td>Casa</td>\n",
              "      <td>NaN</td>\n",
              "      <td>NaN</td>\n",
              "      <td>110.0</td>\n",
              "      <td>45.0</td>\n",
              "      <td>47000.0</td>\n",
              "      <td>USD</td>\n",
              "      <td>Casa - Uruguay</td>\n",
              "    </tr>\n",
              "    <tr>\n",
              "      <th>3</th>\n",
              "      <td>QE1QVMWKAHWkd0qT0FtPWA==</td>\n",
              "      <td>2021-09-09</td>\n",
              "      <td>2022-01-27</td>\n",
              "      <td>2021-09-09</td>\n",
              "      <td>-34.900165</td>\n",
              "      <td>-54.808453</td>\n",
              "      <td>Maldonado</td>\n",
              "      <td>NaN</td>\n",
              "      <td>NaN</td>\n",
              "      <td>NaN</td>\n",
              "      <td>NaN</td>\n",
              "      <td>Venta</td>\n",
              "      <td>Casa</td>\n",
              "      <td>NaN</td>\n",
              "      <td>3.0</td>\n",
              "      <td>NaN</td>\n",
              "      <td>180.0</td>\n",
              "      <td>400000.0</td>\n",
              "      <td>USD</td>\n",
              "      <td>Casa - El Chorro</td>\n",
              "    </tr>\n",
              "    <tr>\n",
              "      <th>4</th>\n",
              "      <td>tJ5lSk7IysG/71OGhacNZA==</td>\n",
              "      <td>2021-09-09</td>\n",
              "      <td>2022-01-27</td>\n",
              "      <td>2021-09-09</td>\n",
              "      <td>-38.954528</td>\n",
              "      <td>-68.041862</td>\n",
              "      <td>Neuquén</td>\n",
              "      <td>NaN</td>\n",
              "      <td>NaN</td>\n",
              "      <td>NaN</td>\n",
              "      <td>NaN</td>\n",
              "      <td>Venta</td>\n",
              "      <td>PH</td>\n",
              "      <td>3.0</td>\n",
              "      <td>2.0</td>\n",
              "      <td>NaN</td>\n",
              "      <td>98.0</td>\n",
              "      <td>102000.0</td>\n",
              "      <td>USD</td>\n",
              "      <td>PH - Villa Farrell</td>\n",
              "    </tr>\n",
              "  </tbody>\n",
              "</table>\n",
              "</div>\n",
              "      <button class=\"colab-df-convert\" onclick=\"convertToInteractive('df-92fe465b-66bd-4eaa-bc78-3d2ec8118d56')\"\n",
              "              title=\"Convert this dataframe to an interactive table.\"\n",
              "              style=\"display:none;\">\n",
              "        \n",
              "  <svg xmlns=\"http://www.w3.org/2000/svg\" height=\"24px\"viewBox=\"0 0 24 24\"\n",
              "       width=\"24px\">\n",
              "    <path d=\"M0 0h24v24H0V0z\" fill=\"none\"/>\n",
              "    <path d=\"M18.56 5.44l.94 2.06.94-2.06 2.06-.94-2.06-.94-.94-2.06-.94 2.06-2.06.94zm-11 1L8.5 8.5l.94-2.06 2.06-.94-2.06-.94L8.5 2.5l-.94 2.06-2.06.94zm10 10l.94 2.06.94-2.06 2.06-.94-2.06-.94-.94-2.06-.94 2.06-2.06.94z\"/><path d=\"M17.41 7.96l-1.37-1.37c-.4-.4-.92-.59-1.43-.59-.52 0-1.04.2-1.43.59L10.3 9.45l-7.72 7.72c-.78.78-.78 2.05 0 2.83L4 21.41c.39.39.9.59 1.41.59.51 0 1.02-.2 1.41-.59l7.78-7.78 2.81-2.81c.8-.78.8-2.07 0-2.86zM5.41 20L4 18.59l7.72-7.72 1.47 1.35L5.41 20z\"/>\n",
              "  </svg>\n",
              "      </button>\n",
              "      \n",
              "  <style>\n",
              "    .colab-df-container {\n",
              "      display:flex;\n",
              "      flex-wrap:wrap;\n",
              "      gap: 12px;\n",
              "    }\n",
              "\n",
              "    .colab-df-convert {\n",
              "      background-color: #E8F0FE;\n",
              "      border: none;\n",
              "      border-radius: 50%;\n",
              "      cursor: pointer;\n",
              "      display: none;\n",
              "      fill: #1967D2;\n",
              "      height: 32px;\n",
              "      padding: 0 0 0 0;\n",
              "      width: 32px;\n",
              "    }\n",
              "\n",
              "    .colab-df-convert:hover {\n",
              "      background-color: #E2EBFA;\n",
              "      box-shadow: 0px 1px 2px rgba(60, 64, 67, 0.3), 0px 1px 3px 1px rgba(60, 64, 67, 0.15);\n",
              "      fill: #174EA6;\n",
              "    }\n",
              "\n",
              "    [theme=dark] .colab-df-convert {\n",
              "      background-color: #3B4455;\n",
              "      fill: #D2E3FC;\n",
              "    }\n",
              "\n",
              "    [theme=dark] .colab-df-convert:hover {\n",
              "      background-color: #434B5C;\n",
              "      box-shadow: 0px 1px 3px 1px rgba(0, 0, 0, 0.15);\n",
              "      filter: drop-shadow(0px 1px 2px rgba(0, 0, 0, 0.3));\n",
              "      fill: #FFFFFF;\n",
              "    }\n",
              "  </style>\n",
              "\n",
              "      <script>\n",
              "        const buttonEl =\n",
              "          document.querySelector('#df-92fe465b-66bd-4eaa-bc78-3d2ec8118d56 button.colab-df-convert');\n",
              "        buttonEl.style.display =\n",
              "          google.colab.kernel.accessAllowed ? 'block' : 'none';\n",
              "\n",
              "        async function convertToInteractive(key) {\n",
              "          const element = document.querySelector('#df-92fe465b-66bd-4eaa-bc78-3d2ec8118d56');\n",
              "          const dataTable =\n",
              "            await google.colab.kernel.invokeFunction('convertToInteractive',\n",
              "                                                     [key], {});\n",
              "          if (!dataTable) return;\n",
              "\n",
              "          const docLinkHtml = 'Like what you see? Visit the ' +\n",
              "            '<a target=\"_blank\" href=https://colab.research.google.com/notebooks/data_table.ipynb>data table notebook</a>'\n",
              "            + ' to learn more about interactive tables.';\n",
              "          element.innerHTML = '';\n",
              "          dataTable['output_type'] = 'display_data';\n",
              "          await google.colab.output.renderOutput(dataTable, element);\n",
              "          const docLink = document.createElement('div');\n",
              "          docLink.innerHTML = docLinkHtml;\n",
              "          element.appendChild(docLink);\n",
              "        }\n",
              "      </script>\n",
              "    </div>\n",
              "  </div>\n",
              "  "
            ]
          },
          "metadata": {},
          "execution_count": 98
        }
      ],
      "source": [
        "df.head()"
      ]
    },
    {
      "cell_type": "code",
      "execution_count": 99,
      "metadata": {
        "jupyter": {
          "outputs_hidden": false
        },
        "pycharm": {
          "name": "#%%\n"
        },
        "colab": {
          "base_uri": "https://localhost:8080/"
        },
        "id": "v4HLCh0_7GRG",
        "outputId": "0d6ce65d-0417-4123-c9ea-c2e4441fd384"
      },
      "outputs": [
        {
          "output_type": "stream",
          "name": "stdout",
          "text": [
            "El dataset tiene 460154 filas y 20 columnas\n"
          ]
        }
      ],
      "source": [
        "print(f\"El dataset tiene {df.shape[0]} filas y {df.shape[1]} columnas\")"
      ]
    },
    {
      "cell_type": "code",
      "execution_count": 100,
      "metadata": {
        "jupyter": {
          "outputs_hidden": false
        },
        "pycharm": {
          "name": "#%%\n"
        },
        "colab": {
          "base_uri": "https://localhost:8080/",
          "height": 300
        },
        "id": "uUu9bxsw7GRG",
        "outputId": "7c1cc37d-f2a8-49c3-b6da-9b0919296b26"
      },
      "outputs": [
        {
          "output_type": "execute_result",
          "data": {
            "text/plain": [
              "             latitud       longitud  place_l6  property_rooms  \\\n",
              "count  419740.000000  419740.000000       0.0   368498.000000   \n",
              "mean      -34.228570     -59.557066       NaN        3.278053   \n",
              "std         3.251509       2.905129       NaN        1.870832   \n",
              "min       -54.832057    -103.219258       NaN        1.000000   \n",
              "25%       -34.640132     -58.899343       NaN        2.000000   \n",
              "50%       -34.585122     -58.488309       NaN        3.000000   \n",
              "75%       -34.423414     -58.404876       NaN        4.000000   \n",
              "max        42.557773     -35.044991       NaN       40.000000   \n",
              "\n",
              "       property_bedrooms  property_surface_total  property_surface_covered  \\\n",
              "count      344113.000000           397813.000000              4.279160e+05   \n",
              "mean            2.297960              420.601250              9.605005e+03   \n",
              "std             1.673985             4026.380748              3.440367e+06   \n",
              "min            -3.000000               -1.000000             -3.000000e+00   \n",
              "25%             1.000000               50.000000              4.500000e+01   \n",
              "50%             2.000000               90.000000              7.800000e+01   \n",
              "75%             3.000000              210.000000              1.700000e+02   \n",
              "max           390.000000           200000.000000              2.147484e+09   \n",
              "\n",
              "       property_price  \n",
              "count    4.421530e+05  \n",
              "mean     3.063273e+05  \n",
              "std      4.899613e+06  \n",
              "min      0.000000e+00  \n",
              "25%      4.490000e+04  \n",
              "50%      9.800000e+04  \n",
              "75%      1.990000e+05  \n",
              "max      1.500000e+09  "
            ],
            "text/html": [
              "\n",
              "  <div id=\"df-18b445f7-10d7-4939-8670-772f5f035448\">\n",
              "    <div class=\"colab-df-container\">\n",
              "      <div>\n",
              "<style scoped>\n",
              "    .dataframe tbody tr th:only-of-type {\n",
              "        vertical-align: middle;\n",
              "    }\n",
              "\n",
              "    .dataframe tbody tr th {\n",
              "        vertical-align: top;\n",
              "    }\n",
              "\n",
              "    .dataframe thead th {\n",
              "        text-align: right;\n",
              "    }\n",
              "</style>\n",
              "<table border=\"1\" class=\"dataframe\">\n",
              "  <thead>\n",
              "    <tr style=\"text-align: right;\">\n",
              "      <th></th>\n",
              "      <th>latitud</th>\n",
              "      <th>longitud</th>\n",
              "      <th>place_l6</th>\n",
              "      <th>property_rooms</th>\n",
              "      <th>property_bedrooms</th>\n",
              "      <th>property_surface_total</th>\n",
              "      <th>property_surface_covered</th>\n",
              "      <th>property_price</th>\n",
              "    </tr>\n",
              "  </thead>\n",
              "  <tbody>\n",
              "    <tr>\n",
              "      <th>count</th>\n",
              "      <td>419740.000000</td>\n",
              "      <td>419740.000000</td>\n",
              "      <td>0.0</td>\n",
              "      <td>368498.000000</td>\n",
              "      <td>344113.000000</td>\n",
              "      <td>397813.000000</td>\n",
              "      <td>4.279160e+05</td>\n",
              "      <td>4.421530e+05</td>\n",
              "    </tr>\n",
              "    <tr>\n",
              "      <th>mean</th>\n",
              "      <td>-34.228570</td>\n",
              "      <td>-59.557066</td>\n",
              "      <td>NaN</td>\n",
              "      <td>3.278053</td>\n",
              "      <td>2.297960</td>\n",
              "      <td>420.601250</td>\n",
              "      <td>9.605005e+03</td>\n",
              "      <td>3.063273e+05</td>\n",
              "    </tr>\n",
              "    <tr>\n",
              "      <th>std</th>\n",
              "      <td>3.251509</td>\n",
              "      <td>2.905129</td>\n",
              "      <td>NaN</td>\n",
              "      <td>1.870832</td>\n",
              "      <td>1.673985</td>\n",
              "      <td>4026.380748</td>\n",
              "      <td>3.440367e+06</td>\n",
              "      <td>4.899613e+06</td>\n",
              "    </tr>\n",
              "    <tr>\n",
              "      <th>min</th>\n",
              "      <td>-54.832057</td>\n",
              "      <td>-103.219258</td>\n",
              "      <td>NaN</td>\n",
              "      <td>1.000000</td>\n",
              "      <td>-3.000000</td>\n",
              "      <td>-1.000000</td>\n",
              "      <td>-3.000000e+00</td>\n",
              "      <td>0.000000e+00</td>\n",
              "    </tr>\n",
              "    <tr>\n",
              "      <th>25%</th>\n",
              "      <td>-34.640132</td>\n",
              "      <td>-58.899343</td>\n",
              "      <td>NaN</td>\n",
              "      <td>2.000000</td>\n",
              "      <td>1.000000</td>\n",
              "      <td>50.000000</td>\n",
              "      <td>4.500000e+01</td>\n",
              "      <td>4.490000e+04</td>\n",
              "    </tr>\n",
              "    <tr>\n",
              "      <th>50%</th>\n",
              "      <td>-34.585122</td>\n",
              "      <td>-58.488309</td>\n",
              "      <td>NaN</td>\n",
              "      <td>3.000000</td>\n",
              "      <td>2.000000</td>\n",
              "      <td>90.000000</td>\n",
              "      <td>7.800000e+01</td>\n",
              "      <td>9.800000e+04</td>\n",
              "    </tr>\n",
              "    <tr>\n",
              "      <th>75%</th>\n",
              "      <td>-34.423414</td>\n",
              "      <td>-58.404876</td>\n",
              "      <td>NaN</td>\n",
              "      <td>4.000000</td>\n",
              "      <td>3.000000</td>\n",
              "      <td>210.000000</td>\n",
              "      <td>1.700000e+02</td>\n",
              "      <td>1.990000e+05</td>\n",
              "    </tr>\n",
              "    <tr>\n",
              "      <th>max</th>\n",
              "      <td>42.557773</td>\n",
              "      <td>-35.044991</td>\n",
              "      <td>NaN</td>\n",
              "      <td>40.000000</td>\n",
              "      <td>390.000000</td>\n",
              "      <td>200000.000000</td>\n",
              "      <td>2.147484e+09</td>\n",
              "      <td>1.500000e+09</td>\n",
              "    </tr>\n",
              "  </tbody>\n",
              "</table>\n",
              "</div>\n",
              "      <button class=\"colab-df-convert\" onclick=\"convertToInteractive('df-18b445f7-10d7-4939-8670-772f5f035448')\"\n",
              "              title=\"Convert this dataframe to an interactive table.\"\n",
              "              style=\"display:none;\">\n",
              "        \n",
              "  <svg xmlns=\"http://www.w3.org/2000/svg\" height=\"24px\"viewBox=\"0 0 24 24\"\n",
              "       width=\"24px\">\n",
              "    <path d=\"M0 0h24v24H0V0z\" fill=\"none\"/>\n",
              "    <path d=\"M18.56 5.44l.94 2.06.94-2.06 2.06-.94-2.06-.94-.94-2.06-.94 2.06-2.06.94zm-11 1L8.5 8.5l.94-2.06 2.06-.94-2.06-.94L8.5 2.5l-.94 2.06-2.06.94zm10 10l.94 2.06.94-2.06 2.06-.94-2.06-.94-.94-2.06-.94 2.06-2.06.94z\"/><path d=\"M17.41 7.96l-1.37-1.37c-.4-.4-.92-.59-1.43-.59-.52 0-1.04.2-1.43.59L10.3 9.45l-7.72 7.72c-.78.78-.78 2.05 0 2.83L4 21.41c.39.39.9.59 1.41.59.51 0 1.02-.2 1.41-.59l7.78-7.78 2.81-2.81c.8-.78.8-2.07 0-2.86zM5.41 20L4 18.59l7.72-7.72 1.47 1.35L5.41 20z\"/>\n",
              "  </svg>\n",
              "      </button>\n",
              "      \n",
              "  <style>\n",
              "    .colab-df-container {\n",
              "      display:flex;\n",
              "      flex-wrap:wrap;\n",
              "      gap: 12px;\n",
              "    }\n",
              "\n",
              "    .colab-df-convert {\n",
              "      background-color: #E8F0FE;\n",
              "      border: none;\n",
              "      border-radius: 50%;\n",
              "      cursor: pointer;\n",
              "      display: none;\n",
              "      fill: #1967D2;\n",
              "      height: 32px;\n",
              "      padding: 0 0 0 0;\n",
              "      width: 32px;\n",
              "    }\n",
              "\n",
              "    .colab-df-convert:hover {\n",
              "      background-color: #E2EBFA;\n",
              "      box-shadow: 0px 1px 2px rgba(60, 64, 67, 0.3), 0px 1px 3px 1px rgba(60, 64, 67, 0.15);\n",
              "      fill: #174EA6;\n",
              "    }\n",
              "\n",
              "    [theme=dark] .colab-df-convert {\n",
              "      background-color: #3B4455;\n",
              "      fill: #D2E3FC;\n",
              "    }\n",
              "\n",
              "    [theme=dark] .colab-df-convert:hover {\n",
              "      background-color: #434B5C;\n",
              "      box-shadow: 0px 1px 3px 1px rgba(0, 0, 0, 0.15);\n",
              "      filter: drop-shadow(0px 1px 2px rgba(0, 0, 0, 0.3));\n",
              "      fill: #FFFFFF;\n",
              "    }\n",
              "  </style>\n",
              "\n",
              "      <script>\n",
              "        const buttonEl =\n",
              "          document.querySelector('#df-18b445f7-10d7-4939-8670-772f5f035448 button.colab-df-convert');\n",
              "        buttonEl.style.display =\n",
              "          google.colab.kernel.accessAllowed ? 'block' : 'none';\n",
              "\n",
              "        async function convertToInteractive(key) {\n",
              "          const element = document.querySelector('#df-18b445f7-10d7-4939-8670-772f5f035448');\n",
              "          const dataTable =\n",
              "            await google.colab.kernel.invokeFunction('convertToInteractive',\n",
              "                                                     [key], {});\n",
              "          if (!dataTable) return;\n",
              "\n",
              "          const docLinkHtml = 'Like what you see? Visit the ' +\n",
              "            '<a target=\"_blank\" href=https://colab.research.google.com/notebooks/data_table.ipynb>data table notebook</a>'\n",
              "            + ' to learn more about interactive tables.';\n",
              "          element.innerHTML = '';\n",
              "          dataTable['output_type'] = 'display_data';\n",
              "          await google.colab.output.renderOutput(dataTable, element);\n",
              "          const docLink = document.createElement('div');\n",
              "          docLink.innerHTML = docLinkHtml;\n",
              "          element.appendChild(docLink);\n",
              "        }\n",
              "      </script>\n",
              "    </div>\n",
              "  </div>\n",
              "  "
            ]
          },
          "metadata": {},
          "execution_count": 100
        }
      ],
      "source": [
        "df.describe()"
      ]
    },
    {
      "cell_type": "code",
      "execution_count": 101,
      "metadata": {
        "jupyter": {
          "outputs_hidden": false
        },
        "pycharm": {
          "name": "#%%\n"
        },
        "colab": {
          "base_uri": "https://localhost:8080/"
        },
        "id": "8vOYIqZa7GRH",
        "outputId": "f71287f6-b024-4939-cf47-99fbf6b6ffca"
      },
      "outputs": [
        {
          "output_type": "stream",
          "name": "stdout",
          "text": [
            "<class 'pandas.core.frame.DataFrame'>\n",
            "RangeIndex: 460154 entries, 0 to 460153\n",
            "Data columns (total 20 columns):\n",
            " #   Column                    Non-Null Count   Dtype  \n",
            "---  ------                    --------------   -----  \n",
            " 0   id                        460154 non-null  object \n",
            " 1   start_date                460154 non-null  object \n",
            " 2   end_date                  460154 non-null  object \n",
            " 3   created_on                460154 non-null  object \n",
            " 4   latitud                   419740 non-null  float64\n",
            " 5   longitud                  419740 non-null  float64\n",
            " 6   place_l2                  460154 non-null  object \n",
            " 7   place_l3                  437665 non-null  object \n",
            " 8   place_l4                  139020 non-null  object \n",
            " 9   place_l5                  2430 non-null    object \n",
            " 10  place_l6                  0 non-null       float64\n",
            " 11  operation                 460154 non-null  object \n",
            " 12  property_type             460154 non-null  object \n",
            " 13  property_rooms            368498 non-null  float64\n",
            " 14  property_bedrooms         344113 non-null  float64\n",
            " 15  property_surface_total    397813 non-null  float64\n",
            " 16  property_surface_covered  427916 non-null  float64\n",
            " 17  property_price            442153 non-null  float64\n",
            " 18  property_currency         441590 non-null  object \n",
            " 19  property_title            460154 non-null  object \n",
            "dtypes: float64(8), object(12)\n",
            "memory usage: 70.2+ MB\n"
          ]
        }
      ],
      "source": [
        "df.info()"
      ]
    },
    {
      "cell_type": "code",
      "execution_count": 102,
      "metadata": {
        "jupyter": {
          "outputs_hidden": false
        },
        "pycharm": {
          "name": "#%%\n"
        },
        "colab": {
          "base_uri": "https://localhost:8080/"
        },
        "id": "6ZLlehHR7GRH",
        "outputId": "a5288670-553c-46bc-e58d-e0d88ed1fbad"
      },
      "outputs": [
        {
          "output_type": "execute_result",
          "data": {
            "text/plain": [
              "id                           object\n",
              "start_date                   object\n",
              "end_date                     object\n",
              "created_on                   object\n",
              "latitud                     float64\n",
              "longitud                    float64\n",
              "place_l2                     object\n",
              "place_l3                     object\n",
              "place_l4                     object\n",
              "place_l5                     object\n",
              "place_l6                    float64\n",
              "operation                    object\n",
              "property_type                object\n",
              "property_rooms              float64\n",
              "property_bedrooms           float64\n",
              "property_surface_total      float64\n",
              "property_surface_covered    float64\n",
              "property_price              float64\n",
              "property_currency            object\n",
              "property_title               object\n",
              "dtype: object"
            ]
          },
          "metadata": {},
          "execution_count": 102
        }
      ],
      "source": [
        "df.dtypes"
      ]
    },
    {
      "cell_type": "markdown",
      "metadata": {
        "pycharm": {
          "name": "#%% md\n"
        },
        "tags": [],
        "id": "0B-j88U17GRH"
      },
      "source": [
        "## Filtrado inicial del Dataset\n",
        "Como trabajaremos con un universo acotado de propiedades, haremos una selección inicial de las publicaciones que nos interesa analizar:\n",
        "\n",
        "Como primer paso hay que filtrar las observaciones que su tipo de vivienda sea: Casa, PH o Departamento.\n",
        "\n",
        "Luego filtramos la ubicacion quedandonos unicamente con las propiedades de Capital Federal.\n",
        "\n",
        "A continuación, consideraremos solo las que esten cotizadas en dolares.\n",
        "\n",
        "Y finalmente, tomamos solo las que sean ventas"
      ]
    },
    {
      "cell_type": "code",
      "execution_count": 103,
      "metadata": {
        "jupyter": {
          "outputs_hidden": false
        },
        "pycharm": {
          "name": "#%%\n"
        },
        "colab": {
          "base_uri": "https://localhost:8080/",
          "height": 424
        },
        "id": "-V5IqrxI7GRH",
        "outputId": "4ec17906-a2c9-4299-a291-962202c53caf"
      },
      "outputs": [
        {
          "output_type": "execute_result",
          "data": {
            "text/plain": [
              "               place_l2              place_l3 property_currency property_type  \\\n",
              "25      Capital Federal                   NaN               USD          Casa   \n",
              "42      Capital Federal                  Boca               USD  Departamento   \n",
              "43      Capital Federal                  Boca               USD  Departamento   \n",
              "49      Capital Federal                  Once               USD  Departamento   \n",
              "51      Capital Federal                 Boedo               USD            PH   \n",
              "...                 ...                   ...               ...           ...   \n",
              "460072  Capital Federal      Villa del Parque               USD  Departamento   \n",
              "460073  Capital Federal      Villa del Parque               USD  Departamento   \n",
              "460074  Capital Federal      Villa del Parque               USD  Departamento   \n",
              "460075  Capital Federal      Villa del Parque               USD  Departamento   \n",
              "460090  Capital Federal  Centro / Microcentro               USD  Departamento   \n",
              "\n",
              "       operation  \n",
              "25         Venta  \n",
              "42         Venta  \n",
              "43         Venta  \n",
              "49         Venta  \n",
              "51         Venta  \n",
              "...          ...  \n",
              "460072     Venta  \n",
              "460073     Venta  \n",
              "460074     Venta  \n",
              "460075     Venta  \n",
              "460090     Venta  \n",
              "\n",
              "[94249 rows x 5 columns]"
            ],
            "text/html": [
              "\n",
              "  <div id=\"df-ed530837-eb7e-4f9c-bded-819315fb6a79\">\n",
              "    <div class=\"colab-df-container\">\n",
              "      <div>\n",
              "<style scoped>\n",
              "    .dataframe tbody tr th:only-of-type {\n",
              "        vertical-align: middle;\n",
              "    }\n",
              "\n",
              "    .dataframe tbody tr th {\n",
              "        vertical-align: top;\n",
              "    }\n",
              "\n",
              "    .dataframe thead th {\n",
              "        text-align: right;\n",
              "    }\n",
              "</style>\n",
              "<table border=\"1\" class=\"dataframe\">\n",
              "  <thead>\n",
              "    <tr style=\"text-align: right;\">\n",
              "      <th></th>\n",
              "      <th>place_l2</th>\n",
              "      <th>place_l3</th>\n",
              "      <th>property_currency</th>\n",
              "      <th>property_type</th>\n",
              "      <th>operation</th>\n",
              "    </tr>\n",
              "  </thead>\n",
              "  <tbody>\n",
              "    <tr>\n",
              "      <th>25</th>\n",
              "      <td>Capital Federal</td>\n",
              "      <td>NaN</td>\n",
              "      <td>USD</td>\n",
              "      <td>Casa</td>\n",
              "      <td>Venta</td>\n",
              "    </tr>\n",
              "    <tr>\n",
              "      <th>42</th>\n",
              "      <td>Capital Federal</td>\n",
              "      <td>Boca</td>\n",
              "      <td>USD</td>\n",
              "      <td>Departamento</td>\n",
              "      <td>Venta</td>\n",
              "    </tr>\n",
              "    <tr>\n",
              "      <th>43</th>\n",
              "      <td>Capital Federal</td>\n",
              "      <td>Boca</td>\n",
              "      <td>USD</td>\n",
              "      <td>Departamento</td>\n",
              "      <td>Venta</td>\n",
              "    </tr>\n",
              "    <tr>\n",
              "      <th>49</th>\n",
              "      <td>Capital Federal</td>\n",
              "      <td>Once</td>\n",
              "      <td>USD</td>\n",
              "      <td>Departamento</td>\n",
              "      <td>Venta</td>\n",
              "    </tr>\n",
              "    <tr>\n",
              "      <th>51</th>\n",
              "      <td>Capital Federal</td>\n",
              "      <td>Boedo</td>\n",
              "      <td>USD</td>\n",
              "      <td>PH</td>\n",
              "      <td>Venta</td>\n",
              "    </tr>\n",
              "    <tr>\n",
              "      <th>...</th>\n",
              "      <td>...</td>\n",
              "      <td>...</td>\n",
              "      <td>...</td>\n",
              "      <td>...</td>\n",
              "      <td>...</td>\n",
              "    </tr>\n",
              "    <tr>\n",
              "      <th>460072</th>\n",
              "      <td>Capital Federal</td>\n",
              "      <td>Villa del Parque</td>\n",
              "      <td>USD</td>\n",
              "      <td>Departamento</td>\n",
              "      <td>Venta</td>\n",
              "    </tr>\n",
              "    <tr>\n",
              "      <th>460073</th>\n",
              "      <td>Capital Federal</td>\n",
              "      <td>Villa del Parque</td>\n",
              "      <td>USD</td>\n",
              "      <td>Departamento</td>\n",
              "      <td>Venta</td>\n",
              "    </tr>\n",
              "    <tr>\n",
              "      <th>460074</th>\n",
              "      <td>Capital Federal</td>\n",
              "      <td>Villa del Parque</td>\n",
              "      <td>USD</td>\n",
              "      <td>Departamento</td>\n",
              "      <td>Venta</td>\n",
              "    </tr>\n",
              "    <tr>\n",
              "      <th>460075</th>\n",
              "      <td>Capital Federal</td>\n",
              "      <td>Villa del Parque</td>\n",
              "      <td>USD</td>\n",
              "      <td>Departamento</td>\n",
              "      <td>Venta</td>\n",
              "    </tr>\n",
              "    <tr>\n",
              "      <th>460090</th>\n",
              "      <td>Capital Federal</td>\n",
              "      <td>Centro / Microcentro</td>\n",
              "      <td>USD</td>\n",
              "      <td>Departamento</td>\n",
              "      <td>Venta</td>\n",
              "    </tr>\n",
              "  </tbody>\n",
              "</table>\n",
              "<p>94249 rows × 5 columns</p>\n",
              "</div>\n",
              "      <button class=\"colab-df-convert\" onclick=\"convertToInteractive('df-ed530837-eb7e-4f9c-bded-819315fb6a79')\"\n",
              "              title=\"Convert this dataframe to an interactive table.\"\n",
              "              style=\"display:none;\">\n",
              "        \n",
              "  <svg xmlns=\"http://www.w3.org/2000/svg\" height=\"24px\"viewBox=\"0 0 24 24\"\n",
              "       width=\"24px\">\n",
              "    <path d=\"M0 0h24v24H0V0z\" fill=\"none\"/>\n",
              "    <path d=\"M18.56 5.44l.94 2.06.94-2.06 2.06-.94-2.06-.94-.94-2.06-.94 2.06-2.06.94zm-11 1L8.5 8.5l.94-2.06 2.06-.94-2.06-.94L8.5 2.5l-.94 2.06-2.06.94zm10 10l.94 2.06.94-2.06 2.06-.94-2.06-.94-.94-2.06-.94 2.06-2.06.94z\"/><path d=\"M17.41 7.96l-1.37-1.37c-.4-.4-.92-.59-1.43-.59-.52 0-1.04.2-1.43.59L10.3 9.45l-7.72 7.72c-.78.78-.78 2.05 0 2.83L4 21.41c.39.39.9.59 1.41.59.51 0 1.02-.2 1.41-.59l7.78-7.78 2.81-2.81c.8-.78.8-2.07 0-2.86zM5.41 20L4 18.59l7.72-7.72 1.47 1.35L5.41 20z\"/>\n",
              "  </svg>\n",
              "      </button>\n",
              "      \n",
              "  <style>\n",
              "    .colab-df-container {\n",
              "      display:flex;\n",
              "      flex-wrap:wrap;\n",
              "      gap: 12px;\n",
              "    }\n",
              "\n",
              "    .colab-df-convert {\n",
              "      background-color: #E8F0FE;\n",
              "      border: none;\n",
              "      border-radius: 50%;\n",
              "      cursor: pointer;\n",
              "      display: none;\n",
              "      fill: #1967D2;\n",
              "      height: 32px;\n",
              "      padding: 0 0 0 0;\n",
              "      width: 32px;\n",
              "    }\n",
              "\n",
              "    .colab-df-convert:hover {\n",
              "      background-color: #E2EBFA;\n",
              "      box-shadow: 0px 1px 2px rgba(60, 64, 67, 0.3), 0px 1px 3px 1px rgba(60, 64, 67, 0.15);\n",
              "      fill: #174EA6;\n",
              "    }\n",
              "\n",
              "    [theme=dark] .colab-df-convert {\n",
              "      background-color: #3B4455;\n",
              "      fill: #D2E3FC;\n",
              "    }\n",
              "\n",
              "    [theme=dark] .colab-df-convert:hover {\n",
              "      background-color: #434B5C;\n",
              "      box-shadow: 0px 1px 3px 1px rgba(0, 0, 0, 0.15);\n",
              "      filter: drop-shadow(0px 1px 2px rgba(0, 0, 0, 0.3));\n",
              "      fill: #FFFFFF;\n",
              "    }\n",
              "  </style>\n",
              "\n",
              "      <script>\n",
              "        const buttonEl =\n",
              "          document.querySelector('#df-ed530837-eb7e-4f9c-bded-819315fb6a79 button.colab-df-convert');\n",
              "        buttonEl.style.display =\n",
              "          google.colab.kernel.accessAllowed ? 'block' : 'none';\n",
              "\n",
              "        async function convertToInteractive(key) {\n",
              "          const element = document.querySelector('#df-ed530837-eb7e-4f9c-bded-819315fb6a79');\n",
              "          const dataTable =\n",
              "            await google.colab.kernel.invokeFunction('convertToInteractive',\n",
              "                                                     [key], {});\n",
              "          if (!dataTable) return;\n",
              "\n",
              "          const docLinkHtml = 'Like what you see? Visit the ' +\n",
              "            '<a target=\"_blank\" href=https://colab.research.google.com/notebooks/data_table.ipynb>data table notebook</a>'\n",
              "            + ' to learn more about interactive tables.';\n",
              "          element.innerHTML = '';\n",
              "          dataTable['output_type'] = 'display_data';\n",
              "          await google.colab.output.renderOutput(dataTable, element);\n",
              "          const docLink = document.createElement('div');\n",
              "          docLink.innerHTML = docLinkHtml;\n",
              "          element.appendChild(docLink);\n",
              "        }\n",
              "      </script>\n",
              "    </div>\n",
              "  </div>\n",
              "  "
            ]
          },
          "metadata": {},
          "execution_count": 103
        }
      ],
      "source": [
        "df_tipo_vivienda = df[(df.property_type == \"Casa\") | (df.property_type == \"PH\") | (df.property_type == \"Departamento\")]\n",
        "df_por_ubicacion = df_tipo_vivienda[\n",
        "    (df_tipo_vivienda.place_l2 == \"Capital Federal\") | (df_tipo_vivienda.place_l3 == \"Capital Federal\")]\n",
        "df_cotizacion_usd = df_por_ubicacion[df_por_ubicacion.property_currency == \"USD\"]\n",
        "ds_filtrado = df_cotizacion_usd[df_cotizacion_usd.operation == \"Venta\"]\n",
        "\n",
        "ds_filtrado[[\"place_l2\", \"place_l3\", \"property_currency\", \"property_type\", \"operation\"]]"
      ]
    },
    {
      "cell_type": "markdown",
      "metadata": {
        "pycharm": {
          "name": "#%% md\n"
        },
        "id": "sWNvppvS7GRI"
      },
      "source": [
        "A partir de aquí trabajaremos con el dataset filtrado (`ds_filtrado`)\n",
        "\n",
        "Analizando los tipos de dato de los campos:\n",
        "- Hay 3 campos de fecha, evaluaremos más adelante como tratarlos.\n",
        "- Tenemos latitud y longitd en su formato correcto\n",
        "- Hay una variable place_l6 que no debería ser un número, también analizaremos a que se debe.\n",
        "- La cantidad de habitaciones (rooms y bedrooms) quizás debería tener valores enteros.\n",
        "- El precio tiene un tipo correcto"
      ]
    },
    {
      "cell_type": "markdown",
      "metadata": {
        "pycharm": {
          "name": "#%% md\n"
        },
        "tags": [],
        "id": "DjQytOPx7GRI"
      },
      "source": [
        "## Exploración Inicial"
      ]
    },
    {
      "cell_type": "markdown",
      "metadata": {
        "pycharm": {
          "name": "#%% md\n"
        },
        "tags": [],
        "id": "xQ-tS-Vy7GRI"
      },
      "source": [
        "### Tipos de variable"
      ]
    },
    {
      "cell_type": "code",
      "execution_count": 104,
      "metadata": {
        "pycharm": {
          "name": "#%% md\n"
        },
        "colab": {
          "base_uri": "https://localhost:8080/"
        },
        "id": "TZvW5TxI7GRI",
        "outputId": "e40c2ae1-811d-44ee-eb1e-5d7003295923"
      },
      "outputs": [
        {
          "output_type": "execute_result",
          "data": {
            "text/plain": [
              "{'Categoricas': ['id',\n",
              "  'created_on',\n",
              "  'start_date',\n",
              "  'end_date',\n",
              "  'place_l2',\n",
              "  'place_l3',\n",
              "  'place_l4',\n",
              "  'place_l5',\n",
              "  'place_l6',\n",
              "  'operation',\n",
              "  'property_type',\n",
              "  'property_currency',\n",
              "  'property_title'],\n",
              " 'Ordinales': [],\n",
              " 'Cuantitativas Discretas': ['property_rooms',\n",
              "  'property_bedrooms',\n",
              "  'property_surface_total',\n",
              "  'property_surface_covered'],\n",
              " 'Cuantitativas Continuas': ['property_rooms',\n",
              "  'property_bedrooms',\n",
              "  'property_surface_total',\n",
              "  'property_surface_covered']}"
            ]
          },
          "metadata": {},
          "execution_count": 104
        }
      ],
      "source": [
        "# TODO: Tipos de variables\n",
        "\n",
        "# Categoricas o Cuantitivas\n",
        "    # Fechas -> Start Date y End Date\n",
        "    # Places -> l2, l3, l4, l5, l6\n",
        "    # Operacion\n",
        "    # Tipo de Propiedad\n",
        "    # Currency\n",
        "    # Property Title\n",
        "\n",
        "# Cuasicuantitativas u ordinales\n",
        "\n",
        "# Cuantitativas discretas\n",
        "    # Rooms\n",
        "    # Bedrooms\n",
        "    # Surface -> Total y Covered\n",
        "    # Price\n",
        "\n",
        "# Cuantitativas continuas\n",
        "    # Latitud y Longitud\n",
        "    \n",
        "# Que es el id y created on?\n",
        "\n",
        "categoricas = ['id','created_on','start_date', 'end_date', 'place_l2', 'place_l3', 'place_l4', 'place_l5', 'place_l6', 'operation', 'property_type', 'property_currency', 'property_title']\n",
        "cuantitativas_discretas = ['property_rooms', 'property_bedrooms', 'property_surface_total', 'property_surface_covered']\n",
        "cuantitativas_continuas = ['latitud', 'longitud']\n",
        "ordinales = []\n",
        "tipos_de_variable = {'Categoricas': categoricas, 'Ordinales': ordinales, 'Cuantitativas Discretas': cuantitativas_discretas, 'Cuantitativas Continuas': cuantitativas_discretas}\n",
        "\n",
        "cuantitativas = cuantitativas_discretas + cuantitativas_continuas\n",
        "cualitativas = categoricas + ordinales \n",
        "\n",
        "tipos_de_variable"
      ]
    },
    {
      "cell_type": "markdown",
      "metadata": {
        "pycharm": {
          "name": "#%% md\n"
        },
        "tags": [],
        "id": "cXkfMZem7GRJ"
      },
      "source": [
        "### Fechas\n"
      ]
    },
    {
      "cell_type": "code",
      "execution_count": 105,
      "metadata": {
        "jupyter": {
          "outputs_hidden": false
        },
        "pycharm": {
          "name": "#%%\n"
        },
        "colab": {
          "base_uri": "https://localhost:8080/"
        },
        "id": "vZpvSEqF7GRJ",
        "outputId": "c9eb6f6a-75cd-4be7-cbd3-b6a83d74a5aa"
      },
      "outputs": [
        {
          "output_type": "execute_result",
          "data": {
            "text/plain": [
              "start_date    0\n",
              "end_date      0\n",
              "created_on    0\n",
              "dtype: int64"
            ]
          },
          "metadata": {},
          "execution_count": 105
        }
      ],
      "source": [
        "ds_filtrado[[\"start_date\", \"end_date\", \"created_on\"]].isna().sum()"
      ]
    },
    {
      "cell_type": "code",
      "execution_count": 106,
      "metadata": {
        "jupyter": {
          "outputs_hidden": false
        },
        "pycharm": {
          "name": "#%%\n"
        },
        "colab": {
          "base_uri": "https://localhost:8080/"
        },
        "id": "jk6p1js47GRJ",
        "outputId": "e8068010-2ad8-41c0-8f07-cb6cf82c1ac4"
      },
      "outputs": [
        {
          "output_type": "execute_result",
          "data": {
            "text/plain": [
              "2021-12-16    4674\n",
              "2021-02-13    2121\n",
              "2021-11-03    1016\n",
              "2021-08-03     836\n",
              "2021-04-10     819\n",
              "              ... \n",
              "2021-11-21      18\n",
              "2021-12-19      13\n",
              "2021-01-02      12\n",
              "2021-10-24      10\n",
              "2021-11-27       1\n",
              "Name: start_date, Length: 365, dtype: int64"
            ]
          },
          "metadata": {},
          "execution_count": 106
        }
      ],
      "source": [
        "ds_filtrado[\"start_date\"].value_counts()"
      ]
    },
    {
      "cell_type": "code",
      "execution_count": 107,
      "metadata": {
        "jupyter": {
          "outputs_hidden": false
        },
        "pycharm": {
          "name": "#%%\n"
        },
        "colab": {
          "base_uri": "https://localhost:8080/"
        },
        "id": "e3u76KGQ7GRK",
        "outputId": "776c2d25-36bc-4bc5-dbd3-e53eff081b0a"
      },
      "outputs": [
        {
          "output_type": "execute_result",
          "data": {
            "text/plain": [
              "2021-06-05    12817\n",
              "2022-01-27     9287\n",
              "2022-02-09     7633\n",
              "9999-12-31     5041\n",
              "2021-03-01     1857\n",
              "              ...  \n",
              "2022-08-26        1\n",
              "2022-08-16        1\n",
              "2022-06-14        1\n",
              "2022-08-22        1\n",
              "2022-03-22        1\n",
              "Name: end_date, Length: 607, dtype: int64"
            ]
          },
          "metadata": {},
          "execution_count": 107
        }
      ],
      "source": [
        "ds_filtrado[\"end_date\"].value_counts()"
      ]
    },
    {
      "cell_type": "code",
      "execution_count": 108,
      "metadata": {
        "jupyter": {
          "outputs_hidden": false
        },
        "pycharm": {
          "name": "#%%\n"
        },
        "colab": {
          "base_uri": "https://localhost:8080/"
        },
        "id": "lOadmeLR7GRK",
        "outputId": "9a2f9f1d-1e3e-4f65-8888-7a4d89879318"
      },
      "outputs": [
        {
          "output_type": "execute_result",
          "data": {
            "text/plain": [
              "2021-12-16    4674\n",
              "2021-02-13    2121\n",
              "2021-11-03    1016\n",
              "2021-08-03     836\n",
              "2021-04-10     819\n",
              "              ... \n",
              "2021-11-21      18\n",
              "2021-12-19      13\n",
              "2021-01-02      12\n",
              "2021-10-24      10\n",
              "2021-11-27       1\n",
              "Name: created_on, Length: 365, dtype: int64"
            ]
          },
          "metadata": {},
          "execution_count": 108
        }
      ],
      "source": [
        "ds_filtrado[\"created_on\"].value_counts()"
      ]
    },
    {
      "cell_type": "markdown",
      "metadata": {
        "pycharm": {
          "name": "#%% md\n"
        },
        "id": "w-ntrOCi7GRK"
      },
      "source": [
        "Hay un valor extraño en end_date, la fecha 9999-12-31, hay 5041 apariciones de esta fecha"
      ]
    },
    {
      "cell_type": "code",
      "execution_count": 109,
      "metadata": {
        "jupyter": {
          "outputs_hidden": false
        },
        "pycharm": {
          "name": "#%%\n"
        },
        "colab": {
          "base_uri": "https://localhost:8080/"
        },
        "id": "xg54Ypqg7GRL",
        "outputId": "498df195-773f-4ec5-b98d-a716421601f0"
      },
      "outputs": [
        {
          "output_type": "execute_result",
          "data": {
            "text/plain": [
              "2021-02-09    132\n",
              "2021-06-24    122\n",
              "2021-06-30     79\n",
              "2021-02-23     74\n",
              "2021-07-21     67\n",
              "             ... \n",
              "2021-12-27      1\n",
              "2021-11-29      1\n",
              "2021-03-09      1\n",
              "2021-05-10      1\n",
              "2021-04-02      1\n",
              "Name: start_date, Length: 296, dtype: int64"
            ]
          },
          "metadata": {},
          "execution_count": 109
        }
      ],
      "source": [
        "ds_filtrado[ds_filtrado.end_date == '9999-12-31']['start_date'].value_counts()"
      ]
    },
    {
      "cell_type": "markdown",
      "metadata": {
        "pycharm": {
          "name": "#%% md\n"
        },
        "id": "_2OG4f5W7GRL"
      },
      "source": [
        "Considerando que todas las fechas son de 2021, y que el dato que falta es el del fin de la publicación (es decir, la casa esta publicada) y a fines de preservar estos datos, traeremos a consideración la duración promedio de cada publicación, calcularemos ese promedio dejando fuera los 5041 casos que presentan la fecha inválida.\n",
        "\n",
        "Tomaremos para el cálculo las fechas convertidas a datetime."
      ]
    },
    {
      "cell_type": "code",
      "execution_count": 110,
      "metadata": {
        "jupyter": {
          "outputs_hidden": false
        },
        "pycharm": {
          "name": "#%%\n"
        },
        "colab": {
          "base_uri": "https://localhost:8080/"
        },
        "id": "xoaIfVWG7GRL",
        "outputId": "c2da8653-8e5d-49be-e717-029cf5267a6a"
      },
      "outputs": [
        {
          "output_type": "execute_result",
          "data": {
            "text/plain": [
              "count                         89208\n",
              "mean     74 days 10:42:07.845036320\n",
              "std      84 days 04:14:04.193191497\n",
              "min                 0 days 00:00:00\n",
              "25%                16 days 00:00:00\n",
              "50%                51 days 00:00:00\n",
              "75%                99 days 00:00:00\n",
              "max               618 days 00:00:00\n",
              "dtype: object"
            ]
          },
          "metadata": {},
          "execution_count": 110
        }
      ],
      "source": [
        "dias = pd.to_datetime(ds_filtrado[ds_filtrado.end_date != '9999-12-31']['end_date']) - pd.to_datetime(\n",
        "    ds_filtrado[ds_filtrado.end_date != '9999-12-31']['start_date'])\n",
        "dias.describe()"
      ]
    },
    {
      "cell_type": "markdown",
      "metadata": {
        "pycharm": {
          "name": "#%% md\n"
        },
        "id": "56RPQPJj7GRL"
      },
      "source": [
        "El promedio de la duración de las publicaciones es casi de 75 días, asumiremos que las publicaciones con la fecha invalida duraron lo mismo que el promedio y tomaremos como fecha final la fecha de inicio + 75 días."
      ]
    },
    {
      "cell_type": "code",
      "execution_count": 111,
      "metadata": {
        "jupyter": {
          "outputs_hidden": false
        },
        "pycharm": {
          "name": "#%%\n"
        },
        "colab": {
          "base_uri": "https://localhost:8080/"
        },
        "id": "v_MILEGY7GRL",
        "outputId": "c45cc949-7201-41eb-c893-6df8f32f946e"
      },
      "outputs": [
        {
          "output_type": "stream",
          "name": "stderr",
          "text": [
            "/usr/local/lib/python3.7/dist-packages/pandas/core/indexing.py:1773: SettingWithCopyWarning: \n",
            "A value is trying to be set on a copy of a slice from a DataFrame.\n",
            "Try using .loc[row_indexer,col_indexer] = value instead\n",
            "\n",
            "See the caveats in the documentation: https://pandas.pydata.org/pandas-docs/stable/user_guide/indexing.html#returning-a-view-versus-a-copy\n",
            "  self._setitem_single_column(ilocs[0], value, pi)\n"
          ]
        },
        {
          "output_type": "execute_result",
          "data": {
            "text/plain": [
              "25        2021-09-26\n",
              "42        2021-09-26\n",
              "43        2021-09-28\n",
              "49        2022-01-05\n",
              "51        2022-03-09\n",
              "             ...    \n",
              "460072    2022-09-02\n",
              "460073    2021-02-17\n",
              "460074    2021-01-27\n",
              "460075    2021-01-27\n",
              "460090    2021-01-08\n",
              "Name: end_date, Length: 94249, dtype: object"
            ]
          },
          "metadata": {},
          "execution_count": 111
        }
      ],
      "source": [
        "ds_filtrado.loc[ds_filtrado.end_date == '9999-12-31', 'end_date'] = pd.to_datetime(\n",
        "    ds_filtrado[ds_filtrado.end_date == '9999-12-31']['start_date']) + dias.mean()\n",
        "ds_filtrado.end_date"
      ]
    },
    {
      "cell_type": "markdown",
      "metadata": {
        "pycharm": {
          "name": "#%% md\n"
        },
        "id": "ogReq6yS7GRM"
      },
      "source": [
        "Finalmente, como todos los valores son formatos válidos de fecha, podemos convertir sin problemas."
      ]
    },
    {
      "cell_type": "markdown",
      "metadata": {
        "pycharm": {
          "name": "#%% md\n"
        },
        "id": "Itrr6aDY7GRM"
      },
      "source": [
        "### Conversion tipo de dato"
      ]
    },
    {
      "cell_type": "code",
      "execution_count": 112,
      "metadata": {
        "jupyter": {
          "outputs_hidden": false
        },
        "pycharm": {
          "name": "#%%\n"
        },
        "colab": {
          "base_uri": "https://localhost:8080/"
        },
        "id": "RciJRbE57GRM",
        "outputId": "6428fbe7-5fae-4783-9e89-7ed81b39078b"
      },
      "outputs": [
        {
          "output_type": "execute_result",
          "data": {
            "text/plain": [
              "id                                  object\n",
              "start_date                  datetime64[ns]\n",
              "end_date                    datetime64[ns]\n",
              "created_on                  datetime64[ns]\n",
              "latitud                            float64\n",
              "longitud                           float64\n",
              "place_l2                            object\n",
              "place_l3                            object\n",
              "place_l4                            object\n",
              "place_l5                            object\n",
              "place_l6                           float64\n",
              "operation                           object\n",
              "property_type                       object\n",
              "property_rooms                     float64\n",
              "property_bedrooms                  float64\n",
              "property_surface_total             float64\n",
              "property_surface_covered           float64\n",
              "property_price                     float64\n",
              "property_currency                   object\n",
              "property_title                      object\n",
              "dtype: object"
            ]
          },
          "metadata": {},
          "execution_count": 112
        }
      ],
      "source": [
        "new_ds = ds_filtrado.copy()\n",
        "new_ds.start_date = pd.to_datetime(new_ds.start_date, infer_datetime_format=True, errors = 'coerce')\n",
        "new_ds.end_date = pd.to_datetime(new_ds.end_date, infer_datetime_format=True, errors = 'coerce')\n",
        "new_ds.created_on = pd.to_datetime(new_ds.created_on, infer_datetime_format=True, errors = 'coerce')\n",
        "ds_filtrado = new_ds.copy()\n",
        "ds_filtrado.dtypes"
      ]
    },
    {
      "cell_type": "markdown",
      "metadata": {
        "pycharm": {
          "name": "#%% md\n"
        },
        "tags": [],
        "id": "AYZ5seRB7GRM"
      },
      "source": [
        "## Variables Cuantitativas: calcular medidas de resumen: media, mediana, q1, q3, moda"
      ]
    },
    {
      "cell_type": "code",
      "execution_count": 113,
      "metadata": {
        "jupyter": {
          "outputs_hidden": false
        },
        "pycharm": {
          "name": "#%%\n"
        },
        "colab": {
          "base_uri": "https://localhost:8080/",
          "height": 363
        },
        "id": "g3RyTSTW7GRM",
        "outputId": "153d1f2a-52f5-4858-b5b4-0352f3a6e667"
      },
      "outputs": [
        {
          "output_type": "execute_result",
          "data": {
            "text/plain": [
              "        property_rooms  property_bedrooms  property_surface_total  \\\n",
              "count     93205.000000       83262.000000            89405.000000   \n",
              "mean          2.822799           2.014629              109.092970   \n",
              "std           1.426148           1.129767              980.401976   \n",
              "min           1.000000          -1.000000               10.000000   \n",
              "25%           2.000000           1.000000               45.000000   \n",
              "50%           3.000000           2.000000               65.000000   \n",
              "75%           4.000000           3.000000              105.000000   \n",
              "max          40.000000          70.000000           137000.000000   \n",
              "mode          3.000000           1.000000               50.000000   \n",
              "median        3.000000           2.000000               65.000000   \n",
              "\n",
              "        property_surface_covered       latitud      longitud  \n",
              "count               90895.000000  90519.000000  90519.000000  \n",
              "mean                   87.931932    -34.591481    -58.449795  \n",
              "std                   990.927129      0.181719      0.292630  \n",
              "min                     1.000000    -53.788624    -71.471192  \n",
              "25%                    40.000000    -34.615975    -58.466522  \n",
              "50%                    58.000000    -34.595790    -58.439000  \n",
              "75%                    88.000000    -34.577413    -58.408862  \n",
              "max                217000.000000    -24.219827    -54.133330  \n",
              "mode                   40.000000    -34.541250    -58.472966  \n",
              "median                 58.000000    -34.595790    -58.439000  "
            ],
            "text/html": [
              "\n",
              "  <div id=\"df-96eebb35-ba70-419e-9d26-85854f1daa02\">\n",
              "    <div class=\"colab-df-container\">\n",
              "      <div>\n",
              "<style scoped>\n",
              "    .dataframe tbody tr th:only-of-type {\n",
              "        vertical-align: middle;\n",
              "    }\n",
              "\n",
              "    .dataframe tbody tr th {\n",
              "        vertical-align: top;\n",
              "    }\n",
              "\n",
              "    .dataframe thead th {\n",
              "        text-align: right;\n",
              "    }\n",
              "</style>\n",
              "<table border=\"1\" class=\"dataframe\">\n",
              "  <thead>\n",
              "    <tr style=\"text-align: right;\">\n",
              "      <th></th>\n",
              "      <th>property_rooms</th>\n",
              "      <th>property_bedrooms</th>\n",
              "      <th>property_surface_total</th>\n",
              "      <th>property_surface_covered</th>\n",
              "      <th>latitud</th>\n",
              "      <th>longitud</th>\n",
              "    </tr>\n",
              "  </thead>\n",
              "  <tbody>\n",
              "    <tr>\n",
              "      <th>count</th>\n",
              "      <td>93205.000000</td>\n",
              "      <td>83262.000000</td>\n",
              "      <td>89405.000000</td>\n",
              "      <td>90895.000000</td>\n",
              "      <td>90519.000000</td>\n",
              "      <td>90519.000000</td>\n",
              "    </tr>\n",
              "    <tr>\n",
              "      <th>mean</th>\n",
              "      <td>2.822799</td>\n",
              "      <td>2.014629</td>\n",
              "      <td>109.092970</td>\n",
              "      <td>87.931932</td>\n",
              "      <td>-34.591481</td>\n",
              "      <td>-58.449795</td>\n",
              "    </tr>\n",
              "    <tr>\n",
              "      <th>std</th>\n",
              "      <td>1.426148</td>\n",
              "      <td>1.129767</td>\n",
              "      <td>980.401976</td>\n",
              "      <td>990.927129</td>\n",
              "      <td>0.181719</td>\n",
              "      <td>0.292630</td>\n",
              "    </tr>\n",
              "    <tr>\n",
              "      <th>min</th>\n",
              "      <td>1.000000</td>\n",
              "      <td>-1.000000</td>\n",
              "      <td>10.000000</td>\n",
              "      <td>1.000000</td>\n",
              "      <td>-53.788624</td>\n",
              "      <td>-71.471192</td>\n",
              "    </tr>\n",
              "    <tr>\n",
              "      <th>25%</th>\n",
              "      <td>2.000000</td>\n",
              "      <td>1.000000</td>\n",
              "      <td>45.000000</td>\n",
              "      <td>40.000000</td>\n",
              "      <td>-34.615975</td>\n",
              "      <td>-58.466522</td>\n",
              "    </tr>\n",
              "    <tr>\n",
              "      <th>50%</th>\n",
              "      <td>3.000000</td>\n",
              "      <td>2.000000</td>\n",
              "      <td>65.000000</td>\n",
              "      <td>58.000000</td>\n",
              "      <td>-34.595790</td>\n",
              "      <td>-58.439000</td>\n",
              "    </tr>\n",
              "    <tr>\n",
              "      <th>75%</th>\n",
              "      <td>4.000000</td>\n",
              "      <td>3.000000</td>\n",
              "      <td>105.000000</td>\n",
              "      <td>88.000000</td>\n",
              "      <td>-34.577413</td>\n",
              "      <td>-58.408862</td>\n",
              "    </tr>\n",
              "    <tr>\n",
              "      <th>max</th>\n",
              "      <td>40.000000</td>\n",
              "      <td>70.000000</td>\n",
              "      <td>137000.000000</td>\n",
              "      <td>217000.000000</td>\n",
              "      <td>-24.219827</td>\n",
              "      <td>-54.133330</td>\n",
              "    </tr>\n",
              "    <tr>\n",
              "      <th>mode</th>\n",
              "      <td>3.000000</td>\n",
              "      <td>1.000000</td>\n",
              "      <td>50.000000</td>\n",
              "      <td>40.000000</td>\n",
              "      <td>-34.541250</td>\n",
              "      <td>-58.472966</td>\n",
              "    </tr>\n",
              "    <tr>\n",
              "      <th>median</th>\n",
              "      <td>3.000000</td>\n",
              "      <td>2.000000</td>\n",
              "      <td>65.000000</td>\n",
              "      <td>58.000000</td>\n",
              "      <td>-34.595790</td>\n",
              "      <td>-58.439000</td>\n",
              "    </tr>\n",
              "  </tbody>\n",
              "</table>\n",
              "</div>\n",
              "      <button class=\"colab-df-convert\" onclick=\"convertToInteractive('df-96eebb35-ba70-419e-9d26-85854f1daa02')\"\n",
              "              title=\"Convert this dataframe to an interactive table.\"\n",
              "              style=\"display:none;\">\n",
              "        \n",
              "  <svg xmlns=\"http://www.w3.org/2000/svg\" height=\"24px\"viewBox=\"0 0 24 24\"\n",
              "       width=\"24px\">\n",
              "    <path d=\"M0 0h24v24H0V0z\" fill=\"none\"/>\n",
              "    <path d=\"M18.56 5.44l.94 2.06.94-2.06 2.06-.94-2.06-.94-.94-2.06-.94 2.06-2.06.94zm-11 1L8.5 8.5l.94-2.06 2.06-.94-2.06-.94L8.5 2.5l-.94 2.06-2.06.94zm10 10l.94 2.06.94-2.06 2.06-.94-2.06-.94-.94-2.06-.94 2.06-2.06.94z\"/><path d=\"M17.41 7.96l-1.37-1.37c-.4-.4-.92-.59-1.43-.59-.52 0-1.04.2-1.43.59L10.3 9.45l-7.72 7.72c-.78.78-.78 2.05 0 2.83L4 21.41c.39.39.9.59 1.41.59.51 0 1.02-.2 1.41-.59l7.78-7.78 2.81-2.81c.8-.78.8-2.07 0-2.86zM5.41 20L4 18.59l7.72-7.72 1.47 1.35L5.41 20z\"/>\n",
              "  </svg>\n",
              "      </button>\n",
              "      \n",
              "  <style>\n",
              "    .colab-df-container {\n",
              "      display:flex;\n",
              "      flex-wrap:wrap;\n",
              "      gap: 12px;\n",
              "    }\n",
              "\n",
              "    .colab-df-convert {\n",
              "      background-color: #E8F0FE;\n",
              "      border: none;\n",
              "      border-radius: 50%;\n",
              "      cursor: pointer;\n",
              "      display: none;\n",
              "      fill: #1967D2;\n",
              "      height: 32px;\n",
              "      padding: 0 0 0 0;\n",
              "      width: 32px;\n",
              "    }\n",
              "\n",
              "    .colab-df-convert:hover {\n",
              "      background-color: #E2EBFA;\n",
              "      box-shadow: 0px 1px 2px rgba(60, 64, 67, 0.3), 0px 1px 3px 1px rgba(60, 64, 67, 0.15);\n",
              "      fill: #174EA6;\n",
              "    }\n",
              "\n",
              "    [theme=dark] .colab-df-convert {\n",
              "      background-color: #3B4455;\n",
              "      fill: #D2E3FC;\n",
              "    }\n",
              "\n",
              "    [theme=dark] .colab-df-convert:hover {\n",
              "      background-color: #434B5C;\n",
              "      box-shadow: 0px 1px 3px 1px rgba(0, 0, 0, 0.15);\n",
              "      filter: drop-shadow(0px 1px 2px rgba(0, 0, 0, 0.3));\n",
              "      fill: #FFFFFF;\n",
              "    }\n",
              "  </style>\n",
              "\n",
              "      <script>\n",
              "        const buttonEl =\n",
              "          document.querySelector('#df-96eebb35-ba70-419e-9d26-85854f1daa02 button.colab-df-convert');\n",
              "        buttonEl.style.display =\n",
              "          google.colab.kernel.accessAllowed ? 'block' : 'none';\n",
              "\n",
              "        async function convertToInteractive(key) {\n",
              "          const element = document.querySelector('#df-96eebb35-ba70-419e-9d26-85854f1daa02');\n",
              "          const dataTable =\n",
              "            await google.colab.kernel.invokeFunction('convertToInteractive',\n",
              "                                                     [key], {});\n",
              "          if (!dataTable) return;\n",
              "\n",
              "          const docLinkHtml = 'Like what you see? Visit the ' +\n",
              "            '<a target=\"_blank\" href=https://colab.research.google.com/notebooks/data_table.ipynb>data table notebook</a>'\n",
              "            + ' to learn more about interactive tables.';\n",
              "          element.innerHTML = '';\n",
              "          dataTable['output_type'] = 'display_data';\n",
              "          await google.colab.output.renderOutput(dataTable, element);\n",
              "          const docLink = document.createElement('div');\n",
              "          docLink.innerHTML = docLinkHtml;\n",
              "          element.appendChild(docLink);\n",
              "        }\n",
              "      </script>\n",
              "    </div>\n",
              "  </div>\n",
              "  "
            ]
          },
          "metadata": {},
          "execution_count": 113
        }
      ],
      "source": [
        "# Variables Cuantitativas: calcular medidas de resumen: media, mediana, q1, q3, moda\n",
        "description_quantitatives = ds_filtrado[cuantitativas].describe()\n",
        "\n",
        "quantitative_mode = ds_filtrado[cuantitativas].mode()\n",
        "quantitative_mode.rename(index={0: \"mode\"}, inplace=True)\n",
        "description_quantitatives = description_quantitatives.append(quantitative_mode)\n",
        "\n",
        "quantitative_median = ds_filtrado[cuantitativas].median()\n",
        "quantitative_median.rename(\"median\", inplace=True)\n",
        "description_quantitatives = description_quantitatives.append(quantitative_median,\n",
        "                                                             ignore_index=False)\n",
        "description_quantitatives"
      ]
    },
    {
      "cell_type": "markdown",
      "metadata": {
        "pycharm": {
          "name": "#%% md\n"
        },
        "tags": [],
        "id": "YSMmrT5e7GRN"
      },
      "source": [
        "## Variables Cualitativas mostrar cantidad de valores posibles, y frecuencias de cada uno."
      ]
    },
    {
      "cell_type": "code",
      "execution_count": 114,
      "metadata": {
        "jupyter": {
          "outputs_hidden": false
        },
        "pycharm": {
          "name": "#%%\n"
        },
        "colab": {
          "base_uri": "https://localhost:8080/",
          "height": 312
        },
        "id": "o9jx5EA27GRN",
        "outputId": "d2992e64-65d2-4b87-fdee-5c3e27fbc5f8"
      },
      "outputs": [
        {
          "output_type": "display_data",
          "data": {
            "text/plain": [
              "<IPython.core.display.HTML object>"
            ],
            "text/html": [
              "<style type=\"text/css\">\n",
              "</style>\n",
              "<table id=\"T_b8d53_\" style='display:inline'>\n",
              "  <caption>id</caption>\n",
              "  <thead>\n",
              "    <tr>\n",
              "      <th class=\"blank level0\" >&nbsp;</th>\n",
              "      <th class=\"col_heading level0 col0\" >id</th>\n",
              "    </tr>\n",
              "  </thead>\n",
              "  <tbody>\n",
              "    <tr>\n",
              "      <th id=\"T_b8d53_level0_row0\" class=\"row_heading level0 row0\" >CyZu6IaZgmQYGk8jmPajCg==</th>\n",
              "      <td id=\"T_b8d53_row0_col0\" class=\"data row0 col0\" >1</td>\n",
              "    </tr>\n",
              "    <tr>\n",
              "      <th id=\"T_b8d53_level0_row1\" class=\"row_heading level0 row1\" >5cJLJV5UguhAgT9EnoFRrQ==</th>\n",
              "      <td id=\"T_b8d53_row1_col0\" class=\"data row1 col0\" >1</td>\n",
              "    </tr>\n",
              "    <tr>\n",
              "      <th id=\"T_b8d53_level0_row2\" class=\"row_heading level0 row2\" >oOSPpR03jqNujn6WI0zUMA==</th>\n",
              "      <td id=\"T_b8d53_row2_col0\" class=\"data row2 col0\" >1</td>\n",
              "    </tr>\n",
              "    <tr>\n",
              "      <th id=\"T_b8d53_level0_row3\" class=\"row_heading level0 row3\" >5pJyIiGS+7OCGRYyUvfGlQ==</th>\n",
              "      <td id=\"T_b8d53_row3_col0\" class=\"data row3 col0\" >1</td>\n",
              "    </tr>\n",
              "    <tr>\n",
              "      <th id=\"T_b8d53_level0_row4\" class=\"row_heading level0 row4\" >Uxuo4e0V5IKBaRIPDSOJRw==</th>\n",
              "      <td id=\"T_b8d53_row4_col0\" class=\"data row4 col0\" >1</td>\n",
              "    </tr>\n",
              "  </tbody>\n",
              "</table>\n",
              "   <style type=\"text/css\">\n",
              "</style>\n",
              "<table id=\"T_24782_\" style='display:inline'>\n",
              "  <caption>created_on</caption>\n",
              "  <thead>\n",
              "    <tr>\n",
              "      <th class=\"blank level0\" >&nbsp;</th>\n",
              "      <th class=\"col_heading level0 col0\" >created_on</th>\n",
              "    </tr>\n",
              "  </thead>\n",
              "  <tbody>\n",
              "    <tr>\n",
              "      <th id=\"T_24782_level0_row0\" class=\"row_heading level0 row0\" >2021-12-16 00:00:00</th>\n",
              "      <td id=\"T_24782_row0_col0\" class=\"data row0 col0\" >4674</td>\n",
              "    </tr>\n",
              "    <tr>\n",
              "      <th id=\"T_24782_level0_row1\" class=\"row_heading level0 row1\" >2021-02-13 00:00:00</th>\n",
              "      <td id=\"T_24782_row1_col0\" class=\"data row1 col0\" >2121</td>\n",
              "    </tr>\n",
              "    <tr>\n",
              "      <th id=\"T_24782_level0_row2\" class=\"row_heading level0 row2\" >2021-11-03 00:00:00</th>\n",
              "      <td id=\"T_24782_row2_col0\" class=\"data row2 col0\" >1016</td>\n",
              "    </tr>\n",
              "    <tr>\n",
              "      <th id=\"T_24782_level0_row3\" class=\"row_heading level0 row3\" >2021-08-03 00:00:00</th>\n",
              "      <td id=\"T_24782_row3_col0\" class=\"data row3 col0\" >836</td>\n",
              "    </tr>\n",
              "    <tr>\n",
              "      <th id=\"T_24782_level0_row4\" class=\"row_heading level0 row4\" >2021-04-10 00:00:00</th>\n",
              "      <td id=\"T_24782_row4_col0\" class=\"data row4 col0\" >819</td>\n",
              "    </tr>\n",
              "  </tbody>\n",
              "</table>\n",
              "   <style type=\"text/css\">\n",
              "</style>\n",
              "<table id=\"T_98d21_\" style='display:inline'>\n",
              "  <caption>start_date</caption>\n",
              "  <thead>\n",
              "    <tr>\n",
              "      <th class=\"blank level0\" >&nbsp;</th>\n",
              "      <th class=\"col_heading level0 col0\" >start_date</th>\n",
              "    </tr>\n",
              "  </thead>\n",
              "  <tbody>\n",
              "    <tr>\n",
              "      <th id=\"T_98d21_level0_row0\" class=\"row_heading level0 row0\" >2021-12-16 00:00:00</th>\n",
              "      <td id=\"T_98d21_row0_col0\" class=\"data row0 col0\" >4674</td>\n",
              "    </tr>\n",
              "    <tr>\n",
              "      <th id=\"T_98d21_level0_row1\" class=\"row_heading level0 row1\" >2021-02-13 00:00:00</th>\n",
              "      <td id=\"T_98d21_row1_col0\" class=\"data row1 col0\" >2121</td>\n",
              "    </tr>\n",
              "    <tr>\n",
              "      <th id=\"T_98d21_level0_row2\" class=\"row_heading level0 row2\" >2021-11-03 00:00:00</th>\n",
              "      <td id=\"T_98d21_row2_col0\" class=\"data row2 col0\" >1016</td>\n",
              "    </tr>\n",
              "    <tr>\n",
              "      <th id=\"T_98d21_level0_row3\" class=\"row_heading level0 row3\" >2021-08-03 00:00:00</th>\n",
              "      <td id=\"T_98d21_row3_col0\" class=\"data row3 col0\" >836</td>\n",
              "    </tr>\n",
              "    <tr>\n",
              "      <th id=\"T_98d21_level0_row4\" class=\"row_heading level0 row4\" >2021-04-10 00:00:00</th>\n",
              "      <td id=\"T_98d21_row4_col0\" class=\"data row4 col0\" >819</td>\n",
              "    </tr>\n",
              "  </tbody>\n",
              "</table>\n",
              "   <style type=\"text/css\">\n",
              "</style>\n",
              "<table id=\"T_d674b_\" style='display:inline'>\n",
              "  <caption>end_date</caption>\n",
              "  <thead>\n",
              "    <tr>\n",
              "      <th class=\"blank level0\" >&nbsp;</th>\n",
              "      <th class=\"col_heading level0 col0\" >end_date</th>\n",
              "    </tr>\n",
              "  </thead>\n",
              "  <tbody>\n",
              "    <tr>\n",
              "      <th id=\"T_d674b_level0_row0\" class=\"row_heading level0 row0\" >2021-06-05 00:00:00</th>\n",
              "      <td id=\"T_d674b_row0_col0\" class=\"data row0 col0\" >12817</td>\n",
              "    </tr>\n",
              "    <tr>\n",
              "      <th id=\"T_d674b_level0_row1\" class=\"row_heading level0 row1\" >2022-01-27 00:00:00</th>\n",
              "      <td id=\"T_d674b_row1_col0\" class=\"data row1 col0\" >9287</td>\n",
              "    </tr>\n",
              "    <tr>\n",
              "      <th id=\"T_d674b_level0_row2\" class=\"row_heading level0 row2\" >2022-02-09 00:00:00</th>\n",
              "      <td id=\"T_d674b_row2_col0\" class=\"data row2 col0\" >7633</td>\n",
              "    </tr>\n",
              "    <tr>\n",
              "      <th id=\"T_d674b_level0_row3\" class=\"row_heading level0 row3\" >2021-03-01 00:00:00</th>\n",
              "      <td id=\"T_d674b_row3_col0\" class=\"data row3 col0\" >1857</td>\n",
              "    </tr>\n",
              "    <tr>\n",
              "      <th id=\"T_d674b_level0_row4\" class=\"row_heading level0 row4\" >2021-04-15 00:00:00</th>\n",
              "      <td id=\"T_d674b_row4_col0\" class=\"data row4 col0\" >1523</td>\n",
              "    </tr>\n",
              "  </tbody>\n",
              "</table>\n",
              "   <style type=\"text/css\">\n",
              "</style>\n",
              "<table id=\"T_6112a_\" style='display:inline'>\n",
              "  <caption>place_l2</caption>\n",
              "  <thead>\n",
              "    <tr>\n",
              "      <th class=\"blank level0\" >&nbsp;</th>\n",
              "      <th class=\"col_heading level0 col0\" >place_l2</th>\n",
              "    </tr>\n",
              "  </thead>\n",
              "  <tbody>\n",
              "    <tr>\n",
              "      <th id=\"T_6112a_level0_row0\" class=\"row_heading level0 row0\" >Capital Federal</th>\n",
              "      <td id=\"T_6112a_row0_col0\" class=\"data row0 col0\" >94249</td>\n",
              "    </tr>\n",
              "  </tbody>\n",
              "</table>\n",
              "   <style type=\"text/css\">\n",
              "</style>\n",
              "<table id=\"T_12673_\" style='display:inline'>\n",
              "  <caption>place_l3</caption>\n",
              "  <thead>\n",
              "    <tr>\n",
              "      <th class=\"blank level0\" >&nbsp;</th>\n",
              "      <th class=\"col_heading level0 col0\" >place_l3</th>\n",
              "    </tr>\n",
              "  </thead>\n",
              "  <tbody>\n",
              "    <tr>\n",
              "      <th id=\"T_12673_level0_row0\" class=\"row_heading level0 row0\" >Palermo</th>\n",
              "      <td id=\"T_12673_row0_col0\" class=\"data row0 col0\" >14308</td>\n",
              "    </tr>\n",
              "    <tr>\n",
              "      <th id=\"T_12673_level0_row1\" class=\"row_heading level0 row1\" >Belgrano</th>\n",
              "      <td id=\"T_12673_row1_col0\" class=\"data row1 col0\" >8898</td>\n",
              "    </tr>\n",
              "    <tr>\n",
              "      <th id=\"T_12673_level0_row2\" class=\"row_heading level0 row2\" >Caballito</th>\n",
              "      <td id=\"T_12673_row2_col0\" class=\"data row2 col0\" >7168</td>\n",
              "    </tr>\n",
              "    <tr>\n",
              "      <th id=\"T_12673_level0_row3\" class=\"row_heading level0 row3\" >Recoleta</th>\n",
              "      <td id=\"T_12673_row3_col0\" class=\"data row3 col0\" >6282</td>\n",
              "    </tr>\n",
              "    <tr>\n",
              "      <th id=\"T_12673_level0_row4\" class=\"row_heading level0 row4\" >Villa Urquiza</th>\n",
              "      <td id=\"T_12673_row4_col0\" class=\"data row4 col0\" >4673</td>\n",
              "    </tr>\n",
              "  </tbody>\n",
              "</table>\n",
              "   <style type=\"text/css\">\n",
              "</style>\n",
              "<table id=\"T_d82d3_\" style='display:inline'>\n",
              "  <caption>place_l4</caption>\n",
              "  <thead>\n",
              "    <tr>\n",
              "      <th class=\"blank level0\" >&nbsp;</th>\n",
              "      <th class=\"col_heading level0 col0\" >place_l4</th>\n",
              "    </tr>\n",
              "  </thead>\n",
              "  <tbody>\n",
              "    <tr>\n",
              "      <th id=\"T_d82d3_level0_row0\" class=\"row_heading level0 row0\" >Palermo Hollywood</th>\n",
              "      <td id=\"T_d82d3_row0_col0\" class=\"data row0 col0\" >1576</td>\n",
              "    </tr>\n",
              "    <tr>\n",
              "      <th id=\"T_d82d3_level0_row1\" class=\"row_heading level0 row1\" >Palermo Chico</th>\n",
              "      <td id=\"T_d82d3_row1_col0\" class=\"data row1 col0\" >1092</td>\n",
              "    </tr>\n",
              "    <tr>\n",
              "      <th id=\"T_d82d3_level0_row2\" class=\"row_heading level0 row2\" >Palermo Soho</th>\n",
              "      <td id=\"T_d82d3_row2_col0\" class=\"data row2 col0\" >804</td>\n",
              "    </tr>\n",
              "    <tr>\n",
              "      <th id=\"T_d82d3_level0_row3\" class=\"row_heading level0 row3\" >Palermo Viejo</th>\n",
              "      <td id=\"T_d82d3_row3_col0\" class=\"data row3 col0\" >171</td>\n",
              "    </tr>\n",
              "  </tbody>\n",
              "</table>\n",
              "   <style type=\"text/css\">\n",
              "</style>\n",
              "<table id=\"T_b55a2_\" style='display:inline'>\n",
              "  <caption>place_l5</caption>\n",
              "  <thead>\n",
              "    <tr>\n",
              "      <th class=\"blank level0\" >&nbsp;</th>\n",
              "      <th class=\"col_heading level0 col0\" >place_l5</th>\n",
              "    </tr>\n",
              "  </thead>\n",
              "  <tbody>\n",
              "  </tbody>\n",
              "</table>\n",
              "   <style type=\"text/css\">\n",
              "</style>\n",
              "<table id=\"T_cc600_\" style='display:inline'>\n",
              "  <caption>place_l6</caption>\n",
              "  <thead>\n",
              "    <tr>\n",
              "      <th class=\"blank level0\" >&nbsp;</th>\n",
              "      <th class=\"col_heading level0 col0\" >place_l6</th>\n",
              "    </tr>\n",
              "  </thead>\n",
              "  <tbody>\n",
              "  </tbody>\n",
              "</table>\n",
              "   <style type=\"text/css\">\n",
              "</style>\n",
              "<table id=\"T_e7e1f_\" style='display:inline'>\n",
              "  <caption>operation</caption>\n",
              "  <thead>\n",
              "    <tr>\n",
              "      <th class=\"blank level0\" >&nbsp;</th>\n",
              "      <th class=\"col_heading level0 col0\" >operation</th>\n",
              "    </tr>\n",
              "  </thead>\n",
              "  <tbody>\n",
              "    <tr>\n",
              "      <th id=\"T_e7e1f_level0_row0\" class=\"row_heading level0 row0\" >Venta</th>\n",
              "      <td id=\"T_e7e1f_row0_col0\" class=\"data row0 col0\" >94249</td>\n",
              "    </tr>\n",
              "  </tbody>\n",
              "</table>\n",
              "   <style type=\"text/css\">\n",
              "</style>\n",
              "<table id=\"T_999d4_\" style='display:inline'>\n",
              "  <caption>property_type</caption>\n",
              "  <thead>\n",
              "    <tr>\n",
              "      <th class=\"blank level0\" >&nbsp;</th>\n",
              "      <th class=\"col_heading level0 col0\" >property_type</th>\n",
              "    </tr>\n",
              "  </thead>\n",
              "  <tbody>\n",
              "    <tr>\n",
              "      <th id=\"T_999d4_level0_row0\" class=\"row_heading level0 row0\" >Departamento</th>\n",
              "      <td id=\"T_999d4_row0_col0\" class=\"data row0 col0\" >80829</td>\n",
              "    </tr>\n",
              "    <tr>\n",
              "      <th id=\"T_999d4_level0_row1\" class=\"row_heading level0 row1\" >PH</th>\n",
              "      <td id=\"T_999d4_row1_col0\" class=\"data row1 col0\" >9266</td>\n",
              "    </tr>\n",
              "    <tr>\n",
              "      <th id=\"T_999d4_level0_row2\" class=\"row_heading level0 row2\" >Casa</th>\n",
              "      <td id=\"T_999d4_row2_col0\" class=\"data row2 col0\" >4154</td>\n",
              "    </tr>\n",
              "  </tbody>\n",
              "</table>\n",
              "   <style type=\"text/css\">\n",
              "</style>\n",
              "<table id=\"T_6554a_\" style='display:inline'>\n",
              "  <caption>property_currency</caption>\n",
              "  <thead>\n",
              "    <tr>\n",
              "      <th class=\"blank level0\" >&nbsp;</th>\n",
              "      <th class=\"col_heading level0 col0\" >property_currency</th>\n",
              "    </tr>\n",
              "  </thead>\n",
              "  <tbody>\n",
              "    <tr>\n",
              "      <th id=\"T_6554a_level0_row0\" class=\"row_heading level0 row0\" >USD</th>\n",
              "      <td id=\"T_6554a_row0_col0\" class=\"data row0 col0\" >94249</td>\n",
              "    </tr>\n",
              "  </tbody>\n",
              "</table>\n",
              "   <style type=\"text/css\">\n",
              "</style>\n",
              "<table id=\"T_42a5b_\" style='display:inline'>\n",
              "  <caption>property_title</caption>\n",
              "  <thead>\n",
              "    <tr>\n",
              "      <th class=\"blank level0\" >&nbsp;</th>\n",
              "      <th class=\"col_heading level0 col0\" >property_title</th>\n",
              "    </tr>\n",
              "  </thead>\n",
              "  <tbody>\n",
              "    <tr>\n",
              "      <th id=\"T_42a5b_level0_row0\" class=\"row_heading level0 row0\" >Departamento - Palermo</th>\n",
              "      <td id=\"T_42a5b_row0_col0\" class=\"data row0 col0\" >1468</td>\n",
              "    </tr>\n",
              "    <tr>\n",
              "      <th id=\"T_42a5b_level0_row1\" class=\"row_heading level0 row1\" >Departamento - Recoleta</th>\n",
              "      <td id=\"T_42a5b_row1_col0\" class=\"data row1 col0\" >1324</td>\n",
              "    </tr>\n",
              "    <tr>\n",
              "      <th id=\"T_42a5b_level0_row2\" class=\"row_heading level0 row2\" >Departamento - Belgrano</th>\n",
              "      <td id=\"T_42a5b_row2_col0\" class=\"data row2 col0\" >1113</td>\n",
              "    </tr>\n",
              "    <tr>\n",
              "      <th id=\"T_42a5b_level0_row3\" class=\"row_heading level0 row3\" >Departamento - Caballito</th>\n",
              "      <td id=\"T_42a5b_row3_col0\" class=\"data row3 col0\" >936</td>\n",
              "    </tr>\n",
              "    <tr>\n",
              "      <th id=\"T_42a5b_level0_row4\" class=\"row_heading level0 row4\" >Departamento - Almagro</th>\n",
              "      <td id=\"T_42a5b_row4_col0\" class=\"data row4 col0\" >666</td>\n",
              "    </tr>\n",
              "  </tbody>\n",
              "</table>\n",
              "   "
            ]
          },
          "metadata": {}
        }
      ],
      "source": [
        "qualitative_dataset = ds_filtrado[cualitativas]\n",
        "dfs = list(\n",
        "    pd.DataFrame(qualitative_dataset[column].value_counts().head()) for column in qualitative_dataset.columns.tolist())\n",
        "display_side_by_side(dfs, qualitative_dataset.columns.tolist())"
      ]
    },
    {
      "cell_type": "markdown",
      "metadata": {
        "pycharm": {
          "name": "#%% md\n"
        },
        "id": "ARDJ7Q-X7GRN"
      },
      "source": [
        "La tabla muestra varias cosas:\n",
        "- Hay 94249 propiedades habiendo filtrado solo las de Capital Federal, Venta y USD\n",
        "- Hay 80829 departamentos, 9266 PHs y 4154 casas\n",
        "- Hay 14308 propiedades en Palermo\n",
        "- El id de la propiedad es único y no representa nada útil para nuestro procesamiento. Parecería pasar algo similar con el título, lo analizaremos en más detalle más adelante"
      ]
    },
    {
      "cell_type": "markdown",
      "metadata": {
        "pycharm": {
          "name": "#%% md\n"
        },
        "tags": [],
        "id": "wRb16E5s7GRN"
      },
      "source": [
        "## Correlación entre variables"
      ]
    },
    {
      "cell_type": "code",
      "execution_count": 115,
      "metadata": {
        "jupyter": {
          "outputs_hidden": false
        },
        "pycharm": {
          "name": "#%%\n"
        },
        "colab": {
          "base_uri": "https://localhost:8080/",
          "height": 899
        },
        "id": "RbgxfZe87GRN",
        "outputId": "5da702d9-5890-471c-ccb9-59c3d7348682"
      },
      "outputs": [
        {
          "output_type": "display_data",
          "data": {
            "text/plain": [
              "<Figure size 1080x1080 with 36 Axes>"
            ],
            "image/png": "[encoded data removed]"
          },
          "metadata": {
            "needs_background": "light"
          }
        }
      ],
      "source": [
        "# Realizar un análisis gráfico de las distribuciones de las variables\n",
        "columns = description_quantitatives.columns.tolist()\n",
        "quantitative_dataset = ds_filtrado[columns]\n",
        "ax = scatter_matrix(quantitative_dataset, alpha=0.7, figsize=(15, 15), s=100)"
      ]
    },
    {
      "cell_type": "code",
      "execution_count": 116,
      "metadata": {
        "jupyter": {
          "outputs_hidden": false
        },
        "pycharm": {
          "name": "#%%\n"
        },
        "colab": {
          "base_uri": "https://localhost:8080/",
          "height": 238
        },
        "id": "aZdia5q07GRO",
        "outputId": "d699ced8-7ee9-40f5-f223-f61f814b3605"
      },
      "outputs": [
        {
          "output_type": "execute_result",
          "data": {
            "text/plain": [
              "                          property_rooms  property_bedrooms  \\\n",
              "property_rooms                  1.000000           0.871940   \n",
              "property_bedrooms               0.871940           1.000000   \n",
              "property_surface_total          0.067211           0.067702   \n",
              "property_surface_covered        0.076097           0.075075   \n",
              "latitud                         0.005521           0.003162   \n",
              "longitud                       -0.008324          -0.008556   \n",
              "\n",
              "                          property_surface_total  property_surface_covered  \\\n",
              "property_rooms                          0.067211                  0.076097   \n",
              "property_bedrooms                       0.067702                  0.075075   \n",
              "property_surface_total                  1.000000                  0.604311   \n",
              "property_surface_covered                0.604311                  1.000000   \n",
              "latitud                                 0.025348                  0.002352   \n",
              "longitud                               -0.015056                 -0.001155   \n",
              "\n",
              "                           latitud  longitud  \n",
              "property_rooms            0.005521 -0.008324  \n",
              "property_bedrooms         0.003162 -0.008556  \n",
              "property_surface_total    0.025348 -0.015056  \n",
              "property_surface_covered  0.002352 -0.001155  \n",
              "latitud                   1.000000 -0.239235  \n",
              "longitud                 -0.239235  1.000000  "
            ],
            "text/html": [
              "\n",
              "  <div id=\"df-40f7c3bb-d3ad-4922-afc8-b7ab62f7576d\">\n",
              "    <div class=\"colab-df-container\">\n",
              "      <div>\n",
              "<style scoped>\n",
              "    .dataframe tbody tr th:only-of-type {\n",
              "        vertical-align: middle;\n",
              "    }\n",
              "\n",
              "    .dataframe tbody tr th {\n",
              "        vertical-align: top;\n",
              "    }\n",
              "\n",
              "    .dataframe thead th {\n",
              "        text-align: right;\n",
              "    }\n",
              "</style>\n",
              "<table border=\"1\" class=\"dataframe\">\n",
              "  <thead>\n",
              "    <tr style=\"text-align: right;\">\n",
              "      <th></th>\n",
              "      <th>property_rooms</th>\n",
              "      <th>property_bedrooms</th>\n",
              "      <th>property_surface_total</th>\n",
              "      <th>property_surface_covered</th>\n",
              "      <th>latitud</th>\n",
              "      <th>longitud</th>\n",
              "    </tr>\n",
              "  </thead>\n",
              "  <tbody>\n",
              "    <tr>\n",
              "      <th>property_rooms</th>\n",
              "      <td>1.000000</td>\n",
              "      <td>0.871940</td>\n",
              "      <td>0.067211</td>\n",
              "      <td>0.076097</td>\n",
              "      <td>0.005521</td>\n",
              "      <td>-0.008324</td>\n",
              "    </tr>\n",
              "    <tr>\n",
              "      <th>property_bedrooms</th>\n",
              "      <td>0.871940</td>\n",
              "      <td>1.000000</td>\n",
              "      <td>0.067702</td>\n",
              "      <td>0.075075</td>\n",
              "      <td>0.003162</td>\n",
              "      <td>-0.008556</td>\n",
              "    </tr>\n",
              "    <tr>\n",
              "      <th>property_surface_total</th>\n",
              "      <td>0.067211</td>\n",
              "      <td>0.067702</td>\n",
              "      <td>1.000000</td>\n",
              "      <td>0.604311</td>\n",
              "      <td>0.025348</td>\n",
              "      <td>-0.015056</td>\n",
              "    </tr>\n",
              "    <tr>\n",
              "      <th>property_surface_covered</th>\n",
              "      <td>0.076097</td>\n",
              "      <td>0.075075</td>\n",
              "      <td>0.604311</td>\n",
              "      <td>1.000000</td>\n",
              "      <td>0.002352</td>\n",
              "      <td>-0.001155</td>\n",
              "    </tr>\n",
              "    <tr>\n",
              "      <th>latitud</th>\n",
              "      <td>0.005521</td>\n",
              "      <td>0.003162</td>\n",
              "      <td>0.025348</td>\n",
              "      <td>0.002352</td>\n",
              "      <td>1.000000</td>\n",
              "      <td>-0.239235</td>\n",
              "    </tr>\n",
              "    <tr>\n",
              "      <th>longitud</th>\n",
              "      <td>-0.008324</td>\n",
              "      <td>-0.008556</td>\n",
              "      <td>-0.015056</td>\n",
              "      <td>-0.001155</td>\n",
              "      <td>-0.239235</td>\n",
              "      <td>1.000000</td>\n",
              "    </tr>\n",
              "  </tbody>\n",
              "</table>\n",
              "</div>\n",
              "      <button class=\"colab-df-convert\" onclick=\"convertToInteractive('df-40f7c3bb-d3ad-4922-afc8-b7ab62f7576d')\"\n",
              "              title=\"Convert this dataframe to an interactive table.\"\n",
              "              style=\"display:none;\">\n",
              "        \n",
              "  <svg xmlns=\"http://www.w3.org/2000/svg\" height=\"24px\"viewBox=\"0 0 24 24\"\n",
              "       width=\"24px\">\n",
              "    <path d=\"M0 0h24v24H0V0z\" fill=\"none\"/>\n",
              "    <path d=\"M18.56 5.44l.94 2.06.94-2.06 2.06-.94-2.06-.94-.94-2.06-.94 2.06-2.06.94zm-11 1L8.5 8.5l.94-2.06 2.06-.94-2.06-.94L8.5 2.5l-.94 2.06-2.06.94zm10 10l.94 2.06.94-2.06 2.06-.94-2.06-.94-.94-2.06-.94 2.06-2.06.94z\"/><path d=\"M17.41 7.96l-1.37-1.37c-.4-.4-.92-.59-1.43-.59-.52 0-1.04.2-1.43.59L10.3 9.45l-7.72 7.72c-.78.78-.78 2.05 0 2.83L4 21.41c.39.39.9.59 1.41.59.51 0 1.02-.2 1.41-.59l7.78-7.78 2.81-2.81c.8-.78.8-2.07 0-2.86zM5.41 20L4 18.59l7.72-7.72 1.47 1.35L5.41 20z\"/>\n",
              "  </svg>\n",
              "      </button>\n",
              "      \n",
              "  <style>\n",
              "    .colab-df-container {\n",
              "      display:flex;\n",
              "      flex-wrap:wrap;\n",
              "      gap: 12px;\n",
              "    }\n",
              "\n",
              "    .colab-df-convert {\n",
              "      background-color: #E8F0FE;\n",
              "      border: none;\n",
              "      border-radius: 50%;\n",
              "      cursor: pointer;\n",
              "      display: none;\n",
              "      fill: #1967D2;\n",
              "      height: 32px;\n",
              "      padding: 0 0 0 0;\n",
              "      width: 32px;\n",
              "    }\n",
              "\n",
              "    .colab-df-convert:hover {\n",
              "      background-color: #E2EBFA;\n",
              "      box-shadow: 0px 1px 2px rgba(60, 64, 67, 0.3), 0px 1px 3px 1px rgba(60, 64, 67, 0.15);\n",
              "      fill: #174EA6;\n",
              "    }\n",
              "\n",
              "    [theme=dark] .colab-df-convert {\n",
              "      background-color: #3B4455;\n",
              "      fill: #D2E3FC;\n",
              "    }\n",
              "\n",
              "    [theme=dark] .colab-df-convert:hover {\n",
              "      background-color: #434B5C;\n",
              "      box-shadow: 0px 1px 3px 1px rgba(0, 0, 0, 0.15);\n",
              "      filter: drop-shadow(0px 1px 2px rgba(0, 0, 0, 0.3));\n",
              "      fill: #FFFFFF;\n",
              "    }\n",
              "  </style>\n",
              "\n",
              "      <script>\n",
              "        const buttonEl =\n",
              "          document.querySelector('#df-40f7c3bb-d3ad-4922-afc8-b7ab62f7576d button.colab-df-convert');\n",
              "        buttonEl.style.display =\n",
              "          google.colab.kernel.accessAllowed ? 'block' : 'none';\n",
              "\n",
              "        async function convertToInteractive(key) {\n",
              "          const element = document.querySelector('#df-40f7c3bb-d3ad-4922-afc8-b7ab62f7576d');\n",
              "          const dataTable =\n",
              "            await google.colab.kernel.invokeFunction('convertToInteractive',\n",
              "                                                     [key], {});\n",
              "          if (!dataTable) return;\n",
              "\n",
              "          const docLinkHtml = 'Like what you see? Visit the ' +\n",
              "            '<a target=\"_blank\" href=https://colab.research.google.com/notebooks/data_table.ipynb>data table notebook</a>'\n",
              "            + ' to learn more about interactive tables.';\n",
              "          element.innerHTML = '';\n",
              "          dataTable['output_type'] = 'display_data';\n",
              "          await google.colab.output.renderOutput(dataTable, element);\n",
              "          const docLink = document.createElement('div');\n",
              "          docLink.innerHTML = docLinkHtml;\n",
              "          element.appendChild(docLink);\n",
              "        }\n",
              "      </script>\n",
              "    </div>\n",
              "  </div>\n",
              "  "
            ]
          },
          "metadata": {},
          "execution_count": 116
        }
      ],
      "source": [
        "# Analizar las correlaciones existentes entre las variables.\n",
        "quantitative_dataset.corr()"
      ]
    },
    {
      "cell_type": "code",
      "execution_count": 117,
      "metadata": {
        "jupyter": {
          "outputs_hidden": false
        },
        "pycharm": {
          "name": "#%%\n"
        },
        "colab": {
          "base_uri": "https://localhost:8080/",
          "height": 732
        },
        "id": "vclPu7Nu7GRO",
        "outputId": "a2458898-2cb6-4369-dd8f-78013c85dbb1"
      },
      "outputs": [
        {
          "output_type": "execute_result",
          "data": {
            "text/plain": [
              "<matplotlib.axes._subplots.AxesSubplot at 0x7f0c68ad0310>"
            ]
          },
          "metadata": {},
          "execution_count": 117
        },
        {
          "output_type": "display_data",
          "data": {
            "text/plain": [
              "<Figure size 720x720 with 2 Axes>"
            ],
            "image/png": "[encoded data removed]"
          },
          "metadata": {
            "needs_background": "light"
          }
        }
      ],
      "source": [
        "# Analizar las correlaciones existentes entre las variables.\n",
        "plt.figure(figsize=(10, 10))\n",
        "sns.heatmap(quantitative_dataset.corr(), annot=True)"
      ]
    },
    {
      "cell_type": "markdown",
      "metadata": {
        "pycharm": {
          "name": "#%% md\n"
        },
        "tags": [],
        "id": "VUsjpj1a7GRO"
      },
      "source": [
        "## Análisis de valores faltantes"
      ]
    },
    {
      "cell_type": "markdown",
      "metadata": {
        "pycharm": {
          "name": "#%% md\n"
        },
        "id": "weWU3i3w7GRO"
      },
      "source": [
        "Ahora analizaremos los datos faltantes del dataset."
      ]
    },
    {
      "cell_type": "markdown",
      "metadata": {
        "pycharm": {
          "name": "#%% md\n"
        },
        "id": "wZopANEa7GRO"
      },
      "source": [
        "### Porcentaje de valores faltantes por columna\n",
        "\n"
      ]
    },
    {
      "cell_type": "code",
      "execution_count": 118,
      "metadata": {
        "jupyter": {
          "outputs_hidden": false
        },
        "pycharm": {
          "name": "#%%\n"
        },
        "colab": {
          "base_uri": "https://localhost:8080/",
          "height": 842
        },
        "id": "yvkcsR4-7GRO",
        "outputId": "a1594639-d3f0-4e8a-c89d-4a9fe829bd9a"
      },
      "outputs": [
        {
          "output_type": "stream",
          "name": "stdout",
          "text": [
            "id                            0.000000\n",
            "start_date                    0.000000\n",
            "end_date                      0.000000\n",
            "created_on                    0.000000\n",
            "latitud                       3.957602\n",
            "longitud                      3.957602\n",
            "place_l2                      0.000000\n",
            "place_l3                      0.442445\n",
            "place_l4                     96.134707\n",
            "place_l5                    100.000000\n",
            "place_l6                    100.000000\n",
            "operation                     0.000000\n",
            "property_type                 0.000000\n",
            "property_rooms                1.107704\n",
            "property_bedrooms            11.657418\n",
            "property_surface_total        5.139577\n",
            "property_surface_covered      3.558658\n",
            "property_price                0.000000\n",
            "property_currency             0.000000\n",
            "property_title                0.000000\n",
            "dtype: float64\n"
          ]
        },
        {
          "output_type": "display_data",
          "data": {
            "text/plain": [
              "<Figure size 864x432 with 1 Axes>"
            ],
            "image/png": "[encoded data removed]"
          },
          "metadata": {
            "needs_background": "light"
          }
        }
      ],
      "source": [
        "# Realizar análisis de datos faltantes a nivel de columna. Graficar para cada variable\n",
        "# el porcentaje de datos faltantes con respecto al total del dataset\n",
        "\n",
        "percent_missing = ds_filtrado.isna().sum() * 100 / len(ds_filtrado)\n",
        "plt.figure(figsize=(12, 6))\n",
        "percent_missing.plot.bar(x='index', rot=45)\n",
        "plt.xlabel(\"Columns\")\n",
        "plt.ylabel(\"Percentage Missing\")\n",
        "rows = ds_filtrado.shape[0]\n",
        "print(ds_filtrado.isna().sum() / rows * 100)"
      ]
    },
    {
      "cell_type": "markdown",
      "metadata": {
        "pycharm": {
          "name": "#%% md\n"
        },
        "id": "b1xPrTvF7GRP"
      },
      "source": [
        "A simple vista podemos ver que las columnas place_l4,place_l5 y place_l6 practicamente no tienen datos, procederemos a eliminarlas."
      ]
    },
    {
      "cell_type": "markdown",
      "metadata": {
        "pycharm": {
          "name": "#%% md\n"
        },
        "id": "Qa9aCO1j7GRP"
      },
      "source": [
        "### Porcentaje de datos faltantes por fila"
      ]
    },
    {
      "cell_type": "code",
      "execution_count": 119,
      "metadata": {
        "jupyter": {
          "outputs_hidden": false
        },
        "pycharm": {
          "name": "#%%\n"
        },
        "colab": {
          "base_uri": "https://localhost:8080/",
          "height": 282
        },
        "id": "lQA7OpAr7GRP",
        "outputId": "0fc83b1c-18ce-4261-b2df-613045e8b925"
      },
      "outputs": [
        {
          "output_type": "execute_result",
          "data": {
            "text/plain": [
              "<matplotlib.lines.Line2D at 0x7f0c6de7cd50>"
            ]
          },
          "metadata": {},
          "execution_count": 119
        },
        {
          "output_type": "display_data",
          "data": {
            "text/plain": [
              "<Figure size 432x288 with 1 Axes>"
            ],
            "image/png": "[encoded data removed]"
          },
          "metadata": {
            "needs_background": "light"
          }
        }
      ],
      "source": [
        "column_count = ds_filtrado.shape[1]\n",
        "ds_plot = ds_filtrado.T.isna().sum() * 100 / column_count\n",
        "\n",
        "fig, ax = plt.subplots()\n",
        "\n",
        "sns.violinplot(ds_plot, ax=ax)\n",
        "plt.axvline(ds_plot.mean())"
      ]
    },
    {
      "cell_type": "markdown",
      "metadata": {
        "pycharm": {
          "name": "#%% md\n"
        },
        "id": "5eoqO6_H7GRP"
      },
      "source": [
        "Analizaremos nuevamente el porcentaje por fila luego de trabajar con las columnas"
      ]
    },
    {
      "cell_type": "markdown",
      "metadata": {
        "pycharm": {
          "name": "#%% md\n"
        },
        "id": "I6HxiREN7GRP"
      },
      "source": [
        "### Procesado de columnas"
      ]
    },
    {
      "cell_type": "markdown",
      "metadata": {
        "pycharm": {
          "name": "#%% md\n"
        },
        "id": "QOj4MZzK7GRP"
      },
      "source": [
        "Descartaremos la columna id debido a que no es relevante para nuestro análisis. (Tendriamos que explicar por qué)"
      ]
    },
    {
      "cell_type": "code",
      "execution_count": 120,
      "metadata": {
        "jupyter": {
          "outputs_hidden": false
        },
        "pycharm": {
          "name": "#%%\n"
        },
        "colab": {
          "base_uri": "https://localhost:8080/"
        },
        "id": "oj01byHL7GRQ",
        "outputId": "65d885ef-7dc1-46e6-aec6-d0562244dc8f"
      },
      "outputs": [
        {
          "output_type": "execute_result",
          "data": {
            "text/plain": [
              "25    CyZu6IaZgmQYGk8jmPajCg==\n",
              "42    d3Z0MblSb2IMBoOBMGJEEQ==\n",
              "43    rL7qPkQnomsMGu2ViS3sBw==\n",
              "49    vuX/ccLAMVml4qWRFcOJUA==\n",
              "51    ZTtSCeqZ3HUgf5jjwEzRcw==\n",
              "Name: id, dtype: object"
            ]
          },
          "metadata": {},
          "execution_count": 120
        }
      ],
      "source": [
        "ds_filtrado['id'].head()"
      ]
    },
    {
      "cell_type": "markdown",
      "metadata": {
        "pycharm": {
          "name": "#%% md\n"
        },
        "id": "6YJfRSAm7GRQ"
      },
      "source": [
        "Como mencionamos anteriormente, evaluaremos descartar place_l4 por la cantidad de valores faltantes que hay."
      ]
    },
    {
      "cell_type": "code",
      "execution_count": 121,
      "metadata": {
        "jupyter": {
          "outputs_hidden": false
        },
        "pycharm": {
          "name": "#%%\n"
        },
        "colab": {
          "base_uri": "https://localhost:8080/"
        },
        "id": "jKYICNoq7GRQ",
        "outputId": "b6973cd6-1938-4dbf-a8eb-67a1936fe6f5"
      },
      "outputs": [
        {
          "output_type": "execute_result",
          "data": {
            "text/plain": [
              "Palermo Hollywood    1576\n",
              "Palermo Chico        1092\n",
              "Palermo Soho          804\n",
              "Palermo Viejo         171\n",
              "Name: place_l4, dtype: int64"
            ]
          },
          "metadata": {},
          "execution_count": 121
        }
      ],
      "source": [
        "ds_filtrado['place_l4'].value_counts()"
      ]
    },
    {
      "cell_type": "markdown",
      "metadata": {
        "pycharm": {
          "name": "#%% md\n"
        },
        "id": "l651-BdR7GRQ"
      },
      "source": [
        "Como son pocas observaciones y todas corresponden al barrio de Palermo, descartaremos esta columna."
      ]
    },
    {
      "cell_type": "code",
      "execution_count": 122,
      "metadata": {
        "jupyter": {
          "outputs_hidden": false
        },
        "pycharm": {
          "name": "#%%\n"
        },
        "colab": {
          "base_uri": "https://localhost:8080/"
        },
        "id": "x2pRwzKl7GRQ",
        "outputId": "7a4f3391-9447-4390-873d-d31aae35ed28"
      },
      "outputs": [
        {
          "output_type": "execute_result",
          "data": {
            "text/plain": [
              "['start_date',\n",
              " 'end_date',\n",
              " 'created_on',\n",
              " 'latitud',\n",
              " 'longitud',\n",
              " 'place_l2',\n",
              " 'place_l3',\n",
              " 'operation',\n",
              " 'property_type',\n",
              " 'property_rooms',\n",
              " 'property_bedrooms',\n",
              " 'property_surface_total',\n",
              " 'property_surface_covered',\n",
              " 'property_price',\n",
              " 'property_currency',\n",
              " 'property_title']"
            ]
          },
          "metadata": {},
          "execution_count": 122
        }
      ],
      "source": [
        "properties_dataset = ds_filtrado.drop(axis=\"columns\", columns=[\"id\", \"place_l4\", \"place_l5\", \"place_l6\"]).copy()\n",
        "properties_dataset.columns.tolist()"
      ]
    },
    {
      "cell_type": "markdown",
      "metadata": {
        "pycharm": {
          "name": "#%% md\n"
        },
        "id": "7O7hImTy7GRR"
      },
      "source": [
        "### Analisis de faltantes por fila\n",
        "\n",
        "Ahora que nos quedamos solo con las columnas deseadas, analizaremos nuevamente los datos faltantes por fila."
      ]
    },
    {
      "cell_type": "code",
      "execution_count": 123,
      "metadata": {
        "jupyter": {
          "outputs_hidden": false
        },
        "pycharm": {
          "name": "#%%\n"
        },
        "colab": {
          "base_uri": "https://localhost:8080/",
          "height": 0
        },
        "id": "8dqBrBvi7GRR",
        "outputId": "c0a42a0b-ea9e-48a2-dd60-4f3aeffe9162"
      },
      "outputs": [
        {
          "output_type": "execute_result",
          "data": {
            "text/plain": [
              "<matplotlib.lines.Line2D at 0x7f0c78ef7e10>"
            ]
          },
          "metadata": {},
          "execution_count": 123
        },
        {
          "output_type": "display_data",
          "data": {
            "text/plain": [
              "<Figure size 432x288 with 1 Axes>"
            ],
            "image/png": "[encoded data removed]"
          },
          "metadata": {
            "needs_background": "light"
          }
        }
      ],
      "source": [
        "column_count = ds_filtrado.shape[1]\n",
        "ds_plot = properties_dataset.T.isna().sum() * 100 / column_count\n",
        "\n",
        "sns.violinplot(ds_plot)\n",
        "plt.axvline(ds_plot.mean())"
      ]
    },
    {
      "cell_type": "markdown",
      "metadata": {
        "pycharm": {
          "name": "#%% md\n"
        },
        "id": "G8LNzPNB7GRR"
      },
      "source": [
        "Como podemos ver en el gráfico, la cantidad de datos faltantes bajó muchísimo al eliminar las columnas. Tenemos algunos registros con 5 o 10% de datos faltantes, veremos que falta"
      ]
    },
    {
      "cell_type": "code",
      "execution_count": 124,
      "metadata": {
        "jupyter": {
          "outputs_hidden": false
        },
        "pycharm": {
          "name": "#%%\n"
        },
        "colab": {
          "base_uri": "https://localhost:8080/"
        },
        "id": "33CAoilt7GRR",
        "outputId": "45ff007b-c9c5-41a0-aa35-1c0c2fdac677"
      },
      "outputs": [
        {
          "output_type": "execute_result",
          "data": {
            "text/plain": [
              "0.0     72863\n",
              "5.0     16019\n",
              "10.0     4333\n",
              "15.0      820\n",
              "20.0      110\n",
              "25.0      103\n",
              "30.0        1\n",
              "Name: row_missing_data, dtype: int64"
            ]
          },
          "metadata": {},
          "execution_count": 124
        }
      ],
      "source": [
        "properties_dataset['row_missing_data'] = properties_dataset.T.isna().sum() * 100 / column_count\n",
        "properties_dataset['row_missing_data'].value_counts()"
      ]
    },
    {
      "cell_type": "code",
      "execution_count": 125,
      "metadata": {
        "jupyter": {
          "outputs_hidden": false
        },
        "pycharm": {
          "name": "#%%\n"
        },
        "colab": {
          "base_uri": "https://localhost:8080/"
        },
        "id": "HfdCprko7GRR",
        "outputId": "3427c646-ac46-4b19-87f5-19967b0b18e8"
      },
      "outputs": [
        {
          "output_type": "stream",
          "name": "stdout",
          "text": [
            "La cantidad de faltantes segun porcentaje representan\n",
            "0.0     77.309043\n",
            "5.0     16.996467\n",
            "10.0     4.597396\n",
            "15.0     0.870036\n",
            "20.0     0.116712\n",
            "25.0     0.109285\n",
            "30.0     0.001061\n",
            "Name: row_missing_data, dtype: float64\n"
          ]
        }
      ],
      "source": [
        "dataset_perc = properties_dataset['row_missing_data'].value_counts() * 100 / properties_dataset.shape[0]\n",
        "print(f\"La cantidad de faltantes segun porcentaje representan\\n{dataset_perc}\")"
      ]
    },
    {
      "cell_type": "code",
      "execution_count": 126,
      "metadata": {
        "jupyter": {
          "outputs_hidden": false
        },
        "pycharm": {
          "name": "#%%\n"
        },
        "colab": {
          "base_uri": "https://localhost:8080/"
        },
        "id": "6BwTAS5L7GRS",
        "outputId": "ea48ba0f-a431-4618-f585-b248cf778632"
      },
      "outputs": [
        {
          "output_type": "execute_result",
          "data": {
            "text/plain": [
              "start_date                     0\n",
              "end_date                       0\n",
              "created_on                     0\n",
              "latitud                        0\n",
              "longitud                       0\n",
              "place_l2                       0\n",
              "place_l3                     130\n",
              "operation                      0\n",
              "property_type                  0\n",
              "property_rooms               360\n",
              "property_bedrooms           9048\n",
              "property_surface_total      3879\n",
              "property_surface_covered    2602\n",
              "property_price                 0\n",
              "property_currency              0\n",
              "property_title                 0\n",
              "row_missing_data               0\n",
              "dtype: int64"
            ]
          },
          "metadata": {},
          "execution_count": 126
        }
      ],
      "source": [
        "properties_dataset.groupby('row_missing_data').get_group(5).isna().sum()"
      ]
    },
    {
      "cell_type": "code",
      "execution_count": 127,
      "metadata": {
        "jupyter": {
          "outputs_hidden": false
        },
        "pycharm": {
          "name": "#%%\n"
        },
        "colab": {
          "base_uri": "https://localhost:8080/"
        },
        "id": "x4d-r21r7GRS",
        "outputId": "377742c0-91dd-44cf-bbc8-264874d7e848"
      },
      "outputs": [
        {
          "output_type": "execute_result",
          "data": {
            "text/plain": [
              "start_date                     0\n",
              "end_date                       0\n",
              "created_on                     0\n",
              "latitud                     2824\n",
              "longitud                    2824\n",
              "place_l2                       0\n",
              "place_l3                      91\n",
              "operation                      0\n",
              "property_type                  0\n",
              "property_rooms               442\n",
              "property_bedrooms           1331\n",
              "property_surface_total       612\n",
              "property_surface_covered     542\n",
              "property_price                 0\n",
              "property_currency              0\n",
              "property_title                 0\n",
              "row_missing_data               0\n",
              "dtype: int64"
            ]
          },
          "metadata": {},
          "execution_count": 127
        }
      ],
      "source": [
        "properties_dataset.groupby('row_missing_data').get_group(10).isna().sum()"
      ]
    },
    {
      "cell_type": "code",
      "execution_count": 128,
      "metadata": {
        "colab": {
          "base_uri": "https://localhost:8080/",
          "height": 0
        },
        "id": "6Tm_XvoN7GRS",
        "outputId": "c84be42b-22fb-49e2-97aa-568b985d0698"
      },
      "outputs": [
        {
          "output_type": "execute_result",
          "data": {
            "text/plain": [
              "Text(0, 0.5, 'Updated Percentage Missing')"
            ]
          },
          "metadata": {},
          "execution_count": 128
        },
        {
          "output_type": "display_data",
          "data": {
            "text/plain": [
              "<Figure size 864x432 with 1 Axes>"
            ],
            "image/png": "[encoded data removed]"
          },
          "metadata": {
            "needs_background": "light"
          }
        }
      ],
      "source": [
        "ds_filtrado.property_bedrooms.dropna(inplace=True)\n",
        "ds_filtrado.property_rooms.dropna(inplace=True)\n",
        "percent_missing = properties_dataset.isna().sum() * 100 / len(ds_filtrado)\n",
        "plt.figure(figsize=(12, 6))\n",
        "percent_missing.plot.bar(x='index', rot=45)\n",
        "plt.xlabel(\"Columns\")\n",
        "plt.ylabel(\"Updated Percentage Missing\")\n",
        "# Entender bien que datos estan faltando, yo encontre varios N/A y trate de eliminarlos pero no estoy viendo el cambio todavia\n",
        "\n",
        "# Miren esto:\n",
        "\n",
        "#for x in ds_filtrado.property_rooms:\n",
        "#    print(x)"
      ]
    },
    {
      "cell_type": "markdown",
      "metadata": {
        "pycharm": {
          "name": "#%% md\n"
        },
        "id": "c40fEnmD7GRS"
      },
      "source": [
        "# TODO: Decidir que hacer con estos grupos, creo que lo mejor es ignorarlos y ya. Al de 10% le falta la latitud y la longitud"
      ]
    },
    {
      "cell_type": "markdown",
      "metadata": {
        "pycharm": {
          "name": "#%% md\n"
        },
        "id": "-ZVcLOyQ7GRS"
      },
      "source": [
        "## Graficos\n"
      ]
    },
    {
      "cell_type": "markdown",
      "metadata": {
        "id": "8bDcXpQR46Oh",
        "jp-MarkdownHeadingCollapsed": true,
        "pycharm": {
          "name": "#%% md\n"
        },
        "tags": []
      },
      "source": [
        "## Limpieza"
      ]
    },
    {
      "cell_type": "markdown",
      "metadata": {
        "id": "v6hJ4C_i46Oh",
        "jp-MarkdownHeadingCollapsed": true,
        "pycharm": {
          "name": "#%% md\n"
        },
        "tags": []
      },
      "source": [
        "## Graficos\n"
      ]
    }
  ],
  "metadata": {
    "colab": {
      "provenance": []
    },
    "kernelspec": {
      "display_name": "Python 3 (ipykernel)",
      "language": "python",
      "name": "python3"
    },
    "language_info": {
      "codemirror_mode": {
        "name": "ipython",
        "version": 3
      },
      "file_extension": ".py",
      "mimetype": "text/x-python",
      "name": "python",
      "nbconvert_exporter": "python",
      "pygments_lexer": "ipython3",
      "version": "3.10.4"
    }
  },
  "nbformat": 4,
  "nbformat_minor": 0
}