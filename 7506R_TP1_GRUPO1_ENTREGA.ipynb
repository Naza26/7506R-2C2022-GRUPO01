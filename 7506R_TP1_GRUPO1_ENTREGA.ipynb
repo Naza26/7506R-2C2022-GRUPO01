{
 "cells": [
  {
   "cell_type": "markdown",
   "metadata": {
    "pycharm": {
     "name": "#%% md\n"
    }
   },
   "source": [
    "# 7506 - Trabajo práctico 1\n"
   ]
  },
  {
   "cell_type": "markdown",
   "metadata": {
    "pycharm": {
     "name": "#%% md\n"
    }
   },
   "source": [
    "##### Librerías"
   ]
  },
  {
   "cell_type": "code",
   "execution_count": 10,
   "metadata": {
    "pycharm": {
     "name": "#%%\n"
    },
    "tags": []
   },
   "outputs": [],
   "source": [
    "import pandas as pd\n",
    "import numpy as np\n",
    "import matplotlib.pyplot as plt\n",
    "import seaborn as sns\n",
    "#import geopandas as gpd\n",
    "\n",
    "import warnings\n",
    "\n",
    "warnings.simplefilter(action='ignore', category=FutureWarning)\n",
    "warnings.simplefilter(action='ignore', category=UserWarning)"
   ]
  },
  {
   "cell_type": "code",
   "execution_count": 11,
   "metadata": {
    "collapsed": false,
    "jupyter": {
     "outputs_hidden": false
    },
    "pycharm": {
     "name": "#%%\n"
    }
   },
   "outputs": [],
   "source": [
    "complete_dataset = pd.read_csv(\"./properati_argentina_2021.csv\")\n",
    "df = complete_dataset.copy()"
   ]
  },
  {
   "cell_type": "markdown",
   "metadata": {
    "pycharm": {
     "name": "#%% md\n"
    }
   },
   "source": [
    "# Analisis Exploratorio del Dataset"
   ]
  },
  {
   "cell_type": "markdown",
   "metadata": {
    "pycharm": {
     "name": "#%% md\n"
    }
   },
   "source": [
    "**Primeras 5 observaciones**"
   ]
  },
  {
   "cell_type": "code",
   "execution_count": 12,
   "metadata": {
    "collapsed": false,
    "jupyter": {
     "outputs_hidden": false
    },
    "pycharm": {
     "name": "#%%\n"
    }
   },
   "outputs": [
    {
     "data": {
      "text/html": [
       "<div>\n",
       "<style scoped>\n",
       "    .dataframe tbody tr th:only-of-type {\n",
       "        vertical-align: middle;\n",
       "    }\n",
       "\n",
       "    .dataframe tbody tr th {\n",
       "        vertical-align: top;\n",
       "    }\n",
       "\n",
       "    .dataframe thead th {\n",
       "        text-align: right;\n",
       "    }\n",
       "</style>\n",
       "<table border=\"1\" class=\"dataframe\">\n",
       "  <thead>\n",
       "    <tr style=\"text-align: right;\">\n",
       "      <th></th>\n",
       "      <th>id</th>\n",
       "      <th>start_date</th>\n",
       "      <th>end_date</th>\n",
       "      <th>created_on</th>\n",
       "      <th>latitud</th>\n",
       "      <th>longitud</th>\n",
       "      <th>place_l2</th>\n",
       "      <th>place_l3</th>\n",
       "      <th>place_l4</th>\n",
       "      <th>place_l5</th>\n",
       "      <th>place_l6</th>\n",
       "      <th>operation</th>\n",
       "      <th>property_type</th>\n",
       "      <th>property_rooms</th>\n",
       "      <th>property_bedrooms</th>\n",
       "      <th>property_surface_total</th>\n",
       "      <th>property_surface_covered</th>\n",
       "      <th>property_price</th>\n",
       "      <th>property_currency</th>\n",
       "      <th>property_title</th>\n",
       "    </tr>\n",
       "  </thead>\n",
       "  <tbody>\n",
       "    <tr>\n",
       "      <th>0</th>\n",
       "      <td>XZq2dFGxBiboHY3Bo/tqlw==</td>\n",
       "      <td>2021-09-09</td>\n",
       "      <td>2022-01-27</td>\n",
       "      <td>2021-09-09</td>\n",
       "      <td>-38.957632</td>\n",
       "      <td>-68.105443</td>\n",
       "      <td>Neuquén</td>\n",
       "      <td>NaN</td>\n",
       "      <td>NaN</td>\n",
       "      <td>NaN</td>\n",
       "      <td>NaN</td>\n",
       "      <td>Venta</td>\n",
       "      <td>Casa</td>\n",
       "      <td>6.0</td>\n",
       "      <td>NaN</td>\n",
       "      <td>NaN</td>\n",
       "      <td>206.0</td>\n",
       "      <td>NaN</td>\n",
       "      <td>NaN</td>\n",
       "      <td>Casa - Capital</td>\n",
       "    </tr>\n",
       "    <tr>\n",
       "      <th>1</th>\n",
       "      <td>8afoK+yMH/rnnlYiktwgNA==</td>\n",
       "      <td>2021-09-09</td>\n",
       "      <td>2021-10-23</td>\n",
       "      <td>2021-09-09</td>\n",
       "      <td>-34.888878</td>\n",
       "      <td>-56.092368</td>\n",
       "      <td>Montevideo</td>\n",
       "      <td>NaN</td>\n",
       "      <td>NaN</td>\n",
       "      <td>NaN</td>\n",
       "      <td>NaN</td>\n",
       "      <td>Venta</td>\n",
       "      <td>Casa</td>\n",
       "      <td>4.0</td>\n",
       "      <td>3.0</td>\n",
       "      <td>193.0</td>\n",
       "      <td>193.0</td>\n",
       "      <td>390000.0</td>\n",
       "      <td>USD</td>\n",
       "      <td>Casa - Malvín</td>\n",
       "    </tr>\n",
       "    <tr>\n",
       "      <th>2</th>\n",
       "      <td>iVaG5rBB47dd1Ya4BMXREA==</td>\n",
       "      <td>2021-09-09</td>\n",
       "      <td>2022-03-09</td>\n",
       "      <td>2021-09-09</td>\n",
       "      <td>-32.488717</td>\n",
       "      <td>-58.257499</td>\n",
       "      <td>Entre Ríos</td>\n",
       "      <td>NaN</td>\n",
       "      <td>NaN</td>\n",
       "      <td>NaN</td>\n",
       "      <td>NaN</td>\n",
       "      <td>Venta</td>\n",
       "      <td>Casa</td>\n",
       "      <td>NaN</td>\n",
       "      <td>NaN</td>\n",
       "      <td>110.0</td>\n",
       "      <td>45.0</td>\n",
       "      <td>47000.0</td>\n",
       "      <td>USD</td>\n",
       "      <td>Casa - Uruguay</td>\n",
       "    </tr>\n",
       "    <tr>\n",
       "      <th>3</th>\n",
       "      <td>QE1QVMWKAHWkd0qT0FtPWA==</td>\n",
       "      <td>2021-09-09</td>\n",
       "      <td>2022-01-27</td>\n",
       "      <td>2021-09-09</td>\n",
       "      <td>-34.900165</td>\n",
       "      <td>-54.808453</td>\n",
       "      <td>Maldonado</td>\n",
       "      <td>NaN</td>\n",
       "      <td>NaN</td>\n",
       "      <td>NaN</td>\n",
       "      <td>NaN</td>\n",
       "      <td>Venta</td>\n",
       "      <td>Casa</td>\n",
       "      <td>NaN</td>\n",
       "      <td>3.0</td>\n",
       "      <td>NaN</td>\n",
       "      <td>180.0</td>\n",
       "      <td>400000.0</td>\n",
       "      <td>USD</td>\n",
       "      <td>Casa - El Chorro</td>\n",
       "    </tr>\n",
       "    <tr>\n",
       "      <th>4</th>\n",
       "      <td>tJ5lSk7IysG/71OGhacNZA==</td>\n",
       "      <td>2021-09-09</td>\n",
       "      <td>2022-01-27</td>\n",
       "      <td>2021-09-09</td>\n",
       "      <td>-38.954528</td>\n",
       "      <td>-68.041862</td>\n",
       "      <td>Neuquén</td>\n",
       "      <td>NaN</td>\n",
       "      <td>NaN</td>\n",
       "      <td>NaN</td>\n",
       "      <td>NaN</td>\n",
       "      <td>Venta</td>\n",
       "      <td>PH</td>\n",
       "      <td>3.0</td>\n",
       "      <td>2.0</td>\n",
       "      <td>NaN</td>\n",
       "      <td>98.0</td>\n",
       "      <td>102000.0</td>\n",
       "      <td>USD</td>\n",
       "      <td>PH - Villa Farrell</td>\n",
       "    </tr>\n",
       "  </tbody>\n",
       "</table>\n",
       "</div>"
      ],
      "text/plain": [
       "                         id  start_date    end_date  created_on    latitud  \\\n",
       "0  XZq2dFGxBiboHY3Bo/tqlw==  2021-09-09  2022-01-27  2021-09-09 -38.957632   \n",
       "1  8afoK+yMH/rnnlYiktwgNA==  2021-09-09  2021-10-23  2021-09-09 -34.888878   \n",
       "2  iVaG5rBB47dd1Ya4BMXREA==  2021-09-09  2022-03-09  2021-09-09 -32.488717   \n",
       "3  QE1QVMWKAHWkd0qT0FtPWA==  2021-09-09  2022-01-27  2021-09-09 -34.900165   \n",
       "4  tJ5lSk7IysG/71OGhacNZA==  2021-09-09  2022-01-27  2021-09-09 -38.954528   \n",
       "\n",
       "    longitud    place_l2 place_l3 place_l4 place_l5  place_l6 operation  \\\n",
       "0 -68.105443     Neuquén      NaN      NaN      NaN       NaN     Venta   \n",
       "1 -56.092368  Montevideo      NaN      NaN      NaN       NaN     Venta   \n",
       "2 -58.257499  Entre Ríos      NaN      NaN      NaN       NaN     Venta   \n",
       "3 -54.808453   Maldonado      NaN      NaN      NaN       NaN     Venta   \n",
       "4 -68.041862     Neuquén      NaN      NaN      NaN       NaN     Venta   \n",
       "\n",
       "  property_type  property_rooms  property_bedrooms  property_surface_total  \\\n",
       "0          Casa             6.0                NaN                     NaN   \n",
       "1          Casa             4.0                3.0                   193.0   \n",
       "2          Casa             NaN                NaN                   110.0   \n",
       "3          Casa             NaN                3.0                     NaN   \n",
       "4            PH             3.0                2.0                     NaN   \n",
       "\n",
       "   property_surface_covered  property_price property_currency  \\\n",
       "0                     206.0             NaN               NaN   \n",
       "1                     193.0        390000.0               USD   \n",
       "2                      45.0         47000.0               USD   \n",
       "3                     180.0        400000.0               USD   \n",
       "4                      98.0        102000.0               USD   \n",
       "\n",
       "       property_title  \n",
       "0      Casa - Capital  \n",
       "1       Casa - Malvín  \n",
       "2      Casa - Uruguay  \n",
       "3    Casa - El Chorro  \n",
       "4  PH - Villa Farrell  "
      ]
     },
     "execution_count": 12,
     "metadata": {},
     "output_type": "execute_result"
    }
   ],
   "source": [
    "df.head()"
   ]
  },
  {
   "cell_type": "markdown",
   "metadata": {
    "pycharm": {
     "name": "#%% md\n"
    }
   },
   "source": [
    "**Ultimas 5 observaciones**"
   ]
  },
  {
   "cell_type": "code",
   "execution_count": 13,
   "metadata": {
    "collapsed": false,
    "jupyter": {
     "outputs_hidden": false
    },
    "pycharm": {
     "name": "#%%\n"
    }
   },
   "outputs": [
    {
     "data": {
      "text/html": [
       "<div>\n",
       "<style scoped>\n",
       "    .dataframe tbody tr th:only-of-type {\n",
       "        vertical-align: middle;\n",
       "    }\n",
       "\n",
       "    .dataframe tbody tr th {\n",
       "        vertical-align: top;\n",
       "    }\n",
       "\n",
       "    .dataframe thead th {\n",
       "        text-align: right;\n",
       "    }\n",
       "</style>\n",
       "<table border=\"1\" class=\"dataframe\">\n",
       "  <thead>\n",
       "    <tr style=\"text-align: right;\">\n",
       "      <th></th>\n",
       "      <th>id</th>\n",
       "      <th>start_date</th>\n",
       "      <th>end_date</th>\n",
       "      <th>created_on</th>\n",
       "      <th>latitud</th>\n",
       "      <th>longitud</th>\n",
       "      <th>place_l2</th>\n",
       "      <th>place_l3</th>\n",
       "      <th>place_l4</th>\n",
       "      <th>place_l5</th>\n",
       "      <th>place_l6</th>\n",
       "      <th>operation</th>\n",
       "      <th>property_type</th>\n",
       "      <th>property_rooms</th>\n",
       "      <th>property_bedrooms</th>\n",
       "      <th>property_surface_total</th>\n",
       "      <th>property_surface_covered</th>\n",
       "      <th>property_price</th>\n",
       "      <th>property_currency</th>\n",
       "      <th>property_title</th>\n",
       "    </tr>\n",
       "  </thead>\n",
       "  <tbody>\n",
       "    <tr>\n",
       "      <th>460149</th>\n",
       "      <td>EWHC/xcODFkeEA0+pPE6Rw==</td>\n",
       "      <td>2021-01-05</td>\n",
       "      <td>2021-01-08</td>\n",
       "      <td>2021-01-05</td>\n",
       "      <td>-34.599594</td>\n",
       "      <td>-58.588715</td>\n",
       "      <td>Bs.As. G.B.A. Zona Oeste</td>\n",
       "      <td>Tres de Febrero</td>\n",
       "      <td>NaN</td>\n",
       "      <td>NaN</td>\n",
       "      <td>NaN</td>\n",
       "      <td>Venta</td>\n",
       "      <td>Local comercial</td>\n",
       "      <td>NaN</td>\n",
       "      <td>NaN</td>\n",
       "      <td>113.0</td>\n",
       "      <td>113.0</td>\n",
       "      <td>190000.0</td>\n",
       "      <td>USD</td>\n",
       "      <td>LOCAL COMERCIAL MAS DE 100 MTS. - Ciudad jardín-</td>\n",
       "    </tr>\n",
       "    <tr>\n",
       "      <th>460150</th>\n",
       "      <td>txKUq0LjMaORjJQeeqTOfw==</td>\n",
       "      <td>2021-01-05</td>\n",
       "      <td>2021-11-01</td>\n",
       "      <td>2021-01-05</td>\n",
       "      <td>-34.582777</td>\n",
       "      <td>-58.545220</td>\n",
       "      <td>Bs.As. G.B.A. Zona Norte</td>\n",
       "      <td>General San Martín</td>\n",
       "      <td>Villa Lynch</td>\n",
       "      <td>NaN</td>\n",
       "      <td>NaN</td>\n",
       "      <td>Venta</td>\n",
       "      <td>Local comercial</td>\n",
       "      <td>NaN</td>\n",
       "      <td>NaN</td>\n",
       "      <td>11580.0</td>\n",
       "      <td>11580.0</td>\n",
       "      <td>3500000.0</td>\n",
       "      <td>USD</td>\n",
       "      <td>Nave Industrial - Villa Lynch</td>\n",
       "    </tr>\n",
       "    <tr>\n",
       "      <th>460151</th>\n",
       "      <td>E0zwHT18DX8AxhU22hXgng==</td>\n",
       "      <td>2021-01-05</td>\n",
       "      <td>2021-03-01</td>\n",
       "      <td>2021-01-05</td>\n",
       "      <td>NaN</td>\n",
       "      <td>NaN</td>\n",
       "      <td>Bs.As. G.B.A. Zona Norte</td>\n",
       "      <td>General San Martín</td>\n",
       "      <td>NaN</td>\n",
       "      <td>NaN</td>\n",
       "      <td>NaN</td>\n",
       "      <td>Venta</td>\n",
       "      <td>Local comercial</td>\n",
       "      <td>NaN</td>\n",
       "      <td>NaN</td>\n",
       "      <td>915.0</td>\n",
       "      <td>915.0</td>\n",
       "      <td>800000.0</td>\n",
       "      <td>USD</td>\n",
       "      <td>importante edificio comercial en tres plantas ...</td>\n",
       "    </tr>\n",
       "    <tr>\n",
       "      <th>460152</th>\n",
       "      <td>Ec4Tvy/WX5f6RgfaJf2FHQ==</td>\n",
       "      <td>2021-01-05</td>\n",
       "      <td>2021-11-28</td>\n",
       "      <td>2021-01-05</td>\n",
       "      <td>-33.226234</td>\n",
       "      <td>-60.331848</td>\n",
       "      <td>Santa Fe</td>\n",
       "      <td>Villa Constitución</td>\n",
       "      <td>NaN</td>\n",
       "      <td>NaN</td>\n",
       "      <td>NaN</td>\n",
       "      <td>Alquiler</td>\n",
       "      <td>Local comercial</td>\n",
       "      <td>NaN</td>\n",
       "      <td>NaN</td>\n",
       "      <td>NaN</td>\n",
       "      <td>15.0</td>\n",
       "      <td>NaN</td>\n",
       "      <td>NaN</td>\n",
       "      <td>Local - Villa Constitucion</td>\n",
       "    </tr>\n",
       "    <tr>\n",
       "      <th>460153</th>\n",
       "      <td>Y7KBafQ+e5noGh2Pio0xLg==</td>\n",
       "      <td>2021-01-05</td>\n",
       "      <td>9999-12-31</td>\n",
       "      <td>2021-01-05</td>\n",
       "      <td>-26.827938</td>\n",
       "      <td>-65.220708</td>\n",
       "      <td>Tucumán</td>\n",
       "      <td>San Miguel de Tucumán</td>\n",
       "      <td>NaN</td>\n",
       "      <td>NaN</td>\n",
       "      <td>NaN</td>\n",
       "      <td>Venta</td>\n",
       "      <td>Local comercial</td>\n",
       "      <td>1.0</td>\n",
       "      <td>NaN</td>\n",
       "      <td>243.0</td>\n",
       "      <td>133.0</td>\n",
       "      <td>160000.0</td>\n",
       "      <td>USD</td>\n",
       "      <td>Local - San Miguel De Tucumán</td>\n",
       "    </tr>\n",
       "  </tbody>\n",
       "</table>\n",
       "</div>"
      ],
      "text/plain": [
       "                              id  start_date    end_date  created_on  \\\n",
       "460149  EWHC/xcODFkeEA0+pPE6Rw==  2021-01-05  2021-01-08  2021-01-05   \n",
       "460150  txKUq0LjMaORjJQeeqTOfw==  2021-01-05  2021-11-01  2021-01-05   \n",
       "460151  E0zwHT18DX8AxhU22hXgng==  2021-01-05  2021-03-01  2021-01-05   \n",
       "460152  Ec4Tvy/WX5f6RgfaJf2FHQ==  2021-01-05  2021-11-28  2021-01-05   \n",
       "460153  Y7KBafQ+e5noGh2Pio0xLg==  2021-01-05  9999-12-31  2021-01-05   \n",
       "\n",
       "          latitud   longitud                  place_l2               place_l3  \\\n",
       "460149 -34.599594 -58.588715  Bs.As. G.B.A. Zona Oeste        Tres de Febrero   \n",
       "460150 -34.582777 -58.545220  Bs.As. G.B.A. Zona Norte     General San Martín   \n",
       "460151        NaN        NaN  Bs.As. G.B.A. Zona Norte     General San Martín   \n",
       "460152 -33.226234 -60.331848                  Santa Fe     Villa Constitución   \n",
       "460153 -26.827938 -65.220708                   Tucumán  San Miguel de Tucumán   \n",
       "\n",
       "           place_l4 place_l5  place_l6 operation    property_type  \\\n",
       "460149          NaN      NaN       NaN     Venta  Local comercial   \n",
       "460150  Villa Lynch      NaN       NaN     Venta  Local comercial   \n",
       "460151          NaN      NaN       NaN     Venta  Local comercial   \n",
       "460152          NaN      NaN       NaN  Alquiler  Local comercial   \n",
       "460153          NaN      NaN       NaN     Venta  Local comercial   \n",
       "\n",
       "        property_rooms  property_bedrooms  property_surface_total  \\\n",
       "460149             NaN                NaN                   113.0   \n",
       "460150             NaN                NaN                 11580.0   \n",
       "460151             NaN                NaN                   915.0   \n",
       "460152             NaN                NaN                     NaN   \n",
       "460153             1.0                NaN                   243.0   \n",
       "\n",
       "        property_surface_covered  property_price property_currency  \\\n",
       "460149                     113.0        190000.0               USD   \n",
       "460150                   11580.0       3500000.0               USD   \n",
       "460151                     915.0        800000.0               USD   \n",
       "460152                      15.0             NaN               NaN   \n",
       "460153                     133.0        160000.0               USD   \n",
       "\n",
       "                                           property_title  \n",
       "460149   LOCAL COMERCIAL MAS DE 100 MTS. - Ciudad jardín-  \n",
       "460150                      Nave Industrial - Villa Lynch  \n",
       "460151  importante edificio comercial en tres plantas ...  \n",
       "460152                         Local - Villa Constitucion  \n",
       "460153                      Local - San Miguel De Tucumán  "
      ]
     },
     "execution_count": 13,
     "metadata": {},
     "output_type": "execute_result"
    }
   ],
   "source": [
    "df.tail()"
   ]
  },
  {
   "cell_type": "code",
   "execution_count": 14,
   "metadata": {
    "collapsed": false,
    "jupyter": {
     "outputs_hidden": false
    },
    "pycharm": {
     "name": "#%%\n"
    }
   },
   "outputs": [
    {
     "data": {
      "text/plain": [
       "(460154, 20)"
      ]
     },
     "execution_count": 14,
     "metadata": {},
     "output_type": "execute_result"
    }
   ],
   "source": [
    "df.shape"
   ]
  },
  {
   "cell_type": "code",
   "execution_count": 15,
   "metadata": {
    "collapsed": false,
    "jupyter": {
     "outputs_hidden": false
    },
    "pycharm": {
     "name": "#%%\n"
    }
   },
   "outputs": [
    {
     "data": {
      "text/plain": [
       "9203080"
      ]
     },
     "execution_count": 15,
     "metadata": {},
     "output_type": "execute_result"
    }
   ],
   "source": [
    "df.size"
   ]
  },
  {
   "cell_type": "code",
   "execution_count": 16,
   "metadata": {
    "collapsed": false,
    "jupyter": {
     "outputs_hidden": false
    },
    "pycharm": {
     "name": "#%%\n"
    }
   },
   "outputs": [
    {
     "data": {
      "text/html": [
       "<div>\n",
       "<style scoped>\n",
       "    .dataframe tbody tr th:only-of-type {\n",
       "        vertical-align: middle;\n",
       "    }\n",
       "\n",
       "    .dataframe tbody tr th {\n",
       "        vertical-align: top;\n",
       "    }\n",
       "\n",
       "    .dataframe thead th {\n",
       "        text-align: right;\n",
       "    }\n",
       "</style>\n",
       "<table border=\"1\" class=\"dataframe\">\n",
       "  <thead>\n",
       "    <tr style=\"text-align: right;\">\n",
       "      <th></th>\n",
       "      <th>latitud</th>\n",
       "      <th>longitud</th>\n",
       "      <th>place_l6</th>\n",
       "      <th>property_rooms</th>\n",
       "      <th>property_bedrooms</th>\n",
       "      <th>property_surface_total</th>\n",
       "      <th>property_surface_covered</th>\n",
       "      <th>property_price</th>\n",
       "    </tr>\n",
       "  </thead>\n",
       "  <tbody>\n",
       "    <tr>\n",
       "      <th>count</th>\n",
       "      <td>419740.000000</td>\n",
       "      <td>419740.000000</td>\n",
       "      <td>0.0</td>\n",
       "      <td>368498.000000</td>\n",
       "      <td>344113.000000</td>\n",
       "      <td>397813.000000</td>\n",
       "      <td>4.279160e+05</td>\n",
       "      <td>4.421530e+05</td>\n",
       "    </tr>\n",
       "    <tr>\n",
       "      <th>mean</th>\n",
       "      <td>-34.228570</td>\n",
       "      <td>-59.557066</td>\n",
       "      <td>NaN</td>\n",
       "      <td>3.278053</td>\n",
       "      <td>2.297960</td>\n",
       "      <td>420.601250</td>\n",
       "      <td>9.605005e+03</td>\n",
       "      <td>3.063273e+05</td>\n",
       "    </tr>\n",
       "    <tr>\n",
       "      <th>std</th>\n",
       "      <td>3.251509</td>\n",
       "      <td>2.905129</td>\n",
       "      <td>NaN</td>\n",
       "      <td>1.870832</td>\n",
       "      <td>1.673985</td>\n",
       "      <td>4026.380748</td>\n",
       "      <td>3.440367e+06</td>\n",
       "      <td>4.899613e+06</td>\n",
       "    </tr>\n",
       "    <tr>\n",
       "      <th>min</th>\n",
       "      <td>-54.832057</td>\n",
       "      <td>-103.219258</td>\n",
       "      <td>NaN</td>\n",
       "      <td>1.000000</td>\n",
       "      <td>-3.000000</td>\n",
       "      <td>-1.000000</td>\n",
       "      <td>-3.000000e+00</td>\n",
       "      <td>0.000000e+00</td>\n",
       "    </tr>\n",
       "    <tr>\n",
       "      <th>25%</th>\n",
       "      <td>-34.640132</td>\n",
       "      <td>-58.899343</td>\n",
       "      <td>NaN</td>\n",
       "      <td>2.000000</td>\n",
       "      <td>1.000000</td>\n",
       "      <td>50.000000</td>\n",
       "      <td>4.500000e+01</td>\n",
       "      <td>4.490000e+04</td>\n",
       "    </tr>\n",
       "    <tr>\n",
       "      <th>50%</th>\n",
       "      <td>-34.585122</td>\n",
       "      <td>-58.488309</td>\n",
       "      <td>NaN</td>\n",
       "      <td>3.000000</td>\n",
       "      <td>2.000000</td>\n",
       "      <td>90.000000</td>\n",
       "      <td>7.800000e+01</td>\n",
       "      <td>9.800000e+04</td>\n",
       "    </tr>\n",
       "    <tr>\n",
       "      <th>75%</th>\n",
       "      <td>-34.423414</td>\n",
       "      <td>-58.404876</td>\n",
       "      <td>NaN</td>\n",
       "      <td>4.000000</td>\n",
       "      <td>3.000000</td>\n",
       "      <td>210.000000</td>\n",
       "      <td>1.700000e+02</td>\n",
       "      <td>1.990000e+05</td>\n",
       "    </tr>\n",
       "    <tr>\n",
       "      <th>max</th>\n",
       "      <td>42.557773</td>\n",
       "      <td>-35.044991</td>\n",
       "      <td>NaN</td>\n",
       "      <td>40.000000</td>\n",
       "      <td>390.000000</td>\n",
       "      <td>200000.000000</td>\n",
       "      <td>2.147484e+09</td>\n",
       "      <td>1.500000e+09</td>\n",
       "    </tr>\n",
       "  </tbody>\n",
       "</table>\n",
       "</div>"
      ],
      "text/plain": [
       "             latitud       longitud  place_l6  property_rooms  \\\n",
       "count  419740.000000  419740.000000       0.0   368498.000000   \n",
       "mean      -34.228570     -59.557066       NaN        3.278053   \n",
       "std         3.251509       2.905129       NaN        1.870832   \n",
       "min       -54.832057    -103.219258       NaN        1.000000   \n",
       "25%       -34.640132     -58.899343       NaN        2.000000   \n",
       "50%       -34.585122     -58.488309       NaN        3.000000   \n",
       "75%       -34.423414     -58.404876       NaN        4.000000   \n",
       "max        42.557773     -35.044991       NaN       40.000000   \n",
       "\n",
       "       property_bedrooms  property_surface_total  property_surface_covered  \\\n",
       "count      344113.000000           397813.000000              4.279160e+05   \n",
       "mean            2.297960              420.601250              9.605005e+03   \n",
       "std             1.673985             4026.380748              3.440367e+06   \n",
       "min            -3.000000               -1.000000             -3.000000e+00   \n",
       "25%             1.000000               50.000000              4.500000e+01   \n",
       "50%             2.000000               90.000000              7.800000e+01   \n",
       "75%             3.000000              210.000000              1.700000e+02   \n",
       "max           390.000000           200000.000000              2.147484e+09   \n",
       "\n",
       "       property_price  \n",
       "count    4.421530e+05  \n",
       "mean     3.063273e+05  \n",
       "std      4.899613e+06  \n",
       "min      0.000000e+00  \n",
       "25%      4.490000e+04  \n",
       "50%      9.800000e+04  \n",
       "75%      1.990000e+05  \n",
       "max      1.500000e+09  "
      ]
     },
     "execution_count": 16,
     "metadata": {},
     "output_type": "execute_result"
    }
   ],
   "source": [
    "df.describe()"
   ]
  },
  {
   "cell_type": "code",
   "execution_count": 17,
   "metadata": {
    "collapsed": false,
    "jupyter": {
     "outputs_hidden": false
    },
    "pycharm": {
     "name": "#%%\n"
    }
   },
   "outputs": [
    {
     "name": "stdout",
     "output_type": "stream",
     "text": [
      "<class 'pandas.core.frame.DataFrame'>\n",
      "RangeIndex: 460154 entries, 0 to 460153\n",
      "Data columns (total 20 columns):\n",
      " #   Column                    Non-Null Count   Dtype  \n",
      "---  ------                    --------------   -----  \n",
      " 0   id                        460154 non-null  object \n",
      " 1   start_date                460154 non-null  object \n",
      " 2   end_date                  460154 non-null  object \n",
      " 3   created_on                460154 non-null  object \n",
      " 4   latitud                   419740 non-null  float64\n",
      " 5   longitud                  419740 non-null  float64\n",
      " 6   place_l2                  460154 non-null  object \n",
      " 7   place_l3                  437665 non-null  object \n",
      " 8   place_l4                  139020 non-null  object \n",
      " 9   place_l5                  2430 non-null    object \n",
      " 10  place_l6                  0 non-null       float64\n",
      " 11  operation                 460154 non-null  object \n",
      " 12  property_type             460154 non-null  object \n",
      " 13  property_rooms            368498 non-null  float64\n",
      " 14  property_bedrooms         344113 non-null  float64\n",
      " 15  property_surface_total    397813 non-null  float64\n",
      " 16  property_surface_covered  427916 non-null  float64\n",
      " 17  property_price            442153 non-null  float64\n",
      " 18  property_currency         441590 non-null  object \n",
      " 19  property_title            460154 non-null  object \n",
      "dtypes: float64(8), object(12)\n",
      "memory usage: 70.2+ MB\n"
     ]
    }
   ],
   "source": [
    "df.info()"
   ]
  },
  {
   "cell_type": "code",
   "execution_count": 19,
   "metadata": {
    "collapsed": false,
    "jupyter": {
     "outputs_hidden": false
    },
    "pycharm": {
     "name": "#%%\n"
    }
   },
   "outputs": [
    {
     "data": {
      "text/plain": [
       "id                           object\n",
       "start_date                   object\n",
       "end_date                     object\n",
       "created_on                   object\n",
       "latitud                     float64\n",
       "longitud                    float64\n",
       "place_l2                     object\n",
       "place_l3                     object\n",
       "place_l4                     object\n",
       "place_l5                     object\n",
       "place_l6                    float64\n",
       "operation                    object\n",
       "property_type                object\n",
       "property_rooms              float64\n",
       "property_bedrooms           float64\n",
       "property_surface_total      float64\n",
       "property_surface_covered    float64\n",
       "property_price              float64\n",
       "property_currency            object\n",
       "property_title               object\n",
       "dtype: object"
      ]
     },
     "execution_count": 19,
     "metadata": {},
     "output_type": "execute_result"
    }
   ],
   "source": [
    "df.dtypes"
   ]
  },
  {
   "cell_type": "code",
   "execution_count": 20,
   "metadata": {
    "collapsed": false,
    "jupyter": {
     "outputs_hidden": false
    },
    "pycharm": {
     "name": "#%%\n"
    }
   },
   "outputs": [
    {
     "data": {
      "text/plain": [
       "id                          False\n",
       "start_date                  False\n",
       "end_date                    False\n",
       "created_on                  False\n",
       "latitud                      True\n",
       "longitud                     True\n",
       "place_l2                    False\n",
       "place_l3                     True\n",
       "place_l4                     True\n",
       "place_l5                     True\n",
       "place_l6                     True\n",
       "operation                   False\n",
       "property_type               False\n",
       "property_rooms               True\n",
       "property_bedrooms            True\n",
       "property_surface_total       True\n",
       "property_surface_covered     True\n",
       "property_price               True\n",
       "property_currency            True\n",
       "property_title              False\n",
       "dtype: bool"
      ]
     },
     "execution_count": 20,
     "metadata": {},
     "output_type": "execute_result"
    }
   ],
   "source": [
    "df.isna().any()"
   ]
  },
  {
   "cell_type": "code",
   "execution_count": 21,
   "metadata": {
    "collapsed": false,
    "jupyter": {
     "outputs_hidden": false
    },
    "pycharm": {
     "name": "#%%\n"
    }
   },
   "outputs": [
    {
     "data": {
      "text/plain": [
       "id                               0\n",
       "start_date                       0\n",
       "end_date                         0\n",
       "created_on                       0\n",
       "latitud                      40414\n",
       "longitud                     40414\n",
       "place_l2                         0\n",
       "place_l3                     22489\n",
       "place_l4                    321134\n",
       "place_l5                    457724\n",
       "place_l6                    460154\n",
       "operation                        0\n",
       "property_type                    0\n",
       "property_rooms               91656\n",
       "property_bedrooms           116041\n",
       "property_surface_total       62341\n",
       "property_surface_covered     32238\n",
       "property_price               18001\n",
       "property_currency            18564\n",
       "property_title                   0\n",
       "dtype: int64"
      ]
     },
     "execution_count": 21,
     "metadata": {},
     "output_type": "execute_result"
    }
   ],
   "source": [
    "df.isna().sum()"
   ]
  },
  {
   "cell_type": "markdown",
   "metadata": {
    "pycharm": {
     "name": "#%% md\n"
    }
   },
   "source": [
    "#### Filtrado de Dataset\n",
    "Como primer paso hay que filtrar las observaciones que su tipo de vivienda sea: Casa, PH o Departamento\n",
    "Luego filtramos la ubicacion quedandonos unicamente con las propiedades de Capital Federal.\n",
    "Luego consideraremos solo las que esten cotizadas en dolares\n",
    "Por último tomamos solo las que sean ventas"
   ]
  },
  {
   "cell_type": "code",
   "execution_count": 22,
   "metadata": {
    "collapsed": false,
    "jupyter": {
     "outputs_hidden": false
    },
    "pycharm": {
     "name": "#%%\n"
    }
   },
   "outputs": [
    {
     "data": {
      "text/html": [
       "<div>\n",
       "<style scoped>\n",
       "    .dataframe tbody tr th:only-of-type {\n",
       "        vertical-align: middle;\n",
       "    }\n",
       "\n",
       "    .dataframe tbody tr th {\n",
       "        vertical-align: top;\n",
       "    }\n",
       "\n",
       "    .dataframe thead th {\n",
       "        text-align: right;\n",
       "    }\n",
       "</style>\n",
       "<table border=\"1\" class=\"dataframe\">\n",
       "  <thead>\n",
       "    <tr style=\"text-align: right;\">\n",
       "      <th></th>\n",
       "      <th>place_l2</th>\n",
       "      <th>place_l3</th>\n",
       "      <th>property_currency</th>\n",
       "      <th>property_type</th>\n",
       "    </tr>\n",
       "  </thead>\n",
       "  <tbody>\n",
       "    <tr>\n",
       "      <th>25</th>\n",
       "      <td>Capital Federal</td>\n",
       "      <td>NaN</td>\n",
       "      <td>USD</td>\n",
       "      <td>Casa</td>\n",
       "    </tr>\n",
       "    <tr>\n",
       "      <th>42</th>\n",
       "      <td>Capital Federal</td>\n",
       "      <td>Boca</td>\n",
       "      <td>USD</td>\n",
       "      <td>Departamento</td>\n",
       "    </tr>\n",
       "    <tr>\n",
       "      <th>43</th>\n",
       "      <td>Capital Federal</td>\n",
       "      <td>Boca</td>\n",
       "      <td>USD</td>\n",
       "      <td>Departamento</td>\n",
       "    </tr>\n",
       "    <tr>\n",
       "      <th>49</th>\n",
       "      <td>Capital Federal</td>\n",
       "      <td>Once</td>\n",
       "      <td>USD</td>\n",
       "      <td>Departamento</td>\n",
       "    </tr>\n",
       "    <tr>\n",
       "      <th>51</th>\n",
       "      <td>Capital Federal</td>\n",
       "      <td>Boedo</td>\n",
       "      <td>USD</td>\n",
       "      <td>PH</td>\n",
       "    </tr>\n",
       "    <tr>\n",
       "      <th>...</th>\n",
       "      <td>...</td>\n",
       "      <td>...</td>\n",
       "      <td>...</td>\n",
       "      <td>...</td>\n",
       "    </tr>\n",
       "    <tr>\n",
       "      <th>460072</th>\n",
       "      <td>Capital Federal</td>\n",
       "      <td>Villa del Parque</td>\n",
       "      <td>USD</td>\n",
       "      <td>Departamento</td>\n",
       "    </tr>\n",
       "    <tr>\n",
       "      <th>460073</th>\n",
       "      <td>Capital Federal</td>\n",
       "      <td>Villa del Parque</td>\n",
       "      <td>USD</td>\n",
       "      <td>Departamento</td>\n",
       "    </tr>\n",
       "    <tr>\n",
       "      <th>460074</th>\n",
       "      <td>Capital Federal</td>\n",
       "      <td>Villa del Parque</td>\n",
       "      <td>USD</td>\n",
       "      <td>Departamento</td>\n",
       "    </tr>\n",
       "    <tr>\n",
       "      <th>460075</th>\n",
       "      <td>Capital Federal</td>\n",
       "      <td>Villa del Parque</td>\n",
       "      <td>USD</td>\n",
       "      <td>Departamento</td>\n",
       "    </tr>\n",
       "    <tr>\n",
       "      <th>460090</th>\n",
       "      <td>Capital Federal</td>\n",
       "      <td>Centro / Microcentro</td>\n",
       "      <td>USD</td>\n",
       "      <td>Departamento</td>\n",
       "    </tr>\n",
       "  </tbody>\n",
       "</table>\n",
       "<p>94249 rows × 4 columns</p>\n",
       "</div>"
      ],
      "text/plain": [
       "               place_l2              place_l3 property_currency property_type\n",
       "25      Capital Federal                   NaN               USD          Casa\n",
       "42      Capital Federal                  Boca               USD  Departamento\n",
       "43      Capital Federal                  Boca               USD  Departamento\n",
       "49      Capital Federal                  Once               USD  Departamento\n",
       "51      Capital Federal                 Boedo               USD            PH\n",
       "...                 ...                   ...               ...           ...\n",
       "460072  Capital Federal      Villa del Parque               USD  Departamento\n",
       "460073  Capital Federal      Villa del Parque               USD  Departamento\n",
       "460074  Capital Federal      Villa del Parque               USD  Departamento\n",
       "460075  Capital Federal      Villa del Parque               USD  Departamento\n",
       "460090  Capital Federal  Centro / Microcentro               USD  Departamento\n",
       "\n",
       "[94249 rows x 4 columns]"
      ]
     },
     "execution_count": 22,
     "metadata": {},
     "output_type": "execute_result"
    }
   ],
   "source": [
    "df_tipo_vivienda = df[(df.property_type == \"Casa\") | (df.property_type == \"PH\") | (df.property_type == \"Departamento\")]\n",
    "df_por_ubicacion = df_tipo_vivienda[(df_tipo_vivienda.place_l2 == \"Capital Federal\") | (df_tipo_vivienda.place_l3 == \"Capital Federal\")]\n",
    "df_cotizacion_usd = df_por_ubicacion[df_por_ubicacion.property_currency == \"USD\"]\n",
    "df_venta = df_cotizacion_usd[df_cotizacion_usd.operation == \"Venta\"]\n",
    "df_venta[[\"place_l2\", \"place_l3\", \"property_currency\", \"property_type\"]]"
   ]
  },
  {
   "cell_type": "markdown",
   "metadata": {
    "pycharm": {
     "name": "#%% md\n"
    }
   },
   "source": [
    "## Análisis de variables"
   ]
  },
  {
   "cell_type": "markdown",
   "metadata": {
    "pycharm": {
     "name": "#%% md\n"
    },
    "tags": []
   },
   "source": [
    "### Conversion de tipo en las fechas\n"
   ]
  },
  {
   "cell_type": "markdown",
   "metadata": {
    "pycharm": {
     "name": "#%% md\n"
    }
   },
   "source": [
    "## TODO: Evitar el coerce y graficar % de NaN"
   ]
  },
  {
   "cell_type": "code",
   "execution_count": 19,
   "metadata": {
    "collapsed": false,
    "jupyter": {
     "outputs_hidden": false
    },
    "pycharm": {
     "name": "#%%\n"
    }
   },
   "outputs": [
    {
     "data": {
      "text/plain": [
       "id                                  object\n",
       "start_date                  datetime64[ns]\n",
       "end_date                    datetime64[ns]\n",
       "created_on                  datetime64[ns]\n",
       "latitud                            float64\n",
       "longitud                           float64\n",
       "place_l2                            object\n",
       "place_l3                            object\n",
       "place_l4                            object\n",
       "place_l5                            object\n",
       "place_l6                           float64\n",
       "operation                           object\n",
       "property_type                       object\n",
       "property_rooms                     float64\n",
       "property_bedrooms                  float64\n",
       "property_surface_total             float64\n",
       "property_surface_covered           float64\n",
       "property_price                     float64\n",
       "property_currency                   object\n",
       "property_title                      object\n",
       "dtype: object"
      ]
     },
     "execution_count": 19,
     "metadata": {},
     "output_type": "execute_result"
    }
   ],
   "source": [
    "df[[\"start_date\", \"end_date\", \"created_on\"]] = df[[\"start_date\", \"end_date\", \"created_on\"]].apply(pd.to_datetime,\n",
    "                                                                                                  errors=\"coerce\")\n",
    "df.dtypes"
   ]
  },
  {
   "cell_type": "markdown",
   "metadata": {
    "pycharm": {
     "name": "#%% md\n"
    }
   },
   "source": [
    "### Analisis de variables cuantitativas"
   ]
  },
  {
   "cell_type": "code",
   "execution_count": 18,
   "metadata": {
    "collapsed": false,
    "jupyter": {
     "outputs_hidden": false
    },
    "pycharm": {
     "name": "#%%\n"
    }
   },
   "outputs": [
    {
     "data": {
      "text/html": [
       "<div>\n",
       "<style scoped>\n",
       "    .dataframe tbody tr th:only-of-type {\n",
       "        vertical-align: middle;\n",
       "    }\n",
       "\n",
       "    .dataframe tbody tr th {\n",
       "        vertical-align: top;\n",
       "    }\n",
       "\n",
       "    .dataframe thead th {\n",
       "        text-align: right;\n",
       "    }\n",
       "</style>\n",
       "<table border=\"1\" class=\"dataframe\">\n",
       "  <thead>\n",
       "    <tr style=\"text-align: right;\">\n",
       "      <th></th>\n",
       "      <th>latitud</th>\n",
       "      <th>longitud</th>\n",
       "      <th>place_l6</th>\n",
       "      <th>property_rooms</th>\n",
       "      <th>property_bedrooms</th>\n",
       "      <th>property_surface_total</th>\n",
       "      <th>property_surface_covered</th>\n",
       "      <th>property_price</th>\n",
       "      <th>place_l5</th>\n",
       "    </tr>\n",
       "  </thead>\n",
       "  <tbody>\n",
       "    <tr>\n",
       "      <th>count</th>\n",
       "      <td>90519.000000</td>\n",
       "      <td>90519.000000</td>\n",
       "      <td>0.0</td>\n",
       "      <td>93205.000000</td>\n",
       "      <td>83262.000000</td>\n",
       "      <td>89405.000000</td>\n",
       "      <td>90895.000000</td>\n",
       "      <td>9.424900e+04</td>\n",
       "      <td>NaN</td>\n",
       "    </tr>\n",
       "    <tr>\n",
       "      <th>mean</th>\n",
       "      <td>-34.591481</td>\n",
       "      <td>-58.449795</td>\n",
       "      <td>NaN</td>\n",
       "      <td>2.822799</td>\n",
       "      <td>2.014629</td>\n",
       "      <td>109.092970</td>\n",
       "      <td>87.931932</td>\n",
       "      <td>2.262382e+05</td>\n",
       "      <td>NaN</td>\n",
       "    </tr>\n",
       "    <tr>\n",
       "      <th>std</th>\n",
       "      <td>0.181719</td>\n",
       "      <td>0.292630</td>\n",
       "      <td>NaN</td>\n",
       "      <td>1.426148</td>\n",
       "      <td>1.129767</td>\n",
       "      <td>980.401976</td>\n",
       "      <td>990.927129</td>\n",
       "      <td>3.186035e+05</td>\n",
       "      <td>NaN</td>\n",
       "    </tr>\n",
       "    <tr>\n",
       "      <th>min</th>\n",
       "      <td>-53.788624</td>\n",
       "      <td>-71.471192</td>\n",
       "      <td>NaN</td>\n",
       "      <td>1.000000</td>\n",
       "      <td>-1.000000</td>\n",
       "      <td>10.000000</td>\n",
       "      <td>1.000000</td>\n",
       "      <td>5.000000e+03</td>\n",
       "      <td>NaN</td>\n",
       "    </tr>\n",
       "    <tr>\n",
       "      <th>25%</th>\n",
       "      <td>-34.615975</td>\n",
       "      <td>-58.466522</td>\n",
       "      <td>NaN</td>\n",
       "      <td>2.000000</td>\n",
       "      <td>1.000000</td>\n",
       "      <td>45.000000</td>\n",
       "      <td>40.000000</td>\n",
       "      <td>9.500000e+04</td>\n",
       "      <td>NaN</td>\n",
       "    </tr>\n",
       "    <tr>\n",
       "      <th>50%</th>\n",
       "      <td>-34.595790</td>\n",
       "      <td>-58.439000</td>\n",
       "      <td>NaN</td>\n",
       "      <td>3.000000</td>\n",
       "      <td>2.000000</td>\n",
       "      <td>65.000000</td>\n",
       "      <td>58.000000</td>\n",
       "      <td>1.439000e+05</td>\n",
       "      <td>NaN</td>\n",
       "    </tr>\n",
       "    <tr>\n",
       "      <th>75%</th>\n",
       "      <td>-34.577413</td>\n",
       "      <td>-58.408862</td>\n",
       "      <td>NaN</td>\n",
       "      <td>4.000000</td>\n",
       "      <td>3.000000</td>\n",
       "      <td>105.000000</td>\n",
       "      <td>88.000000</td>\n",
       "      <td>2.370000e+05</td>\n",
       "      <td>NaN</td>\n",
       "    </tr>\n",
       "    <tr>\n",
       "      <th>max</th>\n",
       "      <td>-24.219827</td>\n",
       "      <td>-54.133330</td>\n",
       "      <td>NaN</td>\n",
       "      <td>40.000000</td>\n",
       "      <td>70.000000</td>\n",
       "      <td>137000.000000</td>\n",
       "      <td>217000.000000</td>\n",
       "      <td>2.140000e+07</td>\n",
       "      <td>NaN</td>\n",
       "    </tr>\n",
       "    <tr>\n",
       "      <th>mode</th>\n",
       "      <td>-34.541250</td>\n",
       "      <td>-58.472966</td>\n",
       "      <td>NaN</td>\n",
       "      <td>3.000000</td>\n",
       "      <td>1.000000</td>\n",
       "      <td>50.000000</td>\n",
       "      <td>40.000000</td>\n",
       "      <td>1.100000e+05</td>\n",
       "      <td>NaN</td>\n",
       "    </tr>\n",
       "    <tr>\n",
       "      <th>median</th>\n",
       "      <td>-34.595790</td>\n",
       "      <td>-58.439000</td>\n",
       "      <td>NaN</td>\n",
       "      <td>3.000000</td>\n",
       "      <td>2.000000</td>\n",
       "      <td>65.000000</td>\n",
       "      <td>58.000000</td>\n",
       "      <td>1.439000e+05</td>\n",
       "      <td>NaN</td>\n",
       "    </tr>\n",
       "  </tbody>\n",
       "</table>\n",
       "</div>"
      ],
      "text/plain": [
       "             latitud      longitud  place_l6  property_rooms  \\\n",
       "count   90519.000000  90519.000000       0.0    93205.000000   \n",
       "mean      -34.591481    -58.449795       NaN        2.822799   \n",
       "std         0.181719      0.292630       NaN        1.426148   \n",
       "min       -53.788624    -71.471192       NaN        1.000000   \n",
       "25%       -34.615975    -58.466522       NaN        2.000000   \n",
       "50%       -34.595790    -58.439000       NaN        3.000000   \n",
       "75%       -34.577413    -58.408862       NaN        4.000000   \n",
       "max       -24.219827    -54.133330       NaN       40.000000   \n",
       "mode      -34.541250    -58.472966       NaN        3.000000   \n",
       "median    -34.595790    -58.439000       NaN        3.000000   \n",
       "\n",
       "        property_bedrooms  property_surface_total  property_surface_covered  \\\n",
       "count        83262.000000            89405.000000              90895.000000   \n",
       "mean             2.014629              109.092970                 87.931932   \n",
       "std              1.129767              980.401976                990.927129   \n",
       "min             -1.000000               10.000000                  1.000000   \n",
       "25%              1.000000               45.000000                 40.000000   \n",
       "50%              2.000000               65.000000                 58.000000   \n",
       "75%              3.000000              105.000000                 88.000000   \n",
       "max             70.000000           137000.000000             217000.000000   \n",
       "mode             1.000000               50.000000                 40.000000   \n",
       "median           2.000000               65.000000                 58.000000   \n",
       "\n",
       "        property_price  place_l5  \n",
       "count     9.424900e+04       NaN  \n",
       "mean      2.262382e+05       NaN  \n",
       "std       3.186035e+05       NaN  \n",
       "min       5.000000e+03       NaN  \n",
       "25%       9.500000e+04       NaN  \n",
       "50%       1.439000e+05       NaN  \n",
       "75%       2.370000e+05       NaN  \n",
       "max       2.140000e+07       NaN  \n",
       "mode      1.100000e+05       NaN  \n",
       "median    1.439000e+05       NaN  "
      ]
     },
     "execution_count": 18,
     "metadata": {},
     "output_type": "execute_result"
    }
   ],
   "source": [
    "description_quantitatives = df.describe()\n",
    "quantitative_mode = df[description_quantitatives.columns].mode()\n",
    "quantitative_mode.rename(index={0: \"mode\"}, inplace=True)\n",
    "description_quantitatives = description_quantitatives.append(quantitative_mode)\n",
    "description_quantitatives = description_quantitatives.append(df.median().rename(\"median\"),\n",
    "                                                             ignore_index=False)\n",
    "description_quantitatives"
   ]
  },
  {
   "cell_type": "markdown",
   "metadata": {
    "pycharm": {
     "name": "#%% md\n"
    }
   },
   "source": [
    "## Análisis de valores faltantes"
   ]
  },
  {
   "cell_type": "markdown",
   "metadata": {
    "pycharm": {
     "name": "#%% md\n"
    }
   },
   "source": [
    "### Porcentaje de valores faltantes\n",
    "\n"
   ]
  },
  {
   "cell_type": "code",
   "execution_count": 13,
   "metadata": {
    "collapsed": false,
    "jupyter": {
     "outputs_hidden": false
    },
    "pycharm": {
     "name": "#%%\n"
    }
   },
   "outputs": [
    {
     "name": "stdout",
     "output_type": "stream",
     "text": [
      "id                            0.000000\n",
      "start_date                    0.000000\n",
      "end_date                      5.348598\n",
      "created_on                    0.000000\n",
      "latitud                       3.957602\n",
      "longitud                      3.957602\n",
      "place_l2                      0.000000\n",
      "place_l3                      0.442445\n",
      "place_l4                     96.134707\n",
      "place_l5                    100.000000\n",
      "place_l6                    100.000000\n",
      "operation                     0.000000\n",
      "property_type                 0.000000\n",
      "property_rooms                1.107704\n",
      "property_bedrooms            11.657418\n",
      "property_surface_total        5.139577\n",
      "property_surface_covered      3.558658\n",
      "property_price                0.000000\n",
      "property_currency             0.000000\n",
      "property_title                0.000000\n",
      "dtype: float64\n"
     ]
    }
   ],
   "source": [
    "rows = df.shape[0]\n",
    "print(df.isna().sum() / rows * 100)"
   ]
  },
  {
   "cell_type": "markdown",
   "metadata": {
    "pycharm": {
     "name": "#%% md\n"
    }
   },
   "source": [
    "Como podemos observar, las columnas place_l4,place_l5 y place_l6 tienen un porcentaje demasiado alto de valores faltantes (aun solo considerando que sean NaNs) por lo que se descartaran dichas columnas. Por otro lado se descartara la columna id ya que en nuestro caso no sera de utilidad"
   ]
  },
  {
   "cell_type": "code",
   "execution_count": 14,
   "metadata": {
    "collapsed": false,
    "jupyter": {
     "outputs_hidden": false
    },
    "pycharm": {
     "name": "#%%\n"
    }
   },
   "outputs": [
    {
     "data": {
      "text/plain": [
       "['start_date',\n",
       " 'end_date',\n",
       " 'created_on',\n",
       " 'latitud',\n",
       " 'longitud',\n",
       " 'place_l2',\n",
       " 'place_l3',\n",
       " 'operation',\n",
       " 'property_type',\n",
       " 'property_rooms',\n",
       " 'property_bedrooms',\n",
       " 'property_surface_total',\n",
       " 'property_surface_covered',\n",
       " 'property_price',\n",
       " 'property_currency',\n",
       " 'property_title']"
      ]
     },
     "execution_count": 14,
     "metadata": {},
     "output_type": "execute_result"
    }
   ],
   "source": [
    "properties_dataset = df.drop(axis=\"columns\", columns=[\"id\", \"place_l4\", \"place_l5\", \"place_l6\"])\n",
    "properties_dataset.columns.tolist()"
   ]
  },
  {
   "cell_type": "code",
   "execution_count": 15,
   "metadata": {
    "collapsed": false,
    "jupyter": {
     "outputs_hidden": false
    },
    "pycharm": {
     "name": "#%%\n"
    }
   },
   "outputs": [
    {
     "name": "stdout",
     "output_type": "stream",
     "text": [
      "Hay una cantidad de 94249 observaciones y 16 variables\n"
     ]
    }
   ],
   "source": [
    "rows, columns = properties_dataset.shape\n",
    "print(f\"Hay una cantidad de {rows} observaciones y {columns} variables\")"
   ]
  },
  {
   "cell_type": "markdown",
   "metadata": {
    "pycharm": {
     "name": "#%% md\n"
    }
   },
   "source": [
    "## Limpieza"
   ]
  },
  {
   "cell_type": "markdown",
   "metadata": {
    "pycharm": {
     "name": "#%% md\n"
    }
   },
   "source": [
    "## Graficos\n"
   ]
  }
 ],
 "metadata": {
  "kernelspec": {
   "display_name": "Python 3 (ipykernel)",
   "language": "python",
   "name": "python3"
  },
  "language_info": {
   "codemirror_mode": {
    "name": "ipython",
    "version": 3
   },
   "file_extension": ".py",
   "mimetype": "text/x-python",
   "name": "python",
   "nbconvert_exporter": "python",
   "pygments_lexer": "ipython3",
   "version": "3.10.4"
  }
 },
 "nbformat": 4,
 "nbformat_minor": 4
}
