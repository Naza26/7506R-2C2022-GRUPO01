{
  "cells": [
    {
      "cell_type": "markdown",
      "metadata": {
        "id": "2AgtT6A646OQ",
        "pycharm": {
          "name": "#%% md\n"
        }
      },
      "source": [
        "# 7506 - Trabajo práctico 1\n"
      ]
    },
    {
      "cell_type": "markdown",
      "metadata": {
        "id": "JiW5g17D46OU",
        "pycharm": {
          "name": "#%% md\n"
        },
        "tags": []
      },
      "source": [
        "##### Librerías"
      ]
    },
    {
      "cell_type": "code",
      "execution_count": 60,
      "metadata": {
        "jupyter": {
          "outputs_hidden": false
        },
        "pycharm": {
          "name": "#%%\n"
        },
        "id": "2Rq6z1L_LQOH"
      },
      "outputs": [],
      "source": [
        "import pandas as pd\n",
        "from pandas.plotting import scatter_matrix\n",
        "import numpy as np\n",
        "import matplotlib.pyplot as plt\n",
        "import seaborn as sns\n",
        "import geopandas as gpd\n",
        "\n",
        "import warnings\n",
        "\n",
        "warnings.simplefilter(action='ignore', category=FutureWarning)\n",
        "warnings.simplefilter(action='ignore', category=UserWarning)"
      ]
    },
    {
      "cell_type": "code",
      "execution_count": 61,
      "metadata": {
        "jupyter": {
          "outputs_hidden": false
        },
        "pycharm": {
          "name": "#%%\n"
        },
        "id": "BW9HZZKHLQOI"
      },
      "outputs": [],
      "source": [
        "from IPython.display import display, HTML\n",
        "\n",
        "\n",
        "def display_side_by_side(dfs: list, captions: list):\n",
        "    \"\"\"Display tables side by side to save vertical space\n",
        "    Input:\n",
        "        dfs: list of pandas.DataFrame\n",
        "        captions: list of table captions\n",
        "    \"\"\"\n",
        "    output = \"\"\n",
        "    combined = dict(zip(captions, dfs))\n",
        "    for caption, df in combined.items():\n",
        "        output += df.style.set_table_attributes(\"style='display:inline'\").set_caption(caption)._repr_html_()\n",
        "        output += \"\\xa0\\xa0\\xa0\"\n",
        "    display(HTML(output))"
      ]
    },
    {
      "cell_type": "code",
      "execution_count": 62,
      "metadata": {
        "pycharm": {
          "name": "#%%\n"
        },
        "id": "Nd8DsdWGLQOJ"
      },
      "outputs": [],
      "source": [
        "complete_dataset = pd.read_csv(\"./datasets/properati_argentina_2021.csv\")\n",
        "df = complete_dataset.copy()"
      ]
    },
    {
      "cell_type": "markdown",
      "metadata": {
        "pycharm": {
          "name": "#%% md\n"
        },
        "id": "cFcWcECeLQOK"
      },
      "source": [
        "## Análisis Exploratorio y Preprocesamiento de Datos"
      ]
    },
    {
      "cell_type": "markdown",
      "metadata": {
        "pycharm": {
          "name": "#%% md\n"
        },
        "id": "g480r3LoLQOK"
      },
      "source": [
        "Primero, observaremos un poco los datos que tiene el dataset"
      ]
    },
    {
      "cell_type": "markdown",
      "metadata": {
        "pycharm": {
          "name": "#%% md\n"
        },
        "id": "_N62ZwwhLQOL"
      },
      "source": [
        "**Primeras 5 observaciones**"
      ]
    },
    {
      "cell_type": "code",
      "execution_count": 63,
      "metadata": {
        "pycharm": {
          "name": "#%%\n"
        },
        "colab": {
          "base_uri": "https://localhost:8080/",
          "height": 357
        },
        "id": "s3m_M2GeLQOL",
        "outputId": "5b9bd41d-84a1-4894-cbb1-c9b70e158ecc"
      },
      "outputs": [
        {
          "output_type": "execute_result",
          "data": {
            "text/plain": [
              "                         id  start_date    end_date  created_on    latitud  \\\n",
              "0  XZq2dFGxBiboHY3Bo/tqlw==  2021-09-09  2022-01-27  2021-09-09 -38.957632   \n",
              "1  8afoK+yMH/rnnlYiktwgNA==  2021-09-09  2021-10-23  2021-09-09 -34.888878   \n",
              "2  iVaG5rBB47dd1Ya4BMXREA==  2021-09-09  2022-03-09  2021-09-09 -32.488717   \n",
              "3  QE1QVMWKAHWkd0qT0FtPWA==  2021-09-09  2022-01-27  2021-09-09 -34.900165   \n",
              "4  tJ5lSk7IysG/71OGhacNZA==  2021-09-09  2022-01-27  2021-09-09 -38.954528   \n",
              "\n",
              "    longitud    place_l2 place_l3 place_l4 place_l5  place_l6 operation  \\\n",
              "0 -68.105443     Neuquén      NaN      NaN      NaN       NaN     Venta   \n",
              "1 -56.092368  Montevideo      NaN      NaN      NaN       NaN     Venta   \n",
              "2 -58.257499  Entre Ríos      NaN      NaN      NaN       NaN     Venta   \n",
              "3 -54.808453   Maldonado      NaN      NaN      NaN       NaN     Venta   \n",
              "4 -68.041862     Neuquén      NaN      NaN      NaN       NaN     Venta   \n",
              "\n",
              "  property_type  property_rooms  property_bedrooms  property_surface_total  \\\n",
              "0          Casa             6.0                NaN                     NaN   \n",
              "1          Casa             4.0                3.0                   193.0   \n",
              "2          Casa             NaN                NaN                   110.0   \n",
              "3          Casa             NaN                3.0                     NaN   \n",
              "4            PH             3.0                2.0                     NaN   \n",
              "\n",
              "   property_surface_covered  property_price property_currency  \\\n",
              "0                     206.0             NaN               NaN   \n",
              "1                     193.0        390000.0               USD   \n",
              "2                      45.0         47000.0               USD   \n",
              "3                     180.0        400000.0               USD   \n",
              "4                      98.0        102000.0               USD   \n",
              "\n",
              "       property_title  \n",
              "0      Casa - Capital  \n",
              "1       Casa - Malvín  \n",
              "2      Casa - Uruguay  \n",
              "3    Casa - El Chorro  \n",
              "4  PH - Villa Farrell  "
            ],
            "text/html": [
              "\n",
              "  <div id=\"df-c02b66d4-d4b2-4d6e-8384-59d3e5761516\">\n",
              "    <div class=\"colab-df-container\">\n",
              "      <div>\n",
              "<style scoped>\n",
              "    .dataframe tbody tr th:only-of-type {\n",
              "        vertical-align: middle;\n",
              "    }\n",
              "\n",
              "    .dataframe tbody tr th {\n",
              "        vertical-align: top;\n",
              "    }\n",
              "\n",
              "    .dataframe thead th {\n",
              "        text-align: right;\n",
              "    }\n",
              "</style>\n",
              "<table border=\"1\" class=\"dataframe\">\n",
              "  <thead>\n",
              "    <tr style=\"text-align: right;\">\n",
              "      <th></th>\n",
              "      <th>id</th>\n",
              "      <th>start_date</th>\n",
              "      <th>end_date</th>\n",
              "      <th>created_on</th>\n",
              "      <th>latitud</th>\n",
              "      <th>longitud</th>\n",
              "      <th>place_l2</th>\n",
              "      <th>place_l3</th>\n",
              "      <th>place_l4</th>\n",
              "      <th>place_l5</th>\n",
              "      <th>place_l6</th>\n",
              "      <th>operation</th>\n",
              "      <th>property_type</th>\n",
              "      <th>property_rooms</th>\n",
              "      <th>property_bedrooms</th>\n",
              "      <th>property_surface_total</th>\n",
              "      <th>property_surface_covered</th>\n",
              "      <th>property_price</th>\n",
              "      <th>property_currency</th>\n",
              "      <th>property_title</th>\n",
              "    </tr>\n",
              "  </thead>\n",
              "  <tbody>\n",
              "    <tr>\n",
              "      <th>0</th>\n",
              "      <td>XZq2dFGxBiboHY3Bo/tqlw==</td>\n",
              "      <td>2021-09-09</td>\n",
              "      <td>2022-01-27</td>\n",
              "      <td>2021-09-09</td>\n",
              "      <td>-38.957632</td>\n",
              "      <td>-68.105443</td>\n",
              "      <td>Neuquén</td>\n",
              "      <td>NaN</td>\n",
              "      <td>NaN</td>\n",
              "      <td>NaN</td>\n",
              "      <td>NaN</td>\n",
              "      <td>Venta</td>\n",
              "      <td>Casa</td>\n",
              "      <td>6.0</td>\n",
              "      <td>NaN</td>\n",
              "      <td>NaN</td>\n",
              "      <td>206.0</td>\n",
              "      <td>NaN</td>\n",
              "      <td>NaN</td>\n",
              "      <td>Casa - Capital</td>\n",
              "    </tr>\n",
              "    <tr>\n",
              "      <th>1</th>\n",
              "      <td>8afoK+yMH/rnnlYiktwgNA==</td>\n",
              "      <td>2021-09-09</td>\n",
              "      <td>2021-10-23</td>\n",
              "      <td>2021-09-09</td>\n",
              "      <td>-34.888878</td>\n",
              "      <td>-56.092368</td>\n",
              "      <td>Montevideo</td>\n",
              "      <td>NaN</td>\n",
              "      <td>NaN</td>\n",
              "      <td>NaN</td>\n",
              "      <td>NaN</td>\n",
              "      <td>Venta</td>\n",
              "      <td>Casa</td>\n",
              "      <td>4.0</td>\n",
              "      <td>3.0</td>\n",
              "      <td>193.0</td>\n",
              "      <td>193.0</td>\n",
              "      <td>390000.0</td>\n",
              "      <td>USD</td>\n",
              "      <td>Casa - Malvín</td>\n",
              "    </tr>\n",
              "    <tr>\n",
              "      <th>2</th>\n",
              "      <td>iVaG5rBB47dd1Ya4BMXREA==</td>\n",
              "      <td>2021-09-09</td>\n",
              "      <td>2022-03-09</td>\n",
              "      <td>2021-09-09</td>\n",
              "      <td>-32.488717</td>\n",
              "      <td>-58.257499</td>\n",
              "      <td>Entre Ríos</td>\n",
              "      <td>NaN</td>\n",
              "      <td>NaN</td>\n",
              "      <td>NaN</td>\n",
              "      <td>NaN</td>\n",
              "      <td>Venta</td>\n",
              "      <td>Casa</td>\n",
              "      <td>NaN</td>\n",
              "      <td>NaN</td>\n",
              "      <td>110.0</td>\n",
              "      <td>45.0</td>\n",
              "      <td>47000.0</td>\n",
              "      <td>USD</td>\n",
              "      <td>Casa - Uruguay</td>\n",
              "    </tr>\n",
              "    <tr>\n",
              "      <th>3</th>\n",
              "      <td>QE1QVMWKAHWkd0qT0FtPWA==</td>\n",
              "      <td>2021-09-09</td>\n",
              "      <td>2022-01-27</td>\n",
              "      <td>2021-09-09</td>\n",
              "      <td>-34.900165</td>\n",
              "      <td>-54.808453</td>\n",
              "      <td>Maldonado</td>\n",
              "      <td>NaN</td>\n",
              "      <td>NaN</td>\n",
              "      <td>NaN</td>\n",
              "      <td>NaN</td>\n",
              "      <td>Venta</td>\n",
              "      <td>Casa</td>\n",
              "      <td>NaN</td>\n",
              "      <td>3.0</td>\n",
              "      <td>NaN</td>\n",
              "      <td>180.0</td>\n",
              "      <td>400000.0</td>\n",
              "      <td>USD</td>\n",
              "      <td>Casa - El Chorro</td>\n",
              "    </tr>\n",
              "    <tr>\n",
              "      <th>4</th>\n",
              "      <td>tJ5lSk7IysG/71OGhacNZA==</td>\n",
              "      <td>2021-09-09</td>\n",
              "      <td>2022-01-27</td>\n",
              "      <td>2021-09-09</td>\n",
              "      <td>-38.954528</td>\n",
              "      <td>-68.041862</td>\n",
              "      <td>Neuquén</td>\n",
              "      <td>NaN</td>\n",
              "      <td>NaN</td>\n",
              "      <td>NaN</td>\n",
              "      <td>NaN</td>\n",
              "      <td>Venta</td>\n",
              "      <td>PH</td>\n",
              "      <td>3.0</td>\n",
              "      <td>2.0</td>\n",
              "      <td>NaN</td>\n",
              "      <td>98.0</td>\n",
              "      <td>102000.0</td>\n",
              "      <td>USD</td>\n",
              "      <td>PH - Villa Farrell</td>\n",
              "    </tr>\n",
              "  </tbody>\n",
              "</table>\n",
              "</div>\n",
              "      <button class=\"colab-df-convert\" onclick=\"convertToInteractive('df-c02b66d4-d4b2-4d6e-8384-59d3e5761516')\"\n",
              "              title=\"Convert this dataframe to an interactive table.\"\n",
              "              style=\"display:none;\">\n",
              "        \n",
              "  <svg xmlns=\"http://www.w3.org/2000/svg\" height=\"24px\"viewBox=\"0 0 24 24\"\n",
              "       width=\"24px\">\n",
              "    <path d=\"M0 0h24v24H0V0z\" fill=\"none\"/>\n",
              "    <path d=\"M18.56 5.44l.94 2.06.94-2.06 2.06-.94-2.06-.94-.94-2.06-.94 2.06-2.06.94zm-11 1L8.5 8.5l.94-2.06 2.06-.94-2.06-.94L8.5 2.5l-.94 2.06-2.06.94zm10 10l.94 2.06.94-2.06 2.06-.94-2.06-.94-.94-2.06-.94 2.06-2.06.94z\"/><path d=\"M17.41 7.96l-1.37-1.37c-.4-.4-.92-.59-1.43-.59-.52 0-1.04.2-1.43.59L10.3 9.45l-7.72 7.72c-.78.78-.78 2.05 0 2.83L4 21.41c.39.39.9.59 1.41.59.51 0 1.02-.2 1.41-.59l7.78-7.78 2.81-2.81c.8-.78.8-2.07 0-2.86zM5.41 20L4 18.59l7.72-7.72 1.47 1.35L5.41 20z\"/>\n",
              "  </svg>\n",
              "      </button>\n",
              "      \n",
              "  <style>\n",
              "    .colab-df-container {\n",
              "      display:flex;\n",
              "      flex-wrap:wrap;\n",
              "      gap: 12px;\n",
              "    }\n",
              "\n",
              "    .colab-df-convert {\n",
              "      background-color: #E8F0FE;\n",
              "      border: none;\n",
              "      border-radius: 50%;\n",
              "      cursor: pointer;\n",
              "      display: none;\n",
              "      fill: #1967D2;\n",
              "      height: 32px;\n",
              "      padding: 0 0 0 0;\n",
              "      width: 32px;\n",
              "    }\n",
              "\n",
              "    .colab-df-convert:hover {\n",
              "      background-color: #E2EBFA;\n",
              "      box-shadow: 0px 1px 2px rgba(60, 64, 67, 0.3), 0px 1px 3px 1px rgba(60, 64, 67, 0.15);\n",
              "      fill: #174EA6;\n",
              "    }\n",
              "\n",
              "    [theme=dark] .colab-df-convert {\n",
              "      background-color: #3B4455;\n",
              "      fill: #D2E3FC;\n",
              "    }\n",
              "\n",
              "    [theme=dark] .colab-df-convert:hover {\n",
              "      background-color: #434B5C;\n",
              "      box-shadow: 0px 1px 3px 1px rgba(0, 0, 0, 0.15);\n",
              "      filter: drop-shadow(0px 1px 2px rgba(0, 0, 0, 0.3));\n",
              "      fill: #FFFFFF;\n",
              "    }\n",
              "  </style>\n",
              "\n",
              "      <script>\n",
              "        const buttonEl =\n",
              "          document.querySelector('#df-c02b66d4-d4b2-4d6e-8384-59d3e5761516 button.colab-df-convert');\n",
              "        buttonEl.style.display =\n",
              "          google.colab.kernel.accessAllowed ? 'block' : 'none';\n",
              "\n",
              "        async function convertToInteractive(key) {\n",
              "          const element = document.querySelector('#df-c02b66d4-d4b2-4d6e-8384-59d3e5761516');\n",
              "          const dataTable =\n",
              "            await google.colab.kernel.invokeFunction('convertToInteractive',\n",
              "                                                     [key], {});\n",
              "          if (!dataTable) return;\n",
              "\n",
              "          const docLinkHtml = 'Like what you see? Visit the ' +\n",
              "            '<a target=\"_blank\" href=https://colab.research.google.com/notebooks/data_table.ipynb>data table notebook</a>'\n",
              "            + ' to learn more about interactive tables.';\n",
              "          element.innerHTML = '';\n",
              "          dataTable['output_type'] = 'display_data';\n",
              "          await google.colab.output.renderOutput(dataTable, element);\n",
              "          const docLink = document.createElement('div');\n",
              "          docLink.innerHTML = docLinkHtml;\n",
              "          element.appendChild(docLink);\n",
              "        }\n",
              "      </script>\n",
              "    </div>\n",
              "  </div>\n",
              "  "
            ]
          },
          "metadata": {},
          "execution_count": 63
        }
      ],
      "source": [
        "df.head()"
      ]
    },
    {
      "cell_type": "code",
      "execution_count": 64,
      "metadata": {
        "pycharm": {
          "name": "#%%\n"
        },
        "colab": {
          "base_uri": "https://localhost:8080/"
        },
        "id": "s9BmxkQNLQOM",
        "outputId": "eadddb2f-4c11-4465-9b19-097a136d716a"
      },
      "outputs": [
        {
          "output_type": "stream",
          "name": "stdout",
          "text": [
            "El dataset tiene 460154 filas y 20 columnas\n"
          ]
        }
      ],
      "source": [
        "print(f\"El dataset tiene {df.shape[0]} filas y {df.shape[1]} columnas\")"
      ]
    },
    {
      "cell_type": "code",
      "execution_count": 65,
      "metadata": {
        "pycharm": {
          "name": "#%%\n"
        },
        "colab": {
          "base_uri": "https://localhost:8080/",
          "height": 300
        },
        "id": "m5dvGyx2LQON",
        "outputId": "e18af439-4e2f-4c09-dea5-d828c22a4006"
      },
      "outputs": [
        {
          "output_type": "execute_result",
          "data": {
            "text/plain": [
              "             latitud       longitud  place_l6  property_rooms  \\\n",
              "count  419740.000000  419740.000000       0.0   368498.000000   \n",
              "mean      -34.228570     -59.557066       NaN        3.278053   \n",
              "std         3.251509       2.905129       NaN        1.870832   \n",
              "min       -54.832057    -103.219258       NaN        1.000000   \n",
              "25%       -34.640132     -58.899343       NaN        2.000000   \n",
              "50%       -34.585122     -58.488309       NaN        3.000000   \n",
              "75%       -34.423414     -58.404876       NaN        4.000000   \n",
              "max        42.557773     -35.044991       NaN       40.000000   \n",
              "\n",
              "       property_bedrooms  property_surface_total  property_surface_covered  \\\n",
              "count      344113.000000           397813.000000              4.279160e+05   \n",
              "mean            2.297960              420.601250              9.605005e+03   \n",
              "std             1.673985             4026.380748              3.440367e+06   \n",
              "min            -3.000000               -1.000000             -3.000000e+00   \n",
              "25%             1.000000               50.000000              4.500000e+01   \n",
              "50%             2.000000               90.000000              7.800000e+01   \n",
              "75%             3.000000              210.000000              1.700000e+02   \n",
              "max           390.000000           200000.000000              2.147484e+09   \n",
              "\n",
              "       property_price  \n",
              "count    4.421530e+05  \n",
              "mean     3.063273e+05  \n",
              "std      4.899613e+06  \n",
              "min      0.000000e+00  \n",
              "25%      4.490000e+04  \n",
              "50%      9.800000e+04  \n",
              "75%      1.990000e+05  \n",
              "max      1.500000e+09  "
            ],
            "text/html": [
              "\n",
              "  <div id=\"df-e16c0ede-2265-4ad0-beda-4f1a62e2546c\">\n",
              "    <div class=\"colab-df-container\">\n",
              "      <div>\n",
              "<style scoped>\n",
              "    .dataframe tbody tr th:only-of-type {\n",
              "        vertical-align: middle;\n",
              "    }\n",
              "\n",
              "    .dataframe tbody tr th {\n",
              "        vertical-align: top;\n",
              "    }\n",
              "\n",
              "    .dataframe thead th {\n",
              "        text-align: right;\n",
              "    }\n",
              "</style>\n",
              "<table border=\"1\" class=\"dataframe\">\n",
              "  <thead>\n",
              "    <tr style=\"text-align: right;\">\n",
              "      <th></th>\n",
              "      <th>latitud</th>\n",
              "      <th>longitud</th>\n",
              "      <th>place_l6</th>\n",
              "      <th>property_rooms</th>\n",
              "      <th>property_bedrooms</th>\n",
              "      <th>property_surface_total</th>\n",
              "      <th>property_surface_covered</th>\n",
              "      <th>property_price</th>\n",
              "    </tr>\n",
              "  </thead>\n",
              "  <tbody>\n",
              "    <tr>\n",
              "      <th>count</th>\n",
              "      <td>419740.000000</td>\n",
              "      <td>419740.000000</td>\n",
              "      <td>0.0</td>\n",
              "      <td>368498.000000</td>\n",
              "      <td>344113.000000</td>\n",
              "      <td>397813.000000</td>\n",
              "      <td>4.279160e+05</td>\n",
              "      <td>4.421530e+05</td>\n",
              "    </tr>\n",
              "    <tr>\n",
              "      <th>mean</th>\n",
              "      <td>-34.228570</td>\n",
              "      <td>-59.557066</td>\n",
              "      <td>NaN</td>\n",
              "      <td>3.278053</td>\n",
              "      <td>2.297960</td>\n",
              "      <td>420.601250</td>\n",
              "      <td>9.605005e+03</td>\n",
              "      <td>3.063273e+05</td>\n",
              "    </tr>\n",
              "    <tr>\n",
              "      <th>std</th>\n",
              "      <td>3.251509</td>\n",
              "      <td>2.905129</td>\n",
              "      <td>NaN</td>\n",
              "      <td>1.870832</td>\n",
              "      <td>1.673985</td>\n",
              "      <td>4026.380748</td>\n",
              "      <td>3.440367e+06</td>\n",
              "      <td>4.899613e+06</td>\n",
              "    </tr>\n",
              "    <tr>\n",
              "      <th>min</th>\n",
              "      <td>-54.832057</td>\n",
              "      <td>-103.219258</td>\n",
              "      <td>NaN</td>\n",
              "      <td>1.000000</td>\n",
              "      <td>-3.000000</td>\n",
              "      <td>-1.000000</td>\n",
              "      <td>-3.000000e+00</td>\n",
              "      <td>0.000000e+00</td>\n",
              "    </tr>\n",
              "    <tr>\n",
              "      <th>25%</th>\n",
              "      <td>-34.640132</td>\n",
              "      <td>-58.899343</td>\n",
              "      <td>NaN</td>\n",
              "      <td>2.000000</td>\n",
              "      <td>1.000000</td>\n",
              "      <td>50.000000</td>\n",
              "      <td>4.500000e+01</td>\n",
              "      <td>4.490000e+04</td>\n",
              "    </tr>\n",
              "    <tr>\n",
              "      <th>50%</th>\n",
              "      <td>-34.585122</td>\n",
              "      <td>-58.488309</td>\n",
              "      <td>NaN</td>\n",
              "      <td>3.000000</td>\n",
              "      <td>2.000000</td>\n",
              "      <td>90.000000</td>\n",
              "      <td>7.800000e+01</td>\n",
              "      <td>9.800000e+04</td>\n",
              "    </tr>\n",
              "    <tr>\n",
              "      <th>75%</th>\n",
              "      <td>-34.423414</td>\n",
              "      <td>-58.404876</td>\n",
              "      <td>NaN</td>\n",
              "      <td>4.000000</td>\n",
              "      <td>3.000000</td>\n",
              "      <td>210.000000</td>\n",
              "      <td>1.700000e+02</td>\n",
              "      <td>1.990000e+05</td>\n",
              "    </tr>\n",
              "    <tr>\n",
              "      <th>max</th>\n",
              "      <td>42.557773</td>\n",
              "      <td>-35.044991</td>\n",
              "      <td>NaN</td>\n",
              "      <td>40.000000</td>\n",
              "      <td>390.000000</td>\n",
              "      <td>200000.000000</td>\n",
              "      <td>2.147484e+09</td>\n",
              "      <td>1.500000e+09</td>\n",
              "    </tr>\n",
              "  </tbody>\n",
              "</table>\n",
              "</div>\n",
              "      <button class=\"colab-df-convert\" onclick=\"convertToInteractive('df-e16c0ede-2265-4ad0-beda-4f1a62e2546c')\"\n",
              "              title=\"Convert this dataframe to an interactive table.\"\n",
              "              style=\"display:none;\">\n",
              "        \n",
              "  <svg xmlns=\"http://www.w3.org/2000/svg\" height=\"24px\"viewBox=\"0 0 24 24\"\n",
              "       width=\"24px\">\n",
              "    <path d=\"M0 0h24v24H0V0z\" fill=\"none\"/>\n",
              "    <path d=\"M18.56 5.44l.94 2.06.94-2.06 2.06-.94-2.06-.94-.94-2.06-.94 2.06-2.06.94zm-11 1L8.5 8.5l.94-2.06 2.06-.94-2.06-.94L8.5 2.5l-.94 2.06-2.06.94zm10 10l.94 2.06.94-2.06 2.06-.94-2.06-.94-.94-2.06-.94 2.06-2.06.94z\"/><path d=\"M17.41 7.96l-1.37-1.37c-.4-.4-.92-.59-1.43-.59-.52 0-1.04.2-1.43.59L10.3 9.45l-7.72 7.72c-.78.78-.78 2.05 0 2.83L4 21.41c.39.39.9.59 1.41.59.51 0 1.02-.2 1.41-.59l7.78-7.78 2.81-2.81c.8-.78.8-2.07 0-2.86zM5.41 20L4 18.59l7.72-7.72 1.47 1.35L5.41 20z\"/>\n",
              "  </svg>\n",
              "      </button>\n",
              "      \n",
              "  <style>\n",
              "    .colab-df-container {\n",
              "      display:flex;\n",
              "      flex-wrap:wrap;\n",
              "      gap: 12px;\n",
              "    }\n",
              "\n",
              "    .colab-df-convert {\n",
              "      background-color: #E8F0FE;\n",
              "      border: none;\n",
              "      border-radius: 50%;\n",
              "      cursor: pointer;\n",
              "      display: none;\n",
              "      fill: #1967D2;\n",
              "      height: 32px;\n",
              "      padding: 0 0 0 0;\n",
              "      width: 32px;\n",
              "    }\n",
              "\n",
              "    .colab-df-convert:hover {\n",
              "      background-color: #E2EBFA;\n",
              "      box-shadow: 0px 1px 2px rgba(60, 64, 67, 0.3), 0px 1px 3px 1px rgba(60, 64, 67, 0.15);\n",
              "      fill: #174EA6;\n",
              "    }\n",
              "\n",
              "    [theme=dark] .colab-df-convert {\n",
              "      background-color: #3B4455;\n",
              "      fill: #D2E3FC;\n",
              "    }\n",
              "\n",
              "    [theme=dark] .colab-df-convert:hover {\n",
              "      background-color: #434B5C;\n",
              "      box-shadow: 0px 1px 3px 1px rgba(0, 0, 0, 0.15);\n",
              "      filter: drop-shadow(0px 1px 2px rgba(0, 0, 0, 0.3));\n",
              "      fill: #FFFFFF;\n",
              "    }\n",
              "  </style>\n",
              "\n",
              "      <script>\n",
              "        const buttonEl =\n",
              "          document.querySelector('#df-e16c0ede-2265-4ad0-beda-4f1a62e2546c button.colab-df-convert');\n",
              "        buttonEl.style.display =\n",
              "          google.colab.kernel.accessAllowed ? 'block' : 'none';\n",
              "\n",
              "        async function convertToInteractive(key) {\n",
              "          const element = document.querySelector('#df-e16c0ede-2265-4ad0-beda-4f1a62e2546c');\n",
              "          const dataTable =\n",
              "            await google.colab.kernel.invokeFunction('convertToInteractive',\n",
              "                                                     [key], {});\n",
              "          if (!dataTable) return;\n",
              "\n",
              "          const docLinkHtml = 'Like what you see? Visit the ' +\n",
              "            '<a target=\"_blank\" href=https://colab.research.google.com/notebooks/data_table.ipynb>data table notebook</a>'\n",
              "            + ' to learn more about interactive tables.';\n",
              "          element.innerHTML = '';\n",
              "          dataTable['output_type'] = 'display_data';\n",
              "          await google.colab.output.renderOutput(dataTable, element);\n",
              "          const docLink = document.createElement('div');\n",
              "          docLink.innerHTML = docLinkHtml;\n",
              "          element.appendChild(docLink);\n",
              "        }\n",
              "      </script>\n",
              "    </div>\n",
              "  </div>\n",
              "  "
            ]
          },
          "metadata": {},
          "execution_count": 65
        }
      ],
      "source": [
        "df.describe()"
      ]
    },
    {
      "cell_type": "code",
      "execution_count": 66,
      "metadata": {
        "pycharm": {
          "name": "#%%\n"
        },
        "colab": {
          "base_uri": "https://localhost:8080/"
        },
        "id": "OWjVXHGiLQON",
        "outputId": "94c8cb9d-1c91-4e05-9c4e-7c8158eef569"
      },
      "outputs": [
        {
          "output_type": "stream",
          "name": "stdout",
          "text": [
            "<class 'pandas.core.frame.DataFrame'>\n",
            "RangeIndex: 460154 entries, 0 to 460153\n",
            "Data columns (total 20 columns):\n",
            " #   Column                    Non-Null Count   Dtype  \n",
            "---  ------                    --------------   -----  \n",
            " 0   id                        460154 non-null  object \n",
            " 1   start_date                460154 non-null  object \n",
            " 2   end_date                  460154 non-null  object \n",
            " 3   created_on                460154 non-null  object \n",
            " 4   latitud                   419740 non-null  float64\n",
            " 5   longitud                  419740 non-null  float64\n",
            " 6   place_l2                  460154 non-null  object \n",
            " 7   place_l3                  437665 non-null  object \n",
            " 8   place_l4                  139020 non-null  object \n",
            " 9   place_l5                  2430 non-null    object \n",
            " 10  place_l6                  0 non-null       float64\n",
            " 11  operation                 460154 non-null  object \n",
            " 12  property_type             460154 non-null  object \n",
            " 13  property_rooms            368498 non-null  float64\n",
            " 14  property_bedrooms         344113 non-null  float64\n",
            " 15  property_surface_total    397813 non-null  float64\n",
            " 16  property_surface_covered  427916 non-null  float64\n",
            " 17  property_price            442153 non-null  float64\n",
            " 18  property_currency         441590 non-null  object \n",
            " 19  property_title            460154 non-null  object \n",
            "dtypes: float64(8), object(12)\n",
            "memory usage: 70.2+ MB\n"
          ]
        }
      ],
      "source": [
        "df.info()"
      ]
    },
    {
      "cell_type": "code",
      "execution_count": 67,
      "metadata": {
        "pycharm": {
          "name": "#%%\n"
        },
        "colab": {
          "base_uri": "https://localhost:8080/"
        },
        "id": "Nw3ltYSpLQOO",
        "outputId": "d5a16d8e-44df-4847-c5ae-d9bcd98f3e0b"
      },
      "outputs": [
        {
          "output_type": "execute_result",
          "data": {
            "text/plain": [
              "id                           object\n",
              "start_date                   object\n",
              "end_date                     object\n",
              "created_on                   object\n",
              "latitud                     float64\n",
              "longitud                    float64\n",
              "place_l2                     object\n",
              "place_l3                     object\n",
              "place_l4                     object\n",
              "place_l5                     object\n",
              "place_l6                    float64\n",
              "operation                    object\n",
              "property_type                object\n",
              "property_rooms              float64\n",
              "property_bedrooms           float64\n",
              "property_surface_total      float64\n",
              "property_surface_covered    float64\n",
              "property_price              float64\n",
              "property_currency            object\n",
              "property_title               object\n",
              "dtype: object"
            ]
          },
          "metadata": {},
          "execution_count": 67
        }
      ],
      "source": [
        "df.dtypes"
      ]
    },
    {
      "cell_type": "markdown",
      "metadata": {
        "pycharm": {
          "name": "#%% md\n"
        },
        "id": "jxoknznjLQOO"
      },
      "source": [
        "## Descripción de las columnas\n",
        "- type - Tipo de aviso (Propiedad, Desarrollo/Proyecto).\n",
        "- country - País en el que está publicado el aviso (Argentina, Uruguay, Colombia, Ecuador, Perú)\n",
        "- id - Identificador del aviso. No es único: si el aviso es actualizado por la inmobiliaria (nueva versión del aviso) se crea un nuevo registro con la misma id pero distintas fechas: de alta y de baja.\n",
        "- start_date - Fecha de alta del aviso.\n",
        "- end_date - Fecha de baja del aviso.\n",
        "- created_on - Fecha de alta de la primera versión del aviso.\n",
        "- place - Campos referidos a la ubicación de la propiedad o del desarrollo.\n",
        "\n",
        "   - lat - Latitud.\n",
        "\n",
        "   - lon - Longitud.\n",
        "\n",
        "   - l1 - Nivel administrativo 1: país.\n",
        "\n",
        "   - l2 - Nivel administrativo 2: usualmente provincia.\n",
        "\n",
        "   - l3 - Nivel administrativo 3: usualmente ciudad.\n",
        "\n",
        "   - l4 - Nivel administrativo 4: usualmente barrio.\n",
        "- property - Campos relativos a la propiedad (vacío si el aviso es de un desarrollo/proyecto).\n",
        "\n",
        "   - operation - Tipo de operación (Venta, Alquiler).\n",
        "\n",
        "   - type - Tipo de propiedad (Casa, Departamento, PH).\n",
        "\n",
        "   - rooms - Cantidad de ambientes (útil en Argentina).\n",
        "\n",
        "   - bedrooms - Cantidad de dormitorios (útil en el resto de los países).\n",
        "\n",
        "   - bathrooms - Cantidad de baños.\n",
        "\n",
        "   - surface_total - Superficie total en m².\n",
        "\n",
        "   - surface_covered - Superficie cubierta en m².\n",
        "\n",
        "   - price - Precio publicado en el anuncio.\n",
        "\n",
        "   - currency - Moneda del precio publicado.\n",
        "\n",
        "   - price_period - Periodo del precio (Diario, Semanal, Mensual)\n",
        "\n",
        "   - title - Título del anuncio.\n",
        "\n",
        "   - description - Descripción del anuncio.\n",
        "- development - Campos relativos al desarrollo inmobiliario (vacío si el aviso es de una propiedad).\n",
        "- status - Estado del desarrollo (Terminado, En construcción, ...)\n",
        "- name - Nombre del desarrollo.\n",
        "- short_description - Descripción corta del anuncio.\n",
        "- description - Descripción del anuncio.\n"
      ]
    },
    {
      "cell_type": "markdown",
      "metadata": {
        "pycharm": {
          "name": "#%% md\n"
        },
        "id": "JwgUVMIBLQOP"
      },
      "source": [
        "## Filtrado inicial del Dataset\n",
        "Como trabajaremos con un universo acotado de propiedades, haremos una selección inicial de las publicaciones que nos interesa analizar:\n",
        "\n",
        "Como primer paso hay que filtrar las observaciones que su tipo de vivienda sea: Casa, PH o Departamento.\n",
        "\n",
        "Luego filtramos la ubicacion quedandonos unicamente con las propiedades de Capital Federal.\n",
        "\n",
        "A continuación, consideraremos solo las que esten cotizadas en dolares.\n",
        "\n",
        "Y finalmente, tomamos solo las que sean ventas"
      ]
    },
    {
      "cell_type": "code",
      "execution_count": 68,
      "metadata": {
        "pycharm": {
          "name": "#%%\n"
        },
        "colab": {
          "base_uri": "https://localhost:8080/",
          "height": 424
        },
        "id": "1DujzqFCLQOP",
        "outputId": "868af06a-3eaf-49b6-84f1-c8b6c7219a6d"
      },
      "outputs": [
        {
          "output_type": "execute_result",
          "data": {
            "text/plain": [
              "               place_l2              place_l3 property_currency property_type  \\\n",
              "25      Capital Federal                   NaN               USD          Casa   \n",
              "42      Capital Federal                  Boca               USD  Departamento   \n",
              "43      Capital Federal                  Boca               USD  Departamento   \n",
              "49      Capital Federal                  Once               USD  Departamento   \n",
              "51      Capital Federal                 Boedo               USD            PH   \n",
              "...                 ...                   ...               ...           ...   \n",
              "460072  Capital Federal      Villa del Parque               USD  Departamento   \n",
              "460073  Capital Federal      Villa del Parque               USD  Departamento   \n",
              "460074  Capital Federal      Villa del Parque               USD  Departamento   \n",
              "460075  Capital Federal      Villa del Parque               USD  Departamento   \n",
              "460090  Capital Federal  Centro / Microcentro               USD  Departamento   \n",
              "\n",
              "       operation  \n",
              "25         Venta  \n",
              "42         Venta  \n",
              "43         Venta  \n",
              "49         Venta  \n",
              "51         Venta  \n",
              "...          ...  \n",
              "460072     Venta  \n",
              "460073     Venta  \n",
              "460074     Venta  \n",
              "460075     Venta  \n",
              "460090     Venta  \n",
              "\n",
              "[94249 rows x 5 columns]"
            ],
            "text/html": [
              "\n",
              "  <div id=\"df-2b305c0c-3333-49e4-b61b-df2ad7d41168\">\n",
              "    <div class=\"colab-df-container\">\n",
              "      <div>\n",
              "<style scoped>\n",
              "    .dataframe tbody tr th:only-of-type {\n",
              "        vertical-align: middle;\n",
              "    }\n",
              "\n",
              "    .dataframe tbody tr th {\n",
              "        vertical-align: top;\n",
              "    }\n",
              "\n",
              "    .dataframe thead th {\n",
              "        text-align: right;\n",
              "    }\n",
              "</style>\n",
              "<table border=\"1\" class=\"dataframe\">\n",
              "  <thead>\n",
              "    <tr style=\"text-align: right;\">\n",
              "      <th></th>\n",
              "      <th>place_l2</th>\n",
              "      <th>place_l3</th>\n",
              "      <th>property_currency</th>\n",
              "      <th>property_type</th>\n",
              "      <th>operation</th>\n",
              "    </tr>\n",
              "  </thead>\n",
              "  <tbody>\n",
              "    <tr>\n",
              "      <th>25</th>\n",
              "      <td>Capital Federal</td>\n",
              "      <td>NaN</td>\n",
              "      <td>USD</td>\n",
              "      <td>Casa</td>\n",
              "      <td>Venta</td>\n",
              "    </tr>\n",
              "    <tr>\n",
              "      <th>42</th>\n",
              "      <td>Capital Federal</td>\n",
              "      <td>Boca</td>\n",
              "      <td>USD</td>\n",
              "      <td>Departamento</td>\n",
              "      <td>Venta</td>\n",
              "    </tr>\n",
              "    <tr>\n",
              "      <th>43</th>\n",
              "      <td>Capital Federal</td>\n",
              "      <td>Boca</td>\n",
              "      <td>USD</td>\n",
              "      <td>Departamento</td>\n",
              "      <td>Venta</td>\n",
              "    </tr>\n",
              "    <tr>\n",
              "      <th>49</th>\n",
              "      <td>Capital Federal</td>\n",
              "      <td>Once</td>\n",
              "      <td>USD</td>\n",
              "      <td>Departamento</td>\n",
              "      <td>Venta</td>\n",
              "    </tr>\n",
              "    <tr>\n",
              "      <th>51</th>\n",
              "      <td>Capital Federal</td>\n",
              "      <td>Boedo</td>\n",
              "      <td>USD</td>\n",
              "      <td>PH</td>\n",
              "      <td>Venta</td>\n",
              "    </tr>\n",
              "    <tr>\n",
              "      <th>...</th>\n",
              "      <td>...</td>\n",
              "      <td>...</td>\n",
              "      <td>...</td>\n",
              "      <td>...</td>\n",
              "      <td>...</td>\n",
              "    </tr>\n",
              "    <tr>\n",
              "      <th>460072</th>\n",
              "      <td>Capital Federal</td>\n",
              "      <td>Villa del Parque</td>\n",
              "      <td>USD</td>\n",
              "      <td>Departamento</td>\n",
              "      <td>Venta</td>\n",
              "    </tr>\n",
              "    <tr>\n",
              "      <th>460073</th>\n",
              "      <td>Capital Federal</td>\n",
              "      <td>Villa del Parque</td>\n",
              "      <td>USD</td>\n",
              "      <td>Departamento</td>\n",
              "      <td>Venta</td>\n",
              "    </tr>\n",
              "    <tr>\n",
              "      <th>460074</th>\n",
              "      <td>Capital Federal</td>\n",
              "      <td>Villa del Parque</td>\n",
              "      <td>USD</td>\n",
              "      <td>Departamento</td>\n",
              "      <td>Venta</td>\n",
              "    </tr>\n",
              "    <tr>\n",
              "      <th>460075</th>\n",
              "      <td>Capital Federal</td>\n",
              "      <td>Villa del Parque</td>\n",
              "      <td>USD</td>\n",
              "      <td>Departamento</td>\n",
              "      <td>Venta</td>\n",
              "    </tr>\n",
              "    <tr>\n",
              "      <th>460090</th>\n",
              "      <td>Capital Federal</td>\n",
              "      <td>Centro / Microcentro</td>\n",
              "      <td>USD</td>\n",
              "      <td>Departamento</td>\n",
              "      <td>Venta</td>\n",
              "    </tr>\n",
              "  </tbody>\n",
              "</table>\n",
              "<p>94249 rows × 5 columns</p>\n",
              "</div>\n",
              "      <button class=\"colab-df-convert\" onclick=\"convertToInteractive('df-2b305c0c-3333-49e4-b61b-df2ad7d41168')\"\n",
              "              title=\"Convert this dataframe to an interactive table.\"\n",
              "              style=\"display:none;\">\n",
              "        \n",
              "  <svg xmlns=\"http://www.w3.org/2000/svg\" height=\"24px\"viewBox=\"0 0 24 24\"\n",
              "       width=\"24px\">\n",
              "    <path d=\"M0 0h24v24H0V0z\" fill=\"none\"/>\n",
              "    <path d=\"M18.56 5.44l.94 2.06.94-2.06 2.06-.94-2.06-.94-.94-2.06-.94 2.06-2.06.94zm-11 1L8.5 8.5l.94-2.06 2.06-.94-2.06-.94L8.5 2.5l-.94 2.06-2.06.94zm10 10l.94 2.06.94-2.06 2.06-.94-2.06-.94-.94-2.06-.94 2.06-2.06.94z\"/><path d=\"M17.41 7.96l-1.37-1.37c-.4-.4-.92-.59-1.43-.59-.52 0-1.04.2-1.43.59L10.3 9.45l-7.72 7.72c-.78.78-.78 2.05 0 2.83L4 21.41c.39.39.9.59 1.41.59.51 0 1.02-.2 1.41-.59l7.78-7.78 2.81-2.81c.8-.78.8-2.07 0-2.86zM5.41 20L4 18.59l7.72-7.72 1.47 1.35L5.41 20z\"/>\n",
              "  </svg>\n",
              "      </button>\n",
              "      \n",
              "  <style>\n",
              "    .colab-df-container {\n",
              "      display:flex;\n",
              "      flex-wrap:wrap;\n",
              "      gap: 12px;\n",
              "    }\n",
              "\n",
              "    .colab-df-convert {\n",
              "      background-color: #E8F0FE;\n",
              "      border: none;\n",
              "      border-radius: 50%;\n",
              "      cursor: pointer;\n",
              "      display: none;\n",
              "      fill: #1967D2;\n",
              "      height: 32px;\n",
              "      padding: 0 0 0 0;\n",
              "      width: 32px;\n",
              "    }\n",
              "\n",
              "    .colab-df-convert:hover {\n",
              "      background-color: #E2EBFA;\n",
              "      box-shadow: 0px 1px 2px rgba(60, 64, 67, 0.3), 0px 1px 3px 1px rgba(60, 64, 67, 0.15);\n",
              "      fill: #174EA6;\n",
              "    }\n",
              "\n",
              "    [theme=dark] .colab-df-convert {\n",
              "      background-color: #3B4455;\n",
              "      fill: #D2E3FC;\n",
              "    }\n",
              "\n",
              "    [theme=dark] .colab-df-convert:hover {\n",
              "      background-color: #434B5C;\n",
              "      box-shadow: 0px 1px 3px 1px rgba(0, 0, 0, 0.15);\n",
              "      filter: drop-shadow(0px 1px 2px rgba(0, 0, 0, 0.3));\n",
              "      fill: #FFFFFF;\n",
              "    }\n",
              "  </style>\n",
              "\n",
              "      <script>\n",
              "        const buttonEl =\n",
              "          document.querySelector('#df-2b305c0c-3333-49e4-b61b-df2ad7d41168 button.colab-df-convert');\n",
              "        buttonEl.style.display =\n",
              "          google.colab.kernel.accessAllowed ? 'block' : 'none';\n",
              "\n",
              "        async function convertToInteractive(key) {\n",
              "          const element = document.querySelector('#df-2b305c0c-3333-49e4-b61b-df2ad7d41168');\n",
              "          const dataTable =\n",
              "            await google.colab.kernel.invokeFunction('convertToInteractive',\n",
              "                                                     [key], {});\n",
              "          if (!dataTable) return;\n",
              "\n",
              "          const docLinkHtml = 'Like what you see? Visit the ' +\n",
              "            '<a target=\"_blank\" href=https://colab.research.google.com/notebooks/data_table.ipynb>data table notebook</a>'\n",
              "            + ' to learn more about interactive tables.';\n",
              "          element.innerHTML = '';\n",
              "          dataTable['output_type'] = 'display_data';\n",
              "          await google.colab.output.renderOutput(dataTable, element);\n",
              "          const docLink = document.createElement('div');\n",
              "          docLink.innerHTML = docLinkHtml;\n",
              "          element.appendChild(docLink);\n",
              "        }\n",
              "      </script>\n",
              "    </div>\n",
              "  </div>\n",
              "  "
            ]
          },
          "metadata": {},
          "execution_count": 68
        }
      ],
      "source": [
        "df_tipo_vivienda = df[(df.property_type == \"Casa\") | (df.property_type == \"PH\") | (df.property_type == \"Departamento\")]\n",
        "df_por_ubicacion = df_tipo_vivienda[\n",
        "    (df_tipo_vivienda.place_l2 == \"Capital Federal\") | (df_tipo_vivienda.place_l3 == \"Capital Federal\")]\n",
        "df_cotizacion_usd = df_por_ubicacion[df_por_ubicacion.property_currency == \"USD\"]\n",
        "ds_filtrado = df_cotizacion_usd[df_cotizacion_usd.operation == \"Venta\"]\n",
        "\n",
        "ds_filtrado[[\"place_l2\", \"place_l3\", \"property_currency\", \"property_type\", \"operation\"]]"
      ]
    },
    {
      "cell_type": "markdown",
      "metadata": {
        "pycharm": {
          "name": "#%% md\n"
        },
        "id": "xRGSuR5JLQOQ"
      },
      "source": [
        "A partir de aquí trabajaremos con el dataset filtrado (`ds_filtrado`)\n",
        "\n",
        "Analizando los tipos de dato de los campos:\n",
        "- Hay 3 campos de fecha, evaluaremos más adelante como tratarlos.\n",
        "- Tenemos latitud y longitd en su formato correcto\n",
        "- Hay una variable place_l6 que no debería ser un número, también analizaremos a que se debe.\n",
        "- La cantidad de habitaciones (rooms y bedrooms) quizás debería tener valores enteros.\n",
        "- El precio tiene un tipo correcto"
      ]
    },
    {
      "cell_type": "markdown",
      "metadata": {
        "pycharm": {
          "name": "#%% md\n"
        },
        "id": "NhbTz94XLQOQ"
      },
      "source": [
        "## Exploración Inicial"
      ]
    },
    {
      "cell_type": "markdown",
      "metadata": {
        "pycharm": {
          "name": "#%% md\n"
        },
        "id": "WzgZZ3DvLQOQ"
      },
      "source": [
        "### Tipos de variable"
      ]
    },
    {
      "cell_type": "code",
      "execution_count": 69,
      "metadata": {
        "pycharm": {
          "name": "#%%\n"
        },
        "colab": {
          "base_uri": "https://localhost:8080/"
        },
        "id": "R5A31s5gLQOR",
        "outputId": "b34a3357-b794-46b8-dabd-a14df7ab05ad"
      },
      "outputs": [
        {
          "output_type": "execute_result",
          "data": {
            "text/plain": [
              "{'Categoricas': ['start_date',\n",
              "  'end_date',\n",
              "  'place_l2',\n",
              "  'place_l3',\n",
              "  'place_l4',\n",
              "  'place_l5',\n",
              "  'place_l6',\n",
              "  'operation',\n",
              "  'property_type',\n",
              "  'property_currency',\n",
              "  'property_title'],\n",
              " 'Ordinales': [],\n",
              " 'Cuantitativas Discretas': ['property_rooms',\n",
              "  'property_bedrooms',\n",
              "  'property_surface_total',\n",
              "  'property_surface_covered'],\n",
              " 'Cuantitativas Continuas': ['property_rooms',\n",
              "  'property_bedrooms',\n",
              "  'property_surface_total',\n",
              "  'property_surface_covered']}"
            ]
          },
          "metadata": {},
          "execution_count": 69
        }
      ],
      "source": [
        "# TODO: Tipos de variables\n",
        "\n",
        "# Categoricas o Cuantitivas\n",
        "    # Fechas -> Start Date y End Date\n",
        "    # Places -> l2, l3, l4, l5, l6\n",
        "    # Operacion\n",
        "    # Tipo de Propiedad\n",
        "    # Currency\n",
        "    # Property Title\n",
        "\n",
        "# Cuasicuantitativas u ordinales\n",
        "\n",
        "# Cuantitativas discretas\n",
        "    # Rooms\n",
        "    # Bedrooms\n",
        "    # Surface -> Total y Covered\n",
        "    # Price\n",
        "\n",
        "# Cuantitativas continuas\n",
        "    # Latitud y Longitud\n",
        "\n",
        "\n",
        "categoricas = ['start_date', 'end_date', 'place_l2', 'place_l3', 'place_l4', 'place_l5', 'place_l6', 'operation', 'property_type', 'property_currency', 'property_title']\n",
        "cuantitativas_discretas = ['property_rooms', 'property_bedrooms', 'property_surface_total', 'property_surface_covered']\n",
        "cuantitativas_continuas = ['latitud', 'longitud']\n",
        "tipos_de_variable = {'Categoricas': categoricas, 'Ordinales': [], 'Cuantitativas Discretas': cuantitativas_discretas, 'Cuantitativas Continuas': cuantitativas_discretas}\n",
        "\n",
        "cuantitativas = cuantitativas_discretas + cuantitativas_continuas\n",
        "\n",
        "tipos_de_variable"
      ]
    },
    {
      "cell_type": "markdown",
      "metadata": {
        "pycharm": {
          "name": "#%% md\n"
        },
        "id": "1az7CMHPLQOR"
      },
      "source": [
        "### Fechas\n"
      ]
    },
    {
      "cell_type": "code",
      "execution_count": 70,
      "metadata": {
        "pycharm": {
          "name": "#%%\n"
        },
        "colab": {
          "base_uri": "https://localhost:8080/"
        },
        "id": "sZ2ccgNXLQOR",
        "outputId": "adef4053-6f38-45c9-a31a-133085ea42fa"
      },
      "outputs": [
        {
          "output_type": "execute_result",
          "data": {
            "text/plain": [
              "start_date    0\n",
              "end_date      0\n",
              "created_on    0\n",
              "dtype: int64"
            ]
          },
          "metadata": {},
          "execution_count": 70
        }
      ],
      "source": [
        "ds_filtrado[[\"start_date\", \"end_date\", \"created_on\"]].isna().sum()"
      ]
    },
    {
      "cell_type": "code",
      "execution_count": 71,
      "metadata": {
        "pycharm": {
          "name": "#%%\n"
        },
        "colab": {
          "base_uri": "https://localhost:8080/"
        },
        "id": "H3n_AqhzLQOS",
        "outputId": "85caca02-19f3-4cc4-a604-239ad075d79c"
      },
      "outputs": [
        {
          "output_type": "execute_result",
          "data": {
            "text/plain": [
              "2021-12-16    4674\n",
              "2021-02-13    2121\n",
              "2021-11-03    1016\n",
              "2021-08-03     836\n",
              "2021-04-10     819\n",
              "              ... \n",
              "2021-11-21      18\n",
              "2021-12-19      13\n",
              "2021-01-02      12\n",
              "2021-10-24      10\n",
              "2021-11-27       1\n",
              "Name: start_date, Length: 365, dtype: int64"
            ]
          },
          "metadata": {},
          "execution_count": 71
        }
      ],
      "source": [
        "ds_filtrado[\"start_date\"].value_counts()"
      ]
    },
    {
      "cell_type": "code",
      "execution_count": 72,
      "metadata": {
        "pycharm": {
          "name": "#%%\n"
        },
        "colab": {
          "base_uri": "https://localhost:8080/"
        },
        "id": "LKcPiKQKLQOS",
        "outputId": "a8eca237-a6b7-410d-a599-c9f1b9a13fc4"
      },
      "outputs": [
        {
          "output_type": "execute_result",
          "data": {
            "text/plain": [
              "2021-06-05    12817\n",
              "2022-01-27     9287\n",
              "2022-02-09     7633\n",
              "9999-12-31     5041\n",
              "2021-03-01     1857\n",
              "              ...  \n",
              "2022-08-26        1\n",
              "2022-08-16        1\n",
              "2022-06-14        1\n",
              "2022-08-22        1\n",
              "2022-03-22        1\n",
              "Name: end_date, Length: 607, dtype: int64"
            ]
          },
          "metadata": {},
          "execution_count": 72
        }
      ],
      "source": [
        "ds_filtrado[\"end_date\"].value_counts()"
      ]
    },
    {
      "cell_type": "code",
      "execution_count": 73,
      "metadata": {
        "pycharm": {
          "name": "#%%\n"
        },
        "colab": {
          "base_uri": "https://localhost:8080/"
        },
        "id": "zb6z92oNLQOS",
        "outputId": "83fe514a-8e04-4836-c9f1-0e0dedda0e7b"
      },
      "outputs": [
        {
          "output_type": "execute_result",
          "data": {
            "text/plain": [
              "(0, 20)"
            ]
          },
          "metadata": {},
          "execution_count": 73
        }
      ],
      "source": [
        "ds_filtrado[ds_filtrado.created_on != ds_filtrado.start_date].shape"
      ]
    },
    {
      "cell_type": "markdown",
      "metadata": {
        "pycharm": {
          "name": "#%% md\n"
        },
        "id": "KCYl52qNLQOT"
      },
      "source": [
        "Podemos ver que la columnas created_on y start_date siempre son iguales, descartaremos una de ellas más adelante."
      ]
    },
    {
      "cell_type": "code",
      "execution_count": 74,
      "metadata": {
        "pycharm": {
          "name": "#%%\n"
        },
        "colab": {
          "base_uri": "https://localhost:8080/"
        },
        "id": "7AOH_EYSLQOT",
        "outputId": "cf965301-7744-4c61-96f0-4d65830d610b"
      },
      "outputs": [
        {
          "output_type": "execute_result",
          "data": {
            "text/plain": [
              "2021-12-16    4674\n",
              "2021-02-13    2121\n",
              "2021-11-03    1016\n",
              "2021-08-03     836\n",
              "2021-04-10     819\n",
              "              ... \n",
              "2021-11-21      18\n",
              "2021-12-19      13\n",
              "2021-01-02      12\n",
              "2021-10-24      10\n",
              "2021-11-27       1\n",
              "Name: created_on, Length: 365, dtype: int64"
            ]
          },
          "metadata": {},
          "execution_count": 74
        }
      ],
      "source": [
        "ds_filtrado[\"created_on\"].value_counts()"
      ]
    },
    {
      "cell_type": "markdown",
      "metadata": {
        "pycharm": {
          "name": "#%% md\n"
        },
        "id": "Xj7wKTngLQOT"
      },
      "source": [
        "Hay un valor extraño en end_date, la fecha 9999-12-31, hay 5041 apariciones de esta fecha"
      ]
    },
    {
      "cell_type": "code",
      "execution_count": 75,
      "metadata": {
        "pycharm": {
          "name": "#%%\n"
        },
        "colab": {
          "base_uri": "https://localhost:8080/"
        },
        "id": "wgJVsBimLQOT",
        "outputId": "e7939a54-12b9-46f2-f94e-98ca7c3d9ad2"
      },
      "outputs": [
        {
          "output_type": "execute_result",
          "data": {
            "text/plain": [
              "2021-02-09    132\n",
              "2021-06-24    122\n",
              "2021-06-30     79\n",
              "2021-02-23     74\n",
              "2021-07-21     67\n",
              "             ... \n",
              "2021-12-27      1\n",
              "2021-11-29      1\n",
              "2021-03-09      1\n",
              "2021-05-10      1\n",
              "2021-04-02      1\n",
              "Name: start_date, Length: 296, dtype: int64"
            ]
          },
          "metadata": {},
          "execution_count": 75
        }
      ],
      "source": [
        "ds_filtrado[ds_filtrado.end_date == '9999-12-31']['start_date'].value_counts()"
      ]
    },
    {
      "cell_type": "markdown",
      "metadata": {
        "pycharm": {
          "name": "#%% md\n"
        },
        "id": "zGaQ3WZRLQOT"
      },
      "source": [
        "Considerando que todas las fechas son de 2021, y que el dato que falta es el del fin de la publicación (es decir, la casa esta publicada) y a fines de preservar estos datos, traeremos a consideración la duración promedio de cada publicación, calcularemos ese promedio dejando fuera los 5041 casos que presentan la fecha inválida.\n",
        "\n",
        "Tomaremos para el cálculo las fechas convertidas a datetime."
      ]
    },
    {
      "cell_type": "code",
      "execution_count": 76,
      "metadata": {
        "pycharm": {
          "name": "#%%\n"
        },
        "colab": {
          "base_uri": "https://localhost:8080/"
        },
        "id": "LdLL6aw6LQOU",
        "outputId": "ab46e0c5-ff44-404a-9c0d-5bdb7aa1f3ff"
      },
      "outputs": [
        {
          "output_type": "execute_result",
          "data": {
            "text/plain": [
              "count                         89208\n",
              "mean     74 days 10:42:07.845036320\n",
              "std      84 days 04:14:04.193191497\n",
              "min                 0 days 00:00:00\n",
              "25%                16 days 00:00:00\n",
              "50%                51 days 00:00:00\n",
              "75%                99 days 00:00:00\n",
              "max               618 days 00:00:00\n",
              "dtype: object"
            ]
          },
          "metadata": {},
          "execution_count": 76
        }
      ],
      "source": [
        "dias = pd.to_datetime(ds_filtrado[ds_filtrado.end_date != '9999-12-31']['end_date']) - pd.to_datetime(\n",
        "    ds_filtrado[ds_filtrado.end_date != '9999-12-31']['start_date'])\n",
        "dias.describe()"
      ]
    },
    {
      "cell_type": "markdown",
      "metadata": {
        "pycharm": {
          "name": "#%% md\n"
        },
        "id": "MCC3ymMpLQOU"
      },
      "source": [
        "El promedio de la duración de las publicaciones es casi de 75 días, asumiremos que las publicaciones con la fecha invalida duraron lo mismo que el promedio y tomaremos como fecha final la fecha de inicio + 75 días."
      ]
    },
    {
      "cell_type": "code",
      "execution_count": 77,
      "metadata": {
        "pycharm": {
          "name": "#%%\n"
        },
        "colab": {
          "base_uri": "https://localhost:8080/"
        },
        "id": "d4xRGen3LQOU",
        "outputId": "1961fecb-e177-4795-d8e4-c3416e637c47"
      },
      "outputs": [
        {
          "output_type": "stream",
          "name": "stderr",
          "text": [
            "/usr/local/lib/python3.7/dist-packages/pandas/core/indexing.py:1773: SettingWithCopyWarning: \n",
            "A value is trying to be set on a copy of a slice from a DataFrame.\n",
            "Try using .loc[row_indexer,col_indexer] = value instead\n",
            "\n",
            "See the caveats in the documentation: https://pandas.pydata.org/pandas-docs/stable/user_guide/indexing.html#returning-a-view-versus-a-copy\n",
            "  self._setitem_single_column(ilocs[0], value, pi)\n"
          ]
        },
        {
          "output_type": "execute_result",
          "data": {
            "text/plain": [
              "25        2021-09-26\n",
              "42        2021-09-26\n",
              "43        2021-09-28\n",
              "49        2022-01-05\n",
              "51        2022-03-09\n",
              "             ...    \n",
              "460072    2022-09-02\n",
              "460073    2021-02-17\n",
              "460074    2021-01-27\n",
              "460075    2021-01-27\n",
              "460090    2021-01-08\n",
              "Name: end_date, Length: 94249, dtype: object"
            ]
          },
          "metadata": {},
          "execution_count": 77
        }
      ],
      "source": [
        "ds_filtrado.loc[ds_filtrado.end_date == '9999-12-31', 'end_date'] = pd.to_datetime(\n",
        "    ds_filtrado[ds_filtrado.end_date == '9999-12-31']['start_date']) + dias.mean()\n",
        "ds_filtrado.end_date"
      ]
    },
    {
      "cell_type": "markdown",
      "metadata": {
        "pycharm": {
          "name": "#%% md\n"
        },
        "id": "X64AaYE0LQOU"
      },
      "source": [
        "Finalmente, como todos los valores son formatos válidos de fecha, podemos convertir sin problemas."
      ]
    },
    {
      "cell_type": "markdown",
      "metadata": {
        "pycharm": {
          "name": "#%% md\n"
        },
        "id": "5noSSMY0LQOU"
      },
      "source": [
        "### Conversion tipo de dato"
      ]
    },
    {
      "cell_type": "code",
      "execution_count": 78,
      "metadata": {
        "pycharm": {
          "name": "#%%\n"
        },
        "colab": {
          "base_uri": "https://localhost:8080/"
        },
        "id": "mp8_BRoTLQOV",
        "outputId": "4e32b23b-9c21-4776-8a5a-010296ef4c4a"
      },
      "outputs": [
        {
          "output_type": "execute_result",
          "data": {
            "text/plain": [
              "id                                  object\n",
              "start_date                  datetime64[ns]\n",
              "end_date                    datetime64[ns]\n",
              "created_on                  datetime64[ns]\n",
              "latitud                            float64\n",
              "longitud                           float64\n",
              "place_l2                            object\n",
              "place_l3                            object\n",
              "place_l4                            object\n",
              "place_l5                            object\n",
              "place_l6                           float64\n",
              "operation                           object\n",
              "property_type                       object\n",
              "property_rooms                     float64\n",
              "property_bedrooms                  float64\n",
              "property_surface_total             float64\n",
              "property_surface_covered           float64\n",
              "property_price                     float64\n",
              "property_currency                   object\n",
              "property_title                      object\n",
              "dtype: object"
            ]
          },
          "metadata": {},
          "execution_count": 78
        }
      ],
      "source": [
        "new_ds = ds_filtrado.copy()\n",
        "new_ds.start_date = pd.to_datetime(new_ds.start_date, infer_datetime_format=True)\n",
        "new_ds.end_date = pd.to_datetime(new_ds.end_date, infer_datetime_format=True)\n",
        "new_ds.created_on = pd.to_datetime(new_ds.created_on, infer_datetime_format=True)\n",
        "ds_filtrado = new_ds.copy()\n",
        "ds_filtrado.dtypes"
      ]
    },
    {
      "cell_type": "markdown",
      "metadata": {
        "pycharm": {
          "name": "#%% md\n"
        },
        "id": "1mXl9xLGLQOV"
      },
      "source": [
        "## Variables Cuantitativas: calcular medidas de resumen: media, mediana, q1, q3, moda"
      ]
    },
    {
      "cell_type": "code",
      "execution_count": 79,
      "metadata": {
        "pycharm": {
          "name": "#%%\n"
        },
        "colab": {
          "base_uri": "https://localhost:8080/",
          "height": 332
        },
        "id": "DIC-CDrbLQOV",
        "outputId": "a8d66b7c-26ff-47ba-f7af-7e9808e56854"
      },
      "outputs": [
        {
          "output_type": "execute_result",
          "data": {
            "text/plain": [
              "            property_rooms  property_bedrooms  property_surface_total  \\\n",
              "count         93205.000000       83262.000000            89405.000000   \n",
              "mean              2.822799           2.014629              109.092970   \n",
              "std               1.426148           1.129767              980.401976   \n",
              "min               1.000000          -1.000000               10.000000   \n",
              "quartile 1        2.000000           1.000000               45.000000   \n",
              "median            3.000000           2.000000               65.000000   \n",
              "quartile 3        4.000000           3.000000              105.000000   \n",
              "max              40.000000          70.000000           137000.000000   \n",
              "mode              3.000000           1.000000               50.000000   \n",
              "\n",
              "            property_surface_covered       latitud      longitud  \n",
              "count                   90895.000000  90519.000000  90519.000000  \n",
              "mean                       87.931932    -34.591481    -58.449795  \n",
              "std                       990.927129      0.181719      0.292630  \n",
              "min                         1.000000    -53.788624    -71.471192  \n",
              "quartile 1                 40.000000    -34.615975    -58.466522  \n",
              "median                     58.000000    -34.595790    -58.439000  \n",
              "quartile 3                 88.000000    -34.577413    -58.408862  \n",
              "max                    217000.000000    -24.219827    -54.133330  \n",
              "mode                       40.000000    -34.541250    -58.472966  "
            ],
            "text/html": [
              "\n",
              "  <div id=\"df-644374b6-b4c2-430c-8081-17fb45c94bec\">\n",
              "    <div class=\"colab-df-container\">\n",
              "      <div>\n",
              "<style scoped>\n",
              "    .dataframe tbody tr th:only-of-type {\n",
              "        vertical-align: middle;\n",
              "    }\n",
              "\n",
              "    .dataframe tbody tr th {\n",
              "        vertical-align: top;\n",
              "    }\n",
              "\n",
              "    .dataframe thead th {\n",
              "        text-align: right;\n",
              "    }\n",
              "</style>\n",
              "<table border=\"1\" class=\"dataframe\">\n",
              "  <thead>\n",
              "    <tr style=\"text-align: right;\">\n",
              "      <th></th>\n",
              "      <th>property_rooms</th>\n",
              "      <th>property_bedrooms</th>\n",
              "      <th>property_surface_total</th>\n",
              "      <th>property_surface_covered</th>\n",
              "      <th>latitud</th>\n",
              "      <th>longitud</th>\n",
              "    </tr>\n",
              "  </thead>\n",
              "  <tbody>\n",
              "    <tr>\n",
              "      <th>count</th>\n",
              "      <td>93205.000000</td>\n",
              "      <td>83262.000000</td>\n",
              "      <td>89405.000000</td>\n",
              "      <td>90895.000000</td>\n",
              "      <td>90519.000000</td>\n",
              "      <td>90519.000000</td>\n",
              "    </tr>\n",
              "    <tr>\n",
              "      <th>mean</th>\n",
              "      <td>2.822799</td>\n",
              "      <td>2.014629</td>\n",
              "      <td>109.092970</td>\n",
              "      <td>87.931932</td>\n",
              "      <td>-34.591481</td>\n",
              "      <td>-58.449795</td>\n",
              "    </tr>\n",
              "    <tr>\n",
              "      <th>std</th>\n",
              "      <td>1.426148</td>\n",
              "      <td>1.129767</td>\n",
              "      <td>980.401976</td>\n",
              "      <td>990.927129</td>\n",
              "      <td>0.181719</td>\n",
              "      <td>0.292630</td>\n",
              "    </tr>\n",
              "    <tr>\n",
              "      <th>min</th>\n",
              "      <td>1.000000</td>\n",
              "      <td>-1.000000</td>\n",
              "      <td>10.000000</td>\n",
              "      <td>1.000000</td>\n",
              "      <td>-53.788624</td>\n",
              "      <td>-71.471192</td>\n",
              "    </tr>\n",
              "    <tr>\n",
              "      <th>quartile 1</th>\n",
              "      <td>2.000000</td>\n",
              "      <td>1.000000</td>\n",
              "      <td>45.000000</td>\n",
              "      <td>40.000000</td>\n",
              "      <td>-34.615975</td>\n",
              "      <td>-58.466522</td>\n",
              "    </tr>\n",
              "    <tr>\n",
              "      <th>median</th>\n",
              "      <td>3.000000</td>\n",
              "      <td>2.000000</td>\n",
              "      <td>65.000000</td>\n",
              "      <td>58.000000</td>\n",
              "      <td>-34.595790</td>\n",
              "      <td>-58.439000</td>\n",
              "    </tr>\n",
              "    <tr>\n",
              "      <th>quartile 3</th>\n",
              "      <td>4.000000</td>\n",
              "      <td>3.000000</td>\n",
              "      <td>105.000000</td>\n",
              "      <td>88.000000</td>\n",
              "      <td>-34.577413</td>\n",
              "      <td>-58.408862</td>\n",
              "    </tr>\n",
              "    <tr>\n",
              "      <th>max</th>\n",
              "      <td>40.000000</td>\n",
              "      <td>70.000000</td>\n",
              "      <td>137000.000000</td>\n",
              "      <td>217000.000000</td>\n",
              "      <td>-24.219827</td>\n",
              "      <td>-54.133330</td>\n",
              "    </tr>\n",
              "    <tr>\n",
              "      <th>mode</th>\n",
              "      <td>3.000000</td>\n",
              "      <td>1.000000</td>\n",
              "      <td>50.000000</td>\n",
              "      <td>40.000000</td>\n",
              "      <td>-34.541250</td>\n",
              "      <td>-58.472966</td>\n",
              "    </tr>\n",
              "  </tbody>\n",
              "</table>\n",
              "</div>\n",
              "      <button class=\"colab-df-convert\" onclick=\"convertToInteractive('df-644374b6-b4c2-430c-8081-17fb45c94bec')\"\n",
              "              title=\"Convert this dataframe to an interactive table.\"\n",
              "              style=\"display:none;\">\n",
              "        \n",
              "  <svg xmlns=\"http://www.w3.org/2000/svg\" height=\"24px\"viewBox=\"0 0 24 24\"\n",
              "       width=\"24px\">\n",
              "    <path d=\"M0 0h24v24H0V0z\" fill=\"none\"/>\n",
              "    <path d=\"M18.56 5.44l.94 2.06.94-2.06 2.06-.94-2.06-.94-.94-2.06-.94 2.06-2.06.94zm-11 1L8.5 8.5l.94-2.06 2.06-.94-2.06-.94L8.5 2.5l-.94 2.06-2.06.94zm10 10l.94 2.06.94-2.06 2.06-.94-2.06-.94-.94-2.06-.94 2.06-2.06.94z\"/><path d=\"M17.41 7.96l-1.37-1.37c-.4-.4-.92-.59-1.43-.59-.52 0-1.04.2-1.43.59L10.3 9.45l-7.72 7.72c-.78.78-.78 2.05 0 2.83L4 21.41c.39.39.9.59 1.41.59.51 0 1.02-.2 1.41-.59l7.78-7.78 2.81-2.81c.8-.78.8-2.07 0-2.86zM5.41 20L4 18.59l7.72-7.72 1.47 1.35L5.41 20z\"/>\n",
              "  </svg>\n",
              "      </button>\n",
              "      \n",
              "  <style>\n",
              "    .colab-df-container {\n",
              "      display:flex;\n",
              "      flex-wrap:wrap;\n",
              "      gap: 12px;\n",
              "    }\n",
              "\n",
              "    .colab-df-convert {\n",
              "      background-color: #E8F0FE;\n",
              "      border: none;\n",
              "      border-radius: 50%;\n",
              "      cursor: pointer;\n",
              "      display: none;\n",
              "      fill: #1967D2;\n",
              "      height: 32px;\n",
              "      padding: 0 0 0 0;\n",
              "      width: 32px;\n",
              "    }\n",
              "\n",
              "    .colab-df-convert:hover {\n",
              "      background-color: #E2EBFA;\n",
              "      box-shadow: 0px 1px 2px rgba(60, 64, 67, 0.3), 0px 1px 3px 1px rgba(60, 64, 67, 0.15);\n",
              "      fill: #174EA6;\n",
              "    }\n",
              "\n",
              "    [theme=dark] .colab-df-convert {\n",
              "      background-color: #3B4455;\n",
              "      fill: #D2E3FC;\n",
              "    }\n",
              "\n",
              "    [theme=dark] .colab-df-convert:hover {\n",
              "      background-color: #434B5C;\n",
              "      box-shadow: 0px 1px 3px 1px rgba(0, 0, 0, 0.15);\n",
              "      filter: drop-shadow(0px 1px 2px rgba(0, 0, 0, 0.3));\n",
              "      fill: #FFFFFF;\n",
              "    }\n",
              "  </style>\n",
              "\n",
              "      <script>\n",
              "        const buttonEl =\n",
              "          document.querySelector('#df-644374b6-b4c2-430c-8081-17fb45c94bec button.colab-df-convert');\n",
              "        buttonEl.style.display =\n",
              "          google.colab.kernel.accessAllowed ? 'block' : 'none';\n",
              "\n",
              "        async function convertToInteractive(key) {\n",
              "          const element = document.querySelector('#df-644374b6-b4c2-430c-8081-17fb45c94bec');\n",
              "          const dataTable =\n",
              "            await google.colab.kernel.invokeFunction('convertToInteractive',\n",
              "                                                     [key], {});\n",
              "          if (!dataTable) return;\n",
              "\n",
              "          const docLinkHtml = 'Like what you see? Visit the ' +\n",
              "            '<a target=\"_blank\" href=https://colab.research.google.com/notebooks/data_table.ipynb>data table notebook</a>'\n",
              "            + ' to learn more about interactive tables.';\n",
              "          element.innerHTML = '';\n",
              "          dataTable['output_type'] = 'display_data';\n",
              "          await google.colab.output.renderOutput(dataTable, element);\n",
              "          const docLink = document.createElement('div');\n",
              "          docLink.innerHTML = docLinkHtml;\n",
              "          element.appendChild(docLink);\n",
              "        }\n",
              "      </script>\n",
              "    </div>\n",
              "  </div>\n",
              "  "
            ]
          },
          "metadata": {},
          "execution_count": 79
        }
      ],
      "source": [
        "# Variables Cuantitativas: calcular medidas de resumen: media, mediana, q1, q3, moda\n",
        "description_quantitatives = ds_filtrado[cuantitativas].describe()\n",
        "\n",
        "quantitative_mode = ds_filtrado[cuantitativas].mode()\n",
        "quantitative_mode.rename(index={0: \"mode\"}, inplace=True)\n",
        "description_quantitatives = description_quantitatives.append(quantitative_mode)\n",
        "\n",
        "description_quantitatives.rename(index={\"25%\":\"quartile 1\",\"50%\":\"median\",\"75%\":\"quartile 3\"}, inplace=True)\n",
        "description_quantitatives"
      ]
    },
    {
      "cell_type": "markdown",
      "metadata": {
        "pycharm": {
          "name": "#%% md\n"
        },
        "id": "WoYpoj6SLQOV"
      },
      "source": [
        "## Variables Cualitativas mostrar cantidad de valores posibles, y frecuencias de cada uno."
      ]
    },
    {
      "cell_type": "code",
      "execution_count": 80,
      "metadata": {
        "pycharm": {
          "name": "#%%\n"
        },
        "colab": {
          "base_uri": "https://localhost:8080/",
          "height": 312
        },
        "id": "r6rDs0cBLQOV",
        "outputId": "53d74c40-8b73-41ec-d019-994f6ebbda98"
      },
      "outputs": [
        {
          "output_type": "display_data",
          "data": {
            "text/plain": [
              "<IPython.core.display.HTML object>"
            ],
            "text/html": [
              "<style type=\"text/css\">\n",
              "</style>\n",
              "<table id=\"T_1b06a_\" style='display:inline'>\n",
              "  <caption>start_date</caption>\n",
              "  <thead>\n",
              "    <tr>\n",
              "      <th class=\"blank level0\" >&nbsp;</th>\n",
              "      <th class=\"col_heading level0 col0\" >start_date</th>\n",
              "    </tr>\n",
              "  </thead>\n",
              "  <tbody>\n",
              "    <tr>\n",
              "      <th id=\"T_1b06a_level0_row0\" class=\"row_heading level0 row0\" >2021-12-16 00:00:00</th>\n",
              "      <td id=\"T_1b06a_row0_col0\" class=\"data row0 col0\" >4674</td>\n",
              "    </tr>\n",
              "    <tr>\n",
              "      <th id=\"T_1b06a_level0_row1\" class=\"row_heading level0 row1\" >2021-02-13 00:00:00</th>\n",
              "      <td id=\"T_1b06a_row1_col0\" class=\"data row1 col0\" >2121</td>\n",
              "    </tr>\n",
              "    <tr>\n",
              "      <th id=\"T_1b06a_level0_row2\" class=\"row_heading level0 row2\" >2021-11-03 00:00:00</th>\n",
              "      <td id=\"T_1b06a_row2_col0\" class=\"data row2 col0\" >1016</td>\n",
              "    </tr>\n",
              "    <tr>\n",
              "      <th id=\"T_1b06a_level0_row3\" class=\"row_heading level0 row3\" >2021-08-03 00:00:00</th>\n",
              "      <td id=\"T_1b06a_row3_col0\" class=\"data row3 col0\" >836</td>\n",
              "    </tr>\n",
              "    <tr>\n",
              "      <th id=\"T_1b06a_level0_row4\" class=\"row_heading level0 row4\" >2021-04-10 00:00:00</th>\n",
              "      <td id=\"T_1b06a_row4_col0\" class=\"data row4 col0\" >819</td>\n",
              "    </tr>\n",
              "  </tbody>\n",
              "</table>\n",
              "   <style type=\"text/css\">\n",
              "</style>\n",
              "<table id=\"T_a56d6_\" style='display:inline'>\n",
              "  <caption>end_date</caption>\n",
              "  <thead>\n",
              "    <tr>\n",
              "      <th class=\"blank level0\" >&nbsp;</th>\n",
              "      <th class=\"col_heading level0 col0\" >end_date</th>\n",
              "    </tr>\n",
              "  </thead>\n",
              "  <tbody>\n",
              "    <tr>\n",
              "      <th id=\"T_a56d6_level0_row0\" class=\"row_heading level0 row0\" >2021-06-05 00:00:00</th>\n",
              "      <td id=\"T_a56d6_row0_col0\" class=\"data row0 col0\" >12817</td>\n",
              "    </tr>\n",
              "    <tr>\n",
              "      <th id=\"T_a56d6_level0_row1\" class=\"row_heading level0 row1\" >2022-01-27 00:00:00</th>\n",
              "      <td id=\"T_a56d6_row1_col0\" class=\"data row1 col0\" >9287</td>\n",
              "    </tr>\n",
              "    <tr>\n",
              "      <th id=\"T_a56d6_level0_row2\" class=\"row_heading level0 row2\" >2022-02-09 00:00:00</th>\n",
              "      <td id=\"T_a56d6_row2_col0\" class=\"data row2 col0\" >7633</td>\n",
              "    </tr>\n",
              "    <tr>\n",
              "      <th id=\"T_a56d6_level0_row3\" class=\"row_heading level0 row3\" >2021-03-01 00:00:00</th>\n",
              "      <td id=\"T_a56d6_row3_col0\" class=\"data row3 col0\" >1857</td>\n",
              "    </tr>\n",
              "    <tr>\n",
              "      <th id=\"T_a56d6_level0_row4\" class=\"row_heading level0 row4\" >2021-04-15 00:00:00</th>\n",
              "      <td id=\"T_a56d6_row4_col0\" class=\"data row4 col0\" >1523</td>\n",
              "    </tr>\n",
              "  </tbody>\n",
              "</table>\n",
              "   <style type=\"text/css\">\n",
              "</style>\n",
              "<table id=\"T_e9196_\" style='display:inline'>\n",
              "  <caption>place_l2</caption>\n",
              "  <thead>\n",
              "    <tr>\n",
              "      <th class=\"blank level0\" >&nbsp;</th>\n",
              "      <th class=\"col_heading level0 col0\" >place_l2</th>\n",
              "    </tr>\n",
              "  </thead>\n",
              "  <tbody>\n",
              "    <tr>\n",
              "      <th id=\"T_e9196_level0_row0\" class=\"row_heading level0 row0\" >Capital Federal</th>\n",
              "      <td id=\"T_e9196_row0_col0\" class=\"data row0 col0\" >94249</td>\n",
              "    </tr>\n",
              "  </tbody>\n",
              "</table>\n",
              "   <style type=\"text/css\">\n",
              "</style>\n",
              "<table id=\"T_e2660_\" style='display:inline'>\n",
              "  <caption>place_l3</caption>\n",
              "  <thead>\n",
              "    <tr>\n",
              "      <th class=\"blank level0\" >&nbsp;</th>\n",
              "      <th class=\"col_heading level0 col0\" >place_l3</th>\n",
              "    </tr>\n",
              "  </thead>\n",
              "  <tbody>\n",
              "    <tr>\n",
              "      <th id=\"T_e2660_level0_row0\" class=\"row_heading level0 row0\" >Palermo</th>\n",
              "      <td id=\"T_e2660_row0_col0\" class=\"data row0 col0\" >14308</td>\n",
              "    </tr>\n",
              "    <tr>\n",
              "      <th id=\"T_e2660_level0_row1\" class=\"row_heading level0 row1\" >Belgrano</th>\n",
              "      <td id=\"T_e2660_row1_col0\" class=\"data row1 col0\" >8898</td>\n",
              "    </tr>\n",
              "    <tr>\n",
              "      <th id=\"T_e2660_level0_row2\" class=\"row_heading level0 row2\" >Caballito</th>\n",
              "      <td id=\"T_e2660_row2_col0\" class=\"data row2 col0\" >7168</td>\n",
              "    </tr>\n",
              "    <tr>\n",
              "      <th id=\"T_e2660_level0_row3\" class=\"row_heading level0 row3\" >Recoleta</th>\n",
              "      <td id=\"T_e2660_row3_col0\" class=\"data row3 col0\" >6282</td>\n",
              "    </tr>\n",
              "    <tr>\n",
              "      <th id=\"T_e2660_level0_row4\" class=\"row_heading level0 row4\" >Villa Urquiza</th>\n",
              "      <td id=\"T_e2660_row4_col0\" class=\"data row4 col0\" >4673</td>\n",
              "    </tr>\n",
              "  </tbody>\n",
              "</table>\n",
              "   <style type=\"text/css\">\n",
              "</style>\n",
              "<table id=\"T_f3ef3_\" style='display:inline'>\n",
              "  <caption>place_l4</caption>\n",
              "  <thead>\n",
              "    <tr>\n",
              "      <th class=\"blank level0\" >&nbsp;</th>\n",
              "      <th class=\"col_heading level0 col0\" >place_l4</th>\n",
              "    </tr>\n",
              "  </thead>\n",
              "  <tbody>\n",
              "    <tr>\n",
              "      <th id=\"T_f3ef3_level0_row0\" class=\"row_heading level0 row0\" >Palermo Hollywood</th>\n",
              "      <td id=\"T_f3ef3_row0_col0\" class=\"data row0 col0\" >1576</td>\n",
              "    </tr>\n",
              "    <tr>\n",
              "      <th id=\"T_f3ef3_level0_row1\" class=\"row_heading level0 row1\" >Palermo Chico</th>\n",
              "      <td id=\"T_f3ef3_row1_col0\" class=\"data row1 col0\" >1092</td>\n",
              "    </tr>\n",
              "    <tr>\n",
              "      <th id=\"T_f3ef3_level0_row2\" class=\"row_heading level0 row2\" >Palermo Soho</th>\n",
              "      <td id=\"T_f3ef3_row2_col0\" class=\"data row2 col0\" >804</td>\n",
              "    </tr>\n",
              "    <tr>\n",
              "      <th id=\"T_f3ef3_level0_row3\" class=\"row_heading level0 row3\" >Palermo Viejo</th>\n",
              "      <td id=\"T_f3ef3_row3_col0\" class=\"data row3 col0\" >171</td>\n",
              "    </tr>\n",
              "  </tbody>\n",
              "</table>\n",
              "   <style type=\"text/css\">\n",
              "</style>\n",
              "<table id=\"T_8076a_\" style='display:inline'>\n",
              "  <caption>place_l5</caption>\n",
              "  <thead>\n",
              "    <tr>\n",
              "      <th class=\"blank level0\" >&nbsp;</th>\n",
              "      <th class=\"col_heading level0 col0\" >place_l5</th>\n",
              "    </tr>\n",
              "  </thead>\n",
              "  <tbody>\n",
              "  </tbody>\n",
              "</table>\n",
              "   <style type=\"text/css\">\n",
              "</style>\n",
              "<table id=\"T_0b5df_\" style='display:inline'>\n",
              "  <caption>place_l6</caption>\n",
              "  <thead>\n",
              "    <tr>\n",
              "      <th class=\"blank level0\" >&nbsp;</th>\n",
              "      <th class=\"col_heading level0 col0\" >place_l6</th>\n",
              "    </tr>\n",
              "  </thead>\n",
              "  <tbody>\n",
              "  </tbody>\n",
              "</table>\n",
              "   <style type=\"text/css\">\n",
              "</style>\n",
              "<table id=\"T_ee349_\" style='display:inline'>\n",
              "  <caption>operation</caption>\n",
              "  <thead>\n",
              "    <tr>\n",
              "      <th class=\"blank level0\" >&nbsp;</th>\n",
              "      <th class=\"col_heading level0 col0\" >operation</th>\n",
              "    </tr>\n",
              "  </thead>\n",
              "  <tbody>\n",
              "    <tr>\n",
              "      <th id=\"T_ee349_level0_row0\" class=\"row_heading level0 row0\" >Venta</th>\n",
              "      <td id=\"T_ee349_row0_col0\" class=\"data row0 col0\" >94249</td>\n",
              "    </tr>\n",
              "  </tbody>\n",
              "</table>\n",
              "   <style type=\"text/css\">\n",
              "</style>\n",
              "<table id=\"T_d6286_\" style='display:inline'>\n",
              "  <caption>property_type</caption>\n",
              "  <thead>\n",
              "    <tr>\n",
              "      <th class=\"blank level0\" >&nbsp;</th>\n",
              "      <th class=\"col_heading level0 col0\" >property_type</th>\n",
              "    </tr>\n",
              "  </thead>\n",
              "  <tbody>\n",
              "    <tr>\n",
              "      <th id=\"T_d6286_level0_row0\" class=\"row_heading level0 row0\" >Departamento</th>\n",
              "      <td id=\"T_d6286_row0_col0\" class=\"data row0 col0\" >80829</td>\n",
              "    </tr>\n",
              "    <tr>\n",
              "      <th id=\"T_d6286_level0_row1\" class=\"row_heading level0 row1\" >PH</th>\n",
              "      <td id=\"T_d6286_row1_col0\" class=\"data row1 col0\" >9266</td>\n",
              "    </tr>\n",
              "    <tr>\n",
              "      <th id=\"T_d6286_level0_row2\" class=\"row_heading level0 row2\" >Casa</th>\n",
              "      <td id=\"T_d6286_row2_col0\" class=\"data row2 col0\" >4154</td>\n",
              "    </tr>\n",
              "  </tbody>\n",
              "</table>\n",
              "   <style type=\"text/css\">\n",
              "</style>\n",
              "<table id=\"T_855d7_\" style='display:inline'>\n",
              "  <caption>property_currency</caption>\n",
              "  <thead>\n",
              "    <tr>\n",
              "      <th class=\"blank level0\" >&nbsp;</th>\n",
              "      <th class=\"col_heading level0 col0\" >property_currency</th>\n",
              "    </tr>\n",
              "  </thead>\n",
              "  <tbody>\n",
              "    <tr>\n",
              "      <th id=\"T_855d7_level0_row0\" class=\"row_heading level0 row0\" >USD</th>\n",
              "      <td id=\"T_855d7_row0_col0\" class=\"data row0 col0\" >94249</td>\n",
              "    </tr>\n",
              "  </tbody>\n",
              "</table>\n",
              "   <style type=\"text/css\">\n",
              "</style>\n",
              "<table id=\"T_850eb_\" style='display:inline'>\n",
              "  <caption>property_title</caption>\n",
              "  <thead>\n",
              "    <tr>\n",
              "      <th class=\"blank level0\" >&nbsp;</th>\n",
              "      <th class=\"col_heading level0 col0\" >property_title</th>\n",
              "    </tr>\n",
              "  </thead>\n",
              "  <tbody>\n",
              "    <tr>\n",
              "      <th id=\"T_850eb_level0_row0\" class=\"row_heading level0 row0\" >Departamento - Palermo</th>\n",
              "      <td id=\"T_850eb_row0_col0\" class=\"data row0 col0\" >1468</td>\n",
              "    </tr>\n",
              "    <tr>\n",
              "      <th id=\"T_850eb_level0_row1\" class=\"row_heading level0 row1\" >Departamento - Recoleta</th>\n",
              "      <td id=\"T_850eb_row1_col0\" class=\"data row1 col0\" >1324</td>\n",
              "    </tr>\n",
              "    <tr>\n",
              "      <th id=\"T_850eb_level0_row2\" class=\"row_heading level0 row2\" >Departamento - Belgrano</th>\n",
              "      <td id=\"T_850eb_row2_col0\" class=\"data row2 col0\" >1113</td>\n",
              "    </tr>\n",
              "    <tr>\n",
              "      <th id=\"T_850eb_level0_row3\" class=\"row_heading level0 row3\" >Departamento - Caballito</th>\n",
              "      <td id=\"T_850eb_row3_col0\" class=\"data row3 col0\" >936</td>\n",
              "    </tr>\n",
              "    <tr>\n",
              "      <th id=\"T_850eb_level0_row4\" class=\"row_heading level0 row4\" >Departamento - Almagro</th>\n",
              "      <td id=\"T_850eb_row4_col0\" class=\"data row4 col0\" >666</td>\n",
              "    </tr>\n",
              "  </tbody>\n",
              "</table>\n",
              "   "
            ]
          },
          "metadata": {}
        }
      ],
      "source": [
        "qualitative_dataset = ds_filtrado[categoricas]\n",
        "\n",
        "dfs = list(\n",
        "    pd.DataFrame(qualitative_dataset[column].value_counts().head()) for column in qualitative_dataset.columns.tolist())\n",
        "display_side_by_side(dfs, qualitative_dataset.columns.tolist())"
      ]
    },
    {
      "cell_type": "markdown",
      "metadata": {
        "pycharm": {
          "name": "#%% md\n"
        },
        "id": "1gBeIXrRLQOW"
      },
      "source": [
        "La tabla muestra varias cosas:\n",
        "- Hay 94249 propiedades habiendo filtrado solo las de Capital Federal, Venta y USD\n",
        "- Hay 80829 departamentos, 9266 PHs y 4154 casas\n",
        "- Hay 14308 propiedades en Palermo\n",
        "- El id de la propiedad es único y no representa nada útil para nuestro procesamiento. Parecería pasar algo similar con el título, lo analizaremos en más detalle más adelante"
      ]
    },
    {
      "cell_type": "markdown",
      "source": [
        "## Análisis gráfico de las distribuciones de las variables"
      ],
      "metadata": {
        "id": "ojlfca7BBXAw"
      }
    },
    {
      "cell_type": "markdown",
      "source": [
        "#### Distribución de fechas "
      ],
      "metadata": {
        "id": "UJXPwgQU6a2Q"
      }
    },
    {
      "cell_type": "code",
      "source": [
        "\n",
        "plt.figure(figsize=(10,10))\n",
        "plt.hist(ds_filtrado.start_date, bins=25, alpha=0.5, label=\"start_date\")\n",
        "plt.hist(ds_filtrado.end_date, bins=25, alpha=0.5, label=\"end_date\")\n",
        "plt.hist(ds_filtrado.created_on, bins=25, alpha=0.5, label=\"created_on\")\n",
        "plt.xlabel(\"Fecha\", size=14)\n",
        "plt.ylabel(\"Frecuencia\", size=14)\n",
        "plt.title(\"Frecuencia por fecha de los eventos de los anuncios\",size=18)\n",
        "plt.legend(loc='upper right')\n"
      ],
      "metadata": {
        "colab": {
          "base_uri": "https://localhost:8080/",
          "height": 646
        },
        "id": "zOdlJeZbCDHW",
        "outputId": "4f9a03f0-5d0e-40d9-e435-5d37eeb55ebf"
      },
      "execution_count": 81,
      "outputs": [
        {
          "output_type": "execute_result",
          "data": {
            "text/plain": [
              "<matplotlib.legend.Legend at 0x7fcb147df410>"
            ]
          },
          "metadata": {},
          "execution_count": 81
        },
        {
          "output_type": "display_data",
          "data": {
            "text/plain": [
              "<Figure size 720x720 with 1 Axes>"
            ],
            "image/png": "[encoded data removed]"
          },
          "metadata": {
            "needs_background": "light"
          }
        }
      ]
    },
    {
      "cell_type": "markdown",
      "source": [
        "En este grafico se puede apreciar la distribución de las variables que hacen referencia a las fechas de creacion, alta y baja de los anuncios. Podemos ver que la distribución de las fechas de creación coincide con la distribución de las fechas de alta del anuncio, lo cual tiene sentido que así sea ya que la fecha de creación del anuncio es la primer versión del anuncio en ser dada de alta. "
      ],
      "metadata": {
        "id": "VP1hjsD6yt2o"
      }
    },
    {
      "cell_type": "markdown",
      "source": [
        "###  Distribución de ciudades\n",
        "Primero vemos la cantidad de apariciones de las ciudades por anuncio en la siguiente tabla:"
      ],
      "metadata": {
        "id": "UM58cSnX1DMZ"
      }
    },
    {
      "cell_type": "code",
      "source": [
        "ds_filtrado['place_l3'].value_counts()"
      ],
      "metadata": {
        "colab": {
          "base_uri": "https://localhost:8080/"
        },
        "id": "DB8QfV1X0wth",
        "outputId": "f20b8d2c-f770-44fd-8f19-1f4c07e98247"
      },
      "execution_count": 82,
      "outputs": [
        {
          "output_type": "execute_result",
          "data": {
            "text/plain": [
              "Palermo                 14308\n",
              "Belgrano                 8898\n",
              "Caballito                7168\n",
              "Recoleta                 6282\n",
              "Villa Urquiza            4673\n",
              "Almagro                  4081\n",
              "Nuñez                    3546\n",
              "Villa Crespo             3189\n",
              "Flores                   3110\n",
              "Barrio Norte             2975\n",
              "Balvanera                2553\n",
              "Colegiales               1951\n",
              "Villa Devoto             1921\n",
              "Villa del Parque         1829\n",
              "Saavedra                 1829\n",
              "Puerto Madero            1493\n",
              "San Telmo                1380\n",
              "San Cristobal            1300\n",
              "San Nicolás              1295\n",
              "Retiro                   1250\n",
              "Barracas                 1246\n",
              "Boedo                    1237\n",
              "Floresta                 1195\n",
              "Monserrat                1115\n",
              "Parque Chacabuco         1073\n",
              "Villa Pueyrredón         1011\n",
              "Coghlan                   984\n",
              "Villa Luro                727\n",
              "Mataderos                 719\n",
              "Chacarita                 697\n",
              "Liniers                   668\n",
              "Villa Ortuzar             662\n",
              "Parque Patricios          639\n",
              "Villa Lugano              612\n",
              "Paternal                  566\n",
              "Congreso                  535\n",
              "Monte Castro              499\n",
              "Constitución              453\n",
              "Villa Santa Rita          438\n",
              "Villa General Mitre       435\n",
              "Once                      407\n",
              "Parque Avellaneda         380\n",
              "Parque Chas               373\n",
              "Boca                      365\n",
              "Versalles                 315\n",
              "Velez Sarsfield           242\n",
              "Agronomía                 235\n",
              "Abasto                    231\n",
              "Pompeya                   216\n",
              "Villa Real                142\n",
              "Tribunales                116\n",
              "Parque Centenario          93\n",
              "Centro / Microcentro       76\n",
              "Villa Soldati              45\n",
              "Villa Riachuelo            35\n",
              "Las Cañitas                12\n",
              "Catalinas                   7\n",
              "Name: place_l3, dtype: int64"
            ]
          },
          "metadata": {},
          "execution_count": 82
        }
      ]
    },
    {
      "cell_type": "markdown",
      "source": [
        "Como podemos observar, hay demasiadas ciudades con pocas apariciones, por lo que nos centraremos en visualizar las primeras 10 ciudades que mas aparecen. Agrupando al resto en una nueva categoria llamada \"Otras\"."
      ],
      "metadata": {
        "id": "1JsZH1apOsNB"
      }
    },
    {
      "cell_type": "code",
      "source": [
        "top10 = ds_filtrado['place_l3'].value_counts().head(10)"
      ],
      "metadata": {
        "id": "hSnGpb5e72sT"
      },
      "execution_count": 83,
      "outputs": []
    },
    {
      "cell_type": "code",
      "source": [
        "ds_otras_ciudades = ds_filtrado[~ds_filtrado['place_l3'].isin(top10.index)] # tomamos solo con las observaciones que no pertenecen al top 10 de ciudades\n",
        "frecuencia_otras = ds_otras_ciudades.shape[0] \n",
        "otras = pd.Series(data=[frecuencia_otras], index=[\"Otras\"])\n",
        "distribucion_por_ciudades = pd.concat([otras,top10])\n",
        "\n",
        "ax = distribucion_por_ciudades.plot.bar(alpha=0.5 , title=\"Distribución de las ciudades con mas propiedades más publicadas\" , xlabel=\"Ciudad\" , ylabel=\"Cantidad de Anuncios\",figsize=(10, 10))"
      ],
      "metadata": {
        "colab": {
          "base_uri": "https://localhost:8080/",
          "height": 674
        },
        "id": "ScF0e8uGPNoX",
        "outputId": "83971671-a21c-44fa-b7e5-352ebc8571f5"
      },
      "execution_count": 84,
      "outputs": [
        {
          "output_type": "display_data",
          "data": {
            "text/plain": [
              "<Figure size 720x720 with 1 Axes>"
            ],
            "image/png": "[encoded data removed]"
          },
          "metadata": {
            "needs_background": "light"
          }
        }
      ]
    },
    {
      "cell_type": "markdown",
      "source": [
        "La ciudad de Palermo es la que tiene mas propiedades publicadas"
      ],
      "metadata": {
        "id": "0KzTb0j4RClh"
      }
    },
    {
      "cell_type": "markdown",
      "source": [
        "### Distribución de tipos de propiedad\n",
        "\n",
        "Para analizar la distribucion de la variable property_type vamos a agrupar las apariciones en un grafico de barras por tipo de propiedad"
      ],
      "metadata": {
        "id": "obePjaf2R3Jg"
      }
    },
    {
      "cell_type": "code",
      "source": [
        "colores=[(0,0,1),(0,1,0),(1,0,0)]\n",
        "grf=ds_filtrado['property_type'].value_counts().plot.barh(alpha=0.5,color=colores, title=\"Cantidad de propiedades por tipo\",ylabel=\"Cantidad\")  "
      ],
      "metadata": {
        "colab": {
          "base_uri": "https://localhost:8080/",
          "height": 281
        },
        "id": "Quam07N7Q3V_",
        "outputId": "f695d480-7a10-4863-9816-a388967f15b1"
      },
      "execution_count": 85,
      "outputs": [
        {
          "output_type": "display_data",
          "data": {
            "text/plain": [
              "<Figure size 432x288 with 1 Axes>"
            ],
            "image/png": "[encoded data removed]"
          },
          "metadata": {
            "needs_background": "light"
          }
        }
      ]
    },
    {
      "cell_type": "markdown",
      "source": [
        "A simple vista se puede ver que la mayoria de publicaciones son de departamentos por una amplia diferencia"
      ],
      "metadata": {
        "id": "L_XQi_RJSJrw"
      }
    },
    {
      "cell_type": "markdown",
      "source": [
        "### Distribución de latitud y longitud\n",
        "Para analizar la longitud y latitud vamos a utilizar un grafico de a pares ya que nos aporta más información sobre su distribución, pudiendo visualizar la localización de la propiedad. Adicionalmente se distinguirá por el tipo de propiedad."
      ],
      "metadata": {
        "id": "2oo26Jn3WzsK"
      }
    },
    {
      "cell_type": "code",
      "source": [
        "#grf=ds_filtrado.plot.scatter(x=\"latitud\", y=\"longitud\", s=10).set(title=\"Distribucion de observaciones por latitud y longitud\",xlabel='Age',ylabel='Fare') \n",
        "sns.relplot(data=ds_filtrado,x=\"longitud\", y=\"latitud\", hue=\"property_type\").set(title=\"Ubicacion de las propiedades\",xlabel='Longitud',ylabel='Latitud')"
      ],
      "metadata": {
        "colab": {
          "base_uri": "https://localhost:8080/",
          "height": 402
        },
        "id": "jptzUAZzM9XJ",
        "outputId": "0ea0ac97-c61e-423b-fca0-f5fc2d8f25f6"
      },
      "execution_count": 86,
      "outputs": [
        {
          "output_type": "execute_result",
          "data": {
            "text/plain": [
              "<seaborn.axisgrid.FacetGrid at 0x7fcb1ec0d990>"
            ]
          },
          "metadata": {},
          "execution_count": 86
        },
        {
          "output_type": "display_data",
          "data": {
            "text/plain": [
              "<Figure size 468.375x360 with 1 Axes>"
            ],
            "image/png": "[encoded data removed]"
          },
          "metadata": {
            "needs_background": "light"
          }
        }
      ]
    },
    {
      "cell_type": "markdown",
      "source": [
        "Podemos ver que la mayoria de propiedades publicadas se encuentran concentradas en un área en particular, donde mayormente son de tipo Casa. Y al alejarse se ven departamentos distanciados entre sí."
      ],
      "metadata": {
        "id": "PC6IDU4UXjdY"
      }
    },
    {
      "cell_type": "markdown",
      "source": [
        "### Distribución de habitaciones y baños"
      ],
      "metadata": {
        "id": "-Ddt6nPw7c_v"
      }
    },
    {
      "cell_type": "code",
      "source": [
        "grf=ds_filtrado.property_rooms.plot.box(title=\"Distribucion de la cantidad de habitaciones por propiedad\",ylabel=\"Habitaciones\")"
      ],
      "metadata": {
        "id": "UUaSXo4QDkIo",
        "colab": {
          "base_uri": "https://localhost:8080/",
          "height": 282
        },
        "outputId": "b4199ff0-d632-4014-be61-07990935a4df"
      },
      "execution_count": 87,
      "outputs": [
        {
          "output_type": "display_data",
          "data": {
            "text/plain": [
              "<Figure size 432x288 with 1 Axes>"
            ],
            "image/png": "[encoded data removed]"
          },
          "metadata": {
            "needs_background": "light"
          }
        }
      ]
    },
    {
      "cell_type": "markdown",
      "source": [
        "Podemos ver que hay una gran cantidad de outliers, siendo 40 el que mas se aleja, para visualizar mejor la distribucion del boxplot veremos un nuevo grafico sin considerar los outliers."
      ],
      "metadata": {
        "id": "GN9Q93gEfaaC"
      }
    },
    {
      "cell_type": "code",
      "source": [
        "q1 = ds_filtrado.property_rooms.quantile(q=0.25)\n",
        "q3 = ds_filtrado.property_rooms.quantile(q=0.75)\n",
        "iqr = q3 - q1\n",
        "max = q3 + (iqr * 1.5)\n",
        "\n",
        "property_rooms_filtrado = ds_filtrado[ds_filtrado.property_rooms <= max].property_rooms\n",
        "grf=property_rooms_filtrado.plot.box(title=\"Distribucion de la cantidad de habitaciones por propiedad (Sin outliers)\",ylabel=\"Habitaciones\")"
      ],
      "metadata": {
        "colab": {
          "base_uri": "https://localhost:8080/",
          "height": 282
        },
        "id": "2OPgsq5PqGIU",
        "outputId": "cffa8329-777f-4fdf-a4d8-9ec6cdb579d3"
      },
      "execution_count": 88,
      "outputs": [
        {
          "output_type": "display_data",
          "data": {
            "text/plain": [
              "<Figure size 432x288 with 1 Axes>"
            ],
            "image/png": "[encoded data removed]"
          },
          "metadata": {
            "needs_background": "light"
          }
        }
      ]
    },
    {
      "cell_type": "markdown",
      "source": [
        "Ahora si podemos visualizar mejor los valores de la mediana, q3, q1 y los bigotes. Que toman la siguiente cantidad de habitaciones:\n",
        "\n",
        "*   Bigotes: 1 y 7.\n",
        "*   Cuartil 1: 2\n",
        "*   Mediana: 3.\n",
        "*   Cuartil 3: 4.\n",
        "\n",
        "\n",
        "\n"
      ],
      "metadata": {
        "id": "oU1SeXG0gJ7x"
      }
    },
    {
      "cell_type": "markdown",
      "source": [
        "Hacemos el mismo procedimiento ver la distribución de la cantidad de baños por propiedad"
      ],
      "metadata": {
        "id": "jkVfudx0hHxp"
      }
    },
    {
      "cell_type": "code",
      "source": [
        "ds_filtrado.property_bedrooms.plot.box(title=\"Distribucion de la cantidad de baños por propiedad\",ylabel=\"Baños\")"
      ],
      "metadata": {
        "colab": {
          "base_uri": "https://localhost:8080/",
          "height": 299
        },
        "id": "pTAVKc0rYh78",
        "outputId": "197c1b4f-cc73-4c83-f14e-201ebb41cf88"
      },
      "execution_count": 89,
      "outputs": [
        {
          "output_type": "execute_result",
          "data": {
            "text/plain": [
              "<matplotlib.axes._subplots.AxesSubplot at 0x7fcb1449fd90>"
            ]
          },
          "metadata": {},
          "execution_count": 89
        },
        {
          "output_type": "display_data",
          "data": {
            "text/plain": [
              "<Figure size 432x288 with 1 Axes>"
            ],
            "image/png": "[encoded data removed]"
          },
          "metadata": {
            "needs_background": "light"
          }
        }
      ]
    },
    {
      "cell_type": "markdown",
      "source": [
        "Vemos que esta vez hay mas distancia entre el outlier mas alejado y el resto de outliers."
      ],
      "metadata": {
        "id": "tHwz6dmbh8xI"
      }
    },
    {
      "cell_type": "code",
      "source": [
        "q1 = ds_filtrado.property_rooms.quantile(q=0.25)\n",
        "q3 = ds_filtrado.property_rooms.quantile(q=0.75)\n",
        "iqr = q3 - q1\n",
        "max = q3 + (iqr * 1.5)\n",
        "\n",
        "property_bedrooms_filtrado = ds_filtrado[ds_filtrado.property_bedrooms <= max].property_bedrooms\n",
        "grf=property_bedrooms_filtrado.plot.box(title=\"Distribucion de la cantidad de baños por propiedad (Sin outliers)\",xlabel=\" \",ylabel=\"Baños\")"
      ],
      "metadata": {
        "colab": {
          "base_uri": "https://localhost:8080/",
          "height": 282
        },
        "id": "xVtqbQTaqrT2",
        "outputId": "782f3a3a-ca53-47fe-9ac9-27d35a64c4fc"
      },
      "execution_count": 90,
      "outputs": [
        {
          "output_type": "display_data",
          "data": {
            "text/plain": [
              "<Figure size 432x288 with 1 Axes>"
            ],
            "image/png": "[encoded data removed]"
          },
          "metadata": {
            "needs_background": "light"
          }
        }
      ]
    },
    {
      "cell_type": "markdown",
      "source": [
        "En este caso toman los siguientes valores:\n",
        "\n",
        "*   Bigotes: -1 y 6.\n",
        "*   Cuartil 1: 1.\n",
        "*   Mediana: 2.\n",
        "*   Cuartil 3: 3.\n"
      ],
      "metadata": {
        "id": "djmWF1F7iK_g"
      }
    },
    {
      "cell_type": "markdown",
      "source": [
        "### Distribución de precio\n",
        "\n",
        "Para analizar la distribución del precio, como es un tipo de variable continua y cada observación puede tomar un valor en un rango muy grande, optamos por hacer una agrupación por rangos de precios, obteniendo una categoria por cada rango.\n",
        "Vamos a considerar la mediana para establecer los limites entre cada grupo, consideramos que es un buen valor para dividir al conjunto en partes ya que no se ve afectado drasticamente por outliers (como si sucede con la media)."
      ],
      "metadata": {
        "id": "M4Amhc7lkDC4"
      }
    },
    {
      "cell_type": "code",
      "source": [
        "print(f\"La mediana del precio es: {ds_filtrado.property_price.median()}\")"
      ],
      "metadata": {
        "colab": {
          "base_uri": "https://localhost:8080/"
        },
        "id": "MPilP3s-mFh_",
        "outputId": "987ae876-a9c1-42b6-b90a-d4a000cb807c"
      },
      "execution_count": 91,
      "outputs": [
        {
          "output_type": "stream",
          "name": "stdout",
          "text": [
            "La mediana del precio es: 143900.0\n"
          ]
        }
      ]
    },
    {
      "cell_type": "code",
      "source": [
        "# Tomamos valores alrededor de la mediana\n",
        "property_price_grouped = pd.cut(ds_filtrado.property_price,bins=[0,75000,150000,225000,float(\"inf\")],labels=[\"0-75000\",\"75000-150000\",\"150000-225000\",\"225000-Inf\"],include_lowest=True)\n",
        "property_price_grouped.value_counts().plot.barh(alpha=0.5,color=colores, title=\"Distribucion de los precios de las propiedades\", xlabel=\"Rango de precios\",ylabel=\"Frecuencia\")"
      ],
      "metadata": {
        "colab": {
          "base_uri": "https://localhost:8080/",
          "height": 298
        },
        "id": "BVQvZd0vsvBE",
        "outputId": "cc15cf13-6470-4b92-8ec0-b125629e9fb4"
      },
      "execution_count": 92,
      "outputs": [
        {
          "output_type": "execute_result",
          "data": {
            "text/plain": [
              "<matplotlib.axes._subplots.AxesSubplot at 0x7fcb17016990>"
            ]
          },
          "metadata": {},
          "execution_count": 92
        },
        {
          "output_type": "display_data",
          "data": {
            "text/plain": [
              "<Figure size 432x288 with 1 Axes>"
            ],
            "image/png": "[encoded data removed]"
          },
          "metadata": {
            "needs_background": "light"
          }
        }
      ]
    },
    {
      "cell_type": "markdown",
      "source": [
        "Podemos ver que la mayoria de propiedades estan dentro del rango de 75000 y 150000 USD."
      ],
      "metadata": {
        "id": "QJOAlZoprGHo"
      }
    },
    {
      "cell_type": "markdown",
      "source": [
        "### Distribución de superficie total y cubierta\n",
        "\n",
        "Utilizaremos un violin plot para cada variable. "
      ],
      "metadata": {
        "id": "4d609ZsivVrn"
      }
    },
    {
      "cell_type": "code",
      "source": [
        "sns.violinplot(ds_filtrado.property_surface_total)"
      ],
      "metadata": {
        "colab": {
          "base_uri": "https://localhost:8080/",
          "height": 297
        },
        "id": "5nqsGa7Q0k80",
        "outputId": "1e040d1c-b7a7-445b-a335-6125d608f7f4"
      },
      "execution_count": 93,
      "outputs": [
        {
          "output_type": "execute_result",
          "data": {
            "text/plain": [
              "<matplotlib.axes._subplots.AxesSubplot at 0x7fcb143865d0>"
            ]
          },
          "metadata": {},
          "execution_count": 93
        },
        {
          "output_type": "display_data",
          "data": {
            "text/plain": [
              "<Figure size 432x288 with 1 Axes>"
            ],
            "image/png": "[encoded data removed]"
          },
          "metadata": {
            "needs_background": "light"
          }
        }
      ]
    },
    {
      "cell_type": "markdown",
      "source": [
        "A simple vista no esta muy claro el gráfico por la cantidad de outliers que hay, por lo que dejaremos de lado la mayoria de outliers para interpretarlo mas en detalle."
      ],
      "metadata": {
        "id": "-9Rl83-ewc_f"
      }
    },
    {
      "cell_type": "code",
      "source": [
        "ds_surface_sin_outliers =  ds_filtrado[ds_filtrado.property_surface_total < 600]\n",
        "sns.violinplot(ds_surface_sin_outliers.property_surface_total)"
      ],
      "metadata": {
        "colab": {
          "base_uri": "https://localhost:8080/",
          "height": 297
        },
        "id": "LouTyQqWw2TH",
        "outputId": "7f75fdd7-2f46-47d7-e552-ad9da37f67db"
      },
      "execution_count": 94,
      "outputs": [
        {
          "output_type": "execute_result",
          "data": {
            "text/plain": [
              "<matplotlib.axes._subplots.AxesSubplot at 0x7fcb142d5290>"
            ]
          },
          "metadata": {},
          "execution_count": 94
        },
        {
          "output_type": "display_data",
          "data": {
            "text/plain": [
              "<Figure size 432x288 with 1 Axes>"
            ],
            "image/png": "[encoded data removed]"
          },
          "metadata": {
            "needs_background": "light"
          }
        }
      ]
    },
    {
      "cell_type": "markdown",
      "source": [
        "Podemos ver que entre 0 y 100 se encuentra la mayor densidad"
      ],
      "metadata": {
        "id": "ND53nYXgzkCv"
      }
    },
    {
      "cell_type": "markdown",
      "source": [
        "Hacemos el mismo procedimiento para visualizar la distribución de la superficie cubierta de la propiedad"
      ],
      "metadata": {
        "id": "bqF778U6z2g_"
      }
    },
    {
      "cell_type": "code",
      "source": [
        "ds_surface_covered_sin_outliers =  ds_filtrado[ds_filtrado.property_surface_covered < 600]\n",
        "sns.violinplot(ds_surface_covered_sin_outliers.property_surface_covered)"
      ],
      "metadata": {
        "colab": {
          "base_uri": "https://localhost:8080/",
          "height": 297
        },
        "id": "mfQYp9bk0FcX",
        "outputId": "1bc79cd2-5168-4767-e6cf-b5e575495d18"
      },
      "execution_count": 95,
      "outputs": [
        {
          "output_type": "execute_result",
          "data": {
            "text/plain": [
              "<matplotlib.axes._subplots.AxesSubplot at 0x7fcb14293ad0>"
            ]
          },
          "metadata": {},
          "execution_count": 95
        },
        {
          "output_type": "display_data",
          "data": {
            "text/plain": [
              "<Figure size 432x288 with 1 Axes>"
            ],
            "image/png": "[encoded data removed]"
          },
          "metadata": {
            "needs_background": "light"
          }
        }
      ]
    },
    {
      "cell_type": "markdown",
      "source": [
        "Se nota que el grafico de property_surface_total es similar al de property_surface_covered, teniendo el segundo una densidad levemente menor. "
      ],
      "metadata": {
        "id": "EEqKZ7Cy0Uy3"
      }
    },
    {
      "cell_type": "markdown",
      "metadata": {
        "pycharm": {
          "name": "#%% md\n"
        },
        "id": "CiXUpBfFLQOW"
      },
      "source": [
        "## Correlación entre variables"
      ]
    },
    {
      "cell_type": "code",
      "execution_count": 96,
      "metadata": {
        "pycharm": {
          "name": "#%%\n"
        },
        "colab": {
          "base_uri": "https://localhost:8080/",
          "height": 899
        },
        "id": "7c7E0444LQOW",
        "outputId": "2ad027a7-61fc-48ab-9841-16e929c04b5e"
      },
      "outputs": [
        {
          "output_type": "display_data",
          "data": {
            "text/plain": [
              "<Figure size 1080x1080 with 36 Axes>"
            ],
            "image/png": "[encoded data removed]"
          },
          "metadata": {
            "needs_background": "light"
          }
        }
      ],
      "source": [
        "# Realizar un análisis gráfico de las distribuciones de las variables\n",
        "\n",
        "quantitative_dataset = ds_filtrado[cuantitativas]\n",
        "ax = scatter_matrix(quantitative_dataset, alpha=0.7, figsize=(15, 15), s=100)"
      ]
    },
    {
      "cell_type": "code",
      "execution_count": 97,
      "metadata": {
        "pycharm": {
          "name": "#%%\n"
        },
        "colab": {
          "base_uri": "https://localhost:8080/",
          "height": 238
        },
        "id": "-LgZUqE2LQOW",
        "outputId": "16d4212a-ef1f-4b3b-95f3-a754e887d147"
      },
      "outputs": [
        {
          "output_type": "execute_result",
          "data": {
            "text/plain": [
              "                          property_rooms  property_bedrooms  \\\n",
              "property_rooms                  1.000000           0.871940   \n",
              "property_bedrooms               0.871940           1.000000   \n",
              "property_surface_total          0.067211           0.067702   \n",
              "property_surface_covered        0.076097           0.075075   \n",
              "latitud                         0.005521           0.003162   \n",
              "longitud                       -0.008324          -0.008556   \n",
              "\n",
              "                          property_surface_total  property_surface_covered  \\\n",
              "property_rooms                          0.067211                  0.076097   \n",
              "property_bedrooms                       0.067702                  0.075075   \n",
              "property_surface_total                  1.000000                  0.604311   \n",
              "property_surface_covered                0.604311                  1.000000   \n",
              "latitud                                 0.025348                  0.002352   \n",
              "longitud                               -0.015056                 -0.001155   \n",
              "\n",
              "                           latitud  longitud  \n",
              "property_rooms            0.005521 -0.008324  \n",
              "property_bedrooms         0.003162 -0.008556  \n",
              "property_surface_total    0.025348 -0.015056  \n",
              "property_surface_covered  0.002352 -0.001155  \n",
              "latitud                   1.000000 -0.239235  \n",
              "longitud                 -0.239235  1.000000  "
            ],
            "text/html": [
              "\n",
              "  <div id=\"df-0943fcc2-fb36-4d2d-8fa3-8b98c3019887\">\n",
              "    <div class=\"colab-df-container\">\n",
              "      <div>\n",
              "<style scoped>\n",
              "    .dataframe tbody tr th:only-of-type {\n",
              "        vertical-align: middle;\n",
              "    }\n",
              "\n",
              "    .dataframe tbody tr th {\n",
              "        vertical-align: top;\n",
              "    }\n",
              "\n",
              "    .dataframe thead th {\n",
              "        text-align: right;\n",
              "    }\n",
              "</style>\n",
              "<table border=\"1\" class=\"dataframe\">\n",
              "  <thead>\n",
              "    <tr style=\"text-align: right;\">\n",
              "      <th></th>\n",
              "      <th>property_rooms</th>\n",
              "      <th>property_bedrooms</th>\n",
              "      <th>property_surface_total</th>\n",
              "      <th>property_surface_covered</th>\n",
              "      <th>latitud</th>\n",
              "      <th>longitud</th>\n",
              "    </tr>\n",
              "  </thead>\n",
              "  <tbody>\n",
              "    <tr>\n",
              "      <th>property_rooms</th>\n",
              "      <td>1.000000</td>\n",
              "      <td>0.871940</td>\n",
              "      <td>0.067211</td>\n",
              "      <td>0.076097</td>\n",
              "      <td>0.005521</td>\n",
              "      <td>-0.008324</td>\n",
              "    </tr>\n",
              "    <tr>\n",
              "      <th>property_bedrooms</th>\n",
              "      <td>0.871940</td>\n",
              "      <td>1.000000</td>\n",
              "      <td>0.067702</td>\n",
              "      <td>0.075075</td>\n",
              "      <td>0.003162</td>\n",
              "      <td>-0.008556</td>\n",
              "    </tr>\n",
              "    <tr>\n",
              "      <th>property_surface_total</th>\n",
              "      <td>0.067211</td>\n",
              "      <td>0.067702</td>\n",
              "      <td>1.000000</td>\n",
              "      <td>0.604311</td>\n",
              "      <td>0.025348</td>\n",
              "      <td>-0.015056</td>\n",
              "    </tr>\n",
              "    <tr>\n",
              "      <th>property_surface_covered</th>\n",
              "      <td>0.076097</td>\n",
              "      <td>0.075075</td>\n",
              "      <td>0.604311</td>\n",
              "      <td>1.000000</td>\n",
              "      <td>0.002352</td>\n",
              "      <td>-0.001155</td>\n",
              "    </tr>\n",
              "    <tr>\n",
              "      <th>latitud</th>\n",
              "      <td>0.005521</td>\n",
              "      <td>0.003162</td>\n",
              "      <td>0.025348</td>\n",
              "      <td>0.002352</td>\n",
              "      <td>1.000000</td>\n",
              "      <td>-0.239235</td>\n",
              "    </tr>\n",
              "    <tr>\n",
              "      <th>longitud</th>\n",
              "      <td>-0.008324</td>\n",
              "      <td>-0.008556</td>\n",
              "      <td>-0.015056</td>\n",
              "      <td>-0.001155</td>\n",
              "      <td>-0.239235</td>\n",
              "      <td>1.000000</td>\n",
              "    </tr>\n",
              "  </tbody>\n",
              "</table>\n",
              "</div>\n",
              "      <button class=\"colab-df-convert\" onclick=\"convertToInteractive('df-0943fcc2-fb36-4d2d-8fa3-8b98c3019887')\"\n",
              "              title=\"Convert this dataframe to an interactive table.\"\n",
              "              style=\"display:none;\">\n",
              "        \n",
              "  <svg xmlns=\"http://www.w3.org/2000/svg\" height=\"24px\"viewBox=\"0 0 24 24\"\n",
              "       width=\"24px\">\n",
              "    <path d=\"M0 0h24v24H0V0z\" fill=\"none\"/>\n",
              "    <path d=\"M18.56 5.44l.94 2.06.94-2.06 2.06-.94-2.06-.94-.94-2.06-.94 2.06-2.06.94zm-11 1L8.5 8.5l.94-2.06 2.06-.94-2.06-.94L8.5 2.5l-.94 2.06-2.06.94zm10 10l.94 2.06.94-2.06 2.06-.94-2.06-.94-.94-2.06-.94 2.06-2.06.94z\"/><path d=\"M17.41 7.96l-1.37-1.37c-.4-.4-.92-.59-1.43-.59-.52 0-1.04.2-1.43.59L10.3 9.45l-7.72 7.72c-.78.78-.78 2.05 0 2.83L4 21.41c.39.39.9.59 1.41.59.51 0 1.02-.2 1.41-.59l7.78-7.78 2.81-2.81c.8-.78.8-2.07 0-2.86zM5.41 20L4 18.59l7.72-7.72 1.47 1.35L5.41 20z\"/>\n",
              "  </svg>\n",
              "      </button>\n",
              "      \n",
              "  <style>\n",
              "    .colab-df-container {\n",
              "      display:flex;\n",
              "      flex-wrap:wrap;\n",
              "      gap: 12px;\n",
              "    }\n",
              "\n",
              "    .colab-df-convert {\n",
              "      background-color: #E8F0FE;\n",
              "      border: none;\n",
              "      border-radius: 50%;\n",
              "      cursor: pointer;\n",
              "      display: none;\n",
              "      fill: #1967D2;\n",
              "      height: 32px;\n",
              "      padding: 0 0 0 0;\n",
              "      width: 32px;\n",
              "    }\n",
              "\n",
              "    .colab-df-convert:hover {\n",
              "      background-color: #E2EBFA;\n",
              "      box-shadow: 0px 1px 2px rgba(60, 64, 67, 0.3), 0px 1px 3px 1px rgba(60, 64, 67, 0.15);\n",
              "      fill: #174EA6;\n",
              "    }\n",
              "\n",
              "    [theme=dark] .colab-df-convert {\n",
              "      background-color: #3B4455;\n",
              "      fill: #D2E3FC;\n",
              "    }\n",
              "\n",
              "    [theme=dark] .colab-df-convert:hover {\n",
              "      background-color: #434B5C;\n",
              "      box-shadow: 0px 1px 3px 1px rgba(0, 0, 0, 0.15);\n",
              "      filter: drop-shadow(0px 1px 2px rgba(0, 0, 0, 0.3));\n",
              "      fill: #FFFFFF;\n",
              "    }\n",
              "  </style>\n",
              "\n",
              "      <script>\n",
              "        const buttonEl =\n",
              "          document.querySelector('#df-0943fcc2-fb36-4d2d-8fa3-8b98c3019887 button.colab-df-convert');\n",
              "        buttonEl.style.display =\n",
              "          google.colab.kernel.accessAllowed ? 'block' : 'none';\n",
              "\n",
              "        async function convertToInteractive(key) {\n",
              "          const element = document.querySelector('#df-0943fcc2-fb36-4d2d-8fa3-8b98c3019887');\n",
              "          const dataTable =\n",
              "            await google.colab.kernel.invokeFunction('convertToInteractive',\n",
              "                                                     [key], {});\n",
              "          if (!dataTable) return;\n",
              "\n",
              "          const docLinkHtml = 'Like what you see? Visit the ' +\n",
              "            '<a target=\"_blank\" href=https://colab.research.google.com/notebooks/data_table.ipynb>data table notebook</a>'\n",
              "            + ' to learn more about interactive tables.';\n",
              "          element.innerHTML = '';\n",
              "          dataTable['output_type'] = 'display_data';\n",
              "          await google.colab.output.renderOutput(dataTable, element);\n",
              "          const docLink = document.createElement('div');\n",
              "          docLink.innerHTML = docLinkHtml;\n",
              "          element.appendChild(docLink);\n",
              "        }\n",
              "      </script>\n",
              "    </div>\n",
              "  </div>\n",
              "  "
            ]
          },
          "metadata": {},
          "execution_count": 97
        }
      ],
      "source": [
        "# Analizar las correlaciones existentes entre las variables.\n",
        "quantitative_dataset.corr()"
      ]
    },
    {
      "cell_type": "code",
      "execution_count": 98,
      "metadata": {
        "pycharm": {
          "name": "#%%\n"
        },
        "colab": {
          "base_uri": "https://localhost:8080/",
          "height": 732
        },
        "id": "RRIi0GqnLQOW",
        "outputId": "f21853cb-74a6-4efa-f634-919a41c3829f"
      },
      "outputs": [
        {
          "output_type": "execute_result",
          "data": {
            "text/plain": [
              "<matplotlib.axes._subplots.AxesSubplot at 0x7fcb1b043750>"
            ]
          },
          "metadata": {},
          "execution_count": 98
        },
        {
          "output_type": "display_data",
          "data": {
            "text/plain": [
              "<Figure size 720x720 with 2 Axes>"
            ],
            "image/png": "[encoded data removed]"
          },
          "metadata": {
            "needs_background": "light"
          }
        }
      ],
      "source": [
        "# Analizar las correlaciones existentes entre las variables.\n",
        "plt.figure(figsize=(10, 10))\n",
        "sns.heatmap(quantitative_dataset.corr(), annot=True)"
      ]
    },
    {
      "cell_type": "markdown",
      "metadata": {
        "pycharm": {
          "name": "#%% md\n"
        },
        "id": "yWxX8bRyLQOX"
      },
      "source": [
        "## Análisis de valores faltantes"
      ]
    },
    {
      "cell_type": "markdown",
      "metadata": {
        "pycharm": {
          "name": "#%% md\n"
        },
        "id": "6qcBvd1oLQOX"
      },
      "source": [
        "Ahora analizaremos los datos faltantes del dataset."
      ]
    },
    {
      "cell_type": "markdown",
      "metadata": {
        "pycharm": {
          "name": "#%% md\n"
        },
        "id": "Pv7hjbTPLQOX"
      },
      "source": [
        "### Porcentaje de valores faltantes por columna\n",
        "\n"
      ]
    },
    {
      "cell_type": "code",
      "execution_count": 99,
      "metadata": {
        "pycharm": {
          "name": "#%%\n"
        },
        "colab": {
          "base_uri": "https://localhost:8080/",
          "height": 842
        },
        "id": "cgUBM6_7LQOX",
        "outputId": "ab4cb7eb-303a-4181-8300-37b0e35579a1"
      },
      "outputs": [
        {
          "output_type": "stream",
          "name": "stdout",
          "text": [
            "id                            0.000000\n",
            "start_date                    0.000000\n",
            "end_date                      0.000000\n",
            "created_on                    0.000000\n",
            "latitud                       3.957602\n",
            "longitud                      3.957602\n",
            "place_l2                      0.000000\n",
            "place_l3                      0.442445\n",
            "place_l4                     96.134707\n",
            "place_l5                    100.000000\n",
            "place_l6                    100.000000\n",
            "operation                     0.000000\n",
            "property_type                 0.000000\n",
            "property_rooms                1.107704\n",
            "property_bedrooms            11.657418\n",
            "property_surface_total        5.139577\n",
            "property_surface_covered      3.558658\n",
            "property_price                0.000000\n",
            "property_currency             0.000000\n",
            "property_title                0.000000\n",
            "dtype: float64\n"
          ]
        },
        {
          "output_type": "display_data",
          "data": {
            "text/plain": [
              "<Figure size 864x432 with 1 Axes>"
            ],
            "image/png": "[encoded data removed]"
          },
          "metadata": {
            "needs_background": "light"
          }
        }
      ],
      "source": [
        "percent_missing = ds_filtrado.isna().sum() * 100 / len(ds_filtrado)\n",
        "plt.figure(figsize=(12, 6))\n",
        "percent_missing.plot.bar(x='index', rot=45)\n",
        "plt.xlabel(\"Columns\")\n",
        "plt.ylabel(\"Percentage Missing\")\n",
        "rows = ds_filtrado.shape[0]\n",
        "print(ds_filtrado.isna().sum() / rows * 100)"
      ]
    },
    {
      "cell_type": "markdown",
      "metadata": {
        "pycharm": {
          "name": "#%% md\n"
        },
        "id": "9Zc0JgleLQOX"
      },
      "source": [
        "A simple vista podemos ver que las columnas place_l4,place_l5 y place_l6 practicamente no tienen datos, procederemos a eliminarlas."
      ]
    },
    {
      "cell_type": "markdown",
      "metadata": {
        "pycharm": {
          "name": "#%% md\n"
        },
        "id": "o3sc6FA2LQOY"
      },
      "source": [
        "### Porcentaje de datos faltantes por fila"
      ]
    },
    {
      "cell_type": "code",
      "execution_count": 100,
      "metadata": {
        "pycharm": {
          "name": "#%%\n"
        },
        "colab": {
          "base_uri": "https://localhost:8080/",
          "height": 282
        },
        "id": "J5jAS-EfLQOY",
        "outputId": "410772ef-9eab-4458-d21b-ec60383944ce"
      },
      "outputs": [
        {
          "output_type": "execute_result",
          "data": {
            "text/plain": [
              "<matplotlib.axes._subplots.AxesSubplot at 0x7fcb14773f90>"
            ]
          },
          "metadata": {},
          "execution_count": 100
        },
        {
          "output_type": "display_data",
          "data": {
            "text/plain": [
              "<Figure size 432x288 with 1 Axes>"
            ],
            "image/png": "[encoded data removed]"
          },
          "metadata": {
            "needs_background": "light"
          }
        }
      ],
      "source": [
        "column_count = ds_filtrado.shape[1]\n",
        "ds_plot = ds_filtrado.T.isna().sum() * 100 / column_count\n",
        "\n",
        "\n",
        "plt.axvline(ds_plot.mean())\n",
        "sns.violinplot(ds_plot)"
      ]
    },
    {
      "cell_type": "markdown",
      "metadata": {
        "pycharm": {
          "name": "#%% md\n"
        },
        "id": "yFy0ZRL-LQOY"
      },
      "source": [
        "Analizaremos nuevamente el porcentaje por fila luego de trabajar con las columnas"
      ]
    },
    {
      "cell_type": "markdown",
      "metadata": {
        "pycharm": {
          "name": "#%% md\n"
        },
        "id": "2tsXkTlyLQOY"
      },
      "source": [
        "### Procesado de columnas"
      ]
    },
    {
      "cell_type": "markdown",
      "metadata": {
        "pycharm": {
          "name": "#%% md\n"
        },
        "id": "betRCwnmLQOY"
      },
      "source": [
        "Descartaremos la columna id debido a que no es relevante para nuestro análisis. No podemos usar un dato uníco porque no representa ninguna característica relevante."
      ]
    },
    {
      "cell_type": "code",
      "execution_count": 101,
      "metadata": {
        "pycharm": {
          "name": "#%%\n"
        },
        "colab": {
          "base_uri": "https://localhost:8080/"
        },
        "id": "ggNmkz3vLQOY",
        "outputId": "9a746c8e-3e2f-4dd2-bd75-826abcd1c412"
      },
      "outputs": [
        {
          "output_type": "execute_result",
          "data": {
            "text/plain": [
              "25    CyZu6IaZgmQYGk8jmPajCg==\n",
              "42    d3Z0MblSb2IMBoOBMGJEEQ==\n",
              "43    rL7qPkQnomsMGu2ViS3sBw==\n",
              "49    vuX/ccLAMVml4qWRFcOJUA==\n",
              "51    ZTtSCeqZ3HUgf5jjwEzRcw==\n",
              "Name: id, dtype: object"
            ]
          },
          "metadata": {},
          "execution_count": 101
        }
      ],
      "source": [
        "ds_filtrado['id'].head()"
      ]
    },
    {
      "cell_type": "markdown",
      "metadata": {
        "pycharm": {
          "name": "#%% md\n"
        },
        "id": "3GBv7sTDLQOZ"
      },
      "source": [
        "Como mencionamos anteriormente, evaluaremos descartar place_l4 por la cantidad de valores faltantes que hay."
      ]
    },
    {
      "cell_type": "code",
      "execution_count": 102,
      "metadata": {
        "pycharm": {
          "name": "#%%\n"
        },
        "colab": {
          "base_uri": "https://localhost:8080/"
        },
        "id": "nTkQozBzLQOZ",
        "outputId": "2e89bc6e-b4b0-47a2-cc5e-fd87f7c928dc"
      },
      "outputs": [
        {
          "output_type": "execute_result",
          "data": {
            "text/plain": [
              "Palermo Hollywood    1576\n",
              "Palermo Chico        1092\n",
              "Palermo Soho          804\n",
              "Palermo Viejo         171\n",
              "Name: place_l4, dtype: int64"
            ]
          },
          "metadata": {},
          "execution_count": 102
        }
      ],
      "source": [
        "ds_filtrado['place_l4'].value_counts()"
      ]
    },
    {
      "cell_type": "markdown",
      "metadata": {
        "pycharm": {
          "name": "#%% md\n"
        },
        "id": "5oKYMKj6LQOZ"
      },
      "source": [
        "Como son pocas observaciones y todas corresponden al barrio de Palermo, descartaremos esta columna. Además, como mencionamos más arriba, la columna created_on siempre es igual a la columna start_date, por lo que también la descartaremos. "
      ]
    },
    {
      "cell_type": "code",
      "execution_count": 103,
      "metadata": {
        "pycharm": {
          "name": "#%%\n"
        },
        "colab": {
          "base_uri": "https://localhost:8080/"
        },
        "id": "TCSZOlqELQOZ",
        "outputId": "4d42af3f-177a-4e68-e44f-f10476178e23"
      },
      "outputs": [
        {
          "output_type": "stream",
          "name": "stdout",
          "text": [
            "Nuestras nuevas columnas son:\n",
            "['start_date', 'end_date', 'latitud', 'longitud', 'place_l2', 'place_l3', 'operation', 'property_type', 'property_rooms', 'property_bedrooms', 'property_surface_total', 'property_surface_covered', 'property_price', 'property_currency', 'property_title']\n"
          ]
        }
      ],
      "source": [
        "properties_dataset = ds_filtrado.drop(axis=\"columns\", columns=[\"id\", \"created_on\", \"place_l4\", \"place_l5\", \"place_l6\"]).copy()\n",
        "print(f\"Nuestras nuevas columnas son:\\n{properties_dataset.columns.tolist()}\")"
      ]
    },
    {
      "cell_type": "markdown",
      "metadata": {
        "pycharm": {
          "name": "#%% md\n"
        },
        "id": "a7Ah9wxfLQOZ"
      },
      "source": [
        "### Analisis de faltantes por fila\n",
        "\n",
        "Ahora que nos quedamos solo con las columnas deseadas, analizaremos nuevamente los datos faltantes por fila."
      ]
    },
    {
      "cell_type": "code",
      "execution_count": 104,
      "metadata": {
        "pycharm": {
          "name": "#%%\n"
        },
        "id": "c5uJdQlPLQOZ",
        "colab": {
          "base_uri": "https://localhost:8080/",
          "height": 282
        },
        "outputId": "a6898459-5dd9-445a-d471-62f8964c56f3"
      },
      "outputs": [
        {
          "output_type": "execute_result",
          "data": {
            "text/plain": [
              "<matplotlib.lines.Line2D at 0x7fcb1af0d450>"
            ]
          },
          "metadata": {},
          "execution_count": 104
        },
        {
          "output_type": "display_data",
          "data": {
            "text/plain": [
              "<Figure size 432x288 with 1 Axes>"
            ],
            "image/png": "[encoded data removed]"
          },
          "metadata": {
            "needs_background": "light"
          }
        }
      ],
      "source": [
        "column_count = ds_filtrado.shape[1]\n",
        "ds_plot = properties_dataset.T.isna().sum() * 100 / column_count\n",
        "\n",
        "sns.violinplot(ds_plot)\n",
        "plt.axvline(ds_plot.mean())"
      ]
    },
    {
      "cell_type": "markdown",
      "metadata": {
        "pycharm": {
          "name": "#%% md\n"
        },
        "id": "dyOork4VLQOa"
      },
      "source": [
        "Como podemos ver en el gráfico, la cantidad de datos faltantes bajó muchísimo al eliminar las columnas. Tenemos algunos registros con 5 o 10% de datos faltantes, veremos que falta"
      ]
    },
    {
      "cell_type": "code",
      "execution_count": 105,
      "metadata": {
        "pycharm": {
          "name": "#%%\n"
        },
        "id": "Q7ld4w0nLQOa",
        "colab": {
          "base_uri": "https://localhost:8080/"
        },
        "outputId": "03b5d669-ea82-4b5f-8c83-00a103eecbea"
      },
      "outputs": [
        {
          "output_type": "execute_result",
          "data": {
            "text/plain": [
              "0.0     72863\n",
              "5.0     16019\n",
              "10.0     4333\n",
              "15.0      820\n",
              "20.0      110\n",
              "25.0      103\n",
              "30.0        1\n",
              "Name: row_missing_data, dtype: int64"
            ]
          },
          "metadata": {},
          "execution_count": 105
        }
      ],
      "source": [
        "properties_dataset['row_missing_data'] = properties_dataset.T.isna().sum() * 100 / column_count\n",
        "properties_dataset['row_missing_data'].value_counts()"
      ]
    },
    {
      "cell_type": "code",
      "execution_count": 106,
      "metadata": {
        "pycharm": {
          "name": "#%%\n"
        },
        "id": "5kruhx1uLQOa",
        "colab": {
          "base_uri": "https://localhost:8080/"
        },
        "outputId": "acf2ef5b-db8c-4413-cfaa-fbe0592fdb93"
      },
      "outputs": [
        {
          "output_type": "stream",
          "name": "stdout",
          "text": [
            "La cantidad de faltantes segun porcentaje representan\n",
            "0.0     77.309043\n",
            "5.0     16.996467\n",
            "10.0     4.597396\n",
            "15.0     0.870036\n",
            "20.0     0.116712\n",
            "25.0     0.109285\n",
            "30.0     0.001061\n",
            "Name: row_missing_data, dtype: float64\n"
          ]
        }
      ],
      "source": [
        "dataset_perc = properties_dataset['row_missing_data'].value_counts() * 100 / properties_dataset.shape[0]\n",
        "print(f\"La cantidad de faltantes segun porcentaje representan\\n{dataset_perc}\")"
      ]
    },
    {
      "cell_type": "code",
      "execution_count": 107,
      "metadata": {
        "pycharm": {
          "name": "#%%\n"
        },
        "id": "BB7EhB2hLQOa",
        "colab": {
          "base_uri": "https://localhost:8080/",
          "height": 402
        },
        "outputId": "09da347d-d2c5-4d78-99de-ff4aa6a74bdb"
      },
      "outputs": [
        {
          "output_type": "execute_result",
          "data": {
            "text/plain": [
              "<matplotlib.axes._subplots.AxesSubplot at 0x7fcb1b10ecd0>"
            ]
          },
          "metadata": {},
          "execution_count": 107
        },
        {
          "output_type": "display_data",
          "data": {
            "text/plain": [
              "<Figure size 432x288 with 1 Axes>"
            ],
            "image/png": "[encoded data removed]"
          },
          "metadata": {
            "needs_background": "light"
          }
        }
      ],
      "source": [
        "properties_dataset.groupby('row_missing_data').get_group(5).isna().sum().plot.bar()"
      ]
    },
    {
      "cell_type": "code",
      "execution_count": 108,
      "metadata": {
        "pycharm": {
          "name": "#%%\n"
        },
        "id": "Iw1fMwW3LQOa",
        "colab": {
          "base_uri": "https://localhost:8080/"
        },
        "outputId": "588b699a-4348-4fac-a483-ae00a11cb005"
      },
      "outputs": [
        {
          "output_type": "execute_result",
          "data": {
            "text/plain": [
              "start_date                     0\n",
              "end_date                       0\n",
              "latitud                     2824\n",
              "longitud                    2824\n",
              "place_l2                       0\n",
              "place_l3                      91\n",
              "operation                      0\n",
              "property_type                  0\n",
              "property_rooms               442\n",
              "property_bedrooms           1331\n",
              "property_surface_total       612\n",
              "property_surface_covered     542\n",
              "property_price                 0\n",
              "property_currency              0\n",
              "property_title                 0\n",
              "row_missing_data               0\n",
              "dtype: int64"
            ]
          },
          "metadata": {},
          "execution_count": 108
        }
      ],
      "source": [
        "properties_dataset.groupby('row_missing_data').get_group(10).isna().sum()"
      ]
    },
    {
      "cell_type": "markdown",
      "metadata": {
        "pycharm": {
          "name": "#%% md\n"
        },
        "id": "mFYI5IysLQOb"
      },
      "source": [
        "Ahora que elegimos las columnas deseadas, veremos nuevamente los porcentajes por columna para preparar algunas imputaciones"
      ]
    },
    {
      "cell_type": "code",
      "execution_count": 109,
      "metadata": {
        "pycharm": {
          "name": "#%%\n"
        },
        "id": "9Ylwt6FaLQOb"
      },
      "outputs": [],
      "source": [
        "def plot_missing_by_column(dataset):\n",
        "    percent_missing = dataset.isna().sum() * 100 / len(dataset)\n",
        "    plt.figure(figsize=(12, 6))\n",
        "    percent_missing.plot.bar(x='index', rot=45)\n",
        "    plt.xlabel(\"Columns\")\n",
        "    plt.ylabel(\"Percentage Missing\")\n",
        "    rows = dataset.shape[0]\n",
        "    print(dataset.isna().sum() / rows * 100)"
      ]
    },
    {
      "cell_type": "code",
      "execution_count": 110,
      "metadata": {
        "pycharm": {
          "name": "#%%\n"
        },
        "id": "xUaMfaHoLQOb",
        "colab": {
          "base_uri": "https://localhost:8080/",
          "height": 772
        },
        "outputId": "a16b53ca-d240-4763-abdc-228d725eb3da"
      },
      "outputs": [
        {
          "output_type": "stream",
          "name": "stdout",
          "text": [
            "start_date                   0.000000\n",
            "end_date                     0.000000\n",
            "latitud                      3.957602\n",
            "longitud                     3.957602\n",
            "place_l2                     0.000000\n",
            "place_l3                     0.442445\n",
            "operation                    0.000000\n",
            "property_type                0.000000\n",
            "property_rooms               1.107704\n",
            "property_bedrooms           11.657418\n",
            "property_surface_total       5.139577\n",
            "property_surface_covered     3.558658\n",
            "property_price               0.000000\n",
            "property_currency            0.000000\n",
            "property_title               0.000000\n",
            "row_missing_data             0.000000\n",
            "dtype: float64\n"
          ]
        },
        {
          "output_type": "display_data",
          "data": {
            "text/plain": [
              "<Figure size 864x432 with 1 Axes>"
            ],
            "image/png": "[encoded data removed]"
          },
          "metadata": {
            "needs_background": "light"
          }
        }
      ],
      "source": [
        "plot_missing_by_column(properties_dataset)"
      ]
    },
    {
      "cell_type": "markdown",
      "metadata": {
        "pycharm": {
          "name": "#%% md\n"
        },
        "id": "vtLlDvAZLQOb"
      },
      "source": [
        "## Imputaciones"
      ]
    },
    {
      "cell_type": "markdown",
      "metadata": {
        "pycharm": {
          "name": "#%% md\n"
        },
        "id": "V_BtR57ZLQOb"
      },
      "source": [
        "Ahora analizaremos columna a columna como podemos reparar esos datos."
      ]
    },
    {
      "cell_type": "markdown",
      "metadata": {
        "pycharm": {
          "name": "#%% md\n"
        },
        "id": "7QMM5CZALQOb"
      },
      "source": [
        "#### Latitud y Longitud"
      ]
    },
    {
      "cell_type": "code",
      "execution_count": 111,
      "metadata": {
        "pycharm": {
          "name": "#%%\n"
        },
        "id": "jrJ3e1wqLQOc",
        "colab": {
          "base_uri": "https://localhost:8080/"
        },
        "outputId": "bbc27750-1b87-495d-cf96-98314c88a955"
      },
      "outputs": [
        {
          "output_type": "execute_result",
          "data": {
            "text/plain": [
              "(3730, 3730)"
            ]
          },
          "metadata": {},
          "execution_count": 111
        }
      ],
      "source": [
        "len(properties_dataset[properties_dataset.latitud.isna()]), properties_dataset[properties_dataset.latitud.isna()].longitud.isna().sum()"
      ]
    },
    {
      "cell_type": "markdown",
      "metadata": {
        "pycharm": {
          "name": "#%% md\n"
        },
        "id": "doHecFzmLQOc"
      },
      "source": [
        "Como vemos, en esos 3730 los registros faltan ambos datos, veremos que datos sí están presentes en esos registros"
      ]
    },
    {
      "cell_type": "code",
      "execution_count": 112,
      "metadata": {
        "pycharm": {
          "name": "#%%\n"
        },
        "id": "cP-X60R0LQOc",
        "colab": {
          "base_uri": "https://localhost:8080/",
          "height": 772
        },
        "outputId": "d7f9c5ad-8638-4308-9589-ecec73c6cea3"
      },
      "outputs": [
        {
          "output_type": "stream",
          "name": "stdout",
          "text": [
            "start_date                    0.000000\n",
            "end_date                      0.000000\n",
            "latitud                     100.000000\n",
            "longitud                    100.000000\n",
            "place_l2                      0.000000\n",
            "place_l3                      4.557641\n",
            "operation                     0.000000\n",
            "property_type                 0.000000\n",
            "property_rooms                3.297587\n",
            "property_bedrooms            13.324397\n",
            "property_surface_total        7.319035\n",
            "property_surface_covered      4.343164\n",
            "property_price                0.000000\n",
            "property_currency             0.000000\n",
            "property_title                0.000000\n",
            "row_missing_data              0.000000\n",
            "dtype: float64\n"
          ]
        },
        {
          "output_type": "display_data",
          "data": {
            "text/plain": [
              "<Figure size 864x432 with 1 Axes>"
            ],
            "image/png": "[encoded data removed]"
          },
          "metadata": {
            "needs_background": "light"
          }
        }
      ],
      "source": [
        "plot_missing_by_column(properties_dataset[properties_dataset.latitud.isna()])"
      ]
    },
    {
      "cell_type": "code",
      "execution_count": 113,
      "metadata": {
        "pycharm": {
          "name": "#%%\n"
        },
        "id": "BGyOgeQ8LQOc",
        "colab": {
          "base_uri": "https://localhost:8080/"
        },
        "outputId": "130e09ef-e104-4d6e-c04d-27c24a268954"
      },
      "outputs": [
        {
          "output_type": "execute_result",
          "data": {
            "text/plain": [
              "Palermo                 907\n",
              "Belgrano                651\n",
              "Nuñez                   229\n",
              "Recoleta                227\n",
              "Barrio Norte            185\n",
              "Caballito               170\n",
              "Almagro                 162\n",
              "Villa Urquiza           151\n",
              "Flores                  115\n",
              "Villa Crespo            111\n",
              "San Telmo                96\n",
              "Balvanera                80\n",
              "Puerto Madero            69\n",
              "Coghlan                  47\n",
              "San Nicolás              46\n",
              "Congreso                 39\n",
              "Once                     36\n",
              "Tribunales               32\n",
              "Monserrat                27\n",
              "Retiro                   18\n",
              "Constitución             14\n",
              "Barracas                 14\n",
              "Abasto                   12\n",
              "Paternal                 10\n",
              "Colegiales               10\n",
              "Liniers                  10\n",
              "Saavedra                  9\n",
              "Villa del Parque          9\n",
              "Floresta                  8\n",
              "Mataderos                 7\n",
              "Parque Chacabuco          7\n",
              "San Cristobal             7\n",
              "Villa Devoto              7\n",
              "Villa Pueyrredón          5\n",
              "Villa Lugano              4\n",
              "Pompeya                   3\n",
              "Parque Chas               3\n",
              "Boedo                     3\n",
              "Parque Patricios          3\n",
              "Villa Ortuzar             3\n",
              "Villa General Mitre       2\n",
              "Versalles                 2\n",
              "Villa Real                2\n",
              "Villa Luro                2\n",
              "Monte Castro              2\n",
              "Chacarita                 1\n",
              "Agronomía                 1\n",
              "Parque Centenario         1\n",
              "Centro / Microcentro      1\n",
              "Name: place_l3, dtype: int64"
            ]
          },
          "metadata": {},
          "execution_count": 113
        }
      ],
      "source": [
        "properties_dataset[properties_dataset.latitud.isna()]['place_l3'].value_counts()"
      ]
    },
    {
      "cell_type": "code",
      "execution_count": 114,
      "metadata": {
        "pycharm": {
          "name": "#%%\n"
        },
        "id": "10A2TSmoLQOc",
        "colab": {
          "base_uri": "https://localhost:8080/"
        },
        "outputId": "d58dfcd8-ee34-49a1-8ec4-151c891ee6ea"
      },
      "outputs": [
        {
          "output_type": "stream",
          "name": "stdout",
          "text": [
            "Los datos faltantes en la columna place_l3 representan el 4.558%\n"
          ]
        }
      ],
      "source": [
        "percentage = properties_dataset[properties_dataset.latitud.isna()]['place_l3'].isna().sum() / len(properties_dataset[properties_dataset.latitud.isna()]['place_l3']) * 100\n",
        "print(f\"Los datos faltantes en la columna place_l3 representan el {round(percentage, 3)}%\")"
      ]
    },
    {
      "cell_type": "markdown",
      "metadata": {
        "pycharm": {
          "name": "#%% md\n"
        },
        "id": "L8VG6ey2LQOd"
      },
      "source": [
        "Para los que tienen el dato del barrio podríamos tomar como latitud/longitud"
      ]
    },
    {
      "cell_type": "markdown",
      "metadata": {
        "pycharm": {
          "name": "#%% md\n"
        },
        "id": "4oxzuTe_Yghi"
      },
      "source": [
        "## Grafico de los barrios de CABA"
      ]
    },
    {
      "cell_type": "code",
      "execution_count": 115,
      "metadata": {
        "id": "QLx0sBMQX6ZW",
        "outputId": "f6510192-4b33-4883-f77a-84887412501a",
        "colab": {
          "base_uri": "https://localhost:8080/",
          "height": 206
        }
      },
      "outputs": [
        {
          "output_type": "execute_result",
          "data": {
            "text/plain": [
              "             BARRIO  COMUNA    PERIMETRO          AREA  OBJETO  \\\n",
              "0         CHACARITA    15.0  7724.852955  3.115707e+06  BARRIO   \n",
              "1          PATERNAL    15.0  7087.513295  2.229829e+06  BARRIO   \n",
              "2      VILLA CRESPO    15.0  8131.857075  3.615978e+06  BARRIO   \n",
              "3  VILLA DEL PARQUE    11.0  7705.389797  3.399596e+06  BARRIO   \n",
              "4           ALMAGRO     5.0  8537.901368  4.050752e+06  BARRIO   \n",
              "\n",
              "                                            geometry  \n",
              "0  MULTIPOLYGON (((-58.45282 -34.59599, -58.45366...  \n",
              "1  MULTIPOLYGON (((-58.46558 -34.59656, -58.46562...  \n",
              "2  MULTIPOLYGON (((-58.42375 -34.59783, -58.42495...  \n",
              "3  MULTIPOLYGON (((-58.49461 -34.61487, -58.49479...  \n",
              "4  MULTIPOLYGON (((-58.41287 -34.61412, -58.41282...  "
            ],
            "text/html": [
              "\n",
              "  <div id=\"df-d07a2fa9-dc1b-4f87-b343-aeac6930dfd5\">\n",
              "    <div class=\"colab-df-container\">\n",
              "      <div>\n",
              "<style scoped>\n",
              "    .dataframe tbody tr th:only-of-type {\n",
              "        vertical-align: middle;\n",
              "    }\n",
              "\n",
              "    .dataframe tbody tr th {\n",
              "        vertical-align: top;\n",
              "    }\n",
              "\n",
              "    .dataframe thead th {\n",
              "        text-align: right;\n",
              "    }\n",
              "</style>\n",
              "<table border=\"1\" class=\"dataframe\">\n",
              "  <thead>\n",
              "    <tr style=\"text-align: right;\">\n",
              "      <th></th>\n",
              "      <th>BARRIO</th>\n",
              "      <th>COMUNA</th>\n",
              "      <th>PERIMETRO</th>\n",
              "      <th>AREA</th>\n",
              "      <th>OBJETO</th>\n",
              "      <th>geometry</th>\n",
              "    </tr>\n",
              "  </thead>\n",
              "  <tbody>\n",
              "    <tr>\n",
              "      <th>0</th>\n",
              "      <td>CHACARITA</td>\n",
              "      <td>15.0</td>\n",
              "      <td>7724.852955</td>\n",
              "      <td>3.115707e+06</td>\n",
              "      <td>BARRIO</td>\n",
              "      <td>MULTIPOLYGON (((-58.45282 -34.59599, -58.45366...</td>\n",
              "    </tr>\n",
              "    <tr>\n",
              "      <th>1</th>\n",
              "      <td>PATERNAL</td>\n",
              "      <td>15.0</td>\n",
              "      <td>7087.513295</td>\n",
              "      <td>2.229829e+06</td>\n",
              "      <td>BARRIO</td>\n",
              "      <td>MULTIPOLYGON (((-58.46558 -34.59656, -58.46562...</td>\n",
              "    </tr>\n",
              "    <tr>\n",
              "      <th>2</th>\n",
              "      <td>VILLA CRESPO</td>\n",
              "      <td>15.0</td>\n",
              "      <td>8131.857075</td>\n",
              "      <td>3.615978e+06</td>\n",
              "      <td>BARRIO</td>\n",
              "      <td>MULTIPOLYGON (((-58.42375 -34.59783, -58.42495...</td>\n",
              "    </tr>\n",
              "    <tr>\n",
              "      <th>3</th>\n",
              "      <td>VILLA DEL PARQUE</td>\n",
              "      <td>11.0</td>\n",
              "      <td>7705.389797</td>\n",
              "      <td>3.399596e+06</td>\n",
              "      <td>BARRIO</td>\n",
              "      <td>MULTIPOLYGON (((-58.49461 -34.61487, -58.49479...</td>\n",
              "    </tr>\n",
              "    <tr>\n",
              "      <th>4</th>\n",
              "      <td>ALMAGRO</td>\n",
              "      <td>5.0</td>\n",
              "      <td>8537.901368</td>\n",
              "      <td>4.050752e+06</td>\n",
              "      <td>BARRIO</td>\n",
              "      <td>MULTIPOLYGON (((-58.41287 -34.61412, -58.41282...</td>\n",
              "    </tr>\n",
              "  </tbody>\n",
              "</table>\n",
              "</div>\n",
              "      <button class=\"colab-df-convert\" onclick=\"convertToInteractive('df-d07a2fa9-dc1b-4f87-b343-aeac6930dfd5')\"\n",
              "              title=\"Convert this dataframe to an interactive table.\"\n",
              "              style=\"display:none;\">\n",
              "        \n",
              "  <svg xmlns=\"http://www.w3.org/2000/svg\" height=\"24px\"viewBox=\"0 0 24 24\"\n",
              "       width=\"24px\">\n",
              "    <path d=\"M0 0h24v24H0V0z\" fill=\"none\"/>\n",
              "    <path d=\"M18.56 5.44l.94 2.06.94-2.06 2.06-.94-2.06-.94-.94-2.06-.94 2.06-2.06.94zm-11 1L8.5 8.5l.94-2.06 2.06-.94-2.06-.94L8.5 2.5l-.94 2.06-2.06.94zm10 10l.94 2.06.94-2.06 2.06-.94-2.06-.94-.94-2.06-.94 2.06-2.06.94z\"/><path d=\"M17.41 7.96l-1.37-1.37c-.4-.4-.92-.59-1.43-.59-.52 0-1.04.2-1.43.59L10.3 9.45l-7.72 7.72c-.78.78-.78 2.05 0 2.83L4 21.41c.39.39.9.59 1.41.59.51 0 1.02-.2 1.41-.59l7.78-7.78 2.81-2.81c.8-.78.8-2.07 0-2.86zM5.41 20L4 18.59l7.72-7.72 1.47 1.35L5.41 20z\"/>\n",
              "  </svg>\n",
              "      </button>\n",
              "      \n",
              "  <style>\n",
              "    .colab-df-container {\n",
              "      display:flex;\n",
              "      flex-wrap:wrap;\n",
              "      gap: 12px;\n",
              "    }\n",
              "\n",
              "    .colab-df-convert {\n",
              "      background-color: #E8F0FE;\n",
              "      border: none;\n",
              "      border-radius: 50%;\n",
              "      cursor: pointer;\n",
              "      display: none;\n",
              "      fill: #1967D2;\n",
              "      height: 32px;\n",
              "      padding: 0 0 0 0;\n",
              "      width: 32px;\n",
              "    }\n",
              "\n",
              "    .colab-df-convert:hover {\n",
              "      background-color: #E2EBFA;\n",
              "      box-shadow: 0px 1px 2px rgba(60, 64, 67, 0.3), 0px 1px 3px 1px rgba(60, 64, 67, 0.15);\n",
              "      fill: #174EA6;\n",
              "    }\n",
              "\n",
              "    [theme=dark] .colab-df-convert {\n",
              "      background-color: #3B4455;\n",
              "      fill: #D2E3FC;\n",
              "    }\n",
              "\n",
              "    [theme=dark] .colab-df-convert:hover {\n",
              "      background-color: #434B5C;\n",
              "      box-shadow: 0px 1px 3px 1px rgba(0, 0, 0, 0.15);\n",
              "      filter: drop-shadow(0px 1px 2px rgba(0, 0, 0, 0.3));\n",
              "      fill: #FFFFFF;\n",
              "    }\n",
              "  </style>\n",
              "\n",
              "      <script>\n",
              "        const buttonEl =\n",
              "          document.querySelector('#df-d07a2fa9-dc1b-4f87-b343-aeac6930dfd5 button.colab-df-convert');\n",
              "        buttonEl.style.display =\n",
              "          google.colab.kernel.accessAllowed ? 'block' : 'none';\n",
              "\n",
              "        async function convertToInteractive(key) {\n",
              "          const element = document.querySelector('#df-d07a2fa9-dc1b-4f87-b343-aeac6930dfd5');\n",
              "          const dataTable =\n",
              "            await google.colab.kernel.invokeFunction('convertToInteractive',\n",
              "                                                     [key], {});\n",
              "          if (!dataTable) return;\n",
              "\n",
              "          const docLinkHtml = 'Like what you see? Visit the ' +\n",
              "            '<a target=\"_blank\" href=https://colab.research.google.com/notebooks/data_table.ipynb>data table notebook</a>'\n",
              "            + ' to learn more about interactive tables.';\n",
              "          element.innerHTML = '';\n",
              "          dataTable['output_type'] = 'display_data';\n",
              "          await google.colab.output.renderOutput(dataTable, element);\n",
              "          const docLink = document.createElement('div');\n",
              "          docLink.innerHTML = docLinkHtml;\n",
              "          element.appendChild(docLink);\n",
              "        }\n",
              "      </script>\n",
              "    </div>\n",
              "  </div>\n",
              "  "
            ]
          },
          "metadata": {},
          "execution_count": 115
        }
      ],
      "source": [
        "# Proceso el archivo de los barrios de CABA\n",
        "barrios = gpd.read_file('./mapa/barrios.geojson')\n",
        "barrios.head()"
      ]
    },
    {
      "cell_type": "code",
      "execution_count": 116,
      "metadata": {
        "id": "_Z_WD5YiX6ZW",
        "outputId": "3159f9df-3fe7-4e13-fbfe-814bf87d4fe2",
        "colab": {
          "base_uri": "https://localhost:8080/",
          "height": 754
        }
      },
      "outputs": [
        {
          "output_type": "display_data",
          "data": {
            "text/plain": [
              "<Figure size 576x720 with 1 Axes>"
            ],
            "image/png": "[encoded data removed]"
          },
          "metadata": {
            "needs_background": "light"
          }
        }
      ],
      "source": [
        "# Realizo el grafico de los barrios de CABA\n",
        "fig, ax = plt.subplots(figsize=(8,10))\n",
        "barrios.plot(column='BARRIO', categorical=True, legend=True, ax=ax, cmap='tab20b')\n",
        "\n",
        "leg = ax.get_legend()\n",
        "leg.set_bbox_to_anchor((1.4, 1.2))\n",
        "\n",
        "ax.set(title='Barrios CABA')\n",
        "plt.show()"
      ]
    }
  ],
  "metadata": {
    "colab": {
      "provenance": []
    },
    "kernelspec": {
      "display_name": "Python 3",
      "language": "python",
      "name": "python3"
    },
    "language_info": {
      "codemirror_mode": {
        "name": "ipython",
        "version": 3
      },
      "file_extension": ".py",
      "mimetype": "text/x-python",
      "name": "python",
      "nbconvert_exporter": "python",
      "pygments_lexer": "ipython3",
      "version": "3.8.5"
    }
  },
  "nbformat": 4,
  "nbformat_minor": 0
}