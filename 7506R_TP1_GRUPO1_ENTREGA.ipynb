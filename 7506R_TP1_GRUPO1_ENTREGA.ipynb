{
 "cells": [
  {
   "cell_type": "markdown",
   "metadata": {
    "id": "2AgtT6A646OQ",
    "pycharm": {
     "name": "#%% md\n"
    }
   },
   "source": [
    "# 7506 - Trabajo práctico 1\n"
   ]
  },
  {
   "cell_type": "markdown",
   "metadata": {
    "id": "JiW5g17D46OU",
    "pycharm": {
     "name": "#%% md\n"
    },
    "tags": []
   },
   "source": [
    "##### Librerías"
   ]
  },
  {
   "cell_type": "code",
   "execution_count": 1,
   "metadata": {
    "collapsed": false,
    "id": "2Rq6z1L_LQOH",
    "jupyter": {
     "outputs_hidden": false
    },
    "pycharm": {
     "name": "#%%\n"
    }
   },
   "outputs": [
    {
     "ename": "ModuleNotFoundError",
     "evalue": "No module named 'geopandas'",
     "output_type": "error",
     "traceback": [
      "\u001b[0;31m---------------------------------------------------------------------------\u001b[0m",
      "\u001b[0;31mModuleNotFoundError\u001b[0m                       Traceback (most recent call last)",
      "Input \u001b[0;32mIn [1]\u001b[0m, in \u001b[0;36m<cell line: 8>\u001b[0;34m()\u001b[0m\n\u001b[1;32m      6\u001b[0m \u001b[38;5;28;01mimport\u001b[39;00m \u001b[38;5;21;01mre\u001b[39;00m\n\u001b[1;32m      7\u001b[0m \u001b[38;5;28;01mfrom\u001b[39;00m \u001b[38;5;21;01msklearn\u001b[39;00m\u001b[38;5;21;01m.\u001b[39;00m\u001b[38;5;21;01mlinear_model\u001b[39;00m \u001b[38;5;28;01mimport\u001b[39;00m LinearRegression\n\u001b[0;32m----> 8\u001b[0m \u001b[38;5;28;01mimport\u001b[39;00m \u001b[38;5;21;01mgeopandas\u001b[39;00m \u001b[38;5;28;01mas\u001b[39;00m \u001b[38;5;21;01mgpd\u001b[39;00m\n\u001b[1;32m     10\u001b[0m \u001b[38;5;28;01mimport\u001b[39;00m \u001b[38;5;21;01mwarnings\u001b[39;00m\n\u001b[1;32m     12\u001b[0m warnings\u001b[38;5;241m.\u001b[39msimplefilter(action\u001b[38;5;241m=\u001b[39m\u001b[38;5;124m'\u001b[39m\u001b[38;5;124mignore\u001b[39m\u001b[38;5;124m'\u001b[39m, category\u001b[38;5;241m=\u001b[39m\u001b[38;5;167;01mFutureWarning\u001b[39;00m)\n",
      "\u001b[0;31mModuleNotFoundError\u001b[0m: No module named 'geopandas'"
     ]
    }
   ],
   "source": [
    "import pandas as pd\n",
    "from pandas.plotting import scatter_matrix\n",
    "import numpy as np\n",
    "import matplotlib.pyplot as plt\n",
    "import seaborn as sns\n",
    "import re\n",
    "from sklearn.linear_model import LinearRegression\n",
    "#import geopandas as gpd\n",
    "\n",
    "import warnings\n",
    "\n",
    "warnings.simplefilter(action='ignore', category=FutureWarning)\n",
    "warnings.simplefilter(action='ignore', category=UserWarning)"
   ]
  },
  {
   "cell_type": "code",
   "execution_count": null,
   "metadata": {
    "collapsed": false,
    "id": "BW9HZZKHLQOI",
    "jupyter": {
     "outputs_hidden": false
    },
    "pycharm": {
     "name": "#%%\n"
    }
   },
   "outputs": [],
   "source": [
    "from IPython.display import display, HTML\n",
    "\n",
    "\n",
    "def display_side_by_side(dfs: list, captions: list):\n",
    "    \"\"\"Display tables side by side to save vertical space\n",
    "    Input:\n",
    "        dfs: list of pandas.DataFrame\n",
    "        captions: list of table captions\n",
    "    \"\"\"\n",
    "    output = \"\"\n",
    "    combined = dict(zip(captions, dfs))\n",
    "    for caption, df in combined.items():\n",
    "        output += df.style.set_table_attributes(\"style='display:inline'\").set_caption(caption)._repr_html_()\n",
    "        output += \"\\xa0\\xa0\\xa0\"\n",
    "    display(HTML(output))"
   ]
  },
  {
   "cell_type": "code",
   "execution_count": null,
   "metadata": {
    "id": "Nd8DsdWGLQOJ",
    "pycharm": {
     "name": "#%%\n"
    }
   },
   "outputs": [],
   "source": [
    "complete_dataset = pd.read_csv(\"./properati_argentina_2021.csv\")\n",
    "df = complete_dataset.copy()"
   ]
  },
  {
   "cell_type": "markdown",
   "metadata": {
    "id": "cFcWcECeLQOK",
    "jp-MarkdownHeadingCollapsed": true,
    "pycharm": {
     "name": "#%% md\n"
    },
    "tags": []
   },
   "source": [
    "## Análisis Exploratorio y Preprocesamiento de Datos"
   ]
  },
  {
   "cell_type": "markdown",
   "metadata": {
    "id": "g480r3LoLQOK",
    "pycharm": {
     "name": "#%% md\n"
    }
   },
   "source": [
    "Primero, observaremos un poco los datos que tiene el dataset"
   ]
  },
  {
   "cell_type": "markdown",
   "metadata": {
    "id": "_N62ZwwhLQOL",
    "pycharm": {
     "name": "#%% md\n"
    }
   },
   "source": [
    "**Primeras 5 observaciones**"
   ]
  },
  {
   "cell_type": "code",
   "execution_count": null,
   "metadata": {
    "colab": {
     "base_uri": "https://localhost:8080/",
     "height": 357
    },
    "id": "s3m_M2GeLQOL",
    "outputId": "09c6ee89-3c45-4484-ef22-57cfcd0741d3",
    "pycharm": {
     "name": "#%%\n"
    }
   },
   "outputs": [],
   "source": [
    "df.head()"
   ]
  },
  {
   "cell_type": "markdown",
   "metadata": {
    "id": "5qh28QRYpRwJ"
   },
   "source": [
    "**Ultimas 5 observaciones**"
   ]
  },
  {
   "cell_type": "code",
   "execution_count": null,
   "metadata": {
    "colab": {
     "base_uri": "https://localhost:8080/",
     "height": 478
    },
    "id": "AbFB8gmtpRwJ",
    "outputId": "37124ef4-6bc6-4c8d-b9b6-c6b8e83c59a5"
   },
   "outputs": [],
   "source": [
    "df.tail()"
   ]
  },
  {
   "cell_type": "code",
   "execution_count": null,
   "metadata": {
    "colab": {
     "base_uri": "https://localhost:8080/"
    },
    "id": "s9BmxkQNLQOM",
    "outputId": "5870f9ec-0f40-4f01-9756-9f9c194214f0",
    "pycharm": {
     "name": "#%%\n"
    }
   },
   "outputs": [],
   "source": [
    "print(f\"El dataset tiene {df.shape[0]} filas y {df.shape[1]} columnas\")"
   ]
  },
  {
   "cell_type": "code",
   "execution_count": null,
   "metadata": {
    "colab": {
     "base_uri": "https://localhost:8080/",
     "height": 364
    },
    "id": "m5dvGyx2LQON",
    "outputId": "aed69152-9fbf-4f22-ecbc-22f2e537b8b2",
    "pycharm": {
     "name": "#%%\n"
    }
   },
   "outputs": [],
   "source": [
    "df.describe()"
   ]
  },
  {
   "cell_type": "code",
   "execution_count": null,
   "metadata": {
    "colab": {
     "base_uri": "https://localhost:8080/"
    },
    "id": "OWjVXHGiLQON",
    "outputId": "eab3a9de-ee80-42b6-fca9-2a38c2242fa6",
    "pycharm": {
     "name": "#%%\n"
    }
   },
   "outputs": [],
   "source": [
    "df.info()"
   ]
  },
  {
   "cell_type": "code",
   "execution_count": null,
   "metadata": {
    "colab": {
     "base_uri": "https://localhost:8080/"
    },
    "id": "Nw3ltYSpLQOO",
    "outputId": "bba096fa-4c59-48d7-99bd-a7782fb68a31",
    "pycharm": {
     "name": "#%%\n"
    }
   },
   "outputs": [],
   "source": [
    "df.dtypes"
   ]
  },
  {
   "cell_type": "markdown",
   "metadata": {
    "id": "jxoknznjLQOO",
    "jp-MarkdownHeadingCollapsed": true,
    "pycharm": {
     "name": "#%% md\n"
    },
    "tags": []
   },
   "source": [
    "## Descripción de las columnas\n",
    "- type - Tipo de aviso (Propiedad, Desarrollo/Proyecto).\n",
    "- country - País en el que está publicado el aviso (Argentina, Uruguay, Colombia, Ecuador, Perú)\n",
    "- id - Identificador del aviso. No es único: si el aviso es actualizado por la inmobiliaria (nueva versión del aviso) se crea un nuevo registro con la misma id pero distintas fechas: de alta y de baja.\n",
    "- start_date - Fecha de alta del aviso.\n",
    "- end_date - Fecha de baja del aviso.\n",
    "- created_on - Fecha de alta de la primera versión del aviso.\n",
    "- place - Campos referidos a la ubicación de la propiedad o del desarrollo.\n",
    "\n",
    "   - lat - Latitud.\n",
    "\n",
    "   - lon - Longitud.\n",
    "\n",
    "   - l1 - Nivel administrativo 1: país.\n",
    "\n",
    "   - l2 - Nivel administrativo 2: usualmente provincia.\n",
    "\n",
    "   - l3 - Nivel administrativo 3: usualmente ciudad.\n",
    "\n",
    "   - l4 - Nivel administrativo 4: usualmente barrio.\n",
    "- property - Campos relativos a la propiedad (vacío si el aviso es de un desarrollo/proyecto).\n",
    "\n",
    "   - operation - Tipo de operación (Venta, Alquiler).\n",
    "\n",
    "   - type - Tipo de propiedad (Casa, Departamento, PH).\n",
    "\n",
    "   - rooms - Cantidad de ambientes (útil en Argentina).\n",
    "\n",
    "   - bedrooms - Cantidad de dormitorios (útil en el resto de los países).\n",
    "\n",
    "   - bathrooms - Cantidad de baños.\n",
    "\n",
    "   - surface_total - Superficie total en m².\n",
    "\n",
    "   - surface_covered - Superficie cubierta en m².\n",
    "\n",
    "   - price - Precio publicado en el anuncio.\n",
    "\n",
    "   - currency - Moneda del precio publicado.\n",
    "\n",
    "   - price_period - Periodo del precio (Diario, Semanal, Mensual)\n",
    "\n",
    "   - title - Título del anuncio.\n",
    "\n",
    "   - description - Descripción del anuncio.\n",
    "- development - Campos relativos al desarrollo inmobiliario (vacío si el aviso es de una propiedad).\n",
    "- status - Estado del desarrollo (Terminado, En construcción, ...)\n",
    "- name - Nombre del desarrollo.\n",
    "- short_description - Descripción corta del anuncio.\n",
    "- description - Descripción del anuncio.\n"
   ]
  },
  {
   "cell_type": "markdown",
   "metadata": {
    "id": "JwgUVMIBLQOP",
    "pycharm": {
     "name": "#%% md\n"
    },
    "tags": []
   },
   "source": [
    "## Filtrado inicial del Dataset\n",
    "Como trabajaremos con un universo acotado de propiedades, haremos una selección inicial de las publicaciones que nos interesa analizar:\n",
    "\n",
    "Como primer paso hay que filtrar las observaciones que su tipo de vivienda sea: Casa, PH o Departamento.\n",
    "\n",
    "Luego filtramos la ubicacion quedandonos unicamente con las propiedades de Capital Federal.\n",
    "\n",
    "A continuación, consideraremos solo las que esten cotizadas en dolares.\n",
    "\n",
    "Y finalmente, tomamos solo las que sean ventas"
   ]
  },
  {
   "cell_type": "code",
   "execution_count": null,
   "metadata": {
    "colab": {
     "base_uri": "https://localhost:8080/",
     "height": 424
    },
    "id": "1DujzqFCLQOP",
    "outputId": "c353061b-e309-40a6-d310-b38d139d7281",
    "pycharm": {
     "name": "#%%\n"
    }
   },
   "outputs": [],
   "source": [
    "df_tipo_vivienda = df[(df.property_type == \"Casa\") | (df.property_type == \"PH\") | (df.property_type == \"Departamento\")]\n",
    "df_por_ubicacion = df_tipo_vivienda[\n",
    "    (df_tipo_vivienda.place_l2 == \"Capital Federal\") | (df_tipo_vivienda.place_l3 == \"Capital Federal\")]\n",
    "df_cotizacion_usd = df_por_ubicacion[df_por_ubicacion.property_currency == \"USD\"]\n",
    "ds_filtrado = df_cotizacion_usd[df_cotizacion_usd.operation == \"Venta\"]\n",
    "\n",
    "ds_filtrado[[\"place_l2\", \"place_l3\", \"property_currency\", \"property_type\", \"operation\"]]"
   ]
  },
  {
   "cell_type": "markdown",
   "metadata": {
    "id": "xRGSuR5JLQOQ",
    "pycharm": {
     "name": "#%% md\n"
    }
   },
   "source": [
    "A partir de aquí trabajaremos con el dataset filtrado (`ds_filtrado`)\n",
    "\n",
    "Analizando los tipos de dato de los campos:\n",
    "- Hay 3 campos de fecha, evaluaremos más adelante como tratarlos.\n",
    "- Tenemos latitud y longitd en su formato correcto\n",
    "- Hay una variable place_l6 que no debería ser un número, también analizaremos a que se debe.\n",
    "- La cantidad de habitaciones (rooms y bedrooms) quizás debería tener valores enteros.\n",
    "- El precio tiene un tipo correcto"
   ]
  },
  {
   "cell_type": "markdown",
   "metadata": {
    "id": "NhbTz94XLQOQ",
    "pycharm": {
     "name": "#%% md\n"
    },
    "tags": []
   },
   "source": [
    "## Exploración Inicial"
   ]
  },
  {
   "cell_type": "markdown",
   "metadata": {
    "id": "WzgZZ3DvLQOQ",
    "jp-MarkdownHeadingCollapsed": true,
    "pycharm": {
     "name": "#%% md\n"
    },
    "tags": []
   },
   "source": [
    "### Tipos de variable"
   ]
  },
  {
   "cell_type": "code",
   "execution_count": null,
   "metadata": {
    "colab": {
     "base_uri": "https://localhost:8080/",
     "height": 426
    },
    "id": "R5A31s5gLQOR",
    "outputId": "fc5af078-2793-499d-ad4e-236ceb60c654",
    "pycharm": {
     "name": "#%%\n"
    }
   },
   "outputs": [],
   "source": [
    "categoricas = ['created_on','start_date', 'end_date', 'place_l2', 'place_l3', 'place_l4', 'place_l5', 'place_l6', 'operation', 'property_type', 'property_currency', 'property_title']\n",
    "cuantitativas_discretas = ['property_rooms', 'property_bedrooms', 'property_surface_total', 'property_surface_covered', None, None, None, None, None, None, None, None]\n",
    "cuantitativas_continuas = ['latitud', 'longitud','property_price', None, None, None, None, None, None, None, None, None]\n",
    "ordinales = [None, None, None, None, None, None, None, None, None, None, None, None]\n",
    "tipos_de_variable = {'Categoricas': categoricas, 'Ordinales': ordinales, 'Cuantitativas Discretas': cuantitativas_discretas, 'Cuantitativas Continuas': cuantitativas_discretas}\n",
    "\n",
    "cuantitativas = cuantitativas_discretas + cuantitativas_continuas\n",
    "\n",
    "pd.DataFrame(tipos_de_variable)"
   ]
  },
  {
   "cell_type": "markdown",
   "metadata": {
    "id": "1az7CMHPLQOR",
    "pycharm": {
     "name": "#%% md\n"
    },
    "tags": []
   },
   "source": [
    "### Fechas\n"
   ]
  },
  {
   "cell_type": "code",
   "execution_count": null,
   "metadata": {
    "colab": {
     "base_uri": "https://localhost:8080/"
    },
    "id": "sZ2ccgNXLQOR",
    "outputId": "a842d488-937c-483d-e9dd-5e528507f6ba",
    "pycharm": {
     "name": "#%%\n"
    }
   },
   "outputs": [],
   "source": [
    "ds_filtrado[[\"start_date\", \"end_date\", \"created_on\"]].isna().sum()"
   ]
  },
  {
   "cell_type": "code",
   "execution_count": null,
   "metadata": {
    "colab": {
     "base_uri": "https://localhost:8080/"
    },
    "id": "H3n_AqhzLQOS",
    "outputId": "4053cf21-6299-4a17-bca2-ea60b2d54aad",
    "pycharm": {
     "name": "#%%\n"
    }
   },
   "outputs": [],
   "source": [
    "ds_filtrado[\"start_date\"].value_counts()"
   ]
  },
  {
   "cell_type": "code",
   "execution_count": null,
   "metadata": {
    "colab": {
     "base_uri": "https://localhost:8080/"
    },
    "id": "LKcPiKQKLQOS",
    "outputId": "f9dea35f-98b1-40da-ef45-c3ce9c96d450",
    "pycharm": {
     "name": "#%%\n"
    }
   },
   "outputs": [],
   "source": [
    "ds_filtrado[\"end_date\"].value_counts()"
   ]
  },
  {
   "cell_type": "code",
   "execution_count": null,
   "metadata": {
    "colab": {
     "base_uri": "https://localhost:8080/"
    },
    "id": "zb6z92oNLQOS",
    "outputId": "9791e77f-0814-45e4-cfbd-4b4089392a4c",
    "pycharm": {
     "name": "#%%\n"
    }
   },
   "outputs": [],
   "source": [
    "ds_filtrado[ds_filtrado.created_on != ds_filtrado.start_date].shape"
   ]
  },
  {
   "cell_type": "markdown",
   "metadata": {
    "id": "KCYl52qNLQOT",
    "pycharm": {
     "name": "#%% md\n"
    }
   },
   "source": [
    "Podemos ver que la columnas created_on y start_date siempre son iguales, descartaremos una de ellas más adelante."
   ]
  },
  {
   "cell_type": "code",
   "execution_count": null,
   "metadata": {
    "colab": {
     "base_uri": "https://localhost:8080/"
    },
    "id": "7AOH_EYSLQOT",
    "outputId": "d66da677-8d37-475c-864b-c23e78454fc6",
    "pycharm": {
     "name": "#%%\n"
    }
   },
   "outputs": [],
   "source": [
    "ds_filtrado[\"created_on\"].value_counts()"
   ]
  },
  {
   "cell_type": "markdown",
   "metadata": {
    "id": "Xj7wKTngLQOT",
    "pycharm": {
     "name": "#%% md\n"
    }
   },
   "source": [
    "Hay un valor extraño en end_date, la fecha 9999-12-31, hay 5041 apariciones de esta fecha"
   ]
  },
  {
   "cell_type": "code",
   "execution_count": null,
   "metadata": {
    "colab": {
     "base_uri": "https://localhost:8080/"
    },
    "id": "wgJVsBimLQOT",
    "outputId": "f5d134b0-264d-4827-9e36-c288eedef5d3",
    "pycharm": {
     "name": "#%%\n"
    }
   },
   "outputs": [],
   "source": [
    "ds_filtrado[ds_filtrado.end_date == '9999-12-31']['start_date'].value_counts()"
   ]
  },
  {
   "cell_type": "markdown",
   "metadata": {
    "id": "zGaQ3WZRLQOT",
    "pycharm": {
     "name": "#%% md\n"
    }
   },
   "source": [
    "Considerando que todas las fechas son de 2021, y que el dato que falta es el del fin de la publicación (es decir, la casa esta publicada) y a fines de preservar estos datos, traeremos a consideración la duración promedio de cada publicación, calcularemos ese promedio dejando fuera los 5041 casos que presentan la fecha inválida.\n",
    "\n",
    "Tomaremos para el cálculo las fechas convertidas a datetime."
   ]
  },
  {
   "cell_type": "code",
   "execution_count": null,
   "metadata": {
    "colab": {
     "base_uri": "https://localhost:8080/"
    },
    "id": "LdLL6aw6LQOU",
    "outputId": "a7d5f2d7-6711-4793-c340-6374a32c0fd0",
    "pycharm": {
     "name": "#%%\n"
    }
   },
   "outputs": [],
   "source": [
    "dias = pd.to_datetime(ds_filtrado[ds_filtrado.end_date != '9999-12-31']['end_date']) - pd.to_datetime(\n",
    "    ds_filtrado[ds_filtrado.end_date != '9999-12-31']['start_date'])\n",
    "dias.describe()"
   ]
  },
  {
   "cell_type": "markdown",
   "metadata": {
    "id": "MCC3ymMpLQOU",
    "pycharm": {
     "name": "#%% md\n"
    }
   },
   "source": [
    "El promedio de la duración de las publicaciones es casi de 75 días, asumiremos que las publicaciones con la fecha invalida duraron lo mismo que el promedio y tomaremos como fecha final la fecha de inicio + 75 días."
   ]
  },
  {
   "cell_type": "code",
   "execution_count": null,
   "metadata": {
    "colab": {
     "base_uri": "https://localhost:8080/"
    },
    "id": "d4xRGen3LQOU",
    "outputId": "bb576eb5-91f5-4e11-879d-58aeee6d165c",
    "pycharm": {
     "name": "#%%\n"
    }
   },
   "outputs": [],
   "source": [
    "ds_filtrado.loc[ds_filtrado.end_date == '9999-12-31', 'end_date'] = pd.to_datetime(\n",
    "    ds_filtrado[ds_filtrado.end_date == '9999-12-31']['start_date']) + dias.mean()\n",
    "ds_filtrado.end_date"
   ]
  },
  {
   "cell_type": "markdown",
   "metadata": {
    "id": "X64AaYE0LQOU",
    "pycharm": {
     "name": "#%% md\n"
    }
   },
   "source": [
    "Finalmente, como todos los valores son formatos válidos de fecha, podemos convertir sin problemas."
   ]
  },
  {
   "cell_type": "markdown",
   "metadata": {
    "id": "5noSSMY0LQOU",
    "pycharm": {
     "name": "#%% md\n"
    },
    "tags": []
   },
   "source": [
    "### Conversion tipo de dato"
   ]
  },
  {
   "cell_type": "code",
   "execution_count": null,
   "metadata": {
    "colab": {
     "base_uri": "https://localhost:8080/"
    },
    "id": "mp8_BRoTLQOV",
    "outputId": "149e872a-5d9c-40f5-c90b-5d5bc6d6ca89",
    "pycharm": {
     "name": "#%%\n"
    }
   },
   "outputs": [],
   "source": [
    "new_ds = ds_filtrado.copy()\n",
    "new_ds.start_date = pd.to_datetime(new_ds.start_date, infer_datetime_format=True)\n",
    "new_ds.end_date = pd.to_datetime(new_ds.end_date, infer_datetime_format=True)\n",
    "new_ds.created_on = pd.to_datetime(new_ds.created_on, infer_datetime_format=True)\n",
    "ds_filtrado = new_ds.copy()\n",
    "ds_filtrado.dtypes"
   ]
  },
  {
   "cell_type": "markdown",
   "metadata": {
    "id": "1mXl9xLGLQOV",
    "jp-MarkdownHeadingCollapsed": true,
    "pycharm": {
     "name": "#%% md\n"
    },
    "tags": []
   },
   "source": [
    "## Variables Cuantitativas: calcular medidas de resumen: media, mediana, q1, q3, moda"
   ]
  },
  {
   "cell_type": "code",
   "execution_count": null,
   "metadata": {
    "colab": {
     "base_uri": "https://localhost:8080/",
     "height": 430
    },
    "id": "DIC-CDrbLQOV",
    "outputId": "d7993583-a930-4bb7-8dfc-e1b1f0bb5fed",
    "pycharm": {
     "name": "#%%\n"
    }
   },
   "outputs": [],
   "source": [
    "# Variables Cuantitativas: calcular medidas de resumen: media, mediana, q1, q3, moda\n",
    "cuantitativas_filtradas = list(filter(lambda element: element != None, cuantitativas))\n",
    "description_quantitatives = ds_filtrado[cuantitativas_filtradas].describe()\n",
    "\n",
    "quantitative_mode = ds_filtrado[cuantitativas_filtradas].mode()\n",
    "quantitative_mode.rename(index={0: \"mode\"}, inplace=True)\n",
    "description_quantitatives = description_quantitatives.append(quantitative_mode)\n",
    "\n",
    "description_quantitatives.rename(index={\"25%\":\"quartile 1\",\"50%\":\"median\",\"75%\":\"quartile 3\"}, inplace=True)\n",
    "description_quantitatives"
   ]
  },
  {
   "cell_type": "markdown",
   "metadata": {
    "id": "WoYpoj6SLQOV",
    "pycharm": {
     "name": "#%% md\n"
    },
    "tags": []
   },
   "source": [
    "## Variables Cualitativas mostrar cantidad de valores posibles, y frecuencias de cada uno."
   ]
  },
  {
   "cell_type": "code",
   "execution_count": null,
   "metadata": {
    "colab": {
     "base_uri": "https://localhost:8080/",
     "height": 438
    },
    "id": "r6rDs0cBLQOV",
    "outputId": "0f2b586a-4e82-4e0c-abdd-20ee8d0f91d2",
    "pycharm": {
     "name": "#%%\n"
    }
   },
   "outputs": [],
   "source": [
    "qualitative_dataset = ds_filtrado[categoricas]\n",
    "\n",
    "dfs = list(\n",
    "    pd.DataFrame(qualitative_dataset[column].value_counts().head()) for column in qualitative_dataset.columns.tolist())\n",
    "display_side_by_side(dfs, qualitative_dataset.columns.tolist())"
   ]
  },
  {
   "cell_type": "markdown",
   "metadata": {
    "id": "1gBeIXrRLQOW",
    "pycharm": {
     "name": "#%% md\n"
    }
   },
   "source": [
    "La tabla muestra varias cosas:\n",
    "- Hay 94249 propiedades habiendo filtrado solo las de Capital Federal, Venta y USD\n",
    "- Hay 80829 departamentos, 9266 PHs y 4154 casas\n",
    "- Hay 14308 propiedades en Palermo\n",
    "- El id de la propiedad es único y no representa nada útil para nuestro procesamiento. Parecería pasar algo similar con el título, lo analizaremos en más detalle más adelante"
   ]
  },
  {
   "cell_type": "markdown",
   "metadata": {
    "id": "ojlfca7BBXAw",
    "tags": []
   },
   "source": [
    "## Análisis gráfico de las distribuciones de las variables"
   ]
  },
  {
   "cell_type": "markdown",
   "metadata": {
    "id": "UJXPwgQU6a2Q",
    "tags": []
   },
   "source": [
    "#### Distribución de fechas "
   ]
  },
  {
   "cell_type": "code",
   "execution_count": null,
   "metadata": {
    "colab": {
     "base_uri": "https://localhost:8080/",
     "height": 0
    },
    "id": "zOdlJeZbCDHW",
    "outputId": "e850e1e8-55c2-4604-f6a3-38e03da6d890"
   },
   "outputs": [],
   "source": [
    "\n",
    "plt.figure(figsize=(10,10))\n",
    "plt.hist(ds_filtrado.start_date, bins=25, alpha=0.5, label=\"start_date\")\n",
    "plt.hist(ds_filtrado.end_date, bins=25, alpha=0.5, label=\"end_date\")\n",
    "plt.hist(ds_filtrado.created_on, bins=25, alpha=0.5, label=\"created_on\")\n",
    "plt.xlabel(\"Fecha\", size=14)\n",
    "plt.ylabel(\"Frecuencia\", size=14)\n",
    "plt.title(\"Frecuencia por fecha de los eventos de los anuncios\",size=18)\n",
    "plt.legend(loc='upper right')\n"
   ]
  },
  {
   "cell_type": "markdown",
   "metadata": {
    "id": "VP1hjsD6yt2o"
   },
   "source": [
    "En este grafico se puede apreciar la distribución de las variables que hacen referencia a las fechas de creacion, alta y baja de los anuncios. Podemos ver que la distribución de las fechas de creación coincide con la distribución de las fechas de alta del anuncio, lo cual tiene sentido que así sea ya que la fecha de creación del anuncio es la primer versión del anuncio en ser dada de alta. "
   ]
  },
  {
   "cell_type": "markdown",
   "metadata": {
    "id": "UM58cSnX1DMZ",
    "tags": []
   },
   "source": [
    "###  Distribución de barrios\n",
    "Primero vemos la cantidad de apariciones de los barrios por anuncio en la siguiente tabla:"
   ]
  },
  {
   "cell_type": "code",
   "execution_count": null,
   "metadata": {
    "colab": {
     "base_uri": "https://localhost:8080/"
    },
    "id": "DB8QfV1X0wth",
    "outputId": "324f5215-4211-4ef1-ef06-f2ad981251f4"
   },
   "outputs": [],
   "source": [
    "ds_filtrado['place_l3'].value_counts()"
   ]
  },
  {
   "cell_type": "markdown",
   "metadata": {
    "id": "1JsZH1apOsNB"
   },
   "source": [
    "Como podemos observar, hay demasiados barrios con pocas apariciones, por lo que nos centraremos en visualizar los primeras 10 barrios que mas aparecen. Agrupando al resto en una nueva categoria llamada \"Otras\"."
   ]
  },
  {
   "cell_type": "code",
   "execution_count": null,
   "metadata": {
    "id": "hSnGpb5e72sT"
   },
   "outputs": [],
   "source": [
    "top10 = ds_filtrado['place_l3'].value_counts().head(10)"
   ]
  },
  {
   "cell_type": "code",
   "execution_count": null,
   "metadata": {
    "colab": {
     "base_uri": "https://localhost:8080/",
     "height": 674
    },
    "id": "ScF0e8uGPNoX",
    "outputId": "55298349-c843-494f-cfdc-d28296dc1bd9"
   },
   "outputs": [],
   "source": [
    "ds_otros_barrios = ds_filtrado[~ds_filtrado['place_l3'].isin(top10.index)] # tomamos solo con las observaciones que no pertenecen al top 10 de barrios\n",
    "frecuencia_otras = ds_otros_barrios.shape[0] \n",
    "otras = pd.Series(data=[frecuencia_otras], index=[\"Otros\"])\n",
    "distribucion_por_barrios = pd.concat([otras,top10])\n",
    "\n",
    "ax = distribucion_por_barrios.plot.bar(alpha=0.5 , title=\"Distribución de los barrios con mas propiedades más publicadas\" , xlabel=\"Barrios\" , ylabel=\"Cantidad de Anuncios\",figsize=(10, 10))"
   ]
  },
  {
   "cell_type": "markdown",
   "metadata": {
    "id": "0KzTb0j4RClh"
   },
   "source": [
    "El barrio de Palermo es la que tiene mas propiedades publicadas"
   ]
  },
  {
   "cell_type": "markdown",
   "metadata": {
    "id": "obePjaf2R3Jg",
    "jp-MarkdownHeadingCollapsed": true,
    "tags": []
   },
   "source": [
    "### Distribución de tipos de propiedad\n",
    "\n",
    "Para analizar la distribucion de la variable property_type vamos a agrupar las apariciones en un grafico de barras por tipo de propiedad"
   ]
  },
  {
   "cell_type": "code",
   "execution_count": null,
   "metadata": {
    "colab": {
     "base_uri": "https://localhost:8080/",
     "height": 0
    },
    "id": "Quam07N7Q3V_",
    "outputId": "787d6ae6-a92c-4441-fca5-1d415074b422"
   },
   "outputs": [],
   "source": [
    "colores=[(0,0,1),(0,1,0),(1,0,0)]\n",
    "grf=ds_filtrado['property_type'].value_counts().plot.barh(alpha=0.5,color=colores, title=\"Cantidad de propiedades por tipo\",ylabel=\"Cantidad\")  "
   ]
  },
  {
   "cell_type": "markdown",
   "metadata": {
    "id": "L_XQi_RJSJrw"
   },
   "source": [
    "A simple vista se puede ver que la mayoria de publicaciones son de departamentos por una amplia diferencia"
   ]
  },
  {
   "cell_type": "markdown",
   "metadata": {
    "id": "2oo26Jn3WzsK",
    "tags": []
   },
   "source": [
    "### Distribución de latitud y longitud\n",
    "Para analizar la longitud y latitud vamos a utilizar un grafico de a pares ya que nos aporta más información sobre su distribución, pudiendo visualizar la localización de la propiedad. Adicionalmente se distinguirá por el tipo de propiedad."
   ]
  },
  {
   "cell_type": "code",
   "execution_count": null,
   "metadata": {
    "colab": {
     "base_uri": "https://localhost:8080/",
     "height": 0
    },
    "id": "jptzUAZzM9XJ",
    "outputId": "cb44dd35-abed-406d-f5ff-6324123dfd5e"
   },
   "outputs": [],
   "source": [
    "#grf=ds_filtrado.plot.scatter(x=\"latitud\", y=\"longitud\", s=10).set(title=\"Distribucion de observaciones por latitud y longitud\",xlabel='Age',ylabel='Fare') \n",
    "sns.relplot(data=ds_filtrado,x=\"longitud\", y=\"latitud\", hue=\"property_type\").set(title=\"Ubicacion de las propiedades\",xlabel='Longitud',ylabel='Latitud')"
   ]
  },
  {
   "cell_type": "markdown",
   "metadata": {
    "id": "PC6IDU4UXjdY"
   },
   "source": [
    "Podemos ver que la mayoria de propiedades publicadas se encuentran concentradas en un área en particular, donde mayormente son de tipo Casa. Y al alejarse se ven departamentos distanciados entre sí."
   ]
  },
  {
   "cell_type": "markdown",
   "metadata": {
    "id": "-Ddt6nPw7c_v",
    "tags": []
   },
   "source": [
    "### Distribución de habitaciones y baños"
   ]
  },
  {
   "cell_type": "code",
   "execution_count": null,
   "metadata": {
    "colab": {
     "base_uri": "https://localhost:8080/",
     "height": 0
    },
    "id": "UUaSXo4QDkIo",
    "outputId": "4b0534ae-16b7-4e96-b867-ff16595a654e"
   },
   "outputs": [],
   "source": [
    "grf=ds_filtrado.property_rooms.plot.box(title=\"Distribucion de la cantidad de habitaciones por propiedad\",ylabel=\"Habitaciones\")"
   ]
  },
  {
   "cell_type": "markdown",
   "metadata": {
    "id": "GN9Q93gEfaaC"
   },
   "source": [
    "Podemos ver que hay una gran cantidad de outliers, siendo 40 el que mas se aleja, para visualizar mejor la distribucion del boxplot veremos un nuevo grafico sin considerar los outliers."
   ]
  },
  {
   "cell_type": "code",
   "execution_count": null,
   "metadata": {
    "colab": {
     "base_uri": "https://localhost:8080/",
     "height": 0
    },
    "id": "2OPgsq5PqGIU",
    "outputId": "c23109d4-6e60-465c-fe3d-a6aec686badf"
   },
   "outputs": [],
   "source": [
    "q1 = ds_filtrado.property_rooms.quantile(q=0.25)\n",
    "q3 = ds_filtrado.property_rooms.quantile(q=0.75)\n",
    "iqr = q3 - q1\n",
    "max = q3 + (iqr * 1.5)\n",
    "\n",
    "property_rooms_filtrado = ds_filtrado[ds_filtrado.property_rooms <= max].property_rooms\n",
    "grf=property_rooms_filtrado.plot.box(title=\"Distribucion de la cantidad de habitaciones por propiedad (Sin outliers)\",ylabel=\"Habitaciones\")"
   ]
  },
  {
   "cell_type": "markdown",
   "metadata": {
    "id": "oU1SeXG0gJ7x"
   },
   "source": [
    "Ahora si podemos visualizar mejor los valores de la mediana, q3, q1 y los bigotes. Que toman la siguiente cantidad de habitaciones:\n",
    "\n",
    "*   Bigotes: 1 y 7.\n",
    "*   Cuartil 1: 2\n",
    "*   Mediana: 3.\n",
    "*   Cuartil 3: 4.\n",
    "\n",
    "\n",
    "\n"
   ]
  },
  {
   "cell_type": "markdown",
   "metadata": {
    "id": "jkVfudx0hHxp"
   },
   "source": [
    "Hacemos el mismo procedimiento ver la distribución de la cantidad de baños por propiedad"
   ]
  },
  {
   "cell_type": "code",
   "execution_count": null,
   "metadata": {
    "colab": {
     "base_uri": "https://localhost:8080/",
     "height": 0
    },
    "id": "pTAVKc0rYh78",
    "outputId": "149bc373-c447-4ec9-a1b7-99794761d915"
   },
   "outputs": [],
   "source": [
    "ds_filtrado.property_bedrooms.plot.box(title=\"Distribucion de la cantidad de baños por propiedad\",ylabel=\"Baños\")"
   ]
  },
  {
   "cell_type": "markdown",
   "metadata": {
    "id": "tHwz6dmbh8xI"
   },
   "source": [
    "Vemos que esta vez hay mas distancia entre el outlier mas alejado y el resto de outliers."
   ]
  },
  {
   "cell_type": "code",
   "execution_count": null,
   "metadata": {
    "colab": {
     "base_uri": "https://localhost:8080/",
     "height": 0
    },
    "id": "xVtqbQTaqrT2",
    "outputId": "bfaf61b5-6296-4088-a2b8-5f6c7758ccb0"
   },
   "outputs": [],
   "source": [
    "q1 = ds_filtrado.property_rooms.quantile(q=0.25)\n",
    "q3 = ds_filtrado.property_rooms.quantile(q=0.75)\n",
    "iqr = q3 - q1\n",
    "max = q3 + (iqr * 1.5)\n",
    "\n",
    "property_bedrooms_filtrado = ds_filtrado[ds_filtrado.property_bedrooms <= max].property_bedrooms\n",
    "grf=property_bedrooms_filtrado.plot.box(title=\"Distribucion de la cantidad de baños por propiedad (Sin outliers)\",xlabel=\" \",ylabel=\"Baños\")"
   ]
  },
  {
   "cell_type": "markdown",
   "metadata": {
    "id": "djmWF1F7iK_g"
   },
   "source": [
    "En este caso toman los siguientes valores:\n",
    "\n",
    "*   Bigotes: -1 y 6.\n",
    "*   Cuartil 1: 1.\n",
    "*   Mediana: 2.\n",
    "*   Cuartil 3: 3.\n"
   ]
  },
  {
   "cell_type": "markdown",
   "metadata": {
    "id": "M4Amhc7lkDC4",
    "tags": []
   },
   "source": [
    "### Distribución de precio\n",
    "\n",
    "Para analizar la distribución del precio, como es un tipo de variable continua y cada observación puede tomar un valor en un rango muy grande, optamos por hacer una agrupación por rangos de precios, obteniendo una categoria por cada rango.\n",
    "Vamos a considerar la mediana para establecer los limites entre cada grupo, consideramos que es un buen valor para dividir al conjunto en partes ya que no se ve afectado drasticamente por outliers (como si sucede con la media)."
   ]
  },
  {
   "cell_type": "code",
   "execution_count": null,
   "metadata": {
    "colab": {
     "base_uri": "https://localhost:8080/"
    },
    "id": "MPilP3s-mFh_",
    "outputId": "2642de60-4687-4c40-ab9a-8285ec03121b"
   },
   "outputs": [],
   "source": [
    "print(f\"La mediana del precio es: {ds_filtrado.property_price.median()}\")"
   ]
  },
  {
   "cell_type": "code",
   "execution_count": null,
   "metadata": {
    "colab": {
     "base_uri": "https://localhost:8080/",
     "height": 0
    },
    "id": "BVQvZd0vsvBE",
    "outputId": "f2401054-fd26-41a8-ee15-e4d9346f3f7e"
   },
   "outputs": [],
   "source": [
    "# Tomamos valores alrededor de la mediana\n",
    "property_price_grouped = pd.cut(ds_filtrado.property_price,bins=[0,75000,150000,225000,float(\"inf\")],labels=[\"0-75000\",\"75000-150000\",\"150000-225000\",\"225000-Inf\"],include_lowest=True)\n",
    "property_price_grouped.value_counts().plot.barh(alpha=0.5,color=colores, title=\"Distribucion de los precios de las propiedades\", xlabel=\"Rango de precios\",ylabel=\"Frecuencia\")"
   ]
  },
  {
   "cell_type": "markdown",
   "metadata": {
    "id": "QJOAlZoprGHo"
   },
   "source": [
    "Podemos ver que la mayoria de propiedades estan dentro del rango de 75000 y 150000 USD."
   ]
  },
  {
   "cell_type": "markdown",
   "metadata": {
    "id": "4d609ZsivVrn",
    "tags": []
   },
   "source": [
    "### Distribución de superficie total y cubierta\n",
    "\n",
    "Utilizaremos un violin plot para cada variable. "
   ]
  },
  {
   "cell_type": "code",
   "execution_count": null,
   "metadata": {
    "colab": {
     "base_uri": "https://localhost:8080/",
     "height": 0
    },
    "id": "5nqsGa7Q0k80",
    "outputId": "7796eed2-47dc-44be-b9fb-1cf15c0b9c4b"
   },
   "outputs": [],
   "source": [
    "sns.violinplot(ds_filtrado.property_surface_total)"
   ]
  },
  {
   "cell_type": "markdown",
   "metadata": {
    "id": "-9Rl83-ewc_f"
   },
   "source": [
    "A simple vista no esta muy claro el gráfico por la cantidad de outliers que hay, por lo que dejaremos de lado la mayoria de outliers para interpretarlo mas en detalle."
   ]
  },
  {
   "cell_type": "code",
   "execution_count": null,
   "metadata": {
    "colab": {
     "base_uri": "https://localhost:8080/",
     "height": 0
    },
    "id": "LouTyQqWw2TH",
    "outputId": "10a14121-4f5e-4819-d2e2-92904ef9b610"
   },
   "outputs": [],
   "source": [
    "ds_surface_sin_outliers =  ds_filtrado[ds_filtrado.property_surface_total < 600]\n",
    "sns.violinplot(ds_surface_sin_outliers.property_surface_total)"
   ]
  },
  {
   "cell_type": "markdown",
   "metadata": {
    "id": "ND53nYXgzkCv"
   },
   "source": [
    "Podemos ver que entre 0 y 100 se encuentra la mayor densidad"
   ]
  },
  {
   "cell_type": "markdown",
   "metadata": {
    "id": "bqF778U6z2g_"
   },
   "source": [
    "Hacemos el mismo procedimiento para visualizar la distribución de la superficie cubierta de la propiedad"
   ]
  },
  {
   "cell_type": "code",
   "execution_count": null,
   "metadata": {
    "colab": {
     "base_uri": "https://localhost:8080/",
     "height": 0
    },
    "id": "mfQYp9bk0FcX",
    "outputId": "51167fc0-2b03-46b7-933c-9a86db863ce2"
   },
   "outputs": [],
   "source": [
    "ds_surface_covered_sin_outliers =  ds_filtrado[ds_filtrado.property_surface_covered < 600]\n",
    "sns.violinplot(ds_surface_covered_sin_outliers.property_surface_covered)"
   ]
  },
  {
   "cell_type": "markdown",
   "metadata": {
    "id": "EEqKZ7Cy0Uy3"
   },
   "source": [
    "Se nota que el grafico de property_surface_total es similar al de property_surface_covered, teniendo el segundo una densidad levemente menor. "
   ]
  },
  {
   "cell_type": "markdown",
   "metadata": {
    "id": "fW8vJOcwtiRu",
    "pycharm": {
     "name": "#%% md\n"
    }
   },
   "source": [
    "## Correlación entre variables"
   ]
  },
  {
   "cell_type": "markdown",
   "metadata": {
    "id": "5e9Lmd6SdIyx"
   },
   "source": [
    "A continuación analizaremos la correlación entre las variables cuantitativas, primero visualizando la distribución a pares entre estas."
   ]
  },
  {
   "cell_type": "code",
   "execution_count": null,
   "metadata": {
    "colab": {
     "base_uri": "https://localhost:8080/",
     "height": 0
    },
    "id": "v7wt8NlStiRv",
    "outputId": "20612517-e361-4a5b-f792-548cc53c76e9",
    "pycharm": {
     "name": "#%%\n"
    }
   },
   "outputs": [],
   "source": [
    "quantitative_dataset = ds_filtrado[cuantitativas_filtradas]\n",
    "ax = scatter_matrix(quantitative_dataset, alpha=0.7,figsize=(15, 15), s=100)"
   ]
  },
  {
   "cell_type": "markdown",
   "metadata": {
    "id": "W_YWH43tWKES"
   },
   "source": [
    "Si bien a simple vista no esta muy claro que variables están correlacionadas entre sí, podemos suponer que puede llegar a haber relación entre property_rooms y property_bedrooms, property_surface_total y property_surface_covered, property_price y property_rooms, property_price y property_bedrooms. Las cuales tiene sentido que pudiesen tener algún tipo de relación.\n",
    "\n",
    "Además podemos considerar en menor medida que haya una relación entre longitud y latitud (cosa que no necesariamente tendría que ser así)\n",
    "\n",
    "\n"
   ]
  },
  {
   "cell_type": "markdown",
   "metadata": {
    "id": "hinCAxYxuM4p"
   },
   "source": [
    "Analizaremos la correlación lineal entre variables por medio de la medición del coeficiente de Pearson"
   ]
  },
  {
   "cell_type": "code",
   "execution_count": null,
   "metadata": {
    "colab": {
     "base_uri": "https://localhost:8080/",
     "height": 0
    },
    "id": "ip0UrMAVtiRw",
    "outputId": "fcfa50c2-2405-43c4-e3ef-861dbdb0db5d",
    "pycharm": {
     "name": "#%%\n"
    }
   },
   "outputs": [],
   "source": [
    "correlations = quantitative_dataset.corr()\n",
    "correlations"
   ]
  },
  {
   "cell_type": "markdown",
   "metadata": {
    "id": "UDRu1PrhuZ9R"
   },
   "source": [
    "Haremos un heatmap que nos permite visualizar mejor la correlación"
   ]
  },
  {
   "cell_type": "code",
   "execution_count": null,
   "metadata": {
    "colab": {
     "base_uri": "https://localhost:8080/",
     "height": 0
    },
    "id": "5Psy0pQTtiRx",
    "outputId": "b6b7a493-2bf9-4ae7-a9cc-d023853371a3",
    "pycharm": {
     "name": "#%%\n"
    }
   },
   "outputs": [],
   "source": [
    "plt.figure(figsize=(10, 10))\n",
    "ax = sns.heatmap(quantitative_dataset.corr(), annot=True)"
   ]
  },
  {
   "cell_type": "markdown",
   "metadata": {
    "id": "N2d-_ZHLnRKB"
   },
   "source": [
    "Luego de calcular el coeficiente de Pearson donde los que resultan cercanos a 1 indican una gran correlación entre sí, los que tienden a 0 tienen poca correlación y los cercanos a -1 presentan una notable correlación negativa.\n",
    "\n",
    "Veremos si las variables que parecían relacionarse anteriormente realmente lo hacen:\n"
   ]
  },
  {
   "cell_type": "code",
   "execution_count": null,
   "metadata": {
    "colab": {
     "base_uri": "https://localhost:8080/"
    },
    "id": "4QTZTD71sNs5",
    "outputId": "57d84169-d5f9-4947-8990-5136d8dd6a4a"
   },
   "outputs": [],
   "source": [
    "posible_correlations = [('property_rooms','property_bedrooms'),('property_price','property_bedrooms'),('property_price','property_rooms'),('property_surface_total','property_surface_covered'),('longitud','latitud')]\n",
    "for corr in posible_correlations:\n",
    "  print(f\"Entre {corr[0]} y {corr[1]}:{round(correlations.loc[corr[0],corr[1]],2)}\")"
   ]
  },
  {
   "cell_type": "markdown",
   "metadata": {
    "id": "_cnFHZ2pvoEh"
   },
   "source": [
    "Podemos sacar las siguientes conclusiones sobre las variables que parecian relacionarse:\n",
    "\n",
    "\n",
    "*   Hay mucha relación entre la cantidad de habitaciones y ambientes.\n",
    "*   Hay menos relación entre la superficie total y superficie cubierta de la propiedad.\n",
    "*   Casi no hay relación entre el precio y la cantidad de habitaciones.\n",
    "*   Casi no hay relación entre el precio y la cantidad de ambientes.\n",
    "*   No hay relación entre la latitud y la longitud.\n",
    "\n",
    "\n",
    "\n"
   ]
  },
  {
   "cell_type": "markdown",
   "metadata": {
    "id": "yWxX8bRyLQOX",
    "pycharm": {
     "name": "#%% md\n"
    },
    "tags": []
   },
   "source": [
    "## Análisis de valores faltantes"
   ]
  },
  {
   "cell_type": "markdown",
   "metadata": {
    "id": "6qcBvd1oLQOX",
    "pycharm": {
     "name": "#%% md\n"
    }
   },
   "source": [
    "Ahora analizaremos los datos faltantes del dataset."
   ]
  },
  {
   "cell_type": "markdown",
   "metadata": {
    "id": "Pv7hjbTPLQOX",
    "pycharm": {
     "name": "#%% md\n"
    },
    "tags": []
   },
   "source": [
    "### Porcentaje de valores faltantes por columna\n",
    "\n"
   ]
  },
  {
   "cell_type": "code",
   "execution_count": null,
   "metadata": {
    "colab": {
     "base_uri": "https://localhost:8080/",
     "height": 0
    },
    "id": "cgUBM6_7LQOX",
    "outputId": "dfff283b-13e4-407e-c9f7-69f2cee655f0",
    "pycharm": {
     "name": "#%%\n"
    }
   },
   "outputs": [],
   "source": [
    "percent_missing = ds_filtrado.isna().sum() * 100 / len(ds_filtrado)\n",
    "plt.figure(figsize=(12, 6))\n",
    "percent_missing.plot.bar(x='index', rot=45)\n",
    "plt.xlabel(\"Columns\")\n",
    "plt.ylabel(\"Percentage Missing\")\n",
    "rows = ds_filtrado.shape[0]\n",
    "print(ds_filtrado.isna().sum() / rows * 100)"
   ]
  },
  {
   "cell_type": "markdown",
   "metadata": {
    "id": "9Zc0JgleLQOX",
    "pycharm": {
     "name": "#%% md\n"
    }
   },
   "source": [
    "A simple vista podemos ver que las columnas place_l4,place_l5 y place_l6 practicamente no tienen datos, procederemos a eliminarlas."
   ]
  },
  {
   "cell_type": "markdown",
   "metadata": {
    "id": "o3sc6FA2LQOY",
    "pycharm": {
     "name": "#%% md\n"
    },
    "tags": []
   },
   "source": [
    "### Porcentaje de datos faltantes por fila"
   ]
  },
  {
   "cell_type": "code",
   "execution_count": null,
   "metadata": {
    "colab": {
     "base_uri": "https://localhost:8080/",
     "height": 0
    },
    "id": "J5jAS-EfLQOY",
    "outputId": "4abd125d-9965-48c9-acc3-a44ea509fdd7",
    "pycharm": {
     "name": "#%%\n"
    }
   },
   "outputs": [],
   "source": [
    "column_count = ds_filtrado.shape[1]\n",
    "ds_plot = ds_filtrado.T.isna().sum() * 100 / column_count\n",
    "\n",
    "\n",
    "plt.axvline(ds_plot.mean())\n",
    "sns.violinplot(ds_plot)"
   ]
  },
  {
   "cell_type": "markdown",
   "metadata": {
    "id": "yFy0ZRL-LQOY",
    "pycharm": {
     "name": "#%% md\n"
    }
   },
   "source": [
    "Analizaremos nuevamente el porcentaje por fila luego de trabajar con las columnas"
   ]
  },
  {
   "cell_type": "markdown",
   "metadata": {
    "id": "2tsXkTlyLQOY",
    "pycharm": {
     "name": "#%% md\n"
    },
    "tags": []
   },
   "source": [
    "### Procesado de columnas"
   ]
  },
  {
   "cell_type": "markdown",
   "metadata": {
    "id": "betRCwnmLQOY",
    "pycharm": {
     "name": "#%% md\n"
    }
   },
   "source": [
    "Descartaremos la columna id debido a que no es relevante para nuestro análisis. No podemos usar un dato uníco porque no representa ninguna característica relevante."
   ]
  },
  {
   "cell_type": "code",
   "execution_count": null,
   "metadata": {
    "colab": {
     "base_uri": "https://localhost:8080/"
    },
    "id": "ggNmkz3vLQOY",
    "outputId": "d42a661a-45e4-4870-f55b-b2b741431d39",
    "pycharm": {
     "name": "#%%\n"
    }
   },
   "outputs": [],
   "source": [
    "ds_filtrado['id'].head()"
   ]
  },
  {
   "cell_type": "markdown",
   "metadata": {
    "id": "3GBv7sTDLQOZ",
    "pycharm": {
     "name": "#%% md\n"
    }
   },
   "source": [
    "Como mencionamos anteriormente, evaluaremos descartar place_l4 por la cantidad de valores faltantes que hay."
   ]
  },
  {
   "cell_type": "code",
   "execution_count": null,
   "metadata": {
    "colab": {
     "base_uri": "https://localhost:8080/"
    },
    "id": "nTkQozBzLQOZ",
    "outputId": "eb11730e-02ce-44a5-dfe0-385ef1cbbc7e",
    "pycharm": {
     "name": "#%%\n"
    }
   },
   "outputs": [],
   "source": [
    "ds_filtrado['place_l4'].value_counts()"
   ]
  },
  {
   "cell_type": "markdown",
   "metadata": {
    "id": "5oKYMKj6LQOZ",
    "pycharm": {
     "name": "#%% md\n"
    }
   },
   "source": [
    "Como son pocas observaciones y todas corresponden al barrio de Palermo, descartaremos esta columna. Además, como mencionamos más arriba, la columna created_on siempre es igual a la columna start_date, por lo que también la descartaremos. "
   ]
  },
  {
   "cell_type": "code",
   "execution_count": null,
   "metadata": {
    "colab": {
     "base_uri": "https://localhost:8080/"
    },
    "id": "TCSZOlqELQOZ",
    "outputId": "5ca39e60-0bd4-40a5-b2d3-cf67c0d63d1e",
    "pycharm": {
     "name": "#%%\n"
    }
   },
   "outputs": [],
   "source": [
    "properties_dataset = ds_filtrado.drop(axis=\"columns\", columns=[\"id\", \"created_on\", \"place_l4\", \"place_l5\", \"place_l6\"]).copy()\n",
    "print(f\"Nuestras nuevas columnas son:\\n{properties_dataset.columns.tolist()}\")"
   ]
  },
  {
   "cell_type": "markdown",
   "metadata": {
    "id": "a7Ah9wxfLQOZ",
    "pycharm": {
     "name": "#%% md\n"
    },
    "tags": []
   },
   "source": [
    "### Analisis de faltantes por fila\n",
    "\n",
    "Ahora que nos quedamos solo con las columnas deseadas, analizaremos nuevamente los datos faltantes por fila."
   ]
  },
  {
   "cell_type": "code",
   "execution_count": null,
   "metadata": {
    "colab": {
     "base_uri": "https://localhost:8080/",
     "height": 0
    },
    "id": "c5uJdQlPLQOZ",
    "outputId": "40e18938-9e0f-44a5-a299-c5e78234f8c8",
    "pycharm": {
     "name": "#%%\n"
    }
   },
   "outputs": [],
   "source": [
    "column_count = ds_filtrado.shape[1]\n",
    "ds_plot = properties_dataset.T.isna().sum() * 100 / column_count\n",
    "\n",
    "sns.violinplot(ds_plot)\n",
    "plt.axvline(ds_plot.mean())"
   ]
  },
  {
   "cell_type": "markdown",
   "metadata": {
    "id": "dyOork4VLQOa",
    "pycharm": {
     "name": "#%% md\n"
    }
   },
   "source": [
    "Como podemos ver en el gráfico, la cantidad de datos faltantes bajó muchísimo al eliminar las columnas. Tenemos algunos registros con 5 o 10% de datos faltantes, veremos que falta"
   ]
  },
  {
   "cell_type": "code",
   "execution_count": null,
   "metadata": {
    "colab": {
     "base_uri": "https://localhost:8080/"
    },
    "id": "Q7ld4w0nLQOa",
    "outputId": "2855852c-49ab-4044-99af-529fab0f45f7",
    "pycharm": {
     "name": "#%%\n"
    }
   },
   "outputs": [],
   "source": [
    "properties_dataset['row_missing_data'] = properties_dataset.T.isna().sum() * 100 / column_count\n",
    "properties_dataset['row_missing_data'].value_counts()"
   ]
  },
  {
   "cell_type": "code",
   "execution_count": null,
   "metadata": {
    "colab": {
     "base_uri": "https://localhost:8080/"
    },
    "id": "5kruhx1uLQOa",
    "outputId": "df1b754c-fe29-464b-9df2-9c0131623750",
    "pycharm": {
     "name": "#%%\n"
    }
   },
   "outputs": [],
   "source": [
    "dataset_perc = properties_dataset['row_missing_data'].value_counts() * 100 / properties_dataset.shape[0]\n",
    "print(f\"La cantidad de faltantes segun porcentaje representan\\n{dataset_perc}\")"
   ]
  },
  {
   "cell_type": "code",
   "execution_count": null,
   "metadata": {
    "colab": {
     "base_uri": "https://localhost:8080/",
     "height": 0
    },
    "id": "BB7EhB2hLQOa",
    "outputId": "0a0758e9-6836-4552-9ced-2b47f6879134",
    "pycharm": {
     "name": "#%%\n"
    }
   },
   "outputs": [],
   "source": [
    "properties_dataset.groupby('row_missing_data').get_group(5).isna().sum().plot.bar()"
   ]
  },
  {
   "cell_type": "code",
   "execution_count": null,
   "metadata": {
    "colab": {
     "base_uri": "https://localhost:8080/"
    },
    "id": "Iw1fMwW3LQOa",
    "outputId": "7afce624-0523-40ad-c4b7-7d05514de17f",
    "pycharm": {
     "name": "#%%\n"
    }
   },
   "outputs": [],
   "source": [
    "properties_dataset.groupby('row_missing_data').get_group(10).isna().sum()"
   ]
  },
  {
   "cell_type": "markdown",
   "metadata": {
    "id": "mFYI5IysLQOb",
    "pycharm": {
     "name": "#%% md\n"
    }
   },
   "source": [
    "Ahora que elegimos las columnas deseadas, veremos nuevamente los porcentajes por columna para preparar algunas imputaciones"
   ]
  },
  {
   "cell_type": "code",
   "execution_count": null,
   "metadata": {
    "id": "9Ylwt6FaLQOb",
    "pycharm": {
     "name": "#%%\n"
    }
   },
   "outputs": [],
   "source": [
    "def plot_missing_by_column(dataset):\n",
    "    percent_missing = dataset.isna().sum() * 100 / len(dataset)\n",
    "    plt.figure(figsize=(12, 6))\n",
    "    percent_missing.plot.bar(x='index', rot=45)\n",
    "    plt.xlabel(\"Columns\")\n",
    "    plt.ylabel(\"Percentage Missing\")\n",
    "    rows = dataset.shape[0]\n",
    "    print(dataset.isna().sum() / rows * 100)"
   ]
  },
  {
   "cell_type": "code",
   "execution_count": null,
   "metadata": {
    "colab": {
     "base_uri": "https://localhost:8080/",
     "height": 0
    },
    "id": "xUaMfaHoLQOb",
    "outputId": "c5975678-fa34-4a13-87e2-7961d0eec90d",
    "pycharm": {
     "name": "#%%\n"
    }
   },
   "outputs": [],
   "source": [
    "plot_missing_by_column(properties_dataset)"
   ]
  },
  {
   "cell_type": "markdown",
   "metadata": {
    "id": "vtLlDvAZLQOb",
    "pycharm": {
     "name": "#%% md\n"
    }
   },
   "source": [
    "## Imputaciones"
   ]
  },
  {
   "cell_type": "markdown",
   "metadata": {
    "id": "V_BtR57ZLQOb",
    "pycharm": {
     "name": "#%% md\n"
    }
   },
   "source": [
    "Ahora analizaremos columna a columna como podemos reparar esos datos."
   ]
  },
  {
   "cell_type": "markdown",
   "metadata": {
    "id": "7QMM5CZALQOb",
    "pycharm": {
     "name": "#%% md\n"
    },
    "tags": []
   },
   "source": [
    "#### Latitud y Longitud"
   ]
  },
  {
   "cell_type": "code",
   "execution_count": null,
   "metadata": {
    "colab": {
     "base_uri": "https://localhost:8080/"
    },
    "id": "jrJ3e1wqLQOc",
    "outputId": "6ee6db74-a830-47d8-ba3f-fada9954dd26",
    "pycharm": {
     "name": "#%%\n"
    }
   },
   "outputs": [],
   "source": [
    "len(properties_dataset[properties_dataset.latitud.isna()]), properties_dataset[properties_dataset.latitud.isna()].longitud.isna().sum()"
   ]
  },
  {
   "cell_type": "markdown",
   "metadata": {
    "id": "doHecFzmLQOc",
    "pycharm": {
     "name": "#%% md\n"
    }
   },
   "source": [
    "Como vemos, en esos 3730 los registros faltan ambos datos, veremos que datos sí están presentes en esos registros"
   ]
  },
  {
   "cell_type": "code",
   "execution_count": null,
   "metadata": {
    "colab": {
     "base_uri": "https://localhost:8080/",
     "height": 0
    },
    "id": "cP-X60R0LQOc",
    "outputId": "2f353b4a-bca2-4381-8434-6a5289b11e46",
    "pycharm": {
     "name": "#%%\n"
    }
   },
   "outputs": [],
   "source": [
    "plot_missing_by_column(properties_dataset[properties_dataset.latitud.isna()])"
   ]
  },
  {
   "cell_type": "code",
   "execution_count": null,
   "metadata": {
    "colab": {
     "base_uri": "https://localhost:8080/"
    },
    "id": "BGyOgeQ8LQOc",
    "outputId": "f86bbcd3-cae2-4167-eeed-e399b42400df",
    "pycharm": {
     "name": "#%%\n"
    }
   },
   "outputs": [],
   "source": [
    "properties_dataset[properties_dataset.latitud.isna()]['place_l3'].value_counts()"
   ]
  },
  {
   "cell_type": "code",
   "execution_count": null,
   "metadata": {
    "colab": {
     "base_uri": "https://localhost:8080/"
    },
    "id": "10A2TSmoLQOc",
    "outputId": "2ebc19ab-aef3-460b-f2c3-1abb3bb7c870",
    "pycharm": {
     "name": "#%%\n"
    }
   },
   "outputs": [],
   "source": [
    "percentage = properties_dataset[properties_dataset.latitud.isna()]['place_l3'].isna().sum() / len(properties_dataset[properties_dataset.latitud.isna()]['place_l3']) * 100\n",
    "print(f\"Los datos faltantes en la columna place_l3 representan el {round(percentage, 3)}%\")"
   ]
  },
  {
   "cell_type": "markdown",
   "metadata": {
    "id": "L8VG6ey2LQOd",
    "pycharm": {
     "name": "#%% md\n"
    }
   },
   "source": [
    "Para los que tienen el dato del barrio podríamos tomar como latitud/longitud"
   ]
  },
  {
   "cell_type": "markdown",
   "metadata": {
    "id": "beuLIPxMpRxQ"
   },
   "source": [
    "## Reparacion de datos faltantes"
   ]
  },
  {
   "cell_type": "markdown",
   "metadata": {
    "id": "XFRLYQbepRxQ",
    "tags": []
   },
   "source": [
    "### Pre Imputacion de ambientes"
   ]
  },
  {
   "cell_type": "code",
   "execution_count": null,
   "metadata": {
    "colab": {
     "base_uri": "https://localhost:8080/",
     "height": 0
    },
    "id": "5uw9s5b7pRxR",
    "outputId": "5f299c4d-4e7c-4c5d-846d-e70570e5ecf5"
   },
   "outputs": [],
   "source": [
    "plot_missing_by_column(ds_filtrado[['property_title', 'property_rooms']].reset_index())"
   ]
  },
  {
   "cell_type": "markdown",
   "metadata": {
    "id": "O16IM9sGpRxR"
   },
   "source": [
    "## Reparacion de ambientes faltantes en base al titulo de la propiedad"
   ]
  },
  {
   "cell_type": "code",
   "execution_count": null,
   "metadata": {
    "colab": {
     "base_uri": "https://localhost:8080/"
    },
    "id": "pLaQDgDKpRxR",
    "outputId": "4c2f113c-d880-4b9a-b026-ccdecb27eaef"
   },
   "outputs": [],
   "source": [
    "datos_a_reparar = ds_filtrado[['property_title', 'property_rooms']].reset_index()\n",
    "ambientes_faltantes = datos_a_reparar[datos_a_reparar['property_rooms'].isna()]\n",
    "\n",
    "print(f\"cantidad inicial de ambientes a reparar: {len(ds_filtrado[ds_filtrado['property_rooms'].isna()])}\")\n",
    "\n",
    "regex = re.compile(r\"(\\d+ \\bambientes?\\b)\")\n",
    "regex2 = re.compile(r\"(\\d+\\ \\b\\bamb\\b *)\")\n",
    "\n",
    "a = {}\n",
    "for titulo in ambientes_faltantes.property_title:\n",
    "    if (len(re.findall(regex, titulo.lower())) > 0):\n",
    "        a[titulo] = re.findall(regex, titulo.lower())\n",
    "    if (len(re.findall(regex2, titulo.lower())) > 0):\n",
    "        a[titulo] = re.findall(regex2, titulo.lower())\n",
    "\n",
    "for i in ds_filtrado.index:\n",
    "    if ds_filtrado.loc[i, 'property_title'] in a:\n",
    "        if len(a[ds_filtrado.loc[i, 'property_title']]) > 0:\n",
    "            ds_filtrado.loc[i, 'property_rooms'] =  float(\"\".join(a[ds_filtrado.loc[i, 'property_title']]).split(\" \")[0])\n",
    "        if (\"monoambiente\" or \"un ambiente\" or \"mono\" or \"mono ambiente\") in str(ds_filtrado.loc[i, 'property_title']).lower():\n",
    "            ds_filtrado.loc[i, 'property_rooms'] =  float(1)\n",
    "        if \"dos ambientes\" in str(ds_filtrado.loc[i, 'property_title']).lower():\n",
    "            ds_filtrado.loc[i, 'property_rooms'] =  float(2)\n",
    "        if \"tres ambientes\" in str(ds_filtrado.loc[i, 'property_title']).lower():\n",
    "            ds_filtrado.loc[i, 'property_rooms'] =  float(3)\n",
    "        if \"cuatro ambientes\" in str(ds_filtrado.loc[i, 'property_title']).lower():\n",
    "            ds_filtrado.loc[i, 'property_rooms'] =  float(4)\n",
    "        if \"cinco ambientes\" in str(ds_filtrado.loc[i, 'property_title']).lower():\n",
    "            ds_filtrado.loc[i, 'property_rooms'] =  float(5)\n",
    "        if \"seis ambientes\" in str(ds_filtrado.loc[i, 'property_title']).lower():\n",
    "            ds_filtrado.loc[i, 'property_rooms'] =  float(6)\n",
    "            \n",
    "print(f\"cantidad de ambientes faltantes post reparacion: {len(ds_filtrado[ds_filtrado['property_rooms'].isna()])}\")"
   ]
  },
  {
   "cell_type": "markdown",
   "metadata": {
    "id": "v_uSlLCapRxR"
   },
   "source": [
    "### Post Imputacion de ambientes"
   ]
  },
  {
   "cell_type": "code",
   "execution_count": null,
   "metadata": {
    "colab": {
     "base_uri": "https://localhost:8080/",
     "height": 512
    },
    "id": "E2hq3gqTpRxS",
    "outputId": "b442bbd2-bb96-4753-8c3b-c8deb5cc45e1"
   },
   "outputs": [],
   "source": [
    "plot_missing_by_column(datos_a_reparar)"
   ]
  },
  {
   "cell_type": "markdown",
   "metadata": {
    "id": "hER0KXXapRxS"
   },
   "source": [
    "### Pre Imputacion de Habitaciones"
   ]
  },
  {
   "cell_type": "code",
   "execution_count": null,
   "metadata": {
    "colab": {
     "base_uri": "https://localhost:8080/",
     "height": 0
    },
    "id": "8rUObWR3pRxS",
    "outputId": "50206e68-e317-453d-b866-7f08b2d691c0"
   },
   "outputs": [],
   "source": [
    "plot_missing_by_column(ds_filtrado['property_bedrooms'].reset_index())"
   ]
  },
  {
   "cell_type": "code",
   "execution_count": null,
   "metadata": {
    "colab": {
     "base_uri": "https://localhost:8080/",
     "height": 0
    },
    "id": "W_jdwgfDpRxS",
    "outputId": "4ec91577-44ea-4817-bbc4-ab7f812907fe"
   },
   "outputs": [],
   "source": [
    "print(f\"El total de habitaciones es: {len(ds_filtrado.property_bedrooms)}\")\n",
    "habitaciones_invalidas = ds_filtrado.loc[(ds_filtrado['property_bedrooms'] > ds_filtrado['property_rooms'])]\n",
    "print(f\"El total de habitaciones invalidas es: {len(habitaciones_invalidas)}. Constituye al {(len(habitaciones_invalidas) * 100)//len(ds_filtrado.property_bedrooms)}% de los datos del ds\")\n",
    "habitaciones_invalidas"
   ]
  },
  {
   "cell_type": "markdown",
   "metadata": {
    "id": "lO_vNo3EpRxS"
   },
   "source": [
    "Si tomamos en cuenta que el 2% de los valores tienen mas habitaciones que ambientes, podriamos pensar en imputar los datos faltantes elimanando estas filas y haciendo que los valores que sean NAN, ahora sean habitaciones = ambientes-1"
   ]
  },
  {
   "cell_type": "code",
   "execution_count": null,
   "metadata": {
    "colab": {
     "base_uri": "https://localhost:8080/",
     "height": 0
    },
    "id": "f4NURG5vpRxT",
    "outputId": "025f70d0-c439-4958-9fa4-58ad4ee17f2b"
   },
   "outputs": [],
   "source": [
    "habitaciones_con_amb_menos_1 = ds_filtrado[ds_filtrado.property_rooms == (ds_filtrado.property_bedrooms + 1)]\n",
    "print(f\"Las habitaciones que son Ambientes - 1 son: {len(habitaciones_con_amb_menos_1)}. Constituyen al {(len(habitaciones_con_amb_menos_1) * 100)//len(ds_filtrado.property_bedrooms)}% de los datos\")\n",
    "habitaciones_con_amb_menos_1"
   ]
  },
  {
   "cell_type": "markdown",
   "metadata": {
    "id": "YPxW2ANwpRxT"
   },
   "source": [
    "Como notamos que las habitaciones que son ambientes - 1 en el dataset son: 4255 y constituyen al 4% de los datos, optamos por hacer una regresion lineal para que se pueda predecir el valor de las habitaciones en base a los ambientes que tenemos, ya que el 4% no es un valor representativo"
   ]
  },
  {
   "cell_type": "code",
   "execution_count": null,
   "metadata": {
    "colab": {
     "base_uri": "https://localhost:8080/"
    },
    "id": "exgkW8mrpRxT",
    "outputId": "822f3975-e492-48b9-d9cf-5b7aa99aafb9"
   },
   "outputs": [],
   "source": [
    "print(f\"Valor inicial de habitaciones faltantes en el ds: {ds_filtrado.property_bedrooms.isna().sum()}\")"
   ]
  },
  {
   "cell_type": "code",
   "execution_count": null,
   "metadata": {
    "colab": {
     "base_uri": "https://localhost:8080/"
    },
    "id": "M4lKK6RIpRxT",
    "outputId": "625acb6c-62db-4fe2-fe92-acc435321a74"
   },
   "outputs": [],
   "source": [
    "## Approach de Regresion para imputar los valores faltantes en las habitaciones\n",
    "\n",
    "lr = LinearRegression()\n",
    "\n",
    "ds_sin_rooms_vacios = ds_filtrado[~(ds_filtrado.property_rooms.isna())]\n",
    "\n",
    "habitaciones_completas = ds_sin_rooms_vacios[~(ds_sin_rooms_vacios.property_bedrooms.isna())]\n",
    "habitaciones_faltantes = ds_sin_rooms_vacios[ds_sin_rooms_vacios.property_bedrooms.isna()]\n",
    "train_bedrooms =  habitaciones_completas.property_bedrooms.values\n",
    "train_rooms = habitaciones_completas.property_rooms.values\n",
    "\n",
    "train_bedrooms = train_bedrooms.reshape(-1, 1)\n",
    "train_rooms = train_rooms.reshape(-1, 1)\n",
    "\n",
    "lr.fit(train_rooms,train_bedrooms)\n",
    "\n",
    "test_rooms =  habitaciones_faltantes.property_rooms.values.reshape(-1, 1)\n",
    "\n",
    "predicted_bedrooms = lr.predict(test_rooms)\n",
    "\n",
    "habitaciones_faltantes_copy = habitaciones_faltantes.copy()\n",
    "habitaciones_faltantes_copy['result'] = np.round(predicted_bedrooms)\n",
    "\n",
    "print(f\"Proseguimos en verificar que podemos usar el metodo de regresion lineal ya que la variable que vamos a imputar esta entre un rango de 0 - 5\")\n",
    "print(f\"Notemos que las habitaciones mayores a cinco son: {len(habitaciones_faltantes_copy[habitaciones_faltantes_copy.result > 5])}\")\n",
    "\n",
    "for i in ds_filtrado.index:\n",
    "    if i in habitaciones_faltantes_copy.index:\n",
    "        ds_filtrado.loc[i, 'property_bedrooms'] = habitaciones_faltantes_copy.loc[i, 'result']\n",
    "        \n",
    "print(ds_filtrado.property_bedrooms.isna().sum())"
   ]
  },
  {
   "cell_type": "markdown",
   "metadata": {
    "id": "4oxzuTe_Yghi",
    "pycharm": {
     "name": "#%% md\n"
    },
    "tags": []
   },
   "source": [
    "## Grafico de los barrios de CABA"
   ]
  },
  {
   "cell_type": "code",
   "execution_count": null,
   "metadata": {
    "colab": {
     "base_uri": "https://localhost:8080/",
     "height": 206
    },
    "id": "QLx0sBMQX6ZW",
    "outputId": "8fe2673a-e7a3-4813-fc1d-415d78270770"
   },
   "outputs": [],
   "source": [
    "# Proceso el archivo de los barrios de CABA\n",
    "barrios = gpd.read_file('./barrios.geojson')\n",
    "barrios.head()"
   ]
  },
  {
   "cell_type": "code",
   "execution_count": null,
   "metadata": {
    "colab": {
     "base_uri": "https://localhost:8080/",
     "height": 754
    },
    "id": "_Z_WD5YiX6ZW",
    "outputId": "fce943f3-fdf0-43bf-fee6-f1f091f80d2b"
   },
   "outputs": [],
   "source": [
    "# Realizo el grafico de los barrios de CABA\n",
    "fig, ax = plt.subplots(figsize=(8,10))\n",
    "barrios.plot(column='BARRIO', categorical=True, legend=True, ax=ax, cmap='tab20b')\n",
    "\n",
    "leg = ax.get_legend()\n",
    "leg.set_bbox_to_anchor((1.4, 1.2))\n",
    "\n",
    "ax.set(title='Barrios CABA')\n",
    "plt.show()"
   ]
  },
  {
   "cell_type": "markdown",
   "metadata": {
    "id": "GDii828cAxuk"
   },
   "source": [
    "## Analisis de Valores Atipicos"
   ]
  },
  {
   "cell_type": "markdown",
   "metadata": {
    "id": "nQ5ndyGcAxuk",
    "tags": []
   },
   "source": [
    "### Univariados"
   ]
  },
  {
   "cell_type": "markdown",
   "metadata": {
    "id": "mSQXzuOLAxuk",
    "tags": []
   },
   "source": [
    "#### Metodo IQR"
   ]
  },
  {
   "cell_type": "code",
   "execution_count": null,
   "metadata": {
    "id": "iynUjIucAxuk"
   },
   "outputs": [],
   "source": [
    "def calculate_univariate_iqr(column, column_name):\n",
    "    print(f\"cantidad de datos del ds quantitative: {len(quantitative_dataset)}\")\n",
    "\n",
    "    # 1er cuartil para property_rooms\n",
    "    q1 = column.quantile(0.25)\n",
    " \n",
    "    # 3er cuartil para property_rooms\n",
    "    q3 = column.quantile(0.75)\n",
    "    med = column.median()\n",
    "\n",
    "\n",
    "    # region IQR\n",
    "    iqr = q3 - q1\n",
    " \n",
    "    # Bigotes altos y bajos\n",
    "    limite_superior = q3 + (1.5 * iqr)\n",
    "    limite_inferior = q1 - (1.5 * iqr)\n",
    "    \n",
    "    outliers = quantitative_dataset[(column <= limite_inferior) | (column >= limite_superior)]\n",
    "    print(f\"outliers encontrados para los ambientes: {len(outliers)}\")\n",
    "    print(f\"hay {len(outliers) * 100 // len(quantitative_dataset)}% de outliers de {column_name} sobre el ds\")\n",
    "    print(f\"limit sup: {limite_superior}, limite inf: {limite_inferior}\")\n",
    "\n",
    "    outliers_grafico = quantitative_dataset[(column >= limite_inferior) & (column <= limite_superior)]\n",
    "\n",
    "    plt.figure(figsize=(5, 5))\n",
    "    plt.boxplot(outliers_grafico)\n",
    "    plt.show()"
   ]
  },
  {
   "cell_type": "code",
   "execution_count": null,
   "metadata": {
    "colab": {
     "base_uri": "https://localhost:8080/"
    },
    "id": "Sy2JByA2Axul",
    "outputId": "9f122d68-bb84-4ddd-a05d-5af00ae97d38"
   },
   "outputs": [],
   "source": [
    "calculate_univariate_iqr(quantitative_dataset.property_rooms, 'property_rooms')\n",
    "#Observación anómala\n",
    "outlier = quantitative_dataset[quantitative_dataset['property_rooms'] < 0]\n",
    "outlier"
   ]
  },
  {
   "cell_type": "code",
   "execution_count": null,
   "metadata": {
    "id": "Obrh4Pr1Axul"
   },
   "outputs": [],
   "source": [
    "calculate_univariate_iqr(quantitative_dataset.property_bedrooms, 'property_bedrooms')\n",
    "outlier = quantitative_dataset[quantitative_dataset['property_bedrooms'] > 6]\n",
    "outlier\n",
    "# este pareceria ser un error de tipeo ya que tiene mucho sentido que una vivienda 2 ambientes tenga 1 habitacion.\n",
    "# no existe una vivienda con -1 habitaciones. yo lo arreglaria."
   ]
  },
  {
   "cell_type": "code",
   "execution_count": null,
   "metadata": {
    "id": "Pk-kEYr-Axul"
   },
   "outputs": [],
   "source": [
    "calculate_univariate_iqr(quantitative_dataset.property_surface_total, 'property_surface_total')\n",
    "outlier = quantitative_dataset[quantitative_dataset['property_surface_total'] < 0]\n",
    "outlier\n",
    "# lo mismo, por que muestra limite inf en -45 pero no en el grafico?"
   ]
  },
  {
   "cell_type": "code",
   "execution_count": null,
   "metadata": {
    "id": "U0p_XYm2Axul"
   },
   "outputs": [],
   "source": [
    "calculate_univariate_iqr(quantitative_dataset.property_surface_covered, 'property_surface_covered')\n",
    "outlier = quantitative_dataset[quantitative_dataset['property_surface_covered'] < 0]\n",
    "outlier\n",
    "# lo mismo, por que muestra limite inf en -32 pero no en el grafico?\n",
    "quantitative_dataset[quantitative_dataset['property_surface_covered'] > quantitative_dataset['property_surface_total'] ]\n",
    "# este dataset que imprimo al final es invalido ya que la superficie cubierta nunca puede ser mayor a la superifcie total.\n",
    "# estas 198 observaciones deberian ser eliminadas"
   ]
  },
  {
   "cell_type": "code",
   "execution_count": null,
   "metadata": {
    "id": "RZDcOR_QAxul"
   },
   "outputs": [],
   "source": [
    "calculate_univariate_iqr(quantitative_dataset.latitud, 'latitud')"
   ]
  },
  {
   "cell_type": "code",
   "execution_count": null,
   "metadata": {
    "id": "9U7I8tOOAxul"
   },
   "outputs": [],
   "source": [
    "calculate_univariate_iqr(quantitative_dataset.longitud, 'longitud')"
   ]
  },
  {
   "cell_type": "markdown",
   "metadata": {
    "id": "kQrpFdl2Axul",
    "tags": []
   },
   "source": [
    "#### Metodo Z score"
   ]
  },
  {
   "cell_type": "code",
   "execution_count": null,
   "metadata": {
    "id": "GSgeb1fIAxul"
   },
   "outputs": [],
   "source": [
    "#z-score con libreria stats - como en las ppts de clase\n",
    "def calculate_zscore_st(dataset, column, column_name):\n",
    "    media = np.mean(column)\n",
    "    std = np.std(column)\n",
    "    dataset[f'z_{column_name}'] = (column - media) / std\n",
    "    return dataset"
   ]
  },
  {
   "cell_type": "markdown",
   "metadata": {
    "id": "qCW49N1UAxul"
   },
   "source": [
    "Analisis de outliers con el metodo zscore para los ambientes"
   ]
  },
  {
   "cell_type": "code",
   "execution_count": null,
   "metadata": {
    "id": "kfiOqu9yAxul"
   },
   "outputs": [],
   "source": [
    "ds = calculate_zscore_st(quantitative_dataset, quantitative_dataset.property_rooms, 'property_rooms')\n",
    "ds"
   ]
  },
  {
   "cell_type": "markdown",
   "metadata": {
    "id": "MOsLjDi4Axul"
   },
   "source": [
    "Verificamos si se cumple la regla de oro para el caso de la variable Rooms"
   ]
  },
  {
   "cell_type": "code",
   "execution_count": null,
   "metadata": {
    "id": "mzPFZeQfAxul"
   },
   "outputs": [],
   "source": [
    "ds[ds['z_property_rooms']>3]"
   ]
  },
  {
   "cell_type": "code",
   "execution_count": null,
   "metadata": {
    "id": "Q4lXYGX-Axul"
   },
   "outputs": [],
   "source": [
    "ds[ds['z_property_rooms']<-3]"
   ]
  },
  {
   "cell_type": "code",
   "execution_count": null,
   "metadata": {
    "id": "aYDvfQA5Axul"
   },
   "outputs": [],
   "source": [
    "plt.hist(ds.z_property_rooms)\n",
    "plt.title('Histograma Z-Score Rooms')\n",
    "plt.xlabel('Z-Score Rooms')\n",
    "plt.show()"
   ]
  },
  {
   "cell_type": "markdown",
   "metadata": {
    "id": "KD-aGG1gAxul"
   },
   "source": [
    "Analisis de outliers con el metodo zscore para las habitaciones"
   ]
  },
  {
   "cell_type": "code",
   "execution_count": null,
   "metadata": {
    "id": "FDsQFnsSAxul"
   },
   "outputs": [],
   "source": [
    "ds = calculate_zscore_st(quantitative_dataset, quantitative_dataset.property_bedrooms, 'property_bedrooms')\n",
    "ds"
   ]
  },
  {
   "cell_type": "code",
   "execution_count": null,
   "metadata": {
    "id": "0yRWuKJPAxum"
   },
   "outputs": [],
   "source": [
    "ds[ds['z_property_bedrooms']>3]"
   ]
  },
  {
   "cell_type": "code",
   "execution_count": null,
   "metadata": {
    "id": "g8YjXSBUAxum"
   },
   "outputs": [],
   "source": [
    "ds[ds['z_property_bedrooms']<-3]"
   ]
  },
  {
   "cell_type": "code",
   "execution_count": null,
   "metadata": {
    "id": "BqLUlCOCAxum"
   },
   "outputs": [],
   "source": [
    "plt.hist(ds.z_property_bedrooms)\n",
    "plt.title('Histograma Z-Score Bedrooms')\n",
    "plt.xlabel('Z-Score Bedrooms')\n",
    "plt.show()"
   ]
  },
  {
   "cell_type": "markdown",
   "metadata": {
    "id": "ZRJ_83qvAxum"
   },
   "source": [
    "Analisis de outliers con el metodo zscore para la superficie total"
   ]
  },
  {
   "cell_type": "code",
   "execution_count": null,
   "metadata": {
    "id": "XN9weo3pAxum"
   },
   "outputs": [],
   "source": [
    "ds = calculate_zscore_st(quantitative_dataset, quantitative_dataset.property_surface_total, 'property_surface_total')\n",
    "ds"
   ]
  },
  {
   "cell_type": "code",
   "execution_count": null,
   "metadata": {
    "id": "EuDw2RIHAxum"
   },
   "outputs": [],
   "source": [
    "ds[ds['z_property_surface_total']>3]"
   ]
  },
  {
   "cell_type": "code",
   "execution_count": null,
   "metadata": {
    "id": "lMas_Ck-Axum"
   },
   "outputs": [],
   "source": [
    "ds[ds['z_property_surface_total']<-3]"
   ]
  },
  {
   "cell_type": "code",
   "execution_count": null,
   "metadata": {
    "id": "vIg8mJd5Axum"
   },
   "outputs": [],
   "source": [
    "plt.hist(ds.z_property_surface_total)\n",
    "plt.title('Histograma Z-Score Surface Total')\n",
    "plt.xlabel('Z-Score Surface Total')\n",
    "plt.show()"
   ]
  },
  {
   "cell_type": "markdown",
   "metadata": {
    "id": "ZlhTxeqSAxum"
   },
   "source": [
    "Analisis de outliers con el metodo zscore para la superficie cubierta"
   ]
  },
  {
   "cell_type": "code",
   "execution_count": null,
   "metadata": {
    "id": "4vFsrx1nAxum"
   },
   "outputs": [],
   "source": [
    "ds = calculate_zscore_st(quantitative_dataset, quantitative_dataset.property_surface_covered, 'property_surface_covered')\n",
    "ds"
   ]
  },
  {
   "cell_type": "code",
   "execution_count": null,
   "metadata": {
    "id": "Oo_FuL4aAxum"
   },
   "outputs": [],
   "source": [
    "ds[ds['z_property_surface_covered']>3]"
   ]
  },
  {
   "cell_type": "code",
   "execution_count": null,
   "metadata": {
    "id": "5nNC33zvAxum"
   },
   "outputs": [],
   "source": [
    "ds[ds['z_property_surface_covered']<-3]"
   ]
  },
  {
   "cell_type": "code",
   "execution_count": null,
   "metadata": {
    "id": "fOi9gCcuAxum"
   },
   "outputs": [],
   "source": [
    "plt.hist(ds.z_property_surface_covered)\n",
    "plt.title('Histograma Z-Score Surface Covered')\n",
    "plt.xlabel('Z-Score Surface Covered')\n",
    "plt.show()"
   ]
  },
  {
   "cell_type": "markdown",
   "metadata": {
    "id": "M2fa7Lz0Axum"
   },
   "source": [
    "Analisis de outliers con el metodo zscore para la latitud"
   ]
  },
  {
   "cell_type": "code",
   "execution_count": null,
   "metadata": {
    "id": "jXULOTI2Axum"
   },
   "outputs": [],
   "source": [
    "ds = calculate_zscore_st(quantitative_dataset, quantitative_dataset.latitud, 'latitud')\n",
    "ds"
   ]
  },
  {
   "cell_type": "code",
   "execution_count": null,
   "metadata": {
    "id": "DA3Zj4QLAxum"
   },
   "outputs": [],
   "source": [
    "ds[ds['z_latitud']>3]"
   ]
  },
  {
   "cell_type": "code",
   "execution_count": null,
   "metadata": {
    "id": "CE2sY7x1Axum"
   },
   "outputs": [],
   "source": [
    "ds[ds['z_latitud']<-3]"
   ]
  },
  {
   "cell_type": "code",
   "execution_count": null,
   "metadata": {
    "id": "EHRhyechAxum"
   },
   "outputs": [],
   "source": [
    "plt.hist(ds.z_latitud)\n",
    "plt.title('Histograma Z-Score Latitud')\n",
    "plt.xlabel('Z-Score Latitud')\n",
    "plt.show()"
   ]
  },
  {
   "cell_type": "markdown",
   "metadata": {
    "id": "1wBN10EbAxum"
   },
   "source": [
    "Analisis de outliers con el metodo zscore para la longitud"
   ]
  },
  {
   "cell_type": "code",
   "execution_count": null,
   "metadata": {
    "id": "Jh4mnkIDAxum"
   },
   "outputs": [],
   "source": [
    "ds = calculate_zscore_st(quantitative_dataset, quantitative_dataset.longitud, 'longitud')\n",
    "ds"
   ]
  },
  {
   "cell_type": "code",
   "execution_count": null,
   "metadata": {
    "id": "Jbkpl5AJAxum"
   },
   "outputs": [],
   "source": [
    "ds[ds['z_longitud']>3]"
   ]
  },
  {
   "cell_type": "code",
   "execution_count": null,
   "metadata": {
    "id": "Be5iQmYIAxun"
   },
   "outputs": [],
   "source": [
    "ds[ds['z_longitud']<-3]"
   ]
  },
  {
   "cell_type": "code",
   "execution_count": null,
   "metadata": {
    "id": "wSgiLcLoAxun"
   },
   "outputs": [],
   "source": [
    "plt.hist(ds.z_longitud)\n",
    "plt.title('Histograma Z-Score Longitud')\n",
    "plt.xlabel('Z-Score Longitud')\n",
    "plt.show()"
   ]
  },
  {
   "cell_type": "markdown",
   "metadata": {
    "id": "vQ6fv-FGAxun",
    "tags": []
   },
   "source": [
    "#### Metodo Z Score modificado"
   ]
  },
  {
   "cell_type": "code",
   "execution_count": null,
   "metadata": {
    "id": "QZkjY5_EAxun"
   },
   "outputs": [],
   "source": [
    "#z-score modificado - como lo vimos en las ppts en clase\n",
    "def calculate_modified_zscore_st(dataset, column, column_name):\n",
    "    new_df = dataset.copy()\n",
    "    mediana = column.median()\n",
    "    MAD = np.absolute(column - mediana).median()\n",
    "\n",
    "    new_df[f'zm_{column_name}'] = (column - mediana) * 0.6745 / MAD\n",
    "    return new_df"
   ]
  },
  {
   "cell_type": "markdown",
   "metadata": {
    "id": "8nbUGK3kAxun"
   },
   "source": [
    "Analisis de outliers con el metodo zscore modificado para los ambientes"
   ]
  },
  {
   "cell_type": "code",
   "execution_count": null,
   "metadata": {
    "id": "W9boOmstAxun"
   },
   "outputs": [],
   "source": [
    "modified_ds = calculate_modified_zscore_st(quantitative_dataset, quantitative_dataset.property_rooms, 'property_rooms')\n",
    "modified_ds"
   ]
  },
  {
   "cell_type": "markdown",
   "metadata": {
    "id": "CjH1PiddAxun"
   },
   "source": [
    "Verificamos si se cumple la regla de oro para la variable Rooms en el zscore modificado"
   ]
  },
  {
   "cell_type": "code",
   "execution_count": null,
   "metadata": {
    "id": "VFZ6gIUWAxun"
   },
   "outputs": [],
   "source": [
    "modified_ds[modified_ds['zm_property_rooms']>3.5]"
   ]
  },
  {
   "cell_type": "code",
   "execution_count": null,
   "metadata": {
    "id": "0HVogb38Axun"
   },
   "outputs": [],
   "source": [
    "modified_ds[modified_ds['zm_property_rooms']<-3.5]"
   ]
  },
  {
   "cell_type": "code",
   "execution_count": null,
   "metadata": {
    "id": "5hdir61cAxun"
   },
   "outputs": [],
   "source": [
    "plt.hist(modified_ds.zm_property_rooms)\n",
    "plt.title('Histograma Z-Score Modificado Rooms')\n",
    "plt.xlabel('ZM-Score Rooms')\n",
    "plt.show()"
   ]
  },
  {
   "cell_type": "markdown",
   "metadata": {
    "id": "5_sPct2HAxun"
   },
   "source": [
    "Analisis de outliers con el metodo zscore modificado para las habitaciones"
   ]
  },
  {
   "cell_type": "code",
   "execution_count": null,
   "metadata": {
    "id": "SoIPP92TAxun"
   },
   "outputs": [],
   "source": [
    "modified_ds = calculate_modified_zscore_st(quantitative_dataset, quantitative_dataset.property_bedrooms, 'property_bedrooms')\n",
    "modified_ds"
   ]
  },
  {
   "cell_type": "code",
   "execution_count": null,
   "metadata": {
    "id": "mbRHsjBXAxun"
   },
   "outputs": [],
   "source": [
    "modified_ds[modified_ds['zm_property_bedrooms']>3.5]"
   ]
  },
  {
   "cell_type": "code",
   "execution_count": null,
   "metadata": {
    "id": "yfcxjCQtAxun"
   },
   "outputs": [],
   "source": [
    "modified_ds[modified_ds['zm_property_bedrooms']<-3.5]"
   ]
  },
  {
   "cell_type": "markdown",
   "metadata": {
    "id": "4Vjw9UM9Axun",
    "tags": []
   },
   "source": [
    "### Multivariados"
   ]
  },
  {
   "cell_type": "markdown",
   "metadata": {
    "id": "wSiyWi1FAxun",
    "tags": []
   },
   "source": [
    "#### Clustering - Mahalanobis"
   ]
  },
  {
   "cell_type": "code",
   "execution_count": null,
   "metadata": {
    "id": "4oFvD79uAxun"
   },
   "outputs": [],
   "source": [
    "def calculate_mahalanobis_distance(dataset, col1, col2):\n",
    "    #Calulo el vector de medias\n",
    "    #vmedias = np.mean(dataset[[f'{col1}', f'{col2}']])\n",
    "\n",
    "    #Calculo la diferencia entre las observaciones y el vector de medias\n",
    "    #x_dif = dataset[[f'{col1}', f'{col2}']] - vmedias\n",
    "\n",
    "    #Calculo matriz de covarianza y su inversa\n",
    "    #cov = dataset[[f'{col1}', f'{col2}']].cov().values\n",
    "    #inv_cov = np.linalg.inv(cov)\n",
    "\n",
    "    #Calculamos el cuadrado de la distancia de mahalanobis\n",
    "    #mahal =np.dot(np.dot(x_dif, inv_cov) , x_dif.T)\n",
    "\n",
    "    #copy_ds = quantitative_dataset.copy()\n",
    "\n",
    "    #dataset['mahalanobis'] = mahal.diagonal()\n",
    "    #return dataset.head()\n",
    "\n",
    "    X = dataset[[f'{col1}', f'{col2}']]\n",
    "    #X = X[~(X[f'{col1}'].isna())]\n",
    "    #X = X[~(X[f'{col2}'].isna())]\n",
    "    sample_X = X.sample(frac = 0.1)\n",
    "\n",
    "    mu = sample_X.mean()\n",
    "    X_diff = X - mu\n",
    "    X_diff = X_diff.values.T\n",
    "\n",
    "    cov = np.cov(sample_X.values.T)\n",
    "    inv_cov = np.linalg.inv(cov)\n",
    "    W = sc.linalg.sqrtm(inv_cov)\n",
    "\n",
    "    Wx = np.matmul(W, X_diff)\n",
    "\n",
    "    mahal_dists = np.array([np.dot(Wx[:, i], Wx[:, i]) for i in range(Wx.shape[1])])\n",
    "    dataset['mahalanobis'] = mahal_dists\n",
    "    return dataset"
   ]
  },
  {
   "cell_type": "code",
   "execution_count": null,
   "metadata": {
    "id": "b3QkwXSrAxun"
   },
   "outputs": [],
   "source": [
    "def create_scatter_plot(dataset, col1, col2):\n",
    "    #Scatter Plot\n",
    "    plt.scatter(dataset[col1], dataset[col2])\n",
    "    plt.title(f'Dispersograma {col1} vs {col2}')\n",
    "    plt.xlabel(f'{col1}')\n",
    "    plt.ylabel(f'{col2}')\n",
    "    plt.show()"
   ]
  },
  {
   "cell_type": "code",
   "execution_count": null,
   "metadata": {
    "id": "AT3-EbdHAxun"
   },
   "outputs": [],
   "source": [
    "def create_scattergram(dataset, col1, col2):\n",
    "    #Grafico scatter\n",
    "    es_outlier = (dataset['mahalanobis'] > umbral)\n",
    "\n",
    "    sns.scatterplot(x=dataset[col1], y=dataset[col2], hue=es_outlier)\n",
    "    plt.legend(bbox_to_anchor=(1.05, 1), loc='upper left', borderaxespad=0, title=\"Outlier\")\n",
    "    plt.title(f'Dispersograma {col1} vs {col2}')\n",
    "    plt.show()"
   ]
  },
  {
   "cell_type": "markdown",
   "metadata": {
    "id": "es-_IC7hAxun"
   },
   "source": [
    "Analisis entre ambientes y habitaciones de valores atipicos por el metodo de mahalanobis - multivariado"
   ]
  },
  {
   "cell_type": "code",
   "execution_count": null,
   "metadata": {
    "id": "oHdHLwQbAxun"
   },
   "outputs": [],
   "source": [
    "create_scatter_plot(quantitative_dataset, 'property_rooms', 'property_bedrooms')"
   ]
  },
  {
   "cell_type": "markdown",
   "metadata": {
    "id": "VVAbH_xFAxun"
   },
   "source": [
    "Parecerían exisitir algunas observaciones anómalas. Vamos a calcular la distancia de mahalanobis para cada observación."
   ]
  },
  {
   "cell_type": "code",
   "execution_count": null,
   "metadata": {
    "id": "8FVttpjpAxuo"
   },
   "outputs": [],
   "source": [
    "calculate_mahalanobis_distance(quantitative_dataset, 'property_rooms', 'property_bedrooms')"
   ]
  },
  {
   "cell_type": "markdown",
   "metadata": {
    "id": "gBcoIEkEAxuo"
   },
   "source": [
    "Tenemos que seleccionar un valor umbral para definir qué observaciones podrían ser anómalas según la distancia de mahalanobis."
   ]
  },
  {
   "cell_type": "code",
   "execution_count": null,
   "metadata": {
    "id": "QiT5wBJKAxuo"
   },
   "outputs": [],
   "source": [
    "sns.boxplot(y=quantitative_dataset.mahalanobis)"
   ]
  },
  {
   "cell_type": "code",
   "execution_count": null,
   "metadata": {
    "id": "IcItLHHuAxuo"
   },
   "outputs": [],
   "source": [
    "# Ordeno las distancias de menor a mayor\n",
    "np.sort(quantitative_dataset[~(quantitative_dataset.mahalanobis.isna())])"
   ]
  },
  {
   "cell_type": "code",
   "execution_count": null,
   "metadata": {
    "id": "jOJSUADzAxuo"
   },
   "outputs": [],
   "source": [
    "# mahalanobis contiene nans, esto es posible? es correcto sacarlos para proseguir con el analisis?\n",
    "quantitative_dataset[~(quantitative_dataset.mahalanobis.isna())].mahalanobis.max()\n",
    "quantitative_dataset[~(quantitative_dataset.mahalanobis.isna())].mahalanobis.min()\n",
    "# como elijo un umbral? bajo que criterio?"
   ]
  },
  {
   "cell_type": "markdown",
   "metadata": {
    "id": "5H-OSShHAxuo"
   },
   "source": [
    "Seleccionamos 1000 como valor umbral"
   ]
  },
  {
   "cell_type": "code",
   "execution_count": null,
   "metadata": {
    "id": "ZgpzFQEaAxuo"
   },
   "outputs": [],
   "source": [
    "#Defino umbral\n",
    "umbral = 1000 # elegimos este umbral de varias pruebas hasta llegar a un grafico de dispersion razonable\n",
    "\n",
    "#Observacione anómalas\n",
    "quantitative_dataset[quantitative_dataset['mahalanobis'] > umbral]"
   ]
  },
  {
   "cell_type": "code",
   "execution_count": null,
   "metadata": {
    "id": "UQ3rh0TqAxuo"
   },
   "outputs": [],
   "source": [
    "create_scattergram(quantitative_dataset, 'property_rooms',  'property_bedrooms')"
   ]
  },
  {
   "cell_type": "markdown",
   "metadata": {
    "id": "Ngh7t6K_Axuo"
   },
   "source": [
    "Como podemos observar en el scatter plot, quedan bien marcados los outliers que en nuestro dominio de problema no tienen ningun sentido.\n",
    "Tenemos que analizar despues si se trata de algun valor erroneo en la carga de datos o por qué aparece, por ejemplo, viviendas con 30 ó 40 ambientes que solo tienen 2 y 3 habitaciones cada una."
   ]
  },
  {
   "cell_type": "markdown",
   "metadata": {
    "id": "N7BqD1f5Axuo"
   },
   "source": [
    "Analisis entre superficie total y superificie cubierta de valores atipicos por el metodo de mahalanobis - multivariado"
   ]
  },
  {
   "cell_type": "code",
   "execution_count": null,
   "metadata": {
    "id": "9uGc8EEAAxuo"
   },
   "outputs": [],
   "source": [
    "create_scatter_plot(quantitative_dataset, 'property_surface_total', 'property_surface_covered')"
   ]
  },
  {
   "cell_type": "code",
   "execution_count": null,
   "metadata": {
    "id": "Ru-LnmK9Axuo"
   },
   "outputs": [],
   "source": [
    "calculate_mahalanobis_distance(quantitative_dataset, 'property_surface_total', 'property_surface_covered')"
   ]
  },
  {
   "cell_type": "code",
   "execution_count": null,
   "metadata": {
    "id": "UARE2d16Axuo"
   },
   "outputs": [],
   "source": [
    "sns.boxplot(y=quantitative_dataset.mahalanobis)"
   ]
  },
  {
   "cell_type": "code",
   "execution_count": null,
   "metadata": {
    "id": "8VBOClOQAxuo"
   },
   "outputs": [],
   "source": [
    "# Ordeno las distancias de menor a mayor\n",
    "np.sort(quantitative_dataset[~(quantitative_dataset.mahalanobis.isna())])"
   ]
  },
  {
   "cell_type": "code",
   "execution_count": null,
   "metadata": {
    "id": "PD_XHZ9AAxuo"
   },
   "outputs": [],
   "source": [
    "# mahalanobis contiene nans, esto es posible? es correcto sacarlos para proseguir con el analisis?\n",
    "copy_ds[~(copy_ds.mahalanobis.isna())].mahalanobis.max()\n",
    "copy_ds[~(copy_ds.mahalanobis.isna())].mahalanobis.min()\n",
    "# como elijo un umbral? bajo que criterio?"
   ]
  },
  {
   "cell_type": "code",
   "execution_count": null,
   "metadata": {
    "id": "3WFEt2hDAxuo"
   },
   "outputs": [],
   "source": [
    "#Defino umbral\n",
    "umbral = 1000 # elegimos este umbral de varias pruebas hasta llegar a un grafico de dispersion razonable\n",
    "\n",
    "#Observacione anómalas\n",
    "quantitative_dataset[quantitative_dataset['mahalanobis'] > umbral]"
   ]
  },
  {
   "cell_type": "code",
   "execution_count": null,
   "metadata": {
    "id": "xGrmY5wQAxuo"
   },
   "outputs": [],
   "source": [
    "create_scattergram(quantitative_dataset, 'property_surface_total',  'property_surface_covered'):"
   ]
  },
  {
   "cell_type": "code",
   "execution_count": null,
   "metadata": {
    "id": "UMmQ0Z5TAxuo"
   },
   "outputs": [],
   "source": [
    "Analisis entre latitud y logitud de valores atipicos por el metodo de mahalanobis - multivariado"
   ]
  },
  {
   "cell_type": "code",
   "execution_count": null,
   "metadata": {
    "id": "qdeqvOnOAxuo"
   },
   "outputs": [],
   "source": []
  },
  {
   "cell_type": "markdown",
   "metadata": {
    "id": "bzjGO22mAxuo",
    "tags": []
   },
   "source": [
    "#### LOF"
   ]
  },
  {
   "cell_type": "markdown",
   "metadata": {
    "id": "URgHeN-OAxuo"
   },
   "source": [
    "Analisis de outliers con el metodo LOF - Multivariados para ambientes y habitaciones"
   ]
  },
  {
   "cell_type": "code",
   "execution_count": null,
   "metadata": {
    "id": "cbsv_OILAxup"
   },
   "outputs": [],
   "source": [
    "def create_scores_based_on_training(dataset, col1, col2):\n",
    "    #Conjunto de entrenamiento\n",
    "    dataset = dataset[~(dataset[f'{col1}'].isna())] # que hago con los NAN? Para la preddicion necesito sacarlos.\n",
    "    dataset = dataset[~(dataset[f'{col2}'].isna())]\n",
    "\n",
    "    X = dataset[[f'{col1}', f'{col2}']].values\n",
    "\n",
    "    #Creo el clasificador\n",
    "    clf = LocalOutlierFactor(n_neighbors=20)\n",
    "\n",
    "    #Genero prediccion\n",
    "    y_pred = clf.fit_predict(X)\n",
    "\n",
    "    #Guardo los scores\n",
    "    dataset['scores'] = clf.negative_outlier_factor_\n",
    "\n",
    "    return dataset.copy()"
   ]
  },
  {
   "cell_type": "code",
   "execution_count": null,
   "metadata": {
    "id": "RJXWXpFjAxup"
   },
   "outputs": [],
   "source": [
    "def create_dispersion_diagram(dataset, col1, col2):\n",
    "    new_lof_ds = dataset.copy()\n",
    "    new_lof_ds['target'] = 0\n",
    "    new_col_ds = new_lof_ds\n",
    "    new_col_ds[[f'{col1}', f'{col2}', 'target']]\n",
    "\n",
    "    sns.scatterplot(new_col_ds[f'{col1}'], new_col_ds[f'{col2}'], hue=new_col_ds['target'])\n",
    "    plt.title(f'Diagrama de Dispersión {col1} vs {col2}')\n",
    "    plt.show()\n",
    "    return new_lof_ds"
   ]
  },
  {
   "cell_type": "code",
   "execution_count": null,
   "metadata": {
    "id": "QdmHbCfwAxup"
   },
   "outputs": [],
   "source": [
    "def create_lof_graph(dataset, col1, col2):\n",
    "    #Calculo radio para plotear score\n",
    "    radius = (dataset.scores.max() - dataset.scores) / (dataset.scores.max() - dataset.scores.min())\n",
    "\n",
    "    #Grafico LOF\n",
    "    plt.figure(figsize=(10,10))\n",
    "    plt.title(\"Local Outlier Factor (LOF)\")\n",
    "    plt.scatter(dataset[f'{col1}'].values, dataset[f'{col2}'].values, edgecolor='grey', s=30, label='Datos',facecolors='none')\n",
    "    plt.scatter(dataset[f'{col1}'].values, dataset[f'{col2}'].values, s=1300 * radius, edgecolors='red',facecolors='none', label='Outlier scores')\n",
    "    legend = plt.legend(loc='upper left')\n",
    "    legend.legendHandles[0]._sizes = [10]\n",
    "    legend.legendHandles[1]._sizes = [20]\n",
    "    plt.show()"
   ]
  },
  {
   "cell_type": "code",
   "execution_count": null,
   "metadata": {
    "id": "XOdBGEWUAxup"
   },
   "outputs": [],
   "source": [
    "rooms_bedrooms_lof_df = create_dispersion_diagram(quantitative_dataset, 'property_rooms', 'property_bedrooms')"
   ]
  },
  {
   "cell_type": "code",
   "execution_count": null,
   "metadata": {
    "id": "R9TjNHWLAxup"
   },
   "outputs": [],
   "source": [
    "new_rooms_bedrooms_lof_df = create_scores_based_on_training(rooms_bedrooms_lof_df, 'property_rooms', 'property_bedrooms')\n",
    "new_rooms_bedrooms_lof_df"
   ]
  },
  {
   "cell_type": "code",
   "execution_count": null,
   "metadata": {
    "id": "MXkHSVcQAxup"
   },
   "outputs": [],
   "source": [
    "create_lof_graph(new_rooms_bedrooms_lof_df, 'property_rooms', 'property_bedrooms')"
   ]
  },
  {
   "cell_type": "markdown",
   "metadata": {
    "id": "YxoZ3ynaAxup"
   },
   "source": [
    "Analisis de outliers con el metodo LOF - Multivariados para superficie total y superficie cubierta"
   ]
  },
  {
   "cell_type": "code",
   "execution_count": null,
   "metadata": {
    "id": "avJW3slCAxup"
   },
   "outputs": [],
   "source": [
    "total_covered_lof_df = create_dispersion_diagram(quantitative_dataset, 'property_surface_total', 'property_surface_covered')"
   ]
  },
  {
   "cell_type": "code",
   "execution_count": null,
   "metadata": {
    "id": "UlH751k8Axup"
   },
   "outputs": [],
   "source": [
    "new_total_covered_lof_df = create_scores_based_on_training(total_covered_lof_df, 'property_surface_total', 'property_surface_covered')\n",
    "new_total_covered_lof_df"
   ]
  },
  {
   "cell_type": "code",
   "execution_count": null,
   "metadata": {
    "id": "5eJCc_9sAxup"
   },
   "outputs": [],
   "source": [
    "create_lof_graph(new_total_covered_lof_df, 'property_surface_total', 'property_surface_covered')"
   ]
  },
  {
   "cell_type": "markdown",
   "metadata": {
    "id": "RyT4SO_WAxup"
   },
   "source": [
    "Analisis de outliers con el metodo LOF - Multivariados para latitud y longitud"
   ]
  },
  {
   "cell_type": "code",
   "execution_count": null,
   "metadata": {
    "id": "v66qHXTCAxup"
   },
   "outputs": [],
   "source": [
    "latitud_longitud_df = create_dispersion_diagram(quantitative_dataset, 'latitud', 'longitud')"
   ]
  },
  {
   "cell_type": "code",
   "execution_count": null,
   "metadata": {
    "id": "XjiJ-f2cAxup"
   },
   "outputs": [],
   "source": [
    "new_latitud_longitud_df = create_scores_based_on_training(latitud_longitud_df, 'latitud', 'longitud')\n",
    "new_latitud_longitud_df"
   ]
  },
  {
   "cell_type": "code",
   "execution_count": null,
   "metadata": {
    "id": "Uu846liHAxup"
   },
   "outputs": [],
   "source": [
    "create_lof_graph(new_latitud_longitud_df, 'latitud', 'longitud')"
   ]
  },
  {
   "cell_type": "markdown",
   "metadata": {
    "id": "wax67VvcAxup",
    "tags": []
   },
   "source": [
    "#### Isolation Forest"
   ]
  },
  {
   "cell_type": "markdown",
   "metadata": {
    "id": "03vv4fmXAxup"
   },
   "source": [
    "Analisis de outliers con el metodo de Isolation Forest - Multivariados para ambientes y habitaciones"
   ]
  },
  {
   "cell_type": "code",
   "execution_count": null,
   "metadata": {
    "id": "VEplGatAAxup"
   },
   "outputs": [],
   "source": [
    "rooms_bedrooms_iforest = quantitative_dataset[['property_rooms', 'property_bedrooms']]\n",
    "rooms_bedrooms_iforest = rooms_bedrooms_iforest[~(rooms_bedrooms_iforest['property_rooms'].isna())]\n",
    "rooms_bedrooms_iforest = rooms_bedrooms_iforest[~(rooms_bedrooms_iforest['property_bedrooms'].isna())]\n",
    "\n",
    "iforest = IsolationForest(n_estimators=100, max_samples='auto', \n",
    "                          contamination=0.05, max_features=2, \n",
    "                          bootstrap=False, n_jobs=-1, random_state=1)\n",
    "\n",
    "pred = iforest.fit_predict(rooms_bedrooms_iforest)\n",
    "#Almaceno scores y etiquetas\n",
    "rooms_bedrooms_iforest['scores'] = iforest.decision_function(rooms_bedrooms_iforest)\n",
    "rooms_bedrooms_iforest['outlier_label'] = pred\n",
    "\n",
    "#Observaciones anómalas\n",
    "rooms_bedrooms_iforest[rooms_bedrooms_iforest.outlier_label == -1]"
   ]
  },
  {
   "cell_type": "code",
   "execution_count": null,
   "metadata": {
    "id": "ZmC9maDQAxup"
   },
   "outputs": [],
   "source": [
    "rooms_bedrooms_iforest.outlier_label.value_counts()"
   ]
  },
  {
   "cell_type": "code",
   "execution_count": null,
   "metadata": {
    "id": "hcXwUxK7Axup"
   },
   "outputs": [],
   "source": [
    "#Grafico dispersograma\n",
    "color = [f\"C{n+1}\" for n in (rooms_bedrooms_iforest['outlier_label'].values)]\n",
    "\n",
    "sns.scatterplot(rooms_bedrooms_iforest['property_rooms'], rooms_bedrooms_iforest['property_bedrooms'], hue=color)\n",
    "plt.title('Diagrama de Dispersión property_rooms vs property_bedrooms')\n",
    "plt.show()"
   ]
  },
  {
   "cell_type": "code",
   "execution_count": null,
   "metadata": {
    "id": "-oJfQyeyAxup"
   },
   "outputs": [],
   "source": [
    "#Selecciono el árbol\n",
    "#estimator = iforest.estimators_[5]\n",
    "\n",
    "#Grafico\n",
    "#plt.figure(figsize=(10,10))\n",
    "#sk.tree.plot_tree(estimator,feature_names = rooms_bedrooms_iforest.feature_names, filled=True, max_depth=1)\n",
    "#plt.show()"
   ]
  },
  {
   "cell_type": "markdown",
   "metadata": {
    "id": "kQm8FTM3Axup"
   },
   "source": [
    "Analisis de outliers con el metodo de Isolation Forest - Multivariados para superficie total y superficie cubierta"
   ]
  },
  {
   "cell_type": "code",
   "execution_count": null,
   "metadata": {
    "id": "xcLdMo87Axup"
   },
   "outputs": [],
   "source": [
    "total_covered_iforest = quantitative_dataset[['property_surface_total', 'property_surface_covered']]\n",
    "total_covered_iforest = total_covered_iforest[~(total_covered_iforest['property_surface_total'].isna())]\n",
    "total_covered_iforest = total_covered_iforest[~(total_covered_iforest['property_surface_covered'].isna())]\n",
    "\n",
    "iforest = IsolationForest(n_estimators=100, max_samples='auto', \n",
    "                          contamination=0.05, max_features=2, \n",
    "                          bootstrap=False, n_jobs=-1, random_state=1)\n",
    "\n",
    "pred = iforest.fit_predict(total_covered_iforest)\n",
    "#Almaceno scores y etiquetas\n",
    "total_covered_iforest['scores'] = iforest.decision_function(total_covered_iforest)\n",
    "total_covered_iforest['outlier_label'] = pred\n",
    "\n",
    "#Observaciones anómalas\n",
    "total_covered_iforest[total_covered_iforest.outlier_label == -1]"
   ]
  },
  {
   "cell_type": "code",
   "execution_count": null,
   "metadata": {
    "id": "tgvxUgx2Axuq"
   },
   "outputs": [],
   "source": [
    "total_covered_iforest.outlier_label.value_counts()"
   ]
  },
  {
   "cell_type": "code",
   "execution_count": null,
   "metadata": {
    "id": "vv4yshufAxuq"
   },
   "outputs": [],
   "source": [
    "#Grafico dispersograma\n",
    "color = [f\"C{n+1}\" for n in (total_covered_iforest['outlier_label'].values)]\n",
    "\n",
    "sns.scatterplot(total_covered_iforest['property_surface_total'], total_covered_iforest['property_surface_covered'], hue=color)\n",
    "plt.title('Diagrama de Dispersión property_surface_total vs property_surface_covered')\n",
    "plt.show()"
   ]
  },
  {
   "cell_type": "code",
   "execution_count": null,
   "metadata": {
    "id": "EymgQjnhAxuq"
   },
   "outputs": [],
   "source": [
    "#Selecciono el árbol\n",
    "#estimator = iforest.estimators_[5]\n",
    "\n",
    "#Grafico\n",
    "#plt.figure(figsize=(10,10))\n",
    "#sk.tree.plot_tree(estimator,feature_names = total_covered_iforest.feature_names, filled=True, max_depth=1)\n",
    "#plt.show()"
   ]
  },
  {
   "cell_type": "markdown",
   "metadata": {
    "id": "dUjFBTj8Axuq"
   },
   "source": [
    "Analisis de outliers con el metodo de Isolation Forest - Multivariados para latitud y longitud"
   ]
  },
  {
   "cell_type": "code",
   "execution_count": null,
   "metadata": {
    "id": "_aR-rEWgAxuq"
   },
   "outputs": [],
   "source": [
    "latitud_longitud_iforest = quantitative_dataset[['latitud', 'longitud']]\n",
    "latitud_longitud_iforest = latitud_longitud_iforest[~(latitud_longitud_iforest['latitud'].isna())]\n",
    "latitud_longitud_iforest = latitud_longitud_iforest[~(latitud_longitud_iforest['longitud'].isna())]\n",
    "\n",
    "iforest = IsolationForest(n_estimators=100, max_samples='auto', \n",
    "                          contamination=0.05, max_features=2, \n",
    "                          bootstrap=False, n_jobs=-1, random_state=1)\n",
    "\n",
    "pred = iforest.fit_predict(latitud_longitud_iforest)\n",
    "#Almaceno scores y etiquetas\n",
    "latitud_longitud_iforest['scores'] = iforest.decision_function(latitud_longitud_iforest)\n",
    "latitud_longitud_iforest['outlier_label'] = pred\n",
    "\n",
    "#Observaciones anómalas\n",
    "latitud_longitud_iforest[latitud_longitud_iforest.outlier_label == -1]"
   ]
  },
  {
   "cell_type": "code",
   "execution_count": null,
   "metadata": {
    "id": "8rWXsaqGAxuq"
   },
   "outputs": [],
   "source": [
    "latitud_longitud_iforest.outlier_label.value_counts()"
   ]
  },
  {
   "cell_type": "code",
   "execution_count": null,
   "metadata": {
    "id": "c_s43EfPAxuq"
   },
   "outputs": [],
   "source": [
    "#Grafico dispersograma\n",
    "color = [f\"C{n+1}\" for n in (latitud_longitud_iforest['outlier_label'].values)]\n",
    "\n",
    "sns.scatterplot(latitud_longitud_iforest['latitud'], latitud_longitud_iforest['longitud'], hue=color)\n",
    "plt.title('Diagrama de Dispersión latitud vs longitud')\n",
    "plt.show()"
   ]
  },
  {
   "cell_type": "code",
   "execution_count": null,
   "metadata": {
    "id": "RFSYmXE5Axuq"
   },
   "outputs": [],
   "source": [
    "#Selecciono el árbol\n",
    "#estimator = iforest.estimators_[5]\n",
    "\n",
    "#Grafico\n",
    "#plt.figure(figsize=(10,10))\n",
    "#sk.tree.plot_tree(estimator,feature_names = latitud_longitud_iforest.feature_names, filled=True, max_depth=1)\n",
    "#plt.show()"
   ]
  }
 ],
 "metadata": {
  "colab": {
   "collapsed_sections": [
    "jxoknznjLQOO",
    "JwgUVMIBLQOP",
    "NhbTz94XLQOQ",
    "WzgZZ3DvLQOQ",
    "1az7CMHPLQOR",
    "5noSSMY0LQOU",
    "1mXl9xLGLQOV",
    "WoYpoj6SLQOV",
    "ojlfca7BBXAw",
    "UJXPwgQU6a2Q",
    "UM58cSnX1DMZ",
    "obePjaf2R3Jg",
    "2oo26Jn3WzsK",
    "-Ddt6nPw7c_v",
    "M4Amhc7lkDC4",
    "4d609ZsivVrn",
    "fW8vJOcwtiRu",
    "yWxX8bRyLQOX",
    "Pv7hjbTPLQOX",
    "o3sc6FA2LQOY",
    "2tsXkTlyLQOY",
    "a7Ah9wxfLQOZ",
    "vtLlDvAZLQOb",
    "7QMM5CZALQOb",
    "beuLIPxMpRxQ",
    "XFRLYQbepRxQ",
    "v_uSlLCapRxR",
    "hER0KXXapRxS",
    "4oxzuTe_Yghi",
    "nQ5ndyGcAxuk",
    "mSQXzuOLAxuk",
    "kQrpFdl2Axul",
    "vQ6fv-FGAxun",
    "4Vjw9UM9Axun",
    "wSiyWi1FAxun",
    "bzjGO22mAxuo",
    "wax67VvcAxup"
   ],
   "provenance": []
  },
  "kernelspec": {
   "display_name": "Python 3 (ipykernel)",
   "language": "python",
   "name": "python3"
  },
  "language_info": {
   "codemirror_mode": {
    "name": "ipython",
    "version": 3
   },
   "file_extension": ".py",
   "mimetype": "text/x-python",
   "name": "python",
   "nbconvert_exporter": "python",
   "pygments_lexer": "ipython3",
   "version": "3.10.4"
  }
 },
 "nbformat": 4,
 "nbformat_minor": 4
}
