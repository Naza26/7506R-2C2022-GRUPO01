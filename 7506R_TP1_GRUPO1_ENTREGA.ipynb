{
 "cells": [
  {
   "cell_type": "markdown",
   "metadata": {
    "id": "2AgtT6A646OQ",
    "pycharm": {
     "name": "#%% md\n"
    }
   },
   "source": [
    "# 7506 - Trabajo práctico 1\n"
   ]
  },
  {
   "cell_type": "markdown",
   "metadata": {
    "id": "JiW5g17D46OU",
    "pycharm": {
     "name": "#%% md\n"
    },
    "tags": []
   },
   "source": [
    "##### Librerías"
   ]
  },
  {
   "cell_type": "code",
   "execution_count": 1,
   "metadata": {
    "collapsed": false,
    "id": "2Rq6z1L_LQOH",
    "jupyter": {
     "outputs_hidden": false
    },
    "pycharm": {
     "name": "#%%\n"
    }
   },
   "outputs": [],
   "source": [
    "import pandas as pd\n",
    "from pandas.plotting import scatter_matrix\n",
    "import numpy as np\n",
    "import matplotlib.pyplot as plt\n",
    "import seaborn as sns\n",
    "import geopandas as gpd\n",
    "\n",
    "import warnings\n",
    "\n",
    "warnings.simplefilter(action='ignore', category=FutureWarning)\n",
    "warnings.simplefilter(action='ignore', category=UserWarning)"
   ]
  },
  {
   "cell_type": "code",
   "execution_count": 121,
   "metadata": {
    "collapsed": false,
    "id": "BW9HZZKHLQOI",
    "jupyter": {
     "outputs_hidden": false
    },
    "pycharm": {
     "name": "#%%\n"
    }
   },
   "outputs": [],
   "source": [
    "from IPython.display import display, HTML\n",
    "\n",
    "\n",
    "def display_side_by_side(dfs: list, captions: list):\n",
    "    \"\"\"Display tables side by side to save vertical space\n",
    "    Input:\n",
    "        dfs: list of pandas.DataFrame\n",
    "        captions: list of table captions\n",
    "    \"\"\"\n",
    "    output = \"\"\n",
    "    combined = dict(zip(captions, dfs))\n",
    "    for caption, df in combined.items():\n",
    "        output += df.style.set_table_attributes(\"style='display:inline'\").set_caption(caption)._repr_html_()\n",
    "        output += \"\\xa0\\xa0\\xa0\"\n",
    "    display(HTML(output))"
   ]
  },
  {
   "cell_type": "code",
   "execution_count": 122,
   "metadata": {
    "id": "Nd8DsdWGLQOJ",
    "pycharm": {
     "name": "#%%\n"
    }
   },
   "outputs": [],
   "source": [
    "complete_dataset = pd.read_csv(\"./datasets/properati_argentina_2021.csv\")\n",
    "df = complete_dataset.copy()"
   ]
  },
  {
   "cell_type": "markdown",
   "metadata": {
    "id": "cFcWcECeLQOK",
    "pycharm": {
     "name": "#%% md\n"
    }
   },
   "source": [
    "## Análisis Exploratorio y Preprocesamiento de Datos"
   ]
  },
  {
   "cell_type": "markdown",
   "metadata": {
    "id": "g480r3LoLQOK",
    "pycharm": {
     "name": "#%% md\n"
    }
   },
   "source": [
    "Primero, observaremos un poco los datos que tiene el dataset"
   ]
  },
  {
   "cell_type": "markdown",
   "metadata": {
    "id": "_N62ZwwhLQOL",
    "pycharm": {
     "name": "#%% md\n"
    }
   },
   "source": [
    "**Primeras 5 observaciones**"
   ]
  },
  {
   "cell_type": "code",
   "execution_count": 123,
   "metadata": {
    "colab": {
     "base_uri": "https://localhost:8080/",
     "height": 357
    },
    "id": "s3m_M2GeLQOL",
    "outputId": "8cf865ff-508d-4fe0-a58b-4d38803aff2e",
    "pycharm": {
     "name": "#%%\n"
    }
   },
   "outputs": [
    {
     "data": {
      "text/html": [
       "\n",
       "  <div id=\"df-fb41d697-0783-4eb2-9420-a6f48cc51f27\">\n",
       "    <div class=\"colab-df-container\">\n",
       "      <div>\n",
       "<style scoped>\n",
       "    .dataframe tbody tr th:only-of-type {\n",
       "        vertical-align: middle;\n",
       "    }\n",
       "\n",
       "    .dataframe tbody tr th {\n",
       "        vertical-align: top;\n",
       "    }\n",
       "\n",
       "    .dataframe thead th {\n",
       "        text-align: right;\n",
       "    }\n",
       "</style>\n",
       "<table border=\"1\" class=\"dataframe\">\n",
       "  <thead>\n",
       "    <tr style=\"text-align: right;\">\n",
       "      <th></th>\n",
       "      <th>id</th>\n",
       "      <th>start_date</th>\n",
       "      <th>end_date</th>\n",
       "      <th>created_on</th>\n",
       "      <th>latitud</th>\n",
       "      <th>longitud</th>\n",
       "      <th>place_l2</th>\n",
       "      <th>place_l3</th>\n",
       "      <th>place_l4</th>\n",
       "      <th>place_l5</th>\n",
       "      <th>place_l6</th>\n",
       "      <th>operation</th>\n",
       "      <th>property_type</th>\n",
       "      <th>property_rooms</th>\n",
       "      <th>property_bedrooms</th>\n",
       "      <th>property_surface_total</th>\n",
       "      <th>property_surface_covered</th>\n",
       "      <th>property_price</th>\n",
       "      <th>property_currency</th>\n",
       "      <th>property_title</th>\n",
       "    </tr>\n",
       "  </thead>\n",
       "  <tbody>\n",
       "    <tr>\n",
       "      <th>0</th>\n",
       "      <td>XZq2dFGxBiboHY3Bo/tqlw==</td>\n",
       "      <td>2021-09-09</td>\n",
       "      <td>2022-01-27</td>\n",
       "      <td>2021-09-09</td>\n",
       "      <td>-38.957632</td>\n",
       "      <td>-68.105443</td>\n",
       "      <td>Neuquén</td>\n",
       "      <td>NaN</td>\n",
       "      <td>NaN</td>\n",
       "      <td>NaN</td>\n",
       "      <td>NaN</td>\n",
       "      <td>Venta</td>\n",
       "      <td>Casa</td>\n",
       "      <td>6.0</td>\n",
       "      <td>NaN</td>\n",
       "      <td>NaN</td>\n",
       "      <td>206.0</td>\n",
       "      <td>NaN</td>\n",
       "      <td>NaN</td>\n",
       "      <td>Casa - Capital</td>\n",
       "    </tr>\n",
       "    <tr>\n",
       "      <th>1</th>\n",
       "      <td>8afoK+yMH/rnnlYiktwgNA==</td>\n",
       "      <td>2021-09-09</td>\n",
       "      <td>2021-10-23</td>\n",
       "      <td>2021-09-09</td>\n",
       "      <td>-34.888878</td>\n",
       "      <td>-56.092368</td>\n",
       "      <td>Montevideo</td>\n",
       "      <td>NaN</td>\n",
       "      <td>NaN</td>\n",
       "      <td>NaN</td>\n",
       "      <td>NaN</td>\n",
       "      <td>Venta</td>\n",
       "      <td>Casa</td>\n",
       "      <td>4.0</td>\n",
       "      <td>3.0</td>\n",
       "      <td>193.0</td>\n",
       "      <td>193.0</td>\n",
       "      <td>390000.0</td>\n",
       "      <td>USD</td>\n",
       "      <td>Casa - Malvín</td>\n",
       "    </tr>\n",
       "    <tr>\n",
       "      <th>2</th>\n",
       "      <td>iVaG5rBB47dd1Ya4BMXREA==</td>\n",
       "      <td>2021-09-09</td>\n",
       "      <td>2022-03-09</td>\n",
       "      <td>2021-09-09</td>\n",
       "      <td>-32.488717</td>\n",
       "      <td>-58.257499</td>\n",
       "      <td>Entre Ríos</td>\n",
       "      <td>NaN</td>\n",
       "      <td>NaN</td>\n",
       "      <td>NaN</td>\n",
       "      <td>NaN</td>\n",
       "      <td>Venta</td>\n",
       "      <td>Casa</td>\n",
       "      <td>NaN</td>\n",
       "      <td>NaN</td>\n",
       "      <td>110.0</td>\n",
       "      <td>45.0</td>\n",
       "      <td>47000.0</td>\n",
       "      <td>USD</td>\n",
       "      <td>Casa - Uruguay</td>\n",
       "    </tr>\n",
       "    <tr>\n",
       "      <th>3</th>\n",
       "      <td>QE1QVMWKAHWkd0qT0FtPWA==</td>\n",
       "      <td>2021-09-09</td>\n",
       "      <td>2022-01-27</td>\n",
       "      <td>2021-09-09</td>\n",
       "      <td>-34.900165</td>\n",
       "      <td>-54.808453</td>\n",
       "      <td>Maldonado</td>\n",
       "      <td>NaN</td>\n",
       "      <td>NaN</td>\n",
       "      <td>NaN</td>\n",
       "      <td>NaN</td>\n",
       "      <td>Venta</td>\n",
       "      <td>Casa</td>\n",
       "      <td>NaN</td>\n",
       "      <td>3.0</td>\n",
       "      <td>NaN</td>\n",
       "      <td>180.0</td>\n",
       "      <td>400000.0</td>\n",
       "      <td>USD</td>\n",
       "      <td>Casa - El Chorro</td>\n",
       "    </tr>\n",
       "    <tr>\n",
       "      <th>4</th>\n",
       "      <td>tJ5lSk7IysG/71OGhacNZA==</td>\n",
       "      <td>2021-09-09</td>\n",
       "      <td>2022-01-27</td>\n",
       "      <td>2021-09-09</td>\n",
       "      <td>-38.954528</td>\n",
       "      <td>-68.041862</td>\n",
       "      <td>Neuquén</td>\n",
       "      <td>NaN</td>\n",
       "      <td>NaN</td>\n",
       "      <td>NaN</td>\n",
       "      <td>NaN</td>\n",
       "      <td>Venta</td>\n",
       "      <td>PH</td>\n",
       "      <td>3.0</td>\n",
       "      <td>2.0</td>\n",
       "      <td>NaN</td>\n",
       "      <td>98.0</td>\n",
       "      <td>102000.0</td>\n",
       "      <td>USD</td>\n",
       "      <td>PH - Villa Farrell</td>\n",
       "    </tr>\n",
       "  </tbody>\n",
       "</table>\n",
       "</div>\n",
       "      <button class=\"colab-df-convert\" onclick=\"convertToInteractive('df-fb41d697-0783-4eb2-9420-a6f48cc51f27')\"\n",
       "              title=\"Convert this dataframe to an interactive table.\"\n",
       "              style=\"display:none;\">\n",
       "        \n",
       "  <svg xmlns=\"http://www.w3.org/2000/svg\" height=\"24px\"viewBox=\"0 0 24 24\"\n",
       "       width=\"24px\">\n",
       "    <path d=\"M0 0h24v24H0V0z\" fill=\"none\"/>\n",
       "    <path d=\"M18.56 5.44l.94 2.06.94-2.06 2.06-.94-2.06-.94-.94-2.06-.94 2.06-2.06.94zm-11 1L8.5 8.5l.94-2.06 2.06-.94-2.06-.94L8.5 2.5l-.94 2.06-2.06.94zm10 10l.94 2.06.94-2.06 2.06-.94-2.06-.94-.94-2.06-.94 2.06-2.06.94z\"/><path d=\"M17.41 7.96l-1.37-1.37c-.4-.4-.92-.59-1.43-.59-.52 0-1.04.2-1.43.59L10.3 9.45l-7.72 7.72c-.78.78-.78 2.05 0 2.83L4 21.41c.39.39.9.59 1.41.59.51 0 1.02-.2 1.41-.59l7.78-7.78 2.81-2.81c.8-.78.8-2.07 0-2.86zM5.41 20L4 18.59l7.72-7.72 1.47 1.35L5.41 20z\"/>\n",
       "  </svg>\n",
       "      </button>\n",
       "      \n",
       "  <style>\n",
       "    .colab-df-container {\n",
       "      display:flex;\n",
       "      flex-wrap:wrap;\n",
       "      gap: 12px;\n",
       "    }\n",
       "\n",
       "    .colab-df-convert {\n",
       "      background-color: #E8F0FE;\n",
       "      border: none;\n",
       "      border-radius: 50%;\n",
       "      cursor: pointer;\n",
       "      display: none;\n",
       "      fill: #1967D2;\n",
       "      height: 32px;\n",
       "      padding: 0 0 0 0;\n",
       "      width: 32px;\n",
       "    }\n",
       "\n",
       "    .colab-df-convert:hover {\n",
       "      background-color: #E2EBFA;\n",
       "      box-shadow: 0px 1px 2px rgba(60, 64, 67, 0.3), 0px 1px 3px 1px rgba(60, 64, 67, 0.15);\n",
       "      fill: #174EA6;\n",
       "    }\n",
       "\n",
       "    [theme=dark] .colab-df-convert {\n",
       "      background-color: #3B4455;\n",
       "      fill: #D2E3FC;\n",
       "    }\n",
       "\n",
       "    [theme=dark] .colab-df-convert:hover {\n",
       "      background-color: #434B5C;\n",
       "      box-shadow: 0px 1px 3px 1px rgba(0, 0, 0, 0.15);\n",
       "      filter: drop-shadow(0px 1px 2px rgba(0, 0, 0, 0.3));\n",
       "      fill: #FFFFFF;\n",
       "    }\n",
       "  </style>\n",
       "\n",
       "      <script>\n",
       "        const buttonEl =\n",
       "          document.querySelector('#df-fb41d697-0783-4eb2-9420-a6f48cc51f27 button.colab-df-convert');\n",
       "        buttonEl.style.display =\n",
       "          google.colab.kernel.accessAllowed ? 'block' : 'none';\n",
       "\n",
       "        async function convertToInteractive(key) {\n",
       "          const element = document.querySelector('#df-fb41d697-0783-4eb2-9420-a6f48cc51f27');\n",
       "          const dataTable =\n",
       "            await google.colab.kernel.invokeFunction('convertToInteractive',\n",
       "                                                     [key], {});\n",
       "          if (!dataTable) return;\n",
       "\n",
       "          const docLinkHtml = 'Like what you see? Visit the ' +\n",
       "            '<a target=\"_blank\" href=https://colab.research.google.com/notebooks/data_table.ipynb>data table notebook</a>'\n",
       "            + ' to learn more about interactive tables.';\n",
       "          element.innerHTML = '';\n",
       "          dataTable['output_type'] = 'display_data';\n",
       "          await google.colab.output.renderOutput(dataTable, element);\n",
       "          const docLink = document.createElement('div');\n",
       "          docLink.innerHTML = docLinkHtml;\n",
       "          element.appendChild(docLink);\n",
       "        }\n",
       "      </script>\n",
       "    </div>\n",
       "  </div>\n",
       "  "
      ],
      "text/plain": [
       "                         id  start_date    end_date  created_on    latitud  \\\n",
       "0  XZq2dFGxBiboHY3Bo/tqlw==  2021-09-09  2022-01-27  2021-09-09 -38.957632   \n",
       "1  8afoK+yMH/rnnlYiktwgNA==  2021-09-09  2021-10-23  2021-09-09 -34.888878   \n",
       "2  iVaG5rBB47dd1Ya4BMXREA==  2021-09-09  2022-03-09  2021-09-09 -32.488717   \n",
       "3  QE1QVMWKAHWkd0qT0FtPWA==  2021-09-09  2022-01-27  2021-09-09 -34.900165   \n",
       "4  tJ5lSk7IysG/71OGhacNZA==  2021-09-09  2022-01-27  2021-09-09 -38.954528   \n",
       "\n",
       "    longitud    place_l2 place_l3 place_l4 place_l5  place_l6 operation  \\\n",
       "0 -68.105443     Neuquén      NaN      NaN      NaN       NaN     Venta   \n",
       "1 -56.092368  Montevideo      NaN      NaN      NaN       NaN     Venta   \n",
       "2 -58.257499  Entre Ríos      NaN      NaN      NaN       NaN     Venta   \n",
       "3 -54.808453   Maldonado      NaN      NaN      NaN       NaN     Venta   \n",
       "4 -68.041862     Neuquén      NaN      NaN      NaN       NaN     Venta   \n",
       "\n",
       "  property_type  property_rooms  property_bedrooms  property_surface_total  \\\n",
       "0          Casa             6.0                NaN                     NaN   \n",
       "1          Casa             4.0                3.0                   193.0   \n",
       "2          Casa             NaN                NaN                   110.0   \n",
       "3          Casa             NaN                3.0                     NaN   \n",
       "4            PH             3.0                2.0                     NaN   \n",
       "\n",
       "   property_surface_covered  property_price property_currency  \\\n",
       "0                     206.0             NaN               NaN   \n",
       "1                     193.0        390000.0               USD   \n",
       "2                      45.0         47000.0               USD   \n",
       "3                     180.0        400000.0               USD   \n",
       "4                      98.0        102000.0               USD   \n",
       "\n",
       "       property_title  \n",
       "0      Casa - Capital  \n",
       "1       Casa - Malvín  \n",
       "2      Casa - Uruguay  \n",
       "3    Casa - El Chorro  \n",
       "4  PH - Villa Farrell  "
      ]
     },
     "execution_count": 123,
     "metadata": {},
     "output_type": "execute_result"
    }
   ],
   "source": [
    "df.head()"
   ]
  },
  {
   "cell_type": "code",
   "execution_count": 124,
   "metadata": {
    "colab": {
     "base_uri": "https://localhost:8080/"
    },
    "id": "s9BmxkQNLQOM",
    "outputId": "b9f56a5a-209a-4937-f3f8-62c449ef7600",
    "pycharm": {
     "name": "#%%\n"
    }
   },
   "outputs": [
    {
     "name": "stdout",
     "output_type": "stream",
     "text": [
      "El dataset tiene 62633 filas y 20 columnas\n"
     ]
    }
   ],
   "source": [
    "print(f\"El dataset tiene {df.shape[0]} filas y {df.shape[1]} columnas\")"
   ]
  },
  {
   "cell_type": "code",
   "execution_count": 125,
   "metadata": {
    "colab": {
     "base_uri": "https://localhost:8080/",
     "height": 300
    },
    "id": "m5dvGyx2LQON",
    "outputId": "12779792-005e-4bc8-d13a-d46a24b4b596",
    "pycharm": {
     "name": "#%%\n"
    }
   },
   "outputs": [
    {
     "data": {
      "text/html": [
       "\n",
       "  <div id=\"df-5707f05d-d9a0-4c91-8740-536d88a46418\">\n",
       "    <div class=\"colab-df-container\">\n",
       "      <div>\n",
       "<style scoped>\n",
       "    .dataframe tbody tr th:only-of-type {\n",
       "        vertical-align: middle;\n",
       "    }\n",
       "\n",
       "    .dataframe tbody tr th {\n",
       "        vertical-align: top;\n",
       "    }\n",
       "\n",
       "    .dataframe thead th {\n",
       "        text-align: right;\n",
       "    }\n",
       "</style>\n",
       "<table border=\"1\" class=\"dataframe\">\n",
       "  <thead>\n",
       "    <tr style=\"text-align: right;\">\n",
       "      <th></th>\n",
       "      <th>latitud</th>\n",
       "      <th>longitud</th>\n",
       "      <th>place_l6</th>\n",
       "      <th>property_rooms</th>\n",
       "      <th>property_bedrooms</th>\n",
       "      <th>property_surface_total</th>\n",
       "      <th>property_surface_covered</th>\n",
       "      <th>property_price</th>\n",
       "    </tr>\n",
       "  </thead>\n",
       "  <tbody>\n",
       "    <tr>\n",
       "      <th>count</th>\n",
       "      <td>57103.000000</td>\n",
       "      <td>57103.000000</td>\n",
       "      <td>0.0</td>\n",
       "      <td>50765.000000</td>\n",
       "      <td>47432.000000</td>\n",
       "      <td>54614.000000</td>\n",
       "      <td>5.810900e+04</td>\n",
       "      <td>6.017200e+04</td>\n",
       "    </tr>\n",
       "    <tr>\n",
       "      <th>mean</th>\n",
       "      <td>-34.284699</td>\n",
       "      <td>-59.522774</td>\n",
       "      <td>NaN</td>\n",
       "      <td>3.278499</td>\n",
       "      <td>2.296677</td>\n",
       "      <td>372.878896</td>\n",
       "      <td>6.445757e+02</td>\n",
       "      <td>2.885600e+05</td>\n",
       "    </tr>\n",
       "    <tr>\n",
       "      <th>std</th>\n",
       "      <td>3.028603</td>\n",
       "      <td>2.860077</td>\n",
       "      <td>NaN</td>\n",
       "      <td>1.893980</td>\n",
       "      <td>1.487476</td>\n",
       "      <td>3709.300125</td>\n",
       "      <td>3.112059e+04</td>\n",
       "      <td>4.910084e+06</td>\n",
       "    </tr>\n",
       "    <tr>\n",
       "      <th>min</th>\n",
       "      <td>-54.832057</td>\n",
       "      <td>-83.276187</td>\n",
       "      <td>NaN</td>\n",
       "      <td>1.000000</td>\n",
       "      <td>-1.000000</td>\n",
       "      <td>10.000000</td>\n",
       "      <td>1.000000e+00</td>\n",
       "      <td>0.000000e+00</td>\n",
       "    </tr>\n",
       "    <tr>\n",
       "      <th>25%</th>\n",
       "      <td>-34.644631</td>\n",
       "      <td>-58.885654</td>\n",
       "      <td>NaN</td>\n",
       "      <td>2.000000</td>\n",
       "      <td>1.000000</td>\n",
       "      <td>50.000000</td>\n",
       "      <td>4.500000e+01</td>\n",
       "      <td>4.300000e+04</td>\n",
       "    </tr>\n",
       "    <tr>\n",
       "      <th>50%</th>\n",
       "      <td>-34.586182</td>\n",
       "      <td>-58.486522</td>\n",
       "      <td>NaN</td>\n",
       "      <td>3.000000</td>\n",
       "      <td>2.000000</td>\n",
       "      <td>87.000000</td>\n",
       "      <td>7.600000e+01</td>\n",
       "      <td>9.650500e+04</td>\n",
       "    </tr>\n",
       "    <tr>\n",
       "      <th>75%</th>\n",
       "      <td>-34.426166</td>\n",
       "      <td>-58.404681</td>\n",
       "      <td>NaN</td>\n",
       "      <td>4.000000</td>\n",
       "      <td>3.000000</td>\n",
       "      <td>206.000000</td>\n",
       "      <td>1.650000e+02</td>\n",
       "      <td>1.980000e+05</td>\n",
       "    </tr>\n",
       "    <tr>\n",
       "      <th>max</th>\n",
       "      <td>42.440292</td>\n",
       "      <td>-35.044991</td>\n",
       "      <td>NaN</td>\n",
       "      <td>35.000000</td>\n",
       "      <td>74.000000</td>\n",
       "      <td>200000.000000</td>\n",
       "      <td>5.000000e+06</td>\n",
       "      <td>1.111111e+09</td>\n",
       "    </tr>\n",
       "  </tbody>\n",
       "</table>\n",
       "</div>\n",
       "      <button class=\"colab-df-convert\" onclick=\"convertToInteractive('df-5707f05d-d9a0-4c91-8740-536d88a46418')\"\n",
       "              title=\"Convert this dataframe to an interactive table.\"\n",
       "              style=\"display:none;\">\n",
       "        \n",
       "  <svg xmlns=\"http://www.w3.org/2000/svg\" height=\"24px\"viewBox=\"0 0 24 24\"\n",
       "       width=\"24px\">\n",
       "    <path d=\"M0 0h24v24H0V0z\" fill=\"none\"/>\n",
       "    <path d=\"M18.56 5.44l.94 2.06.94-2.06 2.06-.94-2.06-.94-.94-2.06-.94 2.06-2.06.94zm-11 1L8.5 8.5l.94-2.06 2.06-.94-2.06-.94L8.5 2.5l-.94 2.06-2.06.94zm10 10l.94 2.06.94-2.06 2.06-.94-2.06-.94-.94-2.06-.94 2.06-2.06.94z\"/><path d=\"M17.41 7.96l-1.37-1.37c-.4-.4-.92-.59-1.43-.59-.52 0-1.04.2-1.43.59L10.3 9.45l-7.72 7.72c-.78.78-.78 2.05 0 2.83L4 21.41c.39.39.9.59 1.41.59.51 0 1.02-.2 1.41-.59l7.78-7.78 2.81-2.81c.8-.78.8-2.07 0-2.86zM5.41 20L4 18.59l7.72-7.72 1.47 1.35L5.41 20z\"/>\n",
       "  </svg>\n",
       "      </button>\n",
       "      \n",
       "  <style>\n",
       "    .colab-df-container {\n",
       "      display:flex;\n",
       "      flex-wrap:wrap;\n",
       "      gap: 12px;\n",
       "    }\n",
       "\n",
       "    .colab-df-convert {\n",
       "      background-color: #E8F0FE;\n",
       "      border: none;\n",
       "      border-radius: 50%;\n",
       "      cursor: pointer;\n",
       "      display: none;\n",
       "      fill: #1967D2;\n",
       "      height: 32px;\n",
       "      padding: 0 0 0 0;\n",
       "      width: 32px;\n",
       "    }\n",
       "\n",
       "    .colab-df-convert:hover {\n",
       "      background-color: #E2EBFA;\n",
       "      box-shadow: 0px 1px 2px rgba(60, 64, 67, 0.3), 0px 1px 3px 1px rgba(60, 64, 67, 0.15);\n",
       "      fill: #174EA6;\n",
       "    }\n",
       "\n",
       "    [theme=dark] .colab-df-convert {\n",
       "      background-color: #3B4455;\n",
       "      fill: #D2E3FC;\n",
       "    }\n",
       "\n",
       "    [theme=dark] .colab-df-convert:hover {\n",
       "      background-color: #434B5C;\n",
       "      box-shadow: 0px 1px 3px 1px rgba(0, 0, 0, 0.15);\n",
       "      filter: drop-shadow(0px 1px 2px rgba(0, 0, 0, 0.3));\n",
       "      fill: #FFFFFF;\n",
       "    }\n",
       "  </style>\n",
       "\n",
       "      <script>\n",
       "        const buttonEl =\n",
       "          document.querySelector('#df-5707f05d-d9a0-4c91-8740-536d88a46418 button.colab-df-convert');\n",
       "        buttonEl.style.display =\n",
       "          google.colab.kernel.accessAllowed ? 'block' : 'none';\n",
       "\n",
       "        async function convertToInteractive(key) {\n",
       "          const element = document.querySelector('#df-5707f05d-d9a0-4c91-8740-536d88a46418');\n",
       "          const dataTable =\n",
       "            await google.colab.kernel.invokeFunction('convertToInteractive',\n",
       "                                                     [key], {});\n",
       "          if (!dataTable) return;\n",
       "\n",
       "          const docLinkHtml = 'Like what you see? Visit the ' +\n",
       "            '<a target=\"_blank\" href=https://colab.research.google.com/notebooks/data_table.ipynb>data table notebook</a>'\n",
       "            + ' to learn more about interactive tables.';\n",
       "          element.innerHTML = '';\n",
       "          dataTable['output_type'] = 'display_data';\n",
       "          await google.colab.output.renderOutput(dataTable, element);\n",
       "          const docLink = document.createElement('div');\n",
       "          docLink.innerHTML = docLinkHtml;\n",
       "          element.appendChild(docLink);\n",
       "        }\n",
       "      </script>\n",
       "    </div>\n",
       "  </div>\n",
       "  "
      ],
      "text/plain": [
       "            latitud      longitud  place_l6  property_rooms  \\\n",
       "count  57103.000000  57103.000000       0.0    50765.000000   \n",
       "mean     -34.284699    -59.522774       NaN        3.278499   \n",
       "std        3.028603      2.860077       NaN        1.893980   \n",
       "min      -54.832057    -83.276187       NaN        1.000000   \n",
       "25%      -34.644631    -58.885654       NaN        2.000000   \n",
       "50%      -34.586182    -58.486522       NaN        3.000000   \n",
       "75%      -34.426166    -58.404681       NaN        4.000000   \n",
       "max       42.440292    -35.044991       NaN       35.000000   \n",
       "\n",
       "       property_bedrooms  property_surface_total  property_surface_covered  \\\n",
       "count       47432.000000            54614.000000              5.810900e+04   \n",
       "mean            2.296677              372.878896              6.445757e+02   \n",
       "std             1.487476             3709.300125              3.112059e+04   \n",
       "min            -1.000000               10.000000              1.000000e+00   \n",
       "25%             1.000000               50.000000              4.500000e+01   \n",
       "50%             2.000000               87.000000              7.600000e+01   \n",
       "75%             3.000000              206.000000              1.650000e+02   \n",
       "max            74.000000           200000.000000              5.000000e+06   \n",
       "\n",
       "       property_price  \n",
       "count    6.017200e+04  \n",
       "mean     2.885600e+05  \n",
       "std      4.910084e+06  \n",
       "min      0.000000e+00  \n",
       "25%      4.300000e+04  \n",
       "50%      9.650500e+04  \n",
       "75%      1.980000e+05  \n",
       "max      1.111111e+09  "
      ]
     },
     "execution_count": 125,
     "metadata": {},
     "output_type": "execute_result"
    }
   ],
   "source": [
    "df.describe()"
   ]
  },
  {
   "cell_type": "code",
   "execution_count": 126,
   "metadata": {
    "colab": {
     "base_uri": "https://localhost:8080/"
    },
    "id": "OWjVXHGiLQON",
    "outputId": "81c938c4-10fe-4a3f-e385-b3f79e9dd899",
    "pycharm": {
     "name": "#%%\n"
    }
   },
   "outputs": [
    {
     "name": "stdout",
     "output_type": "stream",
     "text": [
      "<class 'pandas.core.frame.DataFrame'>\n",
      "RangeIndex: 62633 entries, 0 to 62632\n",
      "Data columns (total 20 columns):\n",
      " #   Column                    Non-Null Count  Dtype  \n",
      "---  ------                    --------------  -----  \n",
      " 0   id                        62633 non-null  object \n",
      " 1   start_date                62633 non-null  object \n",
      " 2   end_date                  62633 non-null  object \n",
      " 3   created_on                62633 non-null  object \n",
      " 4   latitud                   57103 non-null  float64\n",
      " 5   longitud                  57103 non-null  float64\n",
      " 6   place_l2                  62633 non-null  object \n",
      " 7   place_l3                  59749 non-null  object \n",
      " 8   place_l4                  18796 non-null  object \n",
      " 9   place_l5                  356 non-null    object \n",
      " 10  place_l6                  0 non-null      float64\n",
      " 11  operation                 62632 non-null  object \n",
      " 12  property_type             62632 non-null  object \n",
      " 13  property_rooms            50765 non-null  float64\n",
      " 14  property_bedrooms         47432 non-null  float64\n",
      " 15  property_surface_total    54614 non-null  float64\n",
      " 16  property_surface_covered  58109 non-null  float64\n",
      " 17  property_price            60172 non-null  float64\n",
      " 18  property_currency         60064 non-null  object \n",
      " 19  property_title            62632 non-null  object \n",
      "dtypes: float64(8), object(12)\n",
      "memory usage: 9.6+ MB\n"
     ]
    }
   ],
   "source": [
    "df.info()"
   ]
  },
  {
   "cell_type": "code",
   "execution_count": 127,
   "metadata": {
    "colab": {
     "base_uri": "https://localhost:8080/"
    },
    "id": "Nw3ltYSpLQOO",
    "outputId": "f6eaf044-0e60-4f85-c754-e9570d5985b6",
    "pycharm": {
     "name": "#%%\n"
    }
   },
   "outputs": [
    {
     "data": {
      "text/plain": [
       "id                           object\n",
       "start_date                   object\n",
       "end_date                     object\n",
       "created_on                   object\n",
       "latitud                     float64\n",
       "longitud                    float64\n",
       "place_l2                     object\n",
       "place_l3                     object\n",
       "place_l4                     object\n",
       "place_l5                     object\n",
       "place_l6                    float64\n",
       "operation                    object\n",
       "property_type                object\n",
       "property_rooms              float64\n",
       "property_bedrooms           float64\n",
       "property_surface_total      float64\n",
       "property_surface_covered    float64\n",
       "property_price              float64\n",
       "property_currency            object\n",
       "property_title               object\n",
       "dtype: object"
      ]
     },
     "execution_count": 127,
     "metadata": {},
     "output_type": "execute_result"
    }
   ],
   "source": [
    "df.dtypes"
   ]
  },
  {
   "cell_type": "markdown",
   "metadata": {
    "id": "jxoknznjLQOO",
    "pycharm": {
     "name": "#%% md\n"
    }
   },
   "source": [
    "## Descripción de las columnas\n",
    "- type - Tipo de aviso (Propiedad, Desarrollo/Proyecto).\n",
    "- country - País en el que está publicado el aviso (Argentina, Uruguay, Colombia, Ecuador, Perú)\n",
    "- id - Identificador del aviso. No es único: si el aviso es actualizado por la inmobiliaria (nueva versión del aviso) se crea un nuevo registro con la misma id pero distintas fechas: de alta y de baja.\n",
    "- start_date - Fecha de alta del aviso.\n",
    "- end_date - Fecha de baja del aviso.\n",
    "- created_on - Fecha de alta de la primera versión del aviso.\n",
    "- place - Campos referidos a la ubicación de la propiedad o del desarrollo.\n",
    "\n",
    "   - lat - Latitud.\n",
    "\n",
    "   - lon - Longitud.\n",
    "\n",
    "   - l1 - Nivel administrativo 1: país.\n",
    "\n",
    "   - l2 - Nivel administrativo 2: usualmente provincia.\n",
    "\n",
    "   - l3 - Nivel administrativo 3: usualmente ciudad.\n",
    "\n",
    "   - l4 - Nivel administrativo 4: usualmente barrio.\n",
    "- property - Campos relativos a la propiedad (vacío si el aviso es de un desarrollo/proyecto).\n",
    "\n",
    "   - operation - Tipo de operación (Venta, Alquiler).\n",
    "\n",
    "   - type - Tipo de propiedad (Casa, Departamento, PH).\n",
    "\n",
    "   - rooms - Cantidad de ambientes (útil en Argentina).\n",
    "\n",
    "   - bedrooms - Cantidad de dormitorios (útil en el resto de los países).\n",
    "\n",
    "   - bathrooms - Cantidad de baños.\n",
    "\n",
    "   - surface_total - Superficie total en m².\n",
    "\n",
    "   - surface_covered - Superficie cubierta en m².\n",
    "\n",
    "   - price - Precio publicado en el anuncio.\n",
    "\n",
    "   - currency - Moneda del precio publicado.\n",
    "\n",
    "   - price_period - Periodo del precio (Diario, Semanal, Mensual)\n",
    "\n",
    "   - title - Título del anuncio.\n",
    "\n",
    "   - description - Descripción del anuncio.\n",
    "- development - Campos relativos al desarrollo inmobiliario (vacío si el aviso es de una propiedad).\n",
    "- status - Estado del desarrollo (Terminado, En construcción, ...)\n",
    "- name - Nombre del desarrollo.\n",
    "- short_description - Descripción corta del anuncio.\n",
    "- description - Descripción del anuncio.\n"
   ]
  },
  {
   "cell_type": "markdown",
   "metadata": {
    "id": "JwgUVMIBLQOP",
    "pycharm": {
     "name": "#%% md\n"
    }
   },
   "source": [
    "## Filtrado inicial del Dataset\n",
    "Como trabajaremos con un universo acotado de propiedades, haremos una selección inicial de las publicaciones que nos interesa analizar:\n",
    "\n",
    "Como primer paso hay que filtrar las observaciones que su tipo de vivienda sea: Casa, PH o Departamento.\n",
    "\n",
    "Luego filtramos la ubicacion quedandonos unicamente con las propiedades de Capital Federal.\n",
    "\n",
    "A continuación, consideraremos solo las que esten cotizadas en dolares.\n",
    "\n",
    "Y finalmente, tomamos solo las que sean ventas"
   ]
  },
  {
   "cell_type": "code",
   "execution_count": 128,
   "metadata": {
    "colab": {
     "base_uri": "https://localhost:8080/",
     "height": 424
    },
    "id": "1DujzqFCLQOP",
    "outputId": "4df37bdb-48e8-41b6-eab3-ca40c011addc",
    "pycharm": {
     "name": "#%%\n"
    }
   },
   "outputs": [
    {
     "data": {
      "text/html": [
       "\n",
       "  <div id=\"df-cb4a40bb-c950-44e7-9389-fa31186b14c4\">\n",
       "    <div class=\"colab-df-container\">\n",
       "      <div>\n",
       "<style scoped>\n",
       "    .dataframe tbody tr th:only-of-type {\n",
       "        vertical-align: middle;\n",
       "    }\n",
       "\n",
       "    .dataframe tbody tr th {\n",
       "        vertical-align: top;\n",
       "    }\n",
       "\n",
       "    .dataframe thead th {\n",
       "        text-align: right;\n",
       "    }\n",
       "</style>\n",
       "<table border=\"1\" class=\"dataframe\">\n",
       "  <thead>\n",
       "    <tr style=\"text-align: right;\">\n",
       "      <th></th>\n",
       "      <th>place_l2</th>\n",
       "      <th>place_l3</th>\n",
       "      <th>property_currency</th>\n",
       "      <th>property_type</th>\n",
       "      <th>operation</th>\n",
       "    </tr>\n",
       "  </thead>\n",
       "  <tbody>\n",
       "    <tr>\n",
       "      <th>25</th>\n",
       "      <td>Capital Federal</td>\n",
       "      <td>NaN</td>\n",
       "      <td>USD</td>\n",
       "      <td>Casa</td>\n",
       "      <td>Venta</td>\n",
       "    </tr>\n",
       "    <tr>\n",
       "      <th>42</th>\n",
       "      <td>Capital Federal</td>\n",
       "      <td>Boca</td>\n",
       "      <td>USD</td>\n",
       "      <td>Departamento</td>\n",
       "      <td>Venta</td>\n",
       "    </tr>\n",
       "    <tr>\n",
       "      <th>43</th>\n",
       "      <td>Capital Federal</td>\n",
       "      <td>Boca</td>\n",
       "      <td>USD</td>\n",
       "      <td>Departamento</td>\n",
       "      <td>Venta</td>\n",
       "    </tr>\n",
       "    <tr>\n",
       "      <th>49</th>\n",
       "      <td>Capital Federal</td>\n",
       "      <td>Once</td>\n",
       "      <td>USD</td>\n",
       "      <td>Departamento</td>\n",
       "      <td>Venta</td>\n",
       "    </tr>\n",
       "    <tr>\n",
       "      <th>51</th>\n",
       "      <td>Capital Federal</td>\n",
       "      <td>Boedo</td>\n",
       "      <td>USD</td>\n",
       "      <td>PH</td>\n",
       "      <td>Venta</td>\n",
       "    </tr>\n",
       "    <tr>\n",
       "      <th>...</th>\n",
       "      <td>...</td>\n",
       "      <td>...</td>\n",
       "      <td>...</td>\n",
       "      <td>...</td>\n",
       "      <td>...</td>\n",
       "    </tr>\n",
       "    <tr>\n",
       "      <th>62607</th>\n",
       "      <td>Capital Federal</td>\n",
       "      <td>Saavedra</td>\n",
       "      <td>USD</td>\n",
       "      <td>PH</td>\n",
       "      <td>Venta</td>\n",
       "    </tr>\n",
       "    <tr>\n",
       "      <th>62608</th>\n",
       "      <td>Capital Federal</td>\n",
       "      <td>Caballito</td>\n",
       "      <td>USD</td>\n",
       "      <td>PH</td>\n",
       "      <td>Venta</td>\n",
       "    </tr>\n",
       "    <tr>\n",
       "      <th>62609</th>\n",
       "      <td>Capital Federal</td>\n",
       "      <td>Chacarita</td>\n",
       "      <td>USD</td>\n",
       "      <td>PH</td>\n",
       "      <td>Venta</td>\n",
       "    </tr>\n",
       "    <tr>\n",
       "      <th>62612</th>\n",
       "      <td>Capital Federal</td>\n",
       "      <td>Villa Devoto</td>\n",
       "      <td>USD</td>\n",
       "      <td>PH</td>\n",
       "      <td>Venta</td>\n",
       "    </tr>\n",
       "    <tr>\n",
       "      <th>62613</th>\n",
       "      <td>Capital Federal</td>\n",
       "      <td>Villa Devoto</td>\n",
       "      <td>USD</td>\n",
       "      <td>PH</td>\n",
       "      <td>Venta</td>\n",
       "    </tr>\n",
       "  </tbody>\n",
       "</table>\n",
       "<p>12929 rows × 5 columns</p>\n",
       "</div>\n",
       "      <button class=\"colab-df-convert\" onclick=\"convertToInteractive('df-cb4a40bb-c950-44e7-9389-fa31186b14c4')\"\n",
       "              title=\"Convert this dataframe to an interactive table.\"\n",
       "              style=\"display:none;\">\n",
       "        \n",
       "  <svg xmlns=\"http://www.w3.org/2000/svg\" height=\"24px\"viewBox=\"0 0 24 24\"\n",
       "       width=\"24px\">\n",
       "    <path d=\"M0 0h24v24H0V0z\" fill=\"none\"/>\n",
       "    <path d=\"M18.56 5.44l.94 2.06.94-2.06 2.06-.94-2.06-.94-.94-2.06-.94 2.06-2.06.94zm-11 1L8.5 8.5l.94-2.06 2.06-.94-2.06-.94L8.5 2.5l-.94 2.06-2.06.94zm10 10l.94 2.06.94-2.06 2.06-.94-2.06-.94-.94-2.06-.94 2.06-2.06.94z\"/><path d=\"M17.41 7.96l-1.37-1.37c-.4-.4-.92-.59-1.43-.59-.52 0-1.04.2-1.43.59L10.3 9.45l-7.72 7.72c-.78.78-.78 2.05 0 2.83L4 21.41c.39.39.9.59 1.41.59.51 0 1.02-.2 1.41-.59l7.78-7.78 2.81-2.81c.8-.78.8-2.07 0-2.86zM5.41 20L4 18.59l7.72-7.72 1.47 1.35L5.41 20z\"/>\n",
       "  </svg>\n",
       "      </button>\n",
       "      \n",
       "  <style>\n",
       "    .colab-df-container {\n",
       "      display:flex;\n",
       "      flex-wrap:wrap;\n",
       "      gap: 12px;\n",
       "    }\n",
       "\n",
       "    .colab-df-convert {\n",
       "      background-color: #E8F0FE;\n",
       "      border: none;\n",
       "      border-radius: 50%;\n",
       "      cursor: pointer;\n",
       "      display: none;\n",
       "      fill: #1967D2;\n",
       "      height: 32px;\n",
       "      padding: 0 0 0 0;\n",
       "      width: 32px;\n",
       "    }\n",
       "\n",
       "    .colab-df-convert:hover {\n",
       "      background-color: #E2EBFA;\n",
       "      box-shadow: 0px 1px 2px rgba(60, 64, 67, 0.3), 0px 1px 3px 1px rgba(60, 64, 67, 0.15);\n",
       "      fill: #174EA6;\n",
       "    }\n",
       "\n",
       "    [theme=dark] .colab-df-convert {\n",
       "      background-color: #3B4455;\n",
       "      fill: #D2E3FC;\n",
       "    }\n",
       "\n",
       "    [theme=dark] .colab-df-convert:hover {\n",
       "      background-color: #434B5C;\n",
       "      box-shadow: 0px 1px 3px 1px rgba(0, 0, 0, 0.15);\n",
       "      filter: drop-shadow(0px 1px 2px rgba(0, 0, 0, 0.3));\n",
       "      fill: #FFFFFF;\n",
       "    }\n",
       "  </style>\n",
       "\n",
       "      <script>\n",
       "        const buttonEl =\n",
       "          document.querySelector('#df-cb4a40bb-c950-44e7-9389-fa31186b14c4 button.colab-df-convert');\n",
       "        buttonEl.style.display =\n",
       "          google.colab.kernel.accessAllowed ? 'block' : 'none';\n",
       "\n",
       "        async function convertToInteractive(key) {\n",
       "          const element = document.querySelector('#df-cb4a40bb-c950-44e7-9389-fa31186b14c4');\n",
       "          const dataTable =\n",
       "            await google.colab.kernel.invokeFunction('convertToInteractive',\n",
       "                                                     [key], {});\n",
       "          if (!dataTable) return;\n",
       "\n",
       "          const docLinkHtml = 'Like what you see? Visit the ' +\n",
       "            '<a target=\"_blank\" href=https://colab.research.google.com/notebooks/data_table.ipynb>data table notebook</a>'\n",
       "            + ' to learn more about interactive tables.';\n",
       "          element.innerHTML = '';\n",
       "          dataTable['output_type'] = 'display_data';\n",
       "          await google.colab.output.renderOutput(dataTable, element);\n",
       "          const docLink = document.createElement('div');\n",
       "          docLink.innerHTML = docLinkHtml;\n",
       "          element.appendChild(docLink);\n",
       "        }\n",
       "      </script>\n",
       "    </div>\n",
       "  </div>\n",
       "  "
      ],
      "text/plain": [
       "              place_l2      place_l3 property_currency property_type operation\n",
       "25     Capital Federal           NaN               USD          Casa     Venta\n",
       "42     Capital Federal          Boca               USD  Departamento     Venta\n",
       "43     Capital Federal          Boca               USD  Departamento     Venta\n",
       "49     Capital Federal          Once               USD  Departamento     Venta\n",
       "51     Capital Federal         Boedo               USD            PH     Venta\n",
       "...                ...           ...               ...           ...       ...\n",
       "62607  Capital Federal      Saavedra               USD            PH     Venta\n",
       "62608  Capital Federal     Caballito               USD            PH     Venta\n",
       "62609  Capital Federal     Chacarita               USD            PH     Venta\n",
       "62612  Capital Federal  Villa Devoto               USD            PH     Venta\n",
       "62613  Capital Federal  Villa Devoto               USD            PH     Venta\n",
       "\n",
       "[12929 rows x 5 columns]"
      ]
     },
     "execution_count": 128,
     "metadata": {},
     "output_type": "execute_result"
    }
   ],
   "source": [
    "df_tipo_vivienda = df[(df.property_type == \"Casa\") | (df.property_type == \"PH\") | (df.property_type == \"Departamento\")]\n",
    "df_por_ubicacion = df_tipo_vivienda[\n",
    "    (df_tipo_vivienda.place_l2 == \"Capital Federal\") | (df_tipo_vivienda.place_l3 == \"Capital Federal\")]\n",
    "df_cotizacion_usd = df_por_ubicacion[df_por_ubicacion.property_currency == \"USD\"]\n",
    "ds_filtrado = df_cotizacion_usd[df_cotizacion_usd.operation == \"Venta\"]\n",
    "\n",
    "ds_filtrado[[\"place_l2\", \"place_l3\", \"property_currency\", \"property_type\", \"operation\"]]"
   ]
  },
  {
   "cell_type": "markdown",
   "metadata": {
    "id": "xRGSuR5JLQOQ",
    "pycharm": {
     "name": "#%% md\n"
    }
   },
   "source": [
    "A partir de aquí trabajaremos con el dataset filtrado (`ds_filtrado`)\n",
    "\n",
    "Analizando los tipos de dato de los campos:\n",
    "- Hay 3 campos de fecha, evaluaremos más adelante como tratarlos.\n",
    "- Tenemos latitud y longitd en su formato correcto\n",
    "- Hay una variable place_l6 que no debería ser un número, también analizaremos a que se debe.\n",
    "- La cantidad de habitaciones (rooms y bedrooms) quizás debería tener valores enteros.\n",
    "- El precio tiene un tipo correcto"
   ]
  },
  {
   "cell_type": "markdown",
   "metadata": {
    "id": "NhbTz94XLQOQ",
    "pycharm": {
     "name": "#%% md\n"
    }
   },
   "source": [
    "## Exploración Inicial"
   ]
  },
  {
   "cell_type": "markdown",
   "metadata": {
    "id": "WzgZZ3DvLQOQ",
    "pycharm": {
     "name": "#%% md\n"
    }
   },
   "source": [
    "### Tipos de variable"
   ]
  },
  {
   "cell_type": "code",
   "execution_count": 129,
   "metadata": {
    "colab": {
     "base_uri": "https://localhost:8080/"
    },
    "id": "R5A31s5gLQOR",
    "outputId": "22439d1b-1239-46e4-cc45-ece2ba2a8903",
    "pycharm": {
     "name": "#%%\n"
    }
   },
   "outputs": [
    {
     "data": {
      "text/plain": [
       "{'Categoricas': ['start_date',\n",
       "  'end_date',\n",
       "  'place_l2',\n",
       "  'place_l3',\n",
       "  'place_l4',\n",
       "  'place_l5',\n",
       "  'place_l6',\n",
       "  'operation',\n",
       "  'property_type',\n",
       "  'property_currency',\n",
       "  'property_title'],\n",
       " 'Ordinales': [],\n",
       " 'Cuantitativas Discretas': ['property_rooms',\n",
       "  'property_bedrooms',\n",
       "  'property_surface_total',\n",
       "  'property_surface_covered'],\n",
       " 'Cuantitativas Continuas': ['property_rooms',\n",
       "  'property_bedrooms',\n",
       "  'property_surface_total',\n",
       "  'property_surface_covered']}"
      ]
     },
     "execution_count": 129,
     "metadata": {},
     "output_type": "execute_result"
    }
   ],
   "source": [
    "# TODO: Tipos de variables\n",
    "\n",
    "# Categoricas o Cuantitivas\n",
    "    # Fechas -> Start Date y End Date\n",
    "    # Places -> l2, l3, l4, l5, l6\n",
    "    # Operacion\n",
    "    # Tipo de Propiedad\n",
    "    # Currency\n",
    "    # Property Title\n",
    "\n",
    "# Cuasicuantitativas u ordinales\n",
    "\n",
    "# Cuantitativas discretas\n",
    "    # Rooms\n",
    "    # Bedrooms\n",
    "    # Surface -> Total y Covered\n",
    "    # Price\n",
    "\n",
    "# Cuantitativas continuas\n",
    "    # Latitud y Longitud\n",
    "\n",
    "\n",
    "categoricas = ['start_date', 'end_date', 'place_l2', 'place_l3', 'place_l4', 'place_l5', 'place_l6', 'operation', 'property_type', 'property_currency', 'property_title']\n",
    "cuantitativas_discretas = ['property_rooms', 'property_bedrooms', 'property_surface_total', 'property_surface_covered']\n",
    "cuantitativas_continuas = ['latitud', 'longitud']\n",
    "tipos_de_variable = {'Categoricas': categoricas, 'Ordinales': [], 'Cuantitativas Discretas': cuantitativas_discretas, 'Cuantitativas Continuas': cuantitativas_discretas}\n",
    "\n",
    "cuantitativas = cuantitativas_discretas + cuantitativas_continuas\n",
    "\n",
    "tipos_de_variable"
   ]
  },
  {
   "cell_type": "markdown",
   "metadata": {
    "id": "1az7CMHPLQOR",
    "pycharm": {
     "name": "#%% md\n"
    }
   },
   "source": [
    "### Fechas\n"
   ]
  },
  {
   "cell_type": "code",
   "execution_count": 130,
   "metadata": {
    "colab": {
     "base_uri": "https://localhost:8080/"
    },
    "id": "sZ2ccgNXLQOR",
    "outputId": "c56f01e5-1b38-4f27-b8eb-5af0b7b13229",
    "pycharm": {
     "name": "#%%\n"
    }
   },
   "outputs": [
    {
     "data": {
      "text/plain": [
       "start_date    0\n",
       "end_date      0\n",
       "created_on    0\n",
       "dtype: int64"
      ]
     },
     "execution_count": 130,
     "metadata": {},
     "output_type": "execute_result"
    }
   ],
   "source": [
    "ds_filtrado[[\"start_date\", \"end_date\", \"created_on\"]].isna().sum()"
   ]
  },
  {
   "cell_type": "code",
   "execution_count": 131,
   "metadata": {
    "colab": {
     "base_uri": "https://localhost:8080/"
    },
    "id": "H3n_AqhzLQOS",
    "outputId": "d8307d97-bc83-49ab-c370-bfde519e56d4",
    "pycharm": {
     "name": "#%%\n"
    }
   },
   "outputs": [
    {
     "data": {
      "text/plain": [
       "2021-02-08    645\n",
       "2021-06-24    534\n",
       "2021-05-18    503\n",
       "2021-10-01    493\n",
       "2021-09-22    472\n",
       "             ... \n",
       "2021-08-01     28\n",
       "2021-12-05     23\n",
       "2021-11-21     18\n",
       "2021-12-19     13\n",
       "2021-02-06      9\n",
       "Name: start_date, Length: 63, dtype: int64"
      ]
     },
     "execution_count": 131,
     "metadata": {},
     "output_type": "execute_result"
    }
   ],
   "source": [
    "ds_filtrado[\"start_date\"].value_counts()"
   ]
  },
  {
   "cell_type": "code",
   "execution_count": 132,
   "metadata": {
    "colab": {
     "base_uri": "https://localhost:8080/"
    },
    "id": "LKcPiKQKLQOS",
    "outputId": "f97204c8-e260-435a-e102-c135d25896f0",
    "pycharm": {
     "name": "#%%\n"
    }
   },
   "outputs": [
    {
     "data": {
      "text/plain": [
       "2021-06-05    1757\n",
       "2022-01-27    1038\n",
       "9999-12-31     897\n",
       "2022-02-09     705\n",
       "2022-03-09     340\n",
       "              ... \n",
       "2022-01-31       1\n",
       "2022-01-30       1\n",
       "2022-07-18       1\n",
       "2022-02-21       1\n",
       "2021-06-27       1\n",
       "Name: end_date, Length: 546, dtype: int64"
      ]
     },
     "execution_count": 132,
     "metadata": {},
     "output_type": "execute_result"
    }
   ],
   "source": [
    "ds_filtrado[\"end_date\"].value_counts()"
   ]
  },
  {
   "cell_type": "code",
   "execution_count": 133,
   "metadata": {
    "colab": {
     "base_uri": "https://localhost:8080/"
    },
    "id": "zb6z92oNLQOS",
    "outputId": "e0d851bb-6778-441f-a769-8b36a1e78c9e",
    "pycharm": {
     "name": "#%%\n"
    }
   },
   "outputs": [
    {
     "data": {
      "text/plain": [
       "(0, 20)"
      ]
     },
     "execution_count": 133,
     "metadata": {},
     "output_type": "execute_result"
    }
   ],
   "source": [
    "ds_filtrado[ds_filtrado.created_on != ds_filtrado.start_date].shape"
   ]
  },
  {
   "cell_type": "markdown",
   "metadata": {
    "id": "KCYl52qNLQOT",
    "pycharm": {
     "name": "#%% md\n"
    }
   },
   "source": [
    "Podemos ver que la columnas created_on y start_date siempre son iguales, descartaremos una de ellas más adelante."
   ]
  },
  {
   "cell_type": "code",
   "execution_count": 134,
   "metadata": {
    "colab": {
     "base_uri": "https://localhost:8080/"
    },
    "id": "7AOH_EYSLQOT",
    "outputId": "19fc4656-d58b-4f34-ad16-59534ade0924",
    "pycharm": {
     "name": "#%%\n"
    }
   },
   "outputs": [
    {
     "data": {
      "text/plain": [
       "2021-02-08    645\n",
       "2021-06-24    534\n",
       "2021-05-18    503\n",
       "2021-10-01    493\n",
       "2021-09-22    472\n",
       "             ... \n",
       "2021-08-01     28\n",
       "2021-12-05     23\n",
       "2021-11-21     18\n",
       "2021-12-19     13\n",
       "2021-02-06      9\n",
       "Name: created_on, Length: 63, dtype: int64"
      ]
     },
     "execution_count": 134,
     "metadata": {},
     "output_type": "execute_result"
    }
   ],
   "source": [
    "ds_filtrado[\"created_on\"].value_counts()"
   ]
  },
  {
   "cell_type": "markdown",
   "metadata": {
    "id": "Xj7wKTngLQOT",
    "pycharm": {
     "name": "#%% md\n"
    }
   },
   "source": [
    "Hay un valor extraño en end_date, la fecha 9999-12-31, hay 5041 apariciones de esta fecha"
   ]
  },
  {
   "cell_type": "code",
   "execution_count": 135,
   "metadata": {
    "colab": {
     "base_uri": "https://localhost:8080/"
    },
    "id": "wgJVsBimLQOT",
    "outputId": "8b06324a-6236-4caa-809c-9560ecc4c080",
    "pycharm": {
     "name": "#%%\n"
    }
   },
   "outputs": [
    {
     "data": {
      "text/plain": [
       "2021-02-09    132\n",
       "2021-06-24    122\n",
       "2021-07-06     66\n",
       "2021-07-30     47\n",
       "2021-06-10     44\n",
       "2021-07-19     42\n",
       "2021-07-05     41\n",
       "2021-02-08     40\n",
       "2021-01-25     37\n",
       "2021-06-23     26\n",
       "2021-01-26     26\n",
       "2021-01-27     25\n",
       "2021-01-13     22\n",
       "2021-02-20     19\n",
       "2021-10-15     19\n",
       "2021-08-28     14\n",
       "2021-11-23     13\n",
       "2021-10-29     13\n",
       "2021-01-11     13\n",
       "2021-10-16     12\n",
       "2021-07-31     11\n",
       "2021-08-16     11\n",
       "2021-01-12     10\n",
       "2021-08-01      9\n",
       "2021-08-14      8\n",
       "2021-08-15      8\n",
       "2021-12-17      7\n",
       "2021-07-04      7\n",
       "2021-09-22      6\n",
       "2021-08-29      6\n",
       "2021-12-03      6\n",
       "2021-07-18      5\n",
       "2021-02-07      4\n",
       "2021-04-21      3\n",
       "2021-04-09      2\n",
       "2021-04-20      2\n",
       "2021-10-17      2\n",
       "2021-12-30      2\n",
       "2021-02-06      2\n",
       "2021-03-29      2\n",
       "2021-09-20      2\n",
       "2021-03-28      1\n",
       "2021-05-02      1\n",
       "2021-09-21      1\n",
       "2021-12-04      1\n",
       "2021-12-19      1\n",
       "2021-05-03      1\n",
       "2021-10-01      1\n",
       "2021-05-18      1\n",
       "2021-09-09      1\n",
       "Name: start_date, dtype: int64"
      ]
     },
     "execution_count": 135,
     "metadata": {},
     "output_type": "execute_result"
    }
   ],
   "source": [
    "ds_filtrado[ds_filtrado.end_date == '9999-12-31']['start_date'].value_counts()"
   ]
  },
  {
   "cell_type": "markdown",
   "metadata": {
    "id": "zGaQ3WZRLQOT",
    "pycharm": {
     "name": "#%% md\n"
    }
   },
   "source": [
    "Considerando que todas las fechas son de 2021, y que el dato que falta es el del fin de la publicación (es decir, la casa esta publicada) y a fines de preservar estos datos, traeremos a consideración la duración promedio de cada publicación, calcularemos ese promedio dejando fuera los 5041 casos que presentan la fecha inválida.\n",
    "\n",
    "Tomaremos para el cálculo las fechas convertidas a datetime."
   ]
  },
  {
   "cell_type": "code",
   "execution_count": 136,
   "metadata": {
    "colab": {
     "base_uri": "https://localhost:8080/"
    },
    "id": "LdLL6aw6LQOU",
    "outputId": "8208eee2-c9c2-4861-8898-c7bb4fb967f9",
    "pycharm": {
     "name": "#%%\n"
    }
   },
   "outputs": [
    {
     "data": {
      "text/plain": [
       "count                         12032\n",
       "mean     80 days 11:45:16.755319149\n",
       "std      91 days 19:57:25.912059936\n",
       "min                 0 days 00:00:00\n",
       "25%                18 days 00:00:00\n",
       "50%                46 days 00:00:00\n",
       "75%               117 days 00:00:00\n",
       "max               611 days 00:00:00\n",
       "dtype: object"
      ]
     },
     "execution_count": 136,
     "metadata": {},
     "output_type": "execute_result"
    }
   ],
   "source": [
    "dias = pd.to_datetime(ds_filtrado[ds_filtrado.end_date != '9999-12-31']['end_date']) - pd.to_datetime(\n",
    "    ds_filtrado[ds_filtrado.end_date != '9999-12-31']['start_date'])\n",
    "dias.describe()"
   ]
  },
  {
   "cell_type": "markdown",
   "metadata": {
    "id": "MCC3ymMpLQOU",
    "pycharm": {
     "name": "#%% md\n"
    }
   },
   "source": [
    "El promedio de la duración de las publicaciones es casi de 75 días, asumiremos que las publicaciones con la fecha invalida duraron lo mismo que el promedio y tomaremos como fecha final la fecha de inicio + 75 días."
   ]
  },
  {
   "cell_type": "code",
   "execution_count": 137,
   "metadata": {
    "colab": {
     "base_uri": "https://localhost:8080/"
    },
    "id": "d4xRGen3LQOU",
    "outputId": "f49d476a-d2ad-478d-82a1-081e23c9f5b0",
    "pycharm": {
     "name": "#%%\n"
    }
   },
   "outputs": [
    {
     "name": "stderr",
     "output_type": "stream",
     "text": [
      "/usr/local/lib/python3.7/dist-packages/pandas/core/indexing.py:1773: SettingWithCopyWarning: \n",
      "A value is trying to be set on a copy of a slice from a DataFrame.\n",
      "Try using .loc[row_indexer,col_indexer] = value instead\n",
      "\n",
      "See the caveats in the documentation: https://pandas.pydata.org/pandas-docs/stable/user_guide/indexing.html#returning-a-view-versus-a-copy\n",
      "  self._setitem_single_column(ilocs[0], value, pi)\n"
     ]
    },
    {
     "data": {
      "text/plain": [
       "25                          2021-09-26\n",
       "42                          2021-09-26\n",
       "43                          2021-09-28\n",
       "49                          2022-01-05\n",
       "51                          2022-03-09\n",
       "                     ...              \n",
       "62607                       2021-06-05\n",
       "62608                       2021-02-09\n",
       "62609    2021-04-27 11:45:16.755319149\n",
       "62612    2021-04-27 11:45:16.755319149\n",
       "62613                       2021-02-18\n",
       "Name: end_date, Length: 12929, dtype: object"
      ]
     },
     "execution_count": 137,
     "metadata": {},
     "output_type": "execute_result"
    }
   ],
   "source": [
    "ds_filtrado.loc[ds_filtrado.end_date == '9999-12-31', 'end_date'] = pd.to_datetime(\n",
    "    ds_filtrado[ds_filtrado.end_date == '9999-12-31']['start_date']) + dias.mean()\n",
    "ds_filtrado.end_date"
   ]
  },
  {
   "cell_type": "markdown",
   "metadata": {
    "id": "X64AaYE0LQOU",
    "pycharm": {
     "name": "#%% md\n"
    }
   },
   "source": [
    "Finalmente, como todos los valores son formatos válidos de fecha, podemos convertir sin problemas."
   ]
  },
  {
   "cell_type": "markdown",
   "metadata": {
    "id": "5noSSMY0LQOU",
    "pycharm": {
     "name": "#%% md\n"
    }
   },
   "source": [
    "### Conversion tipo de dato"
   ]
  },
  {
   "cell_type": "code",
   "execution_count": 138,
   "metadata": {
    "colab": {
     "base_uri": "https://localhost:8080/"
    },
    "id": "mp8_BRoTLQOV",
    "outputId": "bce7e2f1-feb8-4a64-c475-e2181c04621a",
    "pycharm": {
     "name": "#%%\n"
    }
   },
   "outputs": [
    {
     "data": {
      "text/plain": [
       "id                                  object\n",
       "start_date                  datetime64[ns]\n",
       "end_date                    datetime64[ns]\n",
       "created_on                  datetime64[ns]\n",
       "latitud                            float64\n",
       "longitud                           float64\n",
       "place_l2                            object\n",
       "place_l3                            object\n",
       "place_l4                            object\n",
       "place_l5                            object\n",
       "place_l6                           float64\n",
       "operation                           object\n",
       "property_type                       object\n",
       "property_rooms                     float64\n",
       "property_bedrooms                  float64\n",
       "property_surface_total             float64\n",
       "property_surface_covered           float64\n",
       "property_price                     float64\n",
       "property_currency                   object\n",
       "property_title                      object\n",
       "dtype: object"
      ]
     },
     "execution_count": 138,
     "metadata": {},
     "output_type": "execute_result"
    }
   ],
   "source": [
    "new_ds = ds_filtrado.copy()\n",
    "new_ds.start_date = pd.to_datetime(new_ds.start_date, infer_datetime_format=True)\n",
    "new_ds.end_date = pd.to_datetime(new_ds.end_date, infer_datetime_format=True)\n",
    "new_ds.created_on = pd.to_datetime(new_ds.created_on, infer_datetime_format=True)\n",
    "ds_filtrado = new_ds.copy()\n",
    "ds_filtrado.dtypes"
   ]
  },
  {
   "cell_type": "markdown",
   "metadata": {
    "id": "1mXl9xLGLQOV",
    "pycharm": {
     "name": "#%% md\n"
    }
   },
   "source": [
    "## Variables Cuantitativas: calcular medidas de resumen: media, mediana, q1, q3, moda"
   ]
  },
  {
   "cell_type": "code",
   "execution_count": 139,
   "metadata": {
    "colab": {
     "base_uri": "https://localhost:8080/",
     "height": 332
    },
    "id": "DIC-CDrbLQOV",
    "outputId": "3851ce34-846b-45b2-953c-04a73b9da1b6",
    "pycharm": {
     "name": "#%%\n"
    }
   },
   "outputs": [
    {
     "data": {
      "text/html": [
       "\n",
       "  <div id=\"df-ac80419d-5a24-405c-a725-d23b01cf4a1b\">\n",
       "    <div class=\"colab-df-container\">\n",
       "      <div>\n",
       "<style scoped>\n",
       "    .dataframe tbody tr th:only-of-type {\n",
       "        vertical-align: middle;\n",
       "    }\n",
       "\n",
       "    .dataframe tbody tr th {\n",
       "        vertical-align: top;\n",
       "    }\n",
       "\n",
       "    .dataframe thead th {\n",
       "        text-align: right;\n",
       "    }\n",
       "</style>\n",
       "<table border=\"1\" class=\"dataframe\">\n",
       "  <thead>\n",
       "    <tr style=\"text-align: right;\">\n",
       "      <th></th>\n",
       "      <th>property_rooms</th>\n",
       "      <th>property_bedrooms</th>\n",
       "      <th>property_surface_total</th>\n",
       "      <th>property_surface_covered</th>\n",
       "      <th>latitud</th>\n",
       "      <th>longitud</th>\n",
       "    </tr>\n",
       "  </thead>\n",
       "  <tbody>\n",
       "    <tr>\n",
       "      <th>count</th>\n",
       "      <td>12747.000000</td>\n",
       "      <td>11396.000000</td>\n",
       "      <td>12230.000000</td>\n",
       "      <td>12413.000000</td>\n",
       "      <td>12405.000000</td>\n",
       "      <td>12405.000000</td>\n",
       "    </tr>\n",
       "    <tr>\n",
       "      <th>mean</th>\n",
       "      <td>2.804111</td>\n",
       "      <td>2.005879</td>\n",
       "      <td>94.190679</td>\n",
       "      <td>95.588899</td>\n",
       "      <td>-34.586178</td>\n",
       "      <td>-58.459855</td>\n",
       "    </tr>\n",
       "    <tr>\n",
       "      <th>std</th>\n",
       "      <td>1.417313</td>\n",
       "      <td>1.142985</td>\n",
       "      <td>155.257158</td>\n",
       "      <td>1950.726975</td>\n",
       "      <td>0.218587</td>\n",
       "      <td>0.372401</td>\n",
       "    </tr>\n",
       "    <tr>\n",
       "      <th>min</th>\n",
       "      <td>1.000000</td>\n",
       "      <td>1.000000</td>\n",
       "      <td>10.000000</td>\n",
       "      <td>1.000000</td>\n",
       "      <td>-41.163826</td>\n",
       "      <td>-71.438923</td>\n",
       "    </tr>\n",
       "    <tr>\n",
       "      <th>quartile 1</th>\n",
       "      <td>2.000000</td>\n",
       "      <td>1.000000</td>\n",
       "      <td>45.000000</td>\n",
       "      <td>40.000000</td>\n",
       "      <td>-34.616124</td>\n",
       "      <td>-58.467705</td>\n",
       "    </tr>\n",
       "    <tr>\n",
       "      <th>median</th>\n",
       "      <td>3.000000</td>\n",
       "      <td>2.000000</td>\n",
       "      <td>64.000000</td>\n",
       "      <td>57.000000</td>\n",
       "      <td>-34.595180</td>\n",
       "      <td>-58.440018</td>\n",
       "    </tr>\n",
       "    <tr>\n",
       "      <th>quartile 3</th>\n",
       "      <td>4.000000</td>\n",
       "      <td>3.000000</td>\n",
       "      <td>102.000000</td>\n",
       "      <td>87.000000</td>\n",
       "      <td>-34.576571</td>\n",
       "      <td>-58.409178</td>\n",
       "    </tr>\n",
       "    <tr>\n",
       "      <th>max</th>\n",
       "      <td>30.000000</td>\n",
       "      <td>32.000000</td>\n",
       "      <td>10500.000000</td>\n",
       "      <td>217000.000000</td>\n",
       "      <td>-24.770804</td>\n",
       "      <td>-58.343239</td>\n",
       "    </tr>\n",
       "    <tr>\n",
       "      <th>mode</th>\n",
       "      <td>3.000000</td>\n",
       "      <td>1.000000</td>\n",
       "      <td>50.000000</td>\n",
       "      <td>40.000000</td>\n",
       "      <td>-34.584596</td>\n",
       "      <td>-58.464357</td>\n",
       "    </tr>\n",
       "  </tbody>\n",
       "</table>\n",
       "</div>\n",
       "      <button class=\"colab-df-convert\" onclick=\"convertToInteractive('df-ac80419d-5a24-405c-a725-d23b01cf4a1b')\"\n",
       "              title=\"Convert this dataframe to an interactive table.\"\n",
       "              style=\"display:none;\">\n",
       "        \n",
       "  <svg xmlns=\"http://www.w3.org/2000/svg\" height=\"24px\"viewBox=\"0 0 24 24\"\n",
       "       width=\"24px\">\n",
       "    <path d=\"M0 0h24v24H0V0z\" fill=\"none\"/>\n",
       "    <path d=\"M18.56 5.44l.94 2.06.94-2.06 2.06-.94-2.06-.94-.94-2.06-.94 2.06-2.06.94zm-11 1L8.5 8.5l.94-2.06 2.06-.94-2.06-.94L8.5 2.5l-.94 2.06-2.06.94zm10 10l.94 2.06.94-2.06 2.06-.94-2.06-.94-.94-2.06-.94 2.06-2.06.94z\"/><path d=\"M17.41 7.96l-1.37-1.37c-.4-.4-.92-.59-1.43-.59-.52 0-1.04.2-1.43.59L10.3 9.45l-7.72 7.72c-.78.78-.78 2.05 0 2.83L4 21.41c.39.39.9.59 1.41.59.51 0 1.02-.2 1.41-.59l7.78-7.78 2.81-2.81c.8-.78.8-2.07 0-2.86zM5.41 20L4 18.59l7.72-7.72 1.47 1.35L5.41 20z\"/>\n",
       "  </svg>\n",
       "      </button>\n",
       "      \n",
       "  <style>\n",
       "    .colab-df-container {\n",
       "      display:flex;\n",
       "      flex-wrap:wrap;\n",
       "      gap: 12px;\n",
       "    }\n",
       "\n",
       "    .colab-df-convert {\n",
       "      background-color: #E8F0FE;\n",
       "      border: none;\n",
       "      border-radius: 50%;\n",
       "      cursor: pointer;\n",
       "      display: none;\n",
       "      fill: #1967D2;\n",
       "      height: 32px;\n",
       "      padding: 0 0 0 0;\n",
       "      width: 32px;\n",
       "    }\n",
       "\n",
       "    .colab-df-convert:hover {\n",
       "      background-color: #E2EBFA;\n",
       "      box-shadow: 0px 1px 2px rgba(60, 64, 67, 0.3), 0px 1px 3px 1px rgba(60, 64, 67, 0.15);\n",
       "      fill: #174EA6;\n",
       "    }\n",
       "\n",
       "    [theme=dark] .colab-df-convert {\n",
       "      background-color: #3B4455;\n",
       "      fill: #D2E3FC;\n",
       "    }\n",
       "\n",
       "    [theme=dark] .colab-df-convert:hover {\n",
       "      background-color: #434B5C;\n",
       "      box-shadow: 0px 1px 3px 1px rgba(0, 0, 0, 0.15);\n",
       "      filter: drop-shadow(0px 1px 2px rgba(0, 0, 0, 0.3));\n",
       "      fill: #FFFFFF;\n",
       "    }\n",
       "  </style>\n",
       "\n",
       "      <script>\n",
       "        const buttonEl =\n",
       "          document.querySelector('#df-ac80419d-5a24-405c-a725-d23b01cf4a1b button.colab-df-convert');\n",
       "        buttonEl.style.display =\n",
       "          google.colab.kernel.accessAllowed ? 'block' : 'none';\n",
       "\n",
       "        async function convertToInteractive(key) {\n",
       "          const element = document.querySelector('#df-ac80419d-5a24-405c-a725-d23b01cf4a1b');\n",
       "          const dataTable =\n",
       "            await google.colab.kernel.invokeFunction('convertToInteractive',\n",
       "                                                     [key], {});\n",
       "          if (!dataTable) return;\n",
       "\n",
       "          const docLinkHtml = 'Like what you see? Visit the ' +\n",
       "            '<a target=\"_blank\" href=https://colab.research.google.com/notebooks/data_table.ipynb>data table notebook</a>'\n",
       "            + ' to learn more about interactive tables.';\n",
       "          element.innerHTML = '';\n",
       "          dataTable['output_type'] = 'display_data';\n",
       "          await google.colab.output.renderOutput(dataTable, element);\n",
       "          const docLink = document.createElement('div');\n",
       "          docLink.innerHTML = docLinkHtml;\n",
       "          element.appendChild(docLink);\n",
       "        }\n",
       "      </script>\n",
       "    </div>\n",
       "  </div>\n",
       "  "
      ],
      "text/plain": [
       "            property_rooms  property_bedrooms  property_surface_total  \\\n",
       "count         12747.000000       11396.000000            12230.000000   \n",
       "mean              2.804111           2.005879               94.190679   \n",
       "std               1.417313           1.142985              155.257158   \n",
       "min               1.000000           1.000000               10.000000   \n",
       "quartile 1        2.000000           1.000000               45.000000   \n",
       "median            3.000000           2.000000               64.000000   \n",
       "quartile 3        4.000000           3.000000              102.000000   \n",
       "max              30.000000          32.000000            10500.000000   \n",
       "mode              3.000000           1.000000               50.000000   \n",
       "\n",
       "            property_surface_covered       latitud      longitud  \n",
       "count                   12413.000000  12405.000000  12405.000000  \n",
       "mean                       95.588899    -34.586178    -58.459855  \n",
       "std                      1950.726975      0.218587      0.372401  \n",
       "min                         1.000000    -41.163826    -71.438923  \n",
       "quartile 1                 40.000000    -34.616124    -58.467705  \n",
       "median                     57.000000    -34.595180    -58.440018  \n",
       "quartile 3                 87.000000    -34.576571    -58.409178  \n",
       "max                    217000.000000    -24.770804    -58.343239  \n",
       "mode                       40.000000    -34.584596    -58.464357  "
      ]
     },
     "execution_count": 139,
     "metadata": {},
     "output_type": "execute_result"
    }
   ],
   "source": [
    "# Variables Cuantitativas: calcular medidas de resumen: media, mediana, q1, q3, moda\n",
    "description_quantitatives = ds_filtrado[cuantitativas].describe()\n",
    "\n",
    "quantitative_mode = ds_filtrado[cuantitativas].mode()\n",
    "quantitative_mode.rename(index={0: \"mode\"}, inplace=True)\n",
    "description_quantitatives = description_quantitatives.append(quantitative_mode)\n",
    "\n",
    "description_quantitatives.rename(index={\"25%\":\"quartile 1\",\"50%\":\"median\",\"75%\":\"quartile 3\"}, inplace=True)\n",
    "description_quantitatives"
   ]
  },
  {
   "cell_type": "markdown",
   "metadata": {
    "id": "WoYpoj6SLQOV",
    "pycharm": {
     "name": "#%% md\n"
    }
   },
   "source": [
    "## Variables Cualitativas mostrar cantidad de valores posibles, y frecuencias de cada uno."
   ]
  },
  {
   "cell_type": "code",
   "execution_count": 140,
   "metadata": {
    "colab": {
     "base_uri": "https://localhost:8080/",
     "height": 312
    },
    "id": "r6rDs0cBLQOV",
    "outputId": "1380c097-a615-4359-be47-d5e07c62c8d3",
    "pycharm": {
     "name": "#%%\n"
    }
   },
   "outputs": [
    {
     "data": {
      "text/html": [
       "<style type=\"text/css\">\n",
       "</style>\n",
       "<table id=\"T_bcc32_\" style='display:inline'>\n",
       "  <caption>start_date</caption>\n",
       "  <thead>\n",
       "    <tr>\n",
       "      <th class=\"blank level0\" >&nbsp;</th>\n",
       "      <th class=\"col_heading level0 col0\" >start_date</th>\n",
       "    </tr>\n",
       "  </thead>\n",
       "  <tbody>\n",
       "    <tr>\n",
       "      <th id=\"T_bcc32_level0_row0\" class=\"row_heading level0 row0\" >2021-02-08 00:00:00</th>\n",
       "      <td id=\"T_bcc32_row0_col0\" class=\"data row0 col0\" >645</td>\n",
       "    </tr>\n",
       "    <tr>\n",
       "      <th id=\"T_bcc32_level0_row1\" class=\"row_heading level0 row1\" >2021-06-24 00:00:00</th>\n",
       "      <td id=\"T_bcc32_row1_col0\" class=\"data row1 col0\" >534</td>\n",
       "    </tr>\n",
       "    <tr>\n",
       "      <th id=\"T_bcc32_level0_row2\" class=\"row_heading level0 row2\" >2021-05-18 00:00:00</th>\n",
       "      <td id=\"T_bcc32_row2_col0\" class=\"data row2 col0\" >503</td>\n",
       "    </tr>\n",
       "    <tr>\n",
       "      <th id=\"T_bcc32_level0_row3\" class=\"row_heading level0 row3\" >2021-10-01 00:00:00</th>\n",
       "      <td id=\"T_bcc32_row3_col0\" class=\"data row3 col0\" >493</td>\n",
       "    </tr>\n",
       "    <tr>\n",
       "      <th id=\"T_bcc32_level0_row4\" class=\"row_heading level0 row4\" >2021-09-22 00:00:00</th>\n",
       "      <td id=\"T_bcc32_row4_col0\" class=\"data row4 col0\" >472</td>\n",
       "    </tr>\n",
       "  </tbody>\n",
       "</table>\n",
       "   <style type=\"text/css\">\n",
       "</style>\n",
       "<table id=\"T_d1fa8_\" style='display:inline'>\n",
       "  <caption>end_date</caption>\n",
       "  <thead>\n",
       "    <tr>\n",
       "      <th class=\"blank level0\" >&nbsp;</th>\n",
       "      <th class=\"col_heading level0 col0\" >end_date</th>\n",
       "    </tr>\n",
       "  </thead>\n",
       "  <tbody>\n",
       "    <tr>\n",
       "      <th id=\"T_d1fa8_level0_row0\" class=\"row_heading level0 row0\" >2021-06-05 00:00:00</th>\n",
       "      <td id=\"T_d1fa8_row0_col0\" class=\"data row0 col0\" >1757</td>\n",
       "    </tr>\n",
       "    <tr>\n",
       "      <th id=\"T_d1fa8_level0_row1\" class=\"row_heading level0 row1\" >2022-01-27 00:00:00</th>\n",
       "      <td id=\"T_d1fa8_row1_col0\" class=\"data row1 col0\" >1038</td>\n",
       "    </tr>\n",
       "    <tr>\n",
       "      <th id=\"T_d1fa8_level0_row2\" class=\"row_heading level0 row2\" >2022-02-09 00:00:00</th>\n",
       "      <td id=\"T_d1fa8_row2_col0\" class=\"data row2 col0\" >705</td>\n",
       "    </tr>\n",
       "    <tr>\n",
       "      <th id=\"T_d1fa8_level0_row3\" class=\"row_heading level0 row3\" >2022-03-09 00:00:00</th>\n",
       "      <td id=\"T_d1fa8_row3_col0\" class=\"data row3 col0\" >340</td>\n",
       "    </tr>\n",
       "    <tr>\n",
       "      <th id=\"T_d1fa8_level0_row4\" class=\"row_heading level0 row4\" >2021-04-25 00:00:00</th>\n",
       "      <td id=\"T_d1fa8_row4_col0\" class=\"data row4 col0\" >241</td>\n",
       "    </tr>\n",
       "  </tbody>\n",
       "</table>\n",
       "   <style type=\"text/css\">\n",
       "</style>\n",
       "<table id=\"T_aea12_\" style='display:inline'>\n",
       "  <caption>place_l2</caption>\n",
       "  <thead>\n",
       "    <tr>\n",
       "      <th class=\"blank level0\" >&nbsp;</th>\n",
       "      <th class=\"col_heading level0 col0\" >place_l2</th>\n",
       "    </tr>\n",
       "  </thead>\n",
       "  <tbody>\n",
       "    <tr>\n",
       "      <th id=\"T_aea12_level0_row0\" class=\"row_heading level0 row0\" >Capital Federal</th>\n",
       "      <td id=\"T_aea12_row0_col0\" class=\"data row0 col0\" >12929</td>\n",
       "    </tr>\n",
       "  </tbody>\n",
       "</table>\n",
       "   <style type=\"text/css\">\n",
       "</style>\n",
       "<table id=\"T_69eec_\" style='display:inline'>\n",
       "  <caption>place_l3</caption>\n",
       "  <thead>\n",
       "    <tr>\n",
       "      <th class=\"blank level0\" >&nbsp;</th>\n",
       "      <th class=\"col_heading level0 col0\" >place_l3</th>\n",
       "    </tr>\n",
       "  </thead>\n",
       "  <tbody>\n",
       "    <tr>\n",
       "      <th id=\"T_69eec_level0_row0\" class=\"row_heading level0 row0\" >Palermo</th>\n",
       "      <td id=\"T_69eec_row0_col0\" class=\"data row0 col0\" >1897</td>\n",
       "    </tr>\n",
       "    <tr>\n",
       "      <th id=\"T_69eec_level0_row1\" class=\"row_heading level0 row1\" >Belgrano</th>\n",
       "      <td id=\"T_69eec_row1_col0\" class=\"data row1 col0\" >1295</td>\n",
       "    </tr>\n",
       "    <tr>\n",
       "      <th id=\"T_69eec_level0_row2\" class=\"row_heading level0 row2\" >Caballito</th>\n",
       "      <td id=\"T_69eec_row2_col0\" class=\"data row2 col0\" >972</td>\n",
       "    </tr>\n",
       "    <tr>\n",
       "      <th id=\"T_69eec_level0_row3\" class=\"row_heading level0 row3\" >Recoleta</th>\n",
       "      <td id=\"T_69eec_row3_col0\" class=\"data row3 col0\" >816</td>\n",
       "    </tr>\n",
       "    <tr>\n",
       "      <th id=\"T_69eec_level0_row4\" class=\"row_heading level0 row4\" >Villa Urquiza</th>\n",
       "      <td id=\"T_69eec_row4_col0\" class=\"data row4 col0\" >806</td>\n",
       "    </tr>\n",
       "  </tbody>\n",
       "</table>\n",
       "   <style type=\"text/css\">\n",
       "</style>\n",
       "<table id=\"T_97899_\" style='display:inline'>\n",
       "  <caption>place_l4</caption>\n",
       "  <thead>\n",
       "    <tr>\n",
       "      <th class=\"blank level0\" >&nbsp;</th>\n",
       "      <th class=\"col_heading level0 col0\" >place_l4</th>\n",
       "    </tr>\n",
       "  </thead>\n",
       "  <tbody>\n",
       "    <tr>\n",
       "      <th id=\"T_97899_level0_row0\" class=\"row_heading level0 row0\" >Palermo Hollywood</th>\n",
       "      <td id=\"T_97899_row0_col0\" class=\"data row0 col0\" >253</td>\n",
       "    </tr>\n",
       "    <tr>\n",
       "      <th id=\"T_97899_level0_row1\" class=\"row_heading level0 row1\" >Palermo Chico</th>\n",
       "      <td id=\"T_97899_row1_col0\" class=\"data row1 col0\" >128</td>\n",
       "    </tr>\n",
       "    <tr>\n",
       "      <th id=\"T_97899_level0_row2\" class=\"row_heading level0 row2\" >Palermo Soho</th>\n",
       "      <td id=\"T_97899_row2_col0\" class=\"data row2 col0\" >102</td>\n",
       "    </tr>\n",
       "    <tr>\n",
       "      <th id=\"T_97899_level0_row3\" class=\"row_heading level0 row3\" >Palermo Viejo</th>\n",
       "      <td id=\"T_97899_row3_col0\" class=\"data row3 col0\" >25</td>\n",
       "    </tr>\n",
       "  </tbody>\n",
       "</table>\n",
       "   <style type=\"text/css\">\n",
       "</style>\n",
       "<table id=\"T_969c1_\" style='display:inline'>\n",
       "  <caption>place_l5</caption>\n",
       "  <thead>\n",
       "    <tr>\n",
       "      <th class=\"blank level0\" >&nbsp;</th>\n",
       "      <th class=\"col_heading level0 col0\" >place_l5</th>\n",
       "    </tr>\n",
       "  </thead>\n",
       "  <tbody>\n",
       "  </tbody>\n",
       "</table>\n",
       "   <style type=\"text/css\">\n",
       "</style>\n",
       "<table id=\"T_ad0e3_\" style='display:inline'>\n",
       "  <caption>place_l6</caption>\n",
       "  <thead>\n",
       "    <tr>\n",
       "      <th class=\"blank level0\" >&nbsp;</th>\n",
       "      <th class=\"col_heading level0 col0\" >place_l6</th>\n",
       "    </tr>\n",
       "  </thead>\n",
       "  <tbody>\n",
       "  </tbody>\n",
       "</table>\n",
       "   <style type=\"text/css\">\n",
       "</style>\n",
       "<table id=\"T_4d816_\" style='display:inline'>\n",
       "  <caption>operation</caption>\n",
       "  <thead>\n",
       "    <tr>\n",
       "      <th class=\"blank level0\" >&nbsp;</th>\n",
       "      <th class=\"col_heading level0 col0\" >operation</th>\n",
       "    </tr>\n",
       "  </thead>\n",
       "  <tbody>\n",
       "    <tr>\n",
       "      <th id=\"T_4d816_level0_row0\" class=\"row_heading level0 row0\" >Venta</th>\n",
       "      <td id=\"T_4d816_row0_col0\" class=\"data row0 col0\" >12929</td>\n",
       "    </tr>\n",
       "  </tbody>\n",
       "</table>\n",
       "   <style type=\"text/css\">\n",
       "</style>\n",
       "<table id=\"T_ebd58_\" style='display:inline'>\n",
       "  <caption>property_type</caption>\n",
       "  <thead>\n",
       "    <tr>\n",
       "      <th class=\"blank level0\" >&nbsp;</th>\n",
       "      <th class=\"col_heading level0 col0\" >property_type</th>\n",
       "    </tr>\n",
       "  </thead>\n",
       "  <tbody>\n",
       "    <tr>\n",
       "      <th id=\"T_ebd58_level0_row0\" class=\"row_heading level0 row0\" >Departamento</th>\n",
       "      <td id=\"T_ebd58_row0_col0\" class=\"data row0 col0\" >11125</td>\n",
       "    </tr>\n",
       "    <tr>\n",
       "      <th id=\"T_ebd58_level0_row1\" class=\"row_heading level0 row1\" >PH</th>\n",
       "      <td id=\"T_ebd58_row1_col0\" class=\"data row1 col0\" >1235</td>\n",
       "    </tr>\n",
       "    <tr>\n",
       "      <th id=\"T_ebd58_level0_row2\" class=\"row_heading level0 row2\" >Casa</th>\n",
       "      <td id=\"T_ebd58_row2_col0\" class=\"data row2 col0\" >569</td>\n",
       "    </tr>\n",
       "  </tbody>\n",
       "</table>\n",
       "   <style type=\"text/css\">\n",
       "</style>\n",
       "<table id=\"T_abae3_\" style='display:inline'>\n",
       "  <caption>property_currency</caption>\n",
       "  <thead>\n",
       "    <tr>\n",
       "      <th class=\"blank level0\" >&nbsp;</th>\n",
       "      <th class=\"col_heading level0 col0\" >property_currency</th>\n",
       "    </tr>\n",
       "  </thead>\n",
       "  <tbody>\n",
       "    <tr>\n",
       "      <th id=\"T_abae3_level0_row0\" class=\"row_heading level0 row0\" >USD</th>\n",
       "      <td id=\"T_abae3_row0_col0\" class=\"data row0 col0\" >12929</td>\n",
       "    </tr>\n",
       "  </tbody>\n",
       "</table>\n",
       "   <style type=\"text/css\">\n",
       "</style>\n",
       "<table id=\"T_b82dd_\" style='display:inline'>\n",
       "  <caption>property_title</caption>\n",
       "  <thead>\n",
       "    <tr>\n",
       "      <th class=\"blank level0\" >&nbsp;</th>\n",
       "      <th class=\"col_heading level0 col0\" >property_title</th>\n",
       "    </tr>\n",
       "  </thead>\n",
       "  <tbody>\n",
       "    <tr>\n",
       "      <th id=\"T_b82dd_level0_row0\" class=\"row_heading level0 row0\" >Departamento - Palermo</th>\n",
       "      <td id=\"T_b82dd_row0_col0\" class=\"data row0 col0\" >240</td>\n",
       "    </tr>\n",
       "    <tr>\n",
       "      <th id=\"T_b82dd_level0_row1\" class=\"row_heading level0 row1\" >Departamento - Recoleta</th>\n",
       "      <td id=\"T_b82dd_row1_col0\" class=\"data row1 col0\" >203</td>\n",
       "    </tr>\n",
       "    <tr>\n",
       "      <th id=\"T_b82dd_level0_row2\" class=\"row_heading level0 row2\" >Departamento - Belgrano</th>\n",
       "      <td id=\"T_b82dd_row2_col0\" class=\"data row2 col0\" >194</td>\n",
       "    </tr>\n",
       "    <tr>\n",
       "      <th id=\"T_b82dd_level0_row3\" class=\"row_heading level0 row3\" >Departamento - Villa Urquiza</th>\n",
       "      <td id=\"T_b82dd_row3_col0\" class=\"data row3 col0\" >154</td>\n",
       "    </tr>\n",
       "    <tr>\n",
       "      <th id=\"T_b82dd_level0_row4\" class=\"row_heading level0 row4\" >Departamento - Caballito</th>\n",
       "      <td id=\"T_b82dd_row4_col0\" class=\"data row4 col0\" >122</td>\n",
       "    </tr>\n",
       "  </tbody>\n",
       "</table>\n",
       "   "
      ],
      "text/plain": [
       "<IPython.core.display.HTML object>"
      ]
     },
     "metadata": {},
     "output_type": "display_data"
    }
   ],
   "source": [
    "qualitative_dataset = ds_filtrado[categoricas]\n",
    "\n",
    "dfs = list(\n",
    "    pd.DataFrame(qualitative_dataset[column].value_counts().head()) for column in qualitative_dataset.columns.tolist())\n",
    "display_side_by_side(dfs, qualitative_dataset.columns.tolist())"
   ]
  },
  {
   "cell_type": "markdown",
   "metadata": {
    "id": "1gBeIXrRLQOW",
    "pycharm": {
     "name": "#%% md\n"
    }
   },
   "source": [
    "La tabla muestra varias cosas:\n",
    "- Hay 94249 propiedades habiendo filtrado solo las de Capital Federal, Venta y USD\n",
    "- Hay 80829 departamentos, 9266 PHs y 4154 casas\n",
    "- Hay 14308 propiedades en Palermo\n",
    "- El id de la propiedad es único y no representa nada útil para nuestro procesamiento. Parecería pasar algo similar con el título, lo analizaremos en más detalle más adelante"
   ]
  },
  {
   "cell_type": "markdown",
   "metadata": {
    "id": "CiXUpBfFLQOW",
    "pycharm": {
     "name": "#%% md\n"
    }
   },
   "source": [
    "## Correlación entre variables"
   ]
  },
  {
   "cell_type": "code",
   "execution_count": 141,
   "metadata": {
    "colab": {
     "base_uri": "https://localhost:8080/",
     "height": 899
    },
    "id": "7c7E0444LQOW",
    "outputId": "14a2b007-07c8-4cb8-f32a-61280c6d451e",
    "pycharm": {
     "name": "#%%\n"
    }
   },
   "outputs": [
    {
     "data": {
      "image/png": "[encoded data removed]",
      "text/plain": [
       "<Figure size 1080x1080 with 36 Axes>"
      ]
     },
     "metadata": {
      "needs_background": "light"
     },
     "output_type": "display_data"
    }
   ],
   "source": [
    "# Realizar un análisis gráfico de las distribuciones de las variables\n",
    "\n",
    "quantitative_dataset = ds_filtrado[cuantitativas]\n",
    "ax = scatter_matrix(quantitative_dataset, alpha=0.7, figsize=(15, 15), s=100)"
   ]
  },
  {
   "cell_type": "code",
   "execution_count": 142,
   "metadata": {
    "colab": {
     "base_uri": "https://localhost:8080/",
     "height": 238
    },
    "id": "-LgZUqE2LQOW",
    "outputId": "2abfe5c2-eb5a-4748-c8be-841fc26ec3b9",
    "pycharm": {
     "name": "#%%\n"
    }
   },
   "outputs": [
    {
     "data": {
      "text/html": [
       "\n",
       "  <div id=\"df-8df9f363-2a76-40e2-af72-e383d4833cfd\">\n",
       "    <div class=\"colab-df-container\">\n",
       "      <div>\n",
       "<style scoped>\n",
       "    .dataframe tbody tr th:only-of-type {\n",
       "        vertical-align: middle;\n",
       "    }\n",
       "\n",
       "    .dataframe tbody tr th {\n",
       "        vertical-align: top;\n",
       "    }\n",
       "\n",
       "    .dataframe thead th {\n",
       "        text-align: right;\n",
       "    }\n",
       "</style>\n",
       "<table border=\"1\" class=\"dataframe\">\n",
       "  <thead>\n",
       "    <tr style=\"text-align: right;\">\n",
       "      <th></th>\n",
       "      <th>property_rooms</th>\n",
       "      <th>property_bedrooms</th>\n",
       "      <th>property_surface_total</th>\n",
       "      <th>property_surface_covered</th>\n",
       "      <th>latitud</th>\n",
       "      <th>longitud</th>\n",
       "    </tr>\n",
       "  </thead>\n",
       "  <tbody>\n",
       "    <tr>\n",
       "      <th>property_rooms</th>\n",
       "      <td>1.000000</td>\n",
       "      <td>0.815838</td>\n",
       "      <td>0.465863</td>\n",
       "      <td>0.630251</td>\n",
       "      <td>0.014085</td>\n",
       "      <td>-0.018053</td>\n",
       "    </tr>\n",
       "    <tr>\n",
       "      <th>property_bedrooms</th>\n",
       "      <td>0.815838</td>\n",
       "      <td>1.000000</td>\n",
       "      <td>0.416846</td>\n",
       "      <td>0.543340</td>\n",
       "      <td>0.007658</td>\n",
       "      <td>-0.010246</td>\n",
       "    </tr>\n",
       "    <tr>\n",
       "      <th>property_surface_total</th>\n",
       "      <td>0.465863</td>\n",
       "      <td>0.416846</td>\n",
       "      <td>1.000000</td>\n",
       "      <td>0.730207</td>\n",
       "      <td>0.118738</td>\n",
       "      <td>-0.125203</td>\n",
       "    </tr>\n",
       "    <tr>\n",
       "      <th>property_surface_covered</th>\n",
       "      <td>0.630251</td>\n",
       "      <td>0.543340</td>\n",
       "      <td>0.730207</td>\n",
       "      <td>1.000000</td>\n",
       "      <td>0.000588</td>\n",
       "      <td>-0.001246</td>\n",
       "    </tr>\n",
       "    <tr>\n",
       "      <th>latitud</th>\n",
       "      <td>0.014085</td>\n",
       "      <td>0.007658</td>\n",
       "      <td>0.118738</td>\n",
       "      <td>0.000588</td>\n",
       "      <td>1.000000</td>\n",
       "      <td>-0.630282</td>\n",
       "    </tr>\n",
       "    <tr>\n",
       "      <th>longitud</th>\n",
       "      <td>-0.018053</td>\n",
       "      <td>-0.010246</td>\n",
       "      <td>-0.125203</td>\n",
       "      <td>-0.001246</td>\n",
       "      <td>-0.630282</td>\n",
       "      <td>1.000000</td>\n",
       "    </tr>\n",
       "  </tbody>\n",
       "</table>\n",
       "</div>\n",
       "      <button class=\"colab-df-convert\" onclick=\"convertToInteractive('df-8df9f363-2a76-40e2-af72-e383d4833cfd')\"\n",
       "              title=\"Convert this dataframe to an interactive table.\"\n",
       "              style=\"display:none;\">\n",
       "        \n",
       "  <svg xmlns=\"http://www.w3.org/2000/svg\" height=\"24px\"viewBox=\"0 0 24 24\"\n",
       "       width=\"24px\">\n",
       "    <path d=\"M0 0h24v24H0V0z\" fill=\"none\"/>\n",
       "    <path d=\"M18.56 5.44l.94 2.06.94-2.06 2.06-.94-2.06-.94-.94-2.06-.94 2.06-2.06.94zm-11 1L8.5 8.5l.94-2.06 2.06-.94-2.06-.94L8.5 2.5l-.94 2.06-2.06.94zm10 10l.94 2.06.94-2.06 2.06-.94-2.06-.94-.94-2.06-.94 2.06-2.06.94z\"/><path d=\"M17.41 7.96l-1.37-1.37c-.4-.4-.92-.59-1.43-.59-.52 0-1.04.2-1.43.59L10.3 9.45l-7.72 7.72c-.78.78-.78 2.05 0 2.83L4 21.41c.39.39.9.59 1.41.59.51 0 1.02-.2 1.41-.59l7.78-7.78 2.81-2.81c.8-.78.8-2.07 0-2.86zM5.41 20L4 18.59l7.72-7.72 1.47 1.35L5.41 20z\"/>\n",
       "  </svg>\n",
       "      </button>\n",
       "      \n",
       "  <style>\n",
       "    .colab-df-container {\n",
       "      display:flex;\n",
       "      flex-wrap:wrap;\n",
       "      gap: 12px;\n",
       "    }\n",
       "\n",
       "    .colab-df-convert {\n",
       "      background-color: #E8F0FE;\n",
       "      border: none;\n",
       "      border-radius: 50%;\n",
       "      cursor: pointer;\n",
       "      display: none;\n",
       "      fill: #1967D2;\n",
       "      height: 32px;\n",
       "      padding: 0 0 0 0;\n",
       "      width: 32px;\n",
       "    }\n",
       "\n",
       "    .colab-df-convert:hover {\n",
       "      background-color: #E2EBFA;\n",
       "      box-shadow: 0px 1px 2px rgba(60, 64, 67, 0.3), 0px 1px 3px 1px rgba(60, 64, 67, 0.15);\n",
       "      fill: #174EA6;\n",
       "    }\n",
       "\n",
       "    [theme=dark] .colab-df-convert {\n",
       "      background-color: #3B4455;\n",
       "      fill: #D2E3FC;\n",
       "    }\n",
       "\n",
       "    [theme=dark] .colab-df-convert:hover {\n",
       "      background-color: #434B5C;\n",
       "      box-shadow: 0px 1px 3px 1px rgba(0, 0, 0, 0.15);\n",
       "      filter: drop-shadow(0px 1px 2px rgba(0, 0, 0, 0.3));\n",
       "      fill: #FFFFFF;\n",
       "    }\n",
       "  </style>\n",
       "\n",
       "      <script>\n",
       "        const buttonEl =\n",
       "          document.querySelector('#df-8df9f363-2a76-40e2-af72-e383d4833cfd button.colab-df-convert');\n",
       "        buttonEl.style.display =\n",
       "          google.colab.kernel.accessAllowed ? 'block' : 'none';\n",
       "\n",
       "        async function convertToInteractive(key) {\n",
       "          const element = document.querySelector('#df-8df9f363-2a76-40e2-af72-e383d4833cfd');\n",
       "          const dataTable =\n",
       "            await google.colab.kernel.invokeFunction('convertToInteractive',\n",
       "                                                     [key], {});\n",
       "          if (!dataTable) return;\n",
       "\n",
       "          const docLinkHtml = 'Like what you see? Visit the ' +\n",
       "            '<a target=\"_blank\" href=https://colab.research.google.com/notebooks/data_table.ipynb>data table notebook</a>'\n",
       "            + ' to learn more about interactive tables.';\n",
       "          element.innerHTML = '';\n",
       "          dataTable['output_type'] = 'display_data';\n",
       "          await google.colab.output.renderOutput(dataTable, element);\n",
       "          const docLink = document.createElement('div');\n",
       "          docLink.innerHTML = docLinkHtml;\n",
       "          element.appendChild(docLink);\n",
       "        }\n",
       "      </script>\n",
       "    </div>\n",
       "  </div>\n",
       "  "
      ],
      "text/plain": [
       "                          property_rooms  property_bedrooms  \\\n",
       "property_rooms                  1.000000           0.815838   \n",
       "property_bedrooms               0.815838           1.000000   \n",
       "property_surface_total          0.465863           0.416846   \n",
       "property_surface_covered        0.630251           0.543340   \n",
       "latitud                         0.014085           0.007658   \n",
       "longitud                       -0.018053          -0.010246   \n",
       "\n",
       "                          property_surface_total  property_surface_covered  \\\n",
       "property_rooms                          0.465863                  0.630251   \n",
       "property_bedrooms                       0.416846                  0.543340   \n",
       "property_surface_total                  1.000000                  0.730207   \n",
       "property_surface_covered                0.730207                  1.000000   \n",
       "latitud                                 0.118738                  0.000588   \n",
       "longitud                               -0.125203                 -0.001246   \n",
       "\n",
       "                           latitud  longitud  \n",
       "property_rooms            0.014085 -0.018053  \n",
       "property_bedrooms         0.007658 -0.010246  \n",
       "property_surface_total    0.118738 -0.125203  \n",
       "property_surface_covered  0.000588 -0.001246  \n",
       "latitud                   1.000000 -0.630282  \n",
       "longitud                 -0.630282  1.000000  "
      ]
     },
     "execution_count": 142,
     "metadata": {},
     "output_type": "execute_result"
    }
   ],
   "source": [
    "# Analizar las correlaciones existentes entre las variables.\n",
    "quantitative_dataset.corr()"
   ]
  },
  {
   "cell_type": "code",
   "execution_count": 143,
   "metadata": {
    "colab": {
     "base_uri": "https://localhost:8080/",
     "height": 732
    },
    "id": "RRIi0GqnLQOW",
    "outputId": "c750c360-5b7f-47fd-a650-5a2ee45bceb5",
    "pycharm": {
     "name": "#%%\n"
    }
   },
   "outputs": [
    {
     "data": {
      "text/plain": [
       "<matplotlib.axes._subplots.AxesSubplot at 0x7f7bc999dc90>"
      ]
     },
     "execution_count": 143,
     "metadata": {},
     "output_type": "execute_result"
    },
    {
     "data": {
      "image/png": "[encoded data removed]",
      "text/plain": [
       "<Figure size 720x720 with 2 Axes>"
      ]
     },
     "metadata": {
      "needs_background": "light"
     },
     "output_type": "display_data"
    }
   ],
   "source": [
    "# Analizar las correlaciones existentes entre las variables.\n",
    "plt.figure(figsize=(10, 10))\n",
    "sns.heatmap(quantitative_dataset.corr(), annot=True)"
   ]
  },
  {
   "cell_type": "markdown",
   "metadata": {
    "id": "yWxX8bRyLQOX",
    "pycharm": {
     "name": "#%% md\n"
    }
   },
   "source": [
    "## Análisis de valores faltantes"
   ]
  },
  {
   "cell_type": "markdown",
   "metadata": {
    "id": "6qcBvd1oLQOX",
    "pycharm": {
     "name": "#%% md\n"
    }
   },
   "source": [
    "Ahora analizaremos los datos faltantes del dataset."
   ]
  },
  {
   "cell_type": "markdown",
   "metadata": {
    "id": "Pv7hjbTPLQOX",
    "pycharm": {
     "name": "#%% md\n"
    }
   },
   "source": [
    "### Porcentaje de valores faltantes por columna\n",
    "\n"
   ]
  },
  {
   "cell_type": "code",
   "execution_count": 144,
   "metadata": {
    "colab": {
     "base_uri": "https://localhost:8080/",
     "height": 0
    },
    "id": "cgUBM6_7LQOX",
    "outputId": "a375b26f-0d30-4acb-d094-6b535dacf308",
    "pycharm": {
     "name": "#%%\n"
    }
   },
   "outputs": [
    {
     "name": "stdout",
     "output_type": "stream",
     "text": [
      "id                            0.000000\n",
      "start_date                    0.000000\n",
      "end_date                      0.000000\n",
      "created_on                    0.000000\n",
      "latitud                       4.052904\n",
      "longitud                      4.052904\n",
      "place_l2                      0.000000\n",
      "place_l3                      0.564622\n",
      "place_l4                     96.070848\n",
      "place_l5                    100.000000\n",
      "place_l6                    100.000000\n",
      "operation                     0.000000\n",
      "property_type                 0.000000\n",
      "property_rooms                1.407688\n",
      "property_bedrooms            11.857066\n",
      "property_surface_total        5.406451\n",
      "property_surface_covered      3.991028\n",
      "property_price                0.000000\n",
      "property_currency             0.000000\n",
      "property_title                0.000000\n",
      "dtype: float64\n"
     ]
    },
    {
     "data": {
      "image/png": "[encoded data removed]",
      "text/plain": [
       "<Figure size 864x432 with 1 Axes>"
      ]
     },
     "metadata": {
      "needs_background": "light"
     },
     "output_type": "display_data"
    }
   ],
   "source": [
    "percent_missing = ds_filtrado.isna().sum() * 100 / len(ds_filtrado)\n",
    "plt.figure(figsize=(12, 6))\n",
    "percent_missing.plot.bar(x='index', rot=45)\n",
    "plt.xlabel(\"Columns\")\n",
    "plt.ylabel(\"Percentage Missing\")\n",
    "rows = ds_filtrado.shape[0]\n",
    "print(ds_filtrado.isna().sum() / rows * 100)"
   ]
  },
  {
   "cell_type": "markdown",
   "metadata": {
    "id": "9Zc0JgleLQOX",
    "pycharm": {
     "name": "#%% md\n"
    }
   },
   "source": [
    "A simple vista podemos ver que las columnas place_l4,place_l5 y place_l6 practicamente no tienen datos, procederemos a eliminarlas."
   ]
  },
  {
   "cell_type": "markdown",
   "metadata": {
    "id": "o3sc6FA2LQOY",
    "pycharm": {
     "name": "#%% md\n"
    }
   },
   "source": [
    "### Porcentaje de datos faltantes por fila"
   ]
  },
  {
   "cell_type": "code",
   "execution_count": 145,
   "metadata": {
    "colab": {
     "base_uri": "https://localhost:8080/",
     "height": 0
    },
    "id": "J5jAS-EfLQOY",
    "outputId": "5467e30a-5bf0-4c4c-a97b-02c4846e1c8e",
    "pycharm": {
     "name": "#%%\n"
    }
   },
   "outputs": [
    {
     "data": {
      "text/plain": [
       "<matplotlib.axes._subplots.AxesSubplot at 0x7f7bd01ed190>"
      ]
     },
     "execution_count": 145,
     "metadata": {},
     "output_type": "execute_result"
    },
    {
     "data": {
      "image/png": "[encoded data removed]",
      "text/plain": [
       "<Figure size 432x288 with 1 Axes>"
      ]
     },
     "metadata": {
      "needs_background": "light"
     },
     "output_type": "display_data"
    }
   ],
   "source": [
    "column_count = ds_filtrado.shape[1]\n",
    "ds_plot = ds_filtrado.T.isna().sum() * 100 / column_count\n",
    "\n",
    "\n",
    "plt.axvline(ds_plot.mean())\n",
    "sns.violinplot(ds_plot)"
   ]
  },
  {
   "cell_type": "markdown",
   "metadata": {
    "id": "yFy0ZRL-LQOY",
    "pycharm": {
     "name": "#%% md\n"
    }
   },
   "source": [
    "Analizaremos nuevamente el porcentaje por fila luego de trabajar con las columnas"
   ]
  },
  {
   "cell_type": "markdown",
   "metadata": {
    "id": "2tsXkTlyLQOY",
    "pycharm": {
     "name": "#%% md\n"
    }
   },
   "source": [
    "### Procesado de columnas"
   ]
  },
  {
   "cell_type": "markdown",
   "metadata": {
    "id": "betRCwnmLQOY",
    "pycharm": {
     "name": "#%% md\n"
    }
   },
   "source": [
    "Descartaremos la columna id debido a que no es relevante para nuestro análisis. No podemos usar un dato uníco porque no representa ninguna característica relevante."
   ]
  },
  {
   "cell_type": "code",
   "execution_count": 146,
   "metadata": {
    "colab": {
     "base_uri": "https://localhost:8080/"
    },
    "id": "ggNmkz3vLQOY",
    "outputId": "e76de650-6d34-4276-9f34-45355002ecff",
    "pycharm": {
     "name": "#%%\n"
    }
   },
   "outputs": [
    {
     "data": {
      "text/plain": [
       "25    CyZu6IaZgmQYGk8jmPajCg==\n",
       "42    d3Z0MblSb2IMBoOBMGJEEQ==\n",
       "43    rL7qPkQnomsMGu2ViS3sBw==\n",
       "49    vuX/ccLAMVml4qWRFcOJUA==\n",
       "51    ZTtSCeqZ3HUgf5jjwEzRcw==\n",
       "Name: id, dtype: object"
      ]
     },
     "execution_count": 146,
     "metadata": {},
     "output_type": "execute_result"
    }
   ],
   "source": [
    "ds_filtrado['id'].head()"
   ]
  },
  {
   "cell_type": "markdown",
   "metadata": {
    "id": "3GBv7sTDLQOZ",
    "pycharm": {
     "name": "#%% md\n"
    }
   },
   "source": [
    "Como mencionamos anteriormente, evaluaremos descartar place_l4 por la cantidad de valores faltantes que hay."
   ]
  },
  {
   "cell_type": "code",
   "execution_count": 147,
   "metadata": {
    "colab": {
     "base_uri": "https://localhost:8080/"
    },
    "id": "nTkQozBzLQOZ",
    "outputId": "05a97661-65bc-4d75-fb85-9494bdc0aeef",
    "pycharm": {
     "name": "#%%\n"
    }
   },
   "outputs": [
    {
     "data": {
      "text/plain": [
       "Palermo Hollywood    253\n",
       "Palermo Chico        128\n",
       "Palermo Soho         102\n",
       "Palermo Viejo         25\n",
       "Name: place_l4, dtype: int64"
      ]
     },
     "execution_count": 147,
     "metadata": {},
     "output_type": "execute_result"
    }
   ],
   "source": [
    "ds_filtrado['place_l4'].value_counts()"
   ]
  },
  {
   "cell_type": "markdown",
   "metadata": {
    "id": "5oKYMKj6LQOZ",
    "pycharm": {
     "name": "#%% md\n"
    }
   },
   "source": [
    "Como son pocas observaciones y todas corresponden al barrio de Palermo, descartaremos esta columna. Además, como mencionamos más arriba, la columna created_on siempre es igual a la columna start_date, por lo que también la descartaremos. "
   ]
  },
  {
   "cell_type": "code",
   "execution_count": 148,
   "metadata": {
    "colab": {
     "base_uri": "https://localhost:8080/"
    },
    "id": "TCSZOlqELQOZ",
    "outputId": "061a1a79-ae20-43c0-c5ff-4187def38486",
    "pycharm": {
     "name": "#%%\n"
    }
   },
   "outputs": [
    {
     "name": "stdout",
     "output_type": "stream",
     "text": [
      "Nuestras nuevas columnas son:\n",
      "['start_date', 'end_date', 'latitud', 'longitud', 'place_l2', 'place_l3', 'operation', 'property_type', 'property_rooms', 'property_bedrooms', 'property_surface_total', 'property_surface_covered', 'property_price', 'property_currency', 'property_title']\n"
     ]
    }
   ],
   "source": [
    "properties_dataset = ds_filtrado.drop(axis=\"columns\", columns=[\"id\", \"created_on\", \"place_l4\", \"place_l5\", \"place_l6\"]).copy()\n",
    "print(f\"Nuestras nuevas columnas son:\\n{properties_dataset.columns.tolist()}\")"
   ]
  },
  {
   "cell_type": "markdown",
   "metadata": {
    "id": "a7Ah9wxfLQOZ",
    "pycharm": {
     "name": "#%% md\n"
    }
   },
   "source": [
    "### Analisis de faltantes por fila\n",
    "\n",
    "Ahora que nos quedamos solo con las columnas deseadas, analizaremos nuevamente los datos faltantes por fila."
   ]
  },
  {
   "cell_type": "code",
   "execution_count": 149,
   "metadata": {
    "colab": {
     "base_uri": "https://localhost:8080/",
     "height": 0
    },
    "id": "c5uJdQlPLQOZ",
    "outputId": "69232a69-de9d-4565-8973-0dea81d47e84",
    "pycharm": {
     "name": "#%%\n"
    }
   },
   "outputs": [
    {
     "data": {
      "text/plain": [
       "<matplotlib.lines.Line2D at 0x7f7bc9dd5f10>"
      ]
     },
     "execution_count": 149,
     "metadata": {},
     "output_type": "execute_result"
    },
    {
     "data": {
      "image/png": "[encoded data removed]",
      "text/plain": [
       "<Figure size 432x288 with 1 Axes>"
      ]
     },
     "metadata": {
      "needs_background": "light"
     },
     "output_type": "display_data"
    }
   ],
   "source": [
    "column_count = ds_filtrado.shape[1]\n",
    "ds_plot = properties_dataset.T.isna().sum() * 100 / column_count\n",
    "\n",
    "sns.violinplot(ds_plot)\n",
    "plt.axvline(ds_plot.mean())"
   ]
  },
  {
   "cell_type": "markdown",
   "metadata": {
    "id": "dyOork4VLQOa",
    "pycharm": {
     "name": "#%% md\n"
    }
   },
   "source": [
    "Como podemos ver en el gráfico, la cantidad de datos faltantes bajó muchísimo al eliminar las columnas. Tenemos algunos registros con 5 o 10% de datos faltantes, veremos que falta"
   ]
  },
  {
   "cell_type": "code",
   "execution_count": 150,
   "metadata": {
    "colab": {
     "base_uri": "https://localhost:8080/"
    },
    "id": "Q7ld4w0nLQOa",
    "outputId": "fd280f40-e1b2-4719-dcde-ab26da1ce86f",
    "pycharm": {
     "name": "#%%\n"
    }
   },
   "outputs": [
    {
     "data": {
      "text/plain": [
       "0.0     9846\n",
       "5.0     2292\n",
       "10.0     642\n",
       "15.0     127\n",
       "20.0      16\n",
       "25.0       6\n",
       "Name: row_missing_data, dtype: int64"
      ]
     },
     "execution_count": 150,
     "metadata": {},
     "output_type": "execute_result"
    }
   ],
   "source": [
    "properties_dataset['row_missing_data'] = properties_dataset.T.isna().sum() * 100 / column_count\n",
    "properties_dataset['row_missing_data'].value_counts()"
   ]
  },
  {
   "cell_type": "code",
   "execution_count": 151,
   "metadata": {
    "colab": {
     "base_uri": "https://localhost:8080/"
    },
    "id": "5kruhx1uLQOa",
    "outputId": "bc883f2c-ead5-43fd-9177-5667473d5175",
    "pycharm": {
     "name": "#%%\n"
    }
   },
   "outputs": [
    {
     "name": "stdout",
     "output_type": "stream",
     "text": [
      "La cantidad de faltantes segun porcentaje representan\n",
      "0.0     76.154382\n",
      "5.0     17.727589\n",
      "10.0     4.965581\n",
      "15.0     0.982288\n",
      "20.0     0.123753\n",
      "25.0     0.046407\n",
      "Name: row_missing_data, dtype: float64\n"
     ]
    }
   ],
   "source": [
    "dataset_perc = properties_dataset['row_missing_data'].value_counts() * 100 / properties_dataset.shape[0]\n",
    "print(f\"La cantidad de faltantes segun porcentaje representan\\n{dataset_perc}\")"
   ]
  },
  {
   "cell_type": "code",
   "execution_count": 152,
   "metadata": {
    "colab": {
     "base_uri": "https://localhost:8080/",
     "height": 0
    },
    "id": "BB7EhB2hLQOa",
    "outputId": "579fb3f3-b64d-4785-9f28-b7945001e215",
    "pycharm": {
     "name": "#%%\n"
    }
   },
   "outputs": [
    {
     "data": {
      "text/plain": [
       "<matplotlib.axes._subplots.AxesSubplot at 0x7f7bc9a29590>"
      ]
     },
     "execution_count": 152,
     "metadata": {},
     "output_type": "execute_result"
    },
    {
     "data": {
      "image/png": "[encoded data removed]",
      "text/plain": [
       "<Figure size 432x288 with 1 Axes>"
      ]
     },
     "metadata": {
      "needs_background": "light"
     },
     "output_type": "display_data"
    }
   ],
   "source": [
    "properties_dataset.groupby('row_missing_data').get_group(5).isna().sum().plot.bar()"
   ]
  },
  {
   "cell_type": "code",
   "execution_count": 153,
   "metadata": {
    "colab": {
     "base_uri": "https://localhost:8080/"
    },
    "id": "Iw1fMwW3LQOa",
    "outputId": "f6e1853d-5ebf-4127-daa4-35c928b83b0b",
    "pycharm": {
     "name": "#%%\n"
    }
   },
   "outputs": [
    {
     "data": {
      "text/plain": [
       "start_date                    0\n",
       "end_date                      0\n",
       "latitud                     398\n",
       "longitud                    398\n",
       "place_l2                      0\n",
       "place_l3                     22\n",
       "operation                     0\n",
       "property_type                 0\n",
       "property_rooms               80\n",
       "property_bedrooms           206\n",
       "property_surface_total       98\n",
       "property_surface_covered     82\n",
       "property_price                0\n",
       "property_currency             0\n",
       "property_title                0\n",
       "row_missing_data              0\n",
       "dtype: int64"
      ]
     },
     "execution_count": 153,
     "metadata": {},
     "output_type": "execute_result"
    }
   ],
   "source": [
    "properties_dataset.groupby('row_missing_data').get_group(10).isna().sum()"
   ]
  },
  {
   "cell_type": "markdown",
   "metadata": {
    "id": "mFYI5IysLQOb",
    "pycharm": {
     "name": "#%% md\n"
    }
   },
   "source": [
    "Ahora que elegimos las columnas deseadas, veremos nuevamente los porcentajes por columna para preparar algunas imputaciones"
   ]
  },
  {
   "cell_type": "code",
   "execution_count": 154,
   "metadata": {
    "id": "9Ylwt6FaLQOb",
    "pycharm": {
     "name": "#%%\n"
    }
   },
   "outputs": [],
   "source": [
    "def plot_missing_by_column(dataset):\n",
    "    percent_missing = dataset.isna().sum() * 100 / len(dataset)\n",
    "    plt.figure(figsize=(12, 6))\n",
    "    percent_missing.plot.bar(x='index', rot=45)\n",
    "    plt.xlabel(\"Columns\")\n",
    "    plt.ylabel(\"Percentage Missing\")\n",
    "    rows = dataset.shape[0]\n",
    "    print(dataset.isna().sum() / rows * 100)"
   ]
  },
  {
   "cell_type": "code",
   "execution_count": 155,
   "metadata": {
    "colab": {
     "base_uri": "https://localhost:8080/",
     "height": 0
    },
    "id": "xUaMfaHoLQOb",
    "outputId": "8cb9b688-6317-4edf-bf78-147eb0d92f99",
    "pycharm": {
     "name": "#%%\n"
    }
   },
   "outputs": [
    {
     "name": "stdout",
     "output_type": "stream",
     "text": [
      "start_date                   0.000000\n",
      "end_date                     0.000000\n",
      "latitud                      4.052904\n",
      "longitud                     4.052904\n",
      "place_l2                     0.000000\n",
      "place_l3                     0.564622\n",
      "operation                    0.000000\n",
      "property_type                0.000000\n",
      "property_rooms               1.407688\n",
      "property_bedrooms           11.857066\n",
      "property_surface_total       5.406451\n",
      "property_surface_covered     3.991028\n",
      "property_price               0.000000\n",
      "property_currency            0.000000\n",
      "property_title               0.000000\n",
      "row_missing_data             0.000000\n",
      "dtype: float64\n"
     ]
    },
    {
     "data": {
      "image/png": "[encoded data removed]",
      "text/plain": [
       "<Figure size 864x432 with 1 Axes>"
      ]
     },
     "metadata": {
      "needs_background": "light"
     },
     "output_type": "display_data"
    }
   ],
   "source": [
    "plot_missing_by_column(properties_dataset)"
   ]
  },
  {
   "cell_type": "markdown",
   "metadata": {
    "id": "vtLlDvAZLQOb",
    "pycharm": {
     "name": "#%% md\n"
    }
   },
   "source": [
    "## Imputaciones"
   ]
  },
  {
   "cell_type": "markdown",
   "metadata": {
    "id": "V_BtR57ZLQOb",
    "pycharm": {
     "name": "#%% md\n"
    }
   },
   "source": [
    "Ahora analizaremos columna a columna como podemos reparar esos datos."
   ]
  },
  {
   "cell_type": "markdown",
   "metadata": {
    "id": "7QMM5CZALQOb",
    "pycharm": {
     "name": "#%% md\n"
    }
   },
   "source": [
    "#### Latitud y Longitud"
   ]
  },
  {
   "cell_type": "code",
   "execution_count": 156,
   "metadata": {
    "colab": {
     "base_uri": "https://localhost:8080/"
    },
    "id": "jrJ3e1wqLQOc",
    "outputId": "1c9ed794-bd18-4d41-e128-6ddf01dbd351",
    "pycharm": {
     "name": "#%%\n"
    }
   },
   "outputs": [
    {
     "data": {
      "text/plain": [
       "(524, 524)"
      ]
     },
     "execution_count": 156,
     "metadata": {},
     "output_type": "execute_result"
    }
   ],
   "source": [
    "len(properties_dataset[properties_dataset.latitud.isna()]), properties_dataset[properties_dataset.latitud.isna()].longitud.isna().sum()"
   ]
  },
  {
   "cell_type": "markdown",
   "metadata": {
    "id": "doHecFzmLQOc",
    "pycharm": {
     "name": "#%% md\n"
    }
   },
   "source": [
    "Como vemos, en esos 3730 los registros faltan ambos datos, veremos que datos sí están presentes en esos registros"
   ]
  },
  {
   "cell_type": "code",
   "execution_count": 157,
   "metadata": {
    "colab": {
     "base_uri": "https://localhost:8080/",
     "height": 0
    },
    "id": "cP-X60R0LQOc",
    "outputId": "d62e31fa-fc13-41f6-d29a-24b47364c19c",
    "pycharm": {
     "name": "#%%\n"
    }
   },
   "outputs": [
    {
     "name": "stdout",
     "output_type": "stream",
     "text": [
      "start_date                    0.000000\n",
      "end_date                      0.000000\n",
      "latitud                     100.000000\n",
      "longitud                    100.000000\n",
      "place_l2                      0.000000\n",
      "place_l3                      3.053435\n",
      "operation                     0.000000\n",
      "property_type                 0.000000\n",
      "property_rooms                2.480916\n",
      "property_bedrooms            13.358779\n",
      "property_surface_total        5.343511\n",
      "property_surface_covered      5.152672\n",
      "property_price                0.000000\n",
      "property_currency             0.000000\n",
      "property_title                0.000000\n",
      "row_missing_data              0.000000\n",
      "dtype: float64\n"
     ]
    },
    {
     "data": {
      "image/png": "[encoded data removed]",
      "text/plain": [
       "<Figure size 864x432 with 1 Axes>"
      ]
     },
     "metadata": {
      "needs_background": "light"
     },
     "output_type": "display_data"
    }
   ],
   "source": [
    "plot_missing_by_column(properties_dataset[properties_dataset.latitud.isna()])"
   ]
  },
  {
   "cell_type": "code",
   "execution_count": 158,
   "metadata": {
    "colab": {
     "base_uri": "https://localhost:8080/"
    },
    "id": "BGyOgeQ8LQOc",
    "outputId": "b0b3bb23-585b-49d5-ec5f-0307e0ba130c",
    "pycharm": {
     "name": "#%%\n"
    }
   },
   "outputs": [
    {
     "data": {
      "text/plain": [
       "Palermo             117\n",
       "Belgrano             90\n",
       "Nuñez                41\n",
       "Caballito            34\n",
       "Recoleta             29\n",
       "Villa Urquiza        29\n",
       "Almagro              25\n",
       "Barrio Norte         24\n",
       "Flores               22\n",
       "Villa Crespo         15\n",
       "San Telmo            15\n",
       "Balvanera            11\n",
       "Constitución          8\n",
       "Puerto Madero         6\n",
       "San Nicolás           6\n",
       "Once                  6\n",
       "Congreso              5\n",
       "Monserrat             4\n",
       "Villa Pueyrredón      3\n",
       "Villa del Parque      2\n",
       "Liniers               2\n",
       "Paternal              2\n",
       "Abasto                2\n",
       "Tribunales            2\n",
       "Mataderos             1\n",
       "San Cristobal         1\n",
       "Colegiales            1\n",
       "Parque Chas           1\n",
       "Coghlan               1\n",
       "Villa Devoto          1\n",
       "Floresta              1\n",
       "Saavedra              1\n",
       "Name: place_l3, dtype: int64"
      ]
     },
     "execution_count": 158,
     "metadata": {},
     "output_type": "execute_result"
    }
   ],
   "source": [
    "properties_dataset[properties_dataset.latitud.isna()]['place_l3'].value_counts()"
   ]
  },
  {
   "cell_type": "code",
   "execution_count": 159,
   "metadata": {
    "colab": {
     "base_uri": "https://localhost:8080/"
    },
    "id": "10A2TSmoLQOc",
    "outputId": "cdc08c4d-2c6e-436a-83a5-686612adfdb9",
    "pycharm": {
     "name": "#%%\n"
    }
   },
   "outputs": [
    {
     "name": "stdout",
     "output_type": "stream",
     "text": [
      "Los datos faltantes en la columna place_l3 representan el 3.053%\n"
     ]
    }
   ],
   "source": [
    "percentage = properties_dataset[properties_dataset.latitud.isna()]['place_l3'].isna().sum() / len(properties_dataset[properties_dataset.latitud.isna()]['place_l3']) * 100\n",
    "print(f\"Los datos faltantes en la columna place_l3 representan el {round(percentage, 3)}%\")"
   ]
  },
  {
   "cell_type": "markdown",
   "metadata": {
    "id": "L8VG6ey2LQOd",
    "pycharm": {
     "name": "#%% md\n"
    }
   },
   "source": [
    "Para los que tienen el dato del barrio podríamos tomar como latitud/longitud"
   ]
  },
  {
   "cell_type": "markdown",
   "metadata": {
    "id": "_XqkINy6LQOd",
    "pycharm": {
     "name": "#%% md\n"
    }
   },
   "source": [
    "## Grafico de los barrios de CABA"
   ]
  },
  {
   "cell_type": "code",
   "execution_count": 6,
   "metadata": {},
   "outputs": [
    {
     "data": {
      "text/html": [
       "<div>\n",
       "<style scoped>\n",
       "    .dataframe tbody tr th:only-of-type {\n",
       "        vertical-align: middle;\n",
       "    }\n",
       "\n",
       "    .dataframe tbody tr th {\n",
       "        vertical-align: top;\n",
       "    }\n",
       "\n",
       "    .dataframe thead th {\n",
       "        text-align: right;\n",
       "    }\n",
       "</style>\n",
       "<table border=\"1\" class=\"dataframe\">\n",
       "  <thead>\n",
       "    <tr style=\"text-align: right;\">\n",
       "      <th></th>\n",
       "      <th>BARRIO</th>\n",
       "      <th>COMUNA</th>\n",
       "      <th>PERIMETRO</th>\n",
       "      <th>AREA</th>\n",
       "      <th>OBJETO</th>\n",
       "      <th>geometry</th>\n",
       "    </tr>\n",
       "  </thead>\n",
       "  <tbody>\n",
       "    <tr>\n",
       "      <th>0</th>\n",
       "      <td>CHACARITA</td>\n",
       "      <td>15.0</td>\n",
       "      <td>7724.852955</td>\n",
       "      <td>3.115707e+06</td>\n",
       "      <td>BARRIO</td>\n",
       "      <td>MULTIPOLYGON (((-58.45282 -34.59599, -58.45366...</td>\n",
       "    </tr>\n",
       "    <tr>\n",
       "      <th>1</th>\n",
       "      <td>PATERNAL</td>\n",
       "      <td>15.0</td>\n",
       "      <td>7087.513295</td>\n",
       "      <td>2.229829e+06</td>\n",
       "      <td>BARRIO</td>\n",
       "      <td>MULTIPOLYGON (((-58.46558 -34.59656, -58.46562...</td>\n",
       "    </tr>\n",
       "    <tr>\n",
       "      <th>2</th>\n",
       "      <td>VILLA CRESPO</td>\n",
       "      <td>15.0</td>\n",
       "      <td>8131.857075</td>\n",
       "      <td>3.615978e+06</td>\n",
       "      <td>BARRIO</td>\n",
       "      <td>MULTIPOLYGON (((-58.42375 -34.59783, -58.42495...</td>\n",
       "    </tr>\n",
       "    <tr>\n",
       "      <th>3</th>\n",
       "      <td>VILLA DEL PARQUE</td>\n",
       "      <td>11.0</td>\n",
       "      <td>7705.389797</td>\n",
       "      <td>3.399596e+06</td>\n",
       "      <td>BARRIO</td>\n",
       "      <td>MULTIPOLYGON (((-58.49461 -34.61487, -58.49479...</td>\n",
       "    </tr>\n",
       "    <tr>\n",
       "      <th>4</th>\n",
       "      <td>ALMAGRO</td>\n",
       "      <td>5.0</td>\n",
       "      <td>8537.901368</td>\n",
       "      <td>4.050752e+06</td>\n",
       "      <td>BARRIO</td>\n",
       "      <td>MULTIPOLYGON (((-58.41287 -34.61412, -58.41282...</td>\n",
       "    </tr>\n",
       "  </tbody>\n",
       "</table>\n",
       "</div>"
      ],
      "text/plain": [
       "             BARRIO  COMUNA    PERIMETRO          AREA  OBJETO  \\\n",
       "0         CHACARITA    15.0  7724.852955  3.115707e+06  BARRIO   \n",
       "1          PATERNAL    15.0  7087.513295  2.229829e+06  BARRIO   \n",
       "2      VILLA CRESPO    15.0  8131.857075  3.615978e+06  BARRIO   \n",
       "3  VILLA DEL PARQUE    11.0  7705.389797  3.399596e+06  BARRIO   \n",
       "4           ALMAGRO     5.0  8537.901368  4.050752e+06  BARRIO   \n",
       "\n",
       "                                            geometry  \n",
       "0  MULTIPOLYGON (((-58.45282 -34.59599, -58.45366...  \n",
       "1  MULTIPOLYGON (((-58.46558 -34.59656, -58.46562...  \n",
       "2  MULTIPOLYGON (((-58.42375 -34.59783, -58.42495...  \n",
       "3  MULTIPOLYGON (((-58.49461 -34.61487, -58.49479...  \n",
       "4  MULTIPOLYGON (((-58.41287 -34.61412, -58.41282...  "
      ]
     },
     "execution_count": 6,
     "metadata": {},
     "output_type": "execute_result"
    }
   ],
   "source": [
    "# Proceso el archivo de los barrios de CABA\n",
    "barrios = gpd.read_file('./mapa/barrios.geojson')\n",
    "barrios.head()"
   ]
  },
  {
   "cell_type": "code",
   "execution_count": 7,
   "metadata": {},
   "outputs": [
    {
     "data": {
      "image/png": "[encoded data removed]",
      "text/plain": [
       "<Figure size 800x1000 with 1 Axes>"
      ]
     },
     "metadata": {},
     "output_type": "display_data"
    }
   ],
   "source": [
    "# Realizo el grafico de los barrios de CABA\n",
    "fig, ax = plt.subplots(figsize=(8,10))\n",
    "barrios.plot(column='BARRIO', categorical=True, legend=True, ax=ax, cmap='tab20b')\n",
    "\n",
    "leg = ax.get_legend()\n",
    "leg.set_bbox_to_anchor((1.4, 1.2))\n",
    "\n",
    "ax.set(title='Barrios CABA')\n",
    "plt.show()"
   ]
  },
  {
   "cell_type": "code",
   "execution_count": null,
   "metadata": {},
   "outputs": [],
   "source": []
  }
 ],
 "metadata": {
  "colab": {
   "provenance": []
  },
  "kernelspec": {
   "display_name": "Python 3 (ipykernel)",
   "language": "python",
   "name": "python3"
  },
  "language_info": {
   "codemirror_mode": {
    "name": "ipython",
    "version": 3
   },
   "file_extension": ".py",
   "mimetype": "text/x-python",
   "name": "python",
   "nbconvert_exporter": "python",
   "pygments_lexer": "ipython3",
   "version": "3.10.6"
  }
 },
 "nbformat": 4,
 "nbformat_minor": 4
}
