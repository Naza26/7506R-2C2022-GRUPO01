{
  "cells": [
    {
      "cell_type": "markdown",
      "metadata": {
        "id": "2AgtT6A646OQ",
        "pycharm": {
          "name": "#%% md\n"
        }
      },
      "source": [
        "# 7506 - Trabajo práctico 1\n"
      ]
    },
    {
      "cell_type": "markdown",
      "metadata": {
        "id": "JiW5g17D46OU",
        "pycharm": {
          "name": "#%% md\n"
        },
        "tags": []
      },
      "source": [
        "##### Librerías"
      ]
    },
    {
      "cell_type": "code",
      "execution_count": 4,
      "metadata": {
        "jupyter": {
          "outputs_hidden": false
        },
        "pycharm": {
          "name": "#%%\n"
        },
        "id": "xztvC-Wz7GRD"
      },
      "outputs": [],
      "source": [
        "import pandas as pd\n",
        "from pandas.plotting import scatter_matrix\n",
        "import numpy as np\n",
        "import matplotlib.pyplot as plt\n",
        "import seaborn as sns\n",
        "#import geopandas as gpd\n",
        "\n",
        "import warnings\n",
        "\n",
        "warnings.simplefilter(action='ignore', category=FutureWarning)\n",
        "warnings.simplefilter(action='ignore', category=UserWarning)"
      ]
    },
    {
      "cell_type": "code",
      "execution_count": 5,
      "metadata": {
        "jupyter": {
          "outputs_hidden": false
        },
        "pycharm": {
          "name": "#%%\n"
        },
        "id": "ussrso6U7GRE"
      },
      "outputs": [],
      "source": [
        "from IPython.display import display, HTML\n",
        "\n",
        "\n",
        "def display_side_by_side(dfs: list, captions: list):\n",
        "    \"\"\"Display tables side by side to save vertical space\n",
        "    Input:\n",
        "        dfs: list of pandas.DataFrame\n",
        "        captions: list of table captions\n",
        "    \"\"\"\n",
        "    output = \"\"\n",
        "    combined = dict(zip(captions, dfs))\n",
        "    for caption, df in combined.items():\n",
        "        output += df.style.set_table_attributes(\"style='display:inline'\").set_caption(caption)._repr_html_()\n",
        "        output += \"\\xa0\\xa0\\xa0\"\n",
        "    display(HTML(output))"
      ]
    },
    {
      "cell_type": "code",
      "execution_count": 6,
      "metadata": {
        "jupyter": {
          "outputs_hidden": false
        },
        "pycharm": {
          "name": "#%%\n"
        },
        "id": "w2PO-zOV7GRE"
      },
      "outputs": [],
      "source": [
        "complete_dataset = pd.read_csv(\"./properati_argentina_2021.csv\")\n",
        "df = complete_dataset.copy()"
      ]
    },
    {
      "cell_type": "markdown",
      "metadata": {
        "pycharm": {
          "name": "#%% md\n"
        },
        "tags": [],
        "id": "9GZWQDps7GRF"
      },
      "source": [
        "## Análisis Exploratorio y Preprocesamiento de Datos"
      ]
    },
    {
      "cell_type": "markdown",
      "metadata": {
        "pycharm": {
          "name": "#%% md\n"
        },
        "id": "eEL5nVrK7GRF"
      },
      "source": [
        "Primero, observaremos un poco los datos que tiene el dataset"
      ]
    },
    {
      "cell_type": "markdown",
      "metadata": {
        "pycharm": {
          "name": "#%% md\n"
        },
        "id": "vpKwtAO67GRF"
      },
      "source": [
        "**Primeras 5 observaciones**"
      ]
    },
    {
      "cell_type": "code",
      "execution_count": 7,
      "metadata": {
        "jupyter": {
          "outputs_hidden": false
        },
        "pycharm": {
          "name": "#%%\n"
        },
        "colab": {
          "base_uri": "https://localhost:8080/",
          "height": 357
        },
        "id": "ERHexmCZ7GRF",
        "outputId": "66aafb4e-4fdc-4ec9-bb04-c9697d30a794"
      },
      "outputs": [
        {
          "output_type": "execute_result",
          "data": {
            "text/plain": [
              "                         id  start_date    end_date  created_on    latitud  \\\n",
              "0  XZq2dFGxBiboHY3Bo/tqlw==  2021-09-09  2022-01-27  2021-09-09 -38.957632   \n",
              "1  8afoK+yMH/rnnlYiktwgNA==  2021-09-09  2021-10-23  2021-09-09 -34.888878   \n",
              "2  iVaG5rBB47dd1Ya4BMXREA==  2021-09-09  2022-03-09  2021-09-09 -32.488717   \n",
              "3  QE1QVMWKAHWkd0qT0FtPWA==  2021-09-09  2022-01-27  2021-09-09 -34.900165   \n",
              "4  tJ5lSk7IysG/71OGhacNZA==  2021-09-09  2022-01-27  2021-09-09 -38.954528   \n",
              "\n",
              "    longitud    place_l2 place_l3 place_l4 place_l5  place_l6 operation  \\\n",
              "0 -68.105443     Neuquén      NaN      NaN      NaN       NaN     Venta   \n",
              "1 -56.092368  Montevideo      NaN      NaN      NaN       NaN     Venta   \n",
              "2 -58.257499  Entre Ríos      NaN      NaN      NaN       NaN     Venta   \n",
              "3 -54.808453   Maldonado      NaN      NaN      NaN       NaN     Venta   \n",
              "4 -68.041862     Neuquén      NaN      NaN      NaN       NaN     Venta   \n",
              "\n",
              "  property_type  property_rooms  property_bedrooms  property_surface_total  \\\n",
              "0          Casa             6.0                NaN                     NaN   \n",
              "1          Casa             4.0                3.0                   193.0   \n",
              "2          Casa             NaN                NaN                   110.0   \n",
              "3          Casa             NaN                3.0                     NaN   \n",
              "4            PH             3.0                2.0                     NaN   \n",
              "\n",
              "   property_surface_covered  property_price property_currency  \\\n",
              "0                     206.0             NaN               NaN   \n",
              "1                     193.0        390000.0               USD   \n",
              "2                      45.0         47000.0               USD   \n",
              "3                     180.0        400000.0               USD   \n",
              "4                      98.0        102000.0               USD   \n",
              "\n",
              "       property_title  \n",
              "0      Casa - Capital  \n",
              "1       Casa - Malvín  \n",
              "2      Casa - Uruguay  \n",
              "3    Casa - El Chorro  \n",
              "4  PH - Villa Farrell  "
            ],
            "text/html": [
              "\n",
              "  <div id=\"df-3a853d9a-79f5-4bd9-a3e2-f343cba002a9\">\n",
              "    <div class=\"colab-df-container\">\n",
              "      <div>\n",
              "<style scoped>\n",
              "    .dataframe tbody tr th:only-of-type {\n",
              "        vertical-align: middle;\n",
              "    }\n",
              "\n",
              "    .dataframe tbody tr th {\n",
              "        vertical-align: top;\n",
              "    }\n",
              "\n",
              "    .dataframe thead th {\n",
              "        text-align: right;\n",
              "    }\n",
              "</style>\n",
              "<table border=\"1\" class=\"dataframe\">\n",
              "  <thead>\n",
              "    <tr style=\"text-align: right;\">\n",
              "      <th></th>\n",
              "      <th>id</th>\n",
              "      <th>start_date</th>\n",
              "      <th>end_date</th>\n",
              "      <th>created_on</th>\n",
              "      <th>latitud</th>\n",
              "      <th>longitud</th>\n",
              "      <th>place_l2</th>\n",
              "      <th>place_l3</th>\n",
              "      <th>place_l4</th>\n",
              "      <th>place_l5</th>\n",
              "      <th>place_l6</th>\n",
              "      <th>operation</th>\n",
              "      <th>property_type</th>\n",
              "      <th>property_rooms</th>\n",
              "      <th>property_bedrooms</th>\n",
              "      <th>property_surface_total</th>\n",
              "      <th>property_surface_covered</th>\n",
              "      <th>property_price</th>\n",
              "      <th>property_currency</th>\n",
              "      <th>property_title</th>\n",
              "    </tr>\n",
              "  </thead>\n",
              "  <tbody>\n",
              "    <tr>\n",
              "      <th>0</th>\n",
              "      <td>XZq2dFGxBiboHY3Bo/tqlw==</td>\n",
              "      <td>2021-09-09</td>\n",
              "      <td>2022-01-27</td>\n",
              "      <td>2021-09-09</td>\n",
              "      <td>-38.957632</td>\n",
              "      <td>-68.105443</td>\n",
              "      <td>Neuquén</td>\n",
              "      <td>NaN</td>\n",
              "      <td>NaN</td>\n",
              "      <td>NaN</td>\n",
              "      <td>NaN</td>\n",
              "      <td>Venta</td>\n",
              "      <td>Casa</td>\n",
              "      <td>6.0</td>\n",
              "      <td>NaN</td>\n",
              "      <td>NaN</td>\n",
              "      <td>206.0</td>\n",
              "      <td>NaN</td>\n",
              "      <td>NaN</td>\n",
              "      <td>Casa - Capital</td>\n",
              "    </tr>\n",
              "    <tr>\n",
              "      <th>1</th>\n",
              "      <td>8afoK+yMH/rnnlYiktwgNA==</td>\n",
              "      <td>2021-09-09</td>\n",
              "      <td>2021-10-23</td>\n",
              "      <td>2021-09-09</td>\n",
              "      <td>-34.888878</td>\n",
              "      <td>-56.092368</td>\n",
              "      <td>Montevideo</td>\n",
              "      <td>NaN</td>\n",
              "      <td>NaN</td>\n",
              "      <td>NaN</td>\n",
              "      <td>NaN</td>\n",
              "      <td>Venta</td>\n",
              "      <td>Casa</td>\n",
              "      <td>4.0</td>\n",
              "      <td>3.0</td>\n",
              "      <td>193.0</td>\n",
              "      <td>193.0</td>\n",
              "      <td>390000.0</td>\n",
              "      <td>USD</td>\n",
              "      <td>Casa - Malvín</td>\n",
              "    </tr>\n",
              "    <tr>\n",
              "      <th>2</th>\n",
              "      <td>iVaG5rBB47dd1Ya4BMXREA==</td>\n",
              "      <td>2021-09-09</td>\n",
              "      <td>2022-03-09</td>\n",
              "      <td>2021-09-09</td>\n",
              "      <td>-32.488717</td>\n",
              "      <td>-58.257499</td>\n",
              "      <td>Entre Ríos</td>\n",
              "      <td>NaN</td>\n",
              "      <td>NaN</td>\n",
              "      <td>NaN</td>\n",
              "      <td>NaN</td>\n",
              "      <td>Venta</td>\n",
              "      <td>Casa</td>\n",
              "      <td>NaN</td>\n",
              "      <td>NaN</td>\n",
              "      <td>110.0</td>\n",
              "      <td>45.0</td>\n",
              "      <td>47000.0</td>\n",
              "      <td>USD</td>\n",
              "      <td>Casa - Uruguay</td>\n",
              "    </tr>\n",
              "    <tr>\n",
              "      <th>3</th>\n",
              "      <td>QE1QVMWKAHWkd0qT0FtPWA==</td>\n",
              "      <td>2021-09-09</td>\n",
              "      <td>2022-01-27</td>\n",
              "      <td>2021-09-09</td>\n",
              "      <td>-34.900165</td>\n",
              "      <td>-54.808453</td>\n",
              "      <td>Maldonado</td>\n",
              "      <td>NaN</td>\n",
              "      <td>NaN</td>\n",
              "      <td>NaN</td>\n",
              "      <td>NaN</td>\n",
              "      <td>Venta</td>\n",
              "      <td>Casa</td>\n",
              "      <td>NaN</td>\n",
              "      <td>3.0</td>\n",
              "      <td>NaN</td>\n",
              "      <td>180.0</td>\n",
              "      <td>400000.0</td>\n",
              "      <td>USD</td>\n",
              "      <td>Casa - El Chorro</td>\n",
              "    </tr>\n",
              "    <tr>\n",
              "      <th>4</th>\n",
              "      <td>tJ5lSk7IysG/71OGhacNZA==</td>\n",
              "      <td>2021-09-09</td>\n",
              "      <td>2022-01-27</td>\n",
              "      <td>2021-09-09</td>\n",
              "      <td>-38.954528</td>\n",
              "      <td>-68.041862</td>\n",
              "      <td>Neuquén</td>\n",
              "      <td>NaN</td>\n",
              "      <td>NaN</td>\n",
              "      <td>NaN</td>\n",
              "      <td>NaN</td>\n",
              "      <td>Venta</td>\n",
              "      <td>PH</td>\n",
              "      <td>3.0</td>\n",
              "      <td>2.0</td>\n",
              "      <td>NaN</td>\n",
              "      <td>98.0</td>\n",
              "      <td>102000.0</td>\n",
              "      <td>USD</td>\n",
              "      <td>PH - Villa Farrell</td>\n",
              "    </tr>\n",
              "  </tbody>\n",
              "</table>\n",
              "</div>\n",
              "      <button class=\"colab-df-convert\" onclick=\"convertToInteractive('df-3a853d9a-79f5-4bd9-a3e2-f343cba002a9')\"\n",
              "              title=\"Convert this dataframe to an interactive table.\"\n",
              "              style=\"display:none;\">\n",
              "        \n",
              "  <svg xmlns=\"http://www.w3.org/2000/svg\" height=\"24px\"viewBox=\"0 0 24 24\"\n",
              "       width=\"24px\">\n",
              "    <path d=\"M0 0h24v24H0V0z\" fill=\"none\"/>\n",
              "    <path d=\"M18.56 5.44l.94 2.06.94-2.06 2.06-.94-2.06-.94-.94-2.06-.94 2.06-2.06.94zm-11 1L8.5 8.5l.94-2.06 2.06-.94-2.06-.94L8.5 2.5l-.94 2.06-2.06.94zm10 10l.94 2.06.94-2.06 2.06-.94-2.06-.94-.94-2.06-.94 2.06-2.06.94z\"/><path d=\"M17.41 7.96l-1.37-1.37c-.4-.4-.92-.59-1.43-.59-.52 0-1.04.2-1.43.59L10.3 9.45l-7.72 7.72c-.78.78-.78 2.05 0 2.83L4 21.41c.39.39.9.59 1.41.59.51 0 1.02-.2 1.41-.59l7.78-7.78 2.81-2.81c.8-.78.8-2.07 0-2.86zM5.41 20L4 18.59l7.72-7.72 1.47 1.35L5.41 20z\"/>\n",
              "  </svg>\n",
              "      </button>\n",
              "      \n",
              "  <style>\n",
              "    .colab-df-container {\n",
              "      display:flex;\n",
              "      flex-wrap:wrap;\n",
              "      gap: 12px;\n",
              "    }\n",
              "\n",
              "    .colab-df-convert {\n",
              "      background-color: #E8F0FE;\n",
              "      border: none;\n",
              "      border-radius: 50%;\n",
              "      cursor: pointer;\n",
              "      display: none;\n",
              "      fill: #1967D2;\n",
              "      height: 32px;\n",
              "      padding: 0 0 0 0;\n",
              "      width: 32px;\n",
              "    }\n",
              "\n",
              "    .colab-df-convert:hover {\n",
              "      background-color: #E2EBFA;\n",
              "      box-shadow: 0px 1px 2px rgba(60, 64, 67, 0.3), 0px 1px 3px 1px rgba(60, 64, 67, 0.15);\n",
              "      fill: #174EA6;\n",
              "    }\n",
              "\n",
              "    [theme=dark] .colab-df-convert {\n",
              "      background-color: #3B4455;\n",
              "      fill: #D2E3FC;\n",
              "    }\n",
              "\n",
              "    [theme=dark] .colab-df-convert:hover {\n",
              "      background-color: #434B5C;\n",
              "      box-shadow: 0px 1px 3px 1px rgba(0, 0, 0, 0.15);\n",
              "      filter: drop-shadow(0px 1px 2px rgba(0, 0, 0, 0.3));\n",
              "      fill: #FFFFFF;\n",
              "    }\n",
              "  </style>\n",
              "\n",
              "      <script>\n",
              "        const buttonEl =\n",
              "          document.querySelector('#df-3a853d9a-79f5-4bd9-a3e2-f343cba002a9 button.colab-df-convert');\n",
              "        buttonEl.style.display =\n",
              "          google.colab.kernel.accessAllowed ? 'block' : 'none';\n",
              "\n",
              "        async function convertToInteractive(key) {\n",
              "          const element = document.querySelector('#df-3a853d9a-79f5-4bd9-a3e2-f343cba002a9');\n",
              "          const dataTable =\n",
              "            await google.colab.kernel.invokeFunction('convertToInteractive',\n",
              "                                                     [key], {});\n",
              "          if (!dataTable) return;\n",
              "\n",
              "          const docLinkHtml = 'Like what you see? Visit the ' +\n",
              "            '<a target=\"_blank\" href=https://colab.research.google.com/notebooks/data_table.ipynb>data table notebook</a>'\n",
              "            + ' to learn more about interactive tables.';\n",
              "          element.innerHTML = '';\n",
              "          dataTable['output_type'] = 'display_data';\n",
              "          await google.colab.output.renderOutput(dataTable, element);\n",
              "          const docLink = document.createElement('div');\n",
              "          docLink.innerHTML = docLinkHtml;\n",
              "          element.appendChild(docLink);\n",
              "        }\n",
              "      </script>\n",
              "    </div>\n",
              "  </div>\n",
              "  "
            ]
          },
          "metadata": {},
          "execution_count": 7
        }
      ],
      "source": [
        "df.head()"
      ]
    },
    {
      "cell_type": "code",
      "execution_count": 8,
      "metadata": {
        "jupyter": {
          "outputs_hidden": false
        },
        "pycharm": {
          "name": "#%%\n"
        },
        "colab": {
          "base_uri": "https://localhost:8080/"
        },
        "id": "v4HLCh0_7GRG",
        "outputId": "70e50b39-3328-43c6-c970-e52397e15a2c"
      },
      "outputs": [
        {
          "output_type": "stream",
          "name": "stdout",
          "text": [
            "El dataset tiene 219428 filas y 20 columnas\n"
          ]
        }
      ],
      "source": [
        "print(f\"El dataset tiene {df.shape[0]} filas y {df.shape[1]} columnas\")"
      ]
    },
    {
      "cell_type": "code",
      "execution_count": 9,
      "metadata": {
        "jupyter": {
          "outputs_hidden": false
        },
        "pycharm": {
          "name": "#%%\n"
        },
        "colab": {
          "base_uri": "https://localhost:8080/",
          "height": 300
        },
        "id": "uUu9bxsw7GRG",
        "outputId": "6e4e73e5-9207-4d19-aa8c-b29b2707f768"
      },
      "outputs": [
        {
          "output_type": "execute_result",
          "data": {
            "text/plain": [
              "             latitud       longitud  place_l6  property_rooms  \\\n",
              "count  199749.000000  199749.000000       0.0   177380.000000   \n",
              "mean      -34.217279     -59.518381       NaN        3.264449   \n",
              "std         3.390056       2.876171       NaN        1.880655   \n",
              "min       -54.832057     -95.712891       NaN        1.000000   \n",
              "25%       -34.642183     -58.899155       NaN        2.000000   \n",
              "50%       -34.585999     -58.485302       NaN        3.000000   \n",
              "75%       -34.424623     -58.403779       NaN        4.000000   \n",
              "max        42.445407     -35.044991       NaN       40.000000   \n",
              "\n",
              "       property_bedrooms  property_surface_total  property_surface_covered  \\\n",
              "count      165952.000000           190001.000000              2.031600e+05   \n",
              "mean            2.293392              381.145541              2.691529e+03   \n",
              "std             1.587192             3743.776546              4.003007e+05   \n",
              "min            -3.000000               10.000000             -3.000000e+00   \n",
              "25%             1.000000               50.000000              4.500000e+01   \n",
              "50%             2.000000               87.000000              7.600000e+01   \n",
              "75%             3.000000              200.000000              1.620000e+02   \n",
              "max           123.000000           200000.000000              1.128600e+08   \n",
              "\n",
              "       property_price  \n",
              "count    2.107530e+05  \n",
              "mean     3.078624e+05  \n",
              "std      5.534149e+06  \n",
              "min      0.000000e+00  \n",
              "25%      4.300000e+04  \n",
              "50%      9.600000e+04  \n",
              "75%      1.984000e+05  \n",
              "max      1.500000e+09  "
            ],
            "text/html": [
              "\n",
              "  <div id=\"df-c51e5b36-956a-442e-a098-93e0add6b755\">\n",
              "    <div class=\"colab-df-container\">\n",
              "      <div>\n",
              "<style scoped>\n",
              "    .dataframe tbody tr th:only-of-type {\n",
              "        vertical-align: middle;\n",
              "    }\n",
              "\n",
              "    .dataframe tbody tr th {\n",
              "        vertical-align: top;\n",
              "    }\n",
              "\n",
              "    .dataframe thead th {\n",
              "        text-align: right;\n",
              "    }\n",
              "</style>\n",
              "<table border=\"1\" class=\"dataframe\">\n",
              "  <thead>\n",
              "    <tr style=\"text-align: right;\">\n",
              "      <th></th>\n",
              "      <th>latitud</th>\n",
              "      <th>longitud</th>\n",
              "      <th>place_l6</th>\n",
              "      <th>property_rooms</th>\n",
              "      <th>property_bedrooms</th>\n",
              "      <th>property_surface_total</th>\n",
              "      <th>property_surface_covered</th>\n",
              "      <th>property_price</th>\n",
              "    </tr>\n",
              "  </thead>\n",
              "  <tbody>\n",
              "    <tr>\n",
              "      <th>count</th>\n",
              "      <td>199749.000000</td>\n",
              "      <td>199749.000000</td>\n",
              "      <td>0.0</td>\n",
              "      <td>177380.000000</td>\n",
              "      <td>165952.000000</td>\n",
              "      <td>190001.000000</td>\n",
              "      <td>2.031600e+05</td>\n",
              "      <td>2.107530e+05</td>\n",
              "    </tr>\n",
              "    <tr>\n",
              "      <th>mean</th>\n",
              "      <td>-34.217279</td>\n",
              "      <td>-59.518381</td>\n",
              "      <td>NaN</td>\n",
              "      <td>3.264449</td>\n",
              "      <td>2.293392</td>\n",
              "      <td>381.145541</td>\n",
              "      <td>2.691529e+03</td>\n",
              "      <td>3.078624e+05</td>\n",
              "    </tr>\n",
              "    <tr>\n",
              "      <th>std</th>\n",
              "      <td>3.390056</td>\n",
              "      <td>2.876171</td>\n",
              "      <td>NaN</td>\n",
              "      <td>1.880655</td>\n",
              "      <td>1.587192</td>\n",
              "      <td>3743.776546</td>\n",
              "      <td>4.003007e+05</td>\n",
              "      <td>5.534149e+06</td>\n",
              "    </tr>\n",
              "    <tr>\n",
              "      <th>min</th>\n",
              "      <td>-54.832057</td>\n",
              "      <td>-95.712891</td>\n",
              "      <td>NaN</td>\n",
              "      <td>1.000000</td>\n",
              "      <td>-3.000000</td>\n",
              "      <td>10.000000</td>\n",
              "      <td>-3.000000e+00</td>\n",
              "      <td>0.000000e+00</td>\n",
              "    </tr>\n",
              "    <tr>\n",
              "      <th>25%</th>\n",
              "      <td>-34.642183</td>\n",
              "      <td>-58.899155</td>\n",
              "      <td>NaN</td>\n",
              "      <td>2.000000</td>\n",
              "      <td>1.000000</td>\n",
              "      <td>50.000000</td>\n",
              "      <td>4.500000e+01</td>\n",
              "      <td>4.300000e+04</td>\n",
              "    </tr>\n",
              "    <tr>\n",
              "      <th>50%</th>\n",
              "      <td>-34.585999</td>\n",
              "      <td>-58.485302</td>\n",
              "      <td>NaN</td>\n",
              "      <td>3.000000</td>\n",
              "      <td>2.000000</td>\n",
              "      <td>87.000000</td>\n",
              "      <td>7.600000e+01</td>\n",
              "      <td>9.600000e+04</td>\n",
              "    </tr>\n",
              "    <tr>\n",
              "      <th>75%</th>\n",
              "      <td>-34.424623</td>\n",
              "      <td>-58.403779</td>\n",
              "      <td>NaN</td>\n",
              "      <td>4.000000</td>\n",
              "      <td>3.000000</td>\n",
              "      <td>200.000000</td>\n",
              "      <td>1.620000e+02</td>\n",
              "      <td>1.984000e+05</td>\n",
              "    </tr>\n",
              "    <tr>\n",
              "      <th>max</th>\n",
              "      <td>42.445407</td>\n",
              "      <td>-35.044991</td>\n",
              "      <td>NaN</td>\n",
              "      <td>40.000000</td>\n",
              "      <td>123.000000</td>\n",
              "      <td>200000.000000</td>\n",
              "      <td>1.128600e+08</td>\n",
              "      <td>1.500000e+09</td>\n",
              "    </tr>\n",
              "  </tbody>\n",
              "</table>\n",
              "</div>\n",
              "      <button class=\"colab-df-convert\" onclick=\"convertToInteractive('df-c51e5b36-956a-442e-a098-93e0add6b755')\"\n",
              "              title=\"Convert this dataframe to an interactive table.\"\n",
              "              style=\"display:none;\">\n",
              "        \n",
              "  <svg xmlns=\"http://www.w3.org/2000/svg\" height=\"24px\"viewBox=\"0 0 24 24\"\n",
              "       width=\"24px\">\n",
              "    <path d=\"M0 0h24v24H0V0z\" fill=\"none\"/>\n",
              "    <path d=\"M18.56 5.44l.94 2.06.94-2.06 2.06-.94-2.06-.94-.94-2.06-.94 2.06-2.06.94zm-11 1L8.5 8.5l.94-2.06 2.06-.94-2.06-.94L8.5 2.5l-.94 2.06-2.06.94zm10 10l.94 2.06.94-2.06 2.06-.94-2.06-.94-.94-2.06-.94 2.06-2.06.94z\"/><path d=\"M17.41 7.96l-1.37-1.37c-.4-.4-.92-.59-1.43-.59-.52 0-1.04.2-1.43.59L10.3 9.45l-7.72 7.72c-.78.78-.78 2.05 0 2.83L4 21.41c.39.39.9.59 1.41.59.51 0 1.02-.2 1.41-.59l7.78-7.78 2.81-2.81c.8-.78.8-2.07 0-2.86zM5.41 20L4 18.59l7.72-7.72 1.47 1.35L5.41 20z\"/>\n",
              "  </svg>\n",
              "      </button>\n",
              "      \n",
              "  <style>\n",
              "    .colab-df-container {\n",
              "      display:flex;\n",
              "      flex-wrap:wrap;\n",
              "      gap: 12px;\n",
              "    }\n",
              "\n",
              "    .colab-df-convert {\n",
              "      background-color: #E8F0FE;\n",
              "      border: none;\n",
              "      border-radius: 50%;\n",
              "      cursor: pointer;\n",
              "      display: none;\n",
              "      fill: #1967D2;\n",
              "      height: 32px;\n",
              "      padding: 0 0 0 0;\n",
              "      width: 32px;\n",
              "    }\n",
              "\n",
              "    .colab-df-convert:hover {\n",
              "      background-color: #E2EBFA;\n",
              "      box-shadow: 0px 1px 2px rgba(60, 64, 67, 0.3), 0px 1px 3px 1px rgba(60, 64, 67, 0.15);\n",
              "      fill: #174EA6;\n",
              "    }\n",
              "\n",
              "    [theme=dark] .colab-df-convert {\n",
              "      background-color: #3B4455;\n",
              "      fill: #D2E3FC;\n",
              "    }\n",
              "\n",
              "    [theme=dark] .colab-df-convert:hover {\n",
              "      background-color: #434B5C;\n",
              "      box-shadow: 0px 1px 3px 1px rgba(0, 0, 0, 0.15);\n",
              "      filter: drop-shadow(0px 1px 2px rgba(0, 0, 0, 0.3));\n",
              "      fill: #FFFFFF;\n",
              "    }\n",
              "  </style>\n",
              "\n",
              "      <script>\n",
              "        const buttonEl =\n",
              "          document.querySelector('#df-c51e5b36-956a-442e-a098-93e0add6b755 button.colab-df-convert');\n",
              "        buttonEl.style.display =\n",
              "          google.colab.kernel.accessAllowed ? 'block' : 'none';\n",
              "\n",
              "        async function convertToInteractive(key) {\n",
              "          const element = document.querySelector('#df-c51e5b36-956a-442e-a098-93e0add6b755');\n",
              "          const dataTable =\n",
              "            await google.colab.kernel.invokeFunction('convertToInteractive',\n",
              "                                                     [key], {});\n",
              "          if (!dataTable) return;\n",
              "\n",
              "          const docLinkHtml = 'Like what you see? Visit the ' +\n",
              "            '<a target=\"_blank\" href=https://colab.research.google.com/notebooks/data_table.ipynb>data table notebook</a>'\n",
              "            + ' to learn more about interactive tables.';\n",
              "          element.innerHTML = '';\n",
              "          dataTable['output_type'] = 'display_data';\n",
              "          await google.colab.output.renderOutput(dataTable, element);\n",
              "          const docLink = document.createElement('div');\n",
              "          docLink.innerHTML = docLinkHtml;\n",
              "          element.appendChild(docLink);\n",
              "        }\n",
              "      </script>\n",
              "    </div>\n",
              "  </div>\n",
              "  "
            ]
          },
          "metadata": {},
          "execution_count": 9
        }
      ],
      "source": [
        "df.describe()"
      ]
    },
    {
      "cell_type": "code",
      "execution_count": 10,
      "metadata": {
        "jupyter": {
          "outputs_hidden": false
        },
        "pycharm": {
          "name": "#%%\n"
        },
        "colab": {
          "base_uri": "https://localhost:8080/"
        },
        "id": "8vOYIqZa7GRH",
        "outputId": "d208a0a0-386a-4da6-ea6c-95fcd959764a"
      },
      "outputs": [
        {
          "output_type": "stream",
          "name": "stdout",
          "text": [
            "<class 'pandas.core.frame.DataFrame'>\n",
            "RangeIndex: 219428 entries, 0 to 219427\n",
            "Data columns (total 20 columns):\n",
            " #   Column                    Non-Null Count   Dtype  \n",
            "---  ------                    --------------   -----  \n",
            " 0   id                        219428 non-null  object \n",
            " 1   start_date                219428 non-null  object \n",
            " 2   end_date                  219428 non-null  object \n",
            " 3   created_on                219428 non-null  object \n",
            " 4   latitud                   199749 non-null  float64\n",
            " 5   longitud                  199749 non-null  float64\n",
            " 6   place_l2                  219428 non-null  object \n",
            " 7   place_l3                  208756 non-null  object \n",
            " 8   place_l4                  65303 non-null   object \n",
            " 9   place_l5                  1100 non-null    object \n",
            " 10  place_l6                  0 non-null       float64\n",
            " 11  operation                 219428 non-null  object \n",
            " 12  property_type             219428 non-null  object \n",
            " 13  property_rooms            177380 non-null  float64\n",
            " 14  property_bedrooms         165952 non-null  float64\n",
            " 15  property_surface_total    190001 non-null  float64\n",
            " 16  property_surface_covered  203160 non-null  float64\n",
            " 17  property_price            210753 non-null  float64\n",
            " 18  property_currency         210478 non-null  object \n",
            " 19  property_title            219428 non-null  object \n",
            "dtypes: float64(8), object(12)\n",
            "memory usage: 33.5+ MB\n"
          ]
        }
      ],
      "source": [
        "df.info()"
      ]
    },
    {
      "cell_type": "code",
      "execution_count": 11,
      "metadata": {
        "jupyter": {
          "outputs_hidden": false
        },
        "pycharm": {
          "name": "#%%\n"
        },
        "colab": {
          "base_uri": "https://localhost:8080/"
        },
        "id": "6ZLlehHR7GRH",
        "outputId": "c75b7f2a-110d-413b-8896-91c4b9f4fc6b"
      },
      "outputs": [
        {
          "output_type": "execute_result",
          "data": {
            "text/plain": [
              "id                           object\n",
              "start_date                   object\n",
              "end_date                     object\n",
              "created_on                   object\n",
              "latitud                     float64\n",
              "longitud                    float64\n",
              "place_l2                     object\n",
              "place_l3                     object\n",
              "place_l4                     object\n",
              "place_l5                     object\n",
              "place_l6                    float64\n",
              "operation                    object\n",
              "property_type                object\n",
              "property_rooms              float64\n",
              "property_bedrooms           float64\n",
              "property_surface_total      float64\n",
              "property_surface_covered    float64\n",
              "property_price              float64\n",
              "property_currency            object\n",
              "property_title               object\n",
              "dtype: object"
            ]
          },
          "metadata": {},
          "execution_count": 11
        }
      ],
      "source": [
        "df.dtypes"
      ]
    },
    {
      "cell_type": "markdown",
      "metadata": {
        "pycharm": {
          "name": "#%% md\n"
        },
        "tags": [],
        "id": "0B-j88U17GRH"
      },
      "source": [
        "## Filtrado inicial del Dataset\n",
        "Como trabajaremos con un universo acotado de propiedades, haremos una selección inicial de las publicaciones que nos interesa analizar:\n",
        "\n",
        "Como primer paso hay que filtrar las observaciones que su tipo de vivienda sea: Casa, PH o Departamento.\n",
        "\n",
        "Luego filtramos la ubicacion quedandonos unicamente con las propiedades de Capital Federal.\n",
        "\n",
        "A continuación, consideraremos solo las que esten cotizadas en dolares.\n",
        "\n",
        "Y finalmente, tomamos solo las que sean ventas"
      ]
    },
    {
      "cell_type": "code",
      "execution_count": 12,
      "metadata": {
        "jupyter": {
          "outputs_hidden": false
        },
        "pycharm": {
          "name": "#%%\n"
        },
        "colab": {
          "base_uri": "https://localhost:8080/",
          "height": 424
        },
        "id": "-V5IqrxI7GRH",
        "outputId": "cedd97ca-4840-46ce-8ce5-2561a76603c7"
      },
      "outputs": [
        {
          "output_type": "execute_result",
          "data": {
            "text/plain": [
              "               place_l2   place_l3 property_currency property_type operation\n",
              "25      Capital Federal        NaN               USD          Casa     Venta\n",
              "42      Capital Federal       Boca               USD  Departamento     Venta\n",
              "43      Capital Federal       Boca               USD  Departamento     Venta\n",
              "49      Capital Federal       Once               USD  Departamento     Venta\n",
              "51      Capital Federal      Boedo               USD            PH     Venta\n",
              "...                 ...        ...               ...           ...       ...\n",
              "219210  Capital Federal      Boedo               USD          Casa     Venta\n",
              "219211  Capital Federal      Boedo               USD          Casa     Venta\n",
              "219288  Capital Federal    Almagro               USD          Casa     Venta\n",
              "219349  Capital Federal  Caballito               USD          Casa     Venta\n",
              "219351  Capital Federal  Versalles               USD          Casa     Venta\n",
              "\n",
              "[44919 rows x 5 columns]"
            ],
            "text/html": [
              "\n",
              "  <div id=\"df-b1879c62-56ce-4906-8bea-25d04f8cb6d5\">\n",
              "    <div class=\"colab-df-container\">\n",
              "      <div>\n",
              "<style scoped>\n",
              "    .dataframe tbody tr th:only-of-type {\n",
              "        vertical-align: middle;\n",
              "    }\n",
              "\n",
              "    .dataframe tbody tr th {\n",
              "        vertical-align: top;\n",
              "    }\n",
              "\n",
              "    .dataframe thead th {\n",
              "        text-align: right;\n",
              "    }\n",
              "</style>\n",
              "<table border=\"1\" class=\"dataframe\">\n",
              "  <thead>\n",
              "    <tr style=\"text-align: right;\">\n",
              "      <th></th>\n",
              "      <th>place_l2</th>\n",
              "      <th>place_l3</th>\n",
              "      <th>property_currency</th>\n",
              "      <th>property_type</th>\n",
              "      <th>operation</th>\n",
              "    </tr>\n",
              "  </thead>\n",
              "  <tbody>\n",
              "    <tr>\n",
              "      <th>25</th>\n",
              "      <td>Capital Federal</td>\n",
              "      <td>NaN</td>\n",
              "      <td>USD</td>\n",
              "      <td>Casa</td>\n",
              "      <td>Venta</td>\n",
              "    </tr>\n",
              "    <tr>\n",
              "      <th>42</th>\n",
              "      <td>Capital Federal</td>\n",
              "      <td>Boca</td>\n",
              "      <td>USD</td>\n",
              "      <td>Departamento</td>\n",
              "      <td>Venta</td>\n",
              "    </tr>\n",
              "    <tr>\n",
              "      <th>43</th>\n",
              "      <td>Capital Federal</td>\n",
              "      <td>Boca</td>\n",
              "      <td>USD</td>\n",
              "      <td>Departamento</td>\n",
              "      <td>Venta</td>\n",
              "    </tr>\n",
              "    <tr>\n",
              "      <th>49</th>\n",
              "      <td>Capital Federal</td>\n",
              "      <td>Once</td>\n",
              "      <td>USD</td>\n",
              "      <td>Departamento</td>\n",
              "      <td>Venta</td>\n",
              "    </tr>\n",
              "    <tr>\n",
              "      <th>51</th>\n",
              "      <td>Capital Federal</td>\n",
              "      <td>Boedo</td>\n",
              "      <td>USD</td>\n",
              "      <td>PH</td>\n",
              "      <td>Venta</td>\n",
              "    </tr>\n",
              "    <tr>\n",
              "      <th>...</th>\n",
              "      <td>...</td>\n",
              "      <td>...</td>\n",
              "      <td>...</td>\n",
              "      <td>...</td>\n",
              "      <td>...</td>\n",
              "    </tr>\n",
              "    <tr>\n",
              "      <th>219210</th>\n",
              "      <td>Capital Federal</td>\n",
              "      <td>Boedo</td>\n",
              "      <td>USD</td>\n",
              "      <td>Casa</td>\n",
              "      <td>Venta</td>\n",
              "    </tr>\n",
              "    <tr>\n",
              "      <th>219211</th>\n",
              "      <td>Capital Federal</td>\n",
              "      <td>Boedo</td>\n",
              "      <td>USD</td>\n",
              "      <td>Casa</td>\n",
              "      <td>Venta</td>\n",
              "    </tr>\n",
              "    <tr>\n",
              "      <th>219288</th>\n",
              "      <td>Capital Federal</td>\n",
              "      <td>Almagro</td>\n",
              "      <td>USD</td>\n",
              "      <td>Casa</td>\n",
              "      <td>Venta</td>\n",
              "    </tr>\n",
              "    <tr>\n",
              "      <th>219349</th>\n",
              "      <td>Capital Federal</td>\n",
              "      <td>Caballito</td>\n",
              "      <td>USD</td>\n",
              "      <td>Casa</td>\n",
              "      <td>Venta</td>\n",
              "    </tr>\n",
              "    <tr>\n",
              "      <th>219351</th>\n",
              "      <td>Capital Federal</td>\n",
              "      <td>Versalles</td>\n",
              "      <td>USD</td>\n",
              "      <td>Casa</td>\n",
              "      <td>Venta</td>\n",
              "    </tr>\n",
              "  </tbody>\n",
              "</table>\n",
              "<p>44919 rows × 5 columns</p>\n",
              "</div>\n",
              "      <button class=\"colab-df-convert\" onclick=\"convertToInteractive('df-b1879c62-56ce-4906-8bea-25d04f8cb6d5')\"\n",
              "              title=\"Convert this dataframe to an interactive table.\"\n",
              "              style=\"display:none;\">\n",
              "        \n",
              "  <svg xmlns=\"http://www.w3.org/2000/svg\" height=\"24px\"viewBox=\"0 0 24 24\"\n",
              "       width=\"24px\">\n",
              "    <path d=\"M0 0h24v24H0V0z\" fill=\"none\"/>\n",
              "    <path d=\"M18.56 5.44l.94 2.06.94-2.06 2.06-.94-2.06-.94-.94-2.06-.94 2.06-2.06.94zm-11 1L8.5 8.5l.94-2.06 2.06-.94-2.06-.94L8.5 2.5l-.94 2.06-2.06.94zm10 10l.94 2.06.94-2.06 2.06-.94-2.06-.94-.94-2.06-.94 2.06-2.06.94z\"/><path d=\"M17.41 7.96l-1.37-1.37c-.4-.4-.92-.59-1.43-.59-.52 0-1.04.2-1.43.59L10.3 9.45l-7.72 7.72c-.78.78-.78 2.05 0 2.83L4 21.41c.39.39.9.59 1.41.59.51 0 1.02-.2 1.41-.59l7.78-7.78 2.81-2.81c.8-.78.8-2.07 0-2.86zM5.41 20L4 18.59l7.72-7.72 1.47 1.35L5.41 20z\"/>\n",
              "  </svg>\n",
              "      </button>\n",
              "      \n",
              "  <style>\n",
              "    .colab-df-container {\n",
              "      display:flex;\n",
              "      flex-wrap:wrap;\n",
              "      gap: 12px;\n",
              "    }\n",
              "\n",
              "    .colab-df-convert {\n",
              "      background-color: #E8F0FE;\n",
              "      border: none;\n",
              "      border-radius: 50%;\n",
              "      cursor: pointer;\n",
              "      display: none;\n",
              "      fill: #1967D2;\n",
              "      height: 32px;\n",
              "      padding: 0 0 0 0;\n",
              "      width: 32px;\n",
              "    }\n",
              "\n",
              "    .colab-df-convert:hover {\n",
              "      background-color: #E2EBFA;\n",
              "      box-shadow: 0px 1px 2px rgba(60, 64, 67, 0.3), 0px 1px 3px 1px rgba(60, 64, 67, 0.15);\n",
              "      fill: #174EA6;\n",
              "    }\n",
              "\n",
              "    [theme=dark] .colab-df-convert {\n",
              "      background-color: #3B4455;\n",
              "      fill: #D2E3FC;\n",
              "    }\n",
              "\n",
              "    [theme=dark] .colab-df-convert:hover {\n",
              "      background-color: #434B5C;\n",
              "      box-shadow: 0px 1px 3px 1px rgba(0, 0, 0, 0.15);\n",
              "      filter: drop-shadow(0px 1px 2px rgba(0, 0, 0, 0.3));\n",
              "      fill: #FFFFFF;\n",
              "    }\n",
              "  </style>\n",
              "\n",
              "      <script>\n",
              "        const buttonEl =\n",
              "          document.querySelector('#df-b1879c62-56ce-4906-8bea-25d04f8cb6d5 button.colab-df-convert');\n",
              "        buttonEl.style.display =\n",
              "          google.colab.kernel.accessAllowed ? 'block' : 'none';\n",
              "\n",
              "        async function convertToInteractive(key) {\n",
              "          const element = document.querySelector('#df-b1879c62-56ce-4906-8bea-25d04f8cb6d5');\n",
              "          const dataTable =\n",
              "            await google.colab.kernel.invokeFunction('convertToInteractive',\n",
              "                                                     [key], {});\n",
              "          if (!dataTable) return;\n",
              "\n",
              "          const docLinkHtml = 'Like what you see? Visit the ' +\n",
              "            '<a target=\"_blank\" href=https://colab.research.google.com/notebooks/data_table.ipynb>data table notebook</a>'\n",
              "            + ' to learn more about interactive tables.';\n",
              "          element.innerHTML = '';\n",
              "          dataTable['output_type'] = 'display_data';\n",
              "          await google.colab.output.renderOutput(dataTable, element);\n",
              "          const docLink = document.createElement('div');\n",
              "          docLink.innerHTML = docLinkHtml;\n",
              "          element.appendChild(docLink);\n",
              "        }\n",
              "      </script>\n",
              "    </div>\n",
              "  </div>\n",
              "  "
            ]
          },
          "metadata": {},
          "execution_count": 12
        }
      ],
      "source": [
        "df_tipo_vivienda = df[(df.property_type == \"Casa\") | (df.property_type == \"PH\") | (df.property_type == \"Departamento\")]\n",
        "df_por_ubicacion = df_tipo_vivienda[\n",
        "    (df_tipo_vivienda.place_l2 == \"Capital Federal\") | (df_tipo_vivienda.place_l3 == \"Capital Federal\")]\n",
        "df_cotizacion_usd = df_por_ubicacion[df_por_ubicacion.property_currency == \"USD\"]\n",
        "ds_filtrado = df_cotizacion_usd[df_cotizacion_usd.operation == \"Venta\"]\n",
        "\n",
        "ds_filtrado[[\"place_l2\", \"place_l3\", \"property_currency\", \"property_type\", \"operation\"]]"
      ]
    },
    {
      "cell_type": "markdown",
      "metadata": {
        "pycharm": {
          "name": "#%% md\n"
        },
        "id": "sWNvppvS7GRI"
      },
      "source": [
        "A partir de aquí trabajaremos con el dataset filtrado (`ds_filtrado`)\n",
        "\n",
        "Analizando los tipos de dato de los campos:\n",
        "- Hay 3 campos de fecha, evaluaremos más adelante como tratarlos.\n",
        "- Tenemos latitud y longitd en su formato correcto\n",
        "- Hay una variable place_l6 que no debería ser un número, también analizaremos a que se debe.\n",
        "- La cantidad de habitaciones (rooms y bedrooms) quizás debería tener valores enteros.\n",
        "- El precio tiene un tipo correcto"
      ]
    },
    {
      "cell_type": "markdown",
      "metadata": {
        "pycharm": {
          "name": "#%% md\n"
        },
        "tags": [],
        "id": "DjQytOPx7GRI"
      },
      "source": [
        "## Exploración Inicial"
      ]
    },
    {
      "cell_type": "markdown",
      "metadata": {
        "pycharm": {
          "name": "#%% md\n"
        },
        "tags": [],
        "id": "xQ-tS-Vy7GRI"
      },
      "source": [
        "### Tipos de variable"
      ]
    },
    {
      "cell_type": "code",
      "execution_count": 13,
      "metadata": {
        "pycharm": {
          "name": "#%% md\n"
        },
        "colab": {
          "base_uri": "https://localhost:8080/"
        },
        "id": "TZvW5TxI7GRI",
        "outputId": "dcb01526-f8c7-4612-f7e4-459a97c471b9"
      },
      "outputs": [
        {
          "output_type": "execute_result",
          "data": {
            "text/plain": [
              "{'Categoricas': ['id',\n",
              "  'created_on',\n",
              "  'start_date',\n",
              "  'end_date',\n",
              "  'place_l2',\n",
              "  'place_l3',\n",
              "  'place_l4',\n",
              "  'place_l5',\n",
              "  'place_l6',\n",
              "  'operation',\n",
              "  'property_type',\n",
              "  'property_currency',\n",
              "  'property_title'],\n",
              " 'Ordinales': [],\n",
              " 'Cuantitativas Discretas': ['property_rooms',\n",
              "  'property_bedrooms',\n",
              "  'property_surface_total',\n",
              "  'property_surface_covered'],\n",
              " 'Cuantitativas Continuas': ['property_rooms',\n",
              "  'property_bedrooms',\n",
              "  'property_surface_total',\n",
              "  'property_surface_covered']}"
            ]
          },
          "metadata": {},
          "execution_count": 13
        }
      ],
      "source": [
        "# TODO: Tipos de variables\n",
        "\n",
        "# Categoricas o Cuantitivas\n",
        "    # Fechas -> Start Date y End Date\n",
        "    # Places -> l2, l3, l4, l5, l6\n",
        "    # Operacion\n",
        "    # Tipo de Propiedad\n",
        "    # Currency\n",
        "    # Property Title\n",
        "\n",
        "# Cuasicuantitativas u ordinales\n",
        "\n",
        "# Cuantitativas discretas\n",
        "    # Rooms\n",
        "    # Bedrooms\n",
        "    # Surface -> Total y Covered\n",
        "    # Price\n",
        "\n",
        "# Cuantitativas continuas\n",
        "    # Latitud y Longitud\n",
        "    \n",
        "# Que es el id y created on?\n",
        "\n",
        "categoricas = ['start_date', 'end_date', 'place_l2', 'place_l3', 'place_l4', 'place_l5', 'place_l6', 'operation', 'property_type', 'property_currency', 'property_title']\n",
        "cuantitativas_discretas = ['property_rooms', 'property_bedrooms', 'property_surface_total', 'property_surface_covered']\n",
        "cuantitativas_continuas = ['latitud', 'longitud']\n",
        "tipos_de_variable = {'Categoricas': categoricas, 'Ordinales': [], 'Cuantitativas Discretas': cuantitativas_discretas, 'Cuantitativas Continuas': cuantitativas_discretas}\n",
        "\n",
        "cuantitativas = cuantitativas_discretas + cuantitativas_continuas\n",
        "\n",
        "tipos_de_variable"
      ]
    },
    {
      "cell_type": "markdown",
      "metadata": {
        "pycharm": {
          "name": "#%% md\n"
        },
        "tags": [],
        "id": "cXkfMZem7GRJ"
      },
      "source": [
        "### Fechas\n"
      ]
    },
    {
      "cell_type": "code",
      "execution_count": 14,
      "metadata": {
        "jupyter": {
          "outputs_hidden": false
        },
        "pycharm": {
          "name": "#%%\n"
        },
        "colab": {
          "base_uri": "https://localhost:8080/"
        },
        "id": "vZpvSEqF7GRJ",
        "outputId": "533f7cad-c086-49ce-e062-e38ee1ad3a3d"
      },
      "outputs": [
        {
          "output_type": "execute_result",
          "data": {
            "text/plain": [
              "start_date    0\n",
              "end_date      0\n",
              "created_on    0\n",
              "dtype: int64"
            ]
          },
          "metadata": {},
          "execution_count": 14
        }
      ],
      "source": [
        "ds_filtrado[[\"start_date\", \"end_date\", \"created_on\"]].isna().sum()"
      ]
    },
    {
      "cell_type": "code",
      "execution_count": 15,
      "metadata": {
        "jupyter": {
          "outputs_hidden": false
        },
        "pycharm": {
          "name": "#%%\n"
        },
        "colab": {
          "base_uri": "https://localhost:8080/"
        },
        "id": "jk6p1js47GRJ",
        "outputId": "62216693-816d-408d-fee2-953b21b58531"
      },
      "outputs": [
        {
          "output_type": "execute_result",
          "data": {
            "text/plain": [
              "2021-08-03    836\n",
              "2021-04-30    815\n",
              "2021-12-07    778\n",
              "2021-02-08    645\n",
              "2021-03-26    565\n",
              "             ... \n",
              "2021-12-26     18\n",
              "2021-11-21     18\n",
              "2021-10-23     18\n",
              "2021-12-19     13\n",
              "2021-11-27      1\n",
              "Name: start_date, Length: 204, dtype: int64"
            ]
          },
          "metadata": {},
          "execution_count": 15
        }
      ],
      "source": [
        "ds_filtrado[\"start_date\"].value_counts()"
      ]
    },
    {
      "cell_type": "code",
      "execution_count": 16,
      "metadata": {
        "jupyter": {
          "outputs_hidden": false
        },
        "pycharm": {
          "name": "#%%\n"
        },
        "colab": {
          "base_uri": "https://localhost:8080/"
        },
        "id": "e3u76KGQ7GRK",
        "outputId": "2b2c1d0b-57dd-4311-878a-bd6b4a90c40d"
      },
      "outputs": [
        {
          "output_type": "execute_result",
          "data": {
            "text/plain": [
              "2021-06-05    6411\n",
              "2022-01-27    5107\n",
              "9999-12-31    2632\n",
              "2022-02-09    2155\n",
              "2021-04-15    1054\n",
              "              ... \n",
              "2022-05-09       1\n",
              "2021-02-06       1\n",
              "2022-03-02       1\n",
              "2021-01-23       1\n",
              "2022-08-16       1\n",
              "Name: end_date, Length: 581, dtype: int64"
            ]
          },
          "metadata": {},
          "execution_count": 16
        }
      ],
      "source": [
        "ds_filtrado[\"end_date\"].value_counts()"
      ]
    },
    {
      "cell_type": "code",
      "execution_count": 17,
      "metadata": {
        "jupyter": {
          "outputs_hidden": false
        },
        "pycharm": {
          "name": "#%%\n"
        },
        "colab": {
          "base_uri": "https://localhost:8080/"
        },
        "id": "lOadmeLR7GRK",
        "outputId": "80edab19-90b8-42b6-e5b1-7f15a43f217d"
      },
      "outputs": [
        {
          "output_type": "execute_result",
          "data": {
            "text/plain": [
              "2021-08-03    836\n",
              "2021-04-30    815\n",
              "2021-12-07    778\n",
              "2021-02-08    645\n",
              "2021-03-26    565\n",
              "             ... \n",
              "2021-12-26     18\n",
              "2021-11-21     18\n",
              "2021-10-23     18\n",
              "2021-12-19     13\n",
              "2021-11-27      1\n",
              "Name: created_on, Length: 204, dtype: int64"
            ]
          },
          "metadata": {},
          "execution_count": 17
        }
      ],
      "source": [
        "ds_filtrado[\"created_on\"].value_counts()"
      ]
    },
    {
      "cell_type": "markdown",
      "metadata": {
        "pycharm": {
          "name": "#%% md\n"
        },
        "id": "w-ntrOCi7GRK"
      },
      "source": [
        "Hay un valor extraño en end_date, la fecha 9999-12-31, hay 5041 apariciones de esta fecha"
      ]
    },
    {
      "cell_type": "code",
      "execution_count": 18,
      "metadata": {
        "jupyter": {
          "outputs_hidden": false
        },
        "pycharm": {
          "name": "#%%\n"
        },
        "colab": {
          "base_uri": "https://localhost:8080/"
        },
        "id": "xg54Ypqg7GRL",
        "outputId": "1af25389-13eb-4e69-84b7-61df39a27c47"
      },
      "outputs": [
        {
          "output_type": "execute_result",
          "data": {
            "text/plain": [
              "2021-02-09    132\n",
              "2021-06-24    122\n",
              "2021-02-17     67\n",
              "2021-07-06     66\n",
              "2021-08-06     64\n",
              "             ... \n",
              "2021-05-29      1\n",
              "2021-11-14      1\n",
              "2021-04-04      1\n",
              "2021-05-23      1\n",
              "2021-09-09      1\n",
              "Name: start_date, Length: 162, dtype: int64"
            ]
          },
          "metadata": {},
          "execution_count": 18
        }
      ],
      "source": [
        "ds_filtrado[ds_filtrado.end_date == '9999-12-31']['start_date'].value_counts()"
      ]
    },
    {
      "cell_type": "markdown",
      "metadata": {
        "pycharm": {
          "name": "#%% md\n"
        },
        "id": "_2OG4f5W7GRL"
      },
      "source": [
        "Considerando que todas las fechas son de 2021, y que el dato que falta es el del fin de la publicación (es decir, la casa esta publicada) y a fines de preservar estos datos, traeremos a consideración la duración promedio de cada publicación, calcularemos ese promedio dejando fuera los 5041 casos que presentan la fecha inválida.\n",
        "\n",
        "Tomaremos para el cálculo las fechas convertidas a datetime."
      ]
    },
    {
      "cell_type": "code",
      "execution_count": 19,
      "metadata": {
        "jupyter": {
          "outputs_hidden": false
        },
        "pycharm": {
          "name": "#%%\n"
        },
        "colab": {
          "base_uri": "https://localhost:8080/"
        },
        "id": "xoaIfVWG7GRL",
        "outputId": "ba9ae548-964b-4955-a127-d8a0a63f58fa"
      },
      "outputs": [
        {
          "output_type": "execute_result",
          "data": {
            "text/plain": [
              "count                         42287\n",
              "mean     73 days 19:43:47.105256935\n",
              "std      85 days 17:40:07.091661765\n",
              "min                 0 days 00:00:00\n",
              "25%                14 days 00:00:00\n",
              "50%                46 days 00:00:00\n",
              "75%               100 days 00:00:00\n",
              "max               611 days 00:00:00\n",
              "dtype: object"
            ]
          },
          "metadata": {},
          "execution_count": 19
        }
      ],
      "source": [
        "dias = pd.to_datetime(ds_filtrado[ds_filtrado.end_date != '9999-12-31']['end_date']) - pd.to_datetime(\n",
        "    ds_filtrado[ds_filtrado.end_date != '9999-12-31']['start_date'])\n",
        "dias.describe()"
      ]
    },
    {
      "cell_type": "markdown",
      "metadata": {
        "pycharm": {
          "name": "#%% md\n"
        },
        "id": "56RPQPJj7GRL"
      },
      "source": [
        "El promedio de la duración de las publicaciones es casi de 75 días, asumiremos que las publicaciones con la fecha invalida duraron lo mismo que el promedio y tomaremos como fecha final la fecha de inicio + 75 días."
      ]
    },
    {
      "cell_type": "code",
      "execution_count": 20,
      "metadata": {
        "jupyter": {
          "outputs_hidden": false
        },
        "pycharm": {
          "name": "#%%\n"
        },
        "colab": {
          "base_uri": "https://localhost:8080/"
        },
        "id": "v_MILEGY7GRL",
        "outputId": "22e3e540-7810-4ed7-abc9-33acd2875eda"
      },
      "outputs": [
        {
          "output_type": "stream",
          "name": "stderr",
          "text": [
            "/usr/local/lib/python3.7/dist-packages/pandas/core/indexing.py:1773: SettingWithCopyWarning: \n",
            "A value is trying to be set on a copy of a slice from a DataFrame.\n",
            "Try using .loc[row_indexer,col_indexer] = value instead\n",
            "\n",
            "See the caveats in the documentation: https://pandas.pydata.org/pandas-docs/stable/user_guide/indexing.html#returning-a-view-versus-a-copy\n",
            "  self._setitem_single_column(ilocs[0], value, pi)\n"
          ]
        },
        {
          "output_type": "execute_result",
          "data": {
            "text/plain": [
              "25                           2021-09-26\n",
              "42                           2021-09-26\n",
              "43                           2021-09-28\n",
              "49                           2022-01-05\n",
              "51                           2022-03-09\n",
              "                      ...              \n",
              "219210                       2022-04-20\n",
              "219211                       2022-05-05\n",
              "219288                       2022-04-20\n",
              "219349                       2022-04-20\n",
              "219351    2022-01-04 19:43:47.105256935\n",
              "Name: end_date, Length: 44919, dtype: object"
            ]
          },
          "metadata": {},
          "execution_count": 20
        }
      ],
      "source": [
        "ds_filtrado.loc[ds_filtrado.end_date == '9999-12-31', 'end_date'] = pd.to_datetime(\n",
        "    ds_filtrado[ds_filtrado.end_date == '9999-12-31']['start_date']) + dias.mean()\n",
        "ds_filtrado.end_date"
      ]
    },
    {
      "cell_type": "markdown",
      "metadata": {
        "pycharm": {
          "name": "#%% md\n"
        },
        "id": "ogReq6yS7GRM"
      },
      "source": [
        "Finalmente, como todos los valores son formatos válidos de fecha, podemos convertir sin problemas."
      ]
    },
    {
      "cell_type": "markdown",
      "metadata": {
        "pycharm": {
          "name": "#%% md\n"
        },
        "id": "Itrr6aDY7GRM"
      },
      "source": [
        "### Conversion tipo de dato"
      ]
    },
    {
      "cell_type": "code",
      "execution_count": 21,
      "metadata": {
        "jupyter": {
          "outputs_hidden": false
        },
        "pycharm": {
          "name": "#%%\n"
        },
        "colab": {
          "base_uri": "https://localhost:8080/"
        },
        "id": "RciJRbE57GRM",
        "outputId": "d417187f-1dd3-4605-b2c6-5c10e2958613"
      },
      "outputs": [
        {
          "output_type": "execute_result",
          "data": {
            "text/plain": [
              "id                                  object\n",
              "start_date                  datetime64[ns]\n",
              "end_date                    datetime64[ns]\n",
              "created_on                  datetime64[ns]\n",
              "latitud                            float64\n",
              "longitud                           float64\n",
              "place_l2                            object\n",
              "place_l3                            object\n",
              "place_l4                            object\n",
              "place_l5                            object\n",
              "place_l6                           float64\n",
              "operation                           object\n",
              "property_type                       object\n",
              "property_rooms                     float64\n",
              "property_bedrooms                  float64\n",
              "property_surface_total             float64\n",
              "property_surface_covered           float64\n",
              "property_price                     float64\n",
              "property_currency                   object\n",
              "property_title                      object\n",
              "dtype: object"
            ]
          },
          "metadata": {},
          "execution_count": 21
        }
      ],
      "source": [
        "new_ds = ds_filtrado.copy()\n",
        "new_ds.start_date = pd.to_datetime(new_ds.start_date, infer_datetime_format=True, errors = 'coerce')\n",
        "new_ds.end_date = pd.to_datetime(new_ds.end_date, infer_datetime_format=True, errors = 'coerce')\n",
        "new_ds.created_on = pd.to_datetime(new_ds.created_on, infer_datetime_format=True, errors = 'coerce')\n",
        "ds_filtrado = new_ds.copy()\n",
        "ds_filtrado.dtypes"
      ]
    },
    {
      "cell_type": "markdown",
      "metadata": {
        "pycharm": {
          "name": "#%% md\n"
        },
        "tags": [],
        "id": "AYZ5seRB7GRM"
      },
      "source": [
        "## Variables Cuantitativas: calcular medidas de resumen: media, mediana, q1, q3, moda"
      ]
    },
    {
      "cell_type": "code",
      "execution_count": 22,
      "metadata": {
        "jupyter": {
          "outputs_hidden": false
        },
        "pycharm": {
          "name": "#%%\n"
        },
        "colab": {
          "base_uri": "https://localhost:8080/",
          "height": 363
        },
        "id": "g3RyTSTW7GRM",
        "outputId": "40d8edfa-0dee-4b04-e89d-5774d2344f18"
      },
      "outputs": [
        {
          "output_type": "execute_result",
          "data": {
            "text/plain": [
              "        property_rooms  property_bedrooms  property_surface_total  \\\n",
              "count     44389.000000       39603.000000            42587.000000   \n",
              "mean          2.810449           2.012070              104.705474   \n",
              "std           1.438358           1.176533              929.709780   \n",
              "min           1.000000           1.000000               10.000000   \n",
              "25%           2.000000           1.000000               45.000000   \n",
              "50%           3.000000           2.000000               65.000000   \n",
              "75%           4.000000           3.000000              104.000000   \n",
              "max          36.000000          70.000000           137000.000000   \n",
              "mode          2.000000           1.000000               50.000000   \n",
              "median        3.000000           2.000000               65.000000   \n",
              "\n",
              "        property_surface_covered       latitud      longitud  \n",
              "count               43187.000000  43033.000000  43033.000000  \n",
              "mean                   89.960474    -34.589199    -58.454395  \n",
              "std                  1202.823591      0.196389      0.338157  \n",
              "min                     1.000000    -41.168947    -71.471192  \n",
              "25%                    40.000000    -34.616005    -58.466523  \n",
              "50%                    57.000000    -34.595763    -58.438874  \n",
              "75%                    88.000000    -34.577358    -58.408848  \n",
              "max                217000.000000    -24.770804    -55.496357  \n",
              "mode                   40.000000    -34.604538    -58.424956  \n",
              "median                 57.000000    -34.595763    -58.438874  "
            ],
            "text/html": [
              "\n",
              "  <div id=\"df-6dec57bc-785f-4cdd-af0a-49e375dcbdf6\">\n",
              "    <div class=\"colab-df-container\">\n",
              "      <div>\n",
              "<style scoped>\n",
              "    .dataframe tbody tr th:only-of-type {\n",
              "        vertical-align: middle;\n",
              "    }\n",
              "\n",
              "    .dataframe tbody tr th {\n",
              "        vertical-align: top;\n",
              "    }\n",
              "\n",
              "    .dataframe thead th {\n",
              "        text-align: right;\n",
              "    }\n",
              "</style>\n",
              "<table border=\"1\" class=\"dataframe\">\n",
              "  <thead>\n",
              "    <tr style=\"text-align: right;\">\n",
              "      <th></th>\n",
              "      <th>property_rooms</th>\n",
              "      <th>property_bedrooms</th>\n",
              "      <th>property_surface_total</th>\n",
              "      <th>property_surface_covered</th>\n",
              "      <th>latitud</th>\n",
              "      <th>longitud</th>\n",
              "    </tr>\n",
              "  </thead>\n",
              "  <tbody>\n",
              "    <tr>\n",
              "      <th>count</th>\n",
              "      <td>44389.000000</td>\n",
              "      <td>39603.000000</td>\n",
              "      <td>42587.000000</td>\n",
              "      <td>43187.000000</td>\n",
              "      <td>43033.000000</td>\n",
              "      <td>43033.000000</td>\n",
              "    </tr>\n",
              "    <tr>\n",
              "      <th>mean</th>\n",
              "      <td>2.810449</td>\n",
              "      <td>2.012070</td>\n",
              "      <td>104.705474</td>\n",
              "      <td>89.960474</td>\n",
              "      <td>-34.589199</td>\n",
              "      <td>-58.454395</td>\n",
              "    </tr>\n",
              "    <tr>\n",
              "      <th>std</th>\n",
              "      <td>1.438358</td>\n",
              "      <td>1.176533</td>\n",
              "      <td>929.709780</td>\n",
              "      <td>1202.823591</td>\n",
              "      <td>0.196389</td>\n",
              "      <td>0.338157</td>\n",
              "    </tr>\n",
              "    <tr>\n",
              "      <th>min</th>\n",
              "      <td>1.000000</td>\n",
              "      <td>1.000000</td>\n",
              "      <td>10.000000</td>\n",
              "      <td>1.000000</td>\n",
              "      <td>-41.168947</td>\n",
              "      <td>-71.471192</td>\n",
              "    </tr>\n",
              "    <tr>\n",
              "      <th>25%</th>\n",
              "      <td>2.000000</td>\n",
              "      <td>1.000000</td>\n",
              "      <td>45.000000</td>\n",
              "      <td>40.000000</td>\n",
              "      <td>-34.616005</td>\n",
              "      <td>-58.466523</td>\n",
              "    </tr>\n",
              "    <tr>\n",
              "      <th>50%</th>\n",
              "      <td>3.000000</td>\n",
              "      <td>2.000000</td>\n",
              "      <td>65.000000</td>\n",
              "      <td>57.000000</td>\n",
              "      <td>-34.595763</td>\n",
              "      <td>-58.438874</td>\n",
              "    </tr>\n",
              "    <tr>\n",
              "      <th>75%</th>\n",
              "      <td>4.000000</td>\n",
              "      <td>3.000000</td>\n",
              "      <td>104.000000</td>\n",
              "      <td>88.000000</td>\n",
              "      <td>-34.577358</td>\n",
              "      <td>-58.408848</td>\n",
              "    </tr>\n",
              "    <tr>\n",
              "      <th>max</th>\n",
              "      <td>36.000000</td>\n",
              "      <td>70.000000</td>\n",
              "      <td>137000.000000</td>\n",
              "      <td>217000.000000</td>\n",
              "      <td>-24.770804</td>\n",
              "      <td>-55.496357</td>\n",
              "    </tr>\n",
              "    <tr>\n",
              "      <th>mode</th>\n",
              "      <td>2.000000</td>\n",
              "      <td>1.000000</td>\n",
              "      <td>50.000000</td>\n",
              "      <td>40.000000</td>\n",
              "      <td>-34.604538</td>\n",
              "      <td>-58.424956</td>\n",
              "    </tr>\n",
              "    <tr>\n",
              "      <th>median</th>\n",
              "      <td>3.000000</td>\n",
              "      <td>2.000000</td>\n",
              "      <td>65.000000</td>\n",
              "      <td>57.000000</td>\n",
              "      <td>-34.595763</td>\n",
              "      <td>-58.438874</td>\n",
              "    </tr>\n",
              "  </tbody>\n",
              "</table>\n",
              "</div>\n",
              "      <button class=\"colab-df-convert\" onclick=\"convertToInteractive('df-6dec57bc-785f-4cdd-af0a-49e375dcbdf6')\"\n",
              "              title=\"Convert this dataframe to an interactive table.\"\n",
              "              style=\"display:none;\">\n",
              "        \n",
              "  <svg xmlns=\"http://www.w3.org/2000/svg\" height=\"24px\"viewBox=\"0 0 24 24\"\n",
              "       width=\"24px\">\n",
              "    <path d=\"M0 0h24v24H0V0z\" fill=\"none\"/>\n",
              "    <path d=\"M18.56 5.44l.94 2.06.94-2.06 2.06-.94-2.06-.94-.94-2.06-.94 2.06-2.06.94zm-11 1L8.5 8.5l.94-2.06 2.06-.94-2.06-.94L8.5 2.5l-.94 2.06-2.06.94zm10 10l.94 2.06.94-2.06 2.06-.94-2.06-.94-.94-2.06-.94 2.06-2.06.94z\"/><path d=\"M17.41 7.96l-1.37-1.37c-.4-.4-.92-.59-1.43-.59-.52 0-1.04.2-1.43.59L10.3 9.45l-7.72 7.72c-.78.78-.78 2.05 0 2.83L4 21.41c.39.39.9.59 1.41.59.51 0 1.02-.2 1.41-.59l7.78-7.78 2.81-2.81c.8-.78.8-2.07 0-2.86zM5.41 20L4 18.59l7.72-7.72 1.47 1.35L5.41 20z\"/>\n",
              "  </svg>\n",
              "      </button>\n",
              "      \n",
              "  <style>\n",
              "    .colab-df-container {\n",
              "      display:flex;\n",
              "      flex-wrap:wrap;\n",
              "      gap: 12px;\n",
              "    }\n",
              "\n",
              "    .colab-df-convert {\n",
              "      background-color: #E8F0FE;\n",
              "      border: none;\n",
              "      border-radius: 50%;\n",
              "      cursor: pointer;\n",
              "      display: none;\n",
              "      fill: #1967D2;\n",
              "      height: 32px;\n",
              "      padding: 0 0 0 0;\n",
              "      width: 32px;\n",
              "    }\n",
              "\n",
              "    .colab-df-convert:hover {\n",
              "      background-color: #E2EBFA;\n",
              "      box-shadow: 0px 1px 2px rgba(60, 64, 67, 0.3), 0px 1px 3px 1px rgba(60, 64, 67, 0.15);\n",
              "      fill: #174EA6;\n",
              "    }\n",
              "\n",
              "    [theme=dark] .colab-df-convert {\n",
              "      background-color: #3B4455;\n",
              "      fill: #D2E3FC;\n",
              "    }\n",
              "\n",
              "    [theme=dark] .colab-df-convert:hover {\n",
              "      background-color: #434B5C;\n",
              "      box-shadow: 0px 1px 3px 1px rgba(0, 0, 0, 0.15);\n",
              "      filter: drop-shadow(0px 1px 2px rgba(0, 0, 0, 0.3));\n",
              "      fill: #FFFFFF;\n",
              "    }\n",
              "  </style>\n",
              "\n",
              "      <script>\n",
              "        const buttonEl =\n",
              "          document.querySelector('#df-6dec57bc-785f-4cdd-af0a-49e375dcbdf6 button.colab-df-convert');\n",
              "        buttonEl.style.display =\n",
              "          google.colab.kernel.accessAllowed ? 'block' : 'none';\n",
              "\n",
              "        async function convertToInteractive(key) {\n",
              "          const element = document.querySelector('#df-6dec57bc-785f-4cdd-af0a-49e375dcbdf6');\n",
              "          const dataTable =\n",
              "            await google.colab.kernel.invokeFunction('convertToInteractive',\n",
              "                                                     [key], {});\n",
              "          if (!dataTable) return;\n",
              "\n",
              "          const docLinkHtml = 'Like what you see? Visit the ' +\n",
              "            '<a target=\"_blank\" href=https://colab.research.google.com/notebooks/data_table.ipynb>data table notebook</a>'\n",
              "            + ' to learn more about interactive tables.';\n",
              "          element.innerHTML = '';\n",
              "          dataTable['output_type'] = 'display_data';\n",
              "          await google.colab.output.renderOutput(dataTable, element);\n",
              "          const docLink = document.createElement('div');\n",
              "          docLink.innerHTML = docLinkHtml;\n",
              "          element.appendChild(docLink);\n",
              "        }\n",
              "      </script>\n",
              "    </div>\n",
              "  </div>\n",
              "  "
            ]
          },
          "metadata": {},
          "execution_count": 22
        }
      ],
      "source": [
        "# Variables Cuantitativas: calcular medidas de resumen: media, mediana, q1, q3, moda\n",
        "description_quantitatives = ds_filtrado[cuantitativas].describe()\n",
        "\n",
        "quantitative_mode = ds_filtrado[cuantitativas].mode()\n",
        "quantitative_mode.rename(index={0: \"mode\"}, inplace=True)\n",
        "description_quantitatives = description_quantitatives.append(quantitative_mode)\n",
        "\n",
        "quantitative_median = ds_filtrado[cuantitativas].median()\n",
        "quantitative_median.rename(\"median\", inplace=True)\n",
        "description_quantitatives = description_quantitatives.append(quantitative_median,\n",
        "                                                             ignore_index=False)\n",
        "description_quantitatives"
      ]
    },
    {
      "cell_type": "markdown",
      "metadata": {
        "pycharm": {
          "name": "#%% md\n"
        },
        "tags": [],
        "id": "YSMmrT5e7GRN"
      },
      "source": [
        "## Variables Cualitativas mostrar cantidad de valores posibles, y frecuencias de cada uno."
      ]
    },
    {
      "cell_type": "code",
      "execution_count": 23,
      "metadata": {
        "jupyter": {
          "outputs_hidden": false
        },
        "pycharm": {
          "name": "#%%\n"
        },
        "colab": {
          "base_uri": "https://localhost:8080/",
          "height": 312
        },
        "id": "o9jx5EA27GRN",
        "outputId": "4809ff33-69d7-40d9-b7e0-bb001102a081"
      },
      "outputs": [
        {
          "output_type": "display_data",
          "data": {
            "text/plain": [
              "<IPython.core.display.HTML object>"
            ],
            "text/html": [
              "<style type=\"text/css\">\n",
              "</style>\n",
              "<table id=\"T_9e298_\" style='display:inline'>\n",
              "  <caption>id</caption>\n",
              "  <thead>\n",
              "    <tr>\n",
              "      <th class=\"blank level0\" >&nbsp;</th>\n",
              "      <th class=\"col_heading level0 col0\" >id</th>\n",
              "    </tr>\n",
              "  </thead>\n",
              "  <tbody>\n",
              "    <tr>\n",
              "      <th id=\"T_9e298_level0_row0\" class=\"row_heading level0 row0\" >CyZu6IaZgmQYGk8jmPajCg==</th>\n",
              "      <td id=\"T_9e298_row0_col0\" class=\"data row0 col0\" >1</td>\n",
              "    </tr>\n",
              "    <tr>\n",
              "      <th id=\"T_9e298_level0_row1\" class=\"row_heading level0 row1\" >GAzTETse7f4lOdVxmK6Icw==</th>\n",
              "      <td id=\"T_9e298_row1_col0\" class=\"data row1 col0\" >1</td>\n",
              "    </tr>\n",
              "    <tr>\n",
              "      <th id=\"T_9e298_level0_row2\" class=\"row_heading level0 row2\" >imnxu/53ZTEUDF6B3FVaAg==</th>\n",
              "      <td id=\"T_9e298_row2_col0\" class=\"data row2 col0\" >1</td>\n",
              "    </tr>\n",
              "    <tr>\n",
              "      <th id=\"T_9e298_level0_row3\" class=\"row_heading level0 row3\" >j0hDCjE7b1FrWqKVQCFP/A==</th>\n",
              "      <td id=\"T_9e298_row3_col0\" class=\"data row3 col0\" >1</td>\n",
              "    </tr>\n",
              "    <tr>\n",
              "      <th id=\"T_9e298_level0_row4\" class=\"row_heading level0 row4\" >iZny9vKBECxrkIWfJdtsqw==</th>\n",
              "      <td id=\"T_9e298_row4_col0\" class=\"data row4 col0\" >1</td>\n",
              "    </tr>\n",
              "  </tbody>\n",
              "</table>\n",
              "   <style type=\"text/css\">\n",
              "</style>\n",
              "<table id=\"T_f674d_\" style='display:inline'>\n",
              "  <caption>created_on</caption>\n",
              "  <thead>\n",
              "    <tr>\n",
              "      <th class=\"blank level0\" >&nbsp;</th>\n",
              "      <th class=\"col_heading level0 col0\" >created_on</th>\n",
              "    </tr>\n",
              "  </thead>\n",
              "  <tbody>\n",
              "    <tr>\n",
              "      <th id=\"T_f674d_level0_row0\" class=\"row_heading level0 row0\" >2021-08-03 00:00:00</th>\n",
              "      <td id=\"T_f674d_row0_col0\" class=\"data row0 col0\" >836</td>\n",
              "    </tr>\n",
              "    <tr>\n",
              "      <th id=\"T_f674d_level0_row1\" class=\"row_heading level0 row1\" >2021-04-30 00:00:00</th>\n",
              "      <td id=\"T_f674d_row1_col0\" class=\"data row1 col0\" >815</td>\n",
              "    </tr>\n",
              "    <tr>\n",
              "      <th id=\"T_f674d_level0_row2\" class=\"row_heading level0 row2\" >2021-12-07 00:00:00</th>\n",
              "      <td id=\"T_f674d_row2_col0\" class=\"data row2 col0\" >778</td>\n",
              "    </tr>\n",
              "    <tr>\n",
              "      <th id=\"T_f674d_level0_row3\" class=\"row_heading level0 row3\" >2021-02-08 00:00:00</th>\n",
              "      <td id=\"T_f674d_row3_col0\" class=\"data row3 col0\" >645</td>\n",
              "    </tr>\n",
              "    <tr>\n",
              "      <th id=\"T_f674d_level0_row4\" class=\"row_heading level0 row4\" >2021-03-26 00:00:00</th>\n",
              "      <td id=\"T_f674d_row4_col0\" class=\"data row4 col0\" >565</td>\n",
              "    </tr>\n",
              "  </tbody>\n",
              "</table>\n",
              "   <style type=\"text/css\">\n",
              "</style>\n",
              "<table id=\"T_2440a_\" style='display:inline'>\n",
              "  <caption>start_date</caption>\n",
              "  <thead>\n",
              "    <tr>\n",
              "      <th class=\"blank level0\" >&nbsp;</th>\n",
              "      <th class=\"col_heading level0 col0\" >start_date</th>\n",
              "    </tr>\n",
              "  </thead>\n",
              "  <tbody>\n",
              "    <tr>\n",
              "      <th id=\"T_2440a_level0_row0\" class=\"row_heading level0 row0\" >2021-08-03 00:00:00</th>\n",
              "      <td id=\"T_2440a_row0_col0\" class=\"data row0 col0\" >836</td>\n",
              "    </tr>\n",
              "    <tr>\n",
              "      <th id=\"T_2440a_level0_row1\" class=\"row_heading level0 row1\" >2021-04-30 00:00:00</th>\n",
              "      <td id=\"T_2440a_row1_col0\" class=\"data row1 col0\" >815</td>\n",
              "    </tr>\n",
              "    <tr>\n",
              "      <th id=\"T_2440a_level0_row2\" class=\"row_heading level0 row2\" >2021-12-07 00:00:00</th>\n",
              "      <td id=\"T_2440a_row2_col0\" class=\"data row2 col0\" >778</td>\n",
              "    </tr>\n",
              "    <tr>\n",
              "      <th id=\"T_2440a_level0_row3\" class=\"row_heading level0 row3\" >2021-02-08 00:00:00</th>\n",
              "      <td id=\"T_2440a_row3_col0\" class=\"data row3 col0\" >645</td>\n",
              "    </tr>\n",
              "    <tr>\n",
              "      <th id=\"T_2440a_level0_row4\" class=\"row_heading level0 row4\" >2021-03-26 00:00:00</th>\n",
              "      <td id=\"T_2440a_row4_col0\" class=\"data row4 col0\" >565</td>\n",
              "    </tr>\n",
              "  </tbody>\n",
              "</table>\n",
              "   <style type=\"text/css\">\n",
              "</style>\n",
              "<table id=\"T_d8aff_\" style='display:inline'>\n",
              "  <caption>end_date</caption>\n",
              "  <thead>\n",
              "    <tr>\n",
              "      <th class=\"blank level0\" >&nbsp;</th>\n",
              "      <th class=\"col_heading level0 col0\" >end_date</th>\n",
              "    </tr>\n",
              "  </thead>\n",
              "  <tbody>\n",
              "    <tr>\n",
              "      <th id=\"T_d8aff_level0_row0\" class=\"row_heading level0 row0\" >2021-06-05 00:00:00</th>\n",
              "      <td id=\"T_d8aff_row0_col0\" class=\"data row0 col0\" >6411</td>\n",
              "    </tr>\n",
              "    <tr>\n",
              "      <th id=\"T_d8aff_level0_row1\" class=\"row_heading level0 row1\" >2022-01-27 00:00:00</th>\n",
              "      <td id=\"T_d8aff_row1_col0\" class=\"data row1 col0\" >5107</td>\n",
              "    </tr>\n",
              "    <tr>\n",
              "      <th id=\"T_d8aff_level0_row2\" class=\"row_heading level0 row2\" >2022-02-09 00:00:00</th>\n",
              "      <td id=\"T_d8aff_row2_col0\" class=\"data row2 col0\" >2155</td>\n",
              "    </tr>\n",
              "    <tr>\n",
              "      <th id=\"T_d8aff_level0_row3\" class=\"row_heading level0 row3\" >2021-04-15 00:00:00</th>\n",
              "      <td id=\"T_d8aff_row3_col0\" class=\"data row3 col0\" >1054</td>\n",
              "    </tr>\n",
              "    <tr>\n",
              "      <th id=\"T_d8aff_level0_row4\" class=\"row_heading level0 row4\" >2022-03-09 00:00:00</th>\n",
              "      <td id=\"T_d8aff_row4_col0\" class=\"data row4 col0\" >803</td>\n",
              "    </tr>\n",
              "  </tbody>\n",
              "</table>\n",
              "   <style type=\"text/css\">\n",
              "</style>\n",
              "<table id=\"T_9cfda_\" style='display:inline'>\n",
              "  <caption>place_l2</caption>\n",
              "  <thead>\n",
              "    <tr>\n",
              "      <th class=\"blank level0\" >&nbsp;</th>\n",
              "      <th class=\"col_heading level0 col0\" >place_l2</th>\n",
              "    </tr>\n",
              "  </thead>\n",
              "  <tbody>\n",
              "    <tr>\n",
              "      <th id=\"T_9cfda_level0_row0\" class=\"row_heading level0 row0\" >Capital Federal</th>\n",
              "      <td id=\"T_9cfda_row0_col0\" class=\"data row0 col0\" >44919</td>\n",
              "    </tr>\n",
              "  </tbody>\n",
              "</table>\n",
              "   <style type=\"text/css\">\n",
              "</style>\n",
              "<table id=\"T_d4528_\" style='display:inline'>\n",
              "  <caption>place_l3</caption>\n",
              "  <thead>\n",
              "    <tr>\n",
              "      <th class=\"blank level0\" >&nbsp;</th>\n",
              "      <th class=\"col_heading level0 col0\" >place_l3</th>\n",
              "    </tr>\n",
              "  </thead>\n",
              "  <tbody>\n",
              "    <tr>\n",
              "      <th id=\"T_d4528_level0_row0\" class=\"row_heading level0 row0\" >Palermo</th>\n",
              "      <td id=\"T_d4528_row0_col0\" class=\"data row0 col0\" >6817</td>\n",
              "    </tr>\n",
              "    <tr>\n",
              "      <th id=\"T_d4528_level0_row1\" class=\"row_heading level0 row1\" >Belgrano</th>\n",
              "      <td id=\"T_d4528_row1_col0\" class=\"data row1 col0\" >4332</td>\n",
              "    </tr>\n",
              "    <tr>\n",
              "      <th id=\"T_d4528_level0_row2\" class=\"row_heading level0 row2\" >Caballito</th>\n",
              "      <td id=\"T_d4528_row2_col0\" class=\"data row2 col0\" >3422</td>\n",
              "    </tr>\n",
              "    <tr>\n",
              "      <th id=\"T_d4528_level0_row3\" class=\"row_heading level0 row3\" >Recoleta</th>\n",
              "      <td id=\"T_d4528_row3_col0\" class=\"data row3 col0\" >2922</td>\n",
              "    </tr>\n",
              "    <tr>\n",
              "      <th id=\"T_d4528_level0_row4\" class=\"row_heading level0 row4\" >Villa Urquiza</th>\n",
              "      <td id=\"T_d4528_row4_col0\" class=\"data row4 col0\" >2311</td>\n",
              "    </tr>\n",
              "  </tbody>\n",
              "</table>\n",
              "   <style type=\"text/css\">\n",
              "</style>\n",
              "<table id=\"T_cd897_\" style='display:inline'>\n",
              "  <caption>place_l4</caption>\n",
              "  <thead>\n",
              "    <tr>\n",
              "      <th class=\"blank level0\" >&nbsp;</th>\n",
              "      <th class=\"col_heading level0 col0\" >place_l4</th>\n",
              "    </tr>\n",
              "  </thead>\n",
              "  <tbody>\n",
              "    <tr>\n",
              "      <th id=\"T_cd897_level0_row0\" class=\"row_heading level0 row0\" >Palermo Hollywood</th>\n",
              "      <td id=\"T_cd897_row0_col0\" class=\"data row0 col0\" >762</td>\n",
              "    </tr>\n",
              "    <tr>\n",
              "      <th id=\"T_cd897_level0_row1\" class=\"row_heading level0 row1\" >Palermo Chico</th>\n",
              "      <td id=\"T_cd897_row1_col0\" class=\"data row1 col0\" >544</td>\n",
              "    </tr>\n",
              "    <tr>\n",
              "      <th id=\"T_cd897_level0_row2\" class=\"row_heading level0 row2\" >Palermo Soho</th>\n",
              "      <td id=\"T_cd897_row2_col0\" class=\"data row2 col0\" >363</td>\n",
              "    </tr>\n",
              "    <tr>\n",
              "      <th id=\"T_cd897_level0_row3\" class=\"row_heading level0 row3\" >Palermo Viejo</th>\n",
              "      <td id=\"T_cd897_row3_col0\" class=\"data row3 col0\" >85</td>\n",
              "    </tr>\n",
              "  </tbody>\n",
              "</table>\n",
              "   <style type=\"text/css\">\n",
              "</style>\n",
              "<table id=\"T_08920_\" style='display:inline'>\n",
              "  <caption>place_l5</caption>\n",
              "  <thead>\n",
              "    <tr>\n",
              "      <th class=\"blank level0\" >&nbsp;</th>\n",
              "      <th class=\"col_heading level0 col0\" >place_l5</th>\n",
              "    </tr>\n",
              "  </thead>\n",
              "  <tbody>\n",
              "  </tbody>\n",
              "</table>\n",
              "   <style type=\"text/css\">\n",
              "</style>\n",
              "<table id=\"T_0d124_\" style='display:inline'>\n",
              "  <caption>place_l6</caption>\n",
              "  <thead>\n",
              "    <tr>\n",
              "      <th class=\"blank level0\" >&nbsp;</th>\n",
              "      <th class=\"col_heading level0 col0\" >place_l6</th>\n",
              "    </tr>\n",
              "  </thead>\n",
              "  <tbody>\n",
              "  </tbody>\n",
              "</table>\n",
              "   <style type=\"text/css\">\n",
              "</style>\n",
              "<table id=\"T_11fa4_\" style='display:inline'>\n",
              "  <caption>operation</caption>\n",
              "  <thead>\n",
              "    <tr>\n",
              "      <th class=\"blank level0\" >&nbsp;</th>\n",
              "      <th class=\"col_heading level0 col0\" >operation</th>\n",
              "    </tr>\n",
              "  </thead>\n",
              "  <tbody>\n",
              "    <tr>\n",
              "      <th id=\"T_11fa4_level0_row0\" class=\"row_heading level0 row0\" >Venta</th>\n",
              "      <td id=\"T_11fa4_row0_col0\" class=\"data row0 col0\" >44919</td>\n",
              "    </tr>\n",
              "  </tbody>\n",
              "</table>\n",
              "   <style type=\"text/css\">\n",
              "</style>\n",
              "<table id=\"T_f37d1_\" style='display:inline'>\n",
              "  <caption>property_type</caption>\n",
              "  <thead>\n",
              "    <tr>\n",
              "      <th class=\"blank level0\" >&nbsp;</th>\n",
              "      <th class=\"col_heading level0 col0\" >property_type</th>\n",
              "    </tr>\n",
              "  </thead>\n",
              "  <tbody>\n",
              "    <tr>\n",
              "      <th id=\"T_f37d1_level0_row0\" class=\"row_heading level0 row0\" >Departamento</th>\n",
              "      <td id=\"T_f37d1_row0_col0\" class=\"data row0 col0\" >38727</td>\n",
              "    </tr>\n",
              "    <tr>\n",
              "      <th id=\"T_f37d1_level0_row1\" class=\"row_heading level0 row1\" >PH</th>\n",
              "      <td id=\"T_f37d1_row1_col0\" class=\"data row1 col0\" >4227</td>\n",
              "    </tr>\n",
              "    <tr>\n",
              "      <th id=\"T_f37d1_level0_row2\" class=\"row_heading level0 row2\" >Casa</th>\n",
              "      <td id=\"T_f37d1_row2_col0\" class=\"data row2 col0\" >1965</td>\n",
              "    </tr>\n",
              "  </tbody>\n",
              "</table>\n",
              "   <style type=\"text/css\">\n",
              "</style>\n",
              "<table id=\"T_74746_\" style='display:inline'>\n",
              "  <caption>property_currency</caption>\n",
              "  <thead>\n",
              "    <tr>\n",
              "      <th class=\"blank level0\" >&nbsp;</th>\n",
              "      <th class=\"col_heading level0 col0\" >property_currency</th>\n",
              "    </tr>\n",
              "  </thead>\n",
              "  <tbody>\n",
              "    <tr>\n",
              "      <th id=\"T_74746_level0_row0\" class=\"row_heading level0 row0\" >USD</th>\n",
              "      <td id=\"T_74746_row0_col0\" class=\"data row0 col0\" >44919</td>\n",
              "    </tr>\n",
              "  </tbody>\n",
              "</table>\n",
              "   <style type=\"text/css\">\n",
              "</style>\n",
              "<table id=\"T_2e595_\" style='display:inline'>\n",
              "  <caption>property_title</caption>\n",
              "  <thead>\n",
              "    <tr>\n",
              "      <th class=\"blank level0\" >&nbsp;</th>\n",
              "      <th class=\"col_heading level0 col0\" >property_title</th>\n",
              "    </tr>\n",
              "  </thead>\n",
              "  <tbody>\n",
              "    <tr>\n",
              "      <th id=\"T_2e595_level0_row0\" class=\"row_heading level0 row0\" >Departamento - Palermo</th>\n",
              "      <td id=\"T_2e595_row0_col0\" class=\"data row0 col0\" >764</td>\n",
              "    </tr>\n",
              "    <tr>\n",
              "      <th id=\"T_2e595_level0_row1\" class=\"row_heading level0 row1\" >Departamento - Recoleta</th>\n",
              "      <td id=\"T_2e595_row1_col0\" class=\"data row1 col0\" >694</td>\n",
              "    </tr>\n",
              "    <tr>\n",
              "      <th id=\"T_2e595_level0_row2\" class=\"row_heading level0 row2\" >Departamento - Belgrano</th>\n",
              "      <td id=\"T_2e595_row2_col0\" class=\"data row2 col0\" >579</td>\n",
              "    </tr>\n",
              "    <tr>\n",
              "      <th id=\"T_2e595_level0_row3\" class=\"row_heading level0 row3\" >Departamento - Caballito</th>\n",
              "      <td id=\"T_2e595_row3_col0\" class=\"data row3 col0\" >468</td>\n",
              "    </tr>\n",
              "    <tr>\n",
              "      <th id=\"T_2e595_level0_row4\" class=\"row_heading level0 row4\" >Departamento - Villa Urquiza</th>\n",
              "      <td id=\"T_2e595_row4_col0\" class=\"data row4 col0\" >362</td>\n",
              "    </tr>\n",
              "  </tbody>\n",
              "</table>\n",
              "   "
            ]
          },
          "metadata": {}
        }
      ],
      "source": [
        "qualitative_dataset = ds_filtrado[categoricas]\n",
        "dfs = list(\n",
        "    pd.DataFrame(qualitative_dataset[column].value_counts().head()) for column in qualitative_dataset.columns.tolist())\n",
        "display_side_by_side(dfs, qualitative_dataset.columns.tolist())"
      ]
    },
    {
      "cell_type": "markdown",
      "metadata": {
        "pycharm": {
          "name": "#%% md\n"
        },
        "id": "ARDJ7Q-X7GRN"
      },
      "source": [
        "La tabla muestra varias cosas:\n",
        "- Hay 94249 propiedades habiendo filtrado solo las de Capital Federal, Venta y USD\n",
        "- Hay 80829 departamentos, 9266 PHs y 4154 casas\n",
        "- Hay 14308 propiedades en Palermo\n",
        "- El id de la propiedad es único y no representa nada útil para nuestro procesamiento. Parecería pasar algo similar con el título, lo analizaremos en más detalle más adelante"
      ]
    },
    {
      "cell_type": "markdown",
      "metadata": {
        "pycharm": {
          "name": "#%% md\n"
        },
        "tags": [],
        "id": "wRb16E5s7GRN"
      },
      "source": [
        "## Correlación entre variables"
      ]
    },
    {
      "cell_type": "code",
      "execution_count": 24,
      "metadata": {
        "jupyter": {
          "outputs_hidden": false
        },
        "pycharm": {
          "name": "#%%\n"
        },
        "colab": {
          "base_uri": "https://localhost:8080/",
          "height": 898
        },
        "id": "RbgxfZe87GRN",
        "outputId": "8af1b26e-0908-4b44-a355-71df58ede637"
      },
      "outputs": [
        {
          "output_type": "display_data",
          "data": {
            "text/plain": [
              "<Figure size 1080x1080 with 36 Axes>"
            ],
            "image/png": "[encoded data removed]"
          },
          "metadata": {
            "needs_background": "light"
          }
        }
      ],
      "source": [
        "# Realizar un análisis gráfico de las distribuciones de las variables\n",
        "columns = description_quantitatives.columns.tolist()\n",
        "quantitative_dataset = ds_filtrado[columns]\n",
        "ax = scatter_matrix(quantitative_dataset, alpha=0.7, figsize=(15, 15), s=100)"
      ]
    },
    {
      "cell_type": "code",
      "execution_count": 25,
      "metadata": {
        "jupyter": {
          "outputs_hidden": false
        },
        "pycharm": {
          "name": "#%%\n"
        },
        "colab": {
          "base_uri": "https://localhost:8080/",
          "height": 238
        },
        "id": "aZdia5q07GRO",
        "outputId": "37f35130-8815-4870-87fd-58383921ab11"
      },
      "outputs": [
        {
          "output_type": "execute_result",
          "data": {
            "text/plain": [
              "                          property_rooms  property_bedrooms  \\\n",
              "property_rooms                  1.000000           0.837938   \n",
              "property_bedrooms               0.837938           1.000000   \n",
              "property_surface_total          0.065451           0.061415   \n",
              "property_surface_covered        0.081500           0.090079   \n",
              "latitud                         0.010577           0.005715   \n",
              "longitud                       -0.012234          -0.011442   \n",
              "\n",
              "                          property_surface_total  property_surface_covered  \\\n",
              "property_rooms                          0.065451                  0.081500   \n",
              "property_bedrooms                       0.061415                  0.090079   \n",
              "property_surface_total                  1.000000                  0.394419   \n",
              "property_surface_covered                0.394419                  1.000000   \n",
              "latitud                                 0.018303                  0.002297   \n",
              "longitud                               -0.017648                 -0.001418   \n",
              "\n",
              "                           latitud  longitud  \n",
              "property_rooms            0.010577 -0.012234  \n",
              "property_bedrooms         0.005715 -0.011442  \n",
              "property_surface_total    0.018303 -0.017648  \n",
              "property_surface_covered  0.002297 -0.001418  \n",
              "latitud                   1.000000 -0.288476  \n",
              "longitud                 -0.288476  1.000000  "
            ],
            "text/html": [
              "\n",
              "  <div id=\"df-87ade30e-26e8-4b0e-903d-ca876b0f930b\">\n",
              "    <div class=\"colab-df-container\">\n",
              "      <div>\n",
              "<style scoped>\n",
              "    .dataframe tbody tr th:only-of-type {\n",
              "        vertical-align: middle;\n",
              "    }\n",
              "\n",
              "    .dataframe tbody tr th {\n",
              "        vertical-align: top;\n",
              "    }\n",
              "\n",
              "    .dataframe thead th {\n",
              "        text-align: right;\n",
              "    }\n",
              "</style>\n",
              "<table border=\"1\" class=\"dataframe\">\n",
              "  <thead>\n",
              "    <tr style=\"text-align: right;\">\n",
              "      <th></th>\n",
              "      <th>property_rooms</th>\n",
              "      <th>property_bedrooms</th>\n",
              "      <th>property_surface_total</th>\n",
              "      <th>property_surface_covered</th>\n",
              "      <th>latitud</th>\n",
              "      <th>longitud</th>\n",
              "    </tr>\n",
              "  </thead>\n",
              "  <tbody>\n",
              "    <tr>\n",
              "      <th>property_rooms</th>\n",
              "      <td>1.000000</td>\n",
              "      <td>0.837938</td>\n",
              "      <td>0.065451</td>\n",
              "      <td>0.081500</td>\n",
              "      <td>0.010577</td>\n",
              "      <td>-0.012234</td>\n",
              "    </tr>\n",
              "    <tr>\n",
              "      <th>property_bedrooms</th>\n",
              "      <td>0.837938</td>\n",
              "      <td>1.000000</td>\n",
              "      <td>0.061415</td>\n",
              "      <td>0.090079</td>\n",
              "      <td>0.005715</td>\n",
              "      <td>-0.011442</td>\n",
              "    </tr>\n",
              "    <tr>\n",
              "      <th>property_surface_total</th>\n",
              "      <td>0.065451</td>\n",
              "      <td>0.061415</td>\n",
              "      <td>1.000000</td>\n",
              "      <td>0.394419</td>\n",
              "      <td>0.018303</td>\n",
              "      <td>-0.017648</td>\n",
              "    </tr>\n",
              "    <tr>\n",
              "      <th>property_surface_covered</th>\n",
              "      <td>0.081500</td>\n",
              "      <td>0.090079</td>\n",
              "      <td>0.394419</td>\n",
              "      <td>1.000000</td>\n",
              "      <td>0.002297</td>\n",
              "      <td>-0.001418</td>\n",
              "    </tr>\n",
              "    <tr>\n",
              "      <th>latitud</th>\n",
              "      <td>0.010577</td>\n",
              "      <td>0.005715</td>\n",
              "      <td>0.018303</td>\n",
              "      <td>0.002297</td>\n",
              "      <td>1.000000</td>\n",
              "      <td>-0.288476</td>\n",
              "    </tr>\n",
              "    <tr>\n",
              "      <th>longitud</th>\n",
              "      <td>-0.012234</td>\n",
              "      <td>-0.011442</td>\n",
              "      <td>-0.017648</td>\n",
              "      <td>-0.001418</td>\n",
              "      <td>-0.288476</td>\n",
              "      <td>1.000000</td>\n",
              "    </tr>\n",
              "  </tbody>\n",
              "</table>\n",
              "</div>\n",
              "      <button class=\"colab-df-convert\" onclick=\"convertToInteractive('df-87ade30e-26e8-4b0e-903d-ca876b0f930b')\"\n",
              "              title=\"Convert this dataframe to an interactive table.\"\n",
              "              style=\"display:none;\">\n",
              "        \n",
              "  <svg xmlns=\"http://www.w3.org/2000/svg\" height=\"24px\"viewBox=\"0 0 24 24\"\n",
              "       width=\"24px\">\n",
              "    <path d=\"M0 0h24v24H0V0z\" fill=\"none\"/>\n",
              "    <path d=\"M18.56 5.44l.94 2.06.94-2.06 2.06-.94-2.06-.94-.94-2.06-.94 2.06-2.06.94zm-11 1L8.5 8.5l.94-2.06 2.06-.94-2.06-.94L8.5 2.5l-.94 2.06-2.06.94zm10 10l.94 2.06.94-2.06 2.06-.94-2.06-.94-.94-2.06-.94 2.06-2.06.94z\"/><path d=\"M17.41 7.96l-1.37-1.37c-.4-.4-.92-.59-1.43-.59-.52 0-1.04.2-1.43.59L10.3 9.45l-7.72 7.72c-.78.78-.78 2.05 0 2.83L4 21.41c.39.39.9.59 1.41.59.51 0 1.02-.2 1.41-.59l7.78-7.78 2.81-2.81c.8-.78.8-2.07 0-2.86zM5.41 20L4 18.59l7.72-7.72 1.47 1.35L5.41 20z\"/>\n",
              "  </svg>\n",
              "      </button>\n",
              "      \n",
              "  <style>\n",
              "    .colab-df-container {\n",
              "      display:flex;\n",
              "      flex-wrap:wrap;\n",
              "      gap: 12px;\n",
              "    }\n",
              "\n",
              "    .colab-df-convert {\n",
              "      background-color: #E8F0FE;\n",
              "      border: none;\n",
              "      border-radius: 50%;\n",
              "      cursor: pointer;\n",
              "      display: none;\n",
              "      fill: #1967D2;\n",
              "      height: 32px;\n",
              "      padding: 0 0 0 0;\n",
              "      width: 32px;\n",
              "    }\n",
              "\n",
              "    .colab-df-convert:hover {\n",
              "      background-color: #E2EBFA;\n",
              "      box-shadow: 0px 1px 2px rgba(60, 64, 67, 0.3), 0px 1px 3px 1px rgba(60, 64, 67, 0.15);\n",
              "      fill: #174EA6;\n",
              "    }\n",
              "\n",
              "    [theme=dark] .colab-df-convert {\n",
              "      background-color: #3B4455;\n",
              "      fill: #D2E3FC;\n",
              "    }\n",
              "\n",
              "    [theme=dark] .colab-df-convert:hover {\n",
              "      background-color: #434B5C;\n",
              "      box-shadow: 0px 1px 3px 1px rgba(0, 0, 0, 0.15);\n",
              "      filter: drop-shadow(0px 1px 2px rgba(0, 0, 0, 0.3));\n",
              "      fill: #FFFFFF;\n",
              "    }\n",
              "  </style>\n",
              "\n",
              "      <script>\n",
              "        const buttonEl =\n",
              "          document.querySelector('#df-87ade30e-26e8-4b0e-903d-ca876b0f930b button.colab-df-convert');\n",
              "        buttonEl.style.display =\n",
              "          google.colab.kernel.accessAllowed ? 'block' : 'none';\n",
              "\n",
              "        async function convertToInteractive(key) {\n",
              "          const element = document.querySelector('#df-87ade30e-26e8-4b0e-903d-ca876b0f930b');\n",
              "          const dataTable =\n",
              "            await google.colab.kernel.invokeFunction('convertToInteractive',\n",
              "                                                     [key], {});\n",
              "          if (!dataTable) return;\n",
              "\n",
              "          const docLinkHtml = 'Like what you see? Visit the ' +\n",
              "            '<a target=\"_blank\" href=https://colab.research.google.com/notebooks/data_table.ipynb>data table notebook</a>'\n",
              "            + ' to learn more about interactive tables.';\n",
              "          element.innerHTML = '';\n",
              "          dataTable['output_type'] = 'display_data';\n",
              "          await google.colab.output.renderOutput(dataTable, element);\n",
              "          const docLink = document.createElement('div');\n",
              "          docLink.innerHTML = docLinkHtml;\n",
              "          element.appendChild(docLink);\n",
              "        }\n",
              "      </script>\n",
              "    </div>\n",
              "  </div>\n",
              "  "
            ]
          },
          "metadata": {},
          "execution_count": 25
        }
      ],
      "source": [
        "# Analizar las correlaciones existentes entre las variables.\n",
        "quantitative_dataset.corr()"
      ]
    },
    {
      "cell_type": "code",
      "execution_count": 26,
      "metadata": {
        "jupyter": {
          "outputs_hidden": false
        },
        "pycharm": {
          "name": "#%%\n"
        },
        "colab": {
          "base_uri": "https://localhost:8080/",
          "height": 732
        },
        "id": "vclPu7Nu7GRO",
        "outputId": "fb4238c4-4182-4846-8f23-54386ed21355"
      },
      "outputs": [
        {
          "output_type": "execute_result",
          "data": {
            "text/plain": [
              "<matplotlib.axes._subplots.AxesSubplot at 0x7f28abf00450>"
            ]
          },
          "metadata": {},
          "execution_count": 26
        },
        {
          "output_type": "display_data",
          "data": {
            "text/plain": [
              "<Figure size 720x720 with 2 Axes>"
            ],
            "image/png": "[encoded data removed]"
          },
          "metadata": {
            "needs_background": "light"
          }
        }
      ],
      "source": [
        "# Analizar las correlaciones existentes entre las variables.\n",
        "plt.figure(figsize=(10, 10))\n",
        "sns.heatmap(quantitative_dataset.corr(), annot=True)"
      ]
    },
    {
      "cell_type": "markdown",
      "metadata": {
        "pycharm": {
          "name": "#%% md\n"
        },
        "tags": [],
        "id": "VUsjpj1a7GRO"
      },
      "source": [
        "## Análisis de valores faltantes"
      ]
    },
    {
      "cell_type": "markdown",
      "metadata": {
        "pycharm": {
          "name": "#%% md\n"
        },
        "id": "weWU3i3w7GRO"
      },
      "source": [
        "Ahora analizaremos los datos faltantes del dataset."
      ]
    },
    {
      "cell_type": "markdown",
      "metadata": {
        "pycharm": {
          "name": "#%% md\n"
        },
        "id": "wZopANEa7GRO"
      },
      "source": [
        "### Porcentaje de valores faltantes por columna\n",
        "\n"
      ]
    },
    {
      "cell_type": "code",
      "execution_count": 27,
      "metadata": {
        "jupyter": {
          "outputs_hidden": false
        },
        "pycharm": {
          "name": "#%%\n"
        },
        "colab": {
          "base_uri": "https://localhost:8080/",
          "height": 842
        },
        "id": "yvkcsR4-7GRO",
        "outputId": "fa5759f0-93b5-4c6a-f005-ee128b2a5c0a"
      },
      "outputs": [
        {
          "output_type": "stream",
          "name": "stdout",
          "text": [
            "id                            0.000000\n",
            "start_date                    0.000000\n",
            "end_date                      0.000000\n",
            "created_on                    0.000000\n",
            "latitud                       4.198669\n",
            "longitud                      4.198669\n",
            "place_l2                      0.000000\n",
            "place_l3                      0.569915\n",
            "place_l4                     96.095194\n",
            "place_l5                    100.000000\n",
            "place_l6                    100.000000\n",
            "operation                     0.000000\n",
            "property_type                 0.000000\n",
            "property_rooms                1.179902\n",
            "property_bedrooms            11.834636\n",
            "property_surface_total        5.191567\n",
            "property_surface_covered      3.855829\n",
            "property_price                0.000000\n",
            "property_currency             0.000000\n",
            "property_title                0.000000\n",
            "dtype: float64\n"
          ]
        },
        {
          "output_type": "display_data",
          "data": {
            "text/plain": [
              "<Figure size 864x432 with 1 Axes>"
            ],
            "image/png": "[encoded data removed]"
          },
          "metadata": {
            "needs_background": "light"
          }
        }
      ],
      "source": [
        "# Realizar análisis de datos faltantes a nivel de columna. Graficar para cada variable\n",
        "# el porcentaje de datos faltantes con respecto al total del dataset\n",
        "\n",
        "percent_missing = ds_filtrado.isna().sum() * 100 / len(ds_filtrado)\n",
        "plt.figure(figsize=(12, 6))\n",
        "percent_missing.plot.bar(x='index', rot=45)\n",
        "plt.xlabel(\"Columns\")\n",
        "plt.ylabel(\"Percentage Missing\")\n",
        "rows = ds_filtrado.shape[0]\n",
        "print(ds_filtrado.isna().sum() / rows * 100)"
      ]
    },
    {
      "cell_type": "markdown",
      "metadata": {
        "pycharm": {
          "name": "#%% md\n"
        },
        "id": "b1xPrTvF7GRP"
      },
      "source": [
        "A simple vista podemos ver que las columnas place_l4,place_l5 y place_l6 practicamente no tienen datos, procederemos a eliminarlas."
      ]
    },
    {
      "cell_type": "markdown",
      "metadata": {
        "pycharm": {
          "name": "#%% md\n"
        },
        "id": "Qa9aCO1j7GRP"
      },
      "source": [
        "### Porcentaje de datos faltantes por fila"
      ]
    },
    {
      "cell_type": "code",
      "execution_count": 28,
      "metadata": {
        "jupyter": {
          "outputs_hidden": false
        },
        "pycharm": {
          "name": "#%%\n"
        },
        "colab": {
          "base_uri": "https://localhost:8080/",
          "height": 282
        },
        "id": "lQA7OpAr7GRP",
        "outputId": "59ce4618-af27-4b93-bd34-a04aa6f84a0e"
      },
      "outputs": [
        {
          "output_type": "execute_result",
          "data": {
            "text/plain": [
              "<matplotlib.lines.Line2D at 0x7f28ab760dd0>"
            ]
          },
          "metadata": {},
          "execution_count": 28
        },
        {
          "output_type": "display_data",
          "data": {
            "text/plain": [
              "<Figure size 432x288 with 1 Axes>"
            ],
            "image/png": "[encoded data removed]"
          },
          "metadata": {
            "needs_background": "light"
          }
        }
      ],
      "source": [
        "column_count = ds_filtrado.shape[1]\n",
        "ds_plot = ds_filtrado.T.isna().sum() * 100 / column_count\n",
        "\n",
        "fig, ax = plt.subplots()\n",
        "\n",
        "sns.violinplot(ds_plot, ax=ax)\n",
        "plt.axvline(ds_plot.mean())"
      ]
    },
    {
      "cell_type": "markdown",
      "metadata": {
        "pycharm": {
          "name": "#%% md\n"
        },
        "id": "5eoqO6_H7GRP"
      },
      "source": [
        "Analizaremos nuevamente el porcentaje por fila luego de trabajar con las columnas"
      ]
    },
    {
      "cell_type": "markdown",
      "metadata": {
        "pycharm": {
          "name": "#%% md\n"
        },
        "id": "I6HxiREN7GRP"
      },
      "source": [
        "### Procesado de columnas"
      ]
    },
    {
      "cell_type": "markdown",
      "metadata": {
        "pycharm": {
          "name": "#%% md\n"
        },
        "id": "QOj4MZzK7GRP"
      },
      "source": [
        "Descartaremos la columna id debido a que no es relevante para nuestro análisis. (Tendriamos que explicar por qué)"
      ]
    },
    {
      "cell_type": "code",
      "execution_count": 29,
      "metadata": {
        "jupyter": {
          "outputs_hidden": false
        },
        "pycharm": {
          "name": "#%%\n"
        },
        "colab": {
          "base_uri": "https://localhost:8080/"
        },
        "id": "oj01byHL7GRQ",
        "outputId": "f8a2534e-4427-46b7-aa28-141d422f5f7c"
      },
      "outputs": [
        {
          "output_type": "execute_result",
          "data": {
            "text/plain": [
              "25    CyZu6IaZgmQYGk8jmPajCg==\n",
              "42    d3Z0MblSb2IMBoOBMGJEEQ==\n",
              "43    rL7qPkQnomsMGu2ViS3sBw==\n",
              "49    vuX/ccLAMVml4qWRFcOJUA==\n",
              "51    ZTtSCeqZ3HUgf5jjwEzRcw==\n",
              "Name: id, dtype: object"
            ]
          },
          "metadata": {},
          "execution_count": 29
        }
      ],
      "source": [
        "ds_filtrado['id'].head()"
      ]
    },
    {
      "cell_type": "markdown",
      "metadata": {
        "pycharm": {
          "name": "#%% md\n"
        },
        "id": "6YJfRSAm7GRQ"
      },
      "source": [
        "Como mencionamos anteriormente, evaluaremos descartar place_l4 por la cantidad de valores faltantes que hay."
      ]
    },
    {
      "cell_type": "code",
      "execution_count": 30,
      "metadata": {
        "jupyter": {
          "outputs_hidden": false
        },
        "pycharm": {
          "name": "#%%\n"
        },
        "colab": {
          "base_uri": "https://localhost:8080/"
        },
        "id": "jKYICNoq7GRQ",
        "outputId": "3781c79f-6bad-4820-982b-8d75b583a4a0"
      },
      "outputs": [
        {
          "output_type": "execute_result",
          "data": {
            "text/plain": [
              "Palermo Hollywood    762\n",
              "Palermo Chico        544\n",
              "Palermo Soho         363\n",
              "Palermo Viejo         85\n",
              "Name: place_l4, dtype: int64"
            ]
          },
          "metadata": {},
          "execution_count": 30
        }
      ],
      "source": [
        "ds_filtrado['place_l4'].value_counts()"
      ]
    },
    {
      "cell_type": "markdown",
      "metadata": {
        "pycharm": {
          "name": "#%% md\n"
        },
        "id": "l651-BdR7GRQ"
      },
      "source": [
        "Como son pocas observaciones y todas corresponden al barrio de Palermo, descartaremos esta columna."
      ]
    },
    {
      "cell_type": "code",
      "execution_count": 31,
      "metadata": {
        "jupyter": {
          "outputs_hidden": false
        },
        "pycharm": {
          "name": "#%%\n"
        },
        "colab": {
          "base_uri": "https://localhost:8080/"
        },
        "id": "x2pRwzKl7GRQ",
        "outputId": "cf762f24-07e9-425d-ffb1-960816073574"
      },
      "outputs": [
        {
          "output_type": "execute_result",
          "data": {
            "text/plain": [
              "['start_date',\n",
              " 'end_date',\n",
              " 'created_on',\n",
              " 'latitud',\n",
              " 'longitud',\n",
              " 'place_l2',\n",
              " 'place_l3',\n",
              " 'operation',\n",
              " 'property_type',\n",
              " 'property_rooms',\n",
              " 'property_bedrooms',\n",
              " 'property_surface_total',\n",
              " 'property_surface_covered',\n",
              " 'property_price',\n",
              " 'property_currency',\n",
              " 'property_title']"
            ]
          },
          "metadata": {},
          "execution_count": 31
        }
      ],
      "source": [
        "properties_dataset = ds_filtrado.drop(axis=\"columns\", columns=[\"id\", \"place_l4\", \"place_l5\", \"place_l6\"]).copy()\n",
        "properties_dataset.columns.tolist()"
      ]
    },
    {
      "cell_type": "markdown",
      "metadata": {
        "pycharm": {
          "name": "#%% md\n"
        },
        "id": "7O7hImTy7GRR"
      },
      "source": [
        "### Analisis de faltantes por fila\n",
        "\n",
        "Ahora que nos quedamos solo con las columnas deseadas, analizaremos nuevamente los datos faltantes por fila."
      ]
    },
    {
      "cell_type": "code",
      "execution_count": 32,
      "metadata": {
        "jupyter": {
          "outputs_hidden": false
        },
        "pycharm": {
          "name": "#%%\n"
        },
        "colab": {
          "base_uri": "https://localhost:8080/",
          "height": 282
        },
        "id": "8dqBrBvi7GRR",
        "outputId": "e77d2bfd-7fc1-4627-cace-b6c00bacecbd"
      },
      "outputs": [
        {
          "output_type": "execute_result",
          "data": {
            "text/plain": [
              "<matplotlib.lines.Line2D at 0x7f28ac290850>"
            ]
          },
          "metadata": {},
          "execution_count": 32
        },
        {
          "output_type": "display_data",
          "data": {
            "text/plain": [
              "<Figure size 432x288 with 1 Axes>"
            ],
            "image/png": "[encoded data removed]"
          },
          "metadata": {
            "needs_background": "light"
          }
        }
      ],
      "source": [
        "column_count = ds_filtrado.shape[1]\n",
        "ds_plot = properties_dataset.T.isna().sum() * 100 / column_count\n",
        "\n",
        "sns.violinplot(ds_plot)\n",
        "plt.axvline(ds_plot.mean())"
      ]
    },
    {
      "cell_type": "markdown",
      "metadata": {
        "pycharm": {
          "name": "#%% md\n"
        },
        "id": "G8LNzPNB7GRR"
      },
      "source": [
        "Como podemos ver en el gráfico, la cantidad de datos faltantes bajó muchísimo al eliminar las columnas. Tenemos algunos registros con 5 o 10% de datos faltantes, veremos que falta"
      ]
    },
    {
      "cell_type": "code",
      "execution_count": 33,
      "metadata": {
        "jupyter": {
          "outputs_hidden": false
        },
        "pycharm": {
          "name": "#%%\n"
        },
        "colab": {
          "base_uri": "https://localhost:8080/"
        },
        "id": "33CAoilt7GRR",
        "outputId": "884fbb7e-2662-48e9-f07d-2064011d4fd6"
      },
      "outputs": [
        {
          "output_type": "execute_result",
          "data": {
            "text/plain": [
              "0.0     34353\n",
              "5.0      7835\n",
              "10.0     2226\n",
              "15.0      408\n",
              "20.0       59\n",
              "25.0       37\n",
              "30.0        1\n",
              "Name: row_missing_data, dtype: int64"
            ]
          },
          "metadata": {},
          "execution_count": 33
        }
      ],
      "source": [
        "properties_dataset['row_missing_data'] = properties_dataset.T.isna().sum() * 100 / column_count\n",
        "properties_dataset['row_missing_data'].value_counts()"
      ]
    },
    {
      "cell_type": "code",
      "execution_count": 34,
      "metadata": {
        "jupyter": {
          "outputs_hidden": false
        },
        "pycharm": {
          "name": "#%%\n"
        },
        "colab": {
          "base_uri": "https://localhost:8080/"
        },
        "id": "HfdCprko7GRR",
        "outputId": "05a81889-619c-43f5-81ed-f690df0ac852"
      },
      "outputs": [
        {
          "output_type": "stream",
          "name": "stdout",
          "text": [
            "La cantidad de faltantes segun porcentaje representan\n",
            "0.0     76.477660\n",
            "5.0     17.442508\n",
            "10.0     4.955587\n",
            "15.0     0.908302\n",
            "20.0     0.131348\n",
            "25.0     0.082370\n",
            "30.0     0.002226\n",
            "Name: row_missing_data, dtype: float64\n"
          ]
        }
      ],
      "source": [
        "dataset_perc = properties_dataset['row_missing_data'].value_counts() * 100 / properties_dataset.shape[0]\n",
        "print(f\"La cantidad de faltantes segun porcentaje representan\\n{dataset_perc}\")"
      ]
    },
    {
      "cell_type": "code",
      "execution_count": 35,
      "metadata": {
        "jupyter": {
          "outputs_hidden": false
        },
        "pycharm": {
          "name": "#%%\n"
        },
        "colab": {
          "base_uri": "https://localhost:8080/"
        },
        "id": "6BwTAS5L7GRS",
        "outputId": "fe2c883d-e211-4598-8d46-6f0f74236139"
      },
      "outputs": [
        {
          "output_type": "execute_result",
          "data": {
            "text/plain": [
              "start_date                     0\n",
              "end_date                       0\n",
              "created_on                     0\n",
              "latitud                        0\n",
              "longitud                       0\n",
              "place_l2                       0\n",
              "place_l3                      92\n",
              "operation                      0\n",
              "property_type                  0\n",
              "property_rooms               178\n",
              "property_bedrooms           4367\n",
              "property_surface_total      1857\n",
              "property_surface_covered    1341\n",
              "property_price                 0\n",
              "property_currency              0\n",
              "property_title                 0\n",
              "row_missing_data               0\n",
              "dtype: int64"
            ]
          },
          "metadata": {},
          "execution_count": 35
        }
      ],
      "source": [
        "properties_dataset.groupby('row_missing_data').get_group(5).isna().sum()"
      ]
    },
    {
      "cell_type": "code",
      "execution_count": 36,
      "metadata": {
        "jupyter": {
          "outputs_hidden": false
        },
        "pycharm": {
          "name": "#%%\n"
        },
        "colab": {
          "base_uri": "https://localhost:8080/"
        },
        "id": "x4d-r21r7GRS",
        "outputId": "8cb0e545-291e-4808-9167-3bb015ce880b"
      },
      "outputs": [
        {
          "output_type": "execute_result",
          "data": {
            "text/plain": [
              "start_date                     0\n",
              "end_date                       0\n",
              "created_on                     0\n",
              "latitud                     1459\n",
              "longitud                    1459\n",
              "place_l2                       0\n",
              "place_l3                      61\n",
              "operation                      0\n",
              "property_type                  0\n",
              "property_rooms               233\n",
              "property_bedrooms            660\n",
              "property_surface_total       311\n",
              "property_surface_covered     269\n",
              "property_price                 0\n",
              "property_currency              0\n",
              "property_title                 0\n",
              "row_missing_data               0\n",
              "dtype: int64"
            ]
          },
          "metadata": {},
          "execution_count": 36
        }
      ],
      "source": [
        "properties_dataset.groupby('row_missing_data').get_group(10).isna().sum()"
      ]
    },
    {
      "cell_type": "code",
      "execution_count": 37,
      "metadata": {
        "colab": {
          "base_uri": "https://localhost:8080/",
          "height": 494
        },
        "id": "6Tm_XvoN7GRS",
        "outputId": "7206ef50-914a-41dd-ad5c-405933f36ad3"
      },
      "outputs": [
        {
          "output_type": "execute_result",
          "data": {
            "text/plain": [
              "Text(0, 0.5, 'Updated Percentage Missing')"
            ]
          },
          "metadata": {},
          "execution_count": 37
        },
        {
          "output_type": "display_data",
          "data": {
            "text/plain": [
              "<Figure size 864x432 with 1 Axes>"
            ],
            "image/png": "[encoded data removed]"
          },
          "metadata": {
            "needs_background": "light"
          }
        }
      ],
      "source": [
        "ds_filtrado.property_bedrooms.dropna(inplace=True)\n",
        "ds_filtrado.property_rooms.dropna(inplace=True)\n",
        "percent_missing = properties_dataset.isna().sum() * 100 / len(ds_filtrado)\n",
        "plt.figure(figsize=(12, 6))\n",
        "percent_missing.plot.bar(x='index', rot=45)\n",
        "plt.xlabel(\"Columns\")\n",
        "plt.ylabel(\"Updated Percentage Missing\")\n",
        "# Entender bien que datos estan faltando, yo encontre varios N/A y trate de eliminarlos pero no estoy viendo el cambio todavia\n",
        "\n",
        "# Miren esto:\n",
        "\n",
        "#for x in ds_filtrado.property_rooms:\n",
        "#    print(x)"
      ]
    },
    {
      "cell_type": "markdown",
      "metadata": {
        "pycharm": {
          "name": "#%% md\n"
        },
        "id": "c40fEnmD7GRS"
      },
      "source": [
        "# TODO: Decidir que hacer con estos grupos, creo que lo mejor es ignorarlos y ya. Al de 10% le falta la latitud y la longitud"
      ]
    },
    {
      "cell_type": "markdown",
      "metadata": {
        "pycharm": {
          "name": "#%% md\n"
        },
        "id": "-ZVcLOyQ7GRS"
      },
      "source": [
        "## Graficos\n"
      ]
    },
    {
      "cell_type": "markdown",
      "metadata": {
        "id": "8bDcXpQR46Oh",
        "jp-MarkdownHeadingCollapsed": true,
        "pycharm": {
          "name": "#%% md\n"
        },
        "tags": []
      },
      "source": [
        "## Limpieza"
      ]
    },
    {
      "cell_type": "markdown",
      "metadata": {
        "id": "v6hJ4C_i46Oh",
        "jp-MarkdownHeadingCollapsed": true,
        "pycharm": {
          "name": "#%% md\n"
        },
        "tags": []
      },
      "source": [
        "## Graficos\n"
      ]
    }
  ],
  "metadata": {
    "colab": {
      "provenance": []
    },
    "kernelspec": {
      "display_name": "Python 3 (ipykernel)",
      "language": "python",
      "name": "python3"
    },
    "language_info": {
      "codemirror_mode": {
        "name": "ipython",
        "version": 3
      },
      "file_extension": ".py",
      "mimetype": "text/x-python",
      "name": "python",
      "nbconvert_exporter": "python",
      "pygments_lexer": "ipython3",
      "version": "3.10.4"
    }
  },
  "nbformat": 4,
  "nbformat_minor": 0
}