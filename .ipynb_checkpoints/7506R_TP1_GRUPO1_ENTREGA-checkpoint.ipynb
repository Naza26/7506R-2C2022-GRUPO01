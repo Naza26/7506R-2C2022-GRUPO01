{
 "cells": [
  {
   "cell_type": "markdown",
   "metadata": {
    "id": "2AgtT6A646OQ",
    "pycharm": {
     "name": "#%% md\n"
    },
    "tags": []
   },
   "source": [
    "# 7506 - Trabajo práctico 1\n"
   ]
  },
  {
   "cell_type": "markdown",
   "metadata": {
    "id": "JiW5g17D46OU",
    "pycharm": {
     "name": "#%% md\n"
    },
    "tags": []
   },
   "source": [
    "##### Librerías"
   ]
  },
  {
   "cell_type": "code",
   "execution_count": 1,
   "metadata": {
    "collapsed": false,
    "jupyter": {
     "outputs_hidden": false
    },
    "pycharm": {
     "name": "#%%\n"
    }
   },
   "outputs": [],
   "source": [
    "import pandas as pd\n",
    "from pandas.plotting import scatter_matrix\n",
    "import numpy as np\n",
    "import matplotlib.pyplot as plt\n",
    "import seaborn as sns\n",
    "import re\n",
    "#import geopandas as gpd\n",
    "\n",
    "import warnings\n",
    "\n",
    "warnings.simplefilter(action='ignore', category=FutureWarning)\n",
    "warnings.simplefilter(action='ignore', category=UserWarning)"
   ]
  },
  {
   "cell_type": "code",
   "execution_count": 2,
   "metadata": {
    "collapsed": false,
    "jupyter": {
     "outputs_hidden": false
    },
    "pycharm": {
     "name": "#%%\n"
    }
   },
   "outputs": [],
   "source": [
    "from IPython.display import display, HTML\n",
    "\n",
    "\n",
    "def display_side_by_side(dfs: list, captions: list):\n",
    "    \"\"\"Display tables side by side to save vertical space\n",
    "    Input:\n",
    "        dfs: list of pandas.DataFrame\n",
    "        captions: list of table captions\n",
    "    \"\"\"\n",
    "    output = \"\"\n",
    "    combined = dict(zip(captions, dfs))\n",
    "    for caption, df in combined.items():\n",
    "        output += df.style.set_table_attributes(\"style='display:inline'\").set_caption(caption)._repr_html_()\n",
    "        output += \"\\xa0\\xa0\\xa0\"\n",
    "    display(HTML(output))"
   ]
  },
  {
   "cell_type": "code",
   "execution_count": null,
   "metadata": {
    "collapsed": false,
    "jupyter": {
     "outputs_hidden": false
    },
    "pycharm": {
     "name": "#%%\n"
    }
   },
   "outputs": [],
   "source": [
    "complete_dataset = pd.read_csv(\"./properati_argentina_2021.csv\")\n",
    "df = complete_dataset.copy()"
   ]
  },
  {
   "cell_type": "markdown",
   "metadata": {
    "jp-MarkdownHeadingCollapsed": true,
    "pycharm": {
     "name": "#%% md\n"
    },
    "tags": []
   },
   "source": [
    "## Análisis Exploratorio y Preprocesamiento de Datos"
   ]
  },
  {
   "cell_type": "markdown",
   "metadata": {
    "pycharm": {
     "name": "#%% md\n"
    }
   },
   "source": [
    "Primero, observaremos un poco los datos que tiene el dataset"
   ]
  },
  {
   "cell_type": "markdown",
   "metadata": {
    "pycharm": {
     "name": "#%% md\n"
    }
   },
   "source": [
    "**Primeras 5 observaciones**"
   ]
  },
  {
   "cell_type": "code",
   "execution_count": null,
   "metadata": {
    "collapsed": false,
    "jupyter": {
     "outputs_hidden": false
    },
    "pycharm": {
     "name": "#%%\n"
    }
   },
   "outputs": [],
   "source": [
    "df.head()"
   ]
  },
  {
   "cell_type": "code",
   "execution_count": null,
   "metadata": {},
   "outputs": [],
   "source": [
    "df.tail()"
   ]
  },
  {
   "cell_type": "code",
   "execution_count": null,
   "metadata": {
    "collapsed": false,
    "jupyter": {
     "outputs_hidden": false
    },
    "pycharm": {
     "name": "#%%\n"
    }
   },
   "outputs": [],
   "source": [
    "print(f\"El dataset tiene {df.shape[0]} filas y {df.shape[1]} columnas\")"
   ]
  },
  {
   "cell_type": "code",
   "execution_count": null,
   "metadata": {
    "collapsed": false,
    "jupyter": {
     "outputs_hidden": false
    },
    "pycharm": {
     "name": "#%%\n"
    }
   },
   "outputs": [],
   "source": [
    "df.describe()"
   ]
  },
  {
   "cell_type": "code",
   "execution_count": null,
   "metadata": {
    "collapsed": false,
    "jupyter": {
     "outputs_hidden": false
    },
    "pycharm": {
     "name": "#%%\n"
    }
   },
   "outputs": [],
   "source": [
    "df.info()"
   ]
  },
  {
   "cell_type": "code",
   "execution_count": null,
   "metadata": {
    "collapsed": false,
    "jupyter": {
     "outputs_hidden": false
    },
    "pycharm": {
     "name": "#%%\n"
    }
   },
   "outputs": [],
   "source": [
    "df.dtypes"
   ]
  },
  {
   "cell_type": "markdown",
   "metadata": {
    "pycharm": {
     "name": "#%% md\n"
    },
    "tags": []
   },
   "source": [
    "## Filtrado inicial del Dataset\n",
    "Como trabajaremos con un universo acotado de propiedades, haremos una selección inicial de las publicaciones que nos interesa analizar:\n",
    "\n",
    "Como primer paso hay que filtrar las observaciones que su tipo de vivienda sea: Casa, PH o Departamento.\n",
    "\n",
    "Luego filtramos la ubicacion quedandonos unicamente con las propiedades de Capital Federal.\n",
    "\n",
    "A continuación, consideraremos solo las que esten cotizadas en dolares.\n",
    "\n",
    "Y finalmente, tomamos solo las que sean ventas"
   ]
  },
  {
   "cell_type": "code",
   "execution_count": null,
   "metadata": {
    "collapsed": false,
    "jupyter": {
     "outputs_hidden": false
    },
    "pycharm": {
     "name": "#%%\n"
    }
   },
   "outputs": [],
   "source": [
    "df_tipo_vivienda = df[(df.property_type == \"Casa\") | (df.property_type == \"PH\") | (df.property_type == \"Departamento\")]\n",
    "df_por_ubicacion = df_tipo_vivienda[\n",
    "    (df_tipo_vivienda.place_l2 == \"Capital Federal\") | (df_tipo_vivienda.place_l3 == \"Capital Federal\")]\n",
    "df_cotizacion_usd = df_por_ubicacion[df_por_ubicacion.property_currency == \"USD\"]\n",
    "ds_filtrado = df_cotizacion_usd[df_cotizacion_usd.operation == \"Venta\"]\n",
    "\n",
    "ds_filtrado[[\"place_l2\", \"place_l3\", \"property_currency\", \"property_type\", \"operation\"]]"
   ]
  },
  {
   "cell_type": "markdown",
   "metadata": {
    "pycharm": {
     "name": "#%% md\n"
    }
   },
   "source": [
    "A partir de aquí trabajaremos con el dataset filtrado (`ds_filtrado`)\n",
    "\n",
    "Analizando los tipos de dato de los campos:\n",
    "- Hay 3 campos de fecha, evaluaremos más adelante como tratarlos.\n",
    "- Tenemos latitud y longitd en su formato correcto\n",
    "- Hay una variable place_l6 que no debería ser un número, también analizaremos a que se debe.\n",
    "- La cantidad de habitaciones (rooms y bedrooms) quizás debería tener valores enteros.\n",
    "- El precio tiene un tipo correcto"
   ]
  },
  {
   "cell_type": "markdown",
   "metadata": {
    "pycharm": {
     "name": "#%% md\n"
    },
    "tags": []
   },
   "source": [
    "## Exploración Inicial"
   ]
  },
  {
   "cell_type": "markdown",
   "metadata": {
    "jp-MarkdownHeadingCollapsed": true,
    "pycharm": {
     "name": "#%% md\n"
    },
    "tags": []
   },
   "source": [
    "### Tipos de variable"
   ]
  },
  {
   "cell_type": "markdown",
   "metadata": {},
   "source": [
    "Realizamos el analisis del tipo de variable a mano a partir de lo visto en clase.\n",
    "Tomamos [este](https://docs.google.com/document/d/1NaSWukuFd0hgr3OVQQwll6FAcET8KqbgqpiQ4dpGmOQ/edit) documento como referencia.\n",
    "Por otro lado, notar que la variable ID no se encuentra clasificada aca dado que es un campo univoco que luego vamos a eliminar del dataset."
   ]
  },
  {
   "cell_type": "code",
   "execution_count": null,
   "metadata": {
    "pycharm": {
     "name": "#%% md\n"
    }
   },
   "outputs": [],
   "source": [
    "categoricas = ['start_date', 'end_date', 'created_on', 'place_l2', 'place_l3', 'place_l4', 'place_l5', 'place_l6', 'operation', 'property_type', 'property_currency', 'property_title']\n",
    "cuantitativas_discretas = ['property_rooms', 'property_bedrooms', 'property_surface_total', 'property_surface_covered', '', '', '', '', '', '', '', '']\n",
    "cuantitativas_continuas = ['latitud', 'longitud', None, None, None, None, None, None, None, None, None]\n",
    "ordinales = [None, None, None, None, None, None, None, None, None, None, None, None]\n",
    "tipos_de_variable = {'Categoricas': categoricas, 'Ordinales': ordinales, 'Cuantitativas Discretas': cuantitativas_discretas, 'Cuantitativas Continuas': cuantitativas_discretas}\n",
    "\n",
    "df_tipos_de_variable = pd.DataFrame(tipos_de_variable)\n",
    "df_tipos_de_variable\n"
   ]
  },
  {
   "cell_type": "markdown",
   "metadata": {
    "jp-MarkdownHeadingCollapsed": true,
    "pycharm": {
     "name": "#%% md\n"
    },
    "tags": []
   },
   "source": [
    "### Fechas\n"
   ]
  },
  {
   "cell_type": "code",
   "execution_count": null,
   "metadata": {
    "collapsed": false,
    "jupyter": {
     "outputs_hidden": false
    },
    "pycharm": {
     "name": "#%%\n"
    }
   },
   "outputs": [],
   "source": [
    "ds_filtrado[[\"start_date\", \"end_date\", \"created_on\"]].isna().sum()"
   ]
  },
  {
   "cell_type": "code",
   "execution_count": null,
   "metadata": {
    "collapsed": false,
    "jupyter": {
     "outputs_hidden": false
    },
    "pycharm": {
     "name": "#%%\n"
    }
   },
   "outputs": [],
   "source": [
    "ds_filtrado[\"start_date\"].value_counts()"
   ]
  },
  {
   "cell_type": "code",
   "execution_count": null,
   "metadata": {
    "collapsed": false,
    "jupyter": {
     "outputs_hidden": false
    },
    "pycharm": {
     "name": "#%%\n"
    }
   },
   "outputs": [],
   "source": [
    "ds_filtrado[\"end_date\"].value_counts()"
   ]
  },
  {
   "cell_type": "code",
   "execution_count": null,
   "metadata": {
    "collapsed": false,
    "jupyter": {
     "outputs_hidden": false
    },
    "pycharm": {
     "name": "#%%\n"
    }
   },
   "outputs": [],
   "source": [
    "ds_filtrado[\"created_on\"].value_counts()"
   ]
  },
  {
   "cell_type": "markdown",
   "metadata": {
    "pycharm": {
     "name": "#%% md\n"
    }
   },
   "source": [
    "Hay un valor extraño en end_date, la fecha 9999-12-31, hay 5041 apariciones de esta fecha"
   ]
  },
  {
   "cell_type": "code",
   "execution_count": null,
   "metadata": {
    "collapsed": false,
    "jupyter": {
     "outputs_hidden": false
    },
    "pycharm": {
     "name": "#%%\n"
    }
   },
   "outputs": [],
   "source": [
    "ds_filtrado[ds_filtrado.end_date == '9999-12-31']['start_date'].value_counts()"
   ]
  },
  {
   "cell_type": "markdown",
   "metadata": {
    "pycharm": {
     "name": "#%% md\n"
    }
   },
   "source": [
    "Considerando que todas las fechas son de 2021, y que el dato que falta es el del fin de la publicación (es decir, la casa esta publicada) y a fines de preservar estos datos, traeremos a consideración la duración promedio de cada publicación, calcularemos ese promedio dejando fuera los 5041 casos que presentan la fecha inválida.\n",
    "\n",
    "Tomaremos para el cálculo las fechas convertidas a datetime."
   ]
  },
  {
   "cell_type": "code",
   "execution_count": null,
   "metadata": {
    "collapsed": false,
    "jupyter": {
     "outputs_hidden": false
    },
    "pycharm": {
     "name": "#%%\n"
    }
   },
   "outputs": [],
   "source": [
    "dias = pd.to_datetime(ds_filtrado[ds_filtrado.end_date != '9999-12-31']['end_date']) - pd.to_datetime(\n",
    "    ds_filtrado[ds_filtrado.end_date != '9999-12-31']['start_date'])\n",
    "dias.describe()"
   ]
  },
  {
   "cell_type": "markdown",
   "metadata": {
    "pycharm": {
     "name": "#%% md\n"
    }
   },
   "source": [
    "El promedio de la duración de las publicaciones es casi de 75 días, asumiremos que las publicaciones con la fecha invalida duraron lo mismo que el promedio y tomaremos como fecha final la fecha de inicio + 75 días."
   ]
  },
  {
   "cell_type": "code",
   "execution_count": null,
   "metadata": {
    "collapsed": false,
    "jupyter": {
     "outputs_hidden": false
    },
    "pycharm": {
     "name": "#%%\n"
    }
   },
   "outputs": [],
   "source": [
    "ds_filtrado.loc[ds_filtrado.end_date == '9999-12-31', 'end_date'] = pd.to_datetime(\n",
    "    ds_filtrado[ds_filtrado.end_date == '9999-12-31']['start_date']) + dias.mean()\n",
    "ds_filtrado.end_date"
   ]
  },
  {
   "cell_type": "markdown",
   "metadata": {
    "pycharm": {
     "name": "#%% md\n"
    }
   },
   "source": [
    "Finalmente, como todos los valores son formatos válidos de fecha, podemos convertir sin problemas."
   ]
  },
  {
   "cell_type": "markdown",
   "metadata": {
    "jp-MarkdownHeadingCollapsed": true,
    "pycharm": {
     "name": "#%% md\n"
    },
    "tags": []
   },
   "source": [
    "### Conversion tipo de dato"
   ]
  },
  {
   "cell_type": "code",
   "execution_count": null,
   "metadata": {
    "collapsed": false,
    "jupyter": {
     "outputs_hidden": false
    },
    "pycharm": {
     "name": "#%%\n"
    }
   },
   "outputs": [],
   "source": [
    "new_ds = ds_filtrado.copy()\n",
    "new_ds.start_date = pd.to_datetime(new_ds.start_date, infer_datetime_format=True, errors = 'coerce')\n",
    "new_ds.end_date = pd.to_datetime(new_ds.end_date, infer_datetime_format=True, errors = 'coerce')\n",
    "new_ds.created_on = pd.to_datetime(new_ds.created_on, infer_datetime_format=True, errors = 'coerce')\n",
    "ds_filtrado = new_ds.copy()\n",
    "ds_filtrado.dtypes"
   ]
  },
  {
   "cell_type": "markdown",
   "metadata": {
    "jp-MarkdownHeadingCollapsed": true,
    "pycharm": {
     "name": "#%% md\n"
    },
    "tags": []
   },
   "source": [
    "## Variables Cuantitativas: calcular medidas de resumen: media, mediana, q1, q3, moda"
   ]
  },
  {
   "cell_type": "code",
   "execution_count": null,
   "metadata": {
    "collapsed": false,
    "jupyter": {
     "outputs_hidden": false
    },
    "pycharm": {
     "name": "#%%\n"
    }
   },
   "outputs": [],
   "source": [
    "# Variables Cuantitativas: calcular medidas de resumen: media, mediana, q1, q3, moda\n",
    "description_quantitatives = ds_filtrado.describe()\n",
    "quantitative_mode = ds_filtrado[description_quantitatives.columns].mode()\n",
    "quantitative_mode.rename(index={0: \"mode\"}, inplace=True)\n",
    "description_quantitatives = description_quantitatives.append(quantitative_mode)\n",
    "description_quantitatives = description_quantitatives.append(ds_filtrado.median().rename(\"median\"),\n",
    "                                                             ignore_index=False)\n",
    "description_quantitatives"
   ]
  },
  {
   "cell_type": "markdown",
   "metadata": {
    "jp-MarkdownHeadingCollapsed": true,
    "pycharm": {
     "name": "#%% md\n"
    },
    "tags": []
   },
   "source": [
    "## Variables Cualitativas mostrar cantidad de valores posibles, y frecuencias de cada uno."
   ]
  },
  {
   "cell_type": "code",
   "execution_count": null,
   "metadata": {
    "collapsed": false,
    "jupyter": {
     "outputs_hidden": false
    },
    "pycharm": {
     "name": "#%%\n"
    }
   },
   "outputs": [],
   "source": [
    "# Refer to: https://github.com/Naza26/7506R-2C2022-GRUPO01/issues/9 \n",
    "\n",
    "qualitative_dataset = ds_filtrado.drop(axis=\"columns\", columns=description_quantitatives.columns)\n",
    "qualitative_dataset.drop(axis=\"columns\", columns=[\"start_date\", \"end_date\", \"created_on\"], inplace=True)\n",
    "\n",
    "dfs = list(\n",
    "    pd.DataFrame(qualitative_dataset[column].value_counts().head()) for column in qualitative_dataset.columns.tolist())\n",
    "display_side_by_side(dfs, qualitative_dataset.columns.tolist())"
   ]
  },
  {
   "cell_type": "markdown",
   "metadata": {
    "pycharm": {
     "name": "#%% md\n"
    }
   },
   "source": [
    "La tabla muestra varias cosas:\n",
    "- Hay 94249 propiedades habiendo filtrado solo las de Capital Federal, Venta y USD\n",
    "- Hay 80829 departamentos, 9266 PHs y 4154 casas\n",
    "- Hay 14308 propiedades en Palermo\n",
    "- El id de la propiedad es único y no representa nada útil para nuestro procesamiento. Parecería pasar algo similar con el título, lo analizaremos en más detalle más adelante"
   ]
  },
  {
   "cell_type": "markdown",
   "metadata": {
    "jp-MarkdownHeadingCollapsed": true,
    "pycharm": {
     "name": "#%% md\n"
    },
    "tags": []
   },
   "source": [
    "## Correlación entre variables"
   ]
  },
  {
   "cell_type": "code",
   "execution_count": null,
   "metadata": {
    "collapsed": false,
    "jupyter": {
     "outputs_hidden": false
    },
    "pycharm": {
     "name": "#%%\n"
    }
   },
   "outputs": [],
   "source": [
    "# Realizar un análisis gráfico de las distribuciones de las variables\n",
    "columns = description_quantitatives.columns.tolist()\n",
    "quantitative_dataset = ds_filtrado[columns].drop(axis=\"columns\", columns=[\"place_l5\", \"place_l6\"])\n",
    "ax = scatter_matrix(quantitative_dataset, alpha=0.7, figsize=(15, 15), s=100)"
   ]
  },
  {
   "cell_type": "code",
   "execution_count": null,
   "metadata": {
    "collapsed": false,
    "jupyter": {
     "outputs_hidden": false
    },
    "pycharm": {
     "name": "#%%\n"
    }
   },
   "outputs": [],
   "source": [
    "# Analizar las correlaciones existentes entre las variables.\n",
    "quantitative_dataset.corr()"
   ]
  },
  {
   "cell_type": "code",
   "execution_count": null,
   "metadata": {
    "collapsed": false,
    "jupyter": {
     "outputs_hidden": false
    },
    "pycharm": {
     "name": "#%%\n"
    }
   },
   "outputs": [],
   "source": [
    "# Analizar las correlaciones existentes entre las variables.\n",
    "plt.figure(figsize=(10, 10))\n",
    "sns.heatmap(quantitative_dataset.corr(), annot=True)"
   ]
  },
  {
   "cell_type": "markdown",
   "metadata": {
    "pycharm": {
     "name": "#%% md\n"
    },
    "tags": []
   },
   "source": [
    "## Análisis de valores faltantes"
   ]
  },
  {
   "cell_type": "markdown",
   "metadata": {
    "pycharm": {
     "name": "#%% md\n"
    }
   },
   "source": [
    "Ahora analizaremos los datos faltantes del dataset."
   ]
  },
  {
   "cell_type": "markdown",
   "metadata": {
    "pycharm": {
     "name": "#%% md\n"
    }
   },
   "source": [
    "### Porcentaje de valores faltantes por columna\n",
    "\n"
   ]
  },
  {
   "cell_type": "code",
   "execution_count": null,
   "metadata": {
    "collapsed": false,
    "jupyter": {
     "outputs_hidden": false
    },
    "pycharm": {
     "name": "#%%\n"
    }
   },
   "outputs": [],
   "source": [
    "# Realizar análisis de datos faltantes a nivel de columna. Graficar para cada variable\n",
    "# el porcentaje de datos faltantes con respecto al total del dataset\n",
    "\n",
    "percent_missing = ds_filtrado.isna().sum() * 100 / len(ds_filtrado)\n",
    "plt.figure(figsize=(12, 6))\n",
    "percent_missing.plot.bar(x='index', rot=45)\n",
    "plt.xlabel(\"Columns\")\n",
    "plt.ylabel(\"Percentage Missing\")\n",
    "rows = ds_filtrado.shape[0]\n",
    "print(ds_filtrado.isna().sum() / rows * 100)"
   ]
  },
  {
   "cell_type": "markdown",
   "metadata": {
    "pycharm": {
     "name": "#%% md\n"
    }
   },
   "source": [
    "A simple vista podemos ver que las columnas place_l4,place_l5 y place_l6 practicamente no tienen datos, procederemos a eliminarlas."
   ]
  },
  {
   "cell_type": "markdown",
   "metadata": {
    "pycharm": {
     "name": "#%% md\n"
    }
   },
   "source": [
    "### Porcentaje de datos faltantes por fila"
   ]
  },
  {
   "cell_type": "code",
   "execution_count": null,
   "metadata": {
    "collapsed": false,
    "jupyter": {
     "outputs_hidden": false
    },
    "pycharm": {
     "name": "#%%\n"
    }
   },
   "outputs": [],
   "source": [
    "column_count = ds_filtrado.shape[1]\n",
    "ds_plot = ds_filtrado.T.isna().sum() * 100 / column_count\n",
    "\n",
    "fig, ax = plt.subplots()\n",
    "\n",
    "sns.violinplot(ds_plot, ax=ax)\n",
    "plt.axvline(ds_plot.mean())\n",
    "plt.xlabel(\"Missing % of data per row\")\n",
    "plt.ylabel(\"Count\")"
   ]
  },
  {
   "cell_type": "markdown",
   "metadata": {
    "pycharm": {
     "name": "#%% md\n"
    }
   },
   "source": [
    "Analizaremos nuevamente el porcentaje por fila luego de trabajar con las columnas"
   ]
  },
  {
   "cell_type": "markdown",
   "metadata": {
    "pycharm": {
     "name": "#%% md\n"
    }
   },
   "source": [
    "### Procesado de columnas"
   ]
  },
  {
   "cell_type": "markdown",
   "metadata": {
    "pycharm": {
     "name": "#%% md\n"
    }
   },
   "source": [
    "Descartaremos la columna id debido a que no es relevante para nuestro análisis. (Tendriamos que explicar por qué)"
   ]
  },
  {
   "cell_type": "code",
   "execution_count": null,
   "metadata": {
    "collapsed": false,
    "jupyter": {
     "outputs_hidden": false
    },
    "pycharm": {
     "name": "#%%\n"
    }
   },
   "outputs": [],
   "source": [
    "ds_filtrado['id'].head()"
   ]
  },
  {
   "cell_type": "markdown",
   "metadata": {
    "pycharm": {
     "name": "#%% md\n"
    }
   },
   "source": [
    "Como mencionamos anteriormente, evaluaremos descartar place_l4 por la cantidad de valores faltantes que hay."
   ]
  },
  {
   "cell_type": "code",
   "execution_count": null,
   "metadata": {
    "collapsed": false,
    "jupyter": {
     "outputs_hidden": false
    },
    "pycharm": {
     "name": "#%%\n"
    }
   },
   "outputs": [],
   "source": [
    "ds_filtrado['place_l4'].value_counts()"
   ]
  },
  {
   "cell_type": "markdown",
   "metadata": {
    "pycharm": {
     "name": "#%% md\n"
    }
   },
   "source": [
    "Como son pocas observaciones y todas corresponden al barrio de Palermo, descartaremos esta columna."
   ]
  },
  {
   "cell_type": "code",
   "execution_count": null,
   "metadata": {
    "collapsed": false,
    "jupyter": {
     "outputs_hidden": false
    },
    "pycharm": {
     "name": "#%%\n"
    }
   },
   "outputs": [],
   "source": [
    "properties_dataset = ds_filtrado.drop(axis=\"columns\", columns=[\"id\", \"place_l4\", \"place_l5\", \"place_l6\"]).copy()\n",
    "properties_dataset.columns.tolist()"
   ]
  },
  {
   "cell_type": "markdown",
   "metadata": {
    "pycharm": {
     "name": "#%% md\n"
    }
   },
   "source": [
    "### Analisis de faltantes por fila\n",
    "\n",
    "Ahora que nos quedamos solo con las columnas deseadas, analizaremos nuevamente los datos faltantes por fila."
   ]
  },
  {
   "cell_type": "code",
   "execution_count": null,
   "metadata": {
    "collapsed": false,
    "jupyter": {
     "outputs_hidden": false
    },
    "pycharm": {
     "name": "#%%\n"
    }
   },
   "outputs": [],
   "source": [
    "column_count = ds_filtrado.shape[1]\n",
    "ds_plot = properties_dataset.T.isna().sum() * 100 / column_count\n",
    "\n",
    "sns.violinplot(ds_plot)\n",
    "plt.axvline(ds_plot.mean())"
   ]
  },
  {
   "cell_type": "markdown",
   "metadata": {
    "pycharm": {
     "name": "#%% md\n"
    }
   },
   "source": [
    "Como podemos ver en el gráfico, la cantidad de datos faltantes bajó muchísimo al eliminar las columnas. Tenemos algunos registros con 5 o 10% de datos faltantes, veremos que falta"
   ]
  },
  {
   "cell_type": "code",
   "execution_count": null,
   "metadata": {
    "collapsed": false,
    "jupyter": {
     "outputs_hidden": false
    },
    "pycharm": {
     "name": "#%%\n"
    }
   },
   "outputs": [],
   "source": [
    "properties_dataset['row_missing_data'] = properties_dataset.T.isna().sum() * 100 / column_count\n",
    "print(f\"Cantidad de publicaciones por % de datos faltantes\\n{properties_dataset['row_missing_data'].value_counts()}\")"
   ]
  },
  {
   "cell_type": "code",
   "execution_count": null,
   "metadata": {
    "collapsed": false,
    "jupyter": {
     "outputs_hidden": false
    },
    "pycharm": {
     "name": "#%%\n"
    }
   },
   "outputs": [],
   "source": [
    "dataset_perc = properties_dataset['row_missing_data'].value_counts() * 100 / properties_dataset.shape[0]\n",
    "print(f\"La cantidad de faltantes segun porcentaje representan\\n{dataset_perc}\")"
   ]
  },
  {
   "cell_type": "code",
   "execution_count": null,
   "metadata": {
    "collapsed": false,
    "jupyter": {
     "outputs_hidden": false
    },
    "pycharm": {
     "name": "#%%\n"
    }
   },
   "outputs": [],
   "source": [
    "properties_dataset.groupby('row_missing_data').get_group(5).isna().sum().plot.bar()"
   ]
  },
  {
   "cell_type": "code",
   "execution_count": null,
   "metadata": {
    "collapsed": false,
    "jupyter": {
     "outputs_hidden": false
    },
    "pycharm": {
     "name": "#%%\n"
    }
   },
   "outputs": [],
   "source": [
    "properties_dataset.groupby('row_missing_data').get_group(10).isna().sum().plot.bar()"
   ]
  },
  {
   "cell_type": "code",
   "execution_count": null,
   "metadata": {},
   "outputs": [],
   "source": [
    "percent_missing = properties_dataset.isna().sum() * 100 / len(ds_filtrado)\n",
    "plt.figure(figsize=(12, 6))\n",
    "percent_missing.plot.bar(x='index', rot=45)\n",
    "plt.xlabel(\"Columns\")\n",
    "plt.ylabel(\"Percentage Missing\")\n",
    "rows = ds_filtrado.shape[0]\n",
    "print(ds_filtrado.isna().sum() / rows * 100)"
   ]
  },
  {
   "cell_type": "code",
   "execution_count": null,
   "metadata": {},
   "outputs": [],
   "source": [
    "new_ds = ds_filtrado.groupby(['property_type', 'property_title'])\n",
    "pd.crosstab(ds_filtrado.property_rooms, ds_filtrado.property_bedrooms)\n",
    "df = ds_filtrado[['property_rooms', 'property_title']].reset_index()\n",
    "#[df.iloc[i,j] for i,j in zip(*np.where(pd.isnull(df)))]\n",
    "missing_cols, missing_rows = (\n",
    "    (df.isnull().sum(x) | df.eq('').sum(x))\n",
    "    .loc[lambda x: x.gt(0)].index\n",
    "    for x in (0, 1)\n",
    ")\n",
    "# https://regex101.com/r/DDmwrS/1\n",
    "new_df = df.loc[missing_rows, missing_cols]\n",
    "\n",
    "dic_titulos = {}\n",
    "\n",
    "for t in df.loc[new_df.index].property_title:\n",
    "    if str(new_df.index) not in dic_titulos:\n",
    "        dic_titulos[str(new_df.index)] = df.loc[new_df.index].property_title\n",
    "\n",
    "\n",
    "print(new_df.index)\n",
    "print(df.loc[new_df.index].property_title)\n"
   ]
  },
  {
   "cell_type": "code",
   "execution_count": null,
   "metadata": {},
   "outputs": [],
   "source": [
    "pd.crosstab(ds_filtrado.property_rooms, ds_filtrado.property_title)reset_index"
   ]
  },
  {
   "cell_type": "markdown",
   "metadata": {},
   "source": [
    "Arreglar los datos faltantes seria eliminar las filas que tengan valores nan?\n",
    "Porque en base al grafico vemos que tenemos variables que tienen datos nan y esos valores no serian recuperables, podemos quedarnos con el ds como esta o eliminar esas rows."
   ]
  },
  {
   "cell_type": "markdown",
   "metadata": {
    "pycharm": {
     "name": "#%% md\n"
    }
   },
   "source": [
    "# TODO: Decidir que hacer con estos grupos, creo que lo mejor es ignorarlos y ya. Al de 10% le falta la latitud y la longitud"
   ]
  },
  {
   "cell_type": "markdown",
   "metadata": {
    "jp-MarkdownHeadingCollapsed": true,
    "pycharm": {
     "name": "#%% md\n"
    },
    "tags": []
   },
   "source": [
    "## Graficos\n"
   ]
  },
  {
   "cell_type": "markdown",
   "metadata": {
    "id": "8bDcXpQR46Oh",
    "jp-MarkdownHeadingCollapsed": true,
    "pycharm": {
     "name": "#%% md\n"
    },
    "tags": []
   },
   "source": [
    "## Limpieza"
   ]
  },
  {
   "cell_type": "markdown",
   "metadata": {
    "id": "v6hJ4C_i46Oh",
    "jp-MarkdownHeadingCollapsed": true,
    "pycharm": {
     "name": "#%% md\n"
    },
    "tags": []
   },
   "source": [
    "## Graficos\n"
   ]
  }
 ],
 "metadata": {
  "colab": {
   "provenance": []
  },
  "kernelspec": {
   "display_name": "Python 3 (ipykernel)",
   "language": "python",
   "name": "python3"
  },
  "language_info": {
   "codemirror_mode": {
    "name": "ipython",
    "version": 3
   },
   "file_extension": ".py",
   "mimetype": "text/x-python",
   "name": "python",
   "nbconvert_exporter": "python",
   "pygments_lexer": "ipython3",
   "version": "3.10.4"
  }
 },
 "nbformat": 4,
 "nbformat_minor": 4
}
